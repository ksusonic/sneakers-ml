{
 "cells": [
  {
   "cell_type": "markdown",
   "source": [
    "## Мержер дубликатов"
   ],
   "metadata": {
    "collapsed": false
   },
   "id": "8aa3e191c59b0b2e"
  },
  {
   "cell_type": "code",
   "execution_count": 1,
   "id": "initial_id",
   "metadata": {
    "collapsed": true,
    "ExecuteTime": {
     "end_time": "2023-11-05T18:06:51.065367Z",
     "start_time": "2023-11-05T18:06:50.515355Z"
    }
   },
   "outputs": [],
   "source": [
    "import pandas as pd"
   ]
  },
  {
   "cell_type": "code",
   "execution_count": 2,
   "outputs": [],
   "source": [
    "from src.data.s3 import S3Storage\n",
    "\n",
    "storage = S3Storage()"
   ],
   "metadata": {
    "collapsed": false,
    "ExecuteTime": {
     "end_time": "2023-11-05T18:07:31.143486Z",
     "start_time": "2023-11-05T18:07:30.877296Z"
    }
   },
   "id": "6531d92c598547dd"
  },
  {
   "cell_type": "code",
   "execution_count": 12,
   "outputs": [
    {
     "data": {
      "text/plain": "brand\nNike                      1691\nAir Jordan                 787\nadidas                     645\nConverse                   341\nOnitsuka Tiger             312\nAsics                      273\nNew Balance                269\nVans                       159\nLi-Ning                    147\nPuma                        87\nUnder Armour                44\nANTA                        20\nReebok                      19\nUGG                         14\nMizuno                      12\nSkechers                    11\nSALOMON                     11\nHOKA ONE ONE                 9\nCrocs                        8\nGUCCI                        6\nOFF-WHITE                    4\nCASIO                        4\nDIOR                         3\nFear of God Essentials       3\nOn Running                   3\nDr. Martens                  3\nAlexander McQueen            2\n361 Degrees                  2\nBalenciaga                   2\nMaison MIHARA YASUHIRO       2\nMitchell & Ness              1\nTHE NORTH FACE               1\nPalm Angels                  1\nFILA                         1\nRigorer                      1\nPRADA                        1\nFendi                        1\nName: count, dtype: int64"
     },
     "execution_count": 12,
     "metadata": {},
     "output_type": "execute_result"
    }
   ],
   "source": [
    "# superkicks\n",
    "\n",
    "data = pd.read_csv('../data/raw/kickscrew/metadata.csv')\n",
    "data['brand'].value_counts()"
   ],
   "metadata": {
    "collapsed": false,
    "ExecuteTime": {
     "end_time": "2023-11-05T18:10:53.361089Z",
     "start_time": "2023-11-05T18:10:53.304725Z"
    }
   },
   "id": "9b4059eb60c0726b"
  },
  {
   "cell_type": "code",
   "execution_count": 13,
   "outputs": [
    {
     "data": {
      "text/plain": "brand\nNew Balance                       128\nConverse                           49\nAdidas                             38\nVans                               31\nasics                              29\n                                 ... \nConverse x Fragment                 1\nSaucony x Colour Plus Companie      1\nAdidas x Bad Bunny                  1\nSean Wotherspoon x Adidas           1\nPuma x P.A.M.                       1\nName: count, Length: 72, dtype: int64"
     },
     "execution_count": 13,
     "metadata": {},
     "output_type": "execute_result"
    }
   ],
   "source": [
    "# highsnobiety\n",
    "\n",
    "data = pd.read_csv('../data/raw/highsnobiety/metadata.csv')\n",
    "data['brand'].value_counts()"
   ],
   "metadata": {
    "collapsed": false,
    "ExecuteTime": {
     "end_time": "2023-11-05T18:11:23.671238Z",
     "start_time": "2023-11-05T18:11:23.638745Z"
    }
   },
   "id": "547af98bf3e8f89c"
  },
  {
   "cell_type": "code",
   "execution_count": 21,
   "outputs": [
    {
     "data": {
      "text/plain": "brand\nKarhu                   146\nNike                    131\nPUMA Sportstyle          87\nNew Balance              77\nPuma Sportstyle          65\nadidas Originals         64\nSaucony                  54\nReebok Classics          50\nHi-Tec                   43\nVans                     40\nAutry                    37\nKangaROOS                33\nVeja                     31\nSalomon                  29\nMizuno                   26\nDiadora                  19\nAsics                    18\nStepney Workers Club     17\nClarks                   17\nSergio Tacchini          11\nEtonic                    9\nAdidas Originals          8\nETONIC                    8\nKangaroos                 7\nJordan                    4\nSaucony Originals         4\nNike Skateboarding        4\nHi-tec                    2\nMerrell                   2\nConverse                  2\nWarrior                   2\nNew balance               1\nVANS                      1\nnike                      1\nadidas originals          1\nName: count, dtype: int64"
     },
     "execution_count": 21,
     "metadata": {},
     "output_type": "execute_result"
    }
   ],
   "source": [
    "# sneakerbaas\n",
    "\n",
    "data = pd.read_csv('../data/raw/sneakerbaas/metadata.csv')\n",
    "data['brand'].value_counts()"
   ],
   "metadata": {
    "collapsed": false,
    "ExecuteTime": {
     "end_time": "2023-11-05T18:16:16.796340Z",
     "start_time": "2023-11-05T18:16:16.774460Z"
    }
   },
   "id": "b3f558819257c65"
  },
  {
   "cell_type": "code",
   "execution_count": null,
   "outputs": [],
   "source": [],
   "metadata": {
    "collapsed": false
   },
   "id": "e9caa57f2653d0d3"
  }
 ],
 "metadata": {
  "kernelspec": {
   "display_name": "Python 3",
   "language": "python",
   "name": "python3"
  },
  "language_info": {
   "codemirror_mode": {
    "name": "ipython",
    "version": 2
   },
   "file_extension": ".py",
   "mimetype": "text/x-python",
   "name": "python",
   "nbconvert_exporter": "python",
   "pygments_lexer": "ipython2",
   "version": "2.7.6"
  }
 },
 "nbformat": 4,
 "nbformat_minor": 5
}
