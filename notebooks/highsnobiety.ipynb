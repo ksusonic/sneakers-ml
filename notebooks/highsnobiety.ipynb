{
 "cells": [
  {
   "cell_type": "markdown",
   "id": "630ecbc4-9579-469b-bcda-7f80d81d2837",
   "metadata": {},
   "source": [
    "## Algolia - CRM-система со встроенным ранжированием поисков пользователей. \n",
    "\n",
    "Используется в:\n",
    "- https://www.highsnobiety.com/en-us/shop/category/footwear/sneakers/\n",
    "- https://www.kickscrew.com/collections/\n",
    "\n",
    "Search api reference: https://www.algolia.com/doc/api-reference/api-methods/search\n",
    "\n",
    "### highsnobiety\n",
    "Доступные категории:\n",
    "\n",
    "- category/footwear/sneakers - все кроссовки\n",
    "- brand/adidas/sneakers - по бренду\n",
    "\n",
    "### kickscrew\n",
    "Доступные категории:\n",
    "\n",
    "- TODO\n",
    "- TODO\n",
    " "
   ]
  },
  {
   "cell_type": "code",
   "execution_count": 1,
   "id": "cdd354b4-026c-4947-b7ad-0460c607fa3c",
   "metadata": {
    "ExecuteTime": {
     "end_time": "2023-10-19T18:00:32.892315Z",
     "start_time": "2023-10-19T18:00:32.130291Z"
    }
   },
   "outputs": [],
   "source": [
    "# !pip install algoliasearch pandas beautifulsoup\n",
    "\n",
    "import os\n",
    "import requests\n",
    "import boto3\n",
    "import pandas as pd\n",
    "\n",
    "from tqdm import tqdm\n",
    "from algoliasearch.search_client import SearchClient\n",
    "from bs4 import BeautifulSoup\n",
    "from fake_useragent import UserAgent\n",
    "from typing import Callable"
   ]
  },
  {
   "cell_type": "code",
   "execution_count": 2,
   "id": "9541a37c-29ec-4892-b734-e7f3daee6365",
   "metadata": {
    "ExecuteTime": {
     "end_time": "2023-10-19T18:00:32.911440Z",
     "start_time": "2023-10-19T18:00:32.897791Z"
    }
   },
   "outputs": [],
   "source": [
    "class ParsePipeline:\n",
    "\n",
    "    def __init__(self, website_name, bucket_name, parser: Callable):\n",
    "        self.WEBSITE_NAME = website_name\n",
    "        self.parser = parser\n",
    "        self.unique_items = set()\n",
    "        self.bucket_name = bucket_name\n",
    "        self.s3 = boto3.session.Session().client(\n",
    "            service_name='s3',\n",
    "            endpoint_url='https://storage.yandexcloud.net'\n",
    "        )\n",
    "\n",
    "    @staticmethod\n",
    "    def get_image_extension(url: str) -> str:\n",
    "        return '.' + url[-5:].split('.')[-1]\n",
    "\n",
    "    # def save_to_filesystem(self, brand: str, name: str, image_url: str) -> str:\n",
    "    #     photo_folder = os.path.join(self.WEBSITE_NAME, \"photos\", brand)\n",
    "    #     os.makedirs(photo_folder, exist_ok=True)\n",
    "    # \n",
    "    #     image_path = os.path.join(photo_folder, name)\n",
    "    #     img_binary = requests.get(image_url).content\n",
    "    # \n",
    "    #     os.makedirs(photo_folder, exist_ok=True)\n",
    "    #     with open(image_path, \"wb\") as f:\n",
    "    #         f.write(img_binary)\n",
    "    #     return image_path\n",
    "\n",
    "    def upload_to_s3(self, brand: str, name: str, image_url: str) -> str:\n",
    "        img_binary = requests.get(image_url).content\n",
    "        image_path = os.path.join('data', self.WEBSITE_NAME, brand, name)\n",
    "        self.s3.put_object(Bucket=self.bucket_name, Key=image_path, Body=img_binary)\n",
    "        print(f\"uploaded: {image_path}\")\n",
    "        return image_path\n",
    "\n",
    "    def process_item(self, item: dict) -> dict:\n",
    "        return self.parser(item)\n",
    "\n",
    "    def parse(self, filters: str, pages: int = 10, hit_per_page: int = 100) -> list:\n",
    "        full_metadata = []\n",
    "        for page in range(1, pages):\n",
    "            resp = index.search('', {\n",
    "                'filters': filters,\n",
    "                'page': page,\n",
    "                'hitsPerPage': hit_per_page\n",
    "            })\n",
    "            print(f'processing page {page} with {len(resp[\"hits\"])} items')\n",
    "            for hit in resp['hits']:\n",
    "                print(f'Processing brand: {hit[\"displayBrand\"]}')\n",
    "                metadata = self.process_item(hit)\n",
    "                if metadata['url'] in self.unique_items:\n",
    "                    print(metadata['title'], 'is already parsed')\n",
    "                    continue\n",
    "\n",
    "                full_metadata.append(metadata)\n",
    "                self.unique_items.add(metadata['title'])\n",
    "        print(f\"finished parse with {len(full_metadata)} items\")\n",
    "        return full_metadata\n",
    "\n",
    "    def parse_more_images(self, metadata: dict):\n",
    "        if metadata.get('right-side-img') is not None:\n",
    "            print(f\"skipped {metadata['slug']}\")\n",
    "            return\n",
    "\n",
    "        print(f\"processing {metadata['slug']}\")\n",
    "        r = requests.get(metadata['url'], headers={\"User-Agent\": UserAgent().random})\n",
    "        try:\n",
    "            r.raise_for_status()\n",
    "        except Exception as e:\n",
    "            print(f\"could not request page {metadata['url']} - {e}\")\n",
    "            return\n",
    "\n",
    "        soup = BeautifulSoup(r.text, \"html.parser\")\n",
    "        metadata['description'] = soup.select('#acc-controls-details-editorsnote > div > p')[0].text\n",
    "\n",
    "        image_side = {\n",
    "            'right-side-img': '#pdp_image_zoom_0',\n",
    "            'left-side-img': '#pdp_image_zoom_1',\n",
    "            'front-both-img': '#pdp_image_zoom_2'\n",
    "        }\n",
    "        for side, tag in image_side.items():\n",
    "            t = soup.select(tag)\n",
    "            if len(t) > 0:\n",
    "                img_link = t[0]['srcset'].split(', ')[0].split()[0]\n",
    "                img_path = self.upload_to_s3(  # can be replaced on self.save_to_filesystem\n",
    "                    metadata['brand'],\n",
    "                    f\"{metadata['slug']}-{side}{self.get_image_extension(img_link)}\",\n",
    "                    img_link\n",
    "                )\n",
    "                metadata[side] = img_path\n",
    "        print(f\"{metadata['slug']} is done\")\n"
   ]
  },
  {
   "cell_type": "code",
   "execution_count": 3,
   "id": "ec2dfbce-0d48-4db2-aff3-86d269fd5718",
   "metadata": {
    "ExecuteTime": {
     "end_time": "2023-10-19T18:00:39.762788Z",
     "start_time": "2023-10-19T18:00:32.918985Z"
    }
   },
   "outputs": [
    {
     "name": "stdout",
     "output_type": "stream",
     "text": [
      "processing page 1 with 100 items\n",
      "Processing brand: HOKA\n",
      "Processing brand: HOKA\n",
      "Processing brand: HOKA\n",
      "Processing brand: New Balance\n",
      "Processing brand: New Balance\n",
      "Processing brand: New Balance\n",
      "Processing brand: Salomon\n",
      "Processing brand: Salomon\n",
      "Processing brand: Adidas\n",
      "Processing brand: Converse\n",
      "Processing brand: Saucony\n",
      "Processing brand: Saucony\n",
      "Processing brand: Saucony\n",
      "Processing brand: Saucony\n",
      "Processing brand: asics\n",
      "Processing brand: Adidas\n",
      "Processing brand: Adidas\n",
      "Processing brand: Adidas\n",
      "Processing brand: On\n",
      "Processing brand: On\n",
      "Processing brand: Converse\n",
      "Processing brand: New Balance\n",
      "Processing brand: New Balance\n",
      "Processing brand: New Balance\n",
      "Processing brand: ROA\n",
      "Processing brand: ROA\n",
      "Processing brand: ROA\n",
      "Processing brand: ROA\n",
      "Processing brand: Puma\n",
      "Processing brand: Keen\n",
      "Processing brand: Keen\n",
      "Processing brand: Keen x Hiking Patrol\n",
      "Processing brand: asics x GmbH\n",
      "Processing brand: asics\n",
      "Processing brand: asics\n",
      "Processing brand: asics\n",
      "Processing brand: Reebok LTD\n",
      "Processing brand: BAPE x Highsnobiety\n",
      "Processing brand: BAPE x Highsnobiety\n",
      "Processing brand: Puma\n",
      "Processing brand: Puma\n",
      "Processing brand: Vans\n",
      "Processing brand: asics\n",
      "Processing brand: VEJA\n",
      "Processing brand: VEJA\n",
      "Processing brand: Norda\n",
      "Processing brand: Reebok\n",
      "Processing brand: Puma\n",
      "Processing brand: Puma\n",
      "Processing brand: Puma x Nanamica\n",
      "Processing brand: Puma\n",
      "Processing brand: Puma\n",
      "Processing brand: Puma x Nanamica\n",
      "Processing brand: Puma\n",
      "Processing brand: Vans\n",
      "Processing brand: ROA\n",
      "Processing brand: New Balance\n",
      "Processing brand: New Balance\n",
      "Processing brand: New Balance\n",
      "Processing brand: New Balance\n",
      "Processing brand: New Balance\n",
      "Processing brand: New Balance\n",
      "Processing brand: Adidas\n",
      "Processing brand: Adidas\n",
      "Processing brand: Adidas\n",
      "Processing brand: Adidas\n",
      "Processing brand: Adidas\n",
      "Processing brand: VEJA\n",
      "Processing brand: HOKA\n",
      "Processing brand: RANRA x Salomon\n",
      "Processing brand: RANRA x Salomon\n",
      "Processing brand: Salomon\n",
      "Processing brand: Salomon\n",
      "Processing brand: Salomon\n",
      "Processing brand: asics\n",
      "Processing brand: asics\n",
      "Processing brand: asics\n",
      "Processing brand: asics\n",
      "Processing brand: asics\n",
      "Processing brand: asics\n",
      "Processing brand: asics\n",
      "Processing brand: New Balance\n",
      "Processing brand: Mizuno\n",
      "Processing brand: VEJA\n",
      "Processing brand: Saucony\n",
      "Processing brand: Keen x Hiking Patrol\n",
      "Processing brand: New Balance\n",
      "Processing brand: New Balance\n",
      "Processing brand: New Balance\n",
      "Processing brand: Puma\n",
      "Processing brand: Maison Margiela\n",
      "Processing brand: Puma\n",
      "Processing brand: New Balance\n",
      "Processing brand: New Balance\n",
      "Processing brand: New Balance\n",
      "Processing brand: New Balance\n",
      "Processing brand: New Balance\n",
      "Processing brand: New Balance\n",
      "Processing brand: New Balance\n",
      "Processing brand: New Balance\n",
      "processing page 2 with 100 items\n",
      "Processing brand: New Balance\n",
      "Processing brand: New Balance\n",
      "Processing brand: New Balance\n",
      "Processing brand: New Balance\n",
      "Processing brand: New Balance\n",
      "Processing brand: VEJA\n",
      "Processing brand: VEJA\n",
      "Processing brand: VEJA\n",
      "Processing brand: VEJA\n",
      "Processing brand: VEJA\n",
      "Processing brand: HOKA\n",
      "Processing brand: HOKA\n",
      "Processing brand: New Balance\n",
      "Processing brand: New Balance\n",
      "Processing brand: Adidas\n",
      "Processing brand: Keen\n",
      "Processing brand: VEJA\n",
      "Processing brand: On\n",
      "Processing brand: On\n",
      "Processing brand: On\n",
      "Processing brand: On\n",
      "Processing brand: Salomon\n",
      "Processing brand: Merrell x Reese Cooper\n",
      "Processing brand: Merrell x Reese Cooper\n",
      "Processing brand: Merrell x Reese Cooper\n",
      "Processing brand: Merrell x Reese Cooper\n",
      "Processing brand: Merrell x Reese Cooper\n",
      "Processing brand: Merrell x Reese Cooper\n",
      "Processing brand: New Balance\n",
      "Processing brand: Saucony x Colour Plus Companie\n",
      "Processing brand: On\n",
      "Processing brand: On\n",
      "Processing brand: On\n",
      "Processing brand: On\n",
      "Processing brand: Reebok\n",
      "Processing brand: Reebok\n",
      "Processing brand: Puma\n",
      "Processing brand: New Balance\n",
      "Processing brand: Salomon\n",
      "Processing brand: New Balance\n",
      "Processing brand: Converse x DRKSHDW\n",
      "Processing brand: Converse x DRKSHDW\n",
      "Processing brand: Converse\n",
      "Processing brand: Converse x DRKSHDW\n",
      "Processing brand: Converse\n",
      "Processing brand: Converse\n",
      "Processing brand: Converse\n",
      "Processing brand: Converse\n",
      "Processing brand: Mizuno\n",
      "Processing brand: CAMPERLAB\n",
      "Processing brand: ROA\n",
      "Processing brand: ROA\n",
      "Processing brand: ROA\n",
      "Processing brand: ROA\n",
      "Processing brand: ROA\n",
      "Processing brand: Adidas x Bad Bunny\n",
      "Processing brand: VEJA\n",
      "Processing brand: Puma\n",
      "Processing brand: Puma\n",
      "Processing brand: Saucony\n",
      "Processing brand: Adidas\n",
      "Processing brand: Mizuno\n",
      "Processing brand: Mizuno\n",
      "Processing brand: Mizuno\n",
      "Processing brand: Moncler\n",
      "Processing brand: Moncler\n",
      "Processing brand: Moncler\n",
      "Processing brand: Moncler\n",
      "Processing brand: Moncler\n",
      "Processing brand: Moncler\n",
      "Processing brand: Moncler\n",
      "Processing brand: Adidas\n",
      "Processing brand: Adidas\n",
      "Processing brand: Adidas\n",
      "Processing brand: Adidas\n",
      "Processing brand: Adidas\n",
      "Processing brand: Adidas\n",
      "Processing brand: New Balance\n",
      "Processing brand: New Balance\n",
      "Processing brand: New Balance\n",
      "Processing brand: New Balance\n",
      "Processing brand: New Balance\n",
      "Processing brand: New Balance\n",
      "Processing brand: New Balance\n",
      "Processing brand: New Balance\n",
      "Processing brand: Moncler x Salehe Bembury\n",
      "Processing brand: Moncler x Salehe Bembury\n",
      "Processing brand: Moncler x Salehe Bembury\n",
      "Processing brand: Trussardi\n",
      "Processing brand: Trussardi\n",
      "Processing brand: Trussardi\n",
      "Processing brand: New Balance\n",
      "Processing brand: New Balance\n",
      "Processing brand: New Balance\n",
      "Processing brand: Sean Wotherspoon x Adidas\n",
      "Processing brand: asics\n",
      "Processing brand: asics\n",
      "Processing brand: asics\n",
      "Processing brand: Mizuno\n",
      "Processing brand: Puma\n",
      "processing page 3 with 100 items\n",
      "Processing brand: VEJA\n",
      "Processing brand: Reebok\n",
      "Processing brand: Reebok\n",
      "Processing brand: Reebok\n",
      "Processing brand: Reebok x Pleasures\n",
      "Processing brand: Reebok\n",
      "Processing brand: Reebok\n",
      "Processing brand: Reebok\n",
      "Processing brand: Puma x Pleasures\n",
      "Processing brand: Vans\n",
      "Processing brand: Vans\n",
      "Processing brand: Reebok\n",
      "Processing brand: Athletics Footwear\n",
      "Processing brand: Athletics Footwear\n",
      "Processing brand: Athletics Footwear\n",
      "Processing brand: CAMPERLAB\n",
      "Processing brand: CAMPERLAB\n",
      "Processing brand: Maison Margiela\n",
      "Processing brand: Acne Studios\n",
      "Processing brand: Y-3\n",
      "Processing brand: Vans\n",
      "Processing brand: Vans\n",
      "Processing brand: Vans\n",
      "Processing brand: Vans\n",
      "Processing brand: Vans\n",
      "Processing brand: Merrell\n",
      "Processing brand: Merrell\n",
      "Processing brand: Merrell\n",
      "Processing brand: Merrell\n",
      "Processing brand: Merrell\n",
      "Processing brand: Merrell\n",
      "Processing brand: Puma\n",
      "Processing brand: Converse\n",
      "Processing brand: Converse\n",
      "Processing brand: Converse\n",
      "Processing brand: Converse\n",
      "Processing brand: Converse\n",
      "Processing brand: Converse x Ader Error\n",
      "Processing brand: Converse\n",
      "Processing brand: Converse\n",
      "Processing brand: Converse x Ader Error\n",
      "Processing brand: Stepney Workers Club\n",
      "Processing brand: Adidas x Wales Bonner\n",
      "Processing brand: Adidas x Wales Bonner\n",
      "Processing brand: Stone Island\n",
      "Processing brand: Raf Simons\n",
      "Processing brand: Raf Simons\n",
      "Processing brand: Raf Simons\n",
      "Processing brand: Adidas\n",
      "Processing brand: Adidas\n",
      "Processing brand: Merrell\n",
      "Processing brand: Maison Margiela\n",
      "Processing brand: Reebok x Milk Makeup\n",
      "Processing brand: Reebok x Milk Makeup\n",
      "Processing brand: Saucony x Highsnobiety\n",
      "Processing brand: Saucony x Highsnobiety\n",
      "Processing brand: Puma\n",
      "Processing brand: Puma\n",
      "Processing brand: New Balance\n",
      "Processing brand: New Balance\n",
      "Processing brand: New Balance\n",
      "Processing brand: New Balance\n",
      "Processing brand: New Balance\n",
      "Processing brand: New Balance\n",
      "Processing brand: New Balance\n",
      "Processing brand: New Balance\n",
      "Processing brand: New Balance\n",
      "Processing brand: New Balance\n",
      "Processing brand: New Balance\n",
      "Processing brand: New Balance\n",
      "Processing brand: New Balance\n",
      "Processing brand: New Balance\n",
      "Processing brand: New Balance\n",
      "Processing brand: On\n",
      "Processing brand: On\n",
      "Processing brand: On\n",
      "Processing brand: On\n",
      "Processing brand: On\n",
      "Processing brand: On\n",
      "Processing brand: Salomon\n",
      "Processing brand: Salomon\n",
      "Processing brand: Converse x DRKSHDW\n",
      "Processing brand: Converse x DRKSHDW\n",
      "Processing brand: Converse\n",
      "Processing brand: New Balance\n",
      "Processing brand: Adidas\n",
      "Processing brand: Adidas\n",
      "Processing brand: Salomon\n",
      "Processing brand: Salomon\n",
      "Processing brand: Converse\n",
      "Processing brand: New Balance\n",
      "Processing brand: Converse x Fragment\n",
      "Processing brand: Converse x Herringbone\n",
      "Processing brand: Converse x Herringbone\n",
      "Processing brand: Converse x Herringbone\n",
      "Processing brand: HOKA\n",
      "Processing brand: HOKA\n",
      "Processing brand: Reebok x Milk Makeup\n",
      "Processing brand: Saucony\n",
      "Processing brand: Saucony\n",
      "processing page 4 with 100 items\n",
      "Processing brand: Saucony\n",
      "Processing brand: Saucony\n",
      "Processing brand: Saucony\n",
      "Processing brand: Mizuno\n",
      "Processing brand: Adidas\n",
      "Processing brand: VEJA\n",
      "Processing brand: VEJA\n",
      "Processing brand: New Balance\n",
      "Processing brand: Salomon\n",
      "Processing brand: Stone Island\n",
      "Processing brand: Mizuno x Maharishi\n",
      "Processing brand: New Balance\n",
      "Processing brand: New Balance\n",
      "Processing brand: Saucony\n",
      "Processing brand: Saucony\n",
      "Processing brand: Saucony\n",
      "Processing brand: Saucony\n",
      "Processing brand: Saucony\n",
      "Processing brand: HOKA\n",
      "Processing brand: Salomon\n",
      "Processing brand: Converse\n",
      "Processing brand: Keen\n",
      "Processing brand: Converse\n",
      "Processing brand: Converse\n",
      "Processing brand: Salomon x And Wander\n",
      "Processing brand: Salomon x And Wander\n",
      "Processing brand: CAMPERLAB\n",
      "Processing brand: CAMPERLAB\n",
      "Processing brand: CAMPERLAB\n",
      "Processing brand: CAMPERLAB\n",
      "Processing brand: Converse\n",
      "Processing brand: Converse\n",
      "Processing brand: adidas Terrex x And Wander\n",
      "Processing brand: Salomon x PAS NORMAL STUDIOS\n",
      "Processing brand: Vans\n",
      "Processing brand: Puma\n",
      "Processing brand: Puma\n",
      "Processing brand: Salomon\n",
      "Processing brand: Converse\n",
      "Processing brand: New Balance\n",
      "Processing brand: New Balance\n",
      "Processing brand: Salomon x PAS NORMAL STUDIOS\n",
      "Processing brand: HOKA\n",
      "Processing brand: Our Legacy\n",
      "Processing brand: New Balance\n",
      "Processing brand: Converse\n",
      "Processing brand: Converse\n",
      "Processing brand: Mizuno\n",
      "Processing brand: New Balance\n",
      "Processing brand: New Balance\n",
      "Processing brand: Converse\n",
      "Processing brand: Adidas x Craig Green\n",
      "Processing brand: Puma\n",
      "Processing brand: Puma\n",
      "Processing brand: asics\n",
      "Processing brand: Vans\n",
      "Processing brand: Vans\n",
      "Processing brand: Vans\n",
      "Processing brand: Vans\n",
      "Processing brand: Vans\n",
      "Processing brand: Vans\n",
      "Processing brand: Vans\n",
      "Processing brand: Vans\n",
      "Processing brand: Vans\n",
      "Processing brand: Vans\n",
      "Processing brand: Vans\n",
      "Processing brand: Vans\n",
      "Processing brand: Vans\n",
      "Processing brand: Vans\n",
      "Processing brand: Vans\n",
      "Processing brand: Vans\n",
      "Processing brand: Vans\n",
      "Processing brand: Salomon\n",
      "Processing brand: Salomon\n",
      "Processing brand: Salomon\n",
      "Processing brand: Salomon\n",
      "Processing brand: Salomon\n",
      "Processing brand: Salomon\n",
      "Processing brand: Y-3\n",
      "Processing brand: New Balance\n",
      "Processing brand: New Balance\n",
      "Processing brand: New Balance\n",
      "Processing brand: asics\n",
      "Processing brand: asics\n",
      "Processing brand: asics\n",
      "Processing brand: New Balance\n",
      "Processing brand: New Balance\n",
      "Processing brand: New Balance\n",
      "Processing brand: New Balance\n",
      "Processing brand: New Balance\n",
      "Processing brand: New Balance\n",
      "Processing brand: Adidas\n",
      "Processing brand: Adidas\n",
      "Processing brand: Adidas\n",
      "Processing brand: Adidas\n",
      "Processing brand: Adidas\n",
      "Processing brand: Adidas\n",
      "Processing brand: Adidas\n",
      "Processing brand: Adidas\n",
      "Processing brand: New Balance\n",
      "processing page 5 with 100 items\n",
      "Processing brand: Patta x Converse\n",
      "Processing brand: Adidas\n",
      "Processing brand: Adidas\n",
      "Processing brand: Adidas\n",
      "Processing brand: Adidas\n",
      "Processing brand: New Balance\n",
      "Processing brand: New Balance\n",
      "Processing brand: New Balance\n",
      "Processing brand: New Balance\n",
      "Processing brand: New Balance\n",
      "Processing brand: New Balance\n",
      "Processing brand: New Balance\n",
      "Processing brand: New Balance\n",
      "Processing brand: New Balance\n",
      "Processing brand: New Balance\n",
      "Processing brand: New Balance\n",
      "Processing brand: New Balance\n",
      "Processing brand: New Balance\n",
      "Processing brand: Adidas x Craig Green\n",
      "Processing brand: asics\n",
      "Processing brand: asics\n",
      "Processing brand: New Balance\n",
      "Processing brand: asics\n",
      "Processing brand: asics\n",
      "Processing brand: Diesel\n",
      "Processing brand: Diesel\n",
      "Processing brand: HOKA\n",
      "Processing brand: HOKA\n",
      "Processing brand: HOKA\n",
      "Processing brand: Merrell\n",
      "Processing brand: asics\n",
      "Processing brand: Moncler\n",
      "Processing brand: Moncler\n",
      "Processing brand: Moncler\n",
      "Processing brand: Moncler\n",
      "Processing brand: New Balance\n",
      "Processing brand: New Balance\n",
      "Processing brand: New Balance\n",
      "Processing brand: New Balance\n",
      "Processing brand: New Balance\n",
      "Processing brand: New Balance\n",
      "Processing brand: New Balance\n",
      "Processing brand: Mizuno\n",
      "Processing brand: New Balance\n",
      "Processing brand: New Balance\n",
      "Processing brand: On\n",
      "Processing brand: Stepney Workers Club\n",
      "Processing brand: On\n",
      "Processing brand: On\n",
      "Processing brand: Converse x Fucking Awesome\n",
      "Processing brand: asics x A.P.C.\n",
      "Processing brand: New Balance\n",
      "Processing brand: New Balance\n",
      "Processing brand: New Balance\n",
      "Processing brand: New Balance\n",
      "Processing brand: New Balance\n",
      "Processing brand: Converse x DRKSHDW\n",
      "Processing brand: Reebok\n",
      "Processing brand: Reebok\n",
      "Processing brand: Reebok\n",
      "Processing brand: Reebok\n",
      "Processing brand: Reebok\n",
      "Processing brand: Reebok\n",
      "Processing brand: asics\n",
      "Processing brand: asics\n",
      "Processing brand: Adidas\n",
      "Processing brand: Merrell\n",
      "Processing brand: ROA\n",
      "Processing brand: Norda\n",
      "Processing brand: Norda\n",
      "Processing brand: Norda x Ciele\n",
      "Processing brand: Norda\n",
      "Processing brand: Norda\n",
      "Processing brand: Norda\n",
      "Processing brand: Norda\n",
      "Processing brand: On\n",
      "Processing brand: Trussardi\n",
      "Processing brand: Acne Studios\n",
      "Processing brand: Stone Island\n",
      "Processing brand: Stone Island\n",
      "Processing brand: Stone Island\n",
      "Processing brand: New Balance\n",
      "Processing brand: New Balance\n",
      "Processing brand: New Balance\n",
      "Processing brand: New Balance\n",
      "Processing brand: New Balance\n",
      "Processing brand: New Balance\n",
      "Processing brand: New Balance\n",
      "Processing brand: New Balance\n",
      "Processing brand: New Balance\n",
      "Processing brand: New Balance\n",
      "Processing brand: New Balance\n",
      "Processing brand: New Balance\n",
      "Processing brand: New Balance\n",
      "Processing brand: New Balance\n",
      "Processing brand: Salomon\n",
      "Processing brand: Salomon\n",
      "Processing brand: On\n",
      "Processing brand: Mizuno\n",
      "Processing brand: Mizuno\n",
      "processing page 6 with 98 items\n",
      "Processing brand: Mizuno\n",
      "Processing brand: Mizuno\n",
      "Processing brand: Mizuno\n",
      "Processing brand: Adidas\n",
      "Processing brand: Adidas\n",
      "Processing brand: Adidas\n",
      "Processing brand: Raf Simons\n",
      "Processing brand: VEJA x Berlin\n",
      "Processing brand: Reebok\n",
      "Processing brand: Reebok\n",
      "Processing brand: Reebok\n",
      "Processing brand: Reebok\n",
      "Processing brand: Reebok\n",
      "Processing brand: Reebok\n",
      "Processing brand: Reebok\n",
      "Processing brand: Saucony\n",
      "Processing brand: Saucony\n",
      "Processing brand: Saucony\n",
      "Processing brand: Kenzo\n",
      "Processing brand: asics\n",
      "Processing brand: New Balance\n",
      "Processing brand: New Balance\n",
      "Processing brand: CAMPERLAB\n",
      "Processing brand: asics\n",
      "Processing brand: Norda\n",
      "Processing brand: Norda\n",
      "Processing brand: Norda\n",
      "Processing brand: Converse\n",
      "Processing brand: Converse\n",
      "Processing brand: Norda\n",
      "Processing brand: asics\n",
      "Processing brand: Converse\n",
      "Processing brand: Converse\n",
      "Processing brand: Converse\n",
      "Processing brand: New Balance\n",
      "Processing brand: Salomon\n",
      "Processing brand: Y-3\n",
      "Processing brand: Converse x Golf Le Fleur\n",
      "Processing brand: Last Resort AB\n",
      "Processing brand: Soulland x Li Ning\n",
      "Processing brand: Stepney Workers Club\n",
      "Processing brand: Stepney Workers Club\n",
      "Processing brand: Saucony\n",
      "Processing brand: Reebok x Maison Margiela\n",
      "Processing brand: Reebok x Maison Margiela\n",
      "Processing brand: Reebok x Maison Margiela\n",
      "Processing brand: asics x Afew\n",
      "Processing brand: Raf Simons\n",
      "Processing brand: Raf Simons\n",
      "Processing brand: On x Highsnobiety\n",
      "Processing brand: Puma x Butter Goods\n",
      "Processing brand: Puma x Butter Goods\n",
      "Processing brand: Converse\n",
      "Processing brand: Converse\n",
      "Processing brand: Vans\n",
      "Processing brand: Converse\n",
      "Processing brand: Converse\n",
      "Processing brand: Converse\n",
      "Processing brand: Converse\n",
      "Processing brand: Converse\n",
      "Processing brand: Converse\n",
      "Processing brand: Converse\n",
      "Processing brand: Converse\n",
      "Processing brand: Converse\n",
      "Processing brand: Maison Margiela x Reebok\n",
      "Processing brand: Converse x GOLF WANG\n",
      "Processing brand: Last Resort AB\n",
      "Processing brand: New Balance\n",
      "Processing brand: Vans\n",
      "Processing brand: Vans\n",
      "Processing brand: Vans\n",
      "Processing brand: HOKA\n",
      "Processing brand: Converse\n",
      "Processing brand: Maison Margiela x Reebok\n",
      "Processing brand: Salomon\n",
      "Processing brand: Salomon\n",
      "Processing brand: Converse\n",
      "Processing brand: Converse\n",
      "Processing brand: Converse\n",
      "Processing brand: Converse\n",
      "Processing brand: Maison Margiela\n",
      "Processing brand: Maison Margiela\n",
      "Processing brand: Converse\n",
      "Processing brand: Salomon\n",
      "Processing brand: Converse x Space Jam\n",
      "Processing brand: Maison Margiela x Reebok\n",
      "Processing brand: Athletics Footwear\n",
      "Processing brand: Converse\n",
      "Processing brand: New Balance x Stone Island\n",
      "Processing brand: Stone Island\n",
      "Processing brand: New Balance\n",
      "Processing brand: Converse\n",
      "Processing brand: New Balance\n",
      "Processing brand: Puma x P.A.M.\n",
      "Processing brand: On\n",
      "Processing brand: ROA\n",
      "Processing brand: On\n",
      "Processing brand: On\n",
      "processing page 7 with 0 items\n",
      "processing page 8 with 0 items\n",
      "processing page 9 with 0 items\n",
      "finished parse with 598 items\n"
     ]
    }
   ],
   "source": [
    "#\n",
    "# highsnobiety\n",
    "# \n",
    "client = SearchClient.create('KV0RT3PJZC', '37e783b9d54217566682938fa0e2b0f6')\n",
    "index = client.init_index('production_ec_products_improved_newest_first')\n",
    "WEBSITE_NAME = 'highsnobiety'\n",
    "\n",
    "\n",
    "def highsnobiety_parser(item: dict) -> dict:\n",
    "    us_price = item['price'].get('US', {})\n",
    "    return {\n",
    "        'url': f'https://www.highsnobiety.com/en-us/shop/product/{item[\"slug\"][\"en\"]}',\n",
    "        'brand': item['displayBrand'],\n",
    "        'slug': item[\"slug\"][\"en\"],\n",
    "        'priceCurrency': us_price['currencyCode'],\n",
    "        'price': int(us_price.get('centAmount', 0)) / 100,\n",
    "        'title': item.get('displayName', {}).get('en').replace('\\\\u', '')\n",
    "    }\n",
    "\n",
    "\n",
    "parser = ParsePipeline(WEBSITE_NAME, 'sneakers-ml', highsnobiety_parser)\n",
    "parse_result = parser.parse(\n",
    "    'localizedPages.en:category/footwear/sneakers AND outOfStockForLongTime:false',\n",
    "    10,\n",
    "    100\n",
    ")\n"
   ]
  },
  {
   "cell_type": "code",
   "execution_count": 5,
   "outputs": [
    {
     "name": "stderr",
     "output_type": "stream",
     "text": [
      "  0%|          | 0/598 [00:00<?, ?it/s]"
     ]
    },
    {
     "name": "stdout",
     "output_type": "stream",
     "text": [
      "skipped hoka-bondi-8-olive-haze\n",
      "skipped hoka-bondi-8-black-black\n",
      "skipped hoka-restore-tc-black\n",
      "skipped new-balance-m2002rdq-sandstone\n",
      "skipped new-balance-m2002rdn-dark-moss\n",
      "skipped new-balance-ml610xa-team-away-grey\n",
      "skipped salomon-xt-quest-2-falcon-cement-bright-green\n",
      "skipped salomon-acs-pro-pewter-monument-aegean-blue\n",
      "skipped adidas-gazelle-core-black-gum\n",
      "skipped converse-one-star-pro-ltd-ox-berlin-pink\n",
      "skipped saucony-progrid-triumph-4-green-silver\n",
      "skipped saucony-progrid-triumph-4-pink-silver\n",
      "skipped saucony-progrid-triumph-4-blue-silver\n",
      "skipped saucony-peregrine-13-st-glade-bronze\n",
      "skipped asics-gel-kayano-14-pure-silver-pure-silver\n",
      "skipped adidas-cg-split-stan-smith-beige-tonecore-black\n",
      "skipped adidas-cg-split-stan-smith-core-blackgranite\n",
      "skipped adidas-cg-split-stan-smith-whiteblack\n",
      "skipped on-cloudultra-2-black\n",
      "skipped on-cloudstratus-3-undyed-white-sand\n",
      "skipped converse-pl-vulc-pro-ox-forest-shelter-white\n",
      "skipped new-balance-bbw550sb-sea-salt-mercury-blue\n",
      "skipped new-balance-mt580ed2-black-grey-white\n",
      "skipped new-balance-bbw550sg-sea-salt-nori\n",
      "skipped roa-katharina-sneakers-olive-rust\n",
      "skipped roa-lhakpa-sneakers-green\n",
      "skipped roa-andreas-boots-black\n",
      "skipped roa-leather-loafer-brown\n",
      "skipped puma-star-tennis-whites-whiteultra-bluegreen\n",
      "skipped keen-jasper-cathay-spice-orion-blue\n",
      "skipped keen-jasper-ii-wp-canteen-naval-academy\n",
      "processing keen-hiking-patrol-jasper-rocks-sp-phantasmal-red\n",
      "uploaded: data/highsnobiety/Keen x Hiking Patrol/keen-hiking-patrol-jasper-rocks-sp-phantasmal-red-right-side-img.jpg\n",
      "uploaded: data/highsnobiety/Keen x Hiking Patrol/keen-hiking-patrol-jasper-rocks-sp-phantasmal-red-left-side-img.jpg\n"
     ]
    },
    {
     "name": "stderr",
     "output_type": "stream",
     "text": [
      "  5%|▌         | 32/598 [00:02<00:39, 14.16it/s]"
     ]
    },
    {
     "name": "stdout",
     "output_type": "stream",
     "text": [
      "uploaded: data/highsnobiety/Keen x Hiking Patrol/keen-hiking-patrol-jasper-rocks-sp-phantasmal-red-front-both-img.jpg\n",
      "keen-hiking-patrol-jasper-rocks-sp-phantasmal-red is done\n",
      "skipped asics-gmbh-gel-kayano-legacy-cilantro-wood-crepe\n",
      "skipped asics-gel-1130-oyster-gray-clay-gray\n",
      "skipped asics-gel-1130-steel-gray-sheet-rock\n",
      "skipped asics-gel-kayano-14-simply-taupe-oatmeal\n",
      "skipped reebok-ltd-club-c-ltd-white-luxe-leather\n",
      "skipped bape-highsnobiety-road-sta-express-beige-charcoal\n",
      "skipped bape-highsnobiety-bape-sta-ivory\n",
      "skipped puma-clyde-rhuigi-pristine-pristine-inky-blue\n",
      "skipped puma-clyde-rhuigi-pristine-sedate-gray-white\n",
      "skipped vans-og-style-93-lx-marshmallow\n",
      "skipped asics-gel-venture-6-dark-sepia-dark-sepia\n",
      "skipped veja-v-10-b-mesh-white-nautico\n",
      "skipped veja-v-10-chrome-free-leather-white-black-sahara\n",
      "skipped norda-001-yellow\n",
      "skipped reebok-club-c-grounds-green\n",
      "skipped puma-velophasis-technisch-white\n",
      "skipped puma-velophasis-prm-beige\n",
      "skipped puma-nanamica-clyde-gore-tex-white\n",
      "skipped puma-velophasis-prm-black\n",
      "skipped puma-velophasis-technisch-black\n",
      "skipped puma-nanamica-clyde-gore-tex-black\n",
      "skipped puma-velophasis-technisch-grey\n",
      "skipped vans-ua-og-half-cab-lx-hairy-suede-grey-ridge\n",
      "skipped roa-slip-on-sneaker-black\n",
      "skipped new-balance-ml610tbj-deep-olive-green\n",
      "skipped new-balance-ualgsbb-rainier-brown\n",
      "skipped new-balance-u-9060-hsc-sea-salt\n",
      "skipped new-balance-bb650rch-white\n",
      "skipped new-balance-ml610tbi-dark-mushroom\n",
      "skipped new-balance-u-9060-hsp-pink\n",
      "skipped adidas-adimatic-black-2\n",
      "skipped adidas-response-cl-white-black\n",
      "skipped adidas-samba-og-navy-white\n",
      "skipped adidas-state-brown\n",
      "skipped adidas-orketro-white\n",
      "skipped veja-v-90-pierre-white\n",
      "skipped hoka-clifton-9-wide-black-black\n",
      "skipped ranra-salomon-cross-pro-better-turmericblazing-orangescarlet-ibis\n",
      "skipped ranra-salomon-cross-pro-better-cathay-spicekelpbright-lime-green\n",
      "skipped salomon-acs-pro-vanilla-ice-lunar-rock-tomato-cream\n",
      "skipped salomon-xt-4-og-white-ebony-lunar-rock\n",
      "skipped salomon-xt-4-og-black-ebony-silver-metallic-x\n",
      "skipped asics-gel-venture-6-ns-forest-black\n",
      "skipped asics-gt-2160-dark-taupe-taupe-gray\n",
      "skipped asics-gt-2160-white-shamrock-green\n",
      "skipped asics-gel-quantum-kinetic-dark-sepia-shamrock-green\n",
      "skipped asics-gel-venture-6-ns-white-pure-silver\n",
      "skipped asics-gel-nyc-cream-oatmeal\n",
      "skipped asics-gt-2160-oatmeal-simply-taupe\n",
      "skipped new-balance-fresh-foam-hierro-v7-hot-marigold\n",
      "skipped mizuno-wave-rider-10-white-cabernet-silver\n",
      "skipped veja-v-10-white-black\n",
      "skipped saucony-progrid-omni-9-silver-red\n",
      "skipped keen-hiking-patrol-jasper-rocks-sp-cuban-beige\n",
      "skipped new-balance-fresh-foam-trail-more-v3-black\n",
      "skipped new-balance-fresh-foam-trail-more-v3-mindful-grey\n",
      "skipped new-balance-wrpd-runner-sea-salt\n",
      "skipped puma-star-strawberries-cream\n",
      "skipped maison-margiela-leather-replica-sneakers-black-2\n",
      "skipped puma-super-team-og-white\n",
      "skipped new-balance-m1906de-white\n",
      "skipped new-balance-m1906df-black\n",
      "skipped new-balance-bb-650-rwi-white\n",
      "skipped new-balance-ct-302-sg-white\n",
      "skipped new-balance-u-997r-cb-grey\n",
      "skipped new-balance-ct-302-sl-white\n",
      "skipped new-balance-u-997r-cb-varsity-gold\n",
      "skipped new-balance-bb-650-rwh-white\n",
      "skipped new-balance-m-2002-rsh-magnet\n",
      "skipped new-balance-ualgsvt-rainier-dune\n",
      "skipped new-balance-m-2002-rsi-driftwood\n",
      "skipped new-balance-u-9060-ecc-castlerock\n",
      "skipped new-balance-wthigq7-raincloud\n",
      "skipped veja-v-10-extra-white\n",
      "skipped veja-campo-green\n",
      "skipped veja-venturi-multi\n",
      "skipped veja-v-12-white-camel\n",
      "skipped veja-recife-logo-white\n",
      "skipped hoka-project-clifton-blanc-de-blanc\n",
      "skipped hoka-m-anacapa-low-gtx-black\n",
      "skipped new-balance-mr530smd-bone\n",
      "skipped new-balance-650-white\n",
      "skipped adidas-stan-smith-80s\n",
      "skipped keen-jasper-silver-mink\n",
      "skipped veja-campo-white-natural\n",
      "skipped on-po-cloudventure-peak-3-m\n",
      "skipped on-pad-cloudmonster-1-m\n",
      "skipped on-pr-cloudmonster-1-m\n",
      "skipped on-pad-cloudnova-form-1-m-white-eclipse\n",
      "skipped salomon-xt-6-aloe-wash-hazelnut-feather-gray\n",
      "skipped merrell-reese-cooper-mtl-mqm-hunter-green\n",
      "skipped merrell-reese-cooper-mtl-long-sky-2-otter-brown\n",
      "skipped merrell-reese-cooper-mtl-long-sky-2-clover\n",
      "skipped merrell-reese-cooper-hydro-runner-forest-night\n",
      "skipped merrell-reese-cooper-mtl-mqm-pirate-black\n",
      "skipped merrell-reese-cooper-hydro-runner-pebble\n",
      "skipped new-balance-bb550tsf-white\n",
      "skipped saucony-colour-companie-plus-grid-shadow-2-beach-ramble\n",
      "skipped on-cloud-3-hunter-black\n",
      "skipped on-the-roger-spin-undyed-white-yellow\n",
      "skipped on-cloudwander-waterproof-pearl-root\n",
      "skipped on-cloudvista-waterproof-zinc-grape\n",
      "skipped reebok-club-c-black-light-pink\n",
      "skipped reebok-club-c-beige-pale-blue\n",
      "skipped puma-velophasis-phased-white-blue\n",
      "skipped new-balance-fresh-foam-x-hierro-v7-gtx-cayenne\n",
      "skipped salomon-xt-6-dried-herb-deep-lichen-green-bright-green\n",
      "skipped new-balance-ct302of-white\n",
      "skipped converse-turbowpn-mid-pelican-black-cloud-cream\n",
      "skipped converse-drkshdw-dbl-drkstar-natural-ivory-black-egret\n",
      "skipped converse-chuck-70-marquis-hi-tawny-owl-epic-dune\n",
      "skipped converse-drkshdw-dbl-drkstar-hi-black-egret-white\n",
      "skipped converse-one-star-pro-ox-egret-black\n",
      "skipped converse-ct70-canvas-ltd-hi-black-trek-evo\n",
      "skipped converse-one-star-pro-ox-nomad-khaki-egret-black\n",
      "skipped converse-as-1-pro-ox-white-fir-white\n",
      "skipped mizuno-wave-rider-10-silver-tradewind-white\n",
      "skipped camperlab-tossu-purple\n",
      "skipped roa-katharina-sneaker-beige\n",
      "skipped roa-neal-brown\n",
      "skipped roa-neal-black\n",
      "skipped roa-katharina-sneaker-black\n",
      "skipped roa-suede-sandal-hybrid-dove\n",
      "skipped adidas-bad-bunny-response-black\n",
      "skipped veja-v-10-ripstop-nautico-pierre\n",
      "skipped puma-velophasis-technisch-sedate-grey-cashew\n",
      "skipped puma-velophasis-phased-black-white\n",
      "skipped saucony-progrid-omni-9-silver-blue\n",
      "skipped adidas-samba-decon-black\n",
      "skipped mizuno-sky-medal-beta-green\n",
      "skipped mizuno-wave-prophecy-12-white-silver\n",
      "skipped mizuno-wave-rider-10-opal-grey\n",
      "skipped moncler-trailgrip-lite-2-sneakers-blue-olive-green\n",
      "skipped moncler-trailgrip-lite-2-low-top-sneakers\n",
      "skipped moncler-trailgrip-gtx-low-top-sneakers-green-pink\n",
      "skipped moncler-trailgrip-lite-2-sneakers-brown-green\n",
      "skipped moncler-trailgrip-gtx-low-top-sneakers-white-2\n",
      "skipped moncler-trailgrip-gtx-low-top-sneakers-khaki-grey\n",
      "skipped moncler-trailgrip-gtx-low-top-sneakers-black-2\n",
      "skipped adidas-gazelle-core-burgundy-green\n",
      "skipped adidas-samba-decon-white-black-greone\n",
      "skipped adidas-campus-black\n",
      "skipped adidas-samba-og-white-green\n",
      "skipped adidas-gazelle-core-blue-burgundy-green\n",
      "skipped adidas-exomniac-black\n",
      "skipped new-balance-bb-550-pwg-white\n",
      "skipped new-balance-bb-550-pwd-turtledove\n",
      "skipped new-balance-u9060bur-rich-oak\n",
      "skipped new-balance-w991ggw-green\n",
      "skipped new-balance-m991psg-grey-teal\n",
      "skipped new-balance-u998gr-grey\n",
      "skipped new-balance-ou576agg-grey\n",
      "skipped new-balance-w-990-gl-6-cool-grey\n",
      "skipped moncler-salehe-bembury-trailgrip-grain-sneakers-orange\n",
      "skipped moncler-salehe-bembury-trailgrip-grain-sneakers-pink\n",
      "skipped moncler-salehe-bembury-trailgrip-grain-sneakers-beige\n",
      "skipped trussardi-retro-mule-sneaker-black\n",
      "skipped trussardi-retro-runner-sneaker-black\n",
      "skipped trussardi-retro-mule-sneaker-white\n",
      "skipped new-balance-m990v6-cool-gray\n",
      "skipped new-balance-bb550stg-white\n",
      "skipped new-balance-bb550sta-white\n",
      "skipped sean-wotherspoon-adidas-orketro-off-white\n",
      "skipped asics-gel-venture-6-glacier-gray-pure-silver\n",
      "skipped asics-gel-1130-white-clay-canyon\n",
      "skipped asics-gel-kayano-14-white-pure-gold\n",
      "skipped mizuno-wave-prophecy-beta-black\n",
      "skipped puma-plexus-glacier-grey\n",
      "skipped veja-v-12-leather-white-steel\n",
      "skipped reebok-rbk-premier-road-plus-vi-black\n",
      "skipped reebok-club-c-grounds-red\n",
      "skipped reebok-bb-4000-ii-white\n",
      "skipped reebok-pleasures-nano-6000-sandtrap-pebble-tin-grey\n",
      "skipped reebok-club-c-85-vintage-taupe\n",
      "skipped reebok-zig-kinetica-3-pure-grey-chalk\n",
      "skipped reebok-club-c-85-vintage-chalk-brown\n",
      "skipped puma-pleasures-velophasis-overdyed-grape-wine-mauve-pop\n",
      "skipped vans-ua-authentic-vr3-sf-slws-fr\n",
      "skipped vans-ua-old-skool-36-dx-psde-bla\n",
      "skipped reebok-club-c-85-vintage-white\n",
      "skipped athletics-footwear-zero-v1-black\n",
      "skipped athletics-footwear-zero-v1-silver\n",
      "skipped athletics-footwear-zero-v1-white\n",
      "skipped camperlab-tormenta-brown\n",
      "skipped camperlab-tormenta-beige\n",
      "skipped maison-margiela-alex-hiking-boot-black-black\n",
      "skipped acne-studios-barai-white\n",
      "skipped y-3-terrex-swift-r3-gore-tex-black\n",
      "skipped vans-ua-og-classic-slip-on-lx-year-of-the-rabbit-green\n",
      "skipped vans-ua-og-authentic-lx-vault-checkerboard-beige\n",
      "skipped vans-half-cab-cp-vr3-lx-hemp-dgr\n",
      "skipped vans-ua-og-authentic-lx-vault-checkerboard-green\n",
      "skipped vans-half-cab-cp-vr3-lx-hemp-whi\n",
      "skipped merrell-moab-mesa-luxe-1trl-beige\n",
      "skipped merrell-moab-hybrid-zip-gore-tex-1trl-green\n",
      "skipped merrell-hydro-runner-rfl-1trl-beige\n",
      "skipped merrell-moab-hybrid-zip-gore-tex-1trl-white\n",
      "skipped merrell-moab-mesa-luxe-1trl-grey\n",
      "skipped merrell-hydro-runner-rfl-1trl-black\n",
      "skipped puma-clyde-base-white\n",
      "skipped converse-chuck-70-plus-canvas-black-egret-black\n",
      "skipped converse-chuck-70-plus-canvas-egret-black-egret\n",
      "skipped converse-chuck-taylor-all-star-lugged-2-0-cyber-grey\n",
      "skipped converse-chuck-70-hi-sunflower-black-egret\n",
      "processing converse-chuck-taylor-all-star-cx-desert-sunset-pale-putty-papyrus\n",
      "uploaded: data/highsnobiety/Converse/converse-chuck-taylor-all-star-cx-desert-sunset-pale-putty-papyrus-right-side-img.jpg\n",
      "uploaded: data/highsnobiety/Converse/converse-chuck-taylor-all-star-cx-desert-sunset-pale-putty-papyrus-left-side-img.jpg\n"
     ]
    },
    {
     "name": "stderr",
     "output_type": "stream",
     "text": [
      " 40%|███▉      | 237/598 [00:05<00:07, 48.45it/s]"
     ]
    },
    {
     "name": "stdout",
     "output_type": "stream",
     "text": [
      "uploaded: data/highsnobiety/Converse/converse-chuck-taylor-all-star-cx-desert-sunset-pale-putty-papyrus-front-both-img.jpg\n",
      "converse-chuck-taylor-all-star-cx-desert-sunset-pale-putty-papyrus is done\n",
      "processing converse-chuck-70-hi-white-blue-imperial-blue\n",
      "uploaded: data/highsnobiety/Converse x Ader Error/converse-chuck-70-hi-white-blue-imperial-blue-right-side-img.jpg\n",
      "uploaded: data/highsnobiety/Converse x Ader Error/converse-chuck-70-hi-white-blue-imperial-blue-left-side-img.jpg\n",
      "uploaded: data/highsnobiety/Converse x Ader Error/converse-chuck-70-hi-white-blue-imperial-blue-front-both-img.jpg\n",
      "converse-chuck-70-hi-white-blue-imperial-blue is done\n",
      "processing converse-run-star-motion-cx-platform-egret-oat-milk-oat-milk\n",
      "uploaded: data/highsnobiety/Converse/converse-run-star-motion-cx-platform-egret-oat-milk-oat-milk-right-side-img.jpg\n",
      "uploaded: data/highsnobiety/Converse/converse-run-star-motion-cx-platform-egret-oat-milk-oat-milk-left-side-img.jpg\n",
      "uploaded: data/highsnobiety/Converse/converse-run-star-motion-cx-platform-egret-oat-milk-oat-milk-front-both-img.jpg\n",
      "converse-run-star-motion-cx-platform-egret-oat-milk-oat-milk is done\n",
      "processing converse-chuck-70-hi-desert-sand-egret-light-gold\n",
      "uploaded: data/highsnobiety/Converse/converse-chuck-70-hi-desert-sand-egret-light-gold-right-side-img.jpeg\n",
      "uploaded: data/highsnobiety/Converse/converse-chuck-70-hi-desert-sand-egret-light-gold-left-side-img.jpeg\n",
      "uploaded: data/highsnobiety/Converse/converse-chuck-70-hi-desert-sand-egret-light-gold-front-both-img.jpeg\n",
      "converse-chuck-70-hi-desert-sand-egret-light-gold is done\n",
      "processing converse-chuck-70-ox-imperial-blue-white-black\n"
     ]
    },
    {
     "name": "stderr",
     "output_type": "stream",
     "text": [
      " 40%|███▉      | 237/598 [00:16<00:07, 48.45it/s]"
     ]
    },
    {
     "name": "stdout",
     "output_type": "stream",
     "text": [
      "uploaded: data/highsnobiety/Converse x Ader Error/converse-chuck-70-ox-imperial-blue-white-black-right-side-img.jpg\n"
     ]
    },
    {
     "name": "stderr",
     "output_type": "stream",
     "text": [
      " 40%|████      | 241/598 [00:19<00:37,  9.57it/s]"
     ]
    },
    {
     "name": "stdout",
     "output_type": "stream",
     "text": [
      "uploaded: data/highsnobiety/Converse x Ader Error/converse-chuck-70-ox-imperial-blue-white-black-left-side-img.jpg\n",
      "uploaded: data/highsnobiety/Converse x Ader Error/converse-chuck-70-ox-imperial-blue-white-black-front-both-img.jpg\n",
      "converse-chuck-70-ox-imperial-blue-white-black is done\n",
      "processing stepney-workers-club-dellow-s-strike-canvas-ecru\n",
      "uploaded: data/highsnobiety/Stepney Workers Club/stepney-workers-club-dellow-s-strike-canvas-ecru-right-side-img.jpg\n",
      "uploaded: data/highsnobiety/Stepney Workers Club/stepney-workers-club-dellow-s-strike-canvas-ecru-left-side-img.jpg\n"
     ]
    },
    {
     "name": "stderr",
     "output_type": "stream",
     "text": [
      " 40%|████      | 242/598 [00:23<00:48,  7.29it/s]"
     ]
    },
    {
     "name": "stdout",
     "output_type": "stream",
     "text": [
      "uploaded: data/highsnobiety/Stepney Workers Club/stepney-workers-club-dellow-s-strike-canvas-ecru-front-both-img.jpg\n",
      "stepney-workers-club-dellow-s-strike-canvas-ecru is done\n",
      "processing adidas-wales-bonner-sl72-knit-dark-brown\n",
      "uploaded: data/highsnobiety/Adidas x Wales Bonner/adidas-wales-bonner-sl72-knit-dark-brown-right-side-img.jpg\n",
      "uploaded: data/highsnobiety/Adidas x Wales Bonner/adidas-wales-bonner-sl72-knit-dark-brown-left-side-img.jpg\n",
      "uploaded: data/highsnobiety/Adidas x Wales Bonner/adidas-wales-bonner-sl72-knit-dark-brown-front-both-img.jpg\n",
      "adidas-wales-bonner-sl72-knit-dark-brown is done\n",
      "processing adidas-wales-bonner-sl72-knit-team-green\n",
      "uploaded: data/highsnobiety/Adidas x Wales Bonner/adidas-wales-bonner-sl72-knit-team-green-right-side-img.jpg\n",
      "uploaded: data/highsnobiety/Adidas x Wales Bonner/adidas-wales-bonner-sl72-knit-team-green-left-side-img.jpg\n",
      "uploaded: data/highsnobiety/Adidas x Wales Bonner/adidas-wales-bonner-sl72-knit-team-green-front-both-img.jpg\n",
      "adidas-wales-bonner-sl72-knit-team-green is done\n",
      "processing stone-island-grime-turquoise-78fws033\n",
      "uploaded: data/highsnobiety/Stone Island/stone-island-grime-turquoise-78fws033-right-side-img.jpeg\n",
      "uploaded: data/highsnobiety/Stone Island/stone-island-grime-turquoise-78fws033-left-side-img.jpeg\n"
     ]
    },
    {
     "name": "stderr",
     "output_type": "stream",
     "text": [
      " 41%|████      | 245/598 [00:33<01:29,  3.95it/s]"
     ]
    },
    {
     "name": "stdout",
     "output_type": "stream",
     "text": [
      "uploaded: data/highsnobiety/Stone Island/stone-island-grime-turquoise-78fws033-front-both-img.jpeg\n",
      "stone-island-grime-turquoise-78fws033 is done\n",
      "processing raf-simons-ultrasceptre-sneaker-blue\n",
      "uploaded: data/highsnobiety/Raf Simons/raf-simons-ultrasceptre-sneaker-blue-right-side-img.jpg\n",
      "uploaded: data/highsnobiety/Raf Simons/raf-simons-ultrasceptre-sneaker-blue-left-side-img.jpg\n"
     ]
    },
    {
     "name": "stderr",
     "output_type": "stream",
     "text": [
      " 41%|████      | 246/598 [00:36<01:47,  3.28it/s]"
     ]
    },
    {
     "name": "stdout",
     "output_type": "stream",
     "text": [
      "uploaded: data/highsnobiety/Raf Simons/raf-simons-ultrasceptre-sneaker-blue-front-both-img.jpg\n",
      "raf-simons-ultrasceptre-sneaker-blue is done\n",
      "processing raf-simons-ultrasceptre-sneaker-dark-blue\n",
      "uploaded: data/highsnobiety/Raf Simons/raf-simons-ultrasceptre-sneaker-dark-blue-right-side-img.jpg\n",
      "uploaded: data/highsnobiety/Raf Simons/raf-simons-ultrasceptre-sneaker-dark-blue-left-side-img.jpg\n",
      "uploaded: data/highsnobiety/Raf Simons/raf-simons-ultrasceptre-sneaker-dark-blue-front-both-img.jpg\n",
      "raf-simons-ultrasceptre-sneaker-dark-blue is done\n",
      "processing raf-simons-ultrasceptre-sneaker-green\n",
      "uploaded: data/highsnobiety/Raf Simons/raf-simons-ultrasceptre-sneaker-green-right-side-img.jpg\n",
      "uploaded: data/highsnobiety/Raf Simons/raf-simons-ultrasceptre-sneaker-green-left-side-img.jpg\n"
     ]
    },
    {
     "name": "stderr",
     "output_type": "stream",
     "text": [
      " 41%|████▏     | 248/598 [00:43<02:41,  2.17it/s]"
     ]
    },
    {
     "name": "stdout",
     "output_type": "stream",
     "text": [
      "uploaded: data/highsnobiety/Raf Simons/raf-simons-ultrasceptre-sneaker-green-front-both-img.jpg\n",
      "raf-simons-ultrasceptre-sneaker-green is done\n",
      "processing adidas-stan-smith-crepe-grey\n",
      "uploaded: data/highsnobiety/Adidas/adidas-stan-smith-crepe-grey-right-side-img.jpg\n",
      "uploaded: data/highsnobiety/Adidas/adidas-stan-smith-crepe-grey-left-side-img.jpg\n"
     ]
    },
    {
     "name": "stderr",
     "output_type": "stream",
     "text": [
      " 42%|████▏     | 249/598 [00:47<03:14,  1.80it/s]"
     ]
    },
    {
     "name": "stdout",
     "output_type": "stream",
     "text": [
      "uploaded: data/highsnobiety/Adidas/adidas-stan-smith-crepe-grey-front-both-img.jpg\n",
      "adidas-stan-smith-crepe-grey is done\n",
      "processing adidas-nmd-s1\n",
      "uploaded: data/highsnobiety/Adidas/adidas-nmd-s1-right-side-img.jpg\n",
      "uploaded: data/highsnobiety/Adidas/adidas-nmd-s1-left-side-img.jpg\n"
     ]
    },
    {
     "name": "stderr",
     "output_type": "stream",
     "text": [
      " 42%|████▏     | 250/598 [00:50<03:46,  1.53it/s]"
     ]
    },
    {
     "name": "stdout",
     "output_type": "stream",
     "text": [
      "uploaded: data/highsnobiety/Adidas/adidas-nmd-s1-front-both-img.jpg\n",
      "adidas-nmd-s1 is done\n",
      "processing merrell-moab-speed-zip-gore-tex-1trl-black\n",
      "uploaded: data/highsnobiety/Merrell/merrell-moab-speed-zip-gore-tex-1trl-black-right-side-img.jpg\n",
      "uploaded: data/highsnobiety/Merrell/merrell-moab-speed-zip-gore-tex-1trl-black-left-side-img.jpg\n"
     ]
    },
    {
     "name": "stderr",
     "output_type": "stream",
     "text": [
      " 42%|████▏     | 251/598 [00:53<04:31,  1.28it/s]"
     ]
    },
    {
     "name": "stdout",
     "output_type": "stream",
     "text": [
      "uploaded: data/highsnobiety/Merrell/merrell-moab-speed-zip-gore-tex-1trl-black-front-both-img.jpg\n",
      "merrell-moab-speed-zip-gore-tex-1trl-black is done\n",
      "processing maison-margiela-50-50-sneakers-white\n",
      "uploaded: data/highsnobiety/Maison Margiela/maison-margiela-50-50-sneakers-white-right-side-img.jpg\n",
      "uploaded: data/highsnobiety/Maison Margiela/maison-margiela-50-50-sneakers-white-left-side-img.jpg\n"
     ]
    },
    {
     "name": "stderr",
     "output_type": "stream",
     "text": [
      " 42%|████▏     | 252/598 [00:57<06:02,  1.05s/it]"
     ]
    },
    {
     "name": "stdout",
     "output_type": "stream",
     "text": [
      "uploaded: data/highsnobiety/Maison Margiela/maison-margiela-50-50-sneakers-white-front-both-img.jpg\n",
      "maison-margiela-50-50-sneakers-white is done\n",
      "processing reebok-milk-makeup-classic-vegan-miy-vintage-chalk-vector-red-core-black\n",
      "uploaded: data/highsnobiety/Reebok x Milk Makeup/reebok-milk-makeup-classic-vegan-miy-vintage-chalk-vector-red-core-black-right-side-img.jpeg\n",
      "uploaded: data/highsnobiety/Reebok x Milk Makeup/reebok-milk-makeup-classic-vegan-miy-vintage-chalk-vector-red-core-black-left-side-img.jpeg\n"
     ]
    },
    {
     "name": "stderr",
     "output_type": "stream",
     "text": [
      " 42%|████▏     | 253/598 [01:01<07:39,  1.33s/it]"
     ]
    },
    {
     "name": "stdout",
     "output_type": "stream",
     "text": [
      "uploaded: data/highsnobiety/Reebok x Milk Makeup/reebok-milk-makeup-classic-vegan-miy-vintage-chalk-vector-red-core-black-front-both-img.jpeg\n",
      "reebok-milk-makeup-classic-vegan-miy-vintage-chalk-vector-red-core-black is done\n",
      "processing reebok-milk-makeup-bb-4000-ii-vegan-vintage-chalk-vector-red-core-black\n",
      "uploaded: data/highsnobiety/Reebok x Milk Makeup/reebok-milk-makeup-bb-4000-ii-vegan-vintage-chalk-vector-red-core-black-right-side-img.jpg\n",
      "uploaded: data/highsnobiety/Reebok x Milk Makeup/reebok-milk-makeup-bb-4000-ii-vegan-vintage-chalk-vector-red-core-black-left-side-img.jpg\n"
     ]
    },
    {
     "name": "stderr",
     "output_type": "stream",
     "text": [
      " 42%|████▏     | 254/598 [01:05<09:34,  1.67s/it]"
     ]
    },
    {
     "name": "stdout",
     "output_type": "stream",
     "text": [
      "uploaded: data/highsnobiety/Reebok x Milk Makeup/reebok-milk-makeup-bb-4000-ii-vegan-vintage-chalk-vector-red-core-black-front-both-img.jpg\n",
      "reebok-milk-makeup-bb-4000-ii-vegan-vintage-chalk-vector-red-core-black is done\n",
      "processing saucony-highsnobiety-pro-grid-triumph-4-cream-white\n",
      "uploaded: data/highsnobiety/Saucony x Highsnobiety/saucony-highsnobiety-pro-grid-triumph-4-cream-white-right-side-img.jpg\n",
      "uploaded: data/highsnobiety/Saucony x Highsnobiety/saucony-highsnobiety-pro-grid-triumph-4-cream-white-left-side-img.jpg\n"
     ]
    },
    {
     "name": "stderr",
     "output_type": "stream",
     "text": [
      " 43%|████▎     | 255/598 [01:09<11:34,  2.02s/it]"
     ]
    },
    {
     "name": "stdout",
     "output_type": "stream",
     "text": [
      "uploaded: data/highsnobiety/Saucony x Highsnobiety/saucony-highsnobiety-pro-grid-triumph-4-cream-white-front-both-img.jpg\n",
      "saucony-highsnobiety-pro-grid-triumph-4-cream-white is done\n",
      "processing saucony-highsnobiety-pro-grid-triumph-4-silver-multi\n",
      "uploaded: data/highsnobiety/Saucony x Highsnobiety/saucony-highsnobiety-pro-grid-triumph-4-silver-multi-right-side-img.jpg\n",
      "uploaded: data/highsnobiety/Saucony x Highsnobiety/saucony-highsnobiety-pro-grid-triumph-4-silver-multi-left-side-img.jpg\n"
     ]
    },
    {
     "name": "stderr",
     "output_type": "stream",
     "text": [
      " 43%|████▎     | 256/598 [01:12<12:39,  2.22s/it]"
     ]
    },
    {
     "name": "stdout",
     "output_type": "stream",
     "text": [
      "uploaded: data/highsnobiety/Saucony x Highsnobiety/saucony-highsnobiety-pro-grid-triumph-4-silver-multi-front-both-img.jpg\n",
      "saucony-highsnobiety-pro-grid-triumph-4-silver-multi is done\n",
      "processing puma-clyde-soho-london-frosted-ivory-new-navy\n",
      "uploaded: data/highsnobiety/Puma/puma-clyde-soho-london-frosted-ivory-new-navy-right-side-img.jpg\n",
      "uploaded: data/highsnobiety/Puma/puma-clyde-soho-london-frosted-ivory-new-navy-left-side-img.jpg\n"
     ]
    },
    {
     "name": "stderr",
     "output_type": "stream",
     "text": [
      " 43%|████▎     | 257/598 [01:15<13:51,  2.44s/it]"
     ]
    },
    {
     "name": "stdout",
     "output_type": "stream",
     "text": [
      "uploaded: data/highsnobiety/Puma/puma-clyde-soho-london-frosted-ivory-new-navy-front-both-img.jpg\n",
      "puma-clyde-soho-london-frosted-ivory-new-navy is done\n",
      "processing puma-clyde-soho-nyc\n",
      "uploaded: data/highsnobiety/Puma/puma-clyde-soho-nyc-right-side-img.jpg\n",
      "uploaded: data/highsnobiety/Puma/puma-clyde-soho-nyc-left-side-img.jpg\n"
     ]
    },
    {
     "name": "stderr",
     "output_type": "stream",
     "text": [
      " 43%|████▎     | 258/598 [01:19<15:37,  2.76s/it]"
     ]
    },
    {
     "name": "stdout",
     "output_type": "stream",
     "text": [
      "uploaded: data/highsnobiety/Puma/puma-clyde-soho-nyc-front-both-img.jpg\n",
      "puma-clyde-soho-nyc is done\n",
      "processing new-balance-ualgsgp-dark-moss\n",
      "uploaded: data/highsnobiety/New Balance/new-balance-ualgsgp-dark-moss-right-side-img.jpg\n",
      "uploaded: data/highsnobiety/New Balance/new-balance-ualgsgp-dark-moss-left-side-img.jpg\n"
     ]
    },
    {
     "name": "stderr",
     "output_type": "stream",
     "text": [
      " 43%|████▎     | 259/598 [01:23<16:33,  2.93s/it]"
     ]
    },
    {
     "name": "stdout",
     "output_type": "stream",
     "text": [
      "uploaded: data/highsnobiety/New Balance/new-balance-ualgsgp-dark-moss-front-both-img.jpg\n",
      "new-balance-ualgsgp-dark-moss is done\n",
      "processing new-balance-urc30oa-vintage-indigo\n",
      "uploaded: data/highsnobiety/New Balance/new-balance-urc30oa-vintage-indigo-right-side-img.jpg\n",
      "uploaded: data/highsnobiety/New Balance/new-balance-urc30oa-vintage-indigo-left-side-img.jpg\n"
     ]
    },
    {
     "name": "stderr",
     "output_type": "stream",
     "text": [
      " 43%|████▎     | 260/598 [01:26<17:14,  3.06s/it]"
     ]
    },
    {
     "name": "stdout",
     "output_type": "stream",
     "text": [
      "uploaded: data/highsnobiety/New Balance/new-balance-urc30oa-vintage-indigo-front-both-img.jpg\n",
      "new-balance-urc30oa-vintage-indigo is done\n",
      "processing new-balance-ml-610-tah-dark-camo\n",
      "uploaded: data/highsnobiety/New Balance/new-balance-ml-610-tah-dark-camo-right-side-img.jpg\n",
      "uploaded: data/highsnobiety/New Balance/new-balance-ml-610-tah-dark-camo-left-side-img.jpg\n"
     ]
    },
    {
     "name": "stderr",
     "output_type": "stream",
     "text": [
      " 44%|████▎     | 261/598 [01:30<18:53,  3.36s/it]"
     ]
    },
    {
     "name": "stdout",
     "output_type": "stream",
     "text": [
      "uploaded: data/highsnobiety/New Balance/new-balance-ml-610-tah-dark-camo-front-both-img.jpg\n",
      "new-balance-ml-610-tah-dark-camo is done\n",
      "processing new-balance-ou-576-ann-navy\n",
      "uploaded: data/highsnobiety/New Balance/new-balance-ou-576-ann-navy-right-side-img.jpg\n",
      "uploaded: data/highsnobiety/New Balance/new-balance-ou-576-ann-navy-left-side-img.jpg\n"
     ]
    },
    {
     "name": "stderr",
     "output_type": "stream",
     "text": [
      " 44%|████▍     | 262/598 [01:34<19:36,  3.50s/it]"
     ]
    },
    {
     "name": "stdout",
     "output_type": "stream",
     "text": [
      "uploaded: data/highsnobiety/New Balance/new-balance-ou-576-ann-navy-front-both-img.jpg\n",
      "new-balance-ou-576-ann-navy is done\n",
      "processing new-balance-mt-580-hsc-grey\n",
      "uploaded: data/highsnobiety/New Balance/new-balance-mt-580-hsc-grey-right-side-img.jpg\n",
      "uploaded: data/highsnobiety/New Balance/new-balance-mt-580-hsc-grey-left-side-img.jpg\n"
     ]
    },
    {
     "name": "stderr",
     "output_type": "stream",
     "text": [
      " 44%|████▍     | 263/598 [01:38<20:00,  3.58s/it]"
     ]
    },
    {
     "name": "stdout",
     "output_type": "stream",
     "text": [
      "uploaded: data/highsnobiety/New Balance/new-balance-mt-580-hsc-grey-front-both-img.jpg\n",
      "new-balance-mt-580-hsc-grey is done\n",
      "processing new-balance-m-991-bgg-blue-grey\n",
      "uploaded: data/highsnobiety/New Balance/new-balance-m-991-bgg-blue-grey-right-side-img.jpg\n",
      "uploaded: data/highsnobiety/New Balance/new-balance-m-991-bgg-blue-grey-left-side-img.jpg\n"
     ]
    },
    {
     "name": "stderr",
     "output_type": "stream",
     "text": [
      " 44%|████▍     | 264/598 [01:42<21:32,  3.87s/it]"
     ]
    },
    {
     "name": "stdout",
     "output_type": "stream",
     "text": [
      "uploaded: data/highsnobiety/New Balance/new-balance-m-991-bgg-blue-grey-front-both-img.jpg\n",
      "new-balance-m-991-bgg-blue-grey is done\n",
      "processing new-balance-ualgsbg-true-brown\n",
      "uploaded: data/highsnobiety/New Balance/new-balance-ualgsbg-true-brown-right-side-img.jpg\n",
      "uploaded: data/highsnobiety/New Balance/new-balance-ualgsbg-true-brown-left-side-img.jpg\n"
     ]
    },
    {
     "name": "stderr",
     "output_type": "stream",
     "text": [
      " 44%|████▍     | 265/598 [01:47<22:27,  4.05s/it]"
     ]
    },
    {
     "name": "stdout",
     "output_type": "stream",
     "text": [
      "uploaded: data/highsnobiety/New Balance/new-balance-ualgsbg-true-brown-front-both-img.jpg\n",
      "new-balance-ualgsbg-true-brown is done\n",
      "processing new-balance-ml-610-tae-silver-metallic\n",
      "uploaded: data/highsnobiety/New Balance/new-balance-ml-610-tae-silver-metallic-right-side-img.jpg\n",
      "uploaded: data/highsnobiety/New Balance/new-balance-ml-610-tae-silver-metallic-left-side-img.jpg\n"
     ]
    },
    {
     "name": "stderr",
     "output_type": "stream",
     "text": [
      " 44%|████▍     | 266/598 [01:51<22:18,  4.03s/it]"
     ]
    },
    {
     "name": "stdout",
     "output_type": "stream",
     "text": [
      "uploaded: data/highsnobiety/New Balance/new-balance-ml-610-tae-silver-metallic-front-both-img.jpg\n",
      "new-balance-ml-610-tae-silver-metallic is done\n",
      "processing new-balance-bb650rgg-light-aluminum\n",
      "uploaded: data/highsnobiety/New Balance/new-balance-bb650rgg-light-aluminum-right-side-img.jpg\n",
      "uploaded: data/highsnobiety/New Balance/new-balance-bb650rgg-light-aluminum-left-side-img.jpg\n"
     ]
    },
    {
     "name": "stderr",
     "output_type": "stream",
     "text": [
      " 45%|████▍     | 267/598 [01:53<19:50,  3.60s/it]"
     ]
    },
    {
     "name": "stdout",
     "output_type": "stream",
     "text": [
      "uploaded: data/highsnobiety/New Balance/new-balance-bb650rgg-light-aluminum-front-both-img.jpg\n",
      "new-balance-bb650rgg-light-aluminum is done\n",
      "processing new-balance-bb480lng-white\n",
      "uploaded: data/highsnobiety/New Balance/new-balance-bb480lng-white-right-side-img.jpg\n",
      "uploaded: data/highsnobiety/New Balance/new-balance-bb480lng-white-left-side-img.jpg\n"
     ]
    },
    {
     "name": "stderr",
     "output_type": "stream",
     "text": [
      " 45%|████▍     | 268/598 [01:57<19:38,  3.57s/it]"
     ]
    },
    {
     "name": "stdout",
     "output_type": "stream",
     "text": [
      "uploaded: data/highsnobiety/New Balance/new-balance-bb480lng-white-front-both-img.jpg\n",
      "new-balance-bb480lng-white is done\n",
      "processing new-balance-ml-610-taf-black\n",
      "uploaded: data/highsnobiety/New Balance/new-balance-ml-610-taf-black-right-side-img.jpg\n"
     ]
    },
    {
     "name": "stderr",
     "output_type": "stream",
     "text": [
      " 45%|████▍     | 269/598 [02:01<19:49,  3.62s/it]"
     ]
    },
    {
     "name": "stdout",
     "output_type": "stream",
     "text": [
      "uploaded: data/highsnobiety/New Balance/new-balance-ml-610-taf-black-left-side-img.jpg\n",
      "uploaded: data/highsnobiety/New Balance/new-balance-ml-610-taf-black-front-both-img.jpg\n",
      "new-balance-ml-610-taf-black is done\n",
      "processing new-balance-mt-580-mdb-black\n",
      "uploaded: data/highsnobiety/New Balance/new-balance-mt-580-mdb-black-right-side-img.jpg\n",
      "uploaded: data/highsnobiety/New Balance/new-balance-mt-580-mdb-black-left-side-img.jpg\n"
     ]
    },
    {
     "name": "stderr",
     "output_type": "stream",
     "text": [
      " 45%|████▌     | 270/598 [02:03<17:53,  3.27s/it]"
     ]
    },
    {
     "name": "stdout",
     "output_type": "stream",
     "text": [
      "uploaded: data/highsnobiety/New Balance/new-balance-mt-580-mdb-black-front-both-img.jpg\n",
      "new-balance-mt-580-mdb-black is done\n",
      "processing new-balance-ml-610-tag-angora\n",
      "uploaded: data/highsnobiety/New Balance/new-balance-ml-610-tag-angora-right-side-img.jpg\n",
      "uploaded: data/highsnobiety/New Balance/new-balance-ml-610-tag-angora-left-side-img.jpg\n"
     ]
    },
    {
     "name": "stderr",
     "output_type": "stream",
     "text": [
      " 45%|████▌     | 271/598 [02:06<17:07,  3.14s/it]"
     ]
    },
    {
     "name": "stdout",
     "output_type": "stream",
     "text": [
      "uploaded: data/highsnobiety/New Balance/new-balance-ml-610-tag-angora-front-both-img.jpg\n",
      "new-balance-ml-610-tag-angora is done\n",
      "processing new-balance-bb650rcl-white\n",
      "uploaded: data/highsnobiety/New Balance/new-balance-bb650rcl-white-right-side-img.jpg\n",
      "uploaded: data/highsnobiety/New Balance/new-balance-bb650rcl-white-left-side-img.jpg\n"
     ]
    },
    {
     "name": "stderr",
     "output_type": "stream",
     "text": [
      " 45%|████▌     | 272/598 [02:09<17:10,  3.16s/it]"
     ]
    },
    {
     "name": "stdout",
     "output_type": "stream",
     "text": [
      "uploaded: data/highsnobiety/New Balance/new-balance-bb650rcl-white-front-both-img.jpg\n",
      "new-balance-bb650rcl-white is done\n",
      "processing new-balance-u-9060-mus-mushroom\n",
      "uploaded: data/highsnobiety/New Balance/new-balance-u-9060-mus-mushroom-right-side-img.jpg\n",
      "uploaded: data/highsnobiety/New Balance/new-balance-u-9060-mus-mushroom-left-side-img.jpg\n"
     ]
    },
    {
     "name": "stderr",
     "output_type": "stream",
     "text": [
      " 46%|████▌     | 273/598 [02:12<16:57,  3.13s/it]"
     ]
    },
    {
     "name": "stdout",
     "output_type": "stream",
     "text": [
      "uploaded: data/highsnobiety/New Balance/new-balance-u-9060-mus-mushroom-front-both-img.jpg\n",
      "new-balance-u-9060-mus-mushroom is done\n",
      "processing on-cloudventure-olive-fir\n",
      "uploaded: data/highsnobiety/On/on-cloudventure-olive-fir-right-side-img.jpg\n",
      "uploaded: data/highsnobiety/On/on-cloudventure-olive-fir-left-side-img.jpg\n"
     ]
    },
    {
     "name": "stderr",
     "output_type": "stream",
     "text": [
      " 46%|████▌     | 274/598 [02:16<17:23,  3.22s/it]"
     ]
    },
    {
     "name": "stdout",
     "output_type": "stream",
     "text": [
      "uploaded: data/highsnobiety/On/on-cloudventure-olive-fir-front-both-img.jpg\n",
      "on-cloudventure-olive-fir is done\n",
      "processing on-cloudsurfer-white-frost\n",
      "uploaded: data/highsnobiety/On/on-cloudsurfer-white-frost-right-side-img.jpg\n",
      "uploaded: data/highsnobiety/On/on-cloudsurfer-white-frost-left-side-img.jpg\n"
     ]
    },
    {
     "name": "stderr",
     "output_type": "stream",
     "text": [
      " 46%|████▌     | 275/598 [02:19<17:33,  3.26s/it]"
     ]
    },
    {
     "name": "stdout",
     "output_type": "stream",
     "text": [
      "uploaded: data/highsnobiety/On/on-cloudsurfer-white-frost-front-both-img.jpg\n",
      "on-cloudsurfer-white-frost is done\n",
      "processing on-cloudwander-waterproof-high-alpine-ivory-black\n",
      "uploaded: data/highsnobiety/On/on-cloudwander-waterproof-high-alpine-ivory-black-right-side-img.jpg\n",
      "uploaded: data/highsnobiety/On/on-cloudwander-waterproof-high-alpine-ivory-black-left-side-img.jpg\n"
     ]
    },
    {
     "name": "stderr",
     "output_type": "stream",
     "text": [
      " 46%|████▌     | 276/598 [02:23<18:23,  3.43s/it]"
     ]
    },
    {
     "name": "stdout",
     "output_type": "stream",
     "text": [
      "uploaded: data/highsnobiety/On/on-cloudwander-waterproof-high-alpine-ivory-black-front-both-img.jpg\n",
      "on-cloudwander-waterproof-high-alpine-ivory-black is done\n",
      "processing on-cloudwander-waterproof-glacier-eclipse\n",
      "uploaded: data/highsnobiety/On/on-cloudwander-waterproof-glacier-eclipse-right-side-img.jpg\n",
      "uploaded: data/highsnobiety/On/on-cloudwander-waterproof-glacier-eclipse-left-side-img.jpg\n"
     ]
    },
    {
     "name": "stderr",
     "output_type": "stream",
     "text": [
      " 46%|████▋     | 277/598 [02:26<18:25,  3.44s/it]"
     ]
    },
    {
     "name": "stdout",
     "output_type": "stream",
     "text": [
      "uploaded: data/highsnobiety/On/on-cloudwander-waterproof-glacier-eclipse-front-both-img.jpg\n",
      "on-cloudwander-waterproof-glacier-eclipse is done\n",
      "processing on-cloudultra-exclusive-flame-storm\n",
      "uploaded: data/highsnobiety/On/on-cloudultra-exclusive-flame-storm-right-side-img.jpg\n",
      "uploaded: data/highsnobiety/On/on-cloudultra-exclusive-flame-storm-left-side-img.jpg\n"
     ]
    },
    {
     "name": "stderr",
     "output_type": "stream",
     "text": [
      " 46%|████▋     | 278/598 [02:30<18:35,  3.49s/it]"
     ]
    },
    {
     "name": "stdout",
     "output_type": "stream",
     "text": [
      "uploaded: data/highsnobiety/On/on-cloudultra-exclusive-flame-storm-front-both-img.jpg\n",
      "on-cloudultra-exclusive-flame-storm is done\n",
      "processing on-cloudvista-waterproof-metal-denim\n",
      "uploaded: data/highsnobiety/On/on-cloudvista-waterproof-metal-denim-right-side-img.jpg\n",
      "uploaded: data/highsnobiety/On/on-cloudvista-waterproof-metal-denim-left-side-img.jpg\n"
     ]
    },
    {
     "name": "stderr",
     "output_type": "stream",
     "text": [
      " 47%|████▋     | 279/598 [02:35<20:36,  3.88s/it]"
     ]
    },
    {
     "name": "stdout",
     "output_type": "stream",
     "text": [
      "uploaded: data/highsnobiety/On/on-cloudvista-waterproof-metal-denim-front-both-img.jpg\n",
      "on-cloudvista-waterproof-metal-denim is done\n",
      "processing salomon-pulsar-advanced-vanila-feather-grey\n",
      "uploaded: data/highsnobiety/Salomon/salomon-pulsar-advanced-vanila-feather-grey-right-side-img.jpg\n",
      "uploaded: data/highsnobiety/Salomon/salomon-pulsar-advanced-vanila-feather-grey-left-side-img.jpg\n"
     ]
    },
    {
     "name": "stderr",
     "output_type": "stream",
     "text": [
      " 47%|████▋     | 280/598 [02:38<20:11,  3.81s/it]"
     ]
    },
    {
     "name": "stdout",
     "output_type": "stream",
     "text": [
      "uploaded: data/highsnobiety/Salomon/salomon-pulsar-advanced-vanila-feather-grey-front-both-img.jpg\n",
      "salomon-pulsar-advanced-vanila-feather-grey is done\n",
      "processing salomon-pulsar-advanced-black-black-pewter\n",
      "uploaded: data/highsnobiety/Salomon/salomon-pulsar-advanced-black-black-pewter-right-side-img.jpg\n",
      "uploaded: data/highsnobiety/Salomon/salomon-pulsar-advanced-black-black-pewter-left-side-img.jpg\n"
     ]
    },
    {
     "name": "stderr",
     "output_type": "stream",
     "text": [
      " 47%|████▋     | 281/598 [02:42<19:38,  3.72s/it]"
     ]
    },
    {
     "name": "stdout",
     "output_type": "stream",
     "text": [
      "uploaded: data/highsnobiety/Salomon/salomon-pulsar-advanced-black-black-pewter-front-both-img.jpg\n",
      "salomon-pulsar-advanced-black-black-pewter is done\n",
      "processing converse-drkshdw-turbodrk-chuck-70-laceless-hi-pink\n",
      "uploaded: data/highsnobiety/Converse x DRKSHDW/converse-drkshdw-turbodrk-chuck-70-laceless-hi-pink-right-side-img.jpg\n",
      "uploaded: data/highsnobiety/Converse x DRKSHDW/converse-drkshdw-turbodrk-chuck-70-laceless-hi-pink-left-side-img.jpg\n"
     ]
    },
    {
     "name": "stderr",
     "output_type": "stream",
     "text": [
      " 47%|████▋     | 282/598 [02:45<19:19,  3.67s/it]"
     ]
    },
    {
     "name": "stdout",
     "output_type": "stream",
     "text": [
      "uploaded: data/highsnobiety/Converse x DRKSHDW/converse-drkshdw-turbodrk-chuck-70-laceless-hi-pink-front-both-img.jpg\n",
      "converse-drkshdw-turbodrk-chuck-70-laceless-hi-pink is done\n",
      "processing converse-drkshdw-turbodrk-chuck-70-laceless-hi-brown\n",
      "uploaded: data/highsnobiety/Converse x DRKSHDW/converse-drkshdw-turbodrk-chuck-70-laceless-hi-brown-right-side-img.jpg\n",
      "uploaded: data/highsnobiety/Converse x DRKSHDW/converse-drkshdw-turbodrk-chuck-70-laceless-hi-brown-left-side-img.jpg\n"
     ]
    },
    {
     "name": "stderr",
     "output_type": "stream",
     "text": [
      " 47%|████▋     | 283/598 [02:50<20:11,  3.85s/it]"
     ]
    },
    {
     "name": "stdout",
     "output_type": "stream",
     "text": [
      "uploaded: data/highsnobiety/Converse x DRKSHDW/converse-drkshdw-turbodrk-chuck-70-laceless-hi-brown-front-both-img.jpg\n",
      "converse-drkshdw-turbodrk-chuck-70-laceless-hi-brown is done\n",
      "processing converse-trek-chuck-70-beige\n",
      "uploaded: data/highsnobiety/Converse/converse-trek-chuck-70-beige-right-side-img.jpg\n",
      "uploaded: data/highsnobiety/Converse/converse-trek-chuck-70-beige-left-side-img.jpg\n"
     ]
    },
    {
     "name": "stderr",
     "output_type": "stream",
     "text": [
      " 47%|████▋     | 284/598 [02:53<18:58,  3.62s/it]"
     ]
    },
    {
     "name": "stdout",
     "output_type": "stream",
     "text": [
      "uploaded: data/highsnobiety/Converse/converse-trek-chuck-70-beige-front-both-img.jpg\n",
      "converse-trek-chuck-70-beige is done\n",
      "processing new-balance-bb650rce-white\n",
      "uploaded: data/highsnobiety/New Balance/new-balance-bb650rce-white-right-side-img.jpg\n",
      "uploaded: data/highsnobiety/New Balance/new-balance-bb650rce-white-left-side-img.jpg\n"
     ]
    },
    {
     "name": "stderr",
     "output_type": "stream",
     "text": [
      " 48%|████▊     | 285/598 [02:55<17:28,  3.35s/it]"
     ]
    },
    {
     "name": "stdout",
     "output_type": "stream",
     "text": [
      "uploaded: data/highsnobiety/New Balance/new-balance-bb650rce-white-front-both-img.jpg\n",
      "new-balance-bb650rce-white is done\n",
      "processing adidas-andre-saraiva-stan-smith-white-green\n",
      "uploaded: data/highsnobiety/Adidas/adidas-andre-saraiva-stan-smith-white-green-right-side-img.jpg\n",
      "uploaded: data/highsnobiety/Adidas/adidas-andre-saraiva-stan-smith-white-green-left-side-img.jpg\n"
     ]
    },
    {
     "name": "stderr",
     "output_type": "stream",
     "text": [
      " 48%|████▊     | 286/598 [03:00<18:51,  3.63s/it]"
     ]
    },
    {
     "name": "stdout",
     "output_type": "stream",
     "text": [
      "uploaded: data/highsnobiety/Adidas/adidas-andre-saraiva-stan-smith-white-green-front-both-img.jpg\n",
      "adidas-andre-saraiva-stan-smith-white-green is done\n",
      "processing adidas-orketro-aluminum-white\n",
      "uploaded: data/highsnobiety/Adidas/adidas-orketro-aluminum-white-right-side-img.jpg\n",
      "uploaded: data/highsnobiety/Adidas/adidas-orketro-aluminum-white-left-side-img.jpg\n"
     ]
    },
    {
     "name": "stderr",
     "output_type": "stream",
     "text": [
      " 48%|████▊     | 287/598 [03:03<18:35,  3.59s/it]"
     ]
    },
    {
     "name": "stdout",
     "output_type": "stream",
     "text": [
      "uploaded: data/highsnobiety/Adidas/adidas-orketro-aluminum-white-front-both-img.jpg\n",
      "adidas-orketro-aluminum-white is done\n",
      "processing salomon-acs-pro-peat-beluga-vintage-khaki\n",
      "uploaded: data/highsnobiety/Salomon/salomon-acs-pro-peat-beluga-vintage-khaki-right-side-img.jpg\n",
      "uploaded: data/highsnobiety/Salomon/salomon-acs-pro-peat-beluga-vintage-khaki-left-side-img.jpg\n"
     ]
    },
    {
     "name": "stderr",
     "output_type": "stream",
     "text": [
      " 48%|████▊     | 288/598 [03:07<18:16,  3.54s/it]"
     ]
    },
    {
     "name": "stdout",
     "output_type": "stream",
     "text": [
      "uploaded: data/highsnobiety/Salomon/salomon-acs-pro-peat-beluga-vintage-khaki-front-both-img.jpg\n",
      "salomon-acs-pro-peat-beluga-vintage-khaki is done\n",
      "processing salomon-xt-4-og-vanilla-ice-fiery-red-wht\n",
      "uploaded: data/highsnobiety/Salomon/salomon-xt-4-og-vanilla-ice-fiery-red-wht-right-side-img.jpg\n",
      "uploaded: data/highsnobiety/Salomon/salomon-xt-4-og-vanilla-ice-fiery-red-wht-left-side-img.jpg\n"
     ]
    },
    {
     "name": "stderr",
     "output_type": "stream",
     "text": [
      " 48%|████▊     | 289/598 [03:10<18:36,  3.61s/it]"
     ]
    },
    {
     "name": "stdout",
     "output_type": "stream",
     "text": [
      "uploaded: data/highsnobiety/Salomon/salomon-xt-4-og-vanilla-ice-fiery-red-wht-front-both-img.jpg\n",
      "salomon-xt-4-og-vanilla-ice-fiery-red-wht is done\n",
      "processing converse-run-star-motion-cx-platform-beach-stone\n",
      "uploaded: data/highsnobiety/Converse/converse-run-star-motion-cx-platform-beach-stone-right-side-img.jpg\n",
      "uploaded: data/highsnobiety/Converse/converse-run-star-motion-cx-platform-beach-stone-left-side-img.jpg\n"
     ]
    },
    {
     "name": "stderr",
     "output_type": "stream",
     "text": [
      " 48%|████▊     | 290/598 [03:15<20:07,  3.92s/it]"
     ]
    },
    {
     "name": "stdout",
     "output_type": "stream",
     "text": [
      "uploaded: data/highsnobiety/Converse/converse-run-star-motion-cx-platform-beach-stone-front-both-img.jpg\n",
      "converse-run-star-motion-cx-platform-beach-stone is done\n",
      "processing new-balance-m2002rdl-driftwood\n",
      "uploaded: data/highsnobiety/New Balance/new-balance-m2002rdl-driftwood-right-side-img.jpg\n",
      "uploaded: data/highsnobiety/New Balance/new-balance-m2002rdl-driftwood-left-side-img.jpeg\n"
     ]
    },
    {
     "name": "stderr",
     "output_type": "stream",
     "text": [
      " 49%|████▊     | 291/598 [03:19<19:27,  3.80s/it]"
     ]
    },
    {
     "name": "stdout",
     "output_type": "stream",
     "text": [
      "uploaded: data/highsnobiety/New Balance/new-balance-m2002rdl-driftwood-front-both-img.jpeg\n",
      "new-balance-m2002rdl-driftwood is done\n",
      "processing converse-fragment-weapon-mid-white-sport-royal-black\n",
      "uploaded: data/highsnobiety/Converse x Fragment/converse-fragment-weapon-mid-white-sport-royal-black-right-side-img.jpg\n",
      "uploaded: data/highsnobiety/Converse x Fragment/converse-fragment-weapon-mid-white-sport-royal-black-left-side-img.jpg\n"
     ]
    },
    {
     "name": "stderr",
     "output_type": "stream",
     "text": [
      " 49%|████▉     | 292/598 [03:23<20:52,  4.09s/it]"
     ]
    },
    {
     "name": "stdout",
     "output_type": "stream",
     "text": [
      "uploaded: data/highsnobiety/Converse x Fragment/converse-fragment-weapon-mid-white-sport-royal-black-front-both-img.jpg\n",
      "converse-fragment-weapon-mid-white-sport-royal-black is done\n",
      "processing converse-herringbone-one-star-pro-ox-moms-potato-salad-egret-oat-milk\n",
      "uploaded: data/highsnobiety/Converse x Herringbone/converse-herringbone-one-star-pro-ox-moms-potato-salad-egret-oat-milk-right-side-img.jpg\n",
      "uploaded: data/highsnobiety/Converse x Herringbone/converse-herringbone-one-star-pro-ox-moms-potato-salad-egret-oat-milk-left-side-img.jpg\n"
     ]
    },
    {
     "name": "stderr",
     "output_type": "stream",
     "text": [
      " 49%|████▉     | 293/598 [03:27<19:33,  3.85s/it]"
     ]
    },
    {
     "name": "stdout",
     "output_type": "stream",
     "text": [
      "uploaded: data/highsnobiety/Converse x Herringbone/converse-herringbone-one-star-pro-ox-moms-potato-salad-egret-oat-milk-front-both-img.jpg\n",
      "converse-herringbone-one-star-pro-ox-moms-potato-salad-egret-oat-milk is done\n",
      "processing converse-herringbone-chuck-70-hi-grassy-alligator-friend-oat-milk\n",
      "uploaded: data/highsnobiety/Converse x Herringbone/converse-herringbone-chuck-70-hi-grassy-alligator-friend-oat-milk-right-side-img.jpg\n",
      "uploaded: data/highsnobiety/Converse x Herringbone/converse-herringbone-chuck-70-hi-grassy-alligator-friend-oat-milk-left-side-img.jpg\n"
     ]
    },
    {
     "name": "stderr",
     "output_type": "stream",
     "text": [
      " 49%|████▉     | 294/598 [03:30<18:18,  3.61s/it]"
     ]
    },
    {
     "name": "stdout",
     "output_type": "stream",
     "text": [
      "uploaded: data/highsnobiety/Converse x Herringbone/converse-herringbone-chuck-70-hi-grassy-alligator-friend-oat-milk-front-both-img.jpg\n",
      "converse-herringbone-chuck-70-hi-grassy-alligator-friend-oat-milk is done\n",
      "processing converse-herringbone-chuck-70-ox-engine-smoke-toad-beach-stone\n",
      "uploaded: data/highsnobiety/Converse x Herringbone/converse-herringbone-chuck-70-ox-engine-smoke-toad-beach-stone-right-side-img.jpg\n",
      "uploaded: data/highsnobiety/Converse x Herringbone/converse-herringbone-chuck-70-ox-engine-smoke-toad-beach-stone-left-side-img.jpg\n"
     ]
    },
    {
     "name": "stderr",
     "output_type": "stream",
     "text": [
      " 49%|████▉     | 295/598 [03:33<17:47,  3.52s/it]"
     ]
    },
    {
     "name": "stdout",
     "output_type": "stream",
     "text": [
      "uploaded: data/highsnobiety/Converse x Herringbone/converse-herringbone-chuck-70-ox-engine-smoke-toad-beach-stone-front-both-img.jpg\n",
      "converse-herringbone-chuck-70-ox-engine-smoke-toad-beach-stone is done\n",
      "processing hoka-clifton-l-suede-beige\n",
      "uploaded: data/highsnobiety/HOKA/hoka-clifton-l-suede-beige-right-side-img.jpg\n",
      "uploaded: data/highsnobiety/HOKA/hoka-clifton-l-suede-beige-left-side-img.jpg\n"
     ]
    },
    {
     "name": "stderr",
     "output_type": "stream",
     "text": [
      " 49%|████▉     | 296/598 [03:37<17:41,  3.51s/it]"
     ]
    },
    {
     "name": "stdout",
     "output_type": "stream",
     "text": [
      "uploaded: data/highsnobiety/HOKA/hoka-clifton-l-suede-beige-front-both-img.jpg\n",
      "hoka-clifton-l-suede-beige is done\n",
      "processing hoka-m-bondi-8-white\n",
      "uploaded: data/highsnobiety/HOKA/hoka-m-bondi-8-white-right-side-img.jpg\n",
      "uploaded: data/highsnobiety/HOKA/hoka-m-bondi-8-white-left-side-img.jpg\n"
     ]
    },
    {
     "name": "stderr",
     "output_type": "stream",
     "text": [
      " 50%|████▉     | 297/598 [03:40<16:55,  3.37s/it]"
     ]
    },
    {
     "name": "stdout",
     "output_type": "stream",
     "text": [
      "uploaded: data/highsnobiety/HOKA/hoka-m-bondi-8-white-front-both-img.jpg\n",
      "hoka-m-bondi-8-white is done\n",
      "processing reebok-milk-makeup-club-c-85-vegan-vintage-chalk-vector-red-core-black\n",
      "uploaded: data/highsnobiety/Reebok x Milk Makeup/reebok-milk-makeup-club-c-85-vegan-vintage-chalk-vector-red-core-black-right-side-img.jpg\n",
      "uploaded: data/highsnobiety/Reebok x Milk Makeup/reebok-milk-makeup-club-c-85-vegan-vintage-chalk-vector-red-core-black-left-side-img.jpg\n"
     ]
    },
    {
     "name": "stderr",
     "output_type": "stream",
     "text": [
      " 50%|████▉     | 298/598 [03:43<17:21,  3.47s/it]"
     ]
    },
    {
     "name": "stdout",
     "output_type": "stream",
     "text": [
      "uploaded: data/highsnobiety/Reebok x Milk Makeup/reebok-milk-makeup-club-c-85-vegan-vintage-chalk-vector-red-core-black-front-both-img.jpg\n",
      "reebok-milk-makeup-club-c-85-vegan-vintage-chalk-vector-red-core-black is done\n",
      "processing saucony-3d-grid-hurricane-green-cream\n",
      "uploaded: data/highsnobiety/Saucony/saucony-3d-grid-hurricane-green-cream-right-side-img.jpg\n",
      "uploaded: data/highsnobiety/Saucony/saucony-3d-grid-hurricane-green-cream-left-side-img.jpg\n"
     ]
    },
    {
     "name": "stderr",
     "output_type": "stream",
     "text": [
      " 50%|█████     | 299/598 [03:47<17:16,  3.47s/it]"
     ]
    },
    {
     "name": "stdout",
     "output_type": "stream",
     "text": [
      "uploaded: data/highsnobiety/Saucony/saucony-3d-grid-hurricane-green-cream-front-both-img.jpg\n",
      "saucony-3d-grid-hurricane-green-cream is done\n",
      "processing saucony-progrid-triumph-4-yellow-silver\n",
      "uploaded: data/highsnobiety/Saucony/saucony-progrid-triumph-4-yellow-silver-right-side-img.jpg\n",
      "uploaded: data/highsnobiety/Saucony/saucony-progrid-triumph-4-yellow-silver-left-side-img.jpg\n"
     ]
    },
    {
     "name": "stderr",
     "output_type": "stream",
     "text": [
      " 50%|█████     | 300/598 [03:50<17:38,  3.55s/it]"
     ]
    },
    {
     "name": "stdout",
     "output_type": "stream",
     "text": [
      "uploaded: data/highsnobiety/Saucony/saucony-progrid-triumph-4-yellow-silver-front-both-img.jpg\n",
      "saucony-progrid-triumph-4-yellow-silver is done\n",
      "processing saucony-progrid-triumph-4-black-silver\n",
      "uploaded: data/highsnobiety/Saucony/saucony-progrid-triumph-4-black-silver-right-side-img.jpg\n",
      "uploaded: data/highsnobiety/Saucony/saucony-progrid-triumph-4-black-silver-left-side-img.jpg\n"
     ]
    },
    {
     "name": "stderr",
     "output_type": "stream",
     "text": [
      " 50%|█████     | 301/598 [03:53<16:24,  3.31s/it]"
     ]
    },
    {
     "name": "stdout",
     "output_type": "stream",
     "text": [
      "uploaded: data/highsnobiety/Saucony/saucony-progrid-triumph-4-black-silver-front-both-img.jpg\n",
      "saucony-progrid-triumph-4-black-silver is done\n",
      "processing saucony-3d-grid-hurricane-grey-cream\n",
      "uploaded: data/highsnobiety/Saucony/saucony-3d-grid-hurricane-grey-cream-right-side-img.jpg\n",
      "uploaded: data/highsnobiety/Saucony/saucony-3d-grid-hurricane-grey-cream-left-side-img.jpg\n"
     ]
    },
    {
     "name": "stderr",
     "output_type": "stream",
     "text": [
      " 51%|█████     | 302/598 [03:56<16:05,  3.26s/it]"
     ]
    },
    {
     "name": "stdout",
     "output_type": "stream",
     "text": [
      "uploaded: data/highsnobiety/Saucony/saucony-3d-grid-hurricane-grey-cream-front-both-img.jpg\n",
      "saucony-3d-grid-hurricane-grey-cream is done\n",
      "processing saucony-3d-grid-hurricane-brown-rust\n",
      "uploaded: data/highsnobiety/Saucony/saucony-3d-grid-hurricane-brown-rust-right-side-img.jpg\n",
      "uploaded: data/highsnobiety/Saucony/saucony-3d-grid-hurricane-brown-rust-left-side-img.jpg\n"
     ]
    },
    {
     "name": "stderr",
     "output_type": "stream",
     "text": [
      " 51%|█████     | 303/598 [04:00<16:16,  3.31s/it]"
     ]
    },
    {
     "name": "stdout",
     "output_type": "stream",
     "text": [
      "uploaded: data/highsnobiety/Saucony/saucony-3d-grid-hurricane-brown-rust-front-both-img.jpg\n",
      "saucony-3d-grid-hurricane-brown-rust is done\n",
      "processing mizuno-wave-rider-10-white\n",
      "uploaded: data/highsnobiety/Mizuno/mizuno-wave-rider-10-white-right-side-img.jpg\n",
      "uploaded: data/highsnobiety/Mizuno/mizuno-wave-rider-10-white-left-side-img.jpg\n"
     ]
    },
    {
     "name": "stderr",
     "output_type": "stream",
     "text": [
      " 51%|█████     | 304/598 [04:03<16:34,  3.38s/it]"
     ]
    },
    {
     "name": "stdout",
     "output_type": "stream",
     "text": [
      "uploaded: data/highsnobiety/Mizuno/mizuno-wave-rider-10-white-front-both-img.jpg\n",
      "mizuno-wave-rider-10-white is done\n",
      "processing adidas-orketro-white-silver\n",
      "uploaded: data/highsnobiety/Adidas/adidas-orketro-white-silver-right-side-img.jpg\n",
      "uploaded: data/highsnobiety/Adidas/adidas-orketro-white-silver-left-side-img.jpg\n"
     ]
    },
    {
     "name": "stderr",
     "output_type": "stream",
     "text": [
      " 51%|█████     | 305/598 [04:07<17:12,  3.53s/it]"
     ]
    },
    {
     "name": "stdout",
     "output_type": "stream",
     "text": [
      "uploaded: data/highsnobiety/Adidas/adidas-orketro-white-silver-front-both-img.jpg\n",
      "adidas-orketro-white-silver is done\n",
      "processing veja-v-15-chrome-free-leather-white-pierre-sahara\n",
      "uploaded: data/highsnobiety/VEJA/veja-v-15-chrome-free-leather-white-pierre-sahara-right-side-img.jpg\n",
      "uploaded: data/highsnobiety/VEJA/veja-v-15-chrome-free-leather-white-pierre-sahara-left-side-img.jpg\n"
     ]
    },
    {
     "name": "stderr",
     "output_type": "stream",
     "text": [
      " 51%|█████     | 306/598 [04:11<17:41,  3.64s/it]"
     ]
    },
    {
     "name": "stdout",
     "output_type": "stream",
     "text": [
      "uploaded: data/highsnobiety/VEJA/veja-v-15-chrome-free-leather-white-pierre-sahara-front-both-img.jpg\n",
      "veja-v-15-chrome-free-leather-white-pierre-sahara is done\n",
      "processing veja-campo-chrome-free-leather-white-matcha\n",
      "uploaded: data/highsnobiety/VEJA/veja-campo-chrome-free-leather-white-matcha-right-side-img.jpg\n",
      "uploaded: data/highsnobiety/VEJA/veja-campo-chrome-free-leather-white-matcha-left-side-img.jpg\n"
     ]
    },
    {
     "name": "stderr",
     "output_type": "stream",
     "text": [
      " 51%|█████▏    | 307/598 [04:15<17:56,  3.70s/it]"
     ]
    },
    {
     "name": "stdout",
     "output_type": "stream",
     "text": [
      "uploaded: data/highsnobiety/VEJA/veja-campo-chrome-free-leather-white-matcha-front-both-img.jpg\n",
      "veja-campo-chrome-free-leather-white-matcha is done\n",
      "processing new-balance-urainac-marblehead\n",
      "uploaded: data/highsnobiety/New Balance/new-balance-urainac-marblehead-right-side-img.jpg\n",
      "uploaded: data/highsnobiety/New Balance/new-balance-urainac-marblehead-left-side-img.jpg\n"
     ]
    },
    {
     "name": "stderr",
     "output_type": "stream",
     "text": [
      " 52%|█████▏    | 308/598 [04:19<17:39,  3.65s/it]"
     ]
    },
    {
     "name": "stdout",
     "output_type": "stream",
     "text": [
      "uploaded: data/highsnobiety/New Balance/new-balance-urainac-marblehead-front-both-img.jpg\n",
      "new-balance-urainac-marblehead is done\n",
      "processing salomon-xt-slate-advanced-vanilla-rainy-day\n",
      "uploaded: data/highsnobiety/Salomon/salomon-xt-slate-advanced-vanilla-rainy-day-right-side-img.jpeg\n",
      "uploaded: data/highsnobiety/Salomon/salomon-xt-slate-advanced-vanilla-rainy-day-left-side-img.jpeg\n"
     ]
    },
    {
     "name": "stderr",
     "output_type": "stream",
     "text": [
      " 52%|█████▏    | 309/598 [04:23<18:34,  3.86s/it]"
     ]
    },
    {
     "name": "stdout",
     "output_type": "stream",
     "text": [
      "uploaded: data/highsnobiety/Salomon/salomon-xt-slate-advanced-vanilla-rainy-day-front-both-img.jpeg\n",
      "salomon-xt-slate-advanced-vanilla-rainy-day is done\n",
      "processing stone-island-grime-pistachio-78fws033\n",
      "uploaded: data/highsnobiety/Stone Island/stone-island-grime-pistachio-78fws033-right-side-img.jpeg\n",
      "uploaded: data/highsnobiety/Stone Island/stone-island-grime-pistachio-78fws033-left-side-img.jpeg\n"
     ]
    },
    {
     "name": "stderr",
     "output_type": "stream",
     "text": [
      " 52%|█████▏    | 310/598 [04:27<18:47,  3.92s/it]"
     ]
    },
    {
     "name": "stdout",
     "output_type": "stream",
     "text": [
      "uploaded: data/highsnobiety/Stone Island/stone-island-grime-pistachio-78fws033-front-both-img.jpeg\n",
      "stone-island-grime-pistachio-78fws033 is done\n",
      "processing mizuno-maharishi-wave-rider-10-olive-green\n",
      "uploaded: data/highsnobiety/Mizuno x Maharishi/mizuno-maharishi-wave-rider-10-olive-green-right-side-img.jpg\n",
      "uploaded: data/highsnobiety/Mizuno x Maharishi/mizuno-maharishi-wave-rider-10-olive-green-left-side-img.jpg\n"
     ]
    },
    {
     "name": "stderr",
     "output_type": "stream",
     "text": [
      " 52%|█████▏    | 311/598 [04:30<18:08,  3.79s/it]"
     ]
    },
    {
     "name": "stdout",
     "output_type": "stream",
     "text": [
      "uploaded: data/highsnobiety/Mizuno x Maharishi/mizuno-maharishi-wave-rider-10-olive-green-front-both-img.jpg\n",
      "mizuno-maharishi-wave-rider-10-olive-green is done\n",
      "processing new-balance-mr530bb-white\n",
      "uploaded: data/highsnobiety/New Balance/new-balance-mr530bb-white-right-side-img.jpeg\n",
      "uploaded: data/highsnobiety/New Balance/new-balance-mr530bb-white-left-side-img.jpeg\n"
     ]
    },
    {
     "name": "stderr",
     "output_type": "stream",
     "text": [
      " 52%|█████▏    | 312/598 [04:34<17:33,  3.68s/it]"
     ]
    },
    {
     "name": "stdout",
     "output_type": "stream",
     "text": [
      "uploaded: data/highsnobiety/New Balance/new-balance-mr530bb-white-front-both-img.jpeg\n",
      "new-balance-mr530bb-white is done\n",
      "processing new-balance-mr530ba-white\n",
      "uploaded: data/highsnobiety/New Balance/new-balance-mr530ba-white-right-side-img.jpeg\n",
      "uploaded: data/highsnobiety/New Balance/new-balance-mr530ba-white-left-side-img.jpeg\n"
     ]
    },
    {
     "name": "stderr",
     "output_type": "stream",
     "text": [
      " 52%|█████▏    | 313/598 [04:37<17:25,  3.67s/it]"
     ]
    },
    {
     "name": "stdout",
     "output_type": "stream",
     "text": [
      "uploaded: data/highsnobiety/New Balance/new-balance-mr530ba-white-front-both-img.jpeg\n",
      "new-balance-mr530ba-white is done\n",
      "processing saucony-grid-azura-2000-black-silver\n",
      "uploaded: data/highsnobiety/Saucony/saucony-grid-azura-2000-black-silver-right-side-img.jpg\n",
      "uploaded: data/highsnobiety/Saucony/saucony-grid-azura-2000-black-silver-left-side-img.jpg\n"
     ]
    },
    {
     "name": "stderr",
     "output_type": "stream",
     "text": [
      " 53%|█████▎    | 314/598 [04:40<16:19,  3.45s/it]"
     ]
    },
    {
     "name": "stdout",
     "output_type": "stream",
     "text": [
      "uploaded: data/highsnobiety/Saucony/saucony-grid-azura-2000-black-silver-front-both-img.jpg\n",
      "saucony-grid-azura-2000-black-silver is done\n",
      "processing saucony-jazz-81-sand\n",
      "uploaded: data/highsnobiety/Saucony/saucony-jazz-81-sand-right-side-img.jpg\n",
      "uploaded: data/highsnobiety/Saucony/saucony-jazz-81-sand-left-side-img.jpg\n"
     ]
    },
    {
     "name": "stderr",
     "output_type": "stream",
     "text": [
      " 53%|█████▎    | 315/598 [04:44<15:47,  3.35s/it]"
     ]
    },
    {
     "name": "stdout",
     "output_type": "stream",
     "text": [
      "uploaded: data/highsnobiety/Saucony/saucony-jazz-81-sand-front-both-img.jpg\n",
      "saucony-jazz-81-sand is done\n",
      "processing saucony-progrid-triumph-4-lemon\n",
      "uploaded: data/highsnobiety/Saucony/saucony-progrid-triumph-4-lemon-right-side-img.jpg\n",
      "uploaded: data/highsnobiety/Saucony/saucony-progrid-triumph-4-lemon-left-side-img.jpg\n"
     ]
    },
    {
     "name": "stderr",
     "output_type": "stream",
     "text": [
      " 53%|█████▎    | 316/598 [04:47<16:27,  3.50s/it]"
     ]
    },
    {
     "name": "stdout",
     "output_type": "stream",
     "text": [
      "uploaded: data/highsnobiety/Saucony/saucony-progrid-triumph-4-lemon-front-both-img.jpg\n",
      "saucony-progrid-triumph-4-lemon is done\n",
      "processing saucony-progrid-triumph-4-white\n",
      "uploaded: data/highsnobiety/Saucony/saucony-progrid-triumph-4-white-right-side-img.jpg\n",
      "uploaded: data/highsnobiety/Saucony/saucony-progrid-triumph-4-white-left-side-img.jpg\n"
     ]
    },
    {
     "name": "stderr",
     "output_type": "stream",
     "text": [
      " 53%|█████▎    | 317/598 [04:51<17:05,  3.65s/it]"
     ]
    },
    {
     "name": "stdout",
     "output_type": "stream",
     "text": [
      "uploaded: data/highsnobiety/Saucony/saucony-progrid-triumph-4-white-front-both-img.jpg\n",
      "saucony-progrid-triumph-4-white is done\n",
      "processing saucony-shadow-6000-suede-grey\n",
      "uploaded: data/highsnobiety/Saucony/saucony-shadow-6000-suede-grey-right-side-img.jpg\n",
      "uploaded: data/highsnobiety/Saucony/saucony-shadow-6000-suede-grey-left-side-img.jpg\n"
     ]
    },
    {
     "name": "stderr",
     "output_type": "stream",
     "text": [
      " 53%|█████▎    | 318/598 [04:55<16:45,  3.59s/it]"
     ]
    },
    {
     "name": "stdout",
     "output_type": "stream",
     "text": [
      "uploaded: data/highsnobiety/Saucony/saucony-shadow-6000-suede-grey-front-both-img.jpg\n",
      "saucony-shadow-6000-suede-grey is done\n",
      "processing hoka-mafate-speed-2-flame-evening-primrose\n",
      "uploaded: data/highsnobiety/HOKA/hoka-mafate-speed-2-flame-evening-primrose-right-side-img.jpg\n",
      "uploaded: data/highsnobiety/HOKA/hoka-mafate-speed-2-flame-evening-primrose-left-side-img.jpg\n"
     ]
    },
    {
     "name": "stderr",
     "output_type": "stream",
     "text": [
      " 53%|█████▎    | 319/598 [04:59<17:08,  3.69s/it]"
     ]
    },
    {
     "name": "stdout",
     "output_type": "stream",
     "text": [
      "uploaded: data/highsnobiety/HOKA/hoka-mafate-speed-2-flame-evening-primrose-front-both-img.jpg\n",
      "hoka-mafate-speed-2-flame-evening-primrose is done\n",
      "processing salomon-speedverse-prg-wht-vanila-phantm\n",
      "uploaded: data/highsnobiety/Salomon/salomon-speedverse-prg-wht-vanila-phantm-right-side-img.jpeg\n",
      "uploaded: data/highsnobiety/Salomon/salomon-speedverse-prg-wht-vanila-phantm-left-side-img.jpeg\n"
     ]
    },
    {
     "name": "stderr",
     "output_type": "stream",
     "text": [
      " 54%|█████▎    | 320/598 [05:02<15:58,  3.45s/it]"
     ]
    },
    {
     "name": "stdout",
     "output_type": "stream",
     "text": [
      "uploaded: data/highsnobiety/Salomon/salomon-speedverse-prg-wht-vanila-phantm-front-both-img.jpeg\n",
      "salomon-speedverse-prg-wht-vanila-phantm is done\n",
      "processing converse-chuck-70-ox-naturally-digital-burnt-honey-cyber-grey\n",
      "uploaded: data/highsnobiety/Converse/converse-chuck-70-ox-naturally-digital-burnt-honey-cyber-grey-right-side-img.jpeg\n",
      "uploaded: data/highsnobiety/Converse/converse-chuck-70-ox-naturally-digital-burnt-honey-cyber-grey-left-side-img.jpeg\n"
     ]
    },
    {
     "name": "stderr",
     "output_type": "stream",
     "text": [
      " 54%|█████▎    | 321/598 [05:05<15:49,  3.43s/it]"
     ]
    },
    {
     "name": "stdout",
     "output_type": "stream",
     "text": [
      "uploaded: data/highsnobiety/Converse/converse-chuck-70-ox-naturally-digital-burnt-honey-cyber-grey-front-both-img.jpeg\n",
      "converse-chuck-70-ox-naturally-digital-burnt-honey-cyber-grey is done\n",
      "processing keen-uneek-dark-olive-sugar-brown\n",
      "uploaded: data/highsnobiety/Keen/keen-uneek-dark-olive-sugar-brown-right-side-img.jpeg\n",
      "uploaded: data/highsnobiety/Keen/keen-uneek-dark-olive-sugar-brown-left-side-img.jpeg\n"
     ]
    },
    {
     "name": "stderr",
     "output_type": "stream",
     "text": [
      " 54%|█████▍    | 322/598 [05:09<16:01,  3.48s/it]"
     ]
    },
    {
     "name": "stdout",
     "output_type": "stream",
     "text": [
      "uploaded: data/highsnobiety/Keen/keen-uneek-dark-olive-sugar-brown-front-both-img.jpeg\n",
      "keen-uneek-dark-olive-sugar-brown is done\n",
      "processing converse-chuck-70-ox-squirrel-friend-egret-black\n",
      "uploaded: data/highsnobiety/Converse/converse-chuck-70-ox-squirrel-friend-egret-black-right-side-img.jpeg\n",
      "uploaded: data/highsnobiety/Converse/converse-chuck-70-ox-squirrel-friend-egret-black-left-side-img.jpeg\n"
     ]
    },
    {
     "name": "stderr",
     "output_type": "stream",
     "text": [
      " 54%|█████▍    | 323/598 [05:12<16:25,  3.58s/it]"
     ]
    },
    {
     "name": "stdout",
     "output_type": "stream",
     "text": [
      "uploaded: data/highsnobiety/Converse/converse-chuck-70-ox-squirrel-friend-egret-black-front-both-img.jpeg\n",
      "converse-chuck-70-ox-squirrel-friend-egret-black is done\n",
      "processing converse-chuck-70-ox-summit-sage-egret-black\n",
      "uploaded: data/highsnobiety/Converse/converse-chuck-70-ox-summit-sage-egret-black-right-side-img.jpeg\n",
      "uploaded: data/highsnobiety/Converse/converse-chuck-70-ox-summit-sage-egret-black-left-side-img.jpeg\n"
     ]
    },
    {
     "name": "stderr",
     "output_type": "stream",
     "text": [
      " 54%|█████▍    | 324/598 [05:18<18:44,  4.10s/it]"
     ]
    },
    {
     "name": "stdout",
     "output_type": "stream",
     "text": [
      "uploaded: data/highsnobiety/Converse/converse-chuck-70-ox-summit-sage-egret-black-front-both-img.jpeg\n",
      "converse-chuck-70-ox-summit-sage-egret-black is done\n",
      "processing salomon-and-wander-xt-slate-white\n",
      "uploaded: data/highsnobiety/Salomon x And Wander/salomon-and-wander-xt-slate-white-right-side-img.jpeg\n",
      "uploaded: data/highsnobiety/Salomon x And Wander/salomon-and-wander-xt-slate-white-left-side-img.jpeg\n"
     ]
    },
    {
     "name": "stderr",
     "output_type": "stream",
     "text": [
      " 54%|█████▍    | 325/598 [05:21<17:58,  3.95s/it]"
     ]
    },
    {
     "name": "stdout",
     "output_type": "stream",
     "text": [
      "uploaded: data/highsnobiety/Salomon x And Wander/salomon-and-wander-xt-slate-white-front-both-img.jpeg\n",
      "salomon-and-wander-xt-slate-white is done\n",
      "processing salomon-and-wander-jungle-ultra-low-grey\n",
      "uploaded: data/highsnobiety/Salomon x And Wander/salomon-and-wander-jungle-ultra-low-grey-right-side-img.jpeg\n",
      "uploaded: data/highsnobiety/Salomon x And Wander/salomon-and-wander-jungle-ultra-low-grey-left-side-img.jpeg\n"
     ]
    },
    {
     "name": "stderr",
     "output_type": "stream",
     "text": [
      " 55%|█████▍    | 326/598 [05:25<17:43,  3.91s/it]"
     ]
    },
    {
     "name": "stdout",
     "output_type": "stream",
     "text": [
      "uploaded: data/highsnobiety/Salomon x And Wander/salomon-and-wander-jungle-ultra-low-grey-front-both-img.jpeg\n",
      "salomon-and-wander-jungle-ultra-low-grey is done\n",
      "processing camperlab-tossu-beige\n",
      "uploaded: data/highsnobiety/CAMPERLAB/camperlab-tossu-beige-right-side-img.jpg\n"
     ]
    },
    {
     "name": "stderr",
     "output_type": "stream",
     "text": [
      " 55%|█████▍    | 327/598 [05:29<17:54,  3.97s/it]"
     ]
    },
    {
     "name": "stdout",
     "output_type": "stream",
     "text": [
      "uploaded: data/highsnobiety/CAMPERLAB/camperlab-tossu-beige-left-side-img.jpg\n",
      "uploaded: data/highsnobiety/CAMPERLAB/camperlab-tossu-beige-front-both-img.jpg\n",
      "camperlab-tossu-beige is done\n",
      "processing camperlab-tossu-black\n",
      "uploaded: data/highsnobiety/CAMPERLAB/camperlab-tossu-black-right-side-img.jpg\n"
     ]
    },
    {
     "name": "stderr",
     "output_type": "stream",
     "text": [
      " 55%|█████▍    | 328/598 [05:32<16:50,  3.74s/it]"
     ]
    },
    {
     "name": "stdout",
     "output_type": "stream",
     "text": [
      "uploaded: data/highsnobiety/CAMPERLAB/camperlab-tossu-black-left-side-img.jpg\n",
      "uploaded: data/highsnobiety/CAMPERLAB/camperlab-tossu-black-front-both-img.jpg\n",
      "camperlab-tossu-black is done\n",
      "processing camperlab-tossu-pink\n",
      "uploaded: data/highsnobiety/CAMPERLAB/camperlab-tossu-pink-right-side-img.jpeg\n",
      "uploaded: data/highsnobiety/CAMPERLAB/camperlab-tossu-pink-left-side-img.jpeg\n"
     ]
    },
    {
     "name": "stderr",
     "output_type": "stream",
     "text": [
      " 55%|█████▌    | 329/598 [05:36<16:12,  3.61s/it]"
     ]
    },
    {
     "name": "stdout",
     "output_type": "stream",
     "text": [
      "uploaded: data/highsnobiety/CAMPERLAB/camperlab-tossu-pink-front-both-img.jpeg\n",
      "camperlab-tossu-pink is done\n",
      "processing camperlab-tossu-green\n",
      "uploaded: data/highsnobiety/CAMPERLAB/camperlab-tossu-green-right-side-img.jpeg\n"
     ]
    },
    {
     "name": "stderr",
     "output_type": "stream",
     "text": [
      " 55%|█████▌    | 330/598 [05:39<15:32,  3.48s/it]"
     ]
    },
    {
     "name": "stdout",
     "output_type": "stream",
     "text": [
      "uploaded: data/highsnobiety/CAMPERLAB/camperlab-tossu-green-left-side-img.jpeg\n",
      "uploaded: data/highsnobiety/CAMPERLAB/camperlab-tossu-green-front-both-img.jpeg\n",
      "camperlab-tossu-green is done\n",
      "processing converse-chuck-70-hi-south-of-houston-white-sunlight-pale-putty\n",
      "uploaded: data/highsnobiety/Converse/converse-chuck-70-hi-south-of-houston-white-sunlight-pale-putty-right-side-img.jpeg\n",
      "uploaded: data/highsnobiety/Converse/converse-chuck-70-hi-south-of-houston-white-sunlight-pale-putty-left-side-img.jpeg\n"
     ]
    },
    {
     "name": "stderr",
     "output_type": "stream",
     "text": [
      " 55%|█████▌    | 331/598 [05:42<15:15,  3.43s/it]"
     ]
    },
    {
     "name": "stdout",
     "output_type": "stream",
     "text": [
      "uploaded: data/highsnobiety/Converse/converse-chuck-70-hi-south-of-houston-white-sunlight-pale-putty-front-both-img.jpeg\n",
      "converse-chuck-70-hi-south-of-houston-white-sunlight-pale-putty is done\n",
      "processing converse-one-star-pro-ox-south-of-houston-pale-putty-natural-ivory\n",
      "uploaded: data/highsnobiety/Converse/converse-one-star-pro-ox-south-of-houston-pale-putty-natural-ivory-right-side-img.jpeg\n",
      "uploaded: data/highsnobiety/Converse/converse-one-star-pro-ox-south-of-houston-pale-putty-natural-ivory-left-side-img.jpeg\n"
     ]
    },
    {
     "name": "stderr",
     "output_type": "stream",
     "text": [
      " 56%|█████▌    | 332/598 [05:45<14:35,  3.29s/it]"
     ]
    },
    {
     "name": "stdout",
     "output_type": "stream",
     "text": [
      "uploaded: data/highsnobiety/Converse/converse-one-star-pro-ox-south-of-houston-pale-putty-natural-ivory-front-both-img.jpeg\n",
      "converse-one-star-pro-ox-south-of-houston-pale-putty-natural-ivory is done\n",
      "processing adidas-terrex-and-wander-free-hiker-2-bronze-strata-matte-silver-grey-four\n",
      "uploaded: data/highsnobiety/adidas Terrex x And Wander/adidas-terrex-and-wander-free-hiker-2-bronze-strata-matte-silver-grey-four-right-side-img.jpg\n",
      "uploaded: data/highsnobiety/adidas Terrex x And Wander/adidas-terrex-and-wander-free-hiker-2-bronze-strata-matte-silver-grey-four-left-side-img.jpg\n"
     ]
    },
    {
     "name": "stderr",
     "output_type": "stream",
     "text": [
      " 56%|█████▌    | 333/598 [05:48<14:29,  3.28s/it]"
     ]
    },
    {
     "name": "stdout",
     "output_type": "stream",
     "text": [
      "uploaded: data/highsnobiety/adidas Terrex x And Wander/adidas-terrex-and-wander-free-hiker-2-bronze-strata-matte-silver-grey-four-front-both-img.jpg\n",
      "adidas-terrex-and-wander-free-hiker-2-bronze-strata-matte-silver-grey-four is done\n",
      "processing salomon-pas-normal-studios-xa-alpine-2-moss-gray-deep-lichen-green-gull\n",
      "uploaded: data/highsnobiety/Salomon x PAS NORMAL STUDIOS/salomon-pas-normal-studios-xa-alpine-2-moss-gray-deep-lichen-green-gull-right-side-img.jpeg\n",
      "uploaded: data/highsnobiety/Salomon x PAS NORMAL STUDIOS/salomon-pas-normal-studios-xa-alpine-2-moss-gray-deep-lichen-green-gull-left-side-img.jpeg\n"
     ]
    },
    {
     "name": "stderr",
     "output_type": "stream",
     "text": [
      " 56%|█████▌    | 334/598 [05:52<14:07,  3.21s/it]"
     ]
    },
    {
     "name": "stdout",
     "output_type": "stream",
     "text": [
      "uploaded: data/highsnobiety/Salomon x PAS NORMAL STUDIOS/salomon-pas-normal-studios-xa-alpine-2-moss-gray-deep-lichen-green-gull-front-both-img.jpeg\n",
      "salomon-pas-normal-studios-xa-alpine-2-moss-gray-deep-lichen-green-gull is done\n",
      "processing vans-ua-authentic-vr3-pw-lx-beige\n",
      "uploaded: data/highsnobiety/Vans/vans-ua-authentic-vr3-pw-lx-beige-right-side-img.jpeg\n",
      "uploaded: data/highsnobiety/Vans/vans-ua-authentic-vr3-pw-lx-beige-left-side-img.jpeg\n"
     ]
    },
    {
     "name": "stderr",
     "output_type": "stream",
     "text": [
      " 56%|█████▌    | 335/598 [05:55<14:25,  3.29s/it]"
     ]
    },
    {
     "name": "stdout",
     "output_type": "stream",
     "text": [
      "uploaded: data/highsnobiety/Vans/vans-ua-authentic-vr3-pw-lx-beige-front-both-img.jpeg\n",
      "vans-ua-authentic-vr3-pw-lx-beige is done\n",
      "processing puma-plexus-juun-j\n",
      "uploaded: data/highsnobiety/Puma/puma-plexus-juun-j-right-side-img.jpeg\n",
      "uploaded: data/highsnobiety/Puma/puma-plexus-juun-j-left-side-img.jpeg\n"
     ]
    },
    {
     "name": "stderr",
     "output_type": "stream",
     "text": [
      " 56%|█████▌    | 336/598 [05:59<14:46,  3.39s/it]"
     ]
    },
    {
     "name": "stdout",
     "output_type": "stream",
     "text": [
      "uploaded: data/highsnobiety/Puma/puma-plexus-juun-j-front-both-img.jpeg\n",
      "puma-plexus-juun-j is done\n",
      "processing puma-clyde-base-black\n",
      "uploaded: data/highsnobiety/Puma/puma-clyde-base-black-right-side-img.jpeg\n",
      "uploaded: data/highsnobiety/Puma/puma-clyde-base-black-left-side-img.jpeg\n"
     ]
    },
    {
     "name": "stderr",
     "output_type": "stream",
     "text": [
      " 56%|█████▋    | 337/598 [06:02<15:16,  3.51s/it]"
     ]
    },
    {
     "name": "stdout",
     "output_type": "stream",
     "text": [
      "uploaded: data/highsnobiety/Puma/puma-clyde-base-black-front-both-img.jpeg\n",
      "puma-clyde-base-black is done\n",
      "processing salomon-xt-6-rubber-lizard-eden\n",
      "uploaded: data/highsnobiety/Salomon/salomon-xt-6-rubber-lizard-eden-right-side-img.jpeg\n",
      "uploaded: data/highsnobiety/Salomon/salomon-xt-6-rubber-lizard-eden-left-side-img.jpeg\n"
     ]
    },
    {
     "name": "stderr",
     "output_type": "stream",
     "text": [
      " 57%|█████▋    | 338/598 [06:05<14:19,  3.30s/it]"
     ]
    },
    {
     "name": "stdout",
     "output_type": "stream",
     "text": [
      "uploaded: data/highsnobiety/Salomon/salomon-xt-6-rubber-lizard-eden-front-both-img.jpeg\n",
      "salomon-xt-6-rubber-lizard-eden is done\n",
      "processing converse-cons-alltimers-one-star-pro-ox-midnight-navy-navy\n",
      "uploaded: data/highsnobiety/Converse/converse-cons-alltimers-one-star-pro-ox-midnight-navy-navy-right-side-img.jpg\n",
      "uploaded: data/highsnobiety/Converse/converse-cons-alltimers-one-star-pro-ox-midnight-navy-navy-left-side-img.jpg\n"
     ]
    },
    {
     "name": "stderr",
     "output_type": "stream",
     "text": [
      " 57%|█████▋    | 339/598 [06:10<15:38,  3.62s/it]"
     ]
    },
    {
     "name": "stdout",
     "output_type": "stream",
     "text": [
      "uploaded: data/highsnobiety/Converse/converse-cons-alltimers-one-star-pro-ox-midnight-navy-navy-front-both-img.jpg\n",
      "converse-cons-alltimers-one-star-pro-ox-midnight-navy-navy is done\n",
      "processing new-balance-m1906rcd-silver-metallic\n",
      "uploaded: data/highsnobiety/New Balance/new-balance-m1906rcd-silver-metallic-right-side-img.jpg\n",
      "uploaded: data/highsnobiety/New Balance/new-balance-m1906rcd-silver-metallic-left-side-img.jpg\n"
     ]
    },
    {
     "name": "stderr",
     "output_type": "stream",
     "text": [
      " 57%|█████▋    | 340/598 [06:14<15:59,  3.72s/it]"
     ]
    },
    {
     "name": "stdout",
     "output_type": "stream",
     "text": [
      "uploaded: data/highsnobiety/New Balance/new-balance-m1906rcd-silver-metallic-front-both-img.jpg\n",
      "new-balance-m1906rcd-silver-metallic is done\n",
      "processing new-balance-urainal-black\n",
      "uploaded: data/highsnobiety/New Balance/new-balance-urainal-black-right-side-img.jpeg\n",
      "uploaded: data/highsnobiety/New Balance/new-balance-urainal-black-left-side-img.jpeg\n"
     ]
    },
    {
     "name": "stderr",
     "output_type": "stream",
     "text": [
      " 57%|█████▋    | 341/598 [06:17<15:56,  3.72s/it]"
     ]
    },
    {
     "name": "stdout",
     "output_type": "stream",
     "text": [
      "uploaded: data/highsnobiety/New Balance/new-balance-urainal-black-front-both-img.jpeg\n",
      "new-balance-urainal-black is done\n",
      "processing salomon-pas-normal-studios-rx-snug\n",
      "uploaded: data/highsnobiety/Salomon x PAS NORMAL STUDIOS/salomon-pas-normal-studios-rx-snug-right-side-img.jpeg\n",
      "uploaded: data/highsnobiety/Salomon x PAS NORMAL STUDIOS/salomon-pas-normal-studios-rx-snug-left-side-img.jpeg\n"
     ]
    },
    {
     "name": "stderr",
     "output_type": "stream",
     "text": [
      " 57%|█████▋    | 342/598 [06:21<16:04,  3.77s/it]"
     ]
    },
    {
     "name": "stdout",
     "output_type": "stream",
     "text": [
      "uploaded: data/highsnobiety/Salomon x PAS NORMAL STUDIOS/salomon-pas-normal-studios-rx-snug-front-both-img.jpeg\n",
      "salomon-pas-normal-studios-rx-snug is done\n",
      "processing hoka-kaha-2-low-gtx-beige\n",
      "uploaded: data/highsnobiety/HOKA/hoka-kaha-2-low-gtx-beige-right-side-img.jpg\n",
      "uploaded: data/highsnobiety/HOKA/hoka-kaha-2-low-gtx-beige-left-side-img.jpg\n"
     ]
    },
    {
     "name": "stderr",
     "output_type": "stream",
     "text": [
      " 57%|█████▋    | 343/598 [06:25<15:35,  3.67s/it]"
     ]
    },
    {
     "name": "stdout",
     "output_type": "stream",
     "text": [
      "uploaded: data/highsnobiety/HOKA/hoka-kaha-2-low-gtx-beige-front-both-img.jpg\n",
      "hoka-kaha-2-low-gtx-beige is done\n",
      "processing our-legacy-gabe-sneakers-chrome-peak\n",
      "uploaded: data/highsnobiety/Our Legacy/our-legacy-gabe-sneakers-chrome-peak-right-side-img.jpg\n",
      "uploaded: data/highsnobiety/Our Legacy/our-legacy-gabe-sneakers-chrome-peak-left-side-img.jpeg\n"
     ]
    },
    {
     "name": "stderr",
     "output_type": "stream",
     "text": [
      " 58%|█████▊    | 344/598 [06:28<15:22,  3.63s/it]"
     ]
    },
    {
     "name": "stdout",
     "output_type": "stream",
     "text": [
      "uploaded: data/highsnobiety/Our Legacy/our-legacy-gabe-sneakers-chrome-peak-front-both-img.jpeg\n",
      "our-legacy-gabe-sneakers-chrome-peak is done\n",
      "processing new-balance-ualgsog-tan\n",
      "uploaded: data/highsnobiety/New Balance/new-balance-ualgsog-tan-right-side-img.jpg\n",
      "uploaded: data/highsnobiety/New Balance/new-balance-ualgsog-tan-left-side-img.jpg\n"
     ]
    },
    {
     "name": "stderr",
     "output_type": "stream",
     "text": [
      " 58%|█████▊    | 345/598 [06:32<15:45,  3.74s/it]"
     ]
    },
    {
     "name": "stdout",
     "output_type": "stream",
     "text": [
      "uploaded: data/highsnobiety/New Balance/new-balance-ualgsog-tan-front-both-img.jpg\n",
      "new-balance-ualgsog-tan is done\n",
      "processing converse-chuck-70-hi-rhubarb-pie-egret-black\n",
      "uploaded: data/highsnobiety/Converse/converse-chuck-70-hi-rhubarb-pie-egret-black-right-side-img.jpeg\n",
      "uploaded: data/highsnobiety/Converse/converse-chuck-70-hi-rhubarb-pie-egret-black-left-side-img.jpeg\n"
     ]
    },
    {
     "name": "stderr",
     "output_type": "stream",
     "text": [
      " 58%|█████▊    | 346/598 [06:36<15:26,  3.68s/it]"
     ]
    },
    {
     "name": "stdout",
     "output_type": "stream",
     "text": [
      "uploaded: data/highsnobiety/Converse/converse-chuck-70-hi-rhubarb-pie-egret-black-front-both-img.jpeg\n",
      "converse-chuck-70-hi-rhubarb-pie-egret-black is done\n",
      "processing converse-chuck-70-hi-tonal-polyester-desert-cargo-egret-black\n",
      "uploaded: data/highsnobiety/Converse/converse-chuck-70-hi-tonal-polyester-desert-cargo-egret-black-right-side-img.jpeg\n",
      "uploaded: data/highsnobiety/Converse/converse-chuck-70-hi-tonal-polyester-desert-cargo-egret-black-left-side-img.jpeg\n"
     ]
    },
    {
     "name": "stderr",
     "output_type": "stream",
     "text": [
      " 58%|█████▊    | 347/598 [06:41<17:09,  4.10s/it]"
     ]
    },
    {
     "name": "stdout",
     "output_type": "stream",
     "text": [
      "uploaded: data/highsnobiety/Converse/converse-chuck-70-hi-tonal-polyester-desert-cargo-egret-black-front-both-img.jpeg\n",
      "converse-chuck-70-hi-tonal-polyester-desert-cargo-egret-black is done\n",
      "processing mizuno-wave-prophecy-ls-black\n",
      "uploaded: data/highsnobiety/Mizuno/mizuno-wave-prophecy-ls-black-right-side-img.jpeg\n",
      "uploaded: data/highsnobiety/Mizuno/mizuno-wave-prophecy-ls-black-left-side-img.jpeg\n"
     ]
    },
    {
     "name": "stderr",
     "output_type": "stream",
     "text": [
      " 58%|█████▊    | 348/598 [06:44<15:36,  3.75s/it]"
     ]
    },
    {
     "name": "stdout",
     "output_type": "stream",
     "text": [
      "uploaded: data/highsnobiety/Mizuno/mizuno-wave-prophecy-ls-black-front-both-img.jpeg\n",
      "mizuno-wave-prophecy-ls-black is done\n",
      "processing new-balance-ml610tc-arctic-grey\n",
      "uploaded: data/highsnobiety/New Balance/new-balance-ml610tc-arctic-grey-right-side-img.jpg\n",
      "uploaded: data/highsnobiety/New Balance/new-balance-ml610tc-arctic-grey-left-side-img.jpg\n"
     ]
    },
    {
     "name": "stderr",
     "output_type": "stream",
     "text": [
      " 58%|█████▊    | 349/598 [06:47<15:21,  3.70s/it]"
     ]
    },
    {
     "name": "stdout",
     "output_type": "stream",
     "text": [
      "uploaded: data/highsnobiety/New Balance/new-balance-ml610tc-arctic-grey-front-both-img.jpg\n",
      "new-balance-ml610tc-arctic-grey is done\n",
      "processing new-balance-ml610tbe-mindful-grey\n",
      "uploaded: data/highsnobiety/New Balance/new-balance-ml610tbe-mindful-grey-right-side-img.jpg\n",
      "uploaded: data/highsnobiety/New Balance/new-balance-ml610tbe-mindful-grey-left-side-img.jpg\n"
     ]
    },
    {
     "name": "stderr",
     "output_type": "stream",
     "text": [
      " 59%|█████▊    | 350/598 [06:51<15:29,  3.75s/it]"
     ]
    },
    {
     "name": "stdout",
     "output_type": "stream",
     "text": [
      "uploaded: data/highsnobiety/New Balance/new-balance-ml610tbe-mindful-grey-front-both-img.jpg\n",
      "new-balance-ml610tbe-mindful-grey is done\n",
      "processing converse-chuck-taylor-all-star-construct-hi-vintage-white-black-egret\n",
      "uploaded: data/highsnobiety/Converse/converse-chuck-taylor-all-star-construct-hi-vintage-white-black-egret-right-side-img.jpg\n",
      "uploaded: data/highsnobiety/Converse/converse-chuck-taylor-all-star-construct-hi-vintage-white-black-egret-left-side-img.jpg\n"
     ]
    },
    {
     "name": "stderr",
     "output_type": "stream",
     "text": [
      " 59%|█████▊    | 351/598 [06:54<14:57,  3.63s/it]"
     ]
    },
    {
     "name": "stdout",
     "output_type": "stream",
     "text": [
      "uploaded: data/highsnobiety/Converse/converse-chuck-taylor-all-star-construct-hi-vintage-white-black-egret-front-both-img.jpg\n",
      "converse-chuck-taylor-all-star-construct-hi-vintage-white-black-egret is done\n",
      "processing adidas-craig-green-scuba-stan-white\n",
      "uploaded: data/highsnobiety/Adidas x Craig Green/adidas-craig-green-scuba-stan-white-right-side-img.jpg\n",
      "uploaded: data/highsnobiety/Adidas x Craig Green/adidas-craig-green-scuba-stan-white-left-side-img.jpg\n"
     ]
    },
    {
     "name": "stderr",
     "output_type": "stream",
     "text": [
      " 59%|█████▉    | 352/598 [06:58<14:24,  3.52s/it]"
     ]
    },
    {
     "name": "stdout",
     "output_type": "stream",
     "text": [
      "uploaded: data/highsnobiety/Adidas x Craig Green/adidas-craig-green-scuba-stan-white-front-both-img.jpg\n",
      "adidas-craig-green-scuba-stan-white is done\n",
      "processing puma-velophasis-bionic\n",
      "uploaded: data/highsnobiety/Puma/puma-velophasis-bionic-right-side-img.jpg\n",
      "uploaded: data/highsnobiety/Puma/puma-velophasis-bionic-left-side-img.jpg\n"
     ]
    },
    {
     "name": "stderr",
     "output_type": "stream",
     "text": [
      " 59%|█████▉    | 353/598 [07:01<13:38,  3.34s/it]"
     ]
    },
    {
     "name": "stdout",
     "output_type": "stream",
     "text": [
      "uploaded: data/highsnobiety/Puma/puma-velophasis-bionic-front-both-img.jpg\n",
      "puma-velophasis-bionic is done\n",
      "processing puma-slipstream-lo-wabi-sabi-white\n",
      "uploaded: data/highsnobiety/Puma/puma-slipstream-lo-wabi-sabi-white-right-side-img.jpg\n",
      "uploaded: data/highsnobiety/Puma/puma-slipstream-lo-wabi-sabi-white-left-side-img.jpg\n"
     ]
    },
    {
     "name": "stderr",
     "output_type": "stream",
     "text": [
      " 59%|█████▉    | 354/598 [07:04<13:34,  3.34s/it]"
     ]
    },
    {
     "name": "stdout",
     "output_type": "stream",
     "text": [
      "uploaded: data/highsnobiety/Puma/puma-slipstream-lo-wabi-sabi-white-front-both-img.jpg\n",
      "puma-slipstream-lo-wabi-sabi-white is done\n",
      "processing asics-gel-sonoma-15-50-cream-oatmeal\n",
      "uploaded: data/highsnobiety/asics/asics-gel-sonoma-15-50-cream-oatmeal-right-side-img.jpg\n",
      "uploaded: data/highsnobiety/asics/asics-gel-sonoma-15-50-cream-oatmeal-left-side-img.jpg\n"
     ]
    },
    {
     "name": "stderr",
     "output_type": "stream",
     "text": [
      " 59%|█████▉    | 355/598 [07:07<13:21,  3.30s/it]"
     ]
    },
    {
     "name": "stdout",
     "output_type": "stream",
     "text": [
      "uploaded: data/highsnobiety/asics/asics-gel-sonoma-15-50-cream-oatmeal-front-both-img.jpg\n",
      "asics-gel-sonoma-15-50-cream-oatmeal is done\n",
      "processing vans-ua-og-authentic-lx-suede-yellow\n",
      "uploaded: data/highsnobiety/Vans/vans-ua-og-authentic-lx-suede-yellow-right-side-img.jpg\n",
      "uploaded: data/highsnobiety/Vans/vans-ua-og-authentic-lx-suede-yellow-left-side-img.jpg\n"
     ]
    },
    {
     "name": "stderr",
     "output_type": "stream",
     "text": [
      " 60%|█████▉    | 356/598 [07:12<14:36,  3.62s/it]"
     ]
    },
    {
     "name": "stdout",
     "output_type": "stream",
     "text": [
      "uploaded: data/highsnobiety/Vans/vans-ua-og-authentic-lx-suede-yellow-front-both-img.jpg\n",
      "vans-ua-og-authentic-lx-suede-yellow is done\n",
      "processing vans-ua-og-era-lx-table-scraps-brown\n",
      "uploaded: data/highsnobiety/Vans/vans-ua-og-era-lx-table-scraps-brown-right-side-img.jpg\n",
      "uploaded: data/highsnobiety/Vans/vans-ua-og-era-lx-table-scraps-brown-left-side-img.jpg\n"
     ]
    },
    {
     "name": "stderr",
     "output_type": "stream",
     "text": [
      " 60%|█████▉    | 357/598 [07:15<14:22,  3.58s/it]"
     ]
    },
    {
     "name": "stdout",
     "output_type": "stream",
     "text": [
      "uploaded: data/highsnobiety/Vans/vans-ua-og-era-lx-table-scraps-brown-front-both-img.jpg\n",
      "vans-ua-og-era-lx-table-scraps-brown is done\n",
      "processing vans-ua-og-authentic-lx-suede-brown\n",
      "uploaded: data/highsnobiety/Vans/vans-ua-og-authentic-lx-suede-brown-right-side-img.jpg\n",
      "uploaded: data/highsnobiety/Vans/vans-ua-og-authentic-lx-suede-brown-left-side-img.jpg\n"
     ]
    },
    {
     "name": "stderr",
     "output_type": "stream",
     "text": [
      " 60%|█████▉    | 358/598 [07:19<15:01,  3.76s/it]"
     ]
    },
    {
     "name": "stdout",
     "output_type": "stream",
     "text": [
      "uploaded: data/highsnobiety/Vans/vans-ua-og-authentic-lx-suede-brown-front-both-img.jpg\n",
      "vans-ua-og-authentic-lx-suede-brown is done\n",
      "processing vans-ua-og-sk8-mid-lx-sucv-dkbrn\n",
      "uploaded: data/highsnobiety/Vans/vans-ua-og-sk8-mid-lx-sucv-dkbrn-right-side-img.jpg\n",
      "uploaded: data/highsnobiety/Vans/vans-ua-og-sk8-mid-lx-sucv-dkbrn-left-side-img.jpg\n"
     ]
    },
    {
     "name": "stderr",
     "output_type": "stream",
     "text": [
      " 60%|██████    | 359/598 [07:25<17:49,  4.47s/it]"
     ]
    },
    {
     "name": "stdout",
     "output_type": "stream",
     "text": [
      "uploaded: data/highsnobiety/Vans/vans-ua-og-sk8-mid-lx-sucv-dkbrn-front-both-img.jpg\n",
      "vans-ua-og-sk8-mid-lx-sucv-dkbrn is done\n",
      "processing vans-ua-og-authentic-lx-suede-olive\n",
      "uploaded: data/highsnobiety/Vans/vans-ua-og-authentic-lx-suede-olive-right-side-img.jpg\n",
      "uploaded: data/highsnobiety/Vans/vans-ua-og-authentic-lx-suede-olive-left-side-img.jpg\n"
     ]
    },
    {
     "name": "stderr",
     "output_type": "stream",
     "text": [
      " 60%|██████    | 360/598 [07:29<16:57,  4.28s/it]"
     ]
    },
    {
     "name": "stdout",
     "output_type": "stream",
     "text": [
      "uploaded: data/highsnobiety/Vans/vans-ua-og-authentic-lx-suede-olive-front-both-img.jpg\n",
      "vans-ua-og-authentic-lx-suede-olive is done\n",
      "processing vans-ua-og-classic-slip-on-denim-indigo\n",
      "uploaded: data/highsnobiety/Vans/vans-ua-og-classic-slip-on-denim-indigo-right-side-img.jpg\n",
      "uploaded: data/highsnobiety/Vans/vans-ua-og-classic-slip-on-denim-indigo-left-side-img.jpg\n"
     ]
    },
    {
     "name": "stderr",
     "output_type": "stream",
     "text": [
      " 60%|██████    | 361/598 [07:33<16:06,  4.08s/it]"
     ]
    },
    {
     "name": "stdout",
     "output_type": "stream",
     "text": [
      "uploaded: data/highsnobiety/Vans/vans-ua-og-classic-slip-on-denim-indigo-front-both-img.jpg\n",
      "vans-ua-og-classic-slip-on-denim-indigo is done\n",
      "processing vans-og-slip-on-59-lx-suede-yellow\n",
      "uploaded: data/highsnobiety/Vans/vans-og-slip-on-59-lx-suede-yellow-right-side-img.jpg\n",
      "uploaded: data/highsnobiety/Vans/vans-og-slip-on-59-lx-suede-yellow-left-side-img.jpg\n"
     ]
    },
    {
     "name": "stderr",
     "output_type": "stream",
     "text": [
      " 61%|██████    | 362/598 [07:37<15:43,  4.00s/it]"
     ]
    },
    {
     "name": "stdout",
     "output_type": "stream",
     "text": [
      "uploaded: data/highsnobiety/Vans/vans-og-slip-on-59-lx-suede-yellow-front-both-img.jpg\n",
      "vans-og-slip-on-59-lx-suede-yellow is done\n",
      "processing vans-ua-og-sk8-mid-lx-sucv-mbwwh\n",
      "uploaded: data/highsnobiety/Vans/vans-ua-og-sk8-mid-lx-sucv-mbwwh-right-side-img.jpg\n",
      "uploaded: data/highsnobiety/Vans/vans-ua-og-sk8-mid-lx-sucv-mbwwh-left-side-img.jpg\n"
     ]
    },
    {
     "name": "stderr",
     "output_type": "stream",
     "text": [
      " 61%|██████    | 363/598 [07:41<15:56,  4.07s/it]"
     ]
    },
    {
     "name": "stdout",
     "output_type": "stream",
     "text": [
      "uploaded: data/highsnobiety/Vans/vans-ua-og-sk8-mid-lx-sucv-mbwwh-front-both-img.jpg\n",
      "vans-ua-og-sk8-mid-lx-sucv-mbwwh is done\n",
      "processing vans-ua-og-sk8-mid-lx-sucv-white\n",
      "uploaded: data/highsnobiety/Vans/vans-ua-og-sk8-mid-lx-sucv-white-right-side-img.jpg\n",
      "uploaded: data/highsnobiety/Vans/vans-ua-og-sk8-mid-lx-sucv-white-left-side-img.jpg\n"
     ]
    },
    {
     "name": "stderr",
     "output_type": "stream",
     "text": [
      " 61%|██████    | 364/598 [07:44<15:08,  3.88s/it]"
     ]
    },
    {
     "name": "stdout",
     "output_type": "stream",
     "text": [
      "uploaded: data/highsnobiety/Vans/vans-ua-og-sk8-mid-lx-sucv-white-front-both-img.jpg\n",
      "vans-ua-og-sk8-mid-lx-sucv-white is done\n",
      "processing vans-ua-og-style-36-lx-coop-vint\n",
      "uploaded: data/highsnobiety/Vans/vans-ua-og-style-36-lx-coop-vint-right-side-img.jpg\n",
      "uploaded: data/highsnobiety/Vans/vans-ua-og-style-36-lx-coop-vint-left-side-img.jpg\n"
     ]
    },
    {
     "name": "stderr",
     "output_type": "stream",
     "text": [
      " 61%|██████    | 365/598 [07:48<14:30,  3.73s/it]"
     ]
    },
    {
     "name": "stdout",
     "output_type": "stream",
     "text": [
      "uploaded: data/highsnobiety/Vans/vans-ua-og-style-36-lx-coop-vint-front-both-img.jpg\n",
      "vans-ua-og-style-36-lx-coop-vint is done\n",
      "processing vans-ua-og-style-36-lx-coop-beige\n",
      "uploaded: data/highsnobiety/Vans/vans-ua-og-style-36-lx-coop-beige-right-side-img.jpg\n",
      "uploaded: data/highsnobiety/Vans/vans-ua-og-style-36-lx-coop-beige-left-side-img.jpg\n"
     ]
    },
    {
     "name": "stderr",
     "output_type": "stream",
     "text": [
      " 61%|██████    | 366/598 [07:51<13:54,  3.60s/it]"
     ]
    },
    {
     "name": "stdout",
     "output_type": "stream",
     "text": [
      "uploaded: data/highsnobiety/Vans/vans-ua-og-style-36-lx-coop-beige-front-both-img.jpg\n",
      "vans-ua-og-style-36-lx-coop-beige is done\n",
      "processing vans-ua-og-sk8-hi-lx-tabl-mbrwn\n",
      "uploaded: data/highsnobiety/Vans/vans-ua-og-sk8-hi-lx-tabl-mbrwn-right-side-img.jpg\n"
     ]
    },
    {
     "name": "stderr",
     "output_type": "stream",
     "text": [
      " 61%|██████▏   | 367/598 [07:54<13:45,  3.58s/it]"
     ]
    },
    {
     "name": "stdout",
     "output_type": "stream",
     "text": [
      "uploaded: data/highsnobiety/Vans/vans-ua-og-sk8-hi-lx-tabl-mbrwn-left-side-img.jpg\n",
      "uploaded: data/highsnobiety/Vans/vans-ua-og-sk8-hi-lx-tabl-mbrwn-front-both-img.jpg\n",
      "vans-ua-og-sk8-hi-lx-tabl-mbrwn is done\n",
      "processing vans-ua-og-sk8-mid-lx-sucv-ltgry\n",
      "uploaded: data/highsnobiety/Vans/vans-ua-og-sk8-mid-lx-sucv-ltgry-right-side-img.jpg\n",
      "uploaded: data/highsnobiety/Vans/vans-ua-og-sk8-mid-lx-sucv-ltgry-left-side-img.jpg\n"
     ]
    },
    {
     "name": "stderr",
     "output_type": "stream",
     "text": [
      " 62%|██████▏   | 368/598 [07:58<13:32,  3.53s/it]"
     ]
    },
    {
     "name": "stdout",
     "output_type": "stream",
     "text": [
      "uploaded: data/highsnobiety/Vans/vans-ua-og-sk8-mid-lx-sucv-ltgry-front-both-img.jpg\n",
      "vans-ua-og-sk8-mid-lx-sucv-ltgry is done\n",
      "processing vans-og-slip-on-59-lx-suede-green\n",
      "uploaded: data/highsnobiety/Vans/vans-og-slip-on-59-lx-suede-green-right-side-img.jpg\n",
      "uploaded: data/highsnobiety/Vans/vans-og-slip-on-59-lx-suede-green-left-side-img.jpg\n"
     ]
    },
    {
     "name": "stderr",
     "output_type": "stream",
     "text": [
      " 62%|██████▏   | 369/598 [08:02<13:48,  3.62s/it]"
     ]
    },
    {
     "name": "stdout",
     "output_type": "stream",
     "text": [
      "uploaded: data/highsnobiety/Vans/vans-og-slip-on-59-lx-suede-green-front-both-img.jpg\n",
      "vans-og-slip-on-59-lx-suede-green is done\n",
      "processing vans-ua-og-old-skool-lx-white\n",
      "uploaded: data/highsnobiety/Vans/vans-ua-og-old-skool-lx-white-right-side-img.jpg\n",
      "uploaded: data/highsnobiety/Vans/vans-ua-og-old-skool-lx-white-left-side-img.jpg\n"
     ]
    },
    {
     "name": "stderr",
     "output_type": "stream",
     "text": [
      " 62%|██████▏   | 370/598 [08:05<13:10,  3.47s/it]"
     ]
    },
    {
     "name": "stdout",
     "output_type": "stream",
     "text": [
      "uploaded: data/highsnobiety/Vans/vans-ua-og-old-skool-lx-white-front-both-img.jpg\n",
      "vans-ua-og-old-skool-lx-white is done\n",
      "processing vans-og-slip-on-59-lx-suede-brown\n",
      "uploaded: data/highsnobiety/Vans/vans-og-slip-on-59-lx-suede-brown-right-side-img.jpg\n",
      "uploaded: data/highsnobiety/Vans/vans-og-slip-on-59-lx-suede-brown-left-side-img.jpg\n"
     ]
    },
    {
     "name": "stderr",
     "output_type": "stream",
     "text": [
      " 62%|██████▏   | 371/598 [08:08<12:24,  3.28s/it]"
     ]
    },
    {
     "name": "stdout",
     "output_type": "stream",
     "text": [
      "uploaded: data/highsnobiety/Vans/vans-og-slip-on-59-lx-suede-brown-front-both-img.jpg\n",
      "vans-og-slip-on-59-lx-suede-brown is done\n",
      "processing vans-sk8-hi-wp-vr3-lx-white\n",
      "uploaded: data/highsnobiety/Vans/vans-sk8-hi-wp-vr3-lx-white-right-side-img.jpeg\n",
      "uploaded: data/highsnobiety/Vans/vans-sk8-hi-wp-vr3-lx-white-left-side-img.jpeg\n"
     ]
    },
    {
     "name": "stderr",
     "output_type": "stream",
     "text": [
      " 62%|██████▏   | 372/598 [08:11<12:10,  3.23s/it]"
     ]
    },
    {
     "name": "stdout",
     "output_type": "stream",
     "text": [
      "uploaded: data/highsnobiety/Vans/vans-sk8-hi-wp-vr3-lx-white-front-both-img.jpeg\n",
      "vans-sk8-hi-wp-vr3-lx-white is done\n",
      "processing salomon-jungle-ultra-low-advanced-dull-go\n",
      "uploaded: data/highsnobiety/Salomon/salomon-jungle-ultra-low-advanced-dull-go-right-side-img.jpg\n",
      "uploaded: data/highsnobiety/Salomon/salomon-jungle-ultra-low-advanced-dull-go-left-side-img.jpg\n"
     ]
    },
    {
     "name": "stderr",
     "output_type": "stream",
     "text": [
      " 62%|██████▏   | 373/598 [08:14<11:53,  3.17s/it]"
     ]
    },
    {
     "name": "stdout",
     "output_type": "stream",
     "text": [
      "uploaded: data/highsnobiety/Salomon/salomon-jungle-ultra-low-advanced-dull-go-front-both-img.jpg\n",
      "salomon-jungle-ultra-low-advanced-dull-go is done\n",
      "processing salomon-xt-6-cathay-spice-quar-rose-cloud\n",
      "uploaded: data/highsnobiety/Salomon/salomon-xt-6-cathay-spice-quar-rose-cloud-right-side-img.jpg\n",
      "uploaded: data/highsnobiety/Salomon/salomon-xt-6-cathay-spice-quar-rose-cloud-left-side-img.jpg\n"
     ]
    },
    {
     "name": "stderr",
     "output_type": "stream",
     "text": [
      " 63%|██████▎   | 374/598 [08:18<12:24,  3.32s/it]"
     ]
    },
    {
     "name": "stdout",
     "output_type": "stream",
     "text": [
      "uploaded: data/highsnobiety/Salomon/salomon-xt-6-cathay-spice-quar-rose-cloud-front-both-img.jpg\n",
      "salomon-xt-6-cathay-spice-quar-rose-cloud is done\n",
      "processing salomon-acs-pro-white-vanilla-ice-lunroc\n",
      "uploaded: data/highsnobiety/Salomon/salomon-acs-pro-white-vanilla-ice-lunroc-right-side-img.jpg\n",
      "uploaded: data/highsnobiety/Salomon/salomon-acs-pro-white-vanilla-ice-lunroc-left-side-img.jpg\n"
     ]
    },
    {
     "name": "stderr",
     "output_type": "stream",
     "text": [
      " 63%|██████▎   | 375/598 [08:21<12:12,  3.29s/it]"
     ]
    },
    {
     "name": "stdout",
     "output_type": "stream",
     "text": [
      "uploaded: data/highsnobiety/Salomon/salomon-acs-pro-white-vanilla-ice-lunroc-front-both-img.jpg\n",
      "salomon-acs-pro-white-vanilla-ice-lunroc is done\n",
      "processing salomon-rx-moc-3-0-rubber-taffy-granada-sky\n",
      "uploaded: data/highsnobiety/Salomon/salomon-rx-moc-3-0-rubber-taffy-granada-sky-right-side-img.jpg\n",
      "uploaded: data/highsnobiety/Salomon/salomon-rx-moc-3-0-rubber-taffy-granada-sky-left-side-img.jpg\n"
     ]
    },
    {
     "name": "stderr",
     "output_type": "stream",
     "text": [
      " 63%|██████▎   | 376/598 [08:24<12:37,  3.41s/it]"
     ]
    },
    {
     "name": "stdout",
     "output_type": "stream",
     "text": [
      "uploaded: data/highsnobiety/Salomon/salomon-rx-moc-3-0-rubber-taffy-granada-sky-front-both-img.jpg\n",
      "salomon-rx-moc-3-0-rubber-taffy-granada-sky is done\n",
      "processing salomon-speedverse-prg-black-alloy-black\n",
      "uploaded: data/highsnobiety/Salomon/salomon-speedverse-prg-black-alloy-black-right-side-img.jpg\n",
      "uploaded: data/highsnobiety/Salomon/salomon-speedverse-prg-black-alloy-black-left-side-img.jpg\n"
     ]
    },
    {
     "name": "stderr",
     "output_type": "stream",
     "text": [
      " 63%|██████▎   | 377/598 [08:27<11:48,  3.21s/it]"
     ]
    },
    {
     "name": "stdout",
     "output_type": "stream",
     "text": [
      "uploaded: data/highsnobiety/Salomon/salomon-speedverse-prg-black-alloy-black-front-both-img.jpg\n",
      "salomon-speedverse-prg-black-alloy-black is done\n",
      "processing salomon-xt-4-og-fiery-red-black-yellow\n",
      "uploaded: data/highsnobiety/Salomon/salomon-xt-4-og-fiery-red-black-yellow-right-side-img.jpg\n",
      "uploaded: data/highsnobiety/Salomon/salomon-xt-4-og-fiery-red-black-yellow-left-side-img.jpg\n"
     ]
    },
    {
     "name": "stderr",
     "output_type": "stream",
     "text": [
      " 63%|██████▎   | 378/598 [08:31<12:01,  3.28s/it]"
     ]
    },
    {
     "name": "stdout",
     "output_type": "stream",
     "text": [
      "uploaded: data/highsnobiety/Salomon/salomon-xt-4-og-fiery-red-black-yellow-front-both-img.jpg\n",
      "salomon-xt-4-og-fiery-red-black-yellow is done\n",
      "processing y-3-gazelle-off-white\n",
      "uploaded: data/highsnobiety/Y-3/y-3-gazelle-off-white-right-side-img.jpg\n",
      "uploaded: data/highsnobiety/Y-3/y-3-gazelle-off-white-left-side-img.jpg\n"
     ]
    },
    {
     "name": "stderr",
     "output_type": "stream",
     "text": [
      " 63%|██████▎   | 379/598 [08:34<12:02,  3.30s/it]"
     ]
    },
    {
     "name": "stdout",
     "output_type": "stream",
     "text": [
      "uploaded: data/highsnobiety/Y-3/y-3-gazelle-off-white-front-both-img.jpg\n",
      "y-3-gazelle-off-white is done\n",
      "processing new-balance-m2002rsc-sandstone\n",
      "uploaded: data/highsnobiety/New Balance/new-balance-m2002rsc-sandstone-right-side-img.jpg\n",
      "uploaded: data/highsnobiety/New Balance/new-balance-m2002rsc-sandstone-left-side-img.jpg\n"
     ]
    },
    {
     "name": "stderr",
     "output_type": "stream",
     "text": [
      " 64%|██████▎   | 380/598 [08:37<12:09,  3.35s/it]"
     ]
    },
    {
     "name": "stdout",
     "output_type": "stream",
     "text": [
      "uploaded: data/highsnobiety/New Balance/new-balance-m2002rsc-sandstone-front-both-img.jpg\n",
      "new-balance-m2002rsc-sandstone is done\n",
      "processing new-balance-bbw550ba-white\n",
      "uploaded: data/highsnobiety/New Balance/new-balance-bbw550ba-white-right-side-img.jpg\n",
      "uploaded: data/highsnobiety/New Balance/new-balance-bbw550ba-white-left-side-img.jpg\n"
     ]
    },
    {
     "name": "stderr",
     "output_type": "stream",
     "text": [
      " 64%|██████▎   | 381/598 [08:41<12:21,  3.42s/it]"
     ]
    },
    {
     "name": "stdout",
     "output_type": "stream",
     "text": [
      "uploaded: data/highsnobiety/New Balance/new-balance-bbw550ba-white-front-both-img.jpg\n",
      "new-balance-bbw550ba-white is done\n",
      "processing new-balance-bbw550bc-white\n",
      "uploaded: data/highsnobiety/New Balance/new-balance-bbw550bc-white-right-side-img.jpg\n",
      "uploaded: data/highsnobiety/New Balance/new-balance-bbw550bc-white-left-side-img.jpg\n"
     ]
    },
    {
     "name": "stderr",
     "output_type": "stream",
     "text": [
      " 64%|██████▍   | 382/598 [08:44<12:16,  3.41s/it]"
     ]
    },
    {
     "name": "stdout",
     "output_type": "stream",
     "text": [
      "uploaded: data/highsnobiety/New Balance/new-balance-bbw550bc-white-front-both-img.jpg\n",
      "new-balance-bbw550bc-white is done\n",
      "processing asics-gel-nimbus-9-obsidian-grey-moonrock\n",
      "uploaded: data/highsnobiety/asics/asics-gel-nimbus-9-obsidian-grey-moonrock-right-side-img.jpg\n",
      "uploaded: data/highsnobiety/asics/asics-gel-nimbus-9-obsidian-grey-moonrock-left-side-img.jpg\n"
     ]
    },
    {
     "name": "stderr",
     "output_type": "stream",
     "text": [
      " 64%|██████▍   | 383/598 [08:48<12:46,  3.56s/it]"
     ]
    },
    {
     "name": "stdout",
     "output_type": "stream",
     "text": [
      "uploaded: data/highsnobiety/asics/asics-gel-nimbus-9-obsidian-grey-moonrock-front-both-img.jpg\n",
      "asics-gel-nimbus-9-obsidian-grey-moonrock is done\n",
      "processing asics-gel-sonoma-15-50-coffee-desert-camp\n",
      "uploaded: data/highsnobiety/asics/asics-gel-sonoma-15-50-coffee-desert-camp-right-side-img.jpg\n",
      "uploaded: data/highsnobiety/asics/asics-gel-sonoma-15-50-coffee-desert-camp-left-side-img.jpg\n"
     ]
    },
    {
     "name": "stderr",
     "output_type": "stream",
     "text": [
      " 64%|██████▍   | 384/598 [08:52<12:42,  3.56s/it]"
     ]
    },
    {
     "name": "stdout",
     "output_type": "stream",
     "text": [
      "uploaded: data/highsnobiety/asics/asics-gel-sonoma-15-50-coffee-desert-camp-front-both-img.jpg\n",
      "asics-gel-sonoma-15-50-coffee-desert-camp is done\n",
      "processing asics-gel-1130-white\n",
      "uploaded: data/highsnobiety/asics/asics-gel-1130-white-right-side-img.jpg\n",
      "uploaded: data/highsnobiety/asics/asics-gel-1130-white-left-side-img.jpg\n"
     ]
    },
    {
     "name": "stderr",
     "output_type": "stream",
     "text": [
      " 64%|██████▍   | 385/598 [08:56<13:11,  3.72s/it]"
     ]
    },
    {
     "name": "stdout",
     "output_type": "stream",
     "text": [
      "uploaded: data/highsnobiety/asics/asics-gel-1130-white-front-both-img.jpg\n",
      "asics-gel-1130-white is done\n",
      "processing new-balance-mt580rca-white\n",
      "uploaded: data/highsnobiety/New Balance/new-balance-mt580rca-white-right-side-img.jpg\n",
      "uploaded: data/highsnobiety/New Balance/new-balance-mt580rca-white-left-side-img.jpg\n"
     ]
    },
    {
     "name": "stderr",
     "output_type": "stream",
     "text": [
      " 65%|██████▍   | 386/598 [08:59<12:10,  3.45s/it]"
     ]
    },
    {
     "name": "stdout",
     "output_type": "stream",
     "text": [
      "uploaded: data/highsnobiety/New Balance/new-balance-mt580rca-white-front-both-img.jpg\n",
      "new-balance-mt580rca-white is done\n",
      "processing new-balance-ml610tbf-aluminum\n",
      "uploaded: data/highsnobiety/New Balance/new-balance-ml610tbf-aluminum-right-side-img.jpg\n",
      "uploaded: data/highsnobiety/New Balance/new-balance-ml610tbf-aluminum-left-side-img.jpg\n"
     ]
    },
    {
     "name": "stderr",
     "output_type": "stream",
     "text": [
      " 65%|██████▍   | 387/598 [09:04<13:38,  3.88s/it]"
     ]
    },
    {
     "name": "stdout",
     "output_type": "stream",
     "text": [
      "uploaded: data/highsnobiety/New Balance/new-balance-ml610tbf-aluminum-front-both-img.jpg\n",
      "new-balance-ml610tbf-aluminum is done\n",
      "processing new-balance-ml610td-classic-crimson\n",
      "uploaded: data/highsnobiety/New Balance/new-balance-ml610td-classic-crimson-right-side-img.jpg\n",
      "uploaded: data/highsnobiety/New Balance/new-balance-ml610td-classic-crimson-left-side-img.jpg\n"
     ]
    },
    {
     "name": "stderr",
     "output_type": "stream",
     "text": [
      " 65%|██████▍   | 388/598 [09:07<12:52,  3.68s/it]"
     ]
    },
    {
     "name": "stdout",
     "output_type": "stream",
     "text": [
      "uploaded: data/highsnobiety/New Balance/new-balance-ml610td-classic-crimson-front-both-img.jpg\n",
      "new-balance-ml610td-classic-crimson is done\n",
      "processing new-balance-mt580rtb-mahogany\n",
      "uploaded: data/highsnobiety/New Balance/new-balance-mt580rtb-mahogany-right-side-img.jpg\n",
      "uploaded: data/highsnobiety/New Balance/new-balance-mt580rtb-mahogany-left-side-img.jpg\n"
     ]
    },
    {
     "name": "stderr",
     "output_type": "stream",
     "text": [
      " 65%|██████▌   | 389/598 [09:10<12:13,  3.51s/it]"
     ]
    },
    {
     "name": "stdout",
     "output_type": "stream",
     "text": [
      "uploaded: data/highsnobiety/New Balance/new-balance-mt580rtb-mahogany-front-both-img.jpg\n",
      "new-balance-mt580rtb-mahogany is done\n",
      "processing new-balance-urc30ag-castlerock\n",
      "uploaded: data/highsnobiety/New Balance/new-balance-urc30ag-castlerock-right-side-img.jpg\n",
      "uploaded: data/highsnobiety/New Balance/new-balance-urc30ag-castlerock-left-side-img.jpg\n"
     ]
    },
    {
     "name": "stderr",
     "output_type": "stream",
     "text": [
      " 65%|██████▌   | 390/598 [09:14<12:11,  3.52s/it]"
     ]
    },
    {
     "name": "stdout",
     "output_type": "stream",
     "text": [
      "uploaded: data/highsnobiety/New Balance/new-balance-urc30ag-castlerock-front-both-img.jpg\n",
      "new-balance-urc30ag-castlerock is done\n",
      "processing new-balance-ml610tbh-dark-moss\n",
      "uploaded: data/highsnobiety/New Balance/new-balance-ml610tbh-dark-moss-right-side-img.jpg\n",
      "uploaded: data/highsnobiety/New Balance/new-balance-ml610tbh-dark-moss-left-side-img.jpg\n"
     ]
    },
    {
     "name": "stderr",
     "output_type": "stream",
     "text": [
      " 65%|██████▌   | 391/598 [09:17<12:12,  3.54s/it]"
     ]
    },
    {
     "name": "stdout",
     "output_type": "stream",
     "text": [
      "uploaded: data/highsnobiety/New Balance/new-balance-ml610tbh-dark-moss-front-both-img.jpg\n",
      "new-balance-ml610tbh-dark-moss is done\n",
      "processing adidas-superstar-82-white-black\n",
      "uploaded: data/highsnobiety/Adidas/adidas-superstar-82-white-black-right-side-img.jpg\n",
      "uploaded: data/highsnobiety/Adidas/adidas-superstar-82-white-black-left-side-img.jpg\n"
     ]
    },
    {
     "name": "stderr",
     "output_type": "stream",
     "text": [
      " 66%|██████▌   | 392/598 [09:21<12:05,  3.52s/it]"
     ]
    },
    {
     "name": "stdout",
     "output_type": "stream",
     "text": [
      "uploaded: data/highsnobiety/Adidas/adidas-superstar-82-white-black-front-both-img.jpg\n",
      "adidas-superstar-82-white-black is done\n",
      "processing adidas-samba-og-black-white-gum\n",
      "uploaded: data/highsnobiety/Adidas/adidas-samba-og-black-white-gum-right-side-img.jpg\n",
      "uploaded: data/highsnobiety/Adidas/adidas-samba-og-black-white-gum-left-side-img.jpg\n"
     ]
    },
    {
     "name": "stderr",
     "output_type": "stream",
     "text": [
      " 66%|██████▌   | 393/598 [09:24<12:15,  3.59s/it]"
     ]
    },
    {
     "name": "stdout",
     "output_type": "stream",
     "text": [
      "uploaded: data/highsnobiety/Adidas/adidas-samba-og-black-white-gum-front-both-img.jpg\n",
      "adidas-samba-og-black-white-gum is done\n",
      "processing adidas-adimatic-blue\n",
      "uploaded: data/highsnobiety/Adidas/adidas-adimatic-blue-right-side-img.jpg\n",
      "uploaded: data/highsnobiety/Adidas/adidas-adimatic-blue-left-side-img.jpg\n"
     ]
    },
    {
     "name": "stderr",
     "output_type": "stream",
     "text": [
      " 66%|██████▌   | 394/598 [09:28<11:54,  3.50s/it]"
     ]
    },
    {
     "name": "stdout",
     "output_type": "stream",
     "text": [
      "uploaded: data/highsnobiety/Adidas/adidas-adimatic-blue-front-both-img.jpg\n",
      "adidas-adimatic-blue is done\n",
      "processing adidas-stan-smith-80s-black\n",
      "uploaded: data/highsnobiety/Adidas/adidas-stan-smith-80s-black-right-side-img.jpg\n",
      "uploaded: data/highsnobiety/Adidas/adidas-stan-smith-80s-black-left-side-img.jpg\n"
     ]
    },
    {
     "name": "stderr",
     "output_type": "stream",
     "text": [
      " 66%|██████▌   | 395/598 [09:31<11:43,  3.47s/it]"
     ]
    },
    {
     "name": "stdout",
     "output_type": "stream",
     "text": [
      "uploaded: data/highsnobiety/Adidas/adidas-stan-smith-80s-black-front-both-img.jpg\n",
      "adidas-stan-smith-80s-black is done\n",
      "processing adidas-gazelle-85-blue\n",
      "uploaded: data/highsnobiety/Adidas/adidas-gazelle-85-blue-right-side-img.jpg\n",
      "uploaded: data/highsnobiety/Adidas/adidas-gazelle-85-blue-left-side-img.jpg\n"
     ]
    },
    {
     "name": "stderr",
     "output_type": "stream",
     "text": [
      " 66%|██████▌   | 396/598 [09:36<13:35,  4.04s/it]"
     ]
    },
    {
     "name": "stdout",
     "output_type": "stream",
     "text": [
      "uploaded: data/highsnobiety/Adidas/adidas-gazelle-85-blue-front-both-img.jpg\n",
      "adidas-gazelle-85-blue is done\n",
      "processing adidas-response-cl-grey\n",
      "uploaded: data/highsnobiety/Adidas/adidas-response-cl-grey-right-side-img.jpg\n",
      "uploaded: data/highsnobiety/Adidas/adidas-response-cl-grey-left-side-img.jpg\n"
     ]
    },
    {
     "name": "stderr",
     "output_type": "stream",
     "text": [
      " 66%|██████▋   | 397/598 [09:40<13:11,  3.94s/it]"
     ]
    },
    {
     "name": "stdout",
     "output_type": "stream",
     "text": [
      "uploaded: data/highsnobiety/Adidas/adidas-response-cl-grey-front-both-img.jpg\n",
      "adidas-response-cl-grey is done\n",
      "processing adidas-astir-sn-grey\n",
      "uploaded: data/highsnobiety/Adidas/adidas-astir-sn-grey-right-side-img.jpg\n",
      "uploaded: data/highsnobiety/Adidas/adidas-astir-sn-grey-left-side-img.jpg\n",
      "uploaded: data/highsnobiety/Adidas/adidas-astir-sn-grey-front-both-img.jpg\n",
      "adidas-astir-sn-grey is done\n"
     ]
    },
    {
     "name": "stderr",
     "output_type": "stream",
     "text": [
      " 67%|██████▋   | 398/598 [09:43<12:33,  3.77s/it]"
     ]
    },
    {
     "name": "stdout",
     "output_type": "stream",
     "text": [
      "processing adidas-astir-sn-white\n",
      "uploaded: data/highsnobiety/Adidas/adidas-astir-sn-white-right-side-img.jpg\n",
      "uploaded: data/highsnobiety/Adidas/adidas-astir-sn-white-left-side-img.jpg\n"
     ]
    },
    {
     "name": "stderr",
     "output_type": "stream",
     "text": [
      " 67%|██████▋   | 399/598 [09:47<12:20,  3.72s/it]"
     ]
    },
    {
     "name": "stdout",
     "output_type": "stream",
     "text": [
      "uploaded: data/highsnobiety/Adidas/adidas-astir-sn-white-front-both-img.jpg\n",
      "adidas-astir-sn-white is done\n",
      "processing new-balance-mr530ch-blue\n",
      "uploaded: data/highsnobiety/New Balance/new-balance-mr530ch-blue-right-side-img.jpg\n",
      "uploaded: data/highsnobiety/New Balance/new-balance-mr530ch-blue-left-side-img.jpg\n"
     ]
    },
    {
     "name": "stderr",
     "output_type": "stream",
     "text": [
      " 67%|██████▋   | 400/598 [09:50<11:50,  3.59s/it]"
     ]
    },
    {
     "name": "stdout",
     "output_type": "stream",
     "text": [
      "uploaded: data/highsnobiety/New Balance/new-balance-mr530ch-blue-front-both-img.jpg\n",
      "new-balance-mr530ch-blue is done\n",
      "processing patta-converse-four-leaf-clover-one-star-pro\n",
      "uploaded: data/highsnobiety/Patta x Converse/patta-converse-four-leaf-clover-one-star-pro-right-side-img.jpg\n",
      "uploaded: data/highsnobiety/Patta x Converse/patta-converse-four-leaf-clover-one-star-pro-left-side-img.jpg\n"
     ]
    },
    {
     "name": "stderr",
     "output_type": "stream",
     "text": [
      " 67%|██████▋   | 401/598 [09:54<11:22,  3.46s/it]"
     ]
    },
    {
     "name": "stdout",
     "output_type": "stream",
     "text": [
      "uploaded: data/highsnobiety/Patta x Converse/patta-converse-four-leaf-clover-one-star-pro-front-both-img.jpg\n",
      "patta-converse-four-leaf-clover-one-star-pro is done\n",
      "processing adidas-stan-smith-recon-white\n",
      "uploaded: data/highsnobiety/Adidas/adidas-stan-smith-recon-white-right-side-img.jpg\n",
      "uploaded: data/highsnobiety/Adidas/adidas-stan-smith-recon-white-left-side-img.jpg\n"
     ]
    },
    {
     "name": "stderr",
     "output_type": "stream",
     "text": [
      " 67%|██████▋   | 402/598 [09:57<11:09,  3.42s/it]"
     ]
    },
    {
     "name": "stdout",
     "output_type": "stream",
     "text": [
      "uploaded: data/highsnobiety/Adidas/adidas-stan-smith-recon-white-front-both-img.jpg\n",
      "adidas-stan-smith-recon-white is done\n",
      "processing adidas-superstar-82-white-beige\n",
      "uploaded: data/highsnobiety/Adidas/adidas-superstar-82-white-beige-right-side-img.jpg\n",
      "uploaded: data/highsnobiety/Adidas/adidas-superstar-82-white-beige-left-side-img.jpg\n"
     ]
    },
    {
     "name": "stderr",
     "output_type": "stream",
     "text": [
      " 67%|██████▋   | 403/598 [10:01<11:30,  3.54s/it]"
     ]
    },
    {
     "name": "stdout",
     "output_type": "stream",
     "text": [
      "uploaded: data/highsnobiety/Adidas/adidas-superstar-82-white-beige-front-both-img.jpg\n",
      "adidas-superstar-82-white-beige is done\n",
      "processing adidas-xare-boost-green\n",
      "uploaded: data/highsnobiety/Adidas/adidas-xare-boost-green-right-side-img.jpg\n",
      "uploaded: data/highsnobiety/Adidas/adidas-xare-boost-green-left-side-img.jpg\n"
     ]
    },
    {
     "name": "stderr",
     "output_type": "stream",
     "text": [
      " 68%|██████▊   | 404/598 [10:04<11:23,  3.52s/it]"
     ]
    },
    {
     "name": "stdout",
     "output_type": "stream",
     "text": [
      "uploaded: data/highsnobiety/Adidas/adidas-xare-boost-green-front-both-img.jpg\n",
      "adidas-xare-boost-green is done\n",
      "processing adidas-xare-boost-white\n",
      "uploaded: data/highsnobiety/Adidas/adidas-xare-boost-white-right-side-img.jpg\n",
      "uploaded: data/highsnobiety/Adidas/adidas-xare-boost-white-left-side-img.jpg\n"
     ]
    },
    {
     "name": "stderr",
     "output_type": "stream",
     "text": [
      " 68%|██████▊   | 405/598 [10:07<11:08,  3.46s/it]"
     ]
    },
    {
     "name": "stdout",
     "output_type": "stream",
     "text": [
      "uploaded: data/highsnobiety/Adidas/adidas-xare-boost-white-front-both-img.jpg\n",
      "adidas-xare-boost-white is done\n",
      "processing new-balance-m1906rv-titanium\n",
      "uploaded: data/highsnobiety/New Balance/new-balance-m1906rv-titanium-right-side-img.jpg\n",
      "uploaded: data/highsnobiety/New Balance/new-balance-m1906rv-titanium-left-side-img.jpg\n"
     ]
    },
    {
     "name": "stderr",
     "output_type": "stream",
     "text": [
      " 68%|██████▊   | 406/598 [10:11<11:26,  3.58s/it]"
     ]
    },
    {
     "name": "stdout",
     "output_type": "stream",
     "text": [
      "uploaded: data/highsnobiety/New Balance/new-balance-m1906rv-titanium-front-both-img.jpg\n",
      "new-balance-m1906rv-titanium is done\n",
      "processing new-balance-mr530aa-beige\n",
      "uploaded: data/highsnobiety/New Balance/new-balance-mr530aa-beige-right-side-img.jpg\n",
      "uploaded: data/highsnobiety/New Balance/new-balance-mr530aa-beige-left-side-img.jpg\n"
     ]
    },
    {
     "name": "stderr",
     "output_type": "stream",
     "text": [
      " 68%|██████▊   | 407/598 [10:15<11:21,  3.57s/it]"
     ]
    },
    {
     "name": "stdout",
     "output_type": "stream",
     "text": [
      "uploaded: data/highsnobiety/New Balance/new-balance-mr530aa-beige-front-both-img.jpg\n",
      "new-balance-mr530aa-beige is done\n",
      "processing new-balance-mr530cb-grey-matter\n",
      "uploaded: data/highsnobiety/New Balance/new-balance-mr530cb-grey-matter-right-side-img.jpg\n",
      "uploaded: data/highsnobiety/New Balance/new-balance-mr530cb-grey-matter-left-side-img.jpg\n"
     ]
    },
    {
     "name": "stderr",
     "output_type": "stream",
     "text": [
      " 68%|██████▊   | 408/598 [10:18<11:13,  3.55s/it]"
     ]
    },
    {
     "name": "stdout",
     "output_type": "stream",
     "text": [
      "uploaded: data/highsnobiety/New Balance/new-balance-mr530cb-grey-matter-front-both-img.jpg\n",
      "new-balance-mr530cb-grey-matter is done\n",
      "processing new-balance-m1906rw-mindful-grey\n",
      "uploaded: data/highsnobiety/New Balance/new-balance-m1906rw-mindful-grey-right-side-img.jpg\n",
      "uploaded: data/highsnobiety/New Balance/new-balance-m1906rw-mindful-grey-left-side-img.jpg\n"
     ]
    },
    {
     "name": "stderr",
     "output_type": "stream",
     "text": [
      " 68%|██████▊   | 409/598 [10:22<10:52,  3.45s/it]"
     ]
    },
    {
     "name": "stdout",
     "output_type": "stream",
     "text": [
      "uploaded: data/highsnobiety/New Balance/new-balance-m1906rw-mindful-grey-front-both-img.jpg\n",
      "new-balance-m1906rw-mindful-grey is done\n",
      "processing new-balance-bb550vtb-sea-salt\n",
      "uploaded: data/highsnobiety/New Balance/new-balance-bb550vtb-sea-salt-right-side-img.jpg\n",
      "uploaded: data/highsnobiety/New Balance/new-balance-bb550vtb-sea-salt-left-side-img.jpg\n"
     ]
    },
    {
     "name": "stderr",
     "output_type": "stream",
     "text": [
      " 69%|██████▊   | 410/598 [10:25<10:45,  3.43s/it]"
     ]
    },
    {
     "name": "stdout",
     "output_type": "stream",
     "text": [
      "uploaded: data/highsnobiety/New Balance/new-balance-bb550vtb-sea-salt-front-both-img.jpg\n",
      "new-balance-bb550vtb-sea-salt is done\n",
      "processing new-balance-m1906rob-tobacco\n",
      "uploaded: data/highsnobiety/New Balance/new-balance-m1906rob-tobacco-right-side-img.jpg\n",
      "uploaded: data/highsnobiety/New Balance/new-balance-m1906rob-tobacco-left-side-img.jpg\n"
     ]
    },
    {
     "name": "stderr",
     "output_type": "stream",
     "text": [
      " 69%|██████▊   | 411/598 [10:28<10:27,  3.36s/it]"
     ]
    },
    {
     "name": "stdout",
     "output_type": "stream",
     "text": [
      "uploaded: data/highsnobiety/New Balance/new-balance-m1906rob-tobacco-front-both-img.jpg\n",
      "new-balance-m1906rob-tobacco is done\n",
      "processing new-balance-mr530ce-sea-salt\n",
      "uploaded: data/highsnobiety/New Balance/new-balance-mr530ce-sea-salt-right-side-img.jpg\n",
      "uploaded: data/highsnobiety/New Balance/new-balance-mr530ce-sea-salt-left-side-img.jpg\n"
     ]
    },
    {
     "name": "stderr",
     "output_type": "stream",
     "text": [
      " 69%|██████▉   | 412/598 [10:32<10:58,  3.54s/it]"
     ]
    },
    {
     "name": "stdout",
     "output_type": "stream",
     "text": [
      "uploaded: data/highsnobiety/New Balance/new-balance-mr530ce-sea-salt-front-both-img.jpg\n",
      "new-balance-mr530ce-sea-salt is done\n",
      "processing new-balance-bb550vta-sea-salt\n",
      "uploaded: data/highsnobiety/New Balance/new-balance-bb550vta-sea-salt-right-side-img.jpg\n",
      "uploaded: data/highsnobiety/New Balance/new-balance-bb550vta-sea-salt-left-side-img.jpg\n"
     ]
    },
    {
     "name": "stderr",
     "output_type": "stream",
     "text": [
      " 69%|██████▉   | 413/598 [10:38<13:14,  4.30s/it]"
     ]
    },
    {
     "name": "stdout",
     "output_type": "stream",
     "text": [
      "uploaded: data/highsnobiety/New Balance/new-balance-bb550vta-sea-salt-front-both-img.jpg\n",
      "new-balance-bb550vta-sea-salt is done\n",
      "processing new-balance-bb650rcf-white\n",
      "uploaded: data/highsnobiety/New Balance/new-balance-bb650rcf-white-right-side-img.jpg\n",
      "uploaded: data/highsnobiety/New Balance/new-balance-bb650rcf-white-left-side-img.jpg\n"
     ]
    },
    {
     "name": "stderr",
     "output_type": "stream",
     "text": [
      " 69%|██████▉   | 414/598 [10:42<12:39,  4.13s/it]"
     ]
    },
    {
     "name": "stdout",
     "output_type": "stream",
     "text": [
      "uploaded: data/highsnobiety/New Balance/new-balance-bb650rcf-white-front-both-img.jpg\n",
      "new-balance-bb650rcf-white is done\n",
      "processing new-balance-bb650rcg-white\n",
      "uploaded: data/highsnobiety/New Balance/new-balance-bb650rcg-white-right-side-img.jpg\n",
      "uploaded: data/highsnobiety/New Balance/new-balance-bb650rcg-white-left-side-img.jpg\n"
     ]
    },
    {
     "name": "stderr",
     "output_type": "stream",
     "text": [
      " 69%|██████▉   | 415/598 [10:46<12:08,  3.98s/it]"
     ]
    },
    {
     "name": "stdout",
     "output_type": "stream",
     "text": [
      "uploaded: data/highsnobiety/New Balance/new-balance-bb650rcg-white-front-both-img.jpg\n",
      "new-balance-bb650rcg-white is done\n",
      "processing new-balance-m2002rve-sea-salt\n",
      "uploaded: data/highsnobiety/New Balance/new-balance-m2002rve-sea-salt-right-side-img.jpg\n",
      "uploaded: data/highsnobiety/New Balance/new-balance-m2002rve-sea-salt-left-side-img.jpg\n"
     ]
    },
    {
     "name": "stderr",
     "output_type": "stream",
     "text": [
      " 70%|██████▉   | 416/598 [10:50<12:22,  4.08s/it]"
     ]
    },
    {
     "name": "stdout",
     "output_type": "stream",
     "text": [
      "uploaded: data/highsnobiety/New Balance/new-balance-m2002rve-sea-salt-front-both-img.jpg\n",
      "new-balance-m2002rve-sea-salt is done\n",
      "processing new-balance-m2002rvd-sea-salt\n",
      "uploaded: data/highsnobiety/New Balance/new-balance-m2002rvd-sea-salt-right-side-img.jpg\n",
      "uploaded: data/highsnobiety/New Balance/new-balance-m2002rvd-sea-salt-left-side-img.jpg\n"
     ]
    },
    {
     "name": "stderr",
     "output_type": "stream",
     "text": [
      " 70%|██████▉   | 417/598 [10:54<11:59,  3.98s/it]"
     ]
    },
    {
     "name": "stdout",
     "output_type": "stream",
     "text": [
      "uploaded: data/highsnobiety/New Balance/new-balance-m2002rvd-sea-salt-front-both-img.jpg\n",
      "new-balance-m2002rvd-sea-salt is done\n",
      "processing new-balance-m2002rsb-concrete\n",
      "uploaded: data/highsnobiety/New Balance/new-balance-m2002rsb-concrete-right-side-img.jpg\n",
      "uploaded: data/highsnobiety/New Balance/new-balance-m2002rsb-concrete-left-side-img.jpg\n"
     ]
    },
    {
     "name": "stderr",
     "output_type": "stream",
     "text": [
      " 70%|██████▉   | 418/598 [10:57<11:24,  3.80s/it]"
     ]
    },
    {
     "name": "stdout",
     "output_type": "stream",
     "text": [
      "uploaded: data/highsnobiety/New Balance/new-balance-m2002rsb-concrete-front-both-img.jpg\n",
      "new-balance-m2002rsb-concrete is done\n",
      "processing adidas-craig-green-scuba-stan-black\n",
      "uploaded: data/highsnobiety/Adidas x Craig Green/adidas-craig-green-scuba-stan-black-right-side-img.jpg\n"
     ]
    },
    {
     "name": "stderr",
     "output_type": "stream",
     "text": [
      " 70%|███████   | 419/598 [11:00<11:01,  3.70s/it]"
     ]
    },
    {
     "name": "stdout",
     "output_type": "stream",
     "text": [
      "uploaded: data/highsnobiety/Adidas x Craig Green/adidas-craig-green-scuba-stan-black-left-side-img.jpg\n",
      "uploaded: data/highsnobiety/Adidas x Craig Green/adidas-craig-green-scuba-stan-black-front-both-img.jpg\n",
      "adidas-craig-green-scuba-stan-black is done\n",
      "processing asics-gel-trabuco-terra-sps-white\n",
      "uploaded: data/highsnobiety/asics/asics-gel-trabuco-terra-sps-white-right-side-img.jpg\n"
     ]
    },
    {
     "name": "stderr",
     "output_type": "stream",
     "text": [
      " 70%|███████   | 420/598 [11:04<10:45,  3.63s/it]"
     ]
    },
    {
     "name": "stdout",
     "output_type": "stream",
     "text": [
      "uploaded: data/highsnobiety/asics/asics-gel-trabuco-terra-sps-white-left-side-img.jpg\n",
      "uploaded: data/highsnobiety/asics/asics-gel-trabuco-terra-sps-white-front-both-img.jpg\n",
      "asics-gel-trabuco-terra-sps-white is done\n",
      "processing asics-gel-trabuco-terra-sps-midnight-grey\n",
      "uploaded: data/highsnobiety/asics/asics-gel-trabuco-terra-sps-midnight-grey-right-side-img.jpg\n",
      "uploaded: data/highsnobiety/asics/asics-gel-trabuco-terra-sps-midnight-grey-left-side-img.jpg\n"
     ]
    },
    {
     "name": "stderr",
     "output_type": "stream",
     "text": [
      " 70%|███████   | 421/598 [11:07<10:02,  3.40s/it]"
     ]
    },
    {
     "name": "stdout",
     "output_type": "stream",
     "text": [
      "uploaded: data/highsnobiety/asics/asics-gel-trabuco-terra-sps-midnight-grey-front-both-img.jpg\n",
      "asics-gel-trabuco-terra-sps-midnight-grey is done\n",
      "processing new-balance-m-990-gl5-grey\n",
      "uploaded: data/highsnobiety/New Balance/new-balance-m-990-gl5-grey-right-side-img.jpg\n",
      "uploaded: data/highsnobiety/New Balance/new-balance-m-990-gl5-grey-left-side-img.jpg\n"
     ]
    },
    {
     "name": "stderr",
     "output_type": "stream",
     "text": [
      " 71%|███████   | 422/598 [11:10<09:57,  3.40s/it]"
     ]
    },
    {
     "name": "stdout",
     "output_type": "stream",
     "text": [
      "uploaded: data/highsnobiety/New Balance/new-balance-m-990-gl5-grey-front-both-img.jpg\n",
      "new-balance-m-990-gl5-grey is done\n",
      "processing asics-gel-venture-6-white\n",
      "uploaded: data/highsnobiety/asics/asics-gel-venture-6-white-right-side-img.jpg\n",
      "uploaded: data/highsnobiety/asics/asics-gel-venture-6-white-left-side-img.jpg\n"
     ]
    },
    {
     "name": "stderr",
     "output_type": "stream",
     "text": [
      " 71%|███████   | 423/598 [11:14<10:16,  3.52s/it]"
     ]
    },
    {
     "name": "stdout",
     "output_type": "stream",
     "text": [
      "uploaded: data/highsnobiety/asics/asics-gel-venture-6-white-front-both-img.jpg\n",
      "asics-gel-venture-6-white is done\n",
      "processing asics-gel-trabuco-terra-sps-beige\n",
      "uploaded: data/highsnobiety/asics/asics-gel-trabuco-terra-sps-beige-right-side-img.jpg\n",
      "uploaded: data/highsnobiety/asics/asics-gel-trabuco-terra-sps-beige-left-side-img.jpg\n"
     ]
    },
    {
     "name": "stderr",
     "output_type": "stream",
     "text": [
      " 71%|███████   | 424/598 [11:17<10:12,  3.52s/it]"
     ]
    },
    {
     "name": "stdout",
     "output_type": "stream",
     "text": [
      "uploaded: data/highsnobiety/asics/asics-gel-trabuco-terra-sps-beige-front-both-img.jpg\n",
      "asics-gel-trabuco-terra-sps-beige is done\n",
      "processing diesel-s-prototype-cr-sneakers-green\n",
      "uploaded: data/highsnobiety/Diesel/diesel-s-prototype-cr-sneakers-green-right-side-img.jpg\n",
      "uploaded: data/highsnobiety/Diesel/diesel-s-prototype-cr-sneakers-green-left-side-img.jpg\n"
     ]
    },
    {
     "name": "stderr",
     "output_type": "stream",
     "text": [
      " 71%|███████   | 425/598 [11:21<09:58,  3.46s/it]"
     ]
    },
    {
     "name": "stdout",
     "output_type": "stream",
     "text": [
      "uploaded: data/highsnobiety/Diesel/diesel-s-prototype-cr-sneakers-green-front-both-img.jpg\n",
      "diesel-s-prototype-cr-sneakers-green is done\n",
      "processing diesel-s-prototype-low-sneakers-white\n",
      "uploaded: data/highsnobiety/Diesel/diesel-s-prototype-low-sneakers-white-right-side-img.jpg\n",
      "uploaded: data/highsnobiety/Diesel/diesel-s-prototype-low-sneakers-white-left-side-img.jpg\n"
     ]
    },
    {
     "name": "stderr",
     "output_type": "stream",
     "text": [
      " 71%|███████   | 426/598 [11:24<10:06,  3.53s/it]"
     ]
    },
    {
     "name": "stdout",
     "output_type": "stream",
     "text": [
      "uploaded: data/highsnobiety/Diesel/diesel-s-prototype-low-sneakers-white-front-both-img.jpg\n",
      "diesel-s-prototype-low-sneakers-white is done\n",
      "processing hoka-mafate-speed-2-cyclamen-all-aboard\n",
      "uploaded: data/highsnobiety/HOKA/hoka-mafate-speed-2-cyclamen-all-aboard-right-side-img.jpg\n",
      "uploaded: data/highsnobiety/HOKA/hoka-mafate-speed-2-cyclamen-all-aboard-left-side-img.jpg\n"
     ]
    },
    {
     "name": "stderr",
     "output_type": "stream",
     "text": [
      " 71%|███████▏  | 427/598 [11:28<09:48,  3.44s/it]"
     ]
    },
    {
     "name": "stdout",
     "output_type": "stream",
     "text": [
      "uploaded: data/highsnobiety/HOKA/hoka-mafate-speed-2-cyclamen-all-aboard-front-both-img.jpg\n",
      "hoka-mafate-speed-2-cyclamen-all-aboard is done\n",
      "processing hoka-huaka-origins-multi\n",
      "uploaded: data/highsnobiety/HOKA/hoka-huaka-origins-multi-right-side-img.jpg\n",
      "uploaded: data/highsnobiety/HOKA/hoka-huaka-origins-multi-left-side-img.jpg\n"
     ]
    },
    {
     "name": "stderr",
     "output_type": "stream",
     "text": [
      " 72%|███████▏  | 428/598 [11:32<10:15,  3.62s/it]"
     ]
    },
    {
     "name": "stdout",
     "output_type": "stream",
     "text": [
      "uploaded: data/highsnobiety/HOKA/hoka-huaka-origins-multi-front-both-img.jpg\n",
      "hoka-huaka-origins-multi is done\n",
      "processing hoka-kaha-2-gtx-beige\n",
      "uploaded: data/highsnobiety/HOKA/hoka-kaha-2-gtx-beige-right-side-img.jpg\n",
      "uploaded: data/highsnobiety/HOKA/hoka-kaha-2-gtx-beige-left-side-img.jpg\n"
     ]
    },
    {
     "name": "stderr",
     "output_type": "stream",
     "text": [
      " 72%|███████▏  | 429/598 [11:35<10:15,  3.64s/it]"
     ]
    },
    {
     "name": "stdout",
     "output_type": "stream",
     "text": [
      "uploaded: data/highsnobiety/HOKA/hoka-kaha-2-gtx-beige-front-both-img.jpg\n",
      "hoka-kaha-2-gtx-beige is done\n",
      "processing merrell-moab-retro-slide-1trl-birch\n",
      "uploaded: data/highsnobiety/Merrell/merrell-moab-retro-slide-1trl-birch-right-side-img.jpg\n",
      "uploaded: data/highsnobiety/Merrell/merrell-moab-retro-slide-1trl-birch-left-side-img.jpg\n"
     ]
    },
    {
     "name": "stderr",
     "output_type": "stream",
     "text": [
      " 72%|███████▏  | 430/598 [11:39<10:01,  3.58s/it]"
     ]
    },
    {
     "name": "stdout",
     "output_type": "stream",
     "text": [
      "uploaded: data/highsnobiety/Merrell/merrell-moab-retro-slide-1trl-birch-front-both-img.jpg\n",
      "merrell-moab-retro-slide-1trl-birch is done\n",
      "processing asics-gel-trabuco-terra-sps-grey\n",
      "uploaded: data/highsnobiety/asics/asics-gel-trabuco-terra-sps-grey-right-side-img.jpg\n",
      "uploaded: data/highsnobiety/asics/asics-gel-trabuco-terra-sps-grey-left-side-img.jpg\n"
     ]
    },
    {
     "name": "stderr",
     "output_type": "stream",
     "text": [
      " 72%|███████▏  | 431/598 [11:42<09:23,  3.37s/it]"
     ]
    },
    {
     "name": "stdout",
     "output_type": "stream",
     "text": [
      "uploaded: data/highsnobiety/asics/asics-gel-trabuco-terra-sps-grey-front-both-img.jpg\n",
      "asics-gel-trabuco-terra-sps-grey is done\n",
      "processing moncler-trailgrip-low-top-sneakers-green\n",
      "uploaded: data/highsnobiety/Moncler/moncler-trailgrip-low-top-sneakers-green-right-side-img.jpg\n",
      "uploaded: data/highsnobiety/Moncler/moncler-trailgrip-low-top-sneakers-green-left-side-img.jpg\n"
     ]
    },
    {
     "name": "stderr",
     "output_type": "stream",
     "text": [
      " 72%|███████▏  | 432/598 [11:46<09:39,  3.49s/it]"
     ]
    },
    {
     "name": "stdout",
     "output_type": "stream",
     "text": [
      "uploaded: data/highsnobiety/Moncler/moncler-trailgrip-low-top-sneakers-green-front-both-img.jpg\n",
      "moncler-trailgrip-low-top-sneakers-green is done\n",
      "processing moncler-trailgrip-low-top-sneakers-fluo-green\n",
      "uploaded: data/highsnobiety/Moncler/moncler-trailgrip-low-top-sneakers-fluo-green-right-side-img.jpg\n",
      "uploaded: data/highsnobiety/Moncler/moncler-trailgrip-low-top-sneakers-fluo-green-left-side-img.jpg\n"
     ]
    },
    {
     "name": "stderr",
     "output_type": "stream",
     "text": [
      " 72%|███████▏  | 433/598 [11:49<09:22,  3.41s/it]"
     ]
    },
    {
     "name": "stdout",
     "output_type": "stream",
     "text": [
      "uploaded: data/highsnobiety/Moncler/moncler-trailgrip-low-top-sneakers-fluo-green-front-both-img.jpg\n",
      "moncler-trailgrip-low-top-sneakers-fluo-green is done\n",
      "processing moncler-trailgrip-low-top-sneakers-bunt\n",
      "uploaded: data/highsnobiety/Moncler/moncler-trailgrip-low-top-sneakers-bunt-right-side-img.jpg\n",
      "uploaded: data/highsnobiety/Moncler/moncler-trailgrip-low-top-sneakers-bunt-left-side-img.jpg\n"
     ]
    },
    {
     "name": "stderr",
     "output_type": "stream",
     "text": [
      " 73%|███████▎  | 434/598 [11:52<09:17,  3.40s/it]"
     ]
    },
    {
     "name": "stdout",
     "output_type": "stream",
     "text": [
      "uploaded: data/highsnobiety/Moncler/moncler-trailgrip-low-top-sneakers-bunt-front-both-img.jpg\n",
      "moncler-trailgrip-low-top-sneakers-bunt is done\n",
      "processing moncler-trailgrip-gtx-low-top-sneakers-black\n",
      "uploaded: data/highsnobiety/Moncler/moncler-trailgrip-gtx-low-top-sneakers-black-right-side-img.jpg\n",
      "uploaded: data/highsnobiety/Moncler/moncler-trailgrip-gtx-low-top-sneakers-black-left-side-img.jpg\n"
     ]
    },
    {
     "name": "stderr",
     "output_type": "stream",
     "text": [
      " 73%|███████▎  | 435/598 [11:56<09:23,  3.46s/it]"
     ]
    },
    {
     "name": "stdout",
     "output_type": "stream",
     "text": [
      "uploaded: data/highsnobiety/Moncler/moncler-trailgrip-gtx-low-top-sneakers-black-front-both-img.jpg\n",
      "moncler-trailgrip-gtx-low-top-sneakers-black is done\n",
      "processing new-balance-m990gr1-grey\n",
      "uploaded: data/highsnobiety/New Balance/new-balance-m990gr1-grey-right-side-img.jpg\n",
      "uploaded: data/highsnobiety/New Balance/new-balance-m990gr1-grey-left-side-img.jpg\n"
     ]
    },
    {
     "name": "stderr",
     "output_type": "stream",
     "text": [
      " 73%|███████▎  | 436/598 [11:59<09:21,  3.46s/it]"
     ]
    },
    {
     "name": "stdout",
     "output_type": "stream",
     "text": [
      "uploaded: data/highsnobiety/New Balance/new-balance-m990gr1-grey-front-both-img.jpg\n",
      "new-balance-m990gr1-grey is done\n",
      "processing new-balance-mt580ac2-olive-leaf\n",
      "uploaded: data/highsnobiety/New Balance/new-balance-mt580ac2-olive-leaf-right-side-img.jpg\n"
     ]
    },
    {
     "name": "stderr",
     "output_type": "stream",
     "text": [
      " 73%|███████▎  | 437/598 [12:03<09:21,  3.49s/it]"
     ]
    },
    {
     "name": "stdout",
     "output_type": "stream",
     "text": [
      "uploaded: data/highsnobiety/New Balance/new-balance-mt580ac2-olive-leaf-left-side-img.jpg\n",
      "uploaded: data/highsnobiety/New Balance/new-balance-mt580ac2-olive-leaf-front-both-img.jpg\n",
      "new-balance-mt580ac2-olive-leaf is done\n",
      "processing new-balance-urainog-brown\n",
      "uploaded: data/highsnobiety/New Balance/new-balance-urainog-brown-right-side-img.jpg\n",
      "uploaded: data/highsnobiety/New Balance/new-balance-urainog-brown-left-side-img.jpg\n"
     ]
    },
    {
     "name": "stderr",
     "output_type": "stream",
     "text": [
      " 73%|███████▎  | 438/598 [12:06<09:18,  3.49s/it]"
     ]
    },
    {
     "name": "stdout",
     "output_type": "stream",
     "text": [
      "uploaded: data/highsnobiety/New Balance/new-balance-urainog-brown-front-both-img.jpg\n",
      "new-balance-urainog-brown is done\n",
      "processing new-balance-m990gy2-grey\n",
      "uploaded: data/highsnobiety/New Balance/new-balance-m990gy2-grey-right-side-img.jpg\n",
      "uploaded: data/highsnobiety/New Balance/new-balance-m990gy2-grey-left-side-img.jpg\n"
     ]
    },
    {
     "name": "stderr",
     "output_type": "stream",
     "text": [
      " 73%|███████▎  | 439/598 [12:09<08:51,  3.34s/it]"
     ]
    },
    {
     "name": "stdout",
     "output_type": "stream",
     "text": [
      "uploaded: data/highsnobiety/New Balance/new-balance-m990gy2-grey-front-both-img.jpg\n",
      "new-balance-m990gy2-grey is done\n",
      "processing new-balance-m990py2-purple\n",
      "uploaded: data/highsnobiety/New Balance/new-balance-m990py2-purple-right-side-img.jpg\n",
      "uploaded: data/highsnobiety/New Balance/new-balance-m990py2-purple-left-side-img.jpg\n"
     ]
    },
    {
     "name": "stderr",
     "output_type": "stream",
     "text": [
      " 74%|███████▎  | 440/598 [12:13<09:11,  3.49s/it]"
     ]
    },
    {
     "name": "stdout",
     "output_type": "stream",
     "text": [
      "uploaded: data/highsnobiety/New Balance/new-balance-m990py2-purple-front-both-img.jpg\n",
      "new-balance-m990py2-purple is done\n",
      "processing new-balance-mt580ab2-workwear\n",
      "uploaded: data/highsnobiety/New Balance/new-balance-mt580ab2-workwear-right-side-img.jpg\n",
      "uploaded: data/highsnobiety/New Balance/new-balance-mt580ab2-workwear-left-side-img.jpg\n"
     ]
    },
    {
     "name": "stderr",
     "output_type": "stream",
     "text": [
      " 74%|███████▎  | 441/598 [12:17<09:48,  3.75s/it]"
     ]
    },
    {
     "name": "stdout",
     "output_type": "stream",
     "text": [
      "uploaded: data/highsnobiety/New Balance/new-balance-mt580ab2-workwear-front-both-img.jpg\n",
      "new-balance-mt580ab2-workwear is done\n",
      "processing new-balance-urainad-raincloud\n",
      "uploaded: data/highsnobiety/New Balance/new-balance-urainad-raincloud-right-side-img.jpg\n",
      "uploaded: data/highsnobiety/New Balance/new-balance-urainad-raincloud-left-side-img.jpg\n"
     ]
    },
    {
     "name": "stderr",
     "output_type": "stream",
     "text": [
      " 74%|███████▍  | 442/598 [12:21<09:38,  3.71s/it]"
     ]
    },
    {
     "name": "stdout",
     "output_type": "stream",
     "text": [
      "uploaded: data/highsnobiety/New Balance/new-balance-urainad-raincloud-front-both-img.jpg\n",
      "new-balance-urainad-raincloud is done\n",
      "processing mizuno-wave-mujin-tl-gtx-indigo\n",
      "uploaded: data/highsnobiety/Mizuno/mizuno-wave-mujin-tl-gtx-indigo-right-side-img.jpg\n",
      "uploaded: data/highsnobiety/Mizuno/mizuno-wave-mujin-tl-gtx-indigo-left-side-img.jpg\n"
     ]
    },
    {
     "name": "stderr",
     "output_type": "stream",
     "text": [
      " 74%|███████▍  | 443/598 [12:25<09:54,  3.84s/it]"
     ]
    },
    {
     "name": "stdout",
     "output_type": "stream",
     "text": [
      "uploaded: data/highsnobiety/Mizuno/mizuno-wave-mujin-tl-gtx-indigo-front-both-img.jpg\n",
      "mizuno-wave-mujin-tl-gtx-indigo is done\n",
      "processing new-balance-urainaa-tan\n",
      "uploaded: data/highsnobiety/New Balance/new-balance-urainaa-tan-right-side-img.jpg\n",
      "uploaded: data/highsnobiety/New Balance/new-balance-urainaa-tan-left-side-img.jpg\n"
     ]
    },
    {
     "name": "stderr",
     "output_type": "stream",
     "text": [
      " 74%|███████▍  | 444/598 [12:30<10:24,  4.05s/it]"
     ]
    },
    {
     "name": "stdout",
     "output_type": "stream",
     "text": [
      "uploaded: data/highsnobiety/New Balance/new-balance-urainaa-tan-front-both-img.jpg\n",
      "new-balance-urainaa-tan is done\n",
      "processing new-balance-m1500gbi-brown\n",
      "uploaded: data/highsnobiety/New Balance/new-balance-m1500gbi-brown-right-side-img.jpg\n",
      "uploaded: data/highsnobiety/New Balance/new-balance-m1500gbi-brown-left-side-img.jpg\n"
     ]
    },
    {
     "name": "stderr",
     "output_type": "stream",
     "text": [
      " 74%|███████▍  | 445/598 [12:34<10:15,  4.03s/it]"
     ]
    },
    {
     "name": "stdout",
     "output_type": "stream",
     "text": [
      "uploaded: data/highsnobiety/New Balance/new-balance-m1500gbi-brown-front-both-img.jpg\n",
      "new-balance-m1500gbi-brown is done\n",
      "processing on-cloudaway-black-rock\n",
      "uploaded: data/highsnobiety/On/on-cloudaway-black-rock-right-side-img.jpg\n",
      "uploaded: data/highsnobiety/On/on-cloudaway-black-rock-left-side-img.jpg\n"
     ]
    },
    {
     "name": "stderr",
     "output_type": "stream",
     "text": [
      " 75%|███████▍  | 446/598 [12:38<10:22,  4.09s/it]"
     ]
    },
    {
     "name": "stdout",
     "output_type": "stream",
     "text": [
      "uploaded: data/highsnobiety/On/on-cloudaway-black-rock-front-both-img.jpg\n",
      "on-cloudaway-black-rock is done\n",
      "processing stepney-workers-club-dellow-s-strike-suede-tan\n",
      "uploaded: data/highsnobiety/Stepney Workers Club/stepney-workers-club-dellow-s-strike-suede-tan-right-side-img.jpg\n",
      "uploaded: data/highsnobiety/Stepney Workers Club/stepney-workers-club-dellow-s-strike-suede-tan-left-side-img.jpg\n",
      "uploaded: data/highsnobiety/Stepney Workers Club/stepney-workers-club-dellow-s-strike-suede-tan-front-both-img.jpg\n",
      "stepney-workers-club-dellow-s-strike-suede-tan is done\n"
     ]
    },
    {
     "name": "stderr",
     "output_type": "stream",
     "text": [
      " 75%|███████▍  | 447/598 [12:42<10:08,  4.03s/it]"
     ]
    },
    {
     "name": "stdout",
     "output_type": "stream",
     "text": [
      "processing on-cloudwander-waterproof-black-eclipse\n",
      "uploaded: data/highsnobiety/On/on-cloudwander-waterproof-black-eclipse-right-side-img.jpg\n",
      "uploaded: data/highsnobiety/On/on-cloudwander-waterproof-black-eclipse-left-side-img.jpg\n"
     ]
    },
    {
     "name": "stderr",
     "output_type": "stream",
     "text": [
      " 75%|███████▍  | 448/598 [12:45<09:24,  3.76s/it]"
     ]
    },
    {
     "name": "stdout",
     "output_type": "stream",
     "text": [
      "uploaded: data/highsnobiety/On/on-cloudwander-waterproof-black-eclipse-front-both-img.jpg\n",
      "on-cloudwander-waterproof-black-eclipse is done\n",
      "processing on-cloudrock-2-waterproof-black-eclipse\n",
      "uploaded: data/highsnobiety/On/on-cloudrock-2-waterproof-black-eclipse-right-side-img.jpg\n",
      "uploaded: data/highsnobiety/On/on-cloudrock-2-waterproof-black-eclipse-left-side-img.jpg\n"
     ]
    },
    {
     "name": "stderr",
     "output_type": "stream",
     "text": [
      " 75%|███████▌  | 449/598 [12:48<08:45,  3.53s/it]"
     ]
    },
    {
     "name": "stdout",
     "output_type": "stream",
     "text": [
      "uploaded: data/highsnobiety/On/on-cloudrock-2-waterproof-black-eclipse-front-both-img.jpg\n",
      "on-cloudrock-2-waterproof-black-eclipse is done\n",
      "processing converse-fucking-awesome-louie-lopez-mid-cyan-tint-black\n",
      "uploaded: data/highsnobiety/Converse x Fucking Awesome/converse-fucking-awesome-louie-lopez-mid-cyan-tint-black-right-side-img.jpg\n",
      "uploaded: data/highsnobiety/Converse x Fucking Awesome/converse-fucking-awesome-louie-lopez-mid-cyan-tint-black-left-side-img.jpg\n"
     ]
    },
    {
     "name": "stderr",
     "output_type": "stream",
     "text": [
      " 75%|███████▌  | 450/598 [12:51<08:38,  3.50s/it]"
     ]
    },
    {
     "name": "stdout",
     "output_type": "stream",
     "text": [
      "uploaded: data/highsnobiety/Converse x Fucking Awesome/converse-fucking-awesome-louie-lopez-mid-cyan-tint-black-front-both-img.jpg\n",
      "converse-fucking-awesome-louie-lopez-mid-cyan-tint-black is done\n",
      "processing asics-a-p-c-gel-sonoma-15-50-black\n",
      "uploaded: data/highsnobiety/asics x A.P.C./asics-a-p-c-gel-sonoma-15-50-black-right-side-img.jpg\n",
      "uploaded: data/highsnobiety/asics x A.P.C./asics-a-p-c-gel-sonoma-15-50-black-left-side-img.jpg\n"
     ]
    },
    {
     "name": "stderr",
     "output_type": "stream",
     "text": [
      " 75%|███████▌  | 451/598 [12:55<08:46,  3.58s/it]"
     ]
    },
    {
     "name": "stdout",
     "output_type": "stream",
     "text": [
      "uploaded: data/highsnobiety/asics x A.P.C./asics-a-p-c-gel-sonoma-15-50-black-front-both-img.jpg\n",
      "asics-a-p-c-gel-sonoma-15-50-black is done\n",
      "processing new-balance-610v1-grey\n",
      "uploaded: data/highsnobiety/New Balance/new-balance-610v1-grey-right-side-img.jpg\n",
      "uploaded: data/highsnobiety/New Balance/new-balance-610v1-grey-left-side-img.jpg\n"
     ]
    },
    {
     "name": "stderr",
     "output_type": "stream",
     "text": [
      " 76%|███████▌  | 452/598 [12:59<08:42,  3.58s/it]"
     ]
    },
    {
     "name": "stdout",
     "output_type": "stream",
     "text": [
      "uploaded: data/highsnobiety/New Balance/new-balance-610v1-grey-front-both-img.jpg\n",
      "new-balance-610v1-grey is done\n",
      "processing new-balance-610v1-truffle\n",
      "uploaded: data/highsnobiety/New Balance/new-balance-610v1-truffle-right-side-img.jpg\n",
      "uploaded: data/highsnobiety/New Balance/new-balance-610v1-truffle-left-side-img.jpg\n"
     ]
    },
    {
     "name": "stderr",
     "output_type": "stream",
     "text": [
      " 76%|███████▌  | 453/598 [13:02<08:09,  3.37s/it]"
     ]
    },
    {
     "name": "stdout",
     "output_type": "stream",
     "text": [
      "uploaded: data/highsnobiety/New Balance/new-balance-610v1-truffle-front-both-img.jpg\n",
      "new-balance-610v1-truffle is done\n",
      "processing new-balance-rainier-eclipse\n",
      "uploaded: data/highsnobiety/New Balance/new-balance-rainier-eclipse-right-side-img.jpg\n",
      "uploaded: data/highsnobiety/New Balance/new-balance-rainier-eclipse-left-side-img.jpg\n"
     ]
    },
    {
     "name": "stderr",
     "output_type": "stream",
     "text": [
      " 76%|███████▌  | 454/598 [13:05<07:57,  3.31s/it]"
     ]
    },
    {
     "name": "stdout",
     "output_type": "stream",
     "text": [
      "uploaded: data/highsnobiety/New Balance/new-balance-rainier-eclipse-front-both-img.jpg\n",
      "new-balance-rainier-eclipse is done\n",
      "processing new-balance-rainier-turtledove\n",
      "uploaded: data/highsnobiety/New Balance/new-balance-rainier-turtledove-right-side-img.jpg\n",
      "uploaded: data/highsnobiety/New Balance/new-balance-rainier-turtledove-left-side-img.jpg\n"
     ]
    },
    {
     "name": "stderr",
     "output_type": "stream",
     "text": [
      " 76%|███████▌  | 455/598 [13:08<07:55,  3.32s/it]"
     ]
    },
    {
     "name": "stdout",
     "output_type": "stream",
     "text": [
      "uploaded: data/highsnobiety/New Balance/new-balance-rainier-turtledove-front-both-img.jpg\n",
      "new-balance-rainier-turtledove is done\n",
      "processing new-balance-650r-black\n",
      "uploaded: data/highsnobiety/New Balance/new-balance-650r-black-right-side-img.jpg\n",
      "uploaded: data/highsnobiety/New Balance/new-balance-650r-black-left-side-img.jpg\n"
     ]
    },
    {
     "name": "stderr",
     "output_type": "stream",
     "text": [
      " 76%|███████▋  | 456/598 [13:12<08:26,  3.57s/it]"
     ]
    },
    {
     "name": "stdout",
     "output_type": "stream",
     "text": [
      "uploaded: data/highsnobiety/New Balance/new-balance-650r-black-front-both-img.jpg\n",
      "new-balance-650r-black is done\n",
      "processing converse-drkshdw-turbodrk-chuck-70-white-black-egret\n",
      "uploaded: data/highsnobiety/Converse x DRKSHDW/converse-drkshdw-turbodrk-chuck-70-white-black-egret-right-side-img.jpg\n",
      "uploaded: data/highsnobiety/Converse x DRKSHDW/converse-drkshdw-turbodrk-chuck-70-white-black-egret-left-side-img.jpg\n"
     ]
    },
    {
     "name": "stderr",
     "output_type": "stream",
     "text": [
      " 76%|███████▋  | 457/598 [13:16<08:16,  3.52s/it]"
     ]
    },
    {
     "name": "stdout",
     "output_type": "stream",
     "text": [
      "uploaded: data/highsnobiety/Converse x DRKSHDW/converse-drkshdw-turbodrk-chuck-70-white-black-egret-front-both-img.jpg\n",
      "converse-drkshdw-turbodrk-chuck-70-white-black-egret is done\n",
      "processing reebok-eames-classic-leather-sand\n",
      "uploaded: data/highsnobiety/Reebok/reebok-eames-classic-leather-sand-right-side-img.jpg\n",
      "uploaded: data/highsnobiety/Reebok/reebok-eames-classic-leather-sand-left-side-img.jpg\n"
     ]
    },
    {
     "name": "stderr",
     "output_type": "stream",
     "text": [
      " 77%|███████▋  | 458/598 [13:21<09:46,  4.19s/it]"
     ]
    },
    {
     "name": "stdout",
     "output_type": "stream",
     "text": [
      "uploaded: data/highsnobiety/Reebok/reebok-eames-classic-leather-sand-front-both-img.jpg\n",
      "reebok-eames-classic-leather-sand is done\n",
      "processing reebok-club-c-grounds-white\n",
      "uploaded: data/highsnobiety/Reebok/reebok-club-c-grounds-white-right-side-img.jpg\n",
      "uploaded: data/highsnobiety/Reebok/reebok-club-c-grounds-white-left-side-img.jpg\n"
     ]
    },
    {
     "name": "stderr",
     "output_type": "stream",
     "text": [
      " 77%|███████▋  | 459/598 [13:25<08:55,  3.85s/it]"
     ]
    },
    {
     "name": "stdout",
     "output_type": "stream",
     "text": [
      "uploaded: data/highsnobiety/Reebok/reebok-club-c-grounds-white-front-both-img.jpg\n",
      "reebok-club-c-grounds-white is done\n",
      "processing reebok-lt-court\n",
      "uploaded: data/highsnobiety/Reebok/reebok-lt-court-right-side-img.jpg\n",
      "uploaded: data/highsnobiety/Reebok/reebok-lt-court-left-side-img.jpg\n"
     ]
    },
    {
     "name": "stderr",
     "output_type": "stream",
     "text": [
      " 77%|███████▋  | 460/598 [13:28<08:51,  3.85s/it]"
     ]
    },
    {
     "name": "stdout",
     "output_type": "stream",
     "text": [
      "uploaded: data/highsnobiety/Reebok/reebok-lt-court-front-both-img.jpg\n",
      "reebok-lt-court is done\n",
      "processing reebok-premier-road-plus-vi-beige\n",
      "uploaded: data/highsnobiety/Reebok/reebok-premier-road-plus-vi-beige-right-side-img.jpg\n",
      "uploaded: data/highsnobiety/Reebok/reebok-premier-road-plus-vi-beige-left-side-img.jpg\n"
     ]
    },
    {
     "name": "stderr",
     "output_type": "stream",
     "text": [
      " 77%|███████▋  | 461/598 [13:32<08:35,  3.76s/it]"
     ]
    },
    {
     "name": "stdout",
     "output_type": "stream",
     "text": [
      "uploaded: data/highsnobiety/Reebok/reebok-premier-road-plus-vi-beige-front-both-img.jpg\n",
      "reebok-premier-road-plus-vi-beige is done\n",
      "processing reebok-lt-court-beige\n",
      "uploaded: data/highsnobiety/Reebok/reebok-lt-court-beige-right-side-img.jpg\n",
      "uploaded: data/highsnobiety/Reebok/reebok-lt-court-beige-left-side-img.jpg\n"
     ]
    },
    {
     "name": "stderr",
     "output_type": "stream",
     "text": [
      " 77%|███████▋  | 462/598 [13:35<08:14,  3.63s/it]"
     ]
    },
    {
     "name": "stdout",
     "output_type": "stream",
     "text": [
      "uploaded: data/highsnobiety/Reebok/reebok-lt-court-beige-front-both-img.jpg\n",
      "reebok-lt-court-beige is done\n",
      "processing reebok-club-c-vibram-white\n",
      "uploaded: data/highsnobiety/Reebok/reebok-club-c-vibram-white-right-side-img.jpg\n"
     ]
    },
    {
     "name": "stderr",
     "output_type": "stream",
     "text": [
      " 77%|███████▋  | 463/598 [13:39<07:59,  3.55s/it]"
     ]
    },
    {
     "name": "stdout",
     "output_type": "stream",
     "text": [
      "uploaded: data/highsnobiety/Reebok/reebok-club-c-vibram-white-left-side-img.jpg\n",
      "uploaded: data/highsnobiety/Reebok/reebok-club-c-vibram-white-front-both-img.jpg\n",
      "reebok-club-c-vibram-white is done\n",
      "processing asics-gel-trabuco-terra-sps-black\n",
      "uploaded: data/highsnobiety/asics/asics-gel-trabuco-terra-sps-black-right-side-img.jpg\n",
      "uploaded: data/highsnobiety/asics/asics-gel-trabuco-terra-sps-black-left-side-img.jpg\n"
     ]
    },
    {
     "name": "stderr",
     "output_type": "stream",
     "text": [
      " 78%|███████▊  | 464/598 [13:42<07:39,  3.43s/it]"
     ]
    },
    {
     "name": "stdout",
     "output_type": "stream",
     "text": [
      "uploaded: data/highsnobiety/asics/asics-gel-trabuco-terra-sps-black-front-both-img.jpg\n",
      "asics-gel-trabuco-terra-sps-black is done\n",
      "processing asics-gel-quantum-360-vii-kiso-brown\n",
      "uploaded: data/highsnobiety/asics/asics-gel-quantum-360-vii-kiso-brown-right-side-img.jpg\n",
      "uploaded: data/highsnobiety/asics/asics-gel-quantum-360-vii-kiso-brown-left-side-img.jpg\n"
     ]
    },
    {
     "name": "stderr",
     "output_type": "stream",
     "text": [
      " 78%|███████▊  | 465/598 [13:47<08:49,  3.98s/it]"
     ]
    },
    {
     "name": "stdout",
     "output_type": "stream",
     "text": [
      "uploaded: data/highsnobiety/asics/asics-gel-quantum-360-vii-kiso-brown-front-both-img.jpg\n",
      "asics-gel-quantum-360-vii-kiso-brown is done\n",
      "processing adidas-orketro-green-black-aluminum\n",
      "uploaded: data/highsnobiety/Adidas/adidas-orketro-green-black-aluminum-right-side-img.jpg\n",
      "uploaded: data/highsnobiety/Adidas/adidas-orketro-green-black-aluminum-left-side-img.jpg\n"
     ]
    },
    {
     "name": "stderr",
     "output_type": "stream",
     "text": [
      " 78%|███████▊  | 466/598 [13:50<08:17,  3.77s/it]"
     ]
    },
    {
     "name": "stdout",
     "output_type": "stream",
     "text": [
      "uploaded: data/highsnobiety/Adidas/adidas-orketro-green-black-aluminum-front-both-img.jpg\n",
      "adidas-orketro-green-black-aluminum is done\n",
      "processing merrell-moab-retro-slide-1trl-black\n",
      "uploaded: data/highsnobiety/Merrell/merrell-moab-retro-slide-1trl-black-right-side-img.jpg\n",
      "uploaded: data/highsnobiety/Merrell/merrell-moab-retro-slide-1trl-black-left-side-img.jpg\n"
     ]
    },
    {
     "name": "stderr",
     "output_type": "stream",
     "text": [
      " 78%|███████▊  | 467/598 [13:54<07:54,  3.62s/it]"
     ]
    },
    {
     "name": "stdout",
     "output_type": "stream",
     "text": [
      "uploaded: data/highsnobiety/Merrell/merrell-moab-retro-slide-1trl-black-front-both-img.jpg\n",
      "merrell-moab-retro-slide-1trl-black is done\n",
      "processing roa-slip-on-sneaker-military-taupe\n",
      "uploaded: data/highsnobiety/ROA/roa-slip-on-sneaker-military-taupe-right-side-img.jpg\n",
      "uploaded: data/highsnobiety/ROA/roa-slip-on-sneaker-military-taupe-left-side-img.jpg\n"
     ]
    },
    {
     "name": "stderr",
     "output_type": "stream",
     "text": [
      " 78%|███████▊  | 468/598 [13:57<07:43,  3.57s/it]"
     ]
    },
    {
     "name": "stdout",
     "output_type": "stream",
     "text": [
      "uploaded: data/highsnobiety/ROA/roa-slip-on-sneaker-military-taupe-front-both-img.jpg\n",
      "roa-slip-on-sneaker-military-taupe is done\n",
      "processing norda-001-ltd-edition-g-graphene-black\n",
      "uploaded: data/highsnobiety/Norda/norda-001-ltd-edition-g-graphene-black-right-side-img.jpg\n",
      "uploaded: data/highsnobiety/Norda/norda-001-ltd-edition-g-graphene-black-left-side-img.jpg\n"
     ]
    },
    {
     "name": "stderr",
     "output_type": "stream",
     "text": [
      " 78%|███████▊  | 469/598 [14:00<07:31,  3.50s/it]"
     ]
    },
    {
     "name": "stdout",
     "output_type": "stream",
     "text": [
      "uploaded: data/highsnobiety/Norda/norda-001-ltd-edition-g-graphene-black-front-both-img.jpg\n",
      "norda-001-ltd-edition-g-graphene-black is done\n",
      "processing norda-001-m-white-gum\n",
      "uploaded: data/highsnobiety/Norda/norda-001-m-white-gum-right-side-img.jpg\n",
      "uploaded: data/highsnobiety/Norda/norda-001-m-white-gum-left-side-img.jpg\n"
     ]
    },
    {
     "name": "stderr",
     "output_type": "stream",
     "text": [
      " 79%|███████▊  | 470/598 [14:04<07:41,  3.61s/it]"
     ]
    },
    {
     "name": "stdout",
     "output_type": "stream",
     "text": [
      "uploaded: data/highsnobiety/Norda/norda-001-m-white-gum-front-both-img.jpg\n",
      "norda-001-m-white-gum is done\n",
      "processing norda-ciele-the-001-m-gravel\n",
      "uploaded: data/highsnobiety/Norda x Ciele/norda-ciele-the-001-m-gravel-right-side-img.jpg\n",
      "uploaded: data/highsnobiety/Norda x Ciele/norda-ciele-the-001-m-gravel-left-side-img.jpg\n"
     ]
    },
    {
     "name": "stderr",
     "output_type": "stream",
     "text": [
      " 79%|███████▉  | 471/598 [14:07<07:16,  3.44s/it]"
     ]
    },
    {
     "name": "stdout",
     "output_type": "stream",
     "text": [
      "uploaded: data/highsnobiety/Norda x Ciele/norda-ciele-the-001-m-gravel-front-both-img.jpg\n",
      "norda-ciele-the-001-m-gravel is done\n",
      "processing norda-001-w-white-gum\n",
      "uploaded: data/highsnobiety/Norda/norda-001-w-white-gum-right-side-img.jpg\n",
      "uploaded: data/highsnobiety/Norda/norda-001-w-white-gum-left-side-img.jpg\n"
     ]
    },
    {
     "name": "stderr",
     "output_type": "stream",
     "text": [
      " 79%|███████▉  | 472/598 [14:11<07:18,  3.48s/it]"
     ]
    },
    {
     "name": "stdout",
     "output_type": "stream",
     "text": [
      "uploaded: data/highsnobiety/Norda/norda-001-w-white-gum-front-both-img.jpg\n",
      "norda-001-w-white-gum is done\n",
      "processing norda-001-m-labrador-tea\n",
      "uploaded: data/highsnobiety/Norda/norda-001-m-labrador-tea-right-side-img.jpg\n",
      "uploaded: data/highsnobiety/Norda/norda-001-m-labrador-tea-left-side-img.jpg\n"
     ]
    },
    {
     "name": "stderr",
     "output_type": "stream",
     "text": [
      " 79%|███████▉  | 473/598 [14:14<07:08,  3.43s/it]"
     ]
    },
    {
     "name": "stdout",
     "output_type": "stream",
     "text": [
      "uploaded: data/highsnobiety/Norda/norda-001-m-labrador-tea-front-both-img.jpg\n",
      "norda-001-m-labrador-tea is done\n",
      "processing norda-001-m-stealth-black\n",
      "uploaded: data/highsnobiety/Norda/norda-001-m-stealth-black-right-side-img.jpg\n",
      "uploaded: data/highsnobiety/Norda/norda-001-m-stealth-black-left-side-img.jpg\n"
     ]
    },
    {
     "name": "stderr",
     "output_type": "stream",
     "text": [
      " 79%|███████▉  | 474/598 [14:17<07:00,  3.39s/it]"
     ]
    },
    {
     "name": "stdout",
     "output_type": "stream",
     "text": [
      "uploaded: data/highsnobiety/Norda/norda-001-m-stealth-black-front-both-img.jpg\n",
      "norda-001-m-stealth-black is done\n",
      "processing norda-001-m-ltd-edition-icicle\n",
      "uploaded: data/highsnobiety/Norda/norda-001-m-ltd-edition-icicle-right-side-img.jpg\n"
     ]
    },
    {
     "name": "stderr",
     "output_type": "stream",
     "text": [
      " 79%|███████▉  | 475/598 [14:20<06:28,  3.16s/it]"
     ]
    },
    {
     "name": "stdout",
     "output_type": "stream",
     "text": [
      "uploaded: data/highsnobiety/Norda/norda-001-m-ltd-edition-icicle-left-side-img.jpg\n",
      "uploaded: data/highsnobiety/Norda/norda-001-m-ltd-edition-icicle-front-both-img.jpg\n",
      "norda-001-m-ltd-edition-icicle is done\n",
      "processing on-cloudultra-bronze-navy\n",
      "uploaded: data/highsnobiety/On/on-cloudultra-bronze-navy-right-side-img.jpg\n",
      "uploaded: data/highsnobiety/On/on-cloudultra-bronze-navy-left-side-img.jpg\n"
     ]
    },
    {
     "name": "stderr",
     "output_type": "stream",
     "text": [
      " 80%|███████▉  | 476/598 [14:23<06:18,  3.11s/it]"
     ]
    },
    {
     "name": "stdout",
     "output_type": "stream",
     "text": [
      "uploaded: data/highsnobiety/On/on-cloudultra-bronze-navy-front-both-img.jpg\n",
      "on-cloudultra-bronze-navy is done\n",
      "processing trussardi-neo-sock-sneaker-black\n",
      "uploaded: data/highsnobiety/Trussardi/trussardi-neo-sock-sneaker-black-right-side-img.jpg\n",
      "uploaded: data/highsnobiety/Trussardi/trussardi-neo-sock-sneaker-black-left-side-img.jpg\n"
     ]
    },
    {
     "name": "stderr",
     "output_type": "stream",
     "text": [
      " 80%|███████▉  | 477/598 [14:26<06:24,  3.18s/it]"
     ]
    },
    {
     "name": "stdout",
     "output_type": "stream",
     "text": [
      "uploaded: data/highsnobiety/Trussardi/trussardi-neo-sock-sneaker-black-front-both-img.jpg\n",
      "trussardi-neo-sock-sneaker-black is done\n",
      "processing acne-studios-ballow-high-top-sneakers-olive-green\n",
      "uploaded: data/highsnobiety/Acne Studios/acne-studios-ballow-high-top-sneakers-olive-green-right-side-img.jpg\n",
      "uploaded: data/highsnobiety/Acne Studios/acne-studios-ballow-high-top-sneakers-olive-green-left-side-img.jpg\n"
     ]
    },
    {
     "name": "stderr",
     "output_type": "stream",
     "text": [
      " 80%|███████▉  | 478/598 [14:30<06:26,  3.22s/it]"
     ]
    },
    {
     "name": "stdout",
     "output_type": "stream",
     "text": [
      "uploaded: data/highsnobiety/Acne Studios/acne-studios-ballow-high-top-sneakers-olive-green-front-both-img.jpg\n",
      "acne-studios-ballow-high-top-sneakers-olive-green is done\n",
      "processing stone-island-grime-sneaker-white\n",
      "uploaded: data/highsnobiety/Stone Island/stone-island-grime-sneaker-white-right-side-img.jpg\n",
      "uploaded: data/highsnobiety/Stone Island/stone-island-grime-sneaker-white-left-side-img.jpg\n"
     ]
    },
    {
     "name": "stderr",
     "output_type": "stream",
     "text": [
      " 80%|████████  | 479/598 [14:33<06:27,  3.26s/it]"
     ]
    },
    {
     "name": "stdout",
     "output_type": "stream",
     "text": [
      "uploaded: data/highsnobiety/Stone Island/stone-island-grime-sneaker-white-front-both-img.jpg\n",
      "stone-island-grime-sneaker-white is done\n",
      "processing stone-island-grime-sneaker-orange\n",
      "uploaded: data/highsnobiety/Stone Island/stone-island-grime-sneaker-orange-right-side-img.jpg\n",
      "uploaded: data/highsnobiety/Stone Island/stone-island-grime-sneaker-orange-left-side-img.jpg\n"
     ]
    },
    {
     "name": "stderr",
     "output_type": "stream",
     "text": [
      " 80%|████████  | 480/598 [14:36<06:24,  3.26s/it]"
     ]
    },
    {
     "name": "stdout",
     "output_type": "stream",
     "text": [
      "uploaded: data/highsnobiety/Stone Island/stone-island-grime-sneaker-orange-front-both-img.jpg\n",
      "stone-island-grime-sneaker-orange is done\n",
      "processing stone-island-football-sneaker-burgundy\n",
      "uploaded: data/highsnobiety/Stone Island/stone-island-football-sneaker-burgundy-right-side-img.jpg\n",
      "uploaded: data/highsnobiety/Stone Island/stone-island-football-sneaker-burgundy-left-side-img.jpg\n"
     ]
    },
    {
     "name": "stderr",
     "output_type": "stream",
     "text": [
      " 80%|████████  | 481/598 [14:40<06:21,  3.26s/it]"
     ]
    },
    {
     "name": "stdout",
     "output_type": "stream",
     "text": [
      "uploaded: data/highsnobiety/Stone Island/stone-island-football-sneaker-burgundy-front-both-img.jpg\n",
      "stone-island-football-sneaker-burgundy is done\n",
      "processing new-balance-m990ta2-blue\n",
      "uploaded: data/highsnobiety/New Balance/new-balance-m990ta2-blue-right-side-img.jpg\n",
      "uploaded: data/highsnobiety/New Balance/new-balance-m990ta2-blue-left-side-img.jpg\n"
     ]
    },
    {
     "name": "stderr",
     "output_type": "stream",
     "text": [
      " 81%|████████  | 482/598 [14:44<06:42,  3.47s/it]"
     ]
    },
    {
     "name": "stdout",
     "output_type": "stream",
     "text": [
      "uploaded: data/highsnobiety/New Balance/new-balance-m990ta2-blue-front-both-img.jpg\n",
      "new-balance-m990ta2-blue is done\n",
      "processing new-balance-ms574tvt-team-cream\n",
      "uploaded: data/highsnobiety/New Balance/new-balance-ms574tvt-team-cream-right-side-img.jpg\n",
      "uploaded: data/highsnobiety/New Balance/new-balance-ms574tvt-team-cream-left-side-img.jpg\n"
     ]
    },
    {
     "name": "stderr",
     "output_type": "stream",
     "text": [
      " 81%|████████  | 483/598 [14:47<06:32,  3.41s/it]"
     ]
    },
    {
     "name": "stdout",
     "output_type": "stream",
     "text": [
      "uploaded: data/highsnobiety/New Balance/new-balance-ms574tvt-team-cream-front-both-img.jpg\n",
      "new-balance-ms574tvt-team-cream is done\n",
      "processing new-balance-m1500pgl-grey\n",
      "uploaded: data/highsnobiety/New Balance/new-balance-m1500pgl-grey-right-side-img.jpg\n",
      "uploaded: data/highsnobiety/New Balance/new-balance-m1500pgl-grey-left-side-img.jpg\n"
     ]
    },
    {
     "name": "stderr",
     "output_type": "stream",
     "text": [
      " 81%|████████  | 484/598 [14:50<06:33,  3.45s/it]"
     ]
    },
    {
     "name": "stdout",
     "output_type": "stream",
     "text": [
      "uploaded: data/highsnobiety/New Balance/new-balance-m1500pgl-grey-front-both-img.jpg\n",
      "new-balance-m1500pgl-grey is done\n",
      "processing new-balance-urc30rd-nb-burgundy\n",
      "uploaded: data/highsnobiety/New Balance/new-balance-urc30rd-nb-burgundy-right-side-img.jpg\n",
      "uploaded: data/highsnobiety/New Balance/new-balance-urc30rd-nb-burgundy-left-side-img.jpg\n"
     ]
    },
    {
     "name": "stderr",
     "output_type": "stream",
     "text": [
      " 81%|████████  | 485/598 [14:54<06:29,  3.44s/it]"
     ]
    },
    {
     "name": "stdout",
     "output_type": "stream",
     "text": [
      "uploaded: data/highsnobiety/New Balance/new-balance-urc30rd-nb-burgundy-front-both-img.jpg\n",
      "new-balance-urc30rd-nb-burgundy is done\n",
      "processing new-balance-m990ai2-orange\n",
      "uploaded: data/highsnobiety/New Balance/new-balance-m990ai2-orange-right-side-img.jpg\n",
      "uploaded: data/highsnobiety/New Balance/new-balance-m990ai2-orange-left-side-img.jpg\n"
     ]
    },
    {
     "name": "stderr",
     "output_type": "stream",
     "text": [
      " 81%|████████▏ | 486/598 [14:57<06:18,  3.38s/it]"
     ]
    },
    {
     "name": "stdout",
     "output_type": "stream",
     "text": [
      "uploaded: data/highsnobiety/New Balance/new-balance-m990ai2-orange-front-both-img.jpg\n",
      "new-balance-m990ai2-orange is done\n",
      "processing new-balance-urc30rc-nightwatch-green\n",
      "uploaded: data/highsnobiety/New Balance/new-balance-urc30rc-nightwatch-green-right-side-img.jpg\n",
      "uploaded: data/highsnobiety/New Balance/new-balance-urc30rc-nightwatch-green-left-side-img.jpg\n"
     ]
    },
    {
     "name": "stderr",
     "output_type": "stream",
     "text": [
      " 81%|████████▏ | 487/598 [15:01<06:24,  3.46s/it]"
     ]
    },
    {
     "name": "stdout",
     "output_type": "stream",
     "text": [
      "uploaded: data/highsnobiety/New Balance/new-balance-urc30rc-nightwatch-green-front-both-img.jpg\n",
      "new-balance-urc30rc-nightwatch-green is done\n",
      "processing new-balance-urc30rb-macadamia-nut\n",
      "uploaded: data/highsnobiety/New Balance/new-balance-urc30rb-macadamia-nut-right-side-img.jpg\n",
      "uploaded: data/highsnobiety/New Balance/new-balance-urc30rb-macadamia-nut-left-side-img.jpg\n"
     ]
    },
    {
     "name": "stderr",
     "output_type": "stream",
     "text": [
      " 82%|████████▏ | 488/598 [15:03<05:59,  3.27s/it]"
     ]
    },
    {
     "name": "stdout",
     "output_type": "stream",
     "text": [
      "uploaded: data/highsnobiety/New Balance/new-balance-urc30rb-macadamia-nut-front-both-img.jpg\n",
      "new-balance-urc30rb-macadamia-nut is done\n",
      "processing new-balance-mt580og2-natural-indigo\n",
      "uploaded: data/highsnobiety/New Balance/new-balance-mt580og2-natural-indigo-right-side-img.jpg\n",
      "uploaded: data/highsnobiety/New Balance/new-balance-mt580og2-natural-indigo-left-side-img.jpg\n"
     ]
    },
    {
     "name": "stderr",
     "output_type": "stream",
     "text": [
      " 82%|████████▏ | 489/598 [15:07<05:59,  3.29s/it]"
     ]
    },
    {
     "name": "stdout",
     "output_type": "stream",
     "text": [
      "uploaded: data/highsnobiety/New Balance/new-balance-mt580og2-natural-indigo-front-both-img.jpg\n",
      "new-balance-mt580og2-natural-indigo is done\n",
      "processing new-balance-m990ad2-red\n",
      "uploaded: data/highsnobiety/New Balance/new-balance-m990ad2-red-right-side-img.jpg\n",
      "uploaded: data/highsnobiety/New Balance/new-balance-m990ad2-red-left-side-img.jpg\n"
     ]
    },
    {
     "name": "stderr",
     "output_type": "stream",
     "text": [
      " 82%|████████▏ | 490/598 [15:10<05:48,  3.22s/it]"
     ]
    },
    {
     "name": "stdout",
     "output_type": "stream",
     "text": [
      "uploaded: data/highsnobiety/New Balance/new-balance-m990ad2-red-front-both-img.jpg\n",
      "new-balance-m990ad2-red is done\n",
      "processing new-balance-m990wb2-white\n",
      "uploaded: data/highsnobiety/New Balance/new-balance-m990wb2-white-right-side-img.jpg\n",
      "uploaded: data/highsnobiety/New Balance/new-balance-m990wb2-white-left-side-img.jpg\n"
     ]
    },
    {
     "name": "stderr",
     "output_type": "stream",
     "text": [
      " 82%|████████▏ | 491/598 [15:13<05:46,  3.23s/it]"
     ]
    },
    {
     "name": "stdout",
     "output_type": "stream",
     "text": [
      "uploaded: data/highsnobiety/New Balance/new-balance-m990wb2-white-front-both-img.jpg\n",
      "new-balance-m990wb2-white is done\n",
      "processing new-balance-mr530put-vibrant-apricot\n",
      "uploaded: data/highsnobiety/New Balance/new-balance-mr530put-vibrant-apricot-right-side-img.jpg\n",
      "uploaded: data/highsnobiety/New Balance/new-balance-mr530put-vibrant-apricot-left-side-img.jpg\n"
     ]
    },
    {
     "name": "stderr",
     "output_type": "stream",
     "text": [
      " 82%|████████▏ | 492/598 [15:16<05:40,  3.21s/it]"
     ]
    },
    {
     "name": "stdout",
     "output_type": "stream",
     "text": [
      "uploaded: data/highsnobiety/New Balance/new-balance-mr530put-vibrant-apricot-front-both-img.jpg\n",
      "new-balance-mr530put-vibrant-apricot is done\n",
      "processing new-balance-m730inv-grey-navy\n",
      "uploaded: data/highsnobiety/New Balance/new-balance-m730inv-grey-navy-right-side-img.jpg\n",
      "uploaded: data/highsnobiety/New Balance/new-balance-m730inv-grey-navy-left-side-img.jpg\n"
     ]
    },
    {
     "name": "stderr",
     "output_type": "stream",
     "text": [
      " 82%|████████▏ | 493/598 [15:19<05:35,  3.20s/it]"
     ]
    },
    {
     "name": "stdout",
     "output_type": "stream",
     "text": [
      "uploaded: data/highsnobiety/New Balance/new-balance-m730inv-grey-navy-front-both-img.jpg\n",
      "new-balance-m730inv-grey-navy is done\n",
      "processing new-balance-mr530zel-cosmic-jade\n",
      "uploaded: data/highsnobiety/New Balance/new-balance-mr530zel-cosmic-jade-right-side-img.jpg\n",
      "uploaded: data/highsnobiety/New Balance/new-balance-mr530zel-cosmic-jade-left-side-img.jpg\n"
     ]
    },
    {
     "name": "stderr",
     "output_type": "stream",
     "text": [
      " 83%|████████▎ | 494/598 [15:23<05:44,  3.31s/it]"
     ]
    },
    {
     "name": "stdout",
     "output_type": "stream",
     "text": [
      "uploaded: data/highsnobiety/New Balance/new-balance-mr530zel-cosmic-jade-front-both-img.jpg\n",
      "new-balance-mr530zel-cosmic-jade is done\n",
      "processing new-balance-mr530dwp-lemonade\n",
      "uploaded: data/highsnobiety/New Balance/new-balance-mr530dwp-lemonade-right-side-img.jpg\n",
      "uploaded: data/highsnobiety/New Balance/new-balance-mr530dwp-lemonade-left-side-img.jpg\n"
     ]
    },
    {
     "name": "stderr",
     "output_type": "stream",
     "text": [
      " 83%|████████▎ | 495/598 [15:28<06:25,  3.74s/it]"
     ]
    },
    {
     "name": "stdout",
     "output_type": "stream",
     "text": [
      "uploaded: data/highsnobiety/New Balance/new-balance-mr530dwp-lemonade-front-both-img.jpg\n",
      "new-balance-mr530dwp-lemonade is done\n",
      "processing salomon-xt-6-gtx-black-ebony-lunar-rock\n",
      "uploaded: data/highsnobiety/Salomon/salomon-xt-6-gtx-black-ebony-lunar-rock-right-side-img.jpg\n"
     ]
    },
    {
     "name": "stderr",
     "output_type": "stream",
     "text": [
      " 83%|████████▎ | 496/598 [15:31<06:12,  3.66s/it]"
     ]
    },
    {
     "name": "stdout",
     "output_type": "stream",
     "text": [
      "uploaded: data/highsnobiety/Salomon/salomon-xt-6-gtx-black-ebony-lunar-rock-left-side-img.jpg\n",
      "uploaded: data/highsnobiety/Salomon/salomon-xt-6-gtx-black-ebony-lunar-rock-front-both-img.jpg\n",
      "salomon-xt-6-gtx-black-ebony-lunar-rock is done\n",
      "processing salomon-quest-4d-gtx-advanced-black\n",
      "uploaded: data/highsnobiety/Salomon/salomon-quest-4d-gtx-advanced-black-right-side-img.jpg\n",
      "uploaded: data/highsnobiety/Salomon/salomon-quest-4d-gtx-advanced-black-left-side-img.jpg\n"
     ]
    },
    {
     "name": "stderr",
     "output_type": "stream",
     "text": [
      " 83%|████████▎ | 497/598 [15:34<05:43,  3.40s/it]"
     ]
    },
    {
     "name": "stdout",
     "output_type": "stream",
     "text": [
      "uploaded: data/highsnobiety/Salomon/salomon-quest-4d-gtx-advanced-black-front-both-img.jpg\n",
      "salomon-quest-4d-gtx-advanced-black is done\n",
      "processing on-cloudultra-vine-meadow\n",
      "uploaded: data/highsnobiety/On/on-cloudultra-vine-meadow-right-side-img.jpg\n",
      "uploaded: data/highsnobiety/On/on-cloudultra-vine-meadow-left-side-img.jpg\n"
     ]
    },
    {
     "name": "stderr",
     "output_type": "stream",
     "text": [
      " 83%|████████▎ | 498/598 [15:37<05:34,  3.34s/it]"
     ]
    },
    {
     "name": "stdout",
     "output_type": "stream",
     "text": [
      "uploaded: data/highsnobiety/On/on-cloudultra-vine-meadow-front-both-img.jpg\n",
      "on-cloudultra-vine-meadow is done\n",
      "processing mizuno-wave-daichi-7-gtx-black-iron-gate-mecca-orange\n",
      "uploaded: data/highsnobiety/Mizuno/mizuno-wave-daichi-7-gtx-black-iron-gate-mecca-orange-right-side-img.jpg\n",
      "uploaded: data/highsnobiety/Mizuno/mizuno-wave-daichi-7-gtx-black-iron-gate-mecca-orange-left-side-img.jpg\n"
     ]
    },
    {
     "name": "stderr",
     "output_type": "stream",
     "text": [
      " 83%|████████▎ | 499/598 [15:41<05:37,  3.41s/it]"
     ]
    },
    {
     "name": "stdout",
     "output_type": "stream",
     "text": [
      "uploaded: data/highsnobiety/Mizuno/mizuno-wave-daichi-7-gtx-black-iron-gate-mecca-orange-front-both-img.jpg\n",
      "mizuno-wave-daichi-7-gtx-black-iron-gate-mecca-orange is done\n",
      "processing wave-prophecy-ls-chime-khaki-cloud70635\n",
      "uploaded: data/highsnobiety/Mizuno/wave-prophecy-ls-chime-khaki-cloud70635-right-side-img.jpg\n",
      "uploaded: data/highsnobiety/Mizuno/wave-prophecy-ls-chime-khaki-cloud70635-left-side-img.jpg\n"
     ]
    },
    {
     "name": "stderr",
     "output_type": "stream",
     "text": [
      " 84%|████████▎ | 500/598 [15:44<05:28,  3.35s/it]"
     ]
    },
    {
     "name": "stdout",
     "output_type": "stream",
     "text": [
      "uploaded: data/highsnobiety/Mizuno/wave-prophecy-ls-chime-khaki-cloud70635-front-both-img.jpg\n",
      "wave-prophecy-ls-chime-khaki-cloud70635 is done\n",
      "processing mizuno-wave-prophecy-beta-fallen-rock-harbor-mist\n",
      "uploaded: data/highsnobiety/Mizuno/mizuno-wave-prophecy-beta-fallen-rock-harbor-mist-right-side-img.jpg\n",
      "uploaded: data/highsnobiety/Mizuno/mizuno-wave-prophecy-beta-fallen-rock-harbor-mist-left-side-img.jpg\n"
     ]
    },
    {
     "name": "stderr",
     "output_type": "stream",
     "text": [
      " 84%|████████▍ | 501/598 [15:47<05:18,  3.28s/it]"
     ]
    },
    {
     "name": "stdout",
     "output_type": "stream",
     "text": [
      "uploaded: data/highsnobiety/Mizuno/mizuno-wave-prophecy-beta-fallen-rock-harbor-mist-front-both-img.jpg\n",
      "mizuno-wave-prophecy-beta-fallen-rock-harbor-mist is done\n",
      "processing mizuno-wave-prophecy-11-dark-shadow-silver-black\n",
      "uploaded: data/highsnobiety/Mizuno/mizuno-wave-prophecy-11-dark-shadow-silver-black-right-side-img.jpg\n",
      "uploaded: data/highsnobiety/Mizuno/mizuno-wave-prophecy-11-dark-shadow-silver-black-left-side-img.jpg\n"
     ]
    },
    {
     "name": "stderr",
     "output_type": "stream",
     "text": [
      " 84%|████████▍ | 502/598 [15:51<05:22,  3.36s/it]"
     ]
    },
    {
     "name": "stdout",
     "output_type": "stream",
     "text": [
      "uploaded: data/highsnobiety/Mizuno/mizuno-wave-prophecy-11-dark-shadow-silver-black-front-both-img.jpg\n",
      "mizuno-wave-prophecy-11-dark-shadow-silver-black is done\n",
      "processing mizuno-wave-prophecy-beta-shade-harbor-mist\n",
      "uploaded: data/highsnobiety/Mizuno/mizuno-wave-prophecy-beta-shade-harbor-mist-right-side-img.jpg\n",
      "uploaded: data/highsnobiety/Mizuno/mizuno-wave-prophecy-beta-shade-harbor-mist-left-side-img.jpg\n"
     ]
    },
    {
     "name": "stderr",
     "output_type": "stream",
     "text": [
      " 84%|████████▍ | 503/598 [15:54<05:30,  3.48s/it]"
     ]
    },
    {
     "name": "stdout",
     "output_type": "stream",
     "text": [
      "uploaded: data/highsnobiety/Mizuno/mizuno-wave-prophecy-beta-shade-harbor-mist-front-both-img.jpg\n",
      "mizuno-wave-prophecy-beta-shade-harbor-mist is done\n",
      "processing adidas-ozelia-grey-carbon\n",
      "uploaded: data/highsnobiety/Adidas/adidas-ozelia-grey-carbon-right-side-img.jpg\n",
      "uploaded: data/highsnobiety/Adidas/adidas-ozelia-grey-carbon-left-side-img.jpg\n"
     ]
    },
    {
     "name": "stderr",
     "output_type": "stream",
     "text": [
      " 84%|████████▍ | 504/598 [15:58<05:25,  3.46s/it]"
     ]
    },
    {
     "name": "stdout",
     "output_type": "stream",
     "text": [
      "uploaded: data/highsnobiety/Adidas/adidas-ozelia-grey-carbon-front-both-img.jpg\n",
      "adidas-ozelia-grey-carbon is done\n",
      "processing adidas-ozrah-pale-nude-orange-rush\n",
      "uploaded: data/highsnobiety/Adidas/adidas-ozrah-pale-nude-orange-rush-right-side-img.jpg\n",
      "uploaded: data/highsnobiety/Adidas/adidas-ozrah-pale-nude-orange-rush-left-side-img.jpg\n"
     ]
    },
    {
     "name": "stderr",
     "output_type": "stream",
     "text": [
      " 84%|████████▍ | 505/598 [16:01<05:14,  3.38s/it]"
     ]
    },
    {
     "name": "stdout",
     "output_type": "stream",
     "text": [
      "uploaded: data/highsnobiety/Adidas/adidas-ozrah-pale-nude-orange-rush-front-both-img.jpg\n",
      "adidas-ozrah-pale-nude-orange-rush is done\n",
      "processing adidas-ozelia-off-white-white\n",
      "uploaded: data/highsnobiety/Adidas/adidas-ozelia-off-white-white-right-side-img.jpg\n",
      "uploaded: data/highsnobiety/Adidas/adidas-ozelia-off-white-white-left-side-img.jpg\n"
     ]
    },
    {
     "name": "stderr",
     "output_type": "stream",
     "text": [
      " 85%|████████▍ | 506/598 [16:04<04:55,  3.22s/it]"
     ]
    },
    {
     "name": "stdout",
     "output_type": "stream",
     "text": [
      "uploaded: data/highsnobiety/Adidas/adidas-ozelia-off-white-white-front-both-img.jpg\n",
      "adidas-ozelia-off-white-white is done\n",
      "processing raf-simons-cylon-21-cream-black\n",
      "uploaded: data/highsnobiety/Raf Simons/raf-simons-cylon-21-cream-black-right-side-img.jpg\n",
      "uploaded: data/highsnobiety/Raf Simons/raf-simons-cylon-21-cream-black-left-side-img.jpg\n"
     ]
    },
    {
     "name": "stderr",
     "output_type": "stream",
     "text": [
      " 85%|████████▍ | 507/598 [16:07<04:53,  3.23s/it]"
     ]
    },
    {
     "name": "stdout",
     "output_type": "stream",
     "text": [
      "uploaded: data/highsnobiety/Raf Simons/raf-simons-cylon-21-cream-black-front-both-img.jpg\n",
      "raf-simons-cylon-21-cream-black is done\n",
      "processing veja-berlin-womenss-calf-leather-minotaur-beige\n",
      "uploaded: data/highsnobiety/VEJA x Berlin/veja-berlin-womenss-calf-leather-minotaur-beige-right-side-img.jpg\n",
      "uploaded: data/highsnobiety/VEJA x Berlin/veja-berlin-womenss-calf-leather-minotaur-beige-left-side-img.jpg\n"
     ]
    },
    {
     "name": "stderr",
     "output_type": "stream",
     "text": [
      " 85%|████████▍ | 508/598 [16:10<04:40,  3.11s/it]"
     ]
    },
    {
     "name": "stdout",
     "output_type": "stream",
     "text": [
      "uploaded: data/highsnobiety/VEJA x Berlin/veja-berlin-womenss-calf-leather-minotaur-beige-front-both-img.jpg\n",
      "veja-berlin-womenss-calf-leather-minotaur-beige is done\n",
      "processing reebok-club-c-85-u-white\n",
      "uploaded: data/highsnobiety/Reebok/reebok-club-c-85-u-white-right-side-img.jpg\n",
      "uploaded: data/highsnobiety/Reebok/reebok-club-c-85-u-white-left-side-img.jpg\n"
     ]
    },
    {
     "name": "stderr",
     "output_type": "stream",
     "text": [
      " 85%|████████▌ | 509/598 [16:13<04:39,  3.14s/it]"
     ]
    },
    {
     "name": "stdout",
     "output_type": "stream",
     "text": [
      "uploaded: data/highsnobiety/Reebok/reebok-club-c-85-u-white-front-both-img.jpg\n",
      "reebok-club-c-85-u-white is done\n",
      "processing reebok-premier-road-plus-vi-grey\n",
      "uploaded: data/highsnobiety/Reebok/reebok-premier-road-plus-vi-grey-right-side-img.jpg\n",
      "uploaded: data/highsnobiety/Reebok/reebok-premier-road-plus-vi-grey-left-side-img.jpg\n"
     ]
    },
    {
     "name": "stderr",
     "output_type": "stream",
     "text": [
      " 85%|████████▌ | 510/598 [16:17<04:42,  3.21s/it]"
     ]
    },
    {
     "name": "stdout",
     "output_type": "stream",
     "text": [
      "uploaded: data/highsnobiety/Reebok/reebok-premier-road-plus-vi-grey-front-both-img.jpg\n",
      "reebok-premier-road-plus-vi-grey is done\n",
      "processing reebok-club-c-85-grey\n",
      "uploaded: data/highsnobiety/Reebok/reebok-club-c-85-grey-right-side-img.jpg\n",
      "uploaded: data/highsnobiety/Reebok/reebok-club-c-85-grey-left-side-img.jpg\n"
     ]
    },
    {
     "name": "stderr",
     "output_type": "stream",
     "text": [
      " 85%|████████▌ | 511/598 [16:20<04:53,  3.37s/it]"
     ]
    },
    {
     "name": "stdout",
     "output_type": "stream",
     "text": [
      "uploaded: data/highsnobiety/Reebok/reebok-club-c-85-grey-front-both-img.jpg\n",
      "reebok-club-c-85-grey is done\n",
      "processing reebok-classic-leather-plus-white\n",
      "uploaded: data/highsnobiety/Reebok/reebok-classic-leather-plus-white-right-side-img.jpg\n",
      "uploaded: data/highsnobiety/Reebok/reebok-classic-leather-plus-white-left-side-img.jpg\n"
     ]
    },
    {
     "name": "stderr",
     "output_type": "stream",
     "text": [
      " 86%|████████▌ | 512/598 [16:24<04:56,  3.45s/it]"
     ]
    },
    {
     "name": "stdout",
     "output_type": "stream",
     "text": [
      "uploaded: data/highsnobiety/Reebok/reebok-classic-leather-plus-white-front-both-img.jpg\n",
      "reebok-classic-leather-plus-white is done\n",
      "processing reebok-lt-court-chalk\n",
      "uploaded: data/highsnobiety/Reebok/reebok-lt-court-chalk-right-side-img.jpg\n"
     ]
    },
    {
     "name": "stderr",
     "output_type": "stream",
     "text": [
      " 86%|████████▌ | 513/598 [16:27<04:46,  3.37s/it]"
     ]
    },
    {
     "name": "stdout",
     "output_type": "stream",
     "text": [
      "uploaded: data/highsnobiety/Reebok/reebok-lt-court-chalk-left-side-img.jpg\n",
      "uploaded: data/highsnobiety/Reebok/reebok-lt-court-chalk-front-both-img.jpg\n",
      "reebok-lt-court-chalk is done\n",
      "processing reebok-classic-leather-black\n",
      "uploaded: data/highsnobiety/Reebok/reebok-classic-leather-black-right-side-img.jpg\n",
      "uploaded: data/highsnobiety/Reebok/reebok-classic-leather-black-left-side-img.jpg\n"
     ]
    },
    {
     "name": "stderr",
     "output_type": "stream",
     "text": [
      " 86%|████████▌ | 514/598 [16:31<04:51,  3.47s/it]"
     ]
    },
    {
     "name": "stdout",
     "output_type": "stream",
     "text": [
      "uploaded: data/highsnobiety/Reebok/reebok-classic-leather-black-front-both-img.jpg\n",
      "reebok-classic-leather-black is done\n",
      "processing reebok-floatride-energy-yellow-blue\n",
      "uploaded: data/highsnobiety/Reebok/reebok-floatride-energy-yellow-blue-right-side-img.jpg\n",
      "uploaded: data/highsnobiety/Reebok/reebok-floatride-energy-yellow-blue-left-side-img.jpg\n"
     ]
    },
    {
     "name": "stderr",
     "output_type": "stream",
     "text": [
      " 86%|████████▌ | 515/598 [16:34<04:42,  3.41s/it]"
     ]
    },
    {
     "name": "stdout",
     "output_type": "stream",
     "text": [
      "uploaded: data/highsnobiety/Reebok/reebok-floatride-energy-yellow-blue-front-both-img.jpg\n",
      "reebok-floatride-energy-yellow-blue is done\n",
      "processing saucony-shadow-6000-white-dark-grey\n",
      "uploaded: data/highsnobiety/Saucony/saucony-shadow-6000-white-dark-grey-right-side-img.jpg\n",
      "uploaded: data/highsnobiety/Saucony/saucony-shadow-6000-white-dark-grey-left-side-img.jpg\n"
     ]
    },
    {
     "name": "stderr",
     "output_type": "stream",
     "text": [
      " 86%|████████▋ | 516/598 [16:37<04:30,  3.30s/it]"
     ]
    },
    {
     "name": "stdout",
     "output_type": "stream",
     "text": [
      "uploaded: data/highsnobiety/Saucony/saucony-shadow-6000-white-dark-grey-front-both-img.jpg\n",
      "saucony-shadow-6000-white-dark-grey is done\n",
      "processing saucony-shadow-6000-black\n",
      "uploaded: data/highsnobiety/Saucony/saucony-shadow-6000-black-right-side-img.jpg\n",
      "uploaded: data/highsnobiety/Saucony/saucony-shadow-6000-black-left-side-img.jpg\n"
     ]
    },
    {
     "name": "stderr",
     "output_type": "stream",
     "text": [
      " 86%|████████▋ | 517/598 [16:42<05:02,  3.74s/it]"
     ]
    },
    {
     "name": "stdout",
     "output_type": "stream",
     "text": [
      "uploaded: data/highsnobiety/Saucony/saucony-shadow-6000-black-front-both-img.jpg\n",
      "saucony-shadow-6000-black is done\n",
      "processing saucony-grid-azura-2000-undyed-beige\n",
      "uploaded: data/highsnobiety/Saucony/saucony-grid-azura-2000-undyed-beige-right-side-img.jpg\n",
      "uploaded: data/highsnobiety/Saucony/saucony-grid-azura-2000-undyed-beige-left-side-img.jpg\n"
     ]
    },
    {
     "name": "stderr",
     "output_type": "stream",
     "text": [
      " 87%|████████▋ | 518/598 [16:46<05:00,  3.76s/it]"
     ]
    },
    {
     "name": "stdout",
     "output_type": "stream",
     "text": [
      "uploaded: data/highsnobiety/Saucony/saucony-grid-azura-2000-undyed-beige-front-both-img.jpg\n",
      "saucony-grid-azura-2000-undyed-beige is done\n",
      "processing kenzo-boke-flower-high-top-sneaker-cream\n",
      "uploaded: data/highsnobiety/Kenzo/kenzo-boke-flower-high-top-sneaker-cream-right-side-img.jpg\n",
      "uploaded: data/highsnobiety/Kenzo/kenzo-boke-flower-high-top-sneaker-cream-left-side-img.jpg\n"
     ]
    },
    {
     "name": "stderr",
     "output_type": "stream",
     "text": [
      " 87%|████████▋ | 519/598 [16:49<04:43,  3.59s/it]"
     ]
    },
    {
     "name": "stdout",
     "output_type": "stream",
     "text": [
      "uploaded: data/highsnobiety/Kenzo/kenzo-boke-flower-high-top-sneaker-cream-front-both-img.jpg\n",
      "kenzo-boke-flower-high-top-sneaker-cream is done\n",
      "processing asics-gel-sonoma-15-50-seafoam-birch\n",
      "uploaded: data/highsnobiety/asics/asics-gel-sonoma-15-50-seafoam-birch-right-side-img.jpg\n",
      "uploaded: data/highsnobiety/asics/asics-gel-sonoma-15-50-seafoam-birch-left-side-img.jpg\n"
     ]
    },
    {
     "name": "stderr",
     "output_type": "stream",
     "text": [
      " 87%|████████▋ | 520/598 [16:53<04:50,  3.73s/it]"
     ]
    },
    {
     "name": "stdout",
     "output_type": "stream",
     "text": [
      "uploaded: data/highsnobiety/asics/asics-gel-sonoma-15-50-seafoam-birch-front-both-img.jpg\n",
      "asics-gel-sonoma-15-50-seafoam-birch is done\n",
      "processing new-balance-m920inv-navy-black\n",
      "uploaded: data/highsnobiety/New Balance/new-balance-m920inv-navy-black-right-side-img.jpg\n",
      "uploaded: data/highsnobiety/New Balance/new-balance-m920inv-navy-black-left-side-img.jpg\n"
     ]
    },
    {
     "name": "stderr",
     "output_type": "stream",
     "text": [
      " 87%|████████▋ | 521/598 [16:56<04:35,  3.58s/it]"
     ]
    },
    {
     "name": "stdout",
     "output_type": "stream",
     "text": [
      "uploaded: data/highsnobiety/New Balance/new-balance-m920inv-navy-black-front-both-img.jpg\n",
      "new-balance-m920inv-navy-black is done\n",
      "processing new-balance-m1500inv-grey-black\n",
      "uploaded: data/highsnobiety/New Balance/new-balance-m1500inv-grey-black-right-side-img.jpg\n",
      "uploaded: data/highsnobiety/New Balance/new-balance-m1500inv-grey-black-left-side-img.jpg\n"
     ]
    },
    {
     "name": "stderr",
     "output_type": "stream",
     "text": [
      " 87%|████████▋ | 522/598 [17:00<04:44,  3.74s/it]"
     ]
    },
    {
     "name": "stdout",
     "output_type": "stream",
     "text": [
      "uploaded: data/highsnobiety/New Balance/new-balance-m1500inv-grey-black-front-both-img.jpg\n",
      "new-balance-m1500inv-grey-black is done\n",
      "processing camper-soc-optic-offwhi-tos-fax-barc-aler-lleng\n",
      "uploaded: data/highsnobiety/CAMPERLAB/camper-soc-optic-offwhi-tos-fax-barc-aler-lleng-right-side-img.jpg\n"
     ]
    },
    {
     "name": "stderr",
     "output_type": "stream",
     "text": [
      " 87%|████████▋ | 523/598 [17:04<04:29,  3.59s/it]"
     ]
    },
    {
     "name": "stdout",
     "output_type": "stream",
     "text": [
      "uploaded: data/highsnobiety/CAMPERLAB/camper-soc-optic-offwhi-tos-fax-barc-aler-lleng-left-side-img.jpg\n",
      "uploaded: data/highsnobiety/CAMPERLAB/camper-soc-optic-offwhi-tos-fax-barc-aler-lleng-front-both-img.jpg\n",
      "camper-soc-optic-offwhi-tos-fax-barc-aler-lleng is done\n",
      "processing asics-hs4-s-gel-sonoma-15-50-gtx-spring-bouquet-blue-graphite\n",
      "uploaded: data/highsnobiety/asics/asics-hs4-s-gel-sonoma-15-50-gtx-spring-bouquet-blue-graphite-right-side-img.jpg\n",
      "uploaded: data/highsnobiety/asics/asics-hs4-s-gel-sonoma-15-50-gtx-spring-bouquet-blue-graphite-left-side-img.jpg\n"
     ]
    },
    {
     "name": "stderr",
     "output_type": "stream",
     "text": [
      " 88%|████████▊ | 524/598 [17:07<04:25,  3.59s/it]"
     ]
    },
    {
     "name": "stdout",
     "output_type": "stream",
     "text": [
      "uploaded: data/highsnobiety/asics/asics-hs4-s-gel-sonoma-15-50-gtx-spring-bouquet-blue-graphite-front-both-img.jpg\n",
      "asics-hs4-s-gel-sonoma-15-50-gtx-spring-bouquet-blue-graphite is done\n",
      "processing norda-001-w-white-grey-women\n",
      "uploaded: data/highsnobiety/Norda/norda-001-w-white-grey-women-right-side-img.jpg\n",
      "uploaded: data/highsnobiety/Norda/norda-001-w-white-grey-women-left-side-img.jpg\n"
     ]
    },
    {
     "name": "stderr",
     "output_type": "stream",
     "text": [
      " 88%|████████▊ | 525/598 [17:11<04:16,  3.51s/it]"
     ]
    },
    {
     "name": "stdout",
     "output_type": "stream",
     "text": [
      "uploaded: data/highsnobiety/Norda/norda-001-w-white-grey-women-front-both-img.jpg\n",
      "norda-001-w-white-grey-women is done\n",
      "processing norda-001-m-black\n",
      "uploaded: data/highsnobiety/Norda/norda-001-m-black-right-side-img.jpg\n",
      "uploaded: data/highsnobiety/Norda/norda-001-m-black-left-side-img.jpg\n"
     ]
    },
    {
     "name": "stderr",
     "output_type": "stream",
     "text": [
      " 88%|████████▊ | 526/598 [17:14<04:14,  3.53s/it]"
     ]
    },
    {
     "name": "stdout",
     "output_type": "stream",
     "text": [
      "uploaded: data/highsnobiety/Norda/norda-001-m-black-front-both-img.jpg\n",
      "norda-001-m-black is done\n",
      "processing norda-001-m-white-grey-men\n",
      "uploaded: data/highsnobiety/Norda/norda-001-m-white-grey-men-right-side-img.jpg\n",
      "uploaded: data/highsnobiety/Norda/norda-001-m-white-grey-men-left-side-img.jpg\n"
     ]
    },
    {
     "name": "stderr",
     "output_type": "stream",
     "text": [
      " 88%|████████▊ | 527/598 [17:17<04:04,  3.44s/it]"
     ]
    },
    {
     "name": "stdout",
     "output_type": "stream",
     "text": [
      "uploaded: data/highsnobiety/Norda/norda-001-m-white-grey-men-front-both-img.jpg\n",
      "norda-001-m-white-grey-men is done\n",
      "processing converse-run-star-hike-ox-black-white-gum\n"
     ]
    },
    {
     "name": "stderr",
     "output_type": "stream",
     "text": [
      " 88%|████████▊ | 528/598 [17:19<03:31,  3.02s/it]"
     ]
    },
    {
     "name": "stdout",
     "output_type": "stream",
     "text": [
      "could not request page https://www.highsnobiety.com/en-us/shop/product/converse-run-star-hike-ox-black-white-gum - 404 Client Error: Not Found for url: https://www.highsnobiety.com/en-us/shop/product/converse-run-star-hike-ox-black-white-gum/\n",
      "processing converse-chuck-70-hi-black-black-egret\n",
      "uploaded: data/highsnobiety/Converse/converse-chuck-70-hi-black-black-egret-right-side-img.jpg\n",
      "uploaded: data/highsnobiety/Converse/converse-chuck-70-hi-black-black-egret-left-side-img.jpg\n"
     ]
    },
    {
     "name": "stderr",
     "output_type": "stream",
     "text": [
      " 88%|████████▊ | 529/598 [17:23<03:37,  3.16s/it]"
     ]
    },
    {
     "name": "stdout",
     "output_type": "stream",
     "text": [
      "uploaded: data/highsnobiety/Converse/converse-chuck-70-hi-black-black-egret-front-both-img.jpg\n",
      "converse-chuck-70-hi-black-black-egret is done\n",
      "processing norda-001-m-sulphur\n",
      "uploaded: data/highsnobiety/Norda/norda-001-m-sulphur-right-side-img.jpg\n",
      "uploaded: data/highsnobiety/Norda/norda-001-m-sulphur-left-side-img.jpg\n"
     ]
    },
    {
     "name": "stderr",
     "output_type": "stream",
     "text": [
      " 89%|████████▊ | 530/598 [17:26<03:41,  3.25s/it]"
     ]
    },
    {
     "name": "stdout",
     "output_type": "stream",
     "text": [
      "uploaded: data/highsnobiety/Norda/norda-001-m-sulphur-front-both-img.jpg\n",
      "norda-001-m-sulphur is done\n",
      "processing asics-gel-1090-piedmont-gray-tarmac\n",
      "uploaded: data/highsnobiety/asics/asics-gel-1090-piedmont-gray-tarmac-right-side-img.jpg\n",
      "uploaded: data/highsnobiety/asics/asics-gel-1090-piedmont-gray-tarmac-left-side-img.jpg\n"
     ]
    },
    {
     "name": "stderr",
     "output_type": "stream",
     "text": [
      " 89%|████████▉ | 531/598 [17:31<04:05,  3.66s/it]"
     ]
    },
    {
     "name": "stdout",
     "output_type": "stream",
     "text": [
      "uploaded: data/highsnobiety/asics/asics-gel-1090-piedmont-gray-tarmac-front-both-img.jpg\n",
      "asics-gel-1090-piedmont-gray-tarmac is done\n",
      "processing converse-chuck-70-hi-pink-aura-egret-black\n",
      "uploaded: data/highsnobiety/Converse/converse-chuck-70-hi-pink-aura-egret-black-right-side-img.jpg\n",
      "uploaded: data/highsnobiety/Converse/converse-chuck-70-hi-pink-aura-egret-black-left-side-img.jpg\n"
     ]
    },
    {
     "name": "stderr",
     "output_type": "stream",
     "text": [
      " 89%|████████▉ | 532/598 [17:34<03:59,  3.63s/it]"
     ]
    },
    {
     "name": "stdout",
     "output_type": "stream",
     "text": [
      "uploaded: data/highsnobiety/Converse/converse-chuck-70-hi-pink-aura-egret-black-front-both-img.jpg\n",
      "converse-chuck-70-hi-pink-aura-egret-black is done\n",
      "processing converse-chuck-70-ox-papyrus-egret-black\n",
      "uploaded: data/highsnobiety/Converse/converse-chuck-70-ox-papyrus-egret-black-right-side-img.jpg\n",
      "uploaded: data/highsnobiety/Converse/converse-chuck-70-ox-papyrus-egret-black-left-side-img.jpg\n"
     ]
    },
    {
     "name": "stderr",
     "output_type": "stream",
     "text": [
      " 89%|████████▉ | 533/598 [17:38<03:54,  3.60s/it]"
     ]
    },
    {
     "name": "stdout",
     "output_type": "stream",
     "text": [
      "uploaded: data/highsnobiety/Converse/converse-chuck-70-ox-papyrus-egret-black-front-both-img.jpg\n",
      "converse-chuck-70-ox-papyrus-egret-black is done\n",
      "processing converse-chuck-70-mule-slip-black-black-egret\n",
      "uploaded: data/highsnobiety/Converse/converse-chuck-70-mule-slip-black-black-egret-right-side-img.jpg\n"
     ]
    },
    {
     "name": "stderr",
     "output_type": "stream",
     "text": [
      " 89%|████████▉ | 534/598 [17:42<03:50,  3.60s/it]"
     ]
    },
    {
     "name": "stdout",
     "output_type": "stream",
     "text": [
      "uploaded: data/highsnobiety/Converse/converse-chuck-70-mule-slip-black-black-egret-left-side-img.jpg\n",
      "uploaded: data/highsnobiety/Converse/converse-chuck-70-mule-slip-black-black-egret-front-both-img.jpg\n",
      "converse-chuck-70-mule-slip-black-black-egret is done\n",
      "processing new-balance-u574bh2-sea-salt\n",
      "uploaded: data/highsnobiety/New Balance/new-balance-u574bh2-sea-salt-right-side-img.jpg\n",
      "uploaded: data/highsnobiety/New Balance/new-balance-u574bh2-sea-salt-left-side-img.jpg\n"
     ]
    },
    {
     "name": "stderr",
     "output_type": "stream",
     "text": [
      " 89%|████████▉ | 535/598 [17:45<03:40,  3.51s/it]"
     ]
    },
    {
     "name": "stdout",
     "output_type": "stream",
     "text": [
      "uploaded: data/highsnobiety/New Balance/new-balance-u574bh2-sea-salt-front-both-img.jpg\n",
      "new-balance-u574bh2-sea-salt is done\n",
      "processing salomon-x-mission-4-black-ebony-gum\n",
      "uploaded: data/highsnobiety/Salomon/salomon-x-mission-4-black-ebony-gum-right-side-img.jpg\n",
      "uploaded: data/highsnobiety/Salomon/salomon-x-mission-4-black-ebony-gum-left-side-img.jpg\n"
     ]
    },
    {
     "name": "stderr",
     "output_type": "stream",
     "text": [
      " 90%|████████▉ | 536/598 [17:48<03:29,  3.37s/it]"
     ]
    },
    {
     "name": "stdout",
     "output_type": "stream",
     "text": [
      "uploaded: data/highsnobiety/Salomon/salomon-x-mission-4-black-ebony-gum-front-both-img.jpg\n",
      "salomon-x-mission-4-black-ebony-gum is done\n",
      "processing y-3-hicho-grey-cream\n",
      "uploaded: data/highsnobiety/Y-3/y-3-hicho-grey-cream-right-side-img.jpg\n",
      "uploaded: data/highsnobiety/Y-3/y-3-hicho-grey-cream-left-side-img.jpg\n"
     ]
    },
    {
     "name": "stderr",
     "output_type": "stream",
     "text": [
      " 90%|████████▉ | 537/598 [17:53<03:50,  3.78s/it]"
     ]
    },
    {
     "name": "stdout",
     "output_type": "stream",
     "text": [
      "uploaded: data/highsnobiety/Y-3/y-3-hicho-grey-cream-front-both-img.jpg\n",
      "y-3-hicho-grey-cream is done\n",
      "processing converse-golf-le-fleur-chuck-70-ox-owl-camo-egret-corydalis-blue-antique-white\n",
      "uploaded: data/highsnobiety/Converse x Golf Le Fleur/converse-golf-le-fleur-chuck-70-ox-owl-camo-egret-corydalis-blue-antique-white-right-side-img.jpg\n",
      "uploaded: data/highsnobiety/Converse x Golf Le Fleur/converse-golf-le-fleur-chuck-70-ox-owl-camo-egret-corydalis-blue-antique-white-left-side-img.jpg\n"
     ]
    },
    {
     "name": "stderr",
     "output_type": "stream",
     "text": [
      " 90%|████████▉ | 538/598 [17:56<03:40,  3.67s/it]"
     ]
    },
    {
     "name": "stdout",
     "output_type": "stream",
     "text": [
      "uploaded: data/highsnobiety/Converse x Golf Le Fleur/converse-golf-le-fleur-chuck-70-ox-owl-camo-egret-corydalis-blue-antique-white-front-both-img.jpg\n",
      "converse-golf-le-fleur-chuck-70-ox-owl-camo-egret-corydalis-blue-antique-white is done\n",
      "processing last-resort-ab-vm002-suede-lo-sand-black\n",
      "uploaded: data/highsnobiety/Last Resort AB/last-resort-ab-vm002-suede-lo-sand-black-right-side-img.jpg\n",
      "uploaded: data/highsnobiety/Last Resort AB/last-resort-ab-vm002-suede-lo-sand-black-left-side-img.jpg\n"
     ]
    },
    {
     "name": "stderr",
     "output_type": "stream",
     "text": [
      " 90%|█████████ | 539/598 [18:00<03:32,  3.61s/it]"
     ]
    },
    {
     "name": "stdout",
     "output_type": "stream",
     "text": [
      "uploaded: data/highsnobiety/Last Resort AB/last-resort-ab-vm002-suede-lo-sand-black-front-both-img.jpg\n",
      "last-resort-ab-vm002-suede-lo-sand-black is done\n",
      "processing soulland-li-ning-furious-rider-6\n",
      "uploaded: data/highsnobiety/Soulland x Li Ning/soulland-li-ning-furious-rider-6-right-side-img.jpg\n",
      "uploaded: data/highsnobiety/Soulland x Li Ning/soulland-li-ning-furious-rider-6-left-side-img.jpg\n"
     ]
    },
    {
     "name": "stderr",
     "output_type": "stream",
     "text": [
      " 90%|█████████ | 540/598 [18:03<03:34,  3.71s/it]"
     ]
    },
    {
     "name": "stdout",
     "output_type": "stream",
     "text": [
      "uploaded: data/highsnobiety/Soulland x Li Ning/soulland-li-ning-furious-rider-6-front-both-img.jpg\n",
      "soulland-li-ning-furious-rider-6 is done\n",
      "processing stepney-workers-club-dellow-track-raw-nylon-grey\n",
      "uploaded: data/highsnobiety/Stepney Workers Club/stepney-workers-club-dellow-track-raw-nylon-grey-right-side-img.jpg\n",
      "uploaded: data/highsnobiety/Stepney Workers Club/stepney-workers-club-dellow-track-raw-nylon-grey-left-side-img.jpg\n"
     ]
    },
    {
     "name": "stderr",
     "output_type": "stream",
     "text": [
      " 90%|█████████ | 541/598 [18:07<03:27,  3.64s/it]"
     ]
    },
    {
     "name": "stdout",
     "output_type": "stream",
     "text": [
      "uploaded: data/highsnobiety/Stepney Workers Club/stepney-workers-club-dellow-track-raw-nylon-grey-front-both-img.jpg\n",
      "stepney-workers-club-dellow-track-raw-nylon-grey is done\n",
      "processing stepney-workers-club-dellow-track-ripstop-navy\n",
      "uploaded: data/highsnobiety/Stepney Workers Club/stepney-workers-club-dellow-track-ripstop-navy-right-side-img.jpg\n",
      "uploaded: data/highsnobiety/Stepney Workers Club/stepney-workers-club-dellow-track-ripstop-navy-left-side-img.jpg\n"
     ]
    },
    {
     "name": "stderr",
     "output_type": "stream",
     "text": [
      " 91%|█████████ | 542/598 [18:10<03:19,  3.55s/it]"
     ]
    },
    {
     "name": "stdout",
     "output_type": "stream",
     "text": [
      "uploaded: data/highsnobiety/Stepney Workers Club/stepney-workers-club-dellow-track-ripstop-navy-front-both-img.jpg\n",
      "stepney-workers-club-dellow-track-ripstop-navy is done\n",
      "processing saucony-original-endorphin-trail\n",
      "uploaded: data/highsnobiety/Saucony/saucony-original-endorphin-trail-right-side-img.jpg\n",
      "uploaded: data/highsnobiety/Saucony/saucony-original-endorphin-trail-left-side-img.jpg\n"
     ]
    },
    {
     "name": "stderr",
     "output_type": "stream",
     "text": [
      " 91%|█████████ | 543/598 [18:13<03:08,  3.42s/it]"
     ]
    },
    {
     "name": "stdout",
     "output_type": "stream",
     "text": [
      "uploaded: data/highsnobiety/Saucony/saucony-original-endorphin-trail-front-both-img.jpg\n",
      "saucony-original-endorphin-trail is done\n",
      "processing reebok-x-maison-margiela-question-mid-memory-of-black\n",
      "uploaded: data/highsnobiety/Reebok x Maison Margiela/reebok-x-maison-margiela-question-mid-memory-of-black-right-side-img.jpg\n",
      "uploaded: data/highsnobiety/Reebok x Maison Margiela/reebok-x-maison-margiela-question-mid-memory-of-black-left-side-img.jpg\n"
     ]
    },
    {
     "name": "stderr",
     "output_type": "stream",
     "text": [
      " 91%|█████████ | 544/598 [18:17<02:59,  3.32s/it]"
     ]
    },
    {
     "name": "stdout",
     "output_type": "stream",
     "text": [
      "uploaded: data/highsnobiety/Reebok x Maison Margiela/reebok-x-maison-margiela-question-mid-memory-of-black-front-both-img.jpg\n",
      "reebok-x-maison-margiela-question-mid-memory-of-black is done\n",
      "processing reebok-x-maison-margiela-question-mid-memory-of-white\n",
      "uploaded: data/highsnobiety/Reebok x Maison Margiela/reebok-x-maison-margiela-question-mid-memory-of-white-right-side-img.jpg\n",
      "uploaded: data/highsnobiety/Reebok x Maison Margiela/reebok-x-maison-margiela-question-mid-memory-of-white-left-side-img.jpg\n"
     ]
    },
    {
     "name": "stderr",
     "output_type": "stream",
     "text": [
      " 91%|█████████ | 545/598 [18:20<02:51,  3.23s/it]"
     ]
    },
    {
     "name": "stdout",
     "output_type": "stream",
     "text": [
      "uploaded: data/highsnobiety/Reebok x Maison Margiela/reebok-x-maison-margiela-question-mid-memory-of-white-front-both-img.jpg\n",
      "reebok-x-maison-margiela-question-mid-memory-of-white is done\n",
      "processing reebok-x-maison-margiela-zig-3d-storm-memory-of-white\n",
      "uploaded: data/highsnobiety/Reebok x Maison Margiela/reebok-x-maison-margiela-zig-3d-storm-memory-of-white-right-side-img.jpg\n",
      "uploaded: data/highsnobiety/Reebok x Maison Margiela/reebok-x-maison-margiela-zig-3d-storm-memory-of-white-left-side-img.jpg\n"
     ]
    },
    {
     "name": "stderr",
     "output_type": "stream",
     "text": [
      " 91%|█████████▏| 546/598 [18:23<02:50,  3.28s/it]"
     ]
    },
    {
     "name": "stdout",
     "output_type": "stream",
     "text": [
      "uploaded: data/highsnobiety/Reebok x Maison Margiela/reebok-x-maison-margiela-zig-3d-storm-memory-of-white-front-both-img.jpg\n",
      "reebok-x-maison-margiela-zig-3d-storm-memory-of-white is done\n",
      "processing asics-x-afew-gt-ii-blushchocolate-brown\n",
      "uploaded: data/highsnobiety/asics x Afew/asics-x-afew-gt-ii-blushchocolate-brown-right-side-img.jpg\n",
      "uploaded: data/highsnobiety/asics x Afew/asics-x-afew-gt-ii-blushchocolate-brown-left-side-img.jpg\n"
     ]
    },
    {
     "name": "stderr",
     "output_type": "stream",
     "text": [
      " 91%|█████████▏| 547/598 [18:26<02:46,  3.25s/it]"
     ]
    },
    {
     "name": "stdout",
     "output_type": "stream",
     "text": [
      "uploaded: data/highsnobiety/asics x Afew/asics-x-afew-gt-ii-blushchocolate-brown-front-both-img.jpg\n",
      "asics-x-afew-gt-ii-blushchocolate-brown is done\n",
      "processing raf-simons-cylon-21-black-ss22\n",
      "uploaded: data/highsnobiety/Raf Simons/raf-simons-cylon-21-black-ss22-right-side-img.jpg\n",
      "uploaded: data/highsnobiety/Raf Simons/raf-simons-cylon-21-black-ss22-left-side-img.jpg\n"
     ]
    },
    {
     "name": "stderr",
     "output_type": "stream",
     "text": [
      " 92%|█████████▏| 548/598 [18:29<02:40,  3.22s/it]"
     ]
    },
    {
     "name": "stdout",
     "output_type": "stream",
     "text": [
      "uploaded: data/highsnobiety/Raf Simons/raf-simons-cylon-21-black-ss22-front-both-img.jpg\n",
      "raf-simons-cylon-21-black-ss22 is done\n",
      "processing raf-simons-orion-grey\n",
      "uploaded: data/highsnobiety/Raf Simons/raf-simons-orion-grey-right-side-img.jpg\n",
      "uploaded: data/highsnobiety/Raf Simons/raf-simons-orion-grey-left-side-img.jpg\n"
     ]
    },
    {
     "name": "stderr",
     "output_type": "stream",
     "text": [
      " 92%|█████████▏| 549/598 [18:33<02:40,  3.28s/it]"
     ]
    },
    {
     "name": "stdout",
     "output_type": "stream",
     "text": [
      "uploaded: data/highsnobiety/Raf Simons/raf-simons-orion-grey-front-both-img.jpg\n",
      "raf-simons-orion-grey is done\n",
      "processing on-x-highsnobiety-womens-cloudswift-hs-white\n",
      "uploaded: data/highsnobiety/On x Highsnobiety/on-x-highsnobiety-womens-cloudswift-hs-white-right-side-img.jpg\n",
      "uploaded: data/highsnobiety/On x Highsnobiety/on-x-highsnobiety-womens-cloudswift-hs-white-left-side-img.jpg\n"
     ]
    },
    {
     "name": "stderr",
     "output_type": "stream",
     "text": [
      " 92%|█████████▏| 550/598 [18:37<02:46,  3.47s/it]"
     ]
    },
    {
     "name": "stdout",
     "output_type": "stream",
     "text": [
      "uploaded: data/highsnobiety/On x Highsnobiety/on-x-highsnobiety-womens-cloudswift-hs-white-front-both-img.jpg\n",
      "on-x-highsnobiety-womens-cloudswift-hs-white is done\n",
      "processing puma-x-butter-goods-suede-vtg-whisper-whitepuma-black\n",
      "uploaded: data/highsnobiety/Puma x Butter Goods/puma-x-butter-goods-suede-vtg-whisper-whitepuma-black-right-side-img.jpg\n",
      "uploaded: data/highsnobiety/Puma x Butter Goods/puma-x-butter-goods-suede-vtg-whisper-whitepuma-black-left-side-img.jpg\n"
     ]
    },
    {
     "name": "stderr",
     "output_type": "stream",
     "text": [
      " 92%|█████████▏| 551/598 [18:40<02:41,  3.43s/it]"
     ]
    },
    {
     "name": "stdout",
     "output_type": "stream",
     "text": [
      "uploaded: data/highsnobiety/Puma x Butter Goods/puma-x-butter-goods-suede-vtg-whisper-whitepuma-black-front-both-img.jpg\n",
      "puma-x-butter-goods-suede-vtg-whisper-whitepuma-black is done\n",
      "processing puma-x-butter-goods-suede-slipstream-lo-mocha-bisquepuma-blackthyme\n",
      "uploaded: data/highsnobiety/Puma x Butter Goods/puma-x-butter-goods-suede-slipstream-lo-mocha-bisquepuma-blackthyme-right-side-img.jpg\n",
      "uploaded: data/highsnobiety/Puma x Butter Goods/puma-x-butter-goods-suede-slipstream-lo-mocha-bisquepuma-blackthyme-left-side-img.jpg\n"
     ]
    },
    {
     "name": "stderr",
     "output_type": "stream",
     "text": [
      " 92%|█████████▏| 552/598 [18:43<02:38,  3.45s/it]"
     ]
    },
    {
     "name": "stdout",
     "output_type": "stream",
     "text": [
      "uploaded: data/highsnobiety/Puma x Butter Goods/puma-x-butter-goods-suede-slipstream-lo-mocha-bisquepuma-blackthyme-front-both-img.jpg\n",
      "puma-x-butter-goods-suede-slipstream-lo-mocha-bisquepuma-blackthyme is done\n",
      "processing converse-one-star-ox-indigoobsidianegret\n",
      "uploaded: data/highsnobiety/Converse/converse-one-star-ox-indigoobsidianegret-right-side-img.jpg\n",
      "uploaded: data/highsnobiety/Converse/converse-one-star-ox-indigoobsidianegret-left-side-img.jpg\n"
     ]
    },
    {
     "name": "stderr",
     "output_type": "stream",
     "text": [
      " 92%|█████████▏| 553/598 [18:47<02:39,  3.54s/it]"
     ]
    },
    {
     "name": "stdout",
     "output_type": "stream",
     "text": [
      "uploaded: data/highsnobiety/Converse/converse-one-star-ox-indigoobsidianegret-front-both-img.jpg\n",
      "converse-one-star-ox-indigoobsidianegret is done\n",
      "processing converse-chuck-70-ox-sunflowerblackegret\n",
      "uploaded: data/highsnobiety/Converse/converse-chuck-70-ox-sunflowerblackegret-right-side-img.jpg\n",
      "uploaded: data/highsnobiety/Converse/converse-chuck-70-ox-sunflowerblackegret-left-side-img.jpg\n"
     ]
    },
    {
     "name": "stderr",
     "output_type": "stream",
     "text": [
      " 93%|█████████▎| 554/598 [18:50<02:31,  3.44s/it]"
     ]
    },
    {
     "name": "stdout",
     "output_type": "stream",
     "text": [
      "uploaded: data/highsnobiety/Converse/converse-chuck-70-ox-sunflowerblackegret-front-both-img.jpg\n",
      "converse-chuck-70-ox-sunflowerblackegret is done\n",
      "processing vans-anaheim-factory-authentic-44-dx-leopard-camogrape-leaf\n",
      "uploaded: data/highsnobiety/Vans/vans-anaheim-factory-authentic-44-dx-leopard-camogrape-leaf-right-side-img.jpg\n",
      "uploaded: data/highsnobiety/Vans/vans-anaheim-factory-authentic-44-dx-leopard-camogrape-leaf-left-side-img.jpg\n"
     ]
    },
    {
     "name": "stderr",
     "output_type": "stream",
     "text": [
      " 93%|█████████▎| 555/598 [18:54<02:26,  3.42s/it]"
     ]
    },
    {
     "name": "stdout",
     "output_type": "stream",
     "text": [
      "uploaded: data/highsnobiety/Vans/vans-anaheim-factory-authentic-44-dx-leopard-camogrape-leaf-front-both-img.jpg\n",
      "vans-anaheim-factory-authentic-44-dx-leopard-camogrape-leaf is done\n",
      "processing converse-chuck-70-hi-lemon-dropegretblack\n",
      "uploaded: data/highsnobiety/Converse/converse-chuck-70-hi-lemon-dropegretblack-right-side-img.jpg\n",
      "uploaded: data/highsnobiety/Converse/converse-chuck-70-hi-lemon-dropegretblack-left-side-img.jpg\n"
     ]
    },
    {
     "name": "stderr",
     "output_type": "stream",
     "text": [
      " 93%|█████████▎| 556/598 [18:57<02:23,  3.42s/it]"
     ]
    },
    {
     "name": "stdout",
     "output_type": "stream",
     "text": [
      "uploaded: data/highsnobiety/Converse/converse-chuck-70-hi-lemon-dropegretblack-front-both-img.jpg\n",
      "converse-chuck-70-hi-lemon-dropegretblack is done\n",
      "processing converse-run-star-motion-ox-whiteblackegret\n",
      "uploaded: data/highsnobiety/Converse/converse-run-star-motion-ox-whiteblackegret-right-side-img.jpg\n",
      "uploaded: data/highsnobiety/Converse/converse-run-star-motion-ox-whiteblackegret-left-side-img.jpg\n"
     ]
    },
    {
     "name": "stderr",
     "output_type": "stream",
     "text": [
      " 93%|█████████▎| 557/598 [19:01<02:23,  3.50s/it]"
     ]
    },
    {
     "name": "stdout",
     "output_type": "stream",
     "text": [
      "uploaded: data/highsnobiety/Converse/converse-run-star-motion-ox-whiteblackegret-front-both-img.jpg\n",
      "converse-run-star-motion-ox-whiteblackegret is done\n",
      "processing converse-run-star-motion-ox-blackwhiteegret\n",
      "uploaded: data/highsnobiety/Converse/converse-run-star-motion-ox-blackwhiteegret-right-side-img.jpg\n",
      "uploaded: data/highsnobiety/Converse/converse-run-star-motion-ox-blackwhiteegret-left-side-img.jpg\n"
     ]
    },
    {
     "name": "stderr",
     "output_type": "stream",
     "text": [
      " 93%|█████████▎| 558/598 [19:05<02:21,  3.54s/it]"
     ]
    },
    {
     "name": "stdout",
     "output_type": "stream",
     "text": [
      "uploaded: data/highsnobiety/Converse/converse-run-star-motion-ox-blackwhiteegret-front-both-img.jpg\n",
      "converse-run-star-motion-ox-blackwhiteegret is done\n",
      "processing converse-chuck-70-utility-hi-whiteegretblack\n",
      "uploaded: data/highsnobiety/Converse/converse-chuck-70-utility-hi-whiteegretblack-right-side-img.jpg\n",
      "uploaded: data/highsnobiety/Converse/converse-chuck-70-utility-hi-whiteegretblack-left-side-img.jpg\n"
     ]
    },
    {
     "name": "stderr",
     "output_type": "stream",
     "text": [
      " 93%|█████████▎| 559/598 [19:07<02:03,  3.16s/it]"
     ]
    },
    {
     "name": "stdout",
     "output_type": "stream",
     "text": [
      "uploaded: data/highsnobiety/Converse/converse-chuck-70-utility-hi-whiteegretblack-front-both-img.jpg\n",
      "converse-chuck-70-utility-hi-whiteegretblack is done\n",
      "processing converse-chuck-70-utility-hi-storm-windegret\n",
      "uploaded: data/highsnobiety/Converse/converse-chuck-70-utility-hi-storm-windegret-right-side-img.jpg\n",
      "uploaded: data/highsnobiety/Converse/converse-chuck-70-utility-hi-storm-windegret-left-side-img.jpg\n"
     ]
    },
    {
     "name": "stderr",
     "output_type": "stream",
     "text": [
      " 94%|█████████▎| 560/598 [19:10<02:02,  3.23s/it]"
     ]
    },
    {
     "name": "stdout",
     "output_type": "stream",
     "text": [
      "uploaded: data/highsnobiety/Converse/converse-chuck-70-utility-hi-storm-windegret-front-both-img.jpg\n",
      "converse-chuck-70-utility-hi-storm-windegret is done\n",
      "processing converse-chuck-70-ox-parchmentgarnetegret\n",
      "uploaded: data/highsnobiety/Converse/converse-chuck-70-ox-parchmentgarnetegret-right-side-img.jpg\n",
      "uploaded: data/highsnobiety/Converse/converse-chuck-70-ox-parchmentgarnetegret-left-side-img.jpg\n"
     ]
    },
    {
     "name": "stderr",
     "output_type": "stream",
     "text": [
      " 94%|█████████▍| 561/598 [19:13<01:58,  3.21s/it]"
     ]
    },
    {
     "name": "stdout",
     "output_type": "stream",
     "text": [
      "uploaded: data/highsnobiety/Converse/converse-chuck-70-ox-parchmentgarnetegret-front-both-img.jpg\n",
      "converse-chuck-70-ox-parchmentgarnetegret is done\n",
      "processing converse-chuck-70-ox-blackblackegret\n",
      "uploaded: data/highsnobiety/Converse/converse-chuck-70-ox-blackblackegret-right-side-img.jpg\n",
      "uploaded: data/highsnobiety/Converse/converse-chuck-70-ox-blackblackegret-left-side-img.jpg\n"
     ]
    },
    {
     "name": "stderr",
     "output_type": "stream",
     "text": [
      " 94%|█████████▍| 562/598 [19:17<01:58,  3.30s/it]"
     ]
    },
    {
     "name": "stdout",
     "output_type": "stream",
     "text": [
      "uploaded: data/highsnobiety/Converse/converse-chuck-70-ox-blackblackegret-front-both-img.jpg\n",
      "converse-chuck-70-ox-blackblackegret is done\n",
      "processing converse-chuck-70-mule-slip-egretegretblack\n",
      "uploaded: data/highsnobiety/Converse/converse-chuck-70-mule-slip-egretegretblack-right-side-img.jpg\n",
      "uploaded: data/highsnobiety/Converse/converse-chuck-70-mule-slip-egretegretblack-left-side-img.jpg\n"
     ]
    },
    {
     "name": "stderr",
     "output_type": "stream",
     "text": [
      " 94%|█████████▍| 563/598 [19:20<01:58,  3.37s/it]"
     ]
    },
    {
     "name": "stdout",
     "output_type": "stream",
     "text": [
      "uploaded: data/highsnobiety/Converse/converse-chuck-70-mule-slip-egretegretblack-front-both-img.jpg\n",
      "converse-chuck-70-mule-slip-egretegretblack is done\n",
      "processing converse-chuck-70-ox-naturalblackegret\n",
      "uploaded: data/highsnobiety/Converse/converse-chuck-70-ox-naturalblackegret-right-side-img.jpg\n",
      "uploaded: data/highsnobiety/Converse/converse-chuck-70-ox-naturalblackegret-left-side-img.jpg\n"
     ]
    },
    {
     "name": "stderr",
     "output_type": "stream",
     "text": [
      " 94%|█████████▍| 564/598 [19:24<01:53,  3.33s/it]"
     ]
    },
    {
     "name": "stdout",
     "output_type": "stream",
     "text": [
      "uploaded: data/highsnobiety/Converse/converse-chuck-70-ox-naturalblackegret-front-both-img.jpg\n",
      "converse-chuck-70-ox-naturalblackegret is done\n",
      "processing maison-margiela-x-reebok-classic-leather-memory-of-blackfootwear-whiteblack\n",
      "uploaded: data/highsnobiety/Maison Margiela x Reebok/maison-margiela-x-reebok-classic-leather-memory-of-blackfootwear-whiteblack-right-side-img.jpg\n",
      "uploaded: data/highsnobiety/Maison Margiela x Reebok/maison-margiela-x-reebok-classic-leather-memory-of-blackfootwear-whiteblack-left-side-img.jpg\n"
     ]
    },
    {
     "name": "stderr",
     "output_type": "stream",
     "text": [
      " 94%|█████████▍| 565/598 [19:27<01:45,  3.21s/it]"
     ]
    },
    {
     "name": "stdout",
     "output_type": "stream",
     "text": [
      "uploaded: data/highsnobiety/Maison Margiela x Reebok/maison-margiela-x-reebok-classic-leather-memory-of-blackfootwear-whiteblack-front-both-img.jpg\n",
      "maison-margiela-x-reebok-classic-leather-memory-of-blackfootwear-whiteblack is done\n",
      "processing converse-x-golf-wang-chuck-70-ox-python-pink-dogwood-vintage-white\n",
      "uploaded: data/highsnobiety/Converse x GOLF WANG/converse-x-golf-wang-chuck-70-ox-python-pink-dogwood-vintage-white-right-side-img.jpg\n",
      "uploaded: data/highsnobiety/Converse x GOLF WANG/converse-x-golf-wang-chuck-70-ox-python-pink-dogwood-vintage-white-left-side-img.jpg\n"
     ]
    },
    {
     "name": "stderr",
     "output_type": "stream",
     "text": [
      " 95%|█████████▍| 566/598 [19:30<01:40,  3.15s/it]"
     ]
    },
    {
     "name": "stdout",
     "output_type": "stream",
     "text": [
      "uploaded: data/highsnobiety/Converse x GOLF WANG/converse-x-golf-wang-chuck-70-ox-python-pink-dogwood-vintage-white-front-both-img.jpg\n",
      "converse-x-golf-wang-chuck-70-ox-python-pink-dogwood-vintage-white is done\n",
      "processing last-resort-ab-vm001-suede-hi-blackwhite\n",
      "uploaded: data/highsnobiety/Last Resort AB/last-resort-ab-vm001-suede-hi-blackwhite-right-side-img.jpg\n",
      "uploaded: data/highsnobiety/Last Resort AB/last-resort-ab-vm001-suede-hi-blackwhite-left-side-img.jpg\n"
     ]
    },
    {
     "name": "stderr",
     "output_type": "stream",
     "text": [
      " 95%|█████████▍| 567/598 [19:33<01:39,  3.21s/it]"
     ]
    },
    {
     "name": "stdout",
     "output_type": "stream",
     "text": [
      "uploaded: data/highsnobiety/Last Resort AB/last-resort-ab-vm001-suede-hi-blackwhite-front-both-img.jpg\n",
      "last-resort-ab-vm001-suede-hi-blackwhite is done\n",
      "processing new-balance-xc-72-white\n",
      "uploaded: data/highsnobiety/New Balance/new-balance-xc-72-white-right-side-img.jpg\n",
      "uploaded: data/highsnobiety/New Balance/new-balance-xc-72-white-left-side-img.jpg\n"
     ]
    },
    {
     "name": "stderr",
     "output_type": "stream",
     "text": [
      " 95%|█████████▍| 568/598 [19:36<01:35,  3.19s/it]"
     ]
    },
    {
     "name": "stdout",
     "output_type": "stream",
     "text": [
      "uploaded: data/highsnobiety/New Balance/new-balance-xc-72-white-front-both-img.jpg\n",
      "new-balance-xc-72-white is done\n",
      "processing vans-anaheim-factory-authentic-44-dx-vanity-plate-lightblue\n",
      "uploaded: data/highsnobiety/Vans/vans-anaheim-factory-authentic-44-dx-vanity-plate-lightblue-right-side-img.jpg\n",
      "uploaded: data/highsnobiety/Vans/vans-anaheim-factory-authentic-44-dx-vanity-plate-lightblue-left-side-img.jpg\n"
     ]
    },
    {
     "name": "stderr",
     "output_type": "stream",
     "text": [
      " 95%|█████████▌| 569/598 [19:40<01:39,  3.44s/it]"
     ]
    },
    {
     "name": "stdout",
     "output_type": "stream",
     "text": [
      "uploaded: data/highsnobiety/Vans/vans-anaheim-factory-authentic-44-dx-vanity-plate-lightblue-front-both-img.jpg\n",
      "vans-anaheim-factory-authentic-44-dx-vanity-plate-lightblue is done\n",
      "processing vans-anaheim-factory-authentic-44-dx-vanity-plate-plateblack\n",
      "uploaded: data/highsnobiety/Vans/vans-anaheim-factory-authentic-44-dx-vanity-plate-plateblack-right-side-img.jpg\n",
      "uploaded: data/highsnobiety/Vans/vans-anaheim-factory-authentic-44-dx-vanity-plate-plateblack-left-side-img.jpg\n"
     ]
    },
    {
     "name": "stderr",
     "output_type": "stream",
     "text": [
      " 95%|█████████▌| 570/598 [19:43<01:34,  3.36s/it]"
     ]
    },
    {
     "name": "stdout",
     "output_type": "stream",
     "text": [
      "uploaded: data/highsnobiety/Vans/vans-anaheim-factory-authentic-44-dx-vanity-plate-plateblack-front-both-img.jpg\n",
      "vans-anaheim-factory-authentic-44-dx-vanity-plate-plateblack is done\n",
      "processing vans-style-36-decon-sf-green-milieublack\n",
      "uploaded: data/highsnobiety/Vans/vans-style-36-decon-sf-green-milieublack-right-side-img.jpg\n",
      "uploaded: data/highsnobiety/Vans/vans-style-36-decon-sf-green-milieublack-left-side-img.jpg\n"
     ]
    },
    {
     "name": "stderr",
     "output_type": "stream",
     "text": [
      " 95%|█████████▌| 571/598 [19:46<01:25,  3.18s/it]"
     ]
    },
    {
     "name": "stdout",
     "output_type": "stream",
     "text": [
      "uploaded: data/highsnobiety/Vans/vans-style-36-decon-sf-green-milieublack-front-both-img.jpg\n",
      "vans-style-36-decon-sf-green-milieublack is done\n",
      "processing hoka-mafate-speed-2-eggnog-oxford-tan\n",
      "uploaded: data/highsnobiety/HOKA/hoka-mafate-speed-2-eggnog-oxford-tan-right-side-img.jpg\n",
      "uploaded: data/highsnobiety/HOKA/hoka-mafate-speed-2-eggnog-oxford-tan-left-side-img.jpg\n"
     ]
    },
    {
     "name": "stderr",
     "output_type": "stream",
     "text": [
      " 96%|█████████▌| 572/598 [19:49<01:24,  3.26s/it]"
     ]
    },
    {
     "name": "stdout",
     "output_type": "stream",
     "text": [
      "uploaded: data/highsnobiety/HOKA/hoka-mafate-speed-2-eggnog-oxford-tan-front-both-img.jpg\n",
      "hoka-mafate-speed-2-eggnog-oxford-tan is done\n",
      "processing converse-chuck-70-high-light-silver-pink-clay-egret\n",
      "uploaded: data/highsnobiety/Converse/converse-chuck-70-high-light-silver-pink-clay-egret-right-side-img.jpg\n",
      "uploaded: data/highsnobiety/Converse/converse-chuck-70-high-light-silver-pink-clay-egret-left-side-img.jpg\n"
     ]
    },
    {
     "name": "stderr",
     "output_type": "stream",
     "text": [
      " 96%|█████████▌| 573/598 [19:53<01:22,  3.30s/it]"
     ]
    },
    {
     "name": "stdout",
     "output_type": "stream",
     "text": [
      "uploaded: data/highsnobiety/Converse/converse-chuck-70-high-light-silver-pink-clay-egret-front-both-img.jpg\n",
      "converse-chuck-70-high-light-silver-pink-clay-egret is done\n",
      "processing maison-margiela-x-reebok-classic-leather-tabi-low-white\n",
      "uploaded: data/highsnobiety/Maison Margiela x Reebok/maison-margiela-x-reebok-classic-leather-tabi-low-white-right-side-img.jpg\n",
      "uploaded: data/highsnobiety/Maison Margiela x Reebok/maison-margiela-x-reebok-classic-leather-tabi-low-white-left-side-img.jpg\n"
     ]
    },
    {
     "name": "stderr",
     "output_type": "stream",
     "text": [
      " 96%|█████████▌| 574/598 [19:56<01:15,  3.16s/it]"
     ]
    },
    {
     "name": "stdout",
     "output_type": "stream",
     "text": [
      "uploaded: data/highsnobiety/Maison Margiela x Reebok/maison-margiela-x-reebok-classic-leather-tabi-low-white-front-both-img.jpg\n",
      "maison-margiela-x-reebok-classic-leather-tabi-low-white is done\n",
      "processing salomon-xt-6-white-white-lunar-rock\n",
      "uploaded: data/highsnobiety/Salomon/salomon-xt-6-white-white-lunar-rock-right-side-img.jpg\n",
      "uploaded: data/highsnobiety/Salomon/salomon-xt-6-white-white-lunar-rock-left-side-img.jpg\n"
     ]
    },
    {
     "name": "stderr",
     "output_type": "stream",
     "text": [
      " 96%|█████████▌| 575/598 [19:58<01:09,  3.00s/it]"
     ]
    },
    {
     "name": "stdout",
     "output_type": "stream",
     "text": [
      "uploaded: data/highsnobiety/Salomon/salomon-xt-6-white-white-lunar-rock-front-both-img.jpg\n",
      "salomon-xt-6-white-white-lunar-rock is done\n",
      "processing salomon-xt-6-advanced-wings-black-black-phantom\n",
      "uploaded: data/highsnobiety/Salomon/salomon-xt-6-advanced-wings-black-black-phantom-right-side-img.jpg\n",
      "uploaded: data/highsnobiety/Salomon/salomon-xt-6-advanced-wings-black-black-phantom-left-side-img.jpg\n"
     ]
    },
    {
     "name": "stderr",
     "output_type": "stream",
     "text": [
      " 96%|█████████▋| 576/598 [20:01<01:07,  3.05s/it]"
     ]
    },
    {
     "name": "stdout",
     "output_type": "stream",
     "text": [
      "uploaded: data/highsnobiety/Salomon/salomon-xt-6-advanced-wings-black-black-phantom-front-both-img.jpg\n",
      "salomon-xt-6-advanced-wings-black-black-phantom is done\n",
      "processing converse-runstar-hike-high-platform-black-white-gum\n",
      "uploaded: data/highsnobiety/Converse/converse-runstar-hike-high-platform-black-white-gum-right-side-img.jpg\n",
      "uploaded: data/highsnobiety/Converse/converse-runstar-hike-high-platform-black-white-gum-left-side-img.jpg\n"
     ]
    },
    {
     "name": "stderr",
     "output_type": "stream",
     "text": [
      " 96%|█████████▋| 577/598 [20:05<01:05,  3.11s/it]"
     ]
    },
    {
     "name": "stdout",
     "output_type": "stream",
     "text": [
      "uploaded: data/highsnobiety/Converse/converse-runstar-hike-high-platform-black-white-gum-front-both-img.jpg\n",
      "converse-runstar-hike-high-platform-black-white-gum is done\n",
      "processing converse-run-star-hike-platform-white-black-gum\n",
      "uploaded: data/highsnobiety/Converse/converse-run-star-hike-platform-white-black-gum-right-side-img.jpg\n",
      "uploaded: data/highsnobiety/Converse/converse-run-star-hike-platform-white-black-gum-left-side-img.jpg\n"
     ]
    },
    {
     "name": "stderr",
     "output_type": "stream",
     "text": [
      " 97%|█████████▋| 578/598 [20:08<01:01,  3.06s/it]"
     ]
    },
    {
     "name": "stdout",
     "output_type": "stream",
     "text": [
      "uploaded: data/highsnobiety/Converse/converse-run-star-hike-platform-white-black-gum-front-both-img.jpg\n",
      "converse-run-star-hike-platform-white-black-gum is done\n",
      "processing converse-run-star-motion-platform-black-white-gum-honey\n",
      "uploaded: data/highsnobiety/Converse/converse-run-star-motion-platform-black-white-gum-honey-right-side-img.jpg\n",
      "uploaded: data/highsnobiety/Converse/converse-run-star-motion-platform-black-white-gum-honey-left-side-img.jpg\n"
     ]
    },
    {
     "name": "stderr",
     "output_type": "stream",
     "text": [
      " 97%|█████████▋| 579/598 [20:10<00:56,  2.98s/it]"
     ]
    },
    {
     "name": "stdout",
     "output_type": "stream",
     "text": [
      "uploaded: data/highsnobiety/Converse/converse-run-star-motion-platform-black-white-gum-honey-front-both-img.jpg\n",
      "converse-run-star-motion-platform-black-white-gum-honey is done\n",
      "processing converse-chuck-70-university-blue-egret-black\n",
      "uploaded: data/highsnobiety/Converse/converse-chuck-70-university-blue-egret-black-right-side-img.jpg\n",
      "uploaded: data/highsnobiety/Converse/converse-chuck-70-university-blue-egret-black-left-side-img.jpg\n"
     ]
    },
    {
     "name": "stderr",
     "output_type": "stream",
     "text": [
      " 97%|█████████▋| 580/598 [20:14<00:57,  3.18s/it]"
     ]
    },
    {
     "name": "stdout",
     "output_type": "stream",
     "text": [
      "uploaded: data/highsnobiety/Converse/converse-chuck-70-university-blue-egret-black-front-both-img.jpg\n",
      "converse-chuck-70-university-blue-egret-black is done\n",
      "processing maison-margiela-replica-paint-drop-sneakers-white\n",
      "uploaded: data/highsnobiety/Maison Margiela/maison-margiela-replica-paint-drop-sneakers-white-right-side-img.jpg\n",
      "uploaded: data/highsnobiety/Maison Margiela/maison-margiela-replica-paint-drop-sneakers-white-left-side-img.jpg\n"
     ]
    },
    {
     "name": "stderr",
     "output_type": "stream",
     "text": [
      " 97%|█████████▋| 581/598 [20:17<00:52,  3.12s/it]"
     ]
    },
    {
     "name": "stdout",
     "output_type": "stream",
     "text": [
      "uploaded: data/highsnobiety/Maison Margiela/maison-margiela-replica-paint-drop-sneakers-white-front-both-img.jpg\n",
      "maison-margiela-replica-paint-drop-sneakers-white is done\n",
      "processing maison-margiela-calfskin-replica-sneakers-light-grey\n",
      "uploaded: data/highsnobiety/Maison Margiela/maison-margiela-calfskin-replica-sneakers-light-grey-right-side-img.jpg\n",
      "uploaded: data/highsnobiety/Maison Margiela/maison-margiela-calfskin-replica-sneakers-light-grey-left-side-img.jpg\n"
     ]
    },
    {
     "name": "stderr",
     "output_type": "stream",
     "text": [
      " 97%|█████████▋| 582/598 [20:20<00:49,  3.12s/it]"
     ]
    },
    {
     "name": "stdout",
     "output_type": "stream",
     "text": [
      "uploaded: data/highsnobiety/Maison Margiela/maison-margiela-calfskin-replica-sneakers-light-grey-front-both-img.jpg\n",
      "maison-margiela-calfskin-replica-sneakers-light-grey is done\n",
      "processing converse-weapon-cx-mid-egret-light-twine\n",
      "uploaded: data/highsnobiety/Converse/converse-weapon-cx-mid-egret-light-twine-right-side-img.jpg\n",
      "uploaded: data/highsnobiety/Converse/converse-weapon-cx-mid-egret-light-twine-left-side-img.jpg\n"
     ]
    },
    {
     "name": "stderr",
     "output_type": "stream",
     "text": [
      " 97%|█████████▋| 583/598 [20:24<00:48,  3.21s/it]"
     ]
    },
    {
     "name": "stdout",
     "output_type": "stream",
     "text": [
      "uploaded: data/highsnobiety/Converse/converse-weapon-cx-mid-egret-light-twine-front-both-img.jpg\n",
      "converse-weapon-cx-mid-egret-light-twine is done\n",
      "processing salomon-xt-wings-2-advanced-peat\n",
      "uploaded: data/highsnobiety/Salomon/salomon-xt-wings-2-advanced-peat-right-side-img.jpg\n",
      "uploaded: data/highsnobiety/Salomon/salomon-xt-wings-2-advanced-peat-left-side-img.jpg\n"
     ]
    },
    {
     "name": "stderr",
     "output_type": "stream",
     "text": [
      " 98%|█████████▊| 584/598 [20:27<00:45,  3.28s/it]"
     ]
    },
    {
     "name": "stdout",
     "output_type": "stream",
     "text": [
      "uploaded: data/highsnobiety/Salomon/salomon-xt-wings-2-advanced-peat-front-both-img.jpg\n",
      "salomon-xt-wings-2-advanced-peat is done\n",
      "processing converse-x-space-jam-a-new-legacy-chuck-taylor-70-multi\n",
      "uploaded: data/highsnobiety/Converse x Space Jam/converse-x-space-jam-a-new-legacy-chuck-taylor-70-multi-right-side-img.jpg\n",
      "uploaded: data/highsnobiety/Converse x Space Jam/converse-x-space-jam-a-new-legacy-chuck-taylor-70-multi-left-side-img.jpg\n"
     ]
    },
    {
     "name": "stderr",
     "output_type": "stream",
     "text": [
      " 98%|█████████▊| 585/598 [20:31<00:43,  3.38s/it]"
     ]
    },
    {
     "name": "stdout",
     "output_type": "stream",
     "text": [
      "uploaded: data/highsnobiety/Converse x Space Jam/converse-x-space-jam-a-new-legacy-chuck-taylor-70-multi-front-both-img.jpg\n",
      "converse-x-space-jam-a-new-legacy-chuck-taylor-70-multi is done\n",
      "processing maison-margiela-x-reebok-club-c-trompe-loeil-red\n",
      "uploaded: data/highsnobiety/Maison Margiela x Reebok/maison-margiela-x-reebok-club-c-trompe-loeil-red-right-side-img.jpg\n",
      "uploaded: data/highsnobiety/Maison Margiela x Reebok/maison-margiela-x-reebok-club-c-trompe-loeil-red-left-side-img.jpg\n"
     ]
    },
    {
     "name": "stderr",
     "output_type": "stream",
     "text": [
      " 98%|█████████▊| 586/598 [20:34<00:40,  3.38s/it]"
     ]
    },
    {
     "name": "stdout",
     "output_type": "stream",
     "text": [
      "uploaded: data/highsnobiety/Maison Margiela x Reebok/maison-margiela-x-reebok-club-c-trompe-loeil-red-front-both-img.jpg\n",
      "maison-margiela-x-reebok-club-c-trompe-loeil-red is done\n",
      "processing grey-formal-grey-g3-grape\n",
      "uploaded: data/highsnobiety/Athletics Footwear/grey-formal-grey-g3-grape-right-side-img.jpg\n",
      "uploaded: data/highsnobiety/Athletics Footwear/grey-formal-grey-g3-grape-left-side-img.jpg\n"
     ]
    },
    {
     "name": "stderr",
     "output_type": "stream",
     "text": [
      " 98%|█████████▊| 587/598 [20:37<00:36,  3.33s/it]"
     ]
    },
    {
     "name": "stdout",
     "output_type": "stream",
     "text": [
      "uploaded: data/highsnobiety/Athletics Footwear/grey-formal-grey-g3-grape-front-both-img.jpg\n",
      "grey-formal-grey-g3-grape is done\n",
      "processing converse-chuck-70-hi-parchment-garnet-egret\n",
      "uploaded: data/highsnobiety/Converse/converse-chuck-70-hi-parchment-garnet-egret-right-side-img.jpg\n",
      "uploaded: data/highsnobiety/Converse/converse-chuck-70-hi-parchment-garnet-egret-left-side-img.jpg\n"
     ]
    },
    {
     "name": "stderr",
     "output_type": "stream",
     "text": [
      " 98%|█████████▊| 588/598 [20:41<00:33,  3.32s/it]"
     ]
    },
    {
     "name": "stdout",
     "output_type": "stream",
     "text": [
      "uploaded: data/highsnobiety/Converse/converse-chuck-70-hi-parchment-garnet-egret-front-both-img.jpg\n",
      "converse-chuck-70-hi-parchment-garnet-egret is done\n",
      "processing new-balance-stone-island-made-in-uk-991v2-black-olive\n",
      "uploaded: data/highsnobiety/New Balance x Stone Island/new-balance-stone-island-made-in-uk-991v2-black-olive-right-side-img.jpg\n",
      "uploaded: data/highsnobiety/New Balance x Stone Island/new-balance-stone-island-made-in-uk-991v2-black-olive-left-side-img.jpg\n"
     ]
    },
    {
     "name": "stderr",
     "output_type": "stream",
     "text": [
      " 98%|█████████▊| 589/598 [20:43<00:27,  3.01s/it]"
     ]
    },
    {
     "name": "stdout",
     "output_type": "stream",
     "text": [
      "uploaded: data/highsnobiety/New Balance x Stone Island/new-balance-stone-island-made-in-uk-991v2-black-olive-front-both-img.jpg\n",
      "new-balance-stone-island-made-in-uk-991v2-black-olive is done\n",
      "processing stone-island-rock-beige-78fws011\n",
      "uploaded: data/highsnobiety/Stone Island/stone-island-rock-beige-78fws011-right-side-img.jpg\n",
      "uploaded: data/highsnobiety/Stone Island/stone-island-rock-beige-78fws011-left-side-img.jpg\n"
     ]
    },
    {
     "name": "stderr",
     "output_type": "stream",
     "text": [
      " 99%|█████████▊| 590/598 [20:46<00:24,  3.04s/it]"
     ]
    },
    {
     "name": "stdout",
     "output_type": "stream",
     "text": [
      "uploaded: data/highsnobiety/Stone Island/stone-island-rock-beige-78fws011-front-both-img.jpg\n",
      "stone-island-rock-beige-78fws011 is done\n",
      "processing new-balance-m2002rxf-nb-navy\n",
      "uploaded: data/highsnobiety/New Balance/new-balance-m2002rxf-nb-navy-right-side-img.jpeg\n",
      "uploaded: data/highsnobiety/New Balance/new-balance-m2002rxf-nb-navy-left-side-img.jpeg\n"
     ]
    },
    {
     "name": "stderr",
     "output_type": "stream",
     "text": [
      " 99%|█████████▉| 591/598 [20:50<00:23,  3.29s/it]"
     ]
    },
    {
     "name": "stdout",
     "output_type": "stream",
     "text": [
      "uploaded: data/highsnobiety/New Balance/new-balance-m2002rxf-nb-navy-front-both-img.jpeg\n",
      "new-balance-m2002rxf-nb-navy is done\n",
      "processing converse-cons-alltimers-fastbreak-pro-mid-black\n",
      "uploaded: data/highsnobiety/Converse/converse-cons-alltimers-fastbreak-pro-mid-black-right-side-img.jpg\n",
      "uploaded: data/highsnobiety/Converse/converse-cons-alltimers-fastbreak-pro-mid-black-left-side-img.jpg\n"
     ]
    },
    {
     "name": "stderr",
     "output_type": "stream",
     "text": [
      " 99%|█████████▉| 592/598 [20:53<00:19,  3.18s/it]"
     ]
    },
    {
     "name": "stdout",
     "output_type": "stream",
     "text": [
      "uploaded: data/highsnobiety/Converse/converse-cons-alltimers-fastbreak-pro-mid-black-front-both-img.jpg\n",
      "converse-cons-alltimers-fastbreak-pro-mid-black is done\n",
      "processing new-balance-m991gl-grey\n",
      "uploaded: data/highsnobiety/New Balance/new-balance-m991gl-grey-right-side-img.jpg\n",
      "uploaded: data/highsnobiety/New Balance/new-balance-m991gl-grey-left-side-img.jpg\n"
     ]
    },
    {
     "name": "stderr",
     "output_type": "stream",
     "text": [
      " 99%|█████████▉| 593/598 [20:56<00:16,  3.23s/it]"
     ]
    },
    {
     "name": "stdout",
     "output_type": "stream",
     "text": [
      "uploaded: data/highsnobiety/New Balance/new-balance-m991gl-grey-front-both-img.jpg\n",
      "new-balance-m991gl-grey is done\n",
      "processing puma-p-a-m-suede-vintage-brown\n",
      "uploaded: data/highsnobiety/Puma x P.A.M./puma-p-a-m-suede-vintage-brown-right-side-img.jpg\n",
      "uploaded: data/highsnobiety/Puma x P.A.M./puma-p-a-m-suede-vintage-brown-left-side-img.jpg\n"
     ]
    },
    {
     "name": "stderr",
     "output_type": "stream",
     "text": [
      " 99%|█████████▉| 594/598 [21:00<00:13,  3.34s/it]"
     ]
    },
    {
     "name": "stdout",
     "output_type": "stream",
     "text": [
      "uploaded: data/highsnobiety/Puma x P.A.M./puma-p-a-m-suede-vintage-brown-front-both-img.jpg\n",
      "puma-p-a-m-suede-vintage-brown is done\n",
      "processing on-cloudvista-waterproof-eclipse-black\n",
      "uploaded: data/highsnobiety/On/on-cloudvista-waterproof-eclipse-black-right-side-img.jpg\n",
      "uploaded: data/highsnobiety/On/on-cloudvista-waterproof-eclipse-black-left-side-img.jpg\n"
     ]
    },
    {
     "name": "stderr",
     "output_type": "stream",
     "text": [
      " 99%|█████████▉| 595/598 [21:03<00:10,  3.43s/it]"
     ]
    },
    {
     "name": "stdout",
     "output_type": "stream",
     "text": [
      "uploaded: data/highsnobiety/On/on-cloudvista-waterproof-eclipse-black-front-both-img.jpg\n",
      "on-cloudvista-waterproof-eclipse-black is done\n",
      "processing roa-khatarina-sneaker-sand\n",
      "uploaded: data/highsnobiety/ROA/roa-khatarina-sneaker-sand-right-side-img.jpg\n",
      "uploaded: data/highsnobiety/ROA/roa-khatarina-sneaker-sand-left-side-img.jpg\n"
     ]
    },
    {
     "name": "stderr",
     "output_type": "stream",
     "text": [
      "100%|█████████▉| 596/598 [21:06<00:06,  3.32s/it]"
     ]
    },
    {
     "name": "stdout",
     "output_type": "stream",
     "text": [
      "uploaded: data/highsnobiety/ROA/roa-khatarina-sneaker-sand-front-both-img.jpg\n",
      "roa-khatarina-sneaker-sand is done\n",
      "processing on-cloudventure-ice-kelp\n",
      "uploaded: data/highsnobiety/On/on-cloudventure-ice-kelp-right-side-img.jpg\n",
      "uploaded: data/highsnobiety/On/on-cloudventure-ice-kelp-left-side-img.jpg\n"
     ]
    },
    {
     "name": "stderr",
     "output_type": "stream",
     "text": [
      "100%|█████████▉| 597/598 [21:10<00:03,  3.36s/it]"
     ]
    },
    {
     "name": "stdout",
     "output_type": "stream",
     "text": [
      "uploaded: data/highsnobiety/On/on-cloudventure-ice-kelp-front-both-img.jpg\n",
      "on-cloudventure-ice-kelp is done\n",
      "processing on-the-roger-clubhouse-white-indigo\n",
      "uploaded: data/highsnobiety/On/on-the-roger-clubhouse-white-indigo-right-side-img.jpg\n",
      "uploaded: data/highsnobiety/On/on-the-roger-clubhouse-white-indigo-left-side-img.jpg\n"
     ]
    },
    {
     "name": "stderr",
     "output_type": "stream",
     "text": [
      "100%|██████████| 598/598 [21:13<00:00,  2.13s/it]"
     ]
    },
    {
     "name": "stdout",
     "output_type": "stream",
     "text": [
      "uploaded: data/highsnobiety/On/on-the-roger-clubhouse-white-indigo-front-both-img.jpg\n",
      "on-the-roger-clubhouse-white-indigo is done\n"
     ]
    },
    {
     "name": "stderr",
     "output_type": "stream",
     "text": [
      "\n"
     ]
    }
   ],
   "source": [
    "for metadata in tqdm(parse_result):\n",
    "    parser.parse_more_images(metadata)\n"
   ],
   "metadata": {
    "collapsed": false,
    "ExecuteTime": {
     "end_time": "2023-10-19T18:57:52.819697Z",
     "start_time": "2023-10-19T18:36:39.271572Z"
    }
   },
   "id": "5a63cb60fa6679be"
  },
  {
   "cell_type": "code",
   "execution_count": 7,
   "id": "f70206aa-a9db-4f76-b1cf-492b1a09048e",
   "metadata": {
    "ExecuteTime": {
     "end_time": "2023-10-19T18:58:13.851450Z",
     "start_time": "2023-10-19T18:58:13.710515Z"
    }
   },
   "outputs": [
    {
     "data": {
      "text/plain": "(598, 10)"
     },
     "execution_count": 7,
     "metadata": {},
     "output_type": "execute_result"
    }
   ],
   "source": [
    "df = pd.DataFrame(parse_result)\n",
    "df.shape\n"
   ]
  },
  {
   "cell_type": "code",
   "execution_count": 11,
   "outputs": [
    {
     "data": {
      "text/plain": "{'ResponseMetadata': {'RequestId': '0edc47065b47e69c',\n  'HostId': '',\n  'HTTPStatusCode': 200,\n  'HTTPHeaders': {'server': 'nginx',\n   'date': 'Thu, 19 Oct 2023 18:59:28 GMT',\n   'content-type': 'application/octet-stream',\n   'transfer-encoding': 'chunked',\n   'connection': 'keep-alive',\n   'keep-alive': 'timeout=60',\n   'etag': '\"c6b04682c624804aca9c6fa2b4a92cfa\"',\n   'x-amz-request-id': '0edc47065b47e69c'},\n  'RetryAttempts': 0},\n 'ETag': '\"c6b04682c624804aca9c6fa2b4a92cfa\"'}"
     },
     "execution_count": 11,
     "metadata": {},
     "output_type": "execute_result"
    }
   ],
   "source": [
    "data = df.to_csv(index=False)\n",
    "parser.s3.put_object(Bucket=parser.bucket_name, Key=f\"data/{WEBSITE_NAME}.csv\", Body=data)"
   ],
   "metadata": {
    "collapsed": false,
    "ExecuteTime": {
     "end_time": "2023-10-19T18:59:28.709084Z",
     "start_time": "2023-10-19T18:59:28.435022Z"
    }
   },
   "id": "1f153d523f85a2da"
  },
  {
   "cell_type": "code",
   "execution_count": 12,
   "id": "771878c3-a086-4000-9b84-027dde5e1414",
   "metadata": {
    "ExecuteTime": {
     "end_time": "2023-10-19T18:59:35.982485Z",
     "start_time": "2023-10-19T18:59:35.957421Z"
    }
   },
   "outputs": [
    {
     "data": {
      "text/plain": "brand\nNew Balance                       128\nConverse                           49\nAdidas                             38\nVans                               31\nasics                              29\n                                 ... \nConverse x Fragment                 1\nSaucony x Colour Plus Companie      1\nAdidas x Bad Bunny                  1\nSean Wotherspoon x Adidas           1\nPuma x P.A.M.                       1\nName: count, Length: 72, dtype: int64"
     },
     "execution_count": 12,
     "metadata": {},
     "output_type": "execute_result"
    }
   ],
   "source": [
    "df['brand'].value_counts()"
   ]
  }
 ],
 "metadata": {
  "kernelspec": {
   "display_name": "Python 3 (ipykernel)",
   "language": "python",
   "name": "python3"
  },
  "language_info": {
   "codemirror_mode": {
    "name": "ipython",
    "version": 3
   },
   "file_extension": ".py",
   "mimetype": "text/x-python",
   "name": "python",
   "nbconvert_exporter": "python",
   "pygments_lexer": "ipython3",
   "version": "3.11.5"
  }
 },
 "nbformat": 4,
 "nbformat_minor": 5
}
