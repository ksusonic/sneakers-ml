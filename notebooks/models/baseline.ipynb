{
 "cells": [
  {
   "cell_type": "code",
   "execution_count": 1,
   "metadata": {},
   "outputs": [],
   "source": [
    "import pandas as pd\n",
    "from sklearn.metrics import accuracy_score\n",
    "from torch.utils.data import random_split\n",
    "from torchvision.datasets import ImageFolder\n",
    "\n",
    "from sneakers_ml.data.local import LocalStorage\n",
    "from sneakers_ml.data.storage import StorageProcessor"
   ]
  },
  {
   "cell_type": "code",
   "execution_count": 2,
   "metadata": {},
   "outputs": [],
   "source": [
    "brands_dataset = pd.read_csv(\"data/merged/metadata/brands_dataset.csv\")"
   ]
  },
  {
   "cell_type": "code",
   "execution_count": 3,
   "metadata": {},
   "outputs": [
    {
     "data": {
      "text/html": [
       "<div>\n",
       "<style scoped>\n",
       "    .dataframe tbody tr th:only-of-type {\n",
       "        vertical-align: middle;\n",
       "    }\n",
       "\n",
       "    .dataframe tbody tr th {\n",
       "        vertical-align: top;\n",
       "    }\n",
       "\n",
       "    .dataframe thead th {\n",
       "        text-align: right;\n",
       "    }\n",
       "</style>\n",
       "<table border=\"1\" class=\"dataframe\">\n",
       "  <thead>\n",
       "    <tr style=\"text-align: right;\">\n",
       "      <th></th>\n",
       "      <th>brand_merge</th>\n",
       "      <th>unique_images_count</th>\n",
       "      <th>images</th>\n",
       "    </tr>\n",
       "  </thead>\n",
       "  <tbody>\n",
       "    <tr>\n",
       "      <th>0</th>\n",
       "      <td>adidas</td>\n",
       "      <td>923</td>\n",
       "      <td>data/merged/images/by-brands/adidas</td>\n",
       "    </tr>\n",
       "    <tr>\n",
       "      <th>1</th>\n",
       "      <td>asics</td>\n",
       "      <td>279</td>\n",
       "      <td>data/merged/images/by-brands/asics</td>\n",
       "    </tr>\n",
       "    <tr>\n",
       "      <th>3</th>\n",
       "      <td>clarks</td>\n",
       "      <td>125</td>\n",
       "      <td>data/merged/images/by-brands/clarks</td>\n",
       "    </tr>\n",
       "    <tr>\n",
       "      <th>4</th>\n",
       "      <td>converse</td>\n",
       "      <td>361</td>\n",
       "      <td>data/merged/images/by-brands/converse</td>\n",
       "    </tr>\n",
       "    <tr>\n",
       "      <th>10</th>\n",
       "      <td>jordan</td>\n",
       "      <td>337</td>\n",
       "      <td>data/merged/images/by-brands/jordan</td>\n",
       "    </tr>\n",
       "    <tr>\n",
       "      <th>11</th>\n",
       "      <td>kangaroos</td>\n",
       "      <td>102</td>\n",
       "      <td>data/merged/images/by-brands/kangaroos</td>\n",
       "    </tr>\n",
       "    <tr>\n",
       "      <th>12</th>\n",
       "      <td>karhu</td>\n",
       "      <td>178</td>\n",
       "      <td>data/merged/images/by-brands/karhu</td>\n",
       "    </tr>\n",
       "    <tr>\n",
       "      <th>15</th>\n",
       "      <td>new balance</td>\n",
       "      <td>184</td>\n",
       "      <td>data/merged/images/by-brands/new balance</td>\n",
       "    </tr>\n",
       "    <tr>\n",
       "      <th>16</th>\n",
       "      <td>nike</td>\n",
       "      <td>1527</td>\n",
       "      <td>data/merged/images/by-brands/nike</td>\n",
       "    </tr>\n",
       "    <tr>\n",
       "      <th>17</th>\n",
       "      <td>puma</td>\n",
       "      <td>608</td>\n",
       "      <td>data/merged/images/by-brands/puma</td>\n",
       "    </tr>\n",
       "    <tr>\n",
       "      <th>18</th>\n",
       "      <td>reebok</td>\n",
       "      <td>370</td>\n",
       "      <td>data/merged/images/by-brands/reebok</td>\n",
       "    </tr>\n",
       "    <tr>\n",
       "      <th>21</th>\n",
       "      <td>saucony</td>\n",
       "      <td>193</td>\n",
       "      <td>data/merged/images/by-brands/saucony</td>\n",
       "    </tr>\n",
       "    <tr>\n",
       "      <th>26</th>\n",
       "      <td>vans</td>\n",
       "      <td>122</td>\n",
       "      <td>data/merged/images/by-brands/vans</td>\n",
       "    </tr>\n",
       "  </tbody>\n",
       "</table>\n",
       "</div>"
      ],
      "text/plain": [
       "    brand_merge  unique_images_count                                    images\n",
       "0        adidas                  923       data/merged/images/by-brands/adidas\n",
       "1         asics                  279        data/merged/images/by-brands/asics\n",
       "3        clarks                  125       data/merged/images/by-brands/clarks\n",
       "4      converse                  361     data/merged/images/by-brands/converse\n",
       "10       jordan                  337       data/merged/images/by-brands/jordan\n",
       "11    kangaroos                  102    data/merged/images/by-brands/kangaroos\n",
       "12        karhu                  178        data/merged/images/by-brands/karhu\n",
       "15  new balance                  184  data/merged/images/by-brands/new balance\n",
       "16         nike                 1527         data/merged/images/by-brands/nike\n",
       "17         puma                  608         data/merged/images/by-brands/puma\n",
       "18       reebok                  370       data/merged/images/by-brands/reebok\n",
       "21      saucony                  193      data/merged/images/by-brands/saucony\n",
       "26         vans                  122         data/merged/images/by-brands/vans"
      ]
     },
     "execution_count": 3,
     "metadata": {},
     "output_type": "execute_result"
    }
   ],
   "source": [
    "brands_dataset[brands_dataset[\"unique_images_count\"] > 100]"
   ]
  },
  {
   "cell_type": "code",
   "execution_count": 4,
   "metadata": {},
   "outputs": [],
   "source": [
    "processor = StorageProcessor(LocalStorage())\n",
    "\n",
    "imgs = brands_dataset[brands_dataset[\"unique_images_count\"] > 100][\"images\"].to_list()\n",
    "brands = brands_dataset[brands_dataset[\"unique_images_count\"] > 100][\"brand_merge\"].to_list()\n",
    "for image_folder, brand in zip(imgs, brands):\n",
    "    processor.images_to_directory([image_folder], f\"data/training/freq-brands/{brand}\")"
   ]
  },
  {
   "cell_type": "code",
   "execution_count": 5,
   "metadata": {},
   "outputs": [
    {
     "data": {
      "text/plain": [
       "brand_merge                                         nike\n",
       "unique_images_count                                 1527\n",
       "images                 data/merged/images/by-brands/nike\n",
       "Name: 16, dtype: object"
      ]
     },
     "execution_count": 5,
     "metadata": {},
     "output_type": "execute_result"
    }
   ],
   "source": [
    "brands_dataset.loc[brands_dataset[\"unique_images_count\"].idxmax()]"
   ]
  },
  {
   "cell_type": "code",
   "execution_count": 5,
   "metadata": {},
   "outputs": [
    {
     "data": {
      "text/plain": [
       "Dataset ImageFolder\n",
       "    Number of datapoints: 5309\n",
       "    Root location: data/training/freq-brands"
      ]
     },
     "execution_count": 5,
     "metadata": {},
     "output_type": "execute_result"
    }
   ],
   "source": [
    "images_dataset = ImageFolder(\"data/training/freq-brands\")\n",
    "images_dataset"
   ]
  },
  {
   "cell_type": "code",
   "execution_count": 6,
   "metadata": {},
   "outputs": [],
   "source": [
    "train_dataset, val_dataset = random_split(images_dataset, [0.8, 0.2])"
   ]
  },
  {
   "cell_type": "code",
   "execution_count": 9,
   "metadata": {},
   "outputs": [
    {
     "name": "stdout",
     "output_type": "stream",
     "text": [
      "(<PIL.Image.Image image mode=RGB size=2000x2000 at 0x7F778F2891C0>, 0)\n"
     ]
    }
   ],
   "source": [
    "for image in images_dataset:\n",
    "    print(image)\n",
    "    break"
   ]
  },
  {
   "cell_type": "code",
   "execution_count": 7,
   "metadata": {},
   "outputs": [
    {
     "data": {
      "text/plain": [
       "0.2855461393596987"
      ]
     },
     "execution_count": 7,
     "metadata": {},
     "output_type": "execute_result"
    }
   ],
   "source": [
    "train_targets = [sample[1] for sample in train_dataset]\n",
    "most_popular_predict = [images_dataset.class_to_idx[\"nike\"]] * len(train_targets)\n",
    "accuracy_score(train_targets, most_popular_predict)"
   ]
  },
  {
   "cell_type": "code",
   "execution_count": 8,
   "metadata": {},
   "outputs": [
    {
     "data": {
      "text/plain": [
       "0.29594721960414705"
      ]
     },
     "execution_count": 8,
     "metadata": {},
     "output_type": "execute_result"
    }
   ],
   "source": [
    "val_targets = [sample[1] for sample in val_dataset]\n",
    "most_popular_predict = [images_dataset.class_to_idx[\"nike\"]] * len(val_targets)\n",
    "accuracy_score(val_targets, most_popular_predict)"
   ]
  },
  {
   "cell_type": "code",
   "execution_count": null,
   "metadata": {},
   "outputs": [],
   "source": []
  }
 ],
 "metadata": {
  "kernelspec": {
   "display_name": "sneakers-ml-hflTz_mY-py3.9",
   "language": "python",
   "name": "python3"
  },
  "language_info": {
   "codemirror_mode": {
    "name": "ipython",
    "version": 3
   },
   "file_extension": ".py",
   "mimetype": "text/x-python",
   "name": "python",
   "nbconvert_exporter": "python",
   "pygments_lexer": "ipython3",
   "version": "3.9.16"
  }
 },
 "nbformat": 4,
 "nbformat_minor": 2
}
