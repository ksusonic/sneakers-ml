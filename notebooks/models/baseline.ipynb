{
 "cells": [
  {
   "cell_type": "code",
   "execution_count": 4,
   "metadata": {},
   "outputs": [],
   "source": [
    "import warnings\n",
    "\n",
    "from hydra import compose, initialize\n",
    "from sklearn.dummy import DummyClassifier\n",
    "from sklearn.metrics import accuracy_score, f1_score\n",
    "\n",
    "from sneakers_ml.features.resnet152 import ResNet152Features\n",
    "\n",
    "warnings.filterwarnings(\"ignore\")\n",
    "\n",
    "with initialize(version_base=None, config_path=\"../../config\", job_name=\"resnet-eda\"):\n",
    "    cfg = compose(config_name=\"config\")\n",
    "    features_class = ResNet152Features(cfg.features.resnet152.config, cfg.data)"
   ]
  },
  {
   "cell_type": "code",
   "execution_count": 5,
   "metadata": {},
   "outputs": [],
   "source": [
    "x_train, x_val, x_test, y_train, y_val, y_test = features_class.load_train_val_test_splits()"
   ]
  },
  {
   "cell_type": "code",
   "execution_count": 6,
   "metadata": {},
   "outputs": [
    {
     "name": "stdout",
     "output_type": "stream",
     "text": [
      "Acc: 0.2908458864426419\n",
      "F1-weighted: 0.13106340663752805\n",
      "F1-macro: 0.0346637204805966\n"
     ]
    }
   ],
   "source": [
    "model = DummyClassifier()\n",
    "model.fit(x_train, y_train)\n",
    "pred = model.predict(x_test)\n",
    "print(f\"Acc: {accuracy_score(y_test, pred)}\")\n",
    "print(f\"F1-weighted: {f1_score(y_test,pred,average='weighted')}\")\n",
    "print(f\"F1-macro: {f1_score(y_test,pred,average='macro')}\")"
   ]
  }
 ],
 "metadata": {
  "kernelspec": {
   "display_name": "sneakers-ml-hflTz_mY-py3.9",
   "language": "python",
   "name": "python3"
  },
  "language_info": {
   "codemirror_mode": {
    "name": "ipython",
    "version": 3
   },
   "file_extension": ".py",
   "mimetype": "text/x-python",
   "name": "python",
   "nbconvert_exporter": "python",
   "pygments_lexer": "ipython3",
   "version": "3.9.16"
  }
 },
 "nbformat": 4,
 "nbformat_minor": 2
}
