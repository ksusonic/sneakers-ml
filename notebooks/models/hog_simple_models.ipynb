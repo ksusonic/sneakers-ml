{
 "cells": [
  {
   "cell_type": "code",
   "execution_count": 1,
   "metadata": {},
   "outputs": [],
   "source": [
    "from catboost import CatBoostClassifier\n",
    "from sklearn.linear_model import SGDClassifier\n",
    "from sklearn.metrics import accuracy_score\n",
    "from sklearn.model_selection import GridSearchCV\n",
    "from sklearn.svm import SVC\n",
    "\n",
    "from sneakers_ml.features.features import get_train_val_test\n",
    "from sneakers_ml.models.onnx import save_sklearn_onnx"
   ]
  },
  {
   "cell_type": "code",
   "execution_count": 2,
   "metadata": {},
   "outputs": [],
   "source": [
    "X_train, X_val, X_test, y_train, y_val, y_test = get_train_val_test(\"data/features/hog\", \"brands-classification\")"
   ]
  },
  {
   "cell_type": "code",
   "execution_count": 5,
   "metadata": {},
   "outputs": [
    {
     "name": "stdout",
     "output_type": "stream",
     "text": [
      "Fitting 5 folds for each of 6 candidates, totalling 30 fits\n"
     ]
    },
    {
     "data": {
      "text/html": [
       "<style>#sk-container-id-1 {color: black;}#sk-container-id-1 pre{padding: 0;}#sk-container-id-1 div.sk-toggleable {background-color: white;}#sk-container-id-1 label.sk-toggleable__label {cursor: pointer;display: block;width: 100%;margin-bottom: 0;padding: 0.3em;box-sizing: border-box;text-align: center;}#sk-container-id-1 label.sk-toggleable__label-arrow:before {content: \"▸\";float: left;margin-right: 0.25em;color: #696969;}#sk-container-id-1 label.sk-toggleable__label-arrow:hover:before {color: black;}#sk-container-id-1 div.sk-estimator:hover label.sk-toggleable__label-arrow:before {color: black;}#sk-container-id-1 div.sk-toggleable__content {max-height: 0;max-width: 0;overflow: hidden;text-align: left;background-color: #f0f8ff;}#sk-container-id-1 div.sk-toggleable__content pre {margin: 0.2em;color: black;border-radius: 0.25em;background-color: #f0f8ff;}#sk-container-id-1 input.sk-toggleable__control:checked~div.sk-toggleable__content {max-height: 200px;max-width: 100%;overflow: auto;}#sk-container-id-1 input.sk-toggleable__control:checked~label.sk-toggleable__label-arrow:before {content: \"▾\";}#sk-container-id-1 div.sk-estimator input.sk-toggleable__control:checked~label.sk-toggleable__label {background-color: #d4ebff;}#sk-container-id-1 div.sk-label input.sk-toggleable__control:checked~label.sk-toggleable__label {background-color: #d4ebff;}#sk-container-id-1 input.sk-hidden--visually {border: 0;clip: rect(1px 1px 1px 1px);clip: rect(1px, 1px, 1px, 1px);height: 1px;margin: -1px;overflow: hidden;padding: 0;position: absolute;width: 1px;}#sk-container-id-1 div.sk-estimator {font-family: monospace;background-color: #f0f8ff;border: 1px dotted black;border-radius: 0.25em;box-sizing: border-box;margin-bottom: 0.5em;}#sk-container-id-1 div.sk-estimator:hover {background-color: #d4ebff;}#sk-container-id-1 div.sk-parallel-item::after {content: \"\";width: 100%;border-bottom: 1px solid gray;flex-grow: 1;}#sk-container-id-1 div.sk-label:hover label.sk-toggleable__label {background-color: #d4ebff;}#sk-container-id-1 div.sk-serial::before {content: \"\";position: absolute;border-left: 1px solid gray;box-sizing: border-box;top: 0;bottom: 0;left: 50%;z-index: 0;}#sk-container-id-1 div.sk-serial {display: flex;flex-direction: column;align-items: center;background-color: white;padding-right: 0.2em;padding-left: 0.2em;position: relative;}#sk-container-id-1 div.sk-item {position: relative;z-index: 1;}#sk-container-id-1 div.sk-parallel {display: flex;align-items: stretch;justify-content: center;background-color: white;position: relative;}#sk-container-id-1 div.sk-item::before, #sk-container-id-1 div.sk-parallel-item::before {content: \"\";position: absolute;border-left: 1px solid gray;box-sizing: border-box;top: 0;bottom: 0;left: 50%;z-index: -1;}#sk-container-id-1 div.sk-parallel-item {display: flex;flex-direction: column;z-index: 1;position: relative;background-color: white;}#sk-container-id-1 div.sk-parallel-item:first-child::after {align-self: flex-end;width: 50%;}#sk-container-id-1 div.sk-parallel-item:last-child::after {align-self: flex-start;width: 50%;}#sk-container-id-1 div.sk-parallel-item:only-child::after {width: 0;}#sk-container-id-1 div.sk-dashed-wrapped {border: 1px dashed gray;margin: 0 0.4em 0.5em 0.4em;box-sizing: border-box;padding-bottom: 0.4em;background-color: white;}#sk-container-id-1 div.sk-label label {font-family: monospace;font-weight: bold;display: inline-block;line-height: 1.2em;}#sk-container-id-1 div.sk-label-container {text-align: center;}#sk-container-id-1 div.sk-container {/* jupyter's `normalize.less` sets `[hidden] { display: none; }` but bootstrap.min.css set `[hidden] { display: none !important; }` so we also need the `!important` here to be able to override the default hidden behavior on the sphinx rendered scikit-learn.org. See: https://github.com/scikit-learn/scikit-learn/issues/21755 */display: inline-block !important;position: relative;}#sk-container-id-1 div.sk-text-repr-fallback {display: none;}</style><div id=\"sk-container-id-1\" class=\"sk-top-container\"><div class=\"sk-text-repr-fallback\"><pre>GridSearchCV(cv=5, estimator=SVC(),\n",
       "             param_grid={&#x27;C&#x27;: [0.1, 1, 10], &#x27;gamma&#x27;: [&#x27;scale&#x27;, &#x27;auto&#x27;],\n",
       "                         &#x27;kernel&#x27;: [&#x27;linear&#x27;]},\n",
       "             scoring=&#x27;accuracy&#x27;, verbose=1)</pre><b>In a Jupyter environment, please rerun this cell to show the HTML representation or trust the notebook. <br />On GitHub, the HTML representation is unable to render, please try loading this page with nbviewer.org.</b></div><div class=\"sk-container\" hidden><div class=\"sk-item sk-dashed-wrapped\"><div class=\"sk-label-container\"><div class=\"sk-label sk-toggleable\"><input class=\"sk-toggleable__control sk-hidden--visually\" id=\"sk-estimator-id-1\" type=\"checkbox\" ><label for=\"sk-estimator-id-1\" class=\"sk-toggleable__label sk-toggleable__label-arrow\">GridSearchCV</label><div class=\"sk-toggleable__content\"><pre>GridSearchCV(cv=5, estimator=SVC(),\n",
       "             param_grid={&#x27;C&#x27;: [0.1, 1, 10], &#x27;gamma&#x27;: [&#x27;scale&#x27;, &#x27;auto&#x27;],\n",
       "                         &#x27;kernel&#x27;: [&#x27;linear&#x27;]},\n",
       "             scoring=&#x27;accuracy&#x27;, verbose=1)</pre></div></div></div><div class=\"sk-parallel\"><div class=\"sk-parallel-item\"><div class=\"sk-item\"><div class=\"sk-label-container\"><div class=\"sk-label sk-toggleable\"><input class=\"sk-toggleable__control sk-hidden--visually\" id=\"sk-estimator-id-2\" type=\"checkbox\" ><label for=\"sk-estimator-id-2\" class=\"sk-toggleable__label sk-toggleable__label-arrow\">estimator: SVC</label><div class=\"sk-toggleable__content\"><pre>SVC()</pre></div></div></div><div class=\"sk-serial\"><div class=\"sk-item\"><div class=\"sk-estimator sk-toggleable\"><input class=\"sk-toggleable__control sk-hidden--visually\" id=\"sk-estimator-id-3\" type=\"checkbox\" ><label for=\"sk-estimator-id-3\" class=\"sk-toggleable__label sk-toggleable__label-arrow\">SVC</label><div class=\"sk-toggleable__content\"><pre>SVC()</pre></div></div></div></div></div></div></div></div></div></div>"
      ],
      "text/plain": [
       "GridSearchCV(cv=5, estimator=SVC(),\n",
       "             param_grid={'C': [0.1, 1, 10], 'gamma': ['scale', 'auto'],\n",
       "                         'kernel': ['linear']},\n",
       "             scoring='accuracy', verbose=1)"
      ]
     },
     "execution_count": 5,
     "metadata": {},
     "output_type": "execute_result"
    }
   ],
   "source": [
    "param_grid = {\"C\": [0.1, 1, 10], \"gamma\": [\"scale\", \"auto\"], \"kernel\": [\"linear\"]}\n",
    "\n",
    "svc = SVC()\n",
    "grid_search = GridSearchCV(estimator=svc, param_grid=param_grid, cv=5, scoring=\"accuracy\", verbose=1)\n",
    "grid_search.fit(X_train, y_train)"
   ]
  },
  {
   "cell_type": "code",
   "execution_count": 7,
   "metadata": {},
   "outputs": [
    {
     "data": {
      "text/plain": [
       "0.7362534948741846"
      ]
     },
     "execution_count": 7,
     "metadata": {},
     "output_type": "execute_result"
    }
   ],
   "source": [
    "pred = grid_search.best_estimator_.predict(X_test)\n",
    "accuracy_score(y_test, pred)"
   ]
  },
  {
   "cell_type": "code",
   "execution_count": 10,
   "metadata": {},
   "outputs": [],
   "source": [
    "save_sklearn_onnx(grid_search.best_estimator_, X_train, \"data/models/HOG-SVM-73acc.onnx\")"
   ]
  },
  {
   "cell_type": "code",
   "execution_count": 11,
   "metadata": {},
   "outputs": [
    {
     "name": "stdout",
     "output_type": "stream",
     "text": [
      "Fitting 5 folds for each of 4 candidates, totalling 20 fits\n"
     ]
    },
    {
     "data": {
      "text/html": [
       "<style>#sk-container-id-2 {color: black;}#sk-container-id-2 pre{padding: 0;}#sk-container-id-2 div.sk-toggleable {background-color: white;}#sk-container-id-2 label.sk-toggleable__label {cursor: pointer;display: block;width: 100%;margin-bottom: 0;padding: 0.3em;box-sizing: border-box;text-align: center;}#sk-container-id-2 label.sk-toggleable__label-arrow:before {content: \"▸\";float: left;margin-right: 0.25em;color: #696969;}#sk-container-id-2 label.sk-toggleable__label-arrow:hover:before {color: black;}#sk-container-id-2 div.sk-estimator:hover label.sk-toggleable__label-arrow:before {color: black;}#sk-container-id-2 div.sk-toggleable__content {max-height: 0;max-width: 0;overflow: hidden;text-align: left;background-color: #f0f8ff;}#sk-container-id-2 div.sk-toggleable__content pre {margin: 0.2em;color: black;border-radius: 0.25em;background-color: #f0f8ff;}#sk-container-id-2 input.sk-toggleable__control:checked~div.sk-toggleable__content {max-height: 200px;max-width: 100%;overflow: auto;}#sk-container-id-2 input.sk-toggleable__control:checked~label.sk-toggleable__label-arrow:before {content: \"▾\";}#sk-container-id-2 div.sk-estimator input.sk-toggleable__control:checked~label.sk-toggleable__label {background-color: #d4ebff;}#sk-container-id-2 div.sk-label input.sk-toggleable__control:checked~label.sk-toggleable__label {background-color: #d4ebff;}#sk-container-id-2 input.sk-hidden--visually {border: 0;clip: rect(1px 1px 1px 1px);clip: rect(1px, 1px, 1px, 1px);height: 1px;margin: -1px;overflow: hidden;padding: 0;position: absolute;width: 1px;}#sk-container-id-2 div.sk-estimator {font-family: monospace;background-color: #f0f8ff;border: 1px dotted black;border-radius: 0.25em;box-sizing: border-box;margin-bottom: 0.5em;}#sk-container-id-2 div.sk-estimator:hover {background-color: #d4ebff;}#sk-container-id-2 div.sk-parallel-item::after {content: \"\";width: 100%;border-bottom: 1px solid gray;flex-grow: 1;}#sk-container-id-2 div.sk-label:hover label.sk-toggleable__label {background-color: #d4ebff;}#sk-container-id-2 div.sk-serial::before {content: \"\";position: absolute;border-left: 1px solid gray;box-sizing: border-box;top: 0;bottom: 0;left: 50%;z-index: 0;}#sk-container-id-2 div.sk-serial {display: flex;flex-direction: column;align-items: center;background-color: white;padding-right: 0.2em;padding-left: 0.2em;position: relative;}#sk-container-id-2 div.sk-item {position: relative;z-index: 1;}#sk-container-id-2 div.sk-parallel {display: flex;align-items: stretch;justify-content: center;background-color: white;position: relative;}#sk-container-id-2 div.sk-item::before, #sk-container-id-2 div.sk-parallel-item::before {content: \"\";position: absolute;border-left: 1px solid gray;box-sizing: border-box;top: 0;bottom: 0;left: 50%;z-index: -1;}#sk-container-id-2 div.sk-parallel-item {display: flex;flex-direction: column;z-index: 1;position: relative;background-color: white;}#sk-container-id-2 div.sk-parallel-item:first-child::after {align-self: flex-end;width: 50%;}#sk-container-id-2 div.sk-parallel-item:last-child::after {align-self: flex-start;width: 50%;}#sk-container-id-2 div.sk-parallel-item:only-child::after {width: 0;}#sk-container-id-2 div.sk-dashed-wrapped {border: 1px dashed gray;margin: 0 0.4em 0.5em 0.4em;box-sizing: border-box;padding-bottom: 0.4em;background-color: white;}#sk-container-id-2 div.sk-label label {font-family: monospace;font-weight: bold;display: inline-block;line-height: 1.2em;}#sk-container-id-2 div.sk-label-container {text-align: center;}#sk-container-id-2 div.sk-container {/* jupyter's `normalize.less` sets `[hidden] { display: none; }` but bootstrap.min.css set `[hidden] { display: none !important; }` so we also need the `!important` here to be able to override the default hidden behavior on the sphinx rendered scikit-learn.org. See: https://github.com/scikit-learn/scikit-learn/issues/21755 */display: inline-block !important;position: relative;}#sk-container-id-2 div.sk-text-repr-fallback {display: none;}</style><div id=\"sk-container-id-2\" class=\"sk-top-container\"><div class=\"sk-text-repr-fallback\"><pre>GridSearchCV(cv=5, estimator=SGDClassifier(),\n",
       "             param_grid={&#x27;alpha&#x27;: [0.0001, 0.001],\n",
       "                         &#x27;loss&#x27;: [&#x27;log_loss&#x27;, &#x27;hinge&#x27;]},\n",
       "             scoring=&#x27;accuracy&#x27;, verbose=1)</pre><b>In a Jupyter environment, please rerun this cell to show the HTML representation or trust the notebook. <br />On GitHub, the HTML representation is unable to render, please try loading this page with nbviewer.org.</b></div><div class=\"sk-container\" hidden><div class=\"sk-item sk-dashed-wrapped\"><div class=\"sk-label-container\"><div class=\"sk-label sk-toggleable\"><input class=\"sk-toggleable__control sk-hidden--visually\" id=\"sk-estimator-id-4\" type=\"checkbox\" ><label for=\"sk-estimator-id-4\" class=\"sk-toggleable__label sk-toggleable__label-arrow\">GridSearchCV</label><div class=\"sk-toggleable__content\"><pre>GridSearchCV(cv=5, estimator=SGDClassifier(),\n",
       "             param_grid={&#x27;alpha&#x27;: [0.0001, 0.001],\n",
       "                         &#x27;loss&#x27;: [&#x27;log_loss&#x27;, &#x27;hinge&#x27;]},\n",
       "             scoring=&#x27;accuracy&#x27;, verbose=1)</pre></div></div></div><div class=\"sk-parallel\"><div class=\"sk-parallel-item\"><div class=\"sk-item\"><div class=\"sk-label-container\"><div class=\"sk-label sk-toggleable\"><input class=\"sk-toggleable__control sk-hidden--visually\" id=\"sk-estimator-id-5\" type=\"checkbox\" ><label for=\"sk-estimator-id-5\" class=\"sk-toggleable__label sk-toggleable__label-arrow\">estimator: SGDClassifier</label><div class=\"sk-toggleable__content\"><pre>SGDClassifier()</pre></div></div></div><div class=\"sk-serial\"><div class=\"sk-item\"><div class=\"sk-estimator sk-toggleable\"><input class=\"sk-toggleable__control sk-hidden--visually\" id=\"sk-estimator-id-6\" type=\"checkbox\" ><label for=\"sk-estimator-id-6\" class=\"sk-toggleable__label sk-toggleable__label-arrow\">SGDClassifier</label><div class=\"sk-toggleable__content\"><pre>SGDClassifier()</pre></div></div></div></div></div></div></div></div></div></div>"
      ],
      "text/plain": [
       "GridSearchCV(cv=5, estimator=SGDClassifier(),\n",
       "             param_grid={'alpha': [0.0001, 0.001],\n",
       "                         'loss': ['log_loss', 'hinge']},\n",
       "             scoring='accuracy', verbose=1)"
      ]
     },
     "execution_count": 11,
     "metadata": {},
     "output_type": "execute_result"
    }
   ],
   "source": [
    "param_grid = {\"loss\": [\"log_loss\", \"hinge\"], \"alpha\": [0.0001, 0.001]}\n",
    "\n",
    "sgd = SGDClassifier()\n",
    "grid_search = GridSearchCV(estimator=sgd, param_grid=param_grid, cv=5, scoring=\"accuracy\", verbose=1)\n",
    "grid_search.fit(X_train, y_train)"
   ]
  },
  {
   "cell_type": "code",
   "execution_count": 14,
   "metadata": {},
   "outputs": [
    {
     "data": {
      "text/plain": [
       "0.7110904007455732"
      ]
     },
     "execution_count": 14,
     "metadata": {},
     "output_type": "execute_result"
    }
   ],
   "source": [
    "pred = grid_search.best_estimator_.predict(X_test)\n",
    "accuracy_score(y_test, pred)"
   ]
  },
  {
   "cell_type": "code",
   "execution_count": 15,
   "metadata": {},
   "outputs": [],
   "source": [
    "save_sklearn_onnx(grid_search.best_estimator_, X_train, \"data/models/HOG-SGD-71acc.onnx\")"
   ]
  },
  {
   "cell_type": "code",
   "execution_count": 3,
   "metadata": {},
   "outputs": [
    {
     "name": "stdout",
     "output_type": "stream",
     "text": [
      "Learning rate set to 0.204354\n",
      "0:\tlearn: 2.3539077\ttest: 2.3722972\tbest: 2.3722972 (0)\ttotal: 2.49s\tremaining: 8m 16s\n",
      "1:\tlearn: 2.1945715\ttest: 2.2250850\tbest: 2.2250850 (1)\ttotal: 4.97s\tremaining: 8m 11s\n",
      "2:\tlearn: 2.0953199\ttest: 2.1422196\tbest: 2.1422196 (2)\ttotal: 7.46s\tremaining: 8m 9s\n",
      "3:\tlearn: 2.0154171\ttest: 2.0694040\tbest: 2.0694040 (3)\ttotal: 9.95s\tremaining: 8m 7s\n",
      "4:\tlearn: 1.9536255\ttest: 2.0175847\tbest: 2.0175847 (4)\ttotal: 12.5s\tremaining: 8m 7s\n",
      "5:\tlearn: 1.8779733\ttest: 1.9535358\tbest: 1.9535358 (5)\ttotal: 15s\tremaining: 8m 4s\n",
      "6:\tlearn: 1.8302153\ttest: 1.9167333\tbest: 1.9167333 (6)\ttotal: 17.4s\tremaining: 8m\n",
      "7:\tlearn: 1.7961325\ttest: 1.8918278\tbest: 1.8918278 (7)\ttotal: 19.8s\tremaining: 7m 56s\n",
      "8:\tlearn: 1.7598785\ttest: 1.8692407\tbest: 1.8692407 (8)\ttotal: 22.2s\tremaining: 7m 51s\n",
      "9:\tlearn: 1.7131081\ttest: 1.8364811\tbest: 1.8364811 (9)\ttotal: 24.7s\tremaining: 7m 49s\n",
      "10:\tlearn: 1.6875890\ttest: 1.8230021\tbest: 1.8230021 (10)\ttotal: 27.2s\tremaining: 7m 47s\n",
      "11:\tlearn: 1.6593768\ttest: 1.8060931\tbest: 1.8060931 (11)\ttotal: 29.6s\tremaining: 7m 43s\n",
      "12:\tlearn: 1.6405846\ttest: 1.7931726\tbest: 1.7931726 (12)\ttotal: 31.9s\tremaining: 7m 38s\n",
      "13:\tlearn: 1.6144784\ttest: 1.7779654\tbest: 1.7779654 (13)\ttotal: 34.2s\tremaining: 7m 33s\n",
      "14:\tlearn: 1.5867671\ttest: 1.7632683\tbest: 1.7632683 (14)\ttotal: 36.4s\tremaining: 7m 29s\n",
      "15:\tlearn: 1.5594263\ttest: 1.7484682\tbest: 1.7484682 (15)\ttotal: 38.7s\tremaining: 7m 24s\n",
      "16:\tlearn: 1.5312323\ttest: 1.7281601\tbest: 1.7281601 (16)\ttotal: 41.1s\tremaining: 7m 22s\n",
      "17:\tlearn: 1.5076769\ttest: 1.7144151\tbest: 1.7144151 (17)\ttotal: 43.4s\tremaining: 7m 19s\n",
      "18:\tlearn: 1.4808354\ttest: 1.7047341\tbest: 1.7047341 (18)\ttotal: 45.8s\tremaining: 7m 16s\n",
      "19:\tlearn: 1.4632933\ttest: 1.6958725\tbest: 1.6958725 (19)\ttotal: 48.1s\tremaining: 7m 12s\n",
      "20:\tlearn: 1.4408107\ttest: 1.6855289\tbest: 1.6855289 (20)\ttotal: 50.4s\tremaining: 7m 9s\n",
      "21:\tlearn: 1.4244406\ttest: 1.6769677\tbest: 1.6769677 (21)\ttotal: 52.7s\tremaining: 7m 6s\n",
      "22:\tlearn: 1.3997670\ttest: 1.6684805\tbest: 1.6684805 (22)\ttotal: 55s\tremaining: 7m 3s\n",
      "23:\tlearn: 1.3848809\ttest: 1.6615157\tbest: 1.6615157 (23)\ttotal: 57.2s\tremaining: 6m 59s\n",
      "24:\tlearn: 1.3633195\ttest: 1.6512110\tbest: 1.6512110 (24)\ttotal: 59.5s\tremaining: 6m 56s\n",
      "25:\tlearn: 1.3423334\ttest: 1.6428345\tbest: 1.6428345 (25)\ttotal: 1m 1s\tremaining: 6m 53s\n",
      "26:\tlearn: 1.3223335\ttest: 1.6298386\tbest: 1.6298386 (26)\ttotal: 1m 4s\tremaining: 6m 50s\n",
      "27:\tlearn: 1.3058417\ttest: 1.6235438\tbest: 1.6235438 (27)\ttotal: 1m 6s\tremaining: 6m 47s\n",
      "28:\tlearn: 1.2890325\ttest: 1.6170194\tbest: 1.6170194 (28)\ttotal: 1m 6s\tremaining: 6m 47s\n",
      "29:\tlearn: 1.2791341\ttest: 1.6116509\tbest: 1.6116509 (29)\ttotal: 1m 8s\tremaining: 6m 41s\n",
      "30:\tlearn: 1.2603110\ttest: 1.6018333\tbest: 1.6018333 (30)\ttotal: 1m 13s\tremaining: 6m 53s\n",
      "31:\tlearn: 1.2442427\ttest: 1.5962680\tbest: 1.5962680 (31)\ttotal: 1m 15s\tremaining: 6m 49s\n",
      "32:\tlearn: 1.2241999\ttest: 1.5895177\tbest: 1.5895177 (32)\ttotal: 1m 17s\tremaining: 6m 46s\n",
      "33:\tlearn: 1.2124206\ttest: 1.5809303\tbest: 1.5809303 (33)\ttotal: 1m 20s\tremaining: 6m 42s\n",
      "34:\tlearn: 1.1970691\ttest: 1.5736741\tbest: 1.5736741 (34)\ttotal: 1m 22s\tremaining: 6m 39s\n",
      "35:\tlearn: 1.1797763\ttest: 1.5657157\tbest: 1.5657157 (35)\ttotal: 1m 24s\tremaining: 6m 35s\n",
      "36:\tlearn: 1.1679102\ttest: 1.5599949\tbest: 1.5599949 (36)\ttotal: 1m 26s\tremaining: 6m 32s\n",
      "37:\tlearn: 1.1491224\ttest: 1.5478046\tbest: 1.5478046 (37)\ttotal: 1m 28s\tremaining: 6m 29s\n",
      "38:\tlearn: 1.1308852\ttest: 1.5394356\tbest: 1.5394356 (38)\ttotal: 1m 31s\tremaining: 6m 26s\n",
      "39:\tlearn: 1.1140143\ttest: 1.5356991\tbest: 1.5356991 (39)\ttotal: 1m 33s\tremaining: 6m 22s\n",
      "40:\tlearn: 1.1018093\ttest: 1.5304448\tbest: 1.5304448 (40)\ttotal: 1m 35s\tremaining: 6m 19s\n",
      "41:\tlearn: 1.0897184\ttest: 1.5244207\tbest: 1.5244207 (41)\ttotal: 1m 37s\tremaining: 6m 16s\n",
      "42:\tlearn: 1.0796641\ttest: 1.5204447\tbest: 1.5204447 (42)\ttotal: 1m 39s\tremaining: 6m 13s\n",
      "43:\tlearn: 1.0653333\ttest: 1.5102596\tbest: 1.5102596 (43)\ttotal: 1m 42s\tremaining: 6m 10s\n",
      "44:\tlearn: 1.0486439\ttest: 1.5010302\tbest: 1.5010302 (44)\ttotal: 1m 44s\tremaining: 6m 7s\n",
      "45:\tlearn: 1.0362282\ttest: 1.4943474\tbest: 1.4943474 (45)\ttotal: 1m 46s\tremaining: 6m 4s\n",
      "46:\tlearn: 1.0234530\ttest: 1.4874386\tbest: 1.4874386 (46)\ttotal: 1m 48s\tremaining: 6m 1s\n",
      "47:\tlearn: 1.0146988\ttest: 1.4836135\tbest: 1.4836135 (47)\ttotal: 1m 51s\tremaining: 5m 59s\n",
      "48:\tlearn: 1.0052291\ttest: 1.4800644\tbest: 1.4800644 (48)\ttotal: 1m 53s\tremaining: 5m 56s\n",
      "49:\tlearn: 0.9953235\ttest: 1.4747276\tbest: 1.4747276 (49)\ttotal: 1m 55s\tremaining: 5m 53s\n",
      "50:\tlearn: 0.9849777\ttest: 1.4684089\tbest: 1.4684089 (50)\ttotal: 1m 57s\tremaining: 5m 50s\n",
      "51:\tlearn: 0.9687083\ttest: 1.4578989\tbest: 1.4578989 (51)\ttotal: 1m 59s\tremaining: 5m 47s\n",
      "52:\tlearn: 0.9572038\ttest: 1.4522303\tbest: 1.4522303 (52)\ttotal: 2m 2s\tremaining: 5m 45s\n",
      "53:\tlearn: 0.9446054\ttest: 1.4465286\tbest: 1.4465286 (53)\ttotal: 2m 4s\tremaining: 5m 42s\n",
      "54:\tlearn: 0.9348196\ttest: 1.4395225\tbest: 1.4395225 (54)\ttotal: 2m 6s\tremaining: 5m 39s\n",
      "55:\tlearn: 0.9238929\ttest: 1.4348845\tbest: 1.4348845 (55)\ttotal: 2m 8s\tremaining: 5m 36s\n",
      "56:\tlearn: 0.9111484\ttest: 1.4276364\tbest: 1.4276364 (56)\ttotal: 2m 10s\tremaining: 5m 34s\n",
      "57:\tlearn: 0.9032603\ttest: 1.4243447\tbest: 1.4243447 (57)\ttotal: 2m 10s\tremaining: 5m 34s\n",
      "58:\tlearn: 0.8980709\ttest: 1.4237795\tbest: 1.4237795 (58)\ttotal: 2m 15s\tremaining: 5m 35s\n",
      "59:\tlearn: 0.8879977\ttest: 1.4156834\tbest: 1.4156834 (59)\ttotal: 2m 17s\tremaining: 5m 33s\n",
      "60:\tlearn: 0.8799477\ttest: 1.4097999\tbest: 1.4097999 (60)\ttotal: 2m 20s\tremaining: 5m 30s\n",
      "61:\tlearn: 0.8726675\ttest: 1.4078888\tbest: 1.4078888 (61)\ttotal: 2m 22s\tremaining: 5m 27s\n",
      "62:\tlearn: 0.8605487\ttest: 1.4021148\tbest: 1.4021148 (62)\ttotal: 2m 24s\tremaining: 5m 25s\n",
      "63:\tlearn: 0.8486179\ttest: 1.3981758\tbest: 1.3981758 (63)\ttotal: 2m 27s\tremaining: 5m 22s\n",
      "64:\tlearn: 0.8421619\ttest: 1.3953029\tbest: 1.3953029 (64)\ttotal: 2m 29s\tremaining: 5m 20s\n",
      "65:\tlearn: 0.8323265\ttest: 1.3907857\tbest: 1.3907857 (65)\ttotal: 2m 31s\tremaining: 5m 17s\n",
      "66:\tlearn: 0.8250558\ttest: 1.3886977\tbest: 1.3886977 (66)\ttotal: 2m 33s\tremaining: 5m 14s\n",
      "67:\tlearn: 0.8201993\ttest: 1.3864531\tbest: 1.3864531 (67)\ttotal: 2m 36s\tremaining: 5m 12s\n",
      "68:\tlearn: 0.8143704\ttest: 1.3836342\tbest: 1.3836342 (68)\ttotal: 2m 38s\tremaining: 5m 9s\n",
      "69:\tlearn: 0.8113639\ttest: 1.3822896\tbest: 1.3822896 (69)\ttotal: 2m 40s\tremaining: 5m 7s\n",
      "70:\tlearn: 0.8060439\ttest: 1.3795782\tbest: 1.3795782 (70)\ttotal: 2m 42s\tremaining: 5m 4s\n",
      "71:\tlearn: 0.7999117\ttest: 1.3769243\tbest: 1.3769243 (71)\ttotal: 2m 45s\tremaining: 5m 2s\n",
      "72:\tlearn: 0.7943058\ttest: 1.3742425\tbest: 1.3742425 (72)\ttotal: 2m 47s\tremaining: 4m 59s\n",
      "73:\tlearn: 0.7807077\ttest: 1.3730689\tbest: 1.3730689 (73)\ttotal: 2m 49s\tremaining: 4m 57s\n",
      "74:\tlearn: 0.7706616\ttest: 1.3687637\tbest: 1.3687637 (74)\ttotal: 2m 52s\tremaining: 4m 54s\n",
      "75:\tlearn: 0.7664476\ttest: 1.3667206\tbest: 1.3667206 (75)\ttotal: 2m 54s\tremaining: 4m 52s\n",
      "76:\tlearn: 0.7590022\ttest: 1.3648633\tbest: 1.3648633 (76)\ttotal: 2m 56s\tremaining: 4m 49s\n",
      "77:\tlearn: 0.7531857\ttest: 1.3625826\tbest: 1.3625826 (77)\ttotal: 2m 59s\tremaining: 4m 47s\n",
      "78:\tlearn: 0.7455325\ttest: 1.3602952\tbest: 1.3602952 (78)\ttotal: 3m 1s\tremaining: 4m 45s\n",
      "79:\tlearn: 0.7372934\ttest: 1.3538720\tbest: 1.3538720 (79)\ttotal: 3m 3s\tremaining: 4m 42s\n",
      "80:\tlearn: 0.7328790\ttest: 1.3523745\tbest: 1.3523745 (80)\ttotal: 3m 5s\tremaining: 4m 40s\n",
      "81:\tlearn: 0.7310114\ttest: 1.3513176\tbest: 1.3513176 (81)\ttotal: 3m 8s\tremaining: 4m 37s\n",
      "82:\tlearn: 0.7287877\ttest: 1.3501137\tbest: 1.3501137 (82)\ttotal: 3m 10s\tremaining: 4m 35s\n",
      "83:\tlearn: 0.7216774\ttest: 1.3453678\tbest: 1.3453678 (83)\ttotal: 3m 13s\tremaining: 4m 33s\n",
      "84:\tlearn: 0.7174804\ttest: 1.3426653\tbest: 1.3426653 (84)\ttotal: 3m 15s\tremaining: 4m 30s\n",
      "85:\tlearn: 0.7105602\ttest: 1.3391153\tbest: 1.3391153 (85)\ttotal: 3m 17s\tremaining: 4m 28s\n",
      "86:\tlearn: 0.7029845\ttest: 1.3349583\tbest: 1.3349583 (86)\ttotal: 3m 20s\tremaining: 4m 26s\n",
      "87:\tlearn: 0.6980056\ttest: 1.3337417\tbest: 1.3337417 (87)\ttotal: 3m 22s\tremaining: 4m 23s\n",
      "88:\tlearn: 0.6897452\ttest: 1.3282314\tbest: 1.3282314 (88)\ttotal: 3m 22s\tremaining: 4m 23s\n",
      "89:\tlearn: 0.6873292\ttest: 1.3269565\tbest: 1.3269565 (89)\ttotal: 3m 25s\tremaining: 4m 19s\n",
      "90:\tlearn: 0.6809447\ttest: 1.3237862\tbest: 1.3237862 (90)\ttotal: 3m 27s\tremaining: 4m 17s\n",
      "91:\tlearn: 0.6755082\ttest: 1.3208078\tbest: 1.3208078 (91)\ttotal: 3m 30s\tremaining: 4m 14s\n",
      "92:\tlearn: 0.6706543\ttest: 1.3161636\tbest: 1.3161636 (92)\ttotal: 3m 32s\tremaining: 4m 12s\n",
      "93:\tlearn: 0.6680937\ttest: 1.3136094\tbest: 1.3136094 (93)\ttotal: 3m 35s\tremaining: 4m 10s\n",
      "94:\tlearn: 0.6661750\ttest: 1.3122455\tbest: 1.3122455 (94)\ttotal: 3m 37s\tremaining: 4m 8s\n",
      "95:\tlearn: 0.6630117\ttest: 1.3114168\tbest: 1.3114168 (95)\ttotal: 3m 39s\tremaining: 4m 5s\n",
      "96:\tlearn: 0.6596066\ttest: 1.3092597\tbest: 1.3092597 (96)\ttotal: 3m 42s\tremaining: 4m 3s\n",
      "97:\tlearn: 0.6559251\ttest: 1.3080913\tbest: 1.3080913 (97)\ttotal: 3m 44s\tremaining: 4m 1s\n",
      "98:\tlearn: 0.6517706\ttest: 1.3060262\tbest: 1.3060262 (98)\ttotal: 3m 46s\tremaining: 3m 58s\n",
      "99:\tlearn: 0.6491378\ttest: 1.3044523\tbest: 1.3044523 (99)\ttotal: 3m 49s\tremaining: 3m 56s\n",
      "100:\tlearn: 0.6388361\ttest: 1.3002880\tbest: 1.3002880 (100)\ttotal: 3m 51s\tremaining: 3m 54s\n",
      "101:\tlearn: 0.6338917\ttest: 1.2973961\tbest: 1.2973961 (101)\ttotal: 3m 54s\tremaining: 3m 51s\n",
      "102:\tlearn: 0.6310428\ttest: 1.2965593\tbest: 1.2965593 (102)\ttotal: 3m 56s\tremaining: 3m 49s\n",
      "103:\tlearn: 0.6283059\ttest: 1.2945149\tbest: 1.2945149 (103)\ttotal: 3m 58s\tremaining: 3m 46s\n",
      "104:\tlearn: 0.6247192\ttest: 1.2935219\tbest: 1.2935219 (104)\ttotal: 4m 1s\tremaining: 3m 44s\n",
      "105:\tlearn: 0.6211281\ttest: 1.2916971\tbest: 1.2916971 (105)\ttotal: 4m 3s\tremaining: 3m 42s\n",
      "106:\tlearn: 0.6165220\ttest: 1.2895336\tbest: 1.2895336 (106)\ttotal: 4m 5s\tremaining: 3m 39s\n",
      "107:\tlearn: 0.6134906\ttest: 1.2881155\tbest: 1.2881155 (107)\ttotal: 4m 8s\tremaining: 3m 37s\n",
      "108:\tlearn: 0.6089133\ttest: 1.2852007\tbest: 1.2852007 (108)\ttotal: 4m 10s\tremaining: 3m 35s\n",
      "109:\tlearn: 0.6063550\ttest: 1.2846547\tbest: 1.2846547 (109)\ttotal: 4m 13s\tremaining: 3m 32s\n",
      "110:\tlearn: 0.6029223\ttest: 1.2815916\tbest: 1.2815916 (110)\ttotal: 4m 15s\tremaining: 3m 30s\n",
      "111:\tlearn: 0.5986787\ttest: 1.2783951\tbest: 1.2783951 (111)\ttotal: 4m 17s\tremaining: 3m 28s\n",
      "112:\tlearn: 0.5948861\ttest: 1.2778464\tbest: 1.2778464 (112)\ttotal: 4m 20s\tremaining: 3m 25s\n",
      "113:\tlearn: 0.5901523\ttest: 1.2743270\tbest: 1.2743270 (113)\ttotal: 4m 22s\tremaining: 3m 23s\n",
      "114:\tlearn: 0.5864686\ttest: 1.2718343\tbest: 1.2718343 (114)\ttotal: 4m 22s\tremaining: 3m 23s\n",
      "115:\tlearn: 0.5839293\ttest: 1.2712510\tbest: 1.2712510 (115)\ttotal: 4m 27s\tremaining: 3m 20s\n",
      "116:\tlearn: 0.5802843\ttest: 1.2689724\tbest: 1.2689724 (116)\ttotal: 4m 29s\tremaining: 3m 18s\n",
      "117:\tlearn: 0.5751646\ttest: 1.2687532\tbest: 1.2687532 (117)\ttotal: 4m 32s\tremaining: 3m 15s\n",
      "118:\tlearn: 0.5732088\ttest: 1.2680380\tbest: 1.2680380 (118)\ttotal: 4m 34s\tremaining: 3m 13s\n",
      "119:\tlearn: 0.5702483\ttest: 1.2673334\tbest: 1.2673334 (119)\ttotal: 4m 37s\tremaining: 3m 11s\n",
      "120:\tlearn: 0.5653925\ttest: 1.2652830\tbest: 1.2652830 (120)\ttotal: 4m 39s\tremaining: 3m 8s\n",
      "121:\tlearn: 0.5610068\ttest: 1.2635898\tbest: 1.2635898 (121)\ttotal: 4m 41s\tremaining: 3m 6s\n",
      "122:\tlearn: 0.5540585\ttest: 1.2600968\tbest: 1.2600968 (122)\ttotal: 4m 44s\tremaining: 3m 3s\n",
      "123:\tlearn: 0.5512374\ttest: 1.2589257\tbest: 1.2589257 (123)\ttotal: 4m 44s\tremaining: 3m 3s\n",
      "124:\tlearn: 0.5490049\ttest: 1.2583280\tbest: 1.2583280 (124)\ttotal: 4m 49s\tremaining: 3m\n",
      "125:\tlearn: 0.5453525\ttest: 1.2562809\tbest: 1.2562809 (125)\ttotal: 4m 51s\tremaining: 2m 58s\n",
      "126:\tlearn: 0.5436486\ttest: 1.2544535\tbest: 1.2544535 (126)\ttotal: 4m 53s\tremaining: 2m 55s\n",
      "127:\tlearn: 0.5407955\ttest: 1.2520025\tbest: 1.2520025 (127)\ttotal: 4m 56s\tremaining: 2m 53s\n",
      "128:\tlearn: 0.5380450\ttest: 1.2508967\tbest: 1.2508967 (128)\ttotal: 4m 58s\tremaining: 2m 50s\n",
      "129:\tlearn: 0.5360829\ttest: 1.2491298\tbest: 1.2491298 (129)\ttotal: 5m\tremaining: 2m 48s\n",
      "130:\tlearn: 0.5316773\ttest: 1.2473798\tbest: 1.2473798 (130)\ttotal: 5m 3s\tremaining: 2m 45s\n",
      "131:\tlearn: 0.5309186\ttest: 1.2469218\tbest: 1.2469218 (131)\ttotal: 5m 5s\tremaining: 2m 43s\n",
      "132:\tlearn: 0.5299261\ttest: 1.2467690\tbest: 1.2467690 (132)\ttotal: 5m 7s\tremaining: 2m 41s\n",
      "133:\tlearn: 0.5247736\ttest: 1.2455900\tbest: 1.2455900 (133)\ttotal: 5m 10s\tremaining: 2m 38s\n",
      "134:\tlearn: 0.5239042\ttest: 1.2446959\tbest: 1.2446959 (134)\ttotal: 5m 10s\tremaining: 2m 38s\n",
      "135:\tlearn: 0.5201294\ttest: 1.2417276\tbest: 1.2417276 (135)\ttotal: 5m 10s\tremaining: 2m 38s\n",
      "136:\tlearn: 0.5181041\ttest: 1.2410283\tbest: 1.2410283 (136)\ttotal: 5m 15s\tremaining: 2m 32s\n",
      "137:\tlearn: 0.5164845\ttest: 1.2403385\tbest: 1.2403385 (137)\ttotal: 5m 17s\tremaining: 2m 30s\n",
      "138:\tlearn: 0.5139498\ttest: 1.2393438\tbest: 1.2393438 (138)\ttotal: 5m 19s\tremaining: 2m 27s\n",
      "139:\tlearn: 0.5117088\ttest: 1.2370205\tbest: 1.2370205 (139)\ttotal: 5m 22s\tremaining: 2m 25s\n",
      "140:\tlearn: 0.5086754\ttest: 1.2360790\tbest: 1.2360790 (140)\ttotal: 5m 24s\tremaining: 2m 22s\n",
      "141:\tlearn: 0.5064742\ttest: 1.2357984\tbest: 1.2357984 (141)\ttotal: 5m 26s\tremaining: 2m 20s\n",
      "142:\tlearn: 0.5024365\ttest: 1.2339193\tbest: 1.2339193 (142)\ttotal: 5m 28s\tremaining: 2m 17s\n",
      "143:\tlearn: 0.5010393\ttest: 1.2329310\tbest: 1.2329310 (143)\ttotal: 5m 30s\tremaining: 2m 15s\n",
      "144:\tlearn: 0.4997246\ttest: 1.2322642\tbest: 1.2322642 (144)\ttotal: 5m 33s\tremaining: 2m 12s\n",
      "145:\tlearn: 0.4965288\ttest: 1.2300782\tbest: 1.2300782 (145)\ttotal: 5m 35s\tremaining: 2m 10s\n",
      "146:\tlearn: 0.4940941\ttest: 1.2290926\tbest: 1.2290926 (146)\ttotal: 5m 37s\tremaining: 2m 7s\n",
      "147:\tlearn: 0.4924730\ttest: 1.2277124\tbest: 1.2277124 (147)\ttotal: 5m 39s\tremaining: 2m 5s\n",
      "148:\tlearn: 0.4915151\ttest: 1.2276974\tbest: 1.2276974 (148)\ttotal: 5m 42s\tremaining: 2m 2s\n",
      "149:\tlearn: 0.4883970\ttest: 1.2262899\tbest: 1.2262899 (149)\ttotal: 5m 44s\tremaining: 2m\n",
      "150:\tlearn: 0.4816928\ttest: 1.2226745\tbest: 1.2226745 (150)\ttotal: 5m 47s\tremaining: 1m 58s\n",
      "151:\tlearn: 0.4791828\ttest: 1.2210136\tbest: 1.2210136 (151)\ttotal: 5m 49s\tremaining: 1m 55s\n",
      "152:\tlearn: 0.4778801\ttest: 1.2207306\tbest: 1.2207306 (152)\ttotal: 5m 51s\tremaining: 1m 53s\n",
      "153:\tlearn: 0.4756119\ttest: 1.2205379\tbest: 1.2205379 (153)\ttotal: 5m 54s\tremaining: 1m 50s\n",
      "154:\tlearn: 0.4716410\ttest: 1.2193002\tbest: 1.2193002 (154)\ttotal: 5m 56s\tremaining: 1m 48s\n",
      "155:\tlearn: 0.4696943\ttest: 1.2183595\tbest: 1.2183595 (155)\ttotal: 5m 58s\tremaining: 1m 45s\n",
      "156:\tlearn: 0.4678467\ttest: 1.2179346\tbest: 1.2179346 (156)\ttotal: 6m 1s\tremaining: 1m 43s\n",
      "157:\tlearn: 0.4653634\ttest: 1.2169398\tbest: 1.2169398 (157)\ttotal: 6m 3s\tremaining: 1m 41s\n",
      "158:\tlearn: 0.4637731\ttest: 1.2159254\tbest: 1.2159254 (158)\ttotal: 6m 5s\tremaining: 1m 38s\n",
      "159:\tlearn: 0.4621391\ttest: 1.2150421\tbest: 1.2150421 (159)\ttotal: 6m 8s\tremaining: 1m 36s\n",
      "160:\tlearn: 0.4593149\ttest: 1.2139633\tbest: 1.2139633 (160)\ttotal: 6m 10s\tremaining: 1m 33s\n",
      "161:\tlearn: 0.4554438\ttest: 1.2121028\tbest: 1.2121028 (161)\ttotal: 6m 12s\tremaining: 1m 31s\n",
      "162:\tlearn: 0.4536393\ttest: 1.2116426\tbest: 1.2116426 (162)\ttotal: 6m 15s\tremaining: 1m 28s\n",
      "163:\tlearn: 0.4514713\ttest: 1.2109853\tbest: 1.2109853 (163)\ttotal: 6m 17s\tremaining: 1m 26s\n",
      "164:\tlearn: 0.4467164\ttest: 1.2098278\tbest: 1.2098278 (164)\ttotal: 6m 19s\tremaining: 1m 24s\n",
      "165:\tlearn: 0.4445844\ttest: 1.2086329\tbest: 1.2086329 (165)\ttotal: 6m 21s\tremaining: 1m 21s\n",
      "166:\tlearn: 0.4429914\ttest: 1.2075436\tbest: 1.2075436 (166)\ttotal: 6m 24s\tremaining: 1m 19s\n",
      "167:\tlearn: 0.4395310\ttest: 1.2054289\tbest: 1.2054289 (167)\ttotal: 6m 26s\tremaining: 1m 16s\n",
      "168:\tlearn: 0.4377769\ttest: 1.2040435\tbest: 1.2040435 (168)\ttotal: 6m 28s\tremaining: 1m 14s\n",
      "169:\tlearn: 0.4366222\ttest: 1.2028488\tbest: 1.2028488 (169)\ttotal: 6m 30s\tremaining: 1m 11s\n",
      "170:\tlearn: 0.4354642\ttest: 1.2026642\tbest: 1.2026642 (170)\ttotal: 6m 32s\tremaining: 1m 9s\n",
      "171:\tlearn: 0.4343946\ttest: 1.2025049\tbest: 1.2025049 (171)\ttotal: 6m 35s\tremaining: 1m 7s\n",
      "172:\tlearn: 0.4327922\ttest: 1.2015587\tbest: 1.2015587 (172)\ttotal: 6m 37s\tremaining: 1m 4s\n",
      "173:\tlearn: 0.4311107\ttest: 1.2010093\tbest: 1.2010093 (173)\ttotal: 6m 39s\tremaining: 1m 2s\n",
      "174:\tlearn: 0.4286672\ttest: 1.1999509\tbest: 1.1999509 (174)\ttotal: 6m 41s\tremaining: 59.8s\n",
      "175:\tlearn: 0.4268640\ttest: 1.1996325\tbest: 1.1996325 (175)\ttotal: 6m 43s\tremaining: 57.4s\n",
      "176:\tlearn: 0.4261270\ttest: 1.1994933\tbest: 1.1994933 (176)\ttotal: 6m 46s\tremaining: 55s\n",
      "177:\tlearn: 0.4240574\ttest: 1.1977290\tbest: 1.1977290 (177)\ttotal: 6m 48s\tremaining: 52.6s\n",
      "178:\tlearn: 0.4214757\ttest: 1.1967946\tbest: 1.1967946 (178)\ttotal: 6m 50s\tremaining: 50.2s\n",
      "179:\tlearn: 0.4206345\ttest: 1.1959542\tbest: 1.1959542 (179)\ttotal: 6m 53s\tremaining: 47.8s\n",
      "180:\tlearn: 0.4189942\ttest: 1.1951260\tbest: 1.1951260 (180)\ttotal: 6m 55s\tremaining: 45.4s\n",
      "181:\tlearn: 0.4176934\ttest: 1.1951797\tbest: 1.1951260 (180)\ttotal: 6m 57s\tremaining: 43s\n",
      "182:\tlearn: 0.4155105\ttest: 1.1938164\tbest: 1.1938164 (182)\ttotal: 7m\tremaining: 40.6s\n",
      "183:\tlearn: 0.4146697\ttest: 1.1939067\tbest: 1.1938164 (182)\ttotal: 7m 2s\tremaining: 38.2s\n",
      "184:\tlearn: 0.4124686\ttest: 1.1936224\tbest: 1.1936224 (184)\ttotal: 7m 4s\tremaining: 35.8s\n",
      "185:\tlearn: 0.4119904\ttest: 1.1930106\tbest: 1.1930106 (185)\ttotal: 7m 7s\tremaining: 33.4s\n",
      "186:\tlearn: 0.4104274\ttest: 1.1916021\tbest: 1.1916021 (186)\ttotal: 7m 9s\tremaining: 31s\n",
      "187:\tlearn: 0.4089940\ttest: 1.1912210\tbest: 1.1912210 (187)\ttotal: 7m 11s\tremaining: 28.6s\n",
      "188:\tlearn: 0.4069427\ttest: 1.1896979\tbest: 1.1896979 (188)\ttotal: 7m 14s\tremaining: 26.2s\n",
      "189:\tlearn: 0.4049747\ttest: 1.1886343\tbest: 1.1886343 (189)\ttotal: 7m 16s\tremaining: 23.9s\n",
      "190:\tlearn: 0.4024154\ttest: 1.1875456\tbest: 1.1875456 (190)\ttotal: 7m 18s\tremaining: 21.5s\n",
      "191:\tlearn: 0.3997908\ttest: 1.1866491\tbest: 1.1866491 (191)\ttotal: 7m 21s\tremaining: 19.1s\n",
      "192:\tlearn: 0.3983437\ttest: 1.1863482\tbest: 1.1863482 (192)\ttotal: 7m 23s\tremaining: 16.7s\n",
      "193:\tlearn: 0.3950815\ttest: 1.1851987\tbest: 1.1851987 (193)\ttotal: 7m 23s\tremaining: 16.7s\n",
      "194:\tlearn: 0.3929348\ttest: 1.1840920\tbest: 1.1840920 (194)\ttotal: 7m 28s\tremaining: 12s\n",
      "195:\tlearn: 0.3910038\ttest: 1.1830449\tbest: 1.1830449 (195)\ttotal: 7m 30s\tremaining: 9.59s\n",
      "196:\tlearn: 0.3885051\ttest: 1.1825486\tbest: 1.1825486 (196)\ttotal: 7m 33s\tremaining: 7.19s\n",
      "197:\tlearn: 0.3871401\ttest: 1.1818571\tbest: 1.1818571 (197)\ttotal: 7m 35s\tremaining: 4.79s\n",
      "198:\tlearn: 0.3845389\ttest: 1.1818244\tbest: 1.1818244 (198)\ttotal: 7m 37s\tremaining: 2.4s\n",
      "199:\tlearn: 0.3833028\ttest: 1.1812275\tbest: 1.1812275 (199)\ttotal: 7m 40s\tremaining: 0us\n",
      "\n",
      "bestTest = 1.181227493\n",
      "bestIteration = 199\n",
      "\n"
     ]
    },
    {
     "data": {
      "text/plain": [
       "<catboost.core.CatBoostClassifier at 0x7f6af85a9fa0>"
      ]
     },
     "execution_count": 3,
     "metadata": {},
     "output_type": "execute_result"
    }
   ],
   "source": [
    "model = CatBoostClassifier(verbose=True, iterations=200)\n",
    "\n",
    "model.fit(X_train, y_train, eval_set=(X_val, y_val))"
   ]
  },
  {
   "cell_type": "code",
   "execution_count": 8,
   "metadata": {},
   "outputs": [
    {
     "data": {
      "text/plain": [
       "0.6486486486486487"
      ]
     },
     "execution_count": 8,
     "metadata": {},
     "output_type": "execute_result"
    }
   ],
   "source": [
    "pred = model.predict(X_test)\n",
    "accuracy_score(y_test, pred)"
   ]
  },
  {
   "cell_type": "code",
   "execution_count": 9,
   "metadata": {},
   "outputs": [],
   "source": [
    "model.save_model(\n",
    "    \"data/models/HOG-CatBoost-64acc.onnx\",\n",
    "    format=\"onnx\",\n",
    "    export_parameters={\n",
    "        \"onnx_domain\": \"ai.catboost\",\n",
    "        \"onnx_model_version\": 1,\n",
    "        \"onnx_doc_string\": \"iterations=100 default model\",\n",
    "        \"onnx_graph_name\": \"CatBoostModel_for_MultiClassification\",\n",
    "    },\n",
    ")"
   ]
  },
  {
   "cell_type": "code",
   "execution_count": null,
   "metadata": {},
   "outputs": [],
   "source": []
  }
 ],
 "metadata": {
  "kernelspec": {
   "display_name": "sneakers-ml-hflTz_mY-py3.9",
   "language": "python",
   "name": "python3"
  },
  "language_info": {
   "codemirror_mode": {
    "name": "ipython",
    "version": 3
   },
   "file_extension": ".py",
   "mimetype": "text/x-python",
   "name": "python",
   "nbconvert_exporter": "python",
   "pygments_lexer": "ipython3",
   "version": "3.9.16"
  }
 },
 "nbformat": 4,
 "nbformat_minor": 2
}
