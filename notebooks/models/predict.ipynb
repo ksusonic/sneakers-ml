{
 "cells": [
  {
   "cell_type": "code",
   "execution_count": 1,
   "metadata": {},
   "outputs": [],
   "source": [
    "from pathlib import Path\n",
    "\n",
    "import numpy as np\n",
    "from PIL import Image\n",
    "\n",
    "from sneakers_ml.features.features import load_features\n",
    "from sneakers_ml.features.hog import get_hog\n",
    "from sneakers_ml.features.resnet152 import get_resnet152_feature\n",
    "from sneakers_ml.models.onnx import load_catboost_onnx, load_sklearn_onnx, predict_catboost_onnx, predict_sklearn_onnx"
   ]
  },
  {
   "cell_type": "code",
   "execution_count": 2,
   "metadata": {},
   "outputs": [
    {
     "data": {
      "text/plain": [
       "[PosixPath('data/training/brands-classification-splits/test/adidas'),\n",
       " PosixPath('data/training/brands-classification-splits/test/nike'),\n",
       " PosixPath('data/training/brands-classification-splits/test/vans'),\n",
       " PosixPath('data/training/brands-classification-splits/test/jordan'),\n",
       " PosixPath('data/training/brands-classification-splits/test/saucony'),\n",
       " PosixPath('data/training/brands-classification-splits/test/kangaroos'),\n",
       " PosixPath('data/training/brands-classification-splits/test/converse'),\n",
       " PosixPath('data/training/brands-classification-splits/test/clarks'),\n",
       " PosixPath('data/training/brands-classification-splits/test/puma'),\n",
       " PosixPath('data/training/brands-classification-splits/test/new balance'),\n",
       " PosixPath('data/training/brands-classification-splits/test/reebok'),\n",
       " PosixPath('data/training/brands-classification-splits/test/karhu'),\n",
       " PosixPath('data/training/brands-classification-splits/test/asics')]"
      ]
     },
     "execution_count": 2,
     "metadata": {},
     "output_type": "execute_result"
    }
   ],
   "source": [
    "list(Path(\"data/training/brands-classification-splits/test\").iterdir())"
   ]
  },
  {
   "cell_type": "code",
   "execution_count": 4,
   "metadata": {},
   "outputs": [],
   "source": [
    "sklearn_hog_models = [\n",
    "    \"data/models/brands-classification/hog-sgd.onnx\",\n",
    "    \"data/models/brands-classification/hog-svc.onnx\",\n",
    "]\n",
    "sklearn_resnet_models = [\n",
    "    \"data/models/brands-classification/resnet-sgd.onnx\",\n",
    "    \"data/models/brands-classification/resnet-svc.onnx\",\n",
    "]\n",
    "catboost_hog_models = [\"data/models/brands-classification/hog-catboost.onnx\"]\n",
    "catboost_resnet_models = [\"data/models/brands-classification/resnet-catboost.onnx\"]"
   ]
  },
  {
   "cell_type": "code",
   "execution_count": 5,
   "metadata": {},
   "outputs": [],
   "source": [
    "models = {}\n",
    "\n",
    "for model in sklearn_hog_models + sklearn_resnet_models:\n",
    "    models[Path(model).stem] = load_sklearn_onnx(model)\n",
    "\n",
    "for model in catboost_hog_models + catboost_resnet_models:\n",
    "    models[Path(model).stem] = load_catboost_onnx(model)"
   ]
  },
  {
   "cell_type": "code",
   "execution_count": 6,
   "metadata": {},
   "outputs": [],
   "source": [
    "def predict_using_all_models(image: Image.Image) -> dict:\n",
    "    preds = {}\n",
    "    hog_embedding = get_hog(image)[np.newaxis]\n",
    "    resnet_embedding = get_resnet152_feature(image)[np.newaxis]\n",
    "    for model in models:\n",
    "        print(model)\n",
    "        if \"hog\" in model:\n",
    "            if \"catboost\" in model:\n",
    "                preds[model] = predict_catboost_onnx(models[model], hog_embedding)[0][0]\n",
    "            else:\n",
    "                preds[model] = predict_sklearn_onnx(models[model], hog_embedding)[0]\n",
    "        else:\n",
    "            if \"catboost\" in model:\n",
    "                preds[model] = predict_catboost_onnx(models[model], resnet_embedding)[0][0]\n",
    "            else:\n",
    "                preds[model] = predict_sklearn_onnx(models[model], resnet_embedding)[0]\n",
    "    return preds"
   ]
  },
  {
   "cell_type": "code",
   "execution_count": 7,
   "metadata": {},
   "outputs": [
    {
     "data": {
      "text/plain": [
       "{'hog-sgd': <onnxruntime.capi.onnxruntime_inference_collection.InferenceSession at 0x7fe81c968910>,\n",
       " 'hog-svc': <onnxruntime.capi.onnxruntime_inference_collection.InferenceSession at 0x7fe81f0417f0>,\n",
       " 'resnet-sgd': <onnxruntime.capi.onnxruntime_inference_collection.InferenceSession at 0x7fe9181dc760>,\n",
       " 'resnet-svc': <onnxruntime.capi.onnxruntime_inference_collection.InferenceSession at 0x7fe81c968280>,\n",
       " 'hog-catboost': <onnxruntime.capi.onnxruntime_inference_collection.InferenceSession at 0x7fe81c9682b0>,\n",
       " 'resnet-catboost': <onnxruntime.capi.onnxruntime_inference_collection.InferenceSession at 0x7fe9180c2460>}"
      ]
     },
     "execution_count": 7,
     "metadata": {},
     "output_type": "execute_result"
    }
   ],
   "source": [
    "models"
   ]
  },
  {
   "cell_type": "code",
   "execution_count": 8,
   "metadata": {},
   "outputs": [],
   "source": [
    "image = Image.open(\"data/training/brands-classification-splits/test/asics/6.jpeg\")"
   ]
  },
  {
   "cell_type": "code",
   "execution_count": 9,
   "metadata": {},
   "outputs": [
    {
     "name": "stdout",
     "output_type": "stream",
     "text": [
      "hog-sgd\n",
      "hog-svc\n",
      "resnet-sgd\n",
      "resnet-svc\n",
      "hog-catboost\n",
      "resnet-catboost\n"
     ]
    },
    {
     "data": {
      "text/plain": [
       "{'hog-sgd': '1',\n",
       " 'hog-svc': '1',\n",
       " 'resnet-sgd': '1',\n",
       " 'resnet-svc': '1',\n",
       " 'hog-catboost': '1',\n",
       " 'resnet-catboost': '8'}"
      ]
     },
     "execution_count": 9,
     "metadata": {},
     "output_type": "execute_result"
    }
   ],
   "source": [
    "predict_using_all_models(image)"
   ]
  },
  {
   "cell_type": "code",
   "execution_count": 10,
   "metadata": {},
   "outputs": [
    {
     "data": {
      "text/plain": [
       "{'adidas': 0,\n",
       " 'asics': 1,\n",
       " 'clarks': 2,\n",
       " 'converse': 3,\n",
       " 'jordan': 4,\n",
       " 'kangaroos': 5,\n",
       " 'karhu': 6,\n",
       " 'new balance': 7,\n",
       " 'nike': 8,\n",
       " 'puma': 9,\n",
       " 'reebok': 10,\n",
       " 'saucony': 11,\n",
       " 'vans': 12}"
      ]
     },
     "execution_count": 10,
     "metadata": {},
     "output_type": "execute_result"
    }
   ],
   "source": [
    "_, _, class_2_idx = load_features(\"data/features/brands-classification-splits/hog-train.pickle\")\n",
    "class_2_idx"
   ]
  }
 ],
 "metadata": {
  "kernelspec": {
   "display_name": "sneakers-ml-hflTz_mY-py3.9",
   "language": "python",
   "name": "python3"
  },
  "language_info": {
   "codemirror_mode": {
    "name": "ipython",
    "version": 3
   },
   "file_extension": ".py",
   "mimetype": "text/x-python",
   "name": "python",
   "nbconvert_exporter": "python",
   "pygments_lexer": "ipython3",
   "version": "3.9.16"
  }
 },
 "nbformat": 4,
 "nbformat_minor": 2
}
