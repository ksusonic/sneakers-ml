{
  "nbformat": 4,
  "nbformat_minor": 2,
  "metadata": {},
  "cells": [
    {
      "metadata": {},
      "source": [
        "from pathlib import Path\n",
        "\n",
        "import numpy as np\n",
        "from PIL import Image\n",
        "\n",
        "from sneakers_ml.features.features import load_features\n",
        "from sneakers_ml.features.hog import get_hog\n",
        "from sneakers_ml.features.resnet152 import get_resnet152_feature\n",
        "from sneakers_ml.features.sift import get_sift_feature\n",
        "from sneakers_ml.models.onnx import load_catboost_onnx, load_sklearn_onnx, predict_catboost_onnx, predict_sklearn_onnx"
      ],
      "cell_type": "code",
      "outputs": [],
      "execution_count": null
    },
    {
      "metadata": {},
      "source": [
        "list(Path(\"data/training/brands-classification-splits/test\").iterdir())"
      ],
      "cell_type": "code",
      "outputs": [
        {
          "output_type": "execute_result",
          "data": {
            "text/plain": [
              "[PosixPath('data/training/brands-classification-splits/test/adidas'),\n",
              " PosixPath('data/training/brands-classification-splits/test/nike'),\n",
              " PosixPath('data/training/brands-classification-splits/test/vans'),\n",
              " PosixPath('data/training/brands-classification-splits/test/jordan'),\n",
              " PosixPath('data/training/brands-classification-splits/test/saucony'),\n",
              " PosixPath('data/training/brands-classification-splits/test/kangaroos'),\n",
              " PosixPath('data/training/brands-classification-splits/test/converse'),\n",
              " PosixPath('data/training/brands-classification-splits/test/clarks'),\n",
              " PosixPath('data/training/brands-classification-splits/test/puma'),\n",
              " PosixPath('data/training/brands-classification-splits/test/new balance'),\n",
              " PosixPath('data/training/brands-classification-splits/test/reebok'),\n",
              " PosixPath('data/training/brands-classification-splits/test/karhu'),\n",
              " PosixPath('data/training/brands-classification-splits/test/asics')]"
            ]
          },
          "metadata": {},
          "execution_count": 2
        }
      ],
      "execution_count": null
    },
    {
      "metadata": {},
      "source": [
        "sklearn_hog_models = [\n",
        "    \"data/models/brands-classification/hog-sgd.onnx\",\n",
        "    \"data/models/brands-classification/hog-svc.onnx\",\n",
        "]\n",
        "sklearn_resnet_models = [\n",
        "    \"data/models/brands-classification/resnet-sgd.onnx\",\n",
        "    \"data/models/brands-classification/resnet-svc.onnx\",\n",
        "]\n",
        "sklearn_sift_models = [\n",
        "    \"data/models/brands-classification/sift-sgd.onnx\",\n",
        "    \"data/models/brands-classification/sift-svc.onnx\",\n",
        "]\n",
        "catboost_hog_models = [\"data/models/brands-classification/hog-catboost.onnx\"]\n",
        "catboost_resnet_models = [\"data/models/brands-classification/resnet-catboost.onnx\"]\n",
        "catboost_sift_models = [\"data/models/brands-classification/sift-catboost.onnx\"]"
      ],
      "cell_type": "code",
      "outputs": [],
      "execution_count": null
    },
    {
      "metadata": {},
      "source": [
        "models = {}\n",
        "\n",
        "for model in sklearn_hog_models + sklearn_resnet_models + sklearn_sift_models:\n",
        "    models[Path(model).stem] = load_sklearn_onnx(model)\n",
        "\n",
        "for model in catboost_hog_models + catboost_resnet_models + catboost_sift_models:\n",
        "    models[Path(model).stem] = load_catboost_onnx(model)"
      ],
      "cell_type": "code",
      "outputs": [],
      "execution_count": null
    },
    {
      "metadata": {},
      "source": [
        "def predict_using_all_models(image: Image.Image) -> dict:\n",
        "    preds = {}\n",
        "    kmeans = load_sklearn_onnx(\"data/models/brands-classification/sift-kmeans.onnx\")\n",
        "    hog_embedding = get_hog(image)[np.newaxis]\n",
        "    resnet_embedding = get_resnet152_feature(image)[np.newaxis]\n",
        "    sift_embedding = get_sift_feature(image, kmeans, 2000)[np.newaxis]\n",
        "    for model in models:\n",
        "        print(model)\n",
        "        if \"hog\" in model:\n",
        "            if \"catboost\" in model:\n",
        "                preds[model] = predict_catboost_onnx(models[model], hog_embedding)[0][0]\n",
        "            else:\n",
        "                preds[model] = predict_sklearn_onnx(models[model], hog_embedding)[0]\n",
        "        elif \"resnet\" in model:\n",
        "            if \"catboost\" in model:\n",
        "                preds[model] = predict_catboost_onnx(models[model], resnet_embedding)[0][0]\n",
        "            else:\n",
        "                preds[model] = predict_sklearn_onnx(models[model], resnet_embedding)[0]\n",
        "        elif \"sift\" in model:\n",
        "            if \"catboost\" in model:\n",
        "                preds[model] = predict_catboost_onnx(models[model], sift_embedding)[0][0]\n",
        "            else:\n",
        "                preds[model] = predict_sklearn_onnx(models[model], sift_embedding)[0]\n",
        "    return preds"
      ],
      "cell_type": "code",
      "outputs": [],
      "execution_count": null
    },
    {
      "metadata": {},
      "source": [
        "models"
      ],
      "cell_type": "code",
      "outputs": [
        {
          "output_type": "execute_result",
          "data": {
            "text/plain": [
              "{'hog-sgd': <onnxruntime.capi.onnxruntime_inference_collection.InferenceSession at 0x7fbb2c213a30>,\n",
              " 'hog-svc': <onnxruntime.capi.onnxruntime_inference_collection.InferenceSession at 0x7fbb2c202dc0>,\n",
              " 'resnet-sgd': <onnxruntime.capi.onnxruntime_inference_collection.InferenceSession at 0x7fbb2c202790>,\n",
              " 'resnet-svc': <onnxruntime.capi.onnxruntime_inference_collection.InferenceSession at 0x7fbb2c2024f0>,\n",
              " 'sift-sgd': <onnxruntime.capi.onnxruntime_inference_collection.InferenceSession at 0x7fba2e9e7b20>,\n",
              " 'sift-svc': <onnxruntime.capi.onnxruntime_inference_collection.InferenceSession at 0x7fba2e9e7d30>,\n",
              " 'hog-catboost': <onnxruntime.capi.onnxruntime_inference_collection.InferenceSession at 0x7fbb2c20d910>,\n",
              " 'resnet-catboost': <onnxruntime.capi.onnxruntime_inference_collection.InferenceSession at 0x7fba2e9e7dc0>,\n",
              " 'sift-catboost': <onnxruntime.capi.onnxruntime_inference_collection.InferenceSession at 0x7fba2e9e79d0>}"
            ]
          },
          "metadata": {},
          "execution_count": 6
        }
      ],
      "execution_count": null
    },
    {
      "metadata": {},
      "source": [
        "image = Image.open(\"data/training/brands-classification-splits/test/asics/6.jpeg\")"
      ],
      "cell_type": "code",
      "outputs": [],
      "execution_count": null
    },
    {
      "metadata": {},
      "source": [
        "predict_using_all_models(image)"
      ],
      "cell_type": "code",
      "outputs": [
        {
          "output_type": "stream",
          "name": "stdout",
          "text": [
            "hog-sgd\n",
            "hog-svc\n",
            "resnet-sgd\n",
            "resnet-svc\n",
            "sift-sgd\n",
            "sift-svc\n",
            "hog-catboost\n",
            "resnet-catboost\n",
            "sift-catboost\n"
          ]
        },
        {
          "output_type": "execute_result",
          "data": {
            "text/plain": [
              "{'hog-sgd': '1',\n",
              " 'hog-svc': '1',\n",
              " 'resnet-sgd': '1',\n",
              " 'resnet-svc': '1',\n",
              " 'sift-sgd': '8',\n",
              " 'sift-svc': '8',\n",
              " 'hog-catboost': '1',\n",
              " 'resnet-catboost': '1',\n",
              " 'sift-catboost': '8'}"
            ]
          },
          "metadata": {},
          "execution_count": 8
        }
      ],
      "execution_count": null
    },
    {
      "metadata": {},
      "source": [
        "_, _, class_2_idx = load_features(\"data/features/brands-classification-splits/hog-train.pickle\")\n",
        "class_2_idx"
      ],
      "cell_type": "code",
      "outputs": [
        {
          "output_type": "execute_result",
          "data": {
            "text/plain": [
              "{'adidas': 0,\n",
              " 'asics': 1,\n",
              " 'clarks': 2,\n",
              " 'converse': 3,\n",
              " 'jordan': 4,\n",
              " 'kangaroos': 5,\n",
              " 'karhu': 6,\n",
              " 'new balance': 7,\n",
              " 'nike': 8,\n",
              " 'puma': 9,\n",
              " 'reebok': 10,\n",
              " 'saucony': 11,\n",
              " 'vans': 12}"
            ]
          },
          "metadata": {},
          "execution_count": 10
        }
      ],
      "execution_count": null
    }
  ]
}
