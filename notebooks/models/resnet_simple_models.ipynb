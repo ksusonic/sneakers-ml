{
 "cells": [
  {
   "cell_type": "code",
   "execution_count": 1,
   "metadata": {},
   "outputs": [],
   "source": [
    "from catboost import CatBoostClassifier\n",
    "from sklearn.linear_model import SGDClassifier\n",
    "from sklearn.metrics import accuracy_score\n",
    "from sklearn.model_selection import GridSearchCV\n",
    "from sklearn.svm import SVC\n",
    "\n",
    "from sneakers_ml.features.features import get_train_val_test\n",
    "from sneakers_ml.models.onnx import save_sklearn_onnx"
   ]
  },
  {
   "cell_type": "code",
   "execution_count": 2,
   "metadata": {},
   "outputs": [],
   "source": [
    "X_train, X_val, X_test, y_train, y_val, y_test = get_train_val_test(\"data/features/resnet\", \"brands-classification\")"
   ]
  },
  {
   "cell_type": "code",
   "execution_count": 3,
   "metadata": {},
   "outputs": [
    {
     "name": "stdout",
     "output_type": "stream",
     "text": [
      "Fitting 5 folds for each of 6 candidates, totalling 30 fits\n"
     ]
    },
    {
     "data": {
      "text/html": [
       "<style>#sk-container-id-1 {color: black;}#sk-container-id-1 pre{padding: 0;}#sk-container-id-1 div.sk-toggleable {background-color: white;}#sk-container-id-1 label.sk-toggleable__label {cursor: pointer;display: block;width: 100%;margin-bottom: 0;padding: 0.3em;box-sizing: border-box;text-align: center;}#sk-container-id-1 label.sk-toggleable__label-arrow:before {content: \"▸\";float: left;margin-right: 0.25em;color: #696969;}#sk-container-id-1 label.sk-toggleable__label-arrow:hover:before {color: black;}#sk-container-id-1 div.sk-estimator:hover label.sk-toggleable__label-arrow:before {color: black;}#sk-container-id-1 div.sk-toggleable__content {max-height: 0;max-width: 0;overflow: hidden;text-align: left;background-color: #f0f8ff;}#sk-container-id-1 div.sk-toggleable__content pre {margin: 0.2em;color: black;border-radius: 0.25em;background-color: #f0f8ff;}#sk-container-id-1 input.sk-toggleable__control:checked~div.sk-toggleable__content {max-height: 200px;max-width: 100%;overflow: auto;}#sk-container-id-1 input.sk-toggleable__control:checked~label.sk-toggleable__label-arrow:before {content: \"▾\";}#sk-container-id-1 div.sk-estimator input.sk-toggleable__control:checked~label.sk-toggleable__label {background-color: #d4ebff;}#sk-container-id-1 div.sk-label input.sk-toggleable__control:checked~label.sk-toggleable__label {background-color: #d4ebff;}#sk-container-id-1 input.sk-hidden--visually {border: 0;clip: rect(1px 1px 1px 1px);clip: rect(1px, 1px, 1px, 1px);height: 1px;margin: -1px;overflow: hidden;padding: 0;position: absolute;width: 1px;}#sk-container-id-1 div.sk-estimator {font-family: monospace;background-color: #f0f8ff;border: 1px dotted black;border-radius: 0.25em;box-sizing: border-box;margin-bottom: 0.5em;}#sk-container-id-1 div.sk-estimator:hover {background-color: #d4ebff;}#sk-container-id-1 div.sk-parallel-item::after {content: \"\";width: 100%;border-bottom: 1px solid gray;flex-grow: 1;}#sk-container-id-1 div.sk-label:hover label.sk-toggleable__label {background-color: #d4ebff;}#sk-container-id-1 div.sk-serial::before {content: \"\";position: absolute;border-left: 1px solid gray;box-sizing: border-box;top: 0;bottom: 0;left: 50%;z-index: 0;}#sk-container-id-1 div.sk-serial {display: flex;flex-direction: column;align-items: center;background-color: white;padding-right: 0.2em;padding-left: 0.2em;position: relative;}#sk-container-id-1 div.sk-item {position: relative;z-index: 1;}#sk-container-id-1 div.sk-parallel {display: flex;align-items: stretch;justify-content: center;background-color: white;position: relative;}#sk-container-id-1 div.sk-item::before, #sk-container-id-1 div.sk-parallel-item::before {content: \"\";position: absolute;border-left: 1px solid gray;box-sizing: border-box;top: 0;bottom: 0;left: 50%;z-index: -1;}#sk-container-id-1 div.sk-parallel-item {display: flex;flex-direction: column;z-index: 1;position: relative;background-color: white;}#sk-container-id-1 div.sk-parallel-item:first-child::after {align-self: flex-end;width: 50%;}#sk-container-id-1 div.sk-parallel-item:last-child::after {align-self: flex-start;width: 50%;}#sk-container-id-1 div.sk-parallel-item:only-child::after {width: 0;}#sk-container-id-1 div.sk-dashed-wrapped {border: 1px dashed gray;margin: 0 0.4em 0.5em 0.4em;box-sizing: border-box;padding-bottom: 0.4em;background-color: white;}#sk-container-id-1 div.sk-label label {font-family: monospace;font-weight: bold;display: inline-block;line-height: 1.2em;}#sk-container-id-1 div.sk-label-container {text-align: center;}#sk-container-id-1 div.sk-container {/* jupyter's `normalize.less` sets `[hidden] { display: none; }` but bootstrap.min.css set `[hidden] { display: none !important; }` so we also need the `!important` here to be able to override the default hidden behavior on the sphinx rendered scikit-learn.org. See: https://github.com/scikit-learn/scikit-learn/issues/21755 */display: inline-block !important;position: relative;}#sk-container-id-1 div.sk-text-repr-fallback {display: none;}</style><div id=\"sk-container-id-1\" class=\"sk-top-container\"><div class=\"sk-text-repr-fallback\"><pre>GridSearchCV(cv=5, estimator=SVC(),\n",
       "             param_grid={&#x27;C&#x27;: [0.1, 1, 10], &#x27;gamma&#x27;: [&#x27;scale&#x27;, &#x27;auto&#x27;],\n",
       "                         &#x27;kernel&#x27;: [&#x27;linear&#x27;]},\n",
       "             scoring=&#x27;accuracy&#x27;, verbose=1)</pre><b>In a Jupyter environment, please rerun this cell to show the HTML representation or trust the notebook. <br />On GitHub, the HTML representation is unable to render, please try loading this page with nbviewer.org.</b></div><div class=\"sk-container\" hidden><div class=\"sk-item sk-dashed-wrapped\"><div class=\"sk-label-container\"><div class=\"sk-label sk-toggleable\"><input class=\"sk-toggleable__control sk-hidden--visually\" id=\"sk-estimator-id-1\" type=\"checkbox\" ><label for=\"sk-estimator-id-1\" class=\"sk-toggleable__label sk-toggleable__label-arrow\">GridSearchCV</label><div class=\"sk-toggleable__content\"><pre>GridSearchCV(cv=5, estimator=SVC(),\n",
       "             param_grid={&#x27;C&#x27;: [0.1, 1, 10], &#x27;gamma&#x27;: [&#x27;scale&#x27;, &#x27;auto&#x27;],\n",
       "                         &#x27;kernel&#x27;: [&#x27;linear&#x27;]},\n",
       "             scoring=&#x27;accuracy&#x27;, verbose=1)</pre></div></div></div><div class=\"sk-parallel\"><div class=\"sk-parallel-item\"><div class=\"sk-item\"><div class=\"sk-label-container\"><div class=\"sk-label sk-toggleable\"><input class=\"sk-toggleable__control sk-hidden--visually\" id=\"sk-estimator-id-2\" type=\"checkbox\" ><label for=\"sk-estimator-id-2\" class=\"sk-toggleable__label sk-toggleable__label-arrow\">estimator: SVC</label><div class=\"sk-toggleable__content\"><pre>SVC()</pre></div></div></div><div class=\"sk-serial\"><div class=\"sk-item\"><div class=\"sk-estimator sk-toggleable\"><input class=\"sk-toggleable__control sk-hidden--visually\" id=\"sk-estimator-id-3\" type=\"checkbox\" ><label for=\"sk-estimator-id-3\" class=\"sk-toggleable__label sk-toggleable__label-arrow\">SVC</label><div class=\"sk-toggleable__content\"><pre>SVC()</pre></div></div></div></div></div></div></div></div></div></div>"
      ],
      "text/plain": [
       "GridSearchCV(cv=5, estimator=SVC(),\n",
       "             param_grid={'C': [0.1, 1, 10], 'gamma': ['scale', 'auto'],\n",
       "                         'kernel': ['linear']},\n",
       "             scoring='accuracy', verbose=1)"
      ]
     },
     "execution_count": 3,
     "metadata": {},
     "output_type": "execute_result"
    }
   ],
   "source": [
    "param_grid = {\"C\": [0.1, 1, 10], \"gamma\": [\"scale\", \"auto\"], \"kernel\": [\"linear\"]}\n",
    "\n",
    "svc = SVC()\n",
    "grid_search = GridSearchCV(estimator=svc, param_grid=param_grid, cv=5, scoring=\"accuracy\", verbose=1)\n",
    "grid_search.fit(X_train, y_train)"
   ]
  },
  {
   "cell_type": "code",
   "execution_count": 4,
   "metadata": {},
   "outputs": [
    {
     "data": {
      "text/plain": [
       "0.7027027027027027"
      ]
     },
     "execution_count": 4,
     "metadata": {},
     "output_type": "execute_result"
    }
   ],
   "source": [
    "pred = grid_search.best_estimator_.predict(X_test)\n",
    "accuracy_score(y_test, pred)"
   ]
  },
  {
   "cell_type": "code",
   "execution_count": 6,
   "metadata": {},
   "outputs": [],
   "source": [
    "save_sklearn_onnx(grid_search.best_estimator_, X_train, \"data/models/resnet-SVC-70acc.onnx\")"
   ]
  },
  {
   "cell_type": "code",
   "execution_count": 7,
   "metadata": {},
   "outputs": [
    {
     "name": "stdout",
     "output_type": "stream",
     "text": [
      "Fitting 5 folds for each of 4 candidates, totalling 20 fits\n"
     ]
    },
    {
     "data": {
      "text/html": [
       "<style>#sk-container-id-2 {color: black;}#sk-container-id-2 pre{padding: 0;}#sk-container-id-2 div.sk-toggleable {background-color: white;}#sk-container-id-2 label.sk-toggleable__label {cursor: pointer;display: block;width: 100%;margin-bottom: 0;padding: 0.3em;box-sizing: border-box;text-align: center;}#sk-container-id-2 label.sk-toggleable__label-arrow:before {content: \"▸\";float: left;margin-right: 0.25em;color: #696969;}#sk-container-id-2 label.sk-toggleable__label-arrow:hover:before {color: black;}#sk-container-id-2 div.sk-estimator:hover label.sk-toggleable__label-arrow:before {color: black;}#sk-container-id-2 div.sk-toggleable__content {max-height: 0;max-width: 0;overflow: hidden;text-align: left;background-color: #f0f8ff;}#sk-container-id-2 div.sk-toggleable__content pre {margin: 0.2em;color: black;border-radius: 0.25em;background-color: #f0f8ff;}#sk-container-id-2 input.sk-toggleable__control:checked~div.sk-toggleable__content {max-height: 200px;max-width: 100%;overflow: auto;}#sk-container-id-2 input.sk-toggleable__control:checked~label.sk-toggleable__label-arrow:before {content: \"▾\";}#sk-container-id-2 div.sk-estimator input.sk-toggleable__control:checked~label.sk-toggleable__label {background-color: #d4ebff;}#sk-container-id-2 div.sk-label input.sk-toggleable__control:checked~label.sk-toggleable__label {background-color: #d4ebff;}#sk-container-id-2 input.sk-hidden--visually {border: 0;clip: rect(1px 1px 1px 1px);clip: rect(1px, 1px, 1px, 1px);height: 1px;margin: -1px;overflow: hidden;padding: 0;position: absolute;width: 1px;}#sk-container-id-2 div.sk-estimator {font-family: monospace;background-color: #f0f8ff;border: 1px dotted black;border-radius: 0.25em;box-sizing: border-box;margin-bottom: 0.5em;}#sk-container-id-2 div.sk-estimator:hover {background-color: #d4ebff;}#sk-container-id-2 div.sk-parallel-item::after {content: \"\";width: 100%;border-bottom: 1px solid gray;flex-grow: 1;}#sk-container-id-2 div.sk-label:hover label.sk-toggleable__label {background-color: #d4ebff;}#sk-container-id-2 div.sk-serial::before {content: \"\";position: absolute;border-left: 1px solid gray;box-sizing: border-box;top: 0;bottom: 0;left: 50%;z-index: 0;}#sk-container-id-2 div.sk-serial {display: flex;flex-direction: column;align-items: center;background-color: white;padding-right: 0.2em;padding-left: 0.2em;position: relative;}#sk-container-id-2 div.sk-item {position: relative;z-index: 1;}#sk-container-id-2 div.sk-parallel {display: flex;align-items: stretch;justify-content: center;background-color: white;position: relative;}#sk-container-id-2 div.sk-item::before, #sk-container-id-2 div.sk-parallel-item::before {content: \"\";position: absolute;border-left: 1px solid gray;box-sizing: border-box;top: 0;bottom: 0;left: 50%;z-index: -1;}#sk-container-id-2 div.sk-parallel-item {display: flex;flex-direction: column;z-index: 1;position: relative;background-color: white;}#sk-container-id-2 div.sk-parallel-item:first-child::after {align-self: flex-end;width: 50%;}#sk-container-id-2 div.sk-parallel-item:last-child::after {align-self: flex-start;width: 50%;}#sk-container-id-2 div.sk-parallel-item:only-child::after {width: 0;}#sk-container-id-2 div.sk-dashed-wrapped {border: 1px dashed gray;margin: 0 0.4em 0.5em 0.4em;box-sizing: border-box;padding-bottom: 0.4em;background-color: white;}#sk-container-id-2 div.sk-label label {font-family: monospace;font-weight: bold;display: inline-block;line-height: 1.2em;}#sk-container-id-2 div.sk-label-container {text-align: center;}#sk-container-id-2 div.sk-container {/* jupyter's `normalize.less` sets `[hidden] { display: none; }` but bootstrap.min.css set `[hidden] { display: none !important; }` so we also need the `!important` here to be able to override the default hidden behavior on the sphinx rendered scikit-learn.org. See: https://github.com/scikit-learn/scikit-learn/issues/21755 */display: inline-block !important;position: relative;}#sk-container-id-2 div.sk-text-repr-fallback {display: none;}</style><div id=\"sk-container-id-2\" class=\"sk-top-container\"><div class=\"sk-text-repr-fallback\"><pre>GridSearchCV(cv=5, estimator=SGDClassifier(),\n",
       "             param_grid={&#x27;alpha&#x27;: [0.0001, 0.001],\n",
       "                         &#x27;loss&#x27;: [&#x27;log_loss&#x27;, &#x27;hinge&#x27;]},\n",
       "             scoring=&#x27;accuracy&#x27;, verbose=1)</pre><b>In a Jupyter environment, please rerun this cell to show the HTML representation or trust the notebook. <br />On GitHub, the HTML representation is unable to render, please try loading this page with nbviewer.org.</b></div><div class=\"sk-container\" hidden><div class=\"sk-item sk-dashed-wrapped\"><div class=\"sk-label-container\"><div class=\"sk-label sk-toggleable\"><input class=\"sk-toggleable__control sk-hidden--visually\" id=\"sk-estimator-id-4\" type=\"checkbox\" ><label for=\"sk-estimator-id-4\" class=\"sk-toggleable__label sk-toggleable__label-arrow\">GridSearchCV</label><div class=\"sk-toggleable__content\"><pre>GridSearchCV(cv=5, estimator=SGDClassifier(),\n",
       "             param_grid={&#x27;alpha&#x27;: [0.0001, 0.001],\n",
       "                         &#x27;loss&#x27;: [&#x27;log_loss&#x27;, &#x27;hinge&#x27;]},\n",
       "             scoring=&#x27;accuracy&#x27;, verbose=1)</pre></div></div></div><div class=\"sk-parallel\"><div class=\"sk-parallel-item\"><div class=\"sk-item\"><div class=\"sk-label-container\"><div class=\"sk-label sk-toggleable\"><input class=\"sk-toggleable__control sk-hidden--visually\" id=\"sk-estimator-id-5\" type=\"checkbox\" ><label for=\"sk-estimator-id-5\" class=\"sk-toggleable__label sk-toggleable__label-arrow\">estimator: SGDClassifier</label><div class=\"sk-toggleable__content\"><pre>SGDClassifier()</pre></div></div></div><div class=\"sk-serial\"><div class=\"sk-item\"><div class=\"sk-estimator sk-toggleable\"><input class=\"sk-toggleable__control sk-hidden--visually\" id=\"sk-estimator-id-6\" type=\"checkbox\" ><label for=\"sk-estimator-id-6\" class=\"sk-toggleable__label sk-toggleable__label-arrow\">SGDClassifier</label><div class=\"sk-toggleable__content\"><pre>SGDClassifier()</pre></div></div></div></div></div></div></div></div></div></div>"
      ],
      "text/plain": [
       "GridSearchCV(cv=5, estimator=SGDClassifier(),\n",
       "             param_grid={'alpha': [0.0001, 0.001],\n",
       "                         'loss': ['log_loss', 'hinge']},\n",
       "             scoring='accuracy', verbose=1)"
      ]
     },
     "execution_count": 7,
     "metadata": {},
     "output_type": "execute_result"
    }
   ],
   "source": [
    "param_grid = {\"loss\": [\"log_loss\", \"hinge\"], \"alpha\": [0.0001, 0.001]}\n",
    "\n",
    "sgd = SGDClassifier()\n",
    "grid_search = GridSearchCV(estimator=sgd, param_grid=param_grid, cv=5, scoring=\"accuracy\", verbose=1)\n",
    "grid_search.fit(X_train, y_train)"
   ]
  },
  {
   "cell_type": "code",
   "execution_count": 9,
   "metadata": {},
   "outputs": [
    {
     "data": {
      "text/plain": [
       "0.7138863000931966"
      ]
     },
     "execution_count": 9,
     "metadata": {},
     "output_type": "execute_result"
    }
   ],
   "source": [
    "pred = grid_search.best_estimator_.predict(X_test)\n",
    "accuracy_score(y_test, pred)"
   ]
  },
  {
   "cell_type": "code",
   "execution_count": 10,
   "metadata": {},
   "outputs": [],
   "source": [
    "save_sklearn_onnx(grid_search.best_estimator_, X_train, \"data/models/resnet-SGD-71acc.onnx\")"
   ]
  },
  {
   "cell_type": "code",
   "execution_count": 14,
   "metadata": {},
   "outputs": [
    {
     "name": "stdout",
     "output_type": "stream",
     "text": [
      "Learning rate set to 0.204354\n",
      "0:\tlearn: 2.3832257\ttest: 2.4004832\tbest: 2.4004832 (0)\ttotal: 1.39s\tremaining: 4m 35s\n",
      "1:\tlearn: 2.2793682\ttest: 2.3083602\tbest: 2.3083602 (1)\ttotal: 2.69s\tremaining: 4m 26s\n",
      "2:\tlearn: 2.2002017\ttest: 2.2418206\tbest: 2.2418206 (2)\ttotal: 4.02s\tremaining: 4m 24s\n",
      "3:\tlearn: 2.1195991\ttest: 2.1782485\tbest: 2.1782485 (3)\ttotal: 5.35s\tremaining: 4m 21s\n",
      "4:\tlearn: 2.0589311\ttest: 2.1321917\tbest: 2.1321917 (4)\ttotal: 6.67s\tremaining: 4m 20s\n",
      "5:\tlearn: 2.0100818\ttest: 2.0927373\tbest: 2.0927373 (5)\ttotal: 7.99s\tremaining: 4m 18s\n",
      "6:\tlearn: 1.9699169\ttest: 2.0679113\tbest: 2.0679113 (6)\ttotal: 9.36s\tremaining: 4m 18s\n",
      "7:\tlearn: 1.9309290\ttest: 2.0415723\tbest: 2.0415723 (7)\ttotal: 10.7s\tremaining: 4m 16s\n",
      "8:\tlearn: 1.8972441\ttest: 2.0162372\tbest: 2.0162372 (8)\ttotal: 12s\tremaining: 4m 15s\n",
      "9:\tlearn: 1.8598374\ttest: 1.9920902\tbest: 1.9920902 (9)\ttotal: 13.4s\tremaining: 4m 13s\n",
      "10:\tlearn: 1.8262297\ttest: 1.9678768\tbest: 1.9678768 (10)\ttotal: 14.6s\tremaining: 4m 10s\n",
      "11:\tlearn: 1.7836869\ttest: 1.9464836\tbest: 1.9464836 (11)\ttotal: 15.8s\tremaining: 4m 7s\n",
      "12:\tlearn: 1.7546887\ttest: 1.9241702\tbest: 1.9241702 (12)\ttotal: 17s\tremaining: 4m 4s\n",
      "13:\tlearn: 1.7250064\ttest: 1.9051127\tbest: 1.9051127 (13)\ttotal: 18.2s\tremaining: 4m 2s\n",
      "14:\tlearn: 1.6951208\ttest: 1.8871204\tbest: 1.8871204 (14)\ttotal: 19.5s\tremaining: 4m\n",
      "15:\tlearn: 1.6821333\ttest: 1.8760695\tbest: 1.8760695 (15)\ttotal: 20.7s\tremaining: 3m 57s\n",
      "16:\tlearn: 1.6522214\ttest: 1.8555244\tbest: 1.8555244 (16)\ttotal: 21.9s\tremaining: 3m 55s\n",
      "17:\tlearn: 1.6205862\ttest: 1.8406073\tbest: 1.8406073 (17)\ttotal: 23.1s\tremaining: 3m 53s\n",
      "18:\tlearn: 1.5945849\ttest: 1.8244466\tbest: 1.8244466 (18)\ttotal: 24.3s\tremaining: 3m 51s\n",
      "19:\tlearn: 1.5676892\ttest: 1.8057033\tbest: 1.8057033 (19)\ttotal: 25.5s\tremaining: 3m 49s\n",
      "20:\tlearn: 1.5457364\ttest: 1.7935296\tbest: 1.7935296 (20)\ttotal: 26.7s\tremaining: 3m 47s\n",
      "21:\tlearn: 1.5303644\ttest: 1.7874712\tbest: 1.7874712 (21)\ttotal: 28s\tremaining: 3m 46s\n",
      "22:\tlearn: 1.5124591\ttest: 1.7804798\tbest: 1.7804798 (22)\ttotal: 29.2s\tremaining: 3m 44s\n",
      "23:\tlearn: 1.4933176\ttest: 1.7690892\tbest: 1.7690892 (23)\ttotal: 30.4s\tremaining: 3m 42s\n",
      "24:\tlearn: 1.4791498\ttest: 1.7614015\tbest: 1.7614015 (24)\ttotal: 31.6s\tremaining: 3m 41s\n",
      "25:\tlearn: 1.4605903\ttest: 1.7510036\tbest: 1.7510036 (25)\ttotal: 32.8s\tremaining: 3m 39s\n",
      "26:\tlearn: 1.4392151\ttest: 1.7422693\tbest: 1.7422693 (26)\ttotal: 34s\tremaining: 3m 37s\n",
      "27:\tlearn: 1.4214777\ttest: 1.7309670\tbest: 1.7309670 (27)\ttotal: 35.2s\tremaining: 3m 36s\n",
      "28:\tlearn: 1.4041889\ttest: 1.7265077\tbest: 1.7265077 (28)\ttotal: 36.4s\tremaining: 3m 34s\n",
      "29:\tlearn: 1.3889246\ttest: 1.7181872\tbest: 1.7181872 (29)\ttotal: 37.7s\tremaining: 3m 33s\n",
      "30:\tlearn: 1.3634083\ttest: 1.7102901\tbest: 1.7102901 (30)\ttotal: 38.9s\tremaining: 3m 32s\n",
      "31:\tlearn: 1.3448130\ttest: 1.6996373\tbest: 1.6996373 (31)\ttotal: 40.2s\tremaining: 3m 30s\n",
      "32:\tlearn: 1.3236515\ttest: 1.6866900\tbest: 1.6866900 (32)\ttotal: 41.4s\tremaining: 3m 29s\n",
      "33:\tlearn: 1.3025033\ttest: 1.6768830\tbest: 1.6768830 (33)\ttotal: 42.6s\tremaining: 3m 28s\n",
      "34:\tlearn: 1.2845012\ttest: 1.6708330\tbest: 1.6708330 (34)\ttotal: 43.9s\tremaining: 3m 26s\n",
      "35:\tlearn: 1.2688205\ttest: 1.6623516\tbest: 1.6623516 (35)\ttotal: 45.1s\tremaining: 3m 25s\n",
      "36:\tlearn: 1.2528752\ttest: 1.6538036\tbest: 1.6538036 (36)\ttotal: 46.3s\tremaining: 3m 24s\n",
      "37:\tlearn: 1.2289181\ttest: 1.6398998\tbest: 1.6398998 (37)\ttotal: 47.6s\tremaining: 3m 22s\n",
      "38:\tlearn: 1.2139780\ttest: 1.6293552\tbest: 1.6293552 (38)\ttotal: 48.8s\tremaining: 3m 21s\n",
      "39:\tlearn: 1.1996488\ttest: 1.6235901\tbest: 1.6235901 (39)\ttotal: 50.1s\tremaining: 3m 20s\n",
      "40:\tlearn: 1.1861387\ttest: 1.6150674\tbest: 1.6150674 (40)\ttotal: 51.3s\tremaining: 3m 19s\n",
      "41:\tlearn: 1.1742095\ttest: 1.6066761\tbest: 1.6066761 (41)\ttotal: 52.6s\tremaining: 3m 17s\n",
      "42:\tlearn: 1.1567798\ttest: 1.5975039\tbest: 1.5975039 (42)\ttotal: 53.8s\tremaining: 3m 16s\n",
      "43:\tlearn: 1.1370802\ttest: 1.5856755\tbest: 1.5856755 (43)\ttotal: 55s\tremaining: 3m 15s\n",
      "44:\tlearn: 1.1168244\ttest: 1.5759198\tbest: 1.5759198 (44)\ttotal: 56.3s\tremaining: 3m 13s\n",
      "45:\tlearn: 1.0966365\ttest: 1.5699534\tbest: 1.5699534 (45)\ttotal: 57.5s\tremaining: 3m 12s\n",
      "46:\tlearn: 1.0890000\ttest: 1.5654648\tbest: 1.5654648 (46)\ttotal: 58.7s\tremaining: 3m 11s\n",
      "47:\tlearn: 1.0704495\ttest: 1.5554812\tbest: 1.5554812 (47)\ttotal: 60s\tremaining: 3m 9s\n",
      "48:\tlearn: 1.0552997\ttest: 1.5493910\tbest: 1.5493910 (48)\ttotal: 1m 1s\tremaining: 3m 8s\n",
      "49:\tlearn: 1.0409272\ttest: 1.5401288\tbest: 1.5401288 (49)\ttotal: 1m 2s\tremaining: 3m 7s\n",
      "50:\tlearn: 1.0217494\ttest: 1.5328728\tbest: 1.5328728 (50)\ttotal: 1m 3s\tremaining: 3m 6s\n",
      "51:\tlearn: 1.0026763\ttest: 1.5194908\tbest: 1.5194908 (51)\ttotal: 1m 4s\tremaining: 3m 4s\n",
      "52:\tlearn: 0.9841761\ttest: 1.5114544\tbest: 1.5114544 (52)\ttotal: 1m 6s\tremaining: 3m 3s\n",
      "53:\tlearn: 0.9723997\ttest: 1.5046256\tbest: 1.5046256 (53)\ttotal: 1m 7s\tremaining: 3m 2s\n",
      "54:\tlearn: 0.9596973\ttest: 1.4971389\tbest: 1.4971389 (54)\ttotal: 1m 8s\tremaining: 3m 1s\n",
      "55:\tlearn: 0.9525522\ttest: 1.4942778\tbest: 1.4942778 (55)\ttotal: 1m 9s\tremaining: 2m 59s\n",
      "56:\tlearn: 0.9401044\ttest: 1.4887326\tbest: 1.4887326 (56)\ttotal: 1m 11s\tremaining: 2m 58s\n",
      "57:\tlearn: 0.9273308\ttest: 1.4830629\tbest: 1.4830629 (57)\ttotal: 1m 12s\tremaining: 2m 57s\n",
      "58:\tlearn: 0.9218062\ttest: 1.4789917\tbest: 1.4789917 (58)\ttotal: 1m 13s\tremaining: 2m 56s\n",
      "59:\tlearn: 0.9098476\ttest: 1.4725422\tbest: 1.4725422 (59)\ttotal: 1m 14s\tremaining: 2m 54s\n",
      "60:\tlearn: 0.9028694\ttest: 1.4666517\tbest: 1.4666517 (60)\ttotal: 1m 16s\tremaining: 2m 53s\n",
      "61:\tlearn: 0.8920155\ttest: 1.4617563\tbest: 1.4617563 (61)\ttotal: 1m 17s\tremaining: 2m 52s\n",
      "62:\tlearn: 0.8796449\ttest: 1.4566163\tbest: 1.4566163 (62)\ttotal: 1m 18s\tremaining: 2m 51s\n",
      "63:\tlearn: 0.8680824\ttest: 1.4485877\tbest: 1.4485877 (63)\ttotal: 1m 19s\tremaining: 2m 49s\n",
      "64:\tlearn: 0.8581249\ttest: 1.4438848\tbest: 1.4438848 (64)\ttotal: 1m 21s\tremaining: 2m 48s\n",
      "65:\tlearn: 0.8517993\ttest: 1.4417223\tbest: 1.4417223 (65)\ttotal: 1m 22s\tremaining: 2m 47s\n",
      "66:\tlearn: 0.8481421\ttest: 1.4408160\tbest: 1.4408160 (66)\ttotal: 1m 23s\tremaining: 2m 46s\n",
      "67:\tlearn: 0.8369844\ttest: 1.4321005\tbest: 1.4321005 (67)\ttotal: 1m 25s\tremaining: 2m 45s\n",
      "68:\tlearn: 0.8239362\ttest: 1.4265128\tbest: 1.4265128 (68)\ttotal: 1m 26s\tremaining: 2m 43s\n",
      "69:\tlearn: 0.8124039\ttest: 1.4209628\tbest: 1.4209628 (69)\ttotal: 1m 27s\tremaining: 2m 42s\n",
      "70:\tlearn: 0.8018724\ttest: 1.4157328\tbest: 1.4157328 (70)\ttotal: 1m 28s\tremaining: 2m 41s\n",
      "71:\tlearn: 0.7900198\ttest: 1.4125681\tbest: 1.4125681 (71)\ttotal: 1m 30s\tremaining: 2m 40s\n",
      "72:\tlearn: 0.7820963\ttest: 1.4078126\tbest: 1.4078126 (72)\ttotal: 1m 31s\tremaining: 2m 39s\n",
      "73:\tlearn: 0.7719402\ttest: 1.4047844\tbest: 1.4047844 (73)\ttotal: 1m 32s\tremaining: 2m 38s\n",
      "74:\tlearn: 0.7584058\ttest: 1.4002642\tbest: 1.4002642 (74)\ttotal: 1m 34s\tremaining: 2m 36s\n",
      "75:\tlearn: 0.7511658\ttest: 1.3957533\tbest: 1.3957533 (75)\ttotal: 1m 35s\tremaining: 2m 35s\n",
      "76:\tlearn: 0.7462027\ttest: 1.3947209\tbest: 1.3947209 (76)\ttotal: 1m 36s\tremaining: 2m 34s\n",
      "77:\tlearn: 0.7399935\ttest: 1.3897267\tbest: 1.3897267 (77)\ttotal: 1m 38s\tremaining: 2m 33s\n",
      "78:\tlearn: 0.7344735\ttest: 1.3865755\tbest: 1.3865755 (78)\ttotal: 1m 38s\tremaining: 2m 33s\n",
      "79:\tlearn: 0.7280671\ttest: 1.3845406\tbest: 1.3845406 (79)\ttotal: 1m 41s\tremaining: 2m 34s\n",
      "80:\tlearn: 0.7236731\ttest: 1.3837202\tbest: 1.3837202 (80)\ttotal: 1m 43s\tremaining: 2m 33s\n",
      "81:\tlearn: 0.7145556\ttest: 1.3817865\tbest: 1.3817865 (81)\ttotal: 1m 44s\tremaining: 2m 32s\n",
      "82:\tlearn: 0.7123674\ttest: 1.3805349\tbest: 1.3805349 (82)\ttotal: 1m 45s\tremaining: 2m 30s\n",
      "83:\tlearn: 0.7079441\ttest: 1.3768479\tbest: 1.3768479 (83)\ttotal: 1m 47s\tremaining: 2m 29s\n",
      "84:\tlearn: 0.7003745\ttest: 1.3724897\tbest: 1.3724897 (84)\ttotal: 1m 48s\tremaining: 2m 28s\n",
      "85:\tlearn: 0.6952275\ttest: 1.3669382\tbest: 1.3669382 (85)\ttotal: 1m 49s\tremaining: 2m 26s\n",
      "86:\tlearn: 0.6916201\ttest: 1.3660855\tbest: 1.3660855 (86)\ttotal: 1m 50s\tremaining: 2m 25s\n",
      "87:\tlearn: 0.6868089\ttest: 1.3629477\tbest: 1.3629477 (87)\ttotal: 1m 51s\tremaining: 2m 24s\n",
      "88:\tlearn: 0.6797088\ttest: 1.3591878\tbest: 1.3591878 (88)\ttotal: 1m 53s\tremaining: 2m 22s\n",
      "89:\tlearn: 0.6727052\ttest: 1.3547173\tbest: 1.3547173 (89)\ttotal: 1m 54s\tremaining: 2m 21s\n",
      "90:\tlearn: 0.6671040\ttest: 1.3516912\tbest: 1.3516912 (90)\ttotal: 1m 58s\tremaining: 2m 23s\n",
      "91:\tlearn: 0.6621925\ttest: 1.3491206\tbest: 1.3491206 (91)\ttotal: 1m 59s\tremaining: 2m 21s\n",
      "92:\tlearn: 0.6591735\ttest: 1.3464934\tbest: 1.3464934 (92)\ttotal: 2m\tremaining: 2m 20s\n",
      "93:\tlearn: 0.6536977\ttest: 1.3438605\tbest: 1.3438605 (93)\ttotal: 2m 1s\tremaining: 2m 19s\n",
      "94:\tlearn: 0.6484329\ttest: 1.3415044\tbest: 1.3415044 (94)\ttotal: 2m 3s\tremaining: 2m 17s\n",
      "95:\tlearn: 0.6432135\ttest: 1.3389384\tbest: 1.3389384 (95)\ttotal: 2m 4s\tremaining: 2m 16s\n",
      "96:\tlearn: 0.6352177\ttest: 1.3362709\tbest: 1.3362709 (96)\ttotal: 2m 5s\tremaining: 2m 14s\n",
      "97:\tlearn: 0.6279477\ttest: 1.3328299\tbest: 1.3328299 (97)\ttotal: 2m 6s\tremaining: 2m 13s\n",
      "98:\tlearn: 0.6267778\ttest: 1.3323065\tbest: 1.3323065 (98)\ttotal: 2m 8s\tremaining: 2m 12s\n",
      "99:\tlearn: 0.6211723\ttest: 1.3303712\tbest: 1.3303712 (99)\ttotal: 2m 9s\tremaining: 2m 10s\n",
      "100:\tlearn: 0.6155868\ttest: 1.3286099\tbest: 1.3286099 (100)\ttotal: 2m 10s\tremaining: 2m 9s\n",
      "101:\tlearn: 0.6117812\ttest: 1.3291474\tbest: 1.3286099 (100)\ttotal: 2m 11s\tremaining: 2m 7s\n",
      "102:\tlearn: 0.6044830\ttest: 1.3268094\tbest: 1.3268094 (102)\ttotal: 2m 13s\tremaining: 2m 6s\n",
      "103:\tlearn: 0.5996012\ttest: 1.3243127\tbest: 1.3243127 (103)\ttotal: 2m 14s\tremaining: 2m 5s\n",
      "104:\tlearn: 0.5942653\ttest: 1.3233146\tbest: 1.3233146 (104)\ttotal: 2m 15s\tremaining: 2m 3s\n",
      "105:\tlearn: 0.5876521\ttest: 1.3182074\tbest: 1.3182074 (105)\ttotal: 2m 16s\tremaining: 2m 2s\n",
      "106:\tlearn: 0.5833139\ttest: 1.3156184\tbest: 1.3156184 (106)\ttotal: 2m 18s\tremaining: 2m 1s\n",
      "107:\tlearn: 0.5757118\ttest: 1.3125386\tbest: 1.3125386 (107)\ttotal: 2m 19s\tremaining: 1m 59s\n",
      "108:\tlearn: 0.5686102\ttest: 1.3118096\tbest: 1.3118096 (108)\ttotal: 2m 20s\tremaining: 1m 58s\n",
      "109:\tlearn: 0.5635907\ttest: 1.3072759\tbest: 1.3072759 (109)\ttotal: 2m 21s\tremaining: 1m 57s\n",
      "110:\tlearn: 0.5583011\ttest: 1.3024699\tbest: 1.3024699 (110)\ttotal: 2m 23s\tremaining: 1m 55s\n",
      "111:\tlearn: 0.5522944\ttest: 1.3022278\tbest: 1.3022278 (111)\ttotal: 2m 24s\tremaining: 1m 54s\n",
      "112:\tlearn: 0.5495240\ttest: 1.3003383\tbest: 1.3003383 (112)\ttotal: 2m 24s\tremaining: 1m 54s\n",
      "113:\tlearn: 0.5458090\ttest: 1.2976385\tbest: 1.2976385 (113)\ttotal: 2m 28s\tremaining: 1m 53s\n",
      "114:\tlearn: 0.5404068\ttest: 1.2946267\tbest: 1.2946267 (114)\ttotal: 2m 29s\tremaining: 1m 52s\n",
      "115:\tlearn: 0.5364939\ttest: 1.2918881\tbest: 1.2918881 (115)\ttotal: 2m 30s\tremaining: 1m 51s\n",
      "116:\tlearn: 0.5331136\ttest: 1.2912529\tbest: 1.2912529 (116)\ttotal: 2m 32s\tremaining: 1m 49s\n",
      "117:\tlearn: 0.5290986\ttest: 1.2895158\tbest: 1.2895158 (117)\ttotal: 2m 33s\tremaining: 1m 48s\n",
      "118:\tlearn: 0.5248752\ttest: 1.2857353\tbest: 1.2857353 (118)\ttotal: 2m 34s\tremaining: 1m 47s\n",
      "119:\tlearn: 0.5192836\ttest: 1.2827593\tbest: 1.2827593 (119)\ttotal: 2m 35s\tremaining: 1m 45s\n",
      "120:\tlearn: 0.5147539\ttest: 1.2800336\tbest: 1.2800336 (120)\ttotal: 2m 37s\tremaining: 1m 44s\n",
      "121:\tlearn: 0.5101201\ttest: 1.2763051\tbest: 1.2763051 (121)\ttotal: 2m 37s\tremaining: 1m 44s\n",
      "122:\tlearn: 0.5080083\ttest: 1.2743749\tbest: 1.2743749 (122)\ttotal: 2m 41s\tremaining: 1m 43s\n",
      "123:\tlearn: 0.5051670\ttest: 1.2723872\tbest: 1.2723872 (123)\ttotal: 2m 42s\tremaining: 1m 41s\n",
      "124:\tlearn: 0.5024586\ttest: 1.2711515\tbest: 1.2711515 (124)\ttotal: 2m 43s\tremaining: 1m 40s\n",
      "125:\tlearn: 0.4960404\ttest: 1.2690798\tbest: 1.2690798 (125)\ttotal: 2m 44s\tremaining: 1m 39s\n",
      "126:\tlearn: 0.4909604\ttest: 1.2657314\tbest: 1.2657314 (126)\ttotal: 2m 46s\tremaining: 1m 37s\n",
      "127:\tlearn: 0.4863721\ttest: 1.2662274\tbest: 1.2657314 (126)\ttotal: 2m 46s\tremaining: 1m 37s\n",
      "128:\tlearn: 0.4845519\ttest: 1.2652061\tbest: 1.2652061 (128)\ttotal: 2m 49s\tremaining: 1m 36s\n",
      "129:\tlearn: 0.4810568\ttest: 1.2645115\tbest: 1.2645115 (129)\ttotal: 2m 51s\tremaining: 1m 35s\n",
      "130:\tlearn: 0.4786922\ttest: 1.2624256\tbest: 1.2624256 (130)\ttotal: 2m 52s\tremaining: 1m 33s\n",
      "131:\tlearn: 0.4761390\ttest: 1.2630198\tbest: 1.2624256 (130)\ttotal: 2m 53s\tremaining: 1m 32s\n",
      "132:\tlearn: 0.4727824\ttest: 1.2619582\tbest: 1.2619582 (132)\ttotal: 2m 55s\tremaining: 1m 30s\n",
      "133:\tlearn: 0.4689861\ttest: 1.2596802\tbest: 1.2596802 (133)\ttotal: 2m 56s\tremaining: 1m 29s\n",
      "134:\tlearn: 0.4655764\ttest: 1.2567077\tbest: 1.2567077 (134)\ttotal: 2m 57s\tremaining: 1m 28s\n",
      "135:\tlearn: 0.4619363\ttest: 1.2549044\tbest: 1.2549044 (135)\ttotal: 2m 58s\tremaining: 1m 26s\n",
      "136:\tlearn: 0.4568707\ttest: 1.2521306\tbest: 1.2521306 (136)\ttotal: 3m\tremaining: 1m 25s\n",
      "137:\tlearn: 0.4536583\ttest: 1.2485804\tbest: 1.2485804 (137)\ttotal: 3m\tremaining: 1m 25s\n",
      "138:\tlearn: 0.4506089\ttest: 1.2467558\tbest: 1.2467558 (138)\ttotal: 3m 1s\tremaining: 1m 22s\n",
      "139:\tlearn: 0.4461191\ttest: 1.2459493\tbest: 1.2459493 (139)\ttotal: 3m 5s\tremaining: 1m 22s\n",
      "140:\tlearn: 0.4434521\ttest: 1.2452613\tbest: 1.2452613 (140)\ttotal: 3m 6s\tremaining: 1m 20s\n",
      "141:\tlearn: 0.4389159\ttest: 1.2425789\tbest: 1.2425789 (141)\ttotal: 3m 7s\tremaining: 1m 19s\n",
      "142:\tlearn: 0.4363162\ttest: 1.2418289\tbest: 1.2418289 (142)\ttotal: 3m 8s\tremaining: 1m 18s\n",
      "143:\tlearn: 0.4348689\ttest: 1.2407130\tbest: 1.2407130 (143)\ttotal: 3m 10s\tremaining: 1m 16s\n",
      "144:\tlearn: 0.4332772\ttest: 1.2407688\tbest: 1.2407130 (143)\ttotal: 3m 11s\tremaining: 1m 15s\n",
      "145:\tlearn: 0.4314165\ttest: 1.2408951\tbest: 1.2407130 (143)\ttotal: 3m 12s\tremaining: 1m 13s\n",
      "146:\tlearn: 0.4276489\ttest: 1.2389163\tbest: 1.2389163 (146)\ttotal: 3m 14s\tremaining: 1m 12s\n",
      "147:\tlearn: 0.4230219\ttest: 1.2365145\tbest: 1.2365145 (147)\ttotal: 3m 15s\tremaining: 1m 11s\n",
      "148:\tlearn: 0.4206440\ttest: 1.2333765\tbest: 1.2333765 (148)\ttotal: 3m 16s\tremaining: 1m 9s\n",
      "149:\tlearn: 0.4160955\ttest: 1.2316749\tbest: 1.2316749 (149)\ttotal: 3m 17s\tremaining: 1m 8s\n",
      "150:\tlearn: 0.4145489\ttest: 1.2309900\tbest: 1.2309900 (150)\ttotal: 3m 19s\tremaining: 1m 6s\n",
      "151:\tlearn: 0.4099464\ttest: 1.2295996\tbest: 1.2295996 (151)\ttotal: 3m 20s\tremaining: 1m 5s\n",
      "152:\tlearn: 0.4067723\ttest: 1.2287622\tbest: 1.2287622 (152)\ttotal: 3m 21s\tremaining: 1m 4s\n",
      "153:\tlearn: 0.4048751\ttest: 1.2272548\tbest: 1.2272548 (153)\ttotal: 3m 22s\tremaining: 1m 2s\n",
      "154:\tlearn: 0.4026076\ttest: 1.2276831\tbest: 1.2272548 (153)\ttotal: 3m 24s\tremaining: 1m 1s\n",
      "155:\tlearn: 0.4006942\ttest: 1.2266677\tbest: 1.2266677 (155)\ttotal: 3m 25s\tremaining: 59.9s\n",
      "156:\tlearn: 0.3996127\ttest: 1.2259679\tbest: 1.2259679 (156)\ttotal: 3m 26s\tremaining: 58.5s\n",
      "157:\tlearn: 0.3967643\ttest: 1.2254226\tbest: 1.2254226 (157)\ttotal: 3m 27s\tremaining: 57.1s\n",
      "158:\tlearn: 0.3943841\ttest: 1.2244672\tbest: 1.2244672 (158)\ttotal: 3m 29s\tremaining: 55.7s\n",
      "159:\tlearn: 0.3917647\ttest: 1.2245633\tbest: 1.2244672 (158)\ttotal: 3m 30s\tremaining: 54.3s\n",
      "160:\tlearn: 0.3903289\ttest: 1.2241853\tbest: 1.2241853 (160)\ttotal: 3m 31s\tremaining: 52.9s\n",
      "161:\tlearn: 0.3895382\ttest: 1.2242234\tbest: 1.2241853 (160)\ttotal: 3m 32s\tremaining: 51.5s\n",
      "162:\tlearn: 0.3853343\ttest: 1.2230957\tbest: 1.2230957 (162)\ttotal: 3m 34s\tremaining: 50.2s\n",
      "163:\tlearn: 0.3826079\ttest: 1.2214623\tbest: 1.2214623 (163)\ttotal: 3m 35s\tremaining: 48.8s\n",
      "164:\tlearn: 0.3795514\ttest: 1.2204210\tbest: 1.2204210 (164)\ttotal: 3m 35s\tremaining: 48.8s\n",
      "165:\tlearn: 0.3775797\ttest: 1.2186488\tbest: 1.2186488 (165)\ttotal: 3m 39s\tremaining: 46.6s\n",
      "166:\tlearn: 0.3747121\ttest: 1.2179138\tbest: 1.2179138 (166)\ttotal: 3m 40s\tremaining: 45.2s\n",
      "167:\tlearn: 0.3734648\ttest: 1.2174702\tbest: 1.2174702 (167)\ttotal: 3m 41s\tremaining: 43.8s\n",
      "168:\tlearn: 0.3705749\ttest: 1.2161424\tbest: 1.2161424 (168)\ttotal: 3m 43s\tremaining: 42.4s\n",
      "169:\tlearn: 0.3683540\ttest: 1.2147236\tbest: 1.2147236 (169)\ttotal: 3m 44s\tremaining: 41.1s\n",
      "170:\tlearn: 0.3662413\ttest: 1.2140369\tbest: 1.2140369 (170)\ttotal: 3m 45s\tremaining: 39.7s\n",
      "171:\tlearn: 0.3625773\ttest: 1.2127687\tbest: 1.2127687 (171)\ttotal: 3m 47s\tremaining: 38.3s\n",
      "172:\tlearn: 0.3603014\ttest: 1.2113117\tbest: 1.2113117 (172)\ttotal: 3m 48s\tremaining: 36.9s\n",
      "173:\tlearn: 0.3582482\ttest: 1.2102395\tbest: 1.2102395 (173)\ttotal: 3m 49s\tremaining: 35.5s\n",
      "174:\tlearn: 0.3560009\ttest: 1.2094751\tbest: 1.2094751 (174)\ttotal: 3m 50s\tremaining: 34.1s\n",
      "175:\tlearn: 0.3549654\ttest: 1.2085371\tbest: 1.2085371 (175)\ttotal: 3m 52s\tremaining: 32.8s\n",
      "176:\tlearn: 0.3526225\ttest: 1.2060040\tbest: 1.2060040 (176)\ttotal: 3m 53s\tremaining: 31.4s\n",
      "177:\tlearn: 0.3503840\ttest: 1.2042991\tbest: 1.2042991 (177)\ttotal: 3m 54s\tremaining: 30s\n",
      "178:\tlearn: 0.3482609\ttest: 1.2035241\tbest: 1.2035241 (178)\ttotal: 3m 55s\tremaining: 28.6s\n",
      "179:\tlearn: 0.3454391\ttest: 1.2004052\tbest: 1.2004052 (179)\ttotal: 3m 57s\tremaining: 27.3s\n",
      "180:\tlearn: 0.3435828\ttest: 1.1995833\tbest: 1.1995833 (180)\ttotal: 3m 58s\tremaining: 25.9s\n",
      "181:\tlearn: 0.3418567\ttest: 1.1976499\tbest: 1.1976499 (181)\ttotal: 3m 59s\tremaining: 24.5s\n",
      "182:\tlearn: 0.3401502\ttest: 1.1955853\tbest: 1.1955853 (182)\ttotal: 4m\tremaining: 23.1s\n",
      "183:\tlearn: 0.3382759\ttest: 1.1945135\tbest: 1.1945135 (183)\ttotal: 4m 2s\tremaining: 21.8s\n",
      "184:\tlearn: 0.3372164\ttest: 1.1936255\tbest: 1.1936255 (184)\ttotal: 4m 2s\tremaining: 21.8s\n",
      "185:\tlearn: 0.3338342\ttest: 1.1922748\tbest: 1.1922748 (185)\ttotal: 4m 6s\tremaining: 19.2s\n",
      "186:\tlearn: 0.3319526\ttest: 1.1907741\tbest: 1.1907741 (186)\ttotal: 4m 7s\tremaining: 17.9s\n",
      "187:\tlearn: 0.3297473\ttest: 1.1910562\tbest: 1.1907741 (186)\ttotal: 4m 8s\tremaining: 16.5s\n",
      "188:\tlearn: 0.3266471\ttest: 1.1898363\tbest: 1.1898363 (188)\ttotal: 4m 9s\tremaining: 15.1s\n",
      "189:\tlearn: 0.3245271\ttest: 1.1886510\tbest: 1.1886510 (189)\ttotal: 4m 11s\tremaining: 13.7s\n",
      "190:\tlearn: 0.3235141\ttest: 1.1877423\tbest: 1.1877423 (190)\ttotal: 4m 12s\tremaining: 12.3s\n",
      "191:\tlearn: 0.3219004\ttest: 1.1861665\tbest: 1.1861665 (191)\ttotal: 4m 13s\tremaining: 11s\n",
      "192:\tlearn: 0.3207586\ttest: 1.1844806\tbest: 1.1844806 (192)\ttotal: 4m 14s\tremaining: 9.59s\n",
      "193:\tlearn: 0.3177201\ttest: 1.1836916\tbest: 1.1836916 (193)\ttotal: 4m 16s\tremaining: 8.22s\n",
      "194:\tlearn: 0.3163700\ttest: 1.1829920\tbest: 1.1829920 (194)\ttotal: 4m 17s\tremaining: 6.84s\n",
      "195:\tlearn: 0.3143878\ttest: 1.1823158\tbest: 1.1823158 (195)\ttotal: 4m 18s\tremaining: 5.47s\n",
      "196:\tlearn: 0.3125984\ttest: 1.1821893\tbest: 1.1821893 (196)\ttotal: 4m 19s\tremaining: 4.1s\n",
      "197:\tlearn: 0.3116960\ttest: 1.1818297\tbest: 1.1818297 (197)\ttotal: 4m 21s\tremaining: 2.73s\n",
      "198:\tlearn: 0.3099923\ttest: 1.1806971\tbest: 1.1806971 (198)\ttotal: 4m 22s\tremaining: 1.37s\n",
      "199:\tlearn: 0.3085037\ttest: 1.1796876\tbest: 1.1796876 (199)\ttotal: 4m 23s\tremaining: 0us\n",
      "\n",
      "bestTest = 1.17968757\n",
      "bestIteration = 199\n",
      "\n"
     ]
    },
    {
     "data": {
      "text/plain": [
       "<catboost.core.CatBoostClassifier at 0x7f110379e670>"
      ]
     },
     "execution_count": 14,
     "metadata": {},
     "output_type": "execute_result"
    }
   ],
   "source": [
    "model = CatBoostClassifier(verbose=True, iterations=200)\n",
    "\n",
    "model.fit(X_train, y_train, eval_set=(X_val, y_val))"
   ]
  },
  {
   "cell_type": "code",
   "execution_count": 12,
   "metadata": {},
   "outputs": [
    {
     "data": {
      "text/plain": [
       "0.587138863000932"
      ]
     },
     "execution_count": 12,
     "metadata": {},
     "output_type": "execute_result"
    }
   ],
   "source": [
    "pred = model.predict(X_test)\n",
    "accuracy_score(y_test, pred)"
   ]
  },
  {
   "cell_type": "code",
   "execution_count": 15,
   "metadata": {},
   "outputs": [],
   "source": [
    "model.save_model(\n",
    "    \"data/models/resnet-CatBoost-58acc.onnx\",\n",
    "    format=\"onnx\",\n",
    "    export_parameters={\n",
    "        \"onnx_domain\": \"ai.catboost\",\n",
    "        \"onnx_model_version\": 1,\n",
    "        \"onnx_doc_string\": \"iterations=100 default model\",\n",
    "        \"onnx_graph_name\": \"CatBoostModel_for_MultiClassification\",\n",
    "    },\n",
    ")"
   ]
  }
 ],
 "metadata": {
  "kernelspec": {
   "display_name": "sneakers-ml-hflTz_mY-py3.9",
   "language": "python",
   "name": "python3"
  },
  "language_info": {
   "codemirror_mode": {
    "name": "ipython",
    "version": 3
   },
   "file_extension": ".py",
   "mimetype": "text/x-python",
   "name": "python",
   "nbconvert_exporter": "python",
   "pygments_lexer": "ipython3",
   "version": "3.9.16"
  }
 },
 "nbformat": 4,
 "nbformat_minor": 2
}
