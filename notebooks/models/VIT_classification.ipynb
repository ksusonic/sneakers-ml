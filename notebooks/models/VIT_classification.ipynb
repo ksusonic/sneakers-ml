{
  "nbformat": 4,
  "nbformat_minor": 2,
  "metadata": {},
  "cells": [
    {
      "metadata": {},
      "source": [
        "import numpy as np\n",
        "import torch\n",
        "from datasets import load_dataset, load_metric\n",
        "from transformers import Trainer, TrainingArguments, ViTForImageClassification, ViTImageProcessor"
      ],
      "cell_type": "code",
      "outputs": [],
      "execution_count": null
    },
    {
      "metadata": {},
      "source": [
        "train = \"data/training/brands-classification/train\"\n",
        "val = \"data/training/brands-classification/val\"\n",
        "test = \"data/training/brands-classification/test\""
      ],
      "cell_type": "code",
      "outputs": [],
      "execution_count": null
    },
    {
      "metadata": {},
      "source": [
        "model_name_or_path = \"google/vit-base-patch16-224-in21k\"\n",
        "processor = ViTImageProcessor.from_pretrained(model_name_or_path)"
      ],
      "cell_type": "code",
      "outputs": [],
      "execution_count": null
    },
    {
      "metadata": {},
      "source": [
        "dataset_train = load_dataset(\"imagefolder\", data_dir=train)[\"train\"]\n",
        "dataset_val = load_dataset(\"imagefolder\", data_dir=val)[\"train\"]\n",
        "dataset_test = load_dataset(\"imagefolder\", data_dir=test)[\"train\"]"
      ],
      "cell_type": "code",
      "outputs": [
        {
          "output_type": "display_data",
          "data": {
            "application/vnd.jupyter.widget-view+json": {
              "model_id": "9755417b936144c79656655b8d1e1a5d",
              "version_major": 2,
              "version_minor": 0
            },
            "text/plain": [
              "Resolving data files:   0%|          | 0/3180 [00:00<?, ?it/s]"
            ]
          },
          "metadata": {}
        },
        {
          "output_type": "display_data",
          "data": {
            "application/vnd.jupyter.widget-view+json": {
              "model_id": "37cd65ce44354da4b77e75aaa171c6fb",
              "version_major": 2,
              "version_minor": 0
            },
            "text/plain": [
              "Resolving data files:   0%|          | 0/1056 [00:00<?, ?it/s]"
            ]
          },
          "metadata": {}
        },
        {
          "output_type": "display_data",
          "data": {
            "application/vnd.jupyter.widget-view+json": {
              "model_id": "e2bc33e1089448a98deba040c5bd9715",
              "version_major": 2,
              "version_minor": 0
            },
            "text/plain": [
              "Resolving data files:   0%|          | 0/1073 [00:00<?, ?it/s]"
            ]
          },
          "metadata": {}
        }
      ],
      "execution_count": null
    },
    {
      "metadata": {},
      "source": [
        "def process_example(example):\n",
        "    inputs = processor(example[\"image\"], return_tensors=\"pt\")\n",
        "    inputs[\"labels\"] = example[\"label\"]\n",
        "    return inputs"
      ],
      "cell_type": "code",
      "outputs": [],
      "execution_count": null
    },
    {
      "metadata": {},
      "source": [
        "def transform(example_batch):\n",
        "    inputs = processor([x for x in example_batch[\"image\"]], return_tensors=\"pt\")\n",
        "    inputs[\"labels\"] = example_batch[\"label\"]\n",
        "    return inputs"
      ],
      "cell_type": "code",
      "outputs": [],
      "execution_count": null
    },
    {
      "metadata": {},
      "source": [
        "processed_train = dataset_train.with_transform(transform)\n",
        "processed_val = dataset_val.with_transform(transform)\n",
        "processed_test = dataset_test.with_transform(transform)"
      ],
      "cell_type": "code",
      "outputs": [],
      "execution_count": null
    },
    {
      "metadata": {},
      "source": [
        "def collate_fn(batch):\n",
        "    return {\n",
        "        \"pixel_values\": torch.stack([x[\"pixel_values\"] for x in batch]),\n",
        "        \"labels\": torch.tensor([x[\"labels\"] for x in batch]),\n",
        "    }"
      ],
      "cell_type": "code",
      "outputs": [],
      "execution_count": null
    },
    {
      "metadata": {},
      "source": [
        "metric = load_metric(\"f1\")\n",
        "\n",
        "\n",
        "def compute_metrics(p):\n",
        "    return metric.compute(predictions=np.argmax(p.predictions, axis=1), references=p.label_ids, average=\"macro\")"
      ],
      "cell_type": "code",
      "outputs": [
        {
          "output_type": "stream",
          "name": "stderr",
          "text": [
            "/tmp/ipykernel_29142/2001137882.py:1: FutureWarning: load_metric is deprecated and will be removed in the next major version of datasets. Use 'evaluate.load' instead, from the new library \ud83e\udd17 Evaluate: https://huggingface.co/docs/evaluate\n",
            "  metric = load_metric(\"f1\")\n",
            "/home/seara/Desktop/Github/sneakers-ml/.venv/lib/python3.9/site-packages/datasets/load.py:759: FutureWarning: The repository for f1 contains custom code which must be executed to correctly load the metric. You can inspect the repository content at https://raw.githubusercontent.com/huggingface/datasets/2.19.1/metrics/f1/f1.py\n",
            "You can avoid this message in future by passing the argument `trust_remote_code=True`.\n",
            "Passing `trust_remote_code=True` will be mandatory to load this metric from the next major release of `datasets`.\n",
            "  warnings.warn(\n"
          ]
        }
      ],
      "execution_count": null
    },
    {
      "metadata": {},
      "source": [
        "labels = dataset_train.features[\"label\"].names\n",
        "\n",
        "model = ViTForImageClassification.from_pretrained(\n",
        "    model_name_or_path,\n",
        "    num_labels=len(labels),\n",
        "    id2label={str(i): c for i, c in enumerate(labels)},\n",
        "    label2id={c: str(i) for i, c in enumerate(labels)},\n",
        ")"
      ],
      "cell_type": "code",
      "outputs": [
        {
          "output_type": "stream",
          "name": "stderr",
          "text": [
            "Some weights of ViTForImageClassification were not initialized from the model checkpoint at google/vit-base-patch16-224-in21k and are newly initialized: ['classifier.bias', 'classifier.weight']\n",
            "You should probably TRAIN this model on a down-stream task to be able to use it for predictions and inference.\n"
          ]
        }
      ],
      "execution_count": null
    },
    {
      "metadata": {},
      "source": [
        "torch.set_float32_matmul_precision(\"medium\")\n",
        "training_args = TrainingArguments(\n",
        "    output_dir=\"./vit-test-haha\",\n",
        "    per_device_train_batch_size=16,\n",
        "    eval_strategy=\"steps\",\n",
        "    num_train_epochs=4,\n",
        "    fp16=True,\n",
        "    save_steps=100,\n",
        "    eval_steps=100,\n",
        "    logging_steps=10,\n",
        "    learning_rate=2e-4,\n",
        "    save_total_limit=2,\n",
        "    remove_unused_columns=False,\n",
        "    push_to_hub=False,\n",
        "    report_to=None,\n",
        "    load_best_model_at_end=True,\n",
        ")"
      ],
      "cell_type": "code",
      "outputs": [],
      "execution_count": null
    },
    {
      "metadata": {},
      "source": [
        "trainer = Trainer(\n",
        "    model=model,\n",
        "    args=training_args,\n",
        "    data_collator=collate_fn,\n",
        "    compute_metrics=compute_metrics,\n",
        "    train_dataset=processed_train,\n",
        "    eval_dataset=processed_val,\n",
        "    tokenizer=processor,\n",
        ")"
      ],
      "cell_type": "code",
      "outputs": [],
      "execution_count": null
    },
    {
      "metadata": {},
      "source": [
        "train_results = trainer.train()\n",
        "trainer.save_model()\n",
        "trainer.log_metrics(\"train\", train_results.metrics)\n",
        "trainer.save_metrics(\"train\", train_results.metrics)\n",
        "trainer.save_state()"
      ],
      "cell_type": "code",
      "outputs": [
        {
          "output_type": "stream",
          "name": "stderr",
          "text": [
            "\u001b[34m\u001b[1mwandb\u001b[0m: \u001b[33mWARNING\u001b[0m The `run_name` is currently set to the same value as `TrainingArguments.output_dir`. If this was not intended, please specify a different run name by setting the `TrainingArguments.run_name` parameter.\n",
            "Failed to detect the name of this notebook, you can set it manually with the WANDB_NOTEBOOK_NAME environment variable to enable code saving.\n",
            "\u001b[34m\u001b[1mwandb\u001b[0m: Currently logged in as: \u001b[33mseara\u001b[0m. Use \u001b[1m`wandb login --relogin`\u001b[0m to force relogin\n"
          ]
        },
        {
          "output_type": "display_data",
          "data": {
            "text/html": [
              "wandb version 0.17.0 is available!  To upgrade, please run:\n",
              " $ pip install wandb --upgrade"
            ],
            "text/plain": [
              "<IPython.core.display.HTML object>"
            ]
          },
          "metadata": {}
        },
        {
          "output_type": "display_data",
          "data": {
            "text/html": [
              "Tracking run with wandb version 0.16.6"
            ],
            "text/plain": [
              "<IPython.core.display.HTML object>"
            ]
          },
          "metadata": {}
        },
        {
          "output_type": "display_data",
          "data": {
            "text/html": [
              "Run data is saved locally in <code>/home/seara/Desktop/Github/sneakers-ml/wandb/run-20240520_152136-d80rvbie</code>"
            ],
            "text/plain": [
              "<IPython.core.display.HTML object>"
            ]
          },
          "metadata": {}
        },
        {
          "output_type": "display_data",
          "data": {
            "text/html": [
              "Syncing run <strong><a href='https://wandb.ai/seara/huggingface/runs/d80rvbie' target=\"_blank\">./vit-test-haha</a></strong> to <a href='https://wandb.ai/seara/huggingface' target=\"_blank\">Weights & Biases</a> (<a href='https://wandb.me/run' target=\"_blank\">docs</a>)<br/>"
            ],
            "text/plain": [
              "<IPython.core.display.HTML object>"
            ]
          },
          "metadata": {}
        },
        {
          "output_type": "display_data",
          "data": {
            "text/html": [
              " View project at <a href='https://wandb.ai/seara/huggingface' target=\"_blank\">https://wandb.ai/seara/huggingface</a>"
            ],
            "text/plain": [
              "<IPython.core.display.HTML object>"
            ]
          },
          "metadata": {}
        },
        {
          "output_type": "display_data",
          "data": {
            "text/html": [
              " View run at <a href='https://wandb.ai/seara/huggingface/runs/d80rvbie' target=\"_blank\">https://wandb.ai/seara/huggingface/runs/d80rvbie</a>"
            ],
            "text/plain": [
              "<IPython.core.display.HTML object>"
            ]
          },
          "metadata": {}
        },
        {
          "output_type": "display_data",
          "data": {
            "application/vnd.jupyter.widget-view+json": {
              "model_id": "0999c91b69e746ea885cefff89fbd71a",
              "version_major": 2,
              "version_minor": 0
            },
            "text/plain": [
              "  0%|          | 0/796 [00:00<?, ?it/s]"
            ]
          },
          "metadata": {}
        },
        {
          "output_type": "stream",
          "name": "stdout",
          "text": [
            "{'loss': 2.2907, 'grad_norm': 1.9101554155349731, 'learning_rate': 0.00019748743718592964, 'epoch': 0.05}\n",
            "{'loss': 2.1433, 'grad_norm': 1.2307591438293457, 'learning_rate': 0.0001949748743718593, 'epoch': 0.1}\n",
            "{'loss': 2.1865, 'grad_norm': 1.8704218864440918, 'learning_rate': 0.00019246231155778894, 'epoch': 0.15}\n",
            "{'loss': 1.9985, 'grad_norm': 1.9788798093795776, 'learning_rate': 0.0001899497487437186, 'epoch': 0.2}\n",
            "{'loss': 1.8115, 'grad_norm': 2.2659542560577393, 'learning_rate': 0.00018743718592964824, 'epoch': 0.25}\n",
            "{'loss': 1.683, 'grad_norm': 1.8437142372131348, 'learning_rate': 0.0001849246231155779, 'epoch': 0.3}\n",
            "{'loss': 1.4762, 'grad_norm': 1.966007947921753, 'learning_rate': 0.00018241206030150754, 'epoch': 0.35}\n",
            "{'loss': 1.5186, 'grad_norm': 2.184659004211426, 'learning_rate': 0.0001798994974874372, 'epoch': 0.4}\n",
            "{'loss': 1.3483, 'grad_norm': 2.2431647777557373, 'learning_rate': 0.00017738693467336683, 'epoch': 0.45}\n",
            "{'loss': 1.4529, 'grad_norm': 1.721116065979004, 'learning_rate': 0.0001748743718592965, 'epoch': 0.5}\n"
          ]
        },
        {
          "output_type": "display_data",
          "data": {
            "application/vnd.jupyter.widget-view+json": {
              "model_id": "99e2bcb8fdcb446cbc4b54e20bd50c9c",
              "version_major": 2,
              "version_minor": 0
            },
            "text/plain": [
              "  0%|          | 0/132 [00:00<?, ?it/s]"
            ]
          },
          "metadata": {}
        },
        {
          "output_type": "stream",
          "name": "stdout",
          "text": [
            "{'eval_loss': 1.3831318616867065, 'eval_f1': 0.3315470427743947, 'eval_runtime': 38.7593, 'eval_samples_per_second': 27.245, 'eval_steps_per_second': 3.406, 'epoch': 0.5}\n",
            "{'loss': 1.4171, 'grad_norm': 3.016906499862671, 'learning_rate': 0.00017236180904522613, 'epoch': 0.55}\n",
            "{'loss': 1.4334, 'grad_norm': 2.3731658458709717, 'learning_rate': 0.0001698492462311558, 'epoch': 0.6}\n",
            "{'loss': 1.1782, 'grad_norm': 2.233245372772217, 'learning_rate': 0.00016733668341708543, 'epoch': 0.65}\n",
            "{'loss': 1.3665, 'grad_norm': 2.1476986408233643, 'learning_rate': 0.0001648241206030151, 'epoch': 0.7}\n",
            "{'loss': 1.3651, 'grad_norm': 3.164194345474243, 'learning_rate': 0.00016231155778894472, 'epoch': 0.75}\n",
            "{'loss': 1.055, 'grad_norm': 1.9065033197402954, 'learning_rate': 0.00015979899497487439, 'epoch': 0.8}\n",
            "{'loss': 1.0722, 'grad_norm': 2.5833590030670166, 'learning_rate': 0.00015728643216080402, 'epoch': 0.85}\n",
            "{'loss': 1.103, 'grad_norm': 2.480142831802368, 'learning_rate': 0.00015477386934673368, 'epoch': 0.9}\n",
            "{'loss': 1.0513, 'grad_norm': 5.116810321807861, 'learning_rate': 0.00015226130653266332, 'epoch': 0.95}\n",
            "{'loss': 0.971, 'grad_norm': 2.601193428039551, 'learning_rate': 0.00014974874371859298, 'epoch': 1.01}\n"
          ]
        },
        {
          "output_type": "display_data",
          "data": {
            "application/vnd.jupyter.widget-view+json": {
              "model_id": "f3cf02ce0c31450a8fd28556e80ad545",
              "version_major": 2,
              "version_minor": 0
            },
            "text/plain": [
              "  0%|          | 0/132 [00:00<?, ?it/s]"
            ]
          },
          "metadata": {}
        },
        {
          "output_type": "stream",
          "name": "stdout",
          "text": [
            "{'eval_loss': 0.9603229761123657, 'eval_f1': 0.5694931352073987, 'eval_runtime': 37.505, 'eval_samples_per_second': 28.156, 'eval_steps_per_second': 3.52, 'epoch': 1.01}\n",
            "{'loss': 0.742, 'grad_norm': 3.5974786281585693, 'learning_rate': 0.00014723618090452262, 'epoch': 1.06}\n",
            "{'loss': 0.7475, 'grad_norm': 3.379312753677368, 'learning_rate': 0.00014472361809045228, 'epoch': 1.11}\n",
            "{'loss': 0.8044, 'grad_norm': 1.1737242937088013, 'learning_rate': 0.0001422110552763819, 'epoch': 1.16}\n",
            "{'loss': 0.7112, 'grad_norm': 2.8028833866119385, 'learning_rate': 0.00013969849246231157, 'epoch': 1.21}\n",
            "{'loss': 0.6777, 'grad_norm': 1.318703532218933, 'learning_rate': 0.0001371859296482412, 'epoch': 1.26}\n",
            "{'loss': 0.6579, 'grad_norm': 7.204718112945557, 'learning_rate': 0.00013467336683417087, 'epoch': 1.31}\n",
            "{'loss': 0.6951, 'grad_norm': 4.691657066345215, 'learning_rate': 0.0001321608040201005, 'epoch': 1.36}\n",
            "{'loss': 0.5314, 'grad_norm': 3.737499237060547, 'learning_rate': 0.00012964824120603017, 'epoch': 1.41}\n",
            "{'loss': 0.6049, 'grad_norm': 1.8179794549942017, 'learning_rate': 0.0001271356783919598, 'epoch': 1.46}\n",
            "{'loss': 0.6082, 'grad_norm': 3.7298386096954346, 'learning_rate': 0.00012462311557788947, 'epoch': 1.51}\n"
          ]
        },
        {
          "output_type": "display_data",
          "data": {
            "application/vnd.jupyter.widget-view+json": {
              "model_id": "45abc9ba1c3b452ab91e9c8b9cdbabad",
              "version_major": 2,
              "version_minor": 0
            },
            "text/plain": [
              "  0%|          | 0/132 [00:00<?, ?it/s]"
            ]
          },
          "metadata": {}
        },
        {
          "output_type": "stream",
          "name": "stdout",
          "text": [
            "{'eval_loss': 0.7611491084098816, 'eval_f1': 0.6781339812075372, 'eval_runtime': 38.759, 'eval_samples_per_second': 27.245, 'eval_steps_per_second': 3.406, 'epoch': 1.51}\n",
            "{'loss': 0.5227, 'grad_norm': 0.8119794726371765, 'learning_rate': 0.0001221105527638191, 'epoch': 1.56}\n",
            "{'loss': 0.6224, 'grad_norm': 3.787081003189087, 'learning_rate': 0.00011959798994974876, 'epoch': 1.61}\n",
            "{'loss': 0.5572, 'grad_norm': 2.158644676208496, 'learning_rate': 0.00011708542713567841, 'epoch': 1.66}\n",
            "{'loss': 0.4889, 'grad_norm': 3.384948492050171, 'learning_rate': 0.00011457286432160806, 'epoch': 1.71}\n",
            "{'loss': 0.4804, 'grad_norm': 3.0189106464385986, 'learning_rate': 0.00011206030150753771, 'epoch': 1.76}\n",
            "{'loss': 0.6797, 'grad_norm': 2.7612946033477783, 'learning_rate': 0.00010954773869346736, 'epoch': 1.81}\n",
            "{'loss': 0.5157, 'grad_norm': 2.9752326011657715, 'learning_rate': 0.00010703517587939699, 'epoch': 1.86}\n",
            "{'loss': 0.5046, 'grad_norm': 3.178652286529541, 'learning_rate': 0.00010452261306532664, 'epoch': 1.91}\n",
            "{'loss': 0.4934, 'grad_norm': 3.9198217391967773, 'learning_rate': 0.00010201005025125629, 'epoch': 1.96}\n",
            "{'loss': 0.4488, 'grad_norm': 1.806957721710205, 'learning_rate': 9.949748743718594e-05, 'epoch': 2.01}\n"
          ]
        },
        {
          "output_type": "display_data",
          "data": {
            "application/vnd.jupyter.widget-view+json": {
              "model_id": "73c3059c9cc54c388c88dfdd49170fae",
              "version_major": 2,
              "version_minor": 0
            },
            "text/plain": [
              "  0%|          | 0/132 [00:00<?, ?it/s]"
            ]
          },
          "metadata": {}
        },
        {
          "output_type": "stream",
          "name": "stdout",
          "text": [
            "{'eval_loss': 0.7172240018844604, 'eval_f1': 0.7165990905139457, 'eval_runtime': 38.4642, 'eval_samples_per_second': 27.454, 'eval_steps_per_second': 3.432, 'epoch': 2.01}\n",
            "{'loss': 0.3239, 'grad_norm': 2.813413619995117, 'learning_rate': 9.698492462311559e-05, 'epoch': 2.06}\n",
            "{'loss': 0.2804, 'grad_norm': 2.519469738006592, 'learning_rate': 9.447236180904523e-05, 'epoch': 2.11}\n",
            "{'loss': 0.2292, 'grad_norm': 0.30940479040145874, 'learning_rate': 9.195979899497488e-05, 'epoch': 2.16}\n",
            "{'loss': 0.2202, 'grad_norm': 1.8282064199447632, 'learning_rate': 8.944723618090453e-05, 'epoch': 2.21}\n",
            "{'loss': 0.2516, 'grad_norm': 1.2169932126998901, 'learning_rate': 8.693467336683418e-05, 'epoch': 2.26}\n",
            "{'loss': 0.262, 'grad_norm': 0.6905980110168457, 'learning_rate': 8.442211055276383e-05, 'epoch': 2.31}\n",
            "{'loss': 0.2509, 'grad_norm': 0.9855825901031494, 'learning_rate': 8.190954773869348e-05, 'epoch': 2.36}\n",
            "{'loss': 0.1775, 'grad_norm': 5.226966381072998, 'learning_rate': 7.939698492462313e-05, 'epoch': 2.41}\n",
            "{'loss': 0.1417, 'grad_norm': 2.669900894165039, 'learning_rate': 7.688442211055277e-05, 'epoch': 2.46}\n",
            "{'loss': 0.17, 'grad_norm': 2.065974712371826, 'learning_rate': 7.437185929648241e-05, 'epoch': 2.51}\n"
          ]
        },
        {
          "output_type": "display_data",
          "data": {
            "application/vnd.jupyter.widget-view+json": {
              "model_id": "fe45e7be14ff4dde85efc78a1847f5ba",
              "version_major": 2,
              "version_minor": 0
            },
            "text/plain": [
              "  0%|          | 0/132 [00:00<?, ?it/s]"
            ]
          },
          "metadata": {}
        },
        {
          "output_type": "stream",
          "name": "stdout",
          "text": [
            "{'eval_loss': 0.5569721460342407, 'eval_f1': 0.8077620632678191, 'eval_runtime': 38.5846, 'eval_samples_per_second': 27.368, 'eval_steps_per_second': 3.421, 'epoch': 2.51}\n",
            "{'loss': 0.1277, 'grad_norm': 0.9726919531822205, 'learning_rate': 7.185929648241206e-05, 'epoch': 2.56}\n",
            "{'loss': 0.2243, 'grad_norm': 0.2577843964099884, 'learning_rate': 6.93467336683417e-05, 'epoch': 2.61}\n",
            "{'loss': 0.1326, 'grad_norm': 0.9168246388435364, 'learning_rate': 6.683417085427135e-05, 'epoch': 2.66}\n",
            "{'loss': 0.1234, 'grad_norm': 0.44683143496513367, 'learning_rate': 6.4321608040201e-05, 'epoch': 2.71}\n",
            "{'loss': 0.2775, 'grad_norm': 2.5073421001434326, 'learning_rate': 6.180904522613065e-05, 'epoch': 2.76}\n",
            "{'loss': 0.1137, 'grad_norm': 0.28586140275001526, 'learning_rate': 5.929648241206031e-05, 'epoch': 2.81}\n",
            "{'loss': 0.1458, 'grad_norm': 1.7539912462234497, 'learning_rate': 5.6783919597989955e-05, 'epoch': 2.86}\n",
            "{'loss': 0.1662, 'grad_norm': 1.5686002969741821, 'learning_rate': 5.4271356783919604e-05, 'epoch': 2.91}\n",
            "{'loss': 0.2595, 'grad_norm': 3.307624340057373, 'learning_rate': 5.175879396984925e-05, 'epoch': 2.96}\n",
            "{'loss': 0.1582, 'grad_norm': 0.16869737207889557, 'learning_rate': 4.92462311557789e-05, 'epoch': 3.02}\n"
          ]
        },
        {
          "output_type": "display_data",
          "data": {
            "application/vnd.jupyter.widget-view+json": {
              "model_id": "d44f5575897d42b883f3b937f6881142",
              "version_major": 2,
              "version_minor": 0
            },
            "text/plain": [
              "  0%|          | 0/132 [00:00<?, ?it/s]"
            ]
          },
          "metadata": {}
        },
        {
          "output_type": "stream",
          "name": "stdout",
          "text": [
            "{'eval_loss': 0.4873565435409546, 'eval_f1': 0.8393693805239075, 'eval_runtime': 37.1116, 'eval_samples_per_second': 28.455, 'eval_steps_per_second': 3.557, 'epoch': 3.02}\n",
            "{'loss': 0.1083, 'grad_norm': 1.5319398641586304, 'learning_rate': 4.673366834170855e-05, 'epoch': 3.07}\n",
            "{'loss': 0.0622, 'grad_norm': 1.3283040523529053, 'learning_rate': 4.42211055276382e-05, 'epoch': 3.12}\n",
            "{'loss': 0.0701, 'grad_norm': 0.9043460488319397, 'learning_rate': 4.170854271356784e-05, 'epoch': 3.17}\n",
            "{'loss': 0.0535, 'grad_norm': 0.1634153425693512, 'learning_rate': 3.919597989949749e-05, 'epoch': 3.22}\n",
            "{'loss': 0.0504, 'grad_norm': 0.8389099836349487, 'learning_rate': 3.668341708542714e-05, 'epoch': 3.27}\n",
            "{'loss': 0.0586, 'grad_norm': 0.7816864848136902, 'learning_rate': 3.4170854271356785e-05, 'epoch': 3.32}\n",
            "{'loss': 0.0496, 'grad_norm': 0.350990355014801, 'learning_rate': 3.1658291457286434e-05, 'epoch': 3.37}\n",
            "{'loss': 0.0699, 'grad_norm': 0.15425150096416473, 'learning_rate': 2.914572864321608e-05, 'epoch': 3.42}\n",
            "{'loss': 0.052, 'grad_norm': 0.2501065135002136, 'learning_rate': 2.6633165829145728e-05, 'epoch': 3.47}\n",
            "{'loss': 0.0605, 'grad_norm': 1.7463507652282715, 'learning_rate': 2.4120603015075376e-05, 'epoch': 3.52}\n"
          ]
        },
        {
          "output_type": "display_data",
          "data": {
            "application/vnd.jupyter.widget-view+json": {
              "model_id": "fa9f244e82c842339f226c9058e042df",
              "version_major": 2,
              "version_minor": 0
            },
            "text/plain": [
              "  0%|          | 0/132 [00:00<?, ?it/s]"
            ]
          },
          "metadata": {}
        },
        {
          "output_type": "stream",
          "name": "stdout",
          "text": [
            "{'eval_loss': 0.4826359748840332, 'eval_f1': 0.8492492861392744, 'eval_runtime': 38.9998, 'eval_samples_per_second': 27.077, 'eval_steps_per_second': 3.385, 'epoch': 3.52}\n",
            "{'loss': 0.056, 'grad_norm': 0.11402419209480286, 'learning_rate': 2.1608040201005025e-05, 'epoch': 3.57}\n",
            "{'loss': 0.0343, 'grad_norm': 0.27066585421562195, 'learning_rate': 1.9095477386934673e-05, 'epoch': 3.62}\n",
            "{'loss': 0.0689, 'grad_norm': 0.12199786305427551, 'learning_rate': 1.6582914572864322e-05, 'epoch': 3.67}\n",
            "{'loss': 0.0853, 'grad_norm': 1.1182750463485718, 'learning_rate': 1.407035175879397e-05, 'epoch': 3.72}\n",
            "{'loss': 0.0349, 'grad_norm': 0.11539046466350555, 'learning_rate': 1.1557788944723619e-05, 'epoch': 3.77}\n",
            "{'loss': 0.0327, 'grad_norm': 0.09080767631530762, 'learning_rate': 9.045226130653267e-06, 'epoch': 3.82}\n",
            "{'loss': 0.0352, 'grad_norm': 0.07864534109830856, 'learning_rate': 6.532663316582915e-06, 'epoch': 3.87}\n",
            "{'loss': 0.0417, 'grad_norm': 0.10149459540843964, 'learning_rate': 4.020100502512563e-06, 'epoch': 3.92}\n",
            "{'loss': 0.035, 'grad_norm': 0.08977869153022766, 'learning_rate': 1.507537688442211e-06, 'epoch': 3.97}\n",
            "{'train_runtime': 902.7627, 'train_samples_per_second': 14.09, 'train_steps_per_second': 0.882, 'train_loss': 0.5922452111040527, 'epoch': 4.0}\n",
            "***** train metrics *****\n",
            "  epoch                    =         4.0\n",
            "  total_flos               = 918093405GF\n",
            "  train_loss               =      0.5922\n",
            "  train_runtime            =  0:15:02.76\n",
            "  train_samples_per_second =       14.09\n",
            "  train_steps_per_second   =       0.882\n"
          ]
        }
      ],
      "execution_count": null
    },
    {
      "metadata": {},
      "source": [
        "metrics = trainer.evaluate(processed_test)\n",
        "trainer.log_metrics(\"eval\", metrics)\n",
        "trainer.save_metrics(\"eval\", metrics)"
      ],
      "cell_type": "code",
      "outputs": [
        {
          "output_type": "display_data",
          "data": {
            "application/vnd.jupyter.widget-view+json": {
              "model_id": "c8bfd64e6227463f8a66335d98a6e26c",
              "version_major": 2,
              "version_minor": 0
            },
            "text/plain": [
              "  0%|          | 0/135 [00:00<?, ?it/s]"
            ]
          },
          "metadata": {}
        },
        {
          "output_type": "stream",
          "name": "stdout",
          "text": [
            "{'eval_loss': 0.4186634421348572, 'eval_f1': 0.8608476791988378, 'eval_runtime': 67.1903, 'eval_samples_per_second': 15.97, 'eval_steps_per_second': 2.009, 'epoch': 0.01}\n",
            "***** eval metrics *****\n",
            "  epoch                   =     0.0101\n",
            "  eval_f1                 =     0.8608\n",
            "  eval_loss               =     0.4187\n",
            "  eval_runtime            = 0:01:07.19\n",
            "  eval_samples_per_second =      15.97\n",
            "  eval_steps_per_second   =      2.009\n"
          ]
        }
      ],
      "execution_count": null
    },
    {
      "metadata": {},
      "source": [],
      "cell_type": "code",
      "outputs": [],
      "execution_count": null
    }
  ]
}
