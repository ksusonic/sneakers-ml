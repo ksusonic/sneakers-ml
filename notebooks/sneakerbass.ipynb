{
 "cells": [
  {
   "cell_type": "code",
   "execution_count": 1,
   "metadata": {},
   "outputs": [],
   "source": [
    "from bs4 import BeautifulSoup\n",
    "import requests\n",
    "from fake_useragent import UserAgent\n",
    "from urllib.parse import urlparse, urlsplit, urljoin\n",
    "import re\n",
    "import os\n",
    "from tqdm.auto import tqdm, trange\n",
    "import pandas as pd\n",
    "from pathlib import Path\n",
    "\n",
    "HEADERS = {\"User-Agent\": UserAgent().random}\n",
    "\n",
    "WEBSITE_NAME = \"sneakerbaas\"\n",
    "COLLECTIONS_URL = \"https://www.sneakerbaas.com/collections/sneakers/\"\n",
    "HOSTNAME_URL = \"https://www.sneakerbaas.com/\"\n",
    "COLLECTIONS = [\n",
    "    \"category-kids\",\n",
    "    \"category-unisex\",\n",
    "    \"category-women\",\n",
    "    \"category-men\",\n",
    "]\n",
    "\n",
    "\n",
    "def get_hostname_url(url):\n",
    "    parsed_url = urlsplit(url)\n",
    "    return f\"{parsed_url.scheme}://{parsed_url.netloc}\"\n",
    "\n",
    "\n",
    "def remove_query_from_url(url):\n",
    "    return urlparse(url)._replace(query=\"\").geturl()\n",
    "\n",
    "\n",
    "def add_https_to_url(url):\n",
    "    return urlparse(url)._replace(scheme=\"https\").geturl()\n",
    "\n",
    "\n",
    "def get_image_extension(url):\n",
    "    return \".\" + urlparse(url).path.split(\"/\")[-1].split(\".\")[1]\n",
    "\n",
    "\n",
    "def get_max_file_name(folder):\n",
    "    path_iter = Path(folder).iterdir()\n",
    "    if any(path_iter):\n",
    "        return int(\n",
    "            max(\n",
    "                (Path(fn).stem for fn in Path(folder).iterdir()),\n",
    "                key=lambda fn: int(Path(fn).stem),\n",
    "            )\n",
    "        )\n",
    "    else:\n",
    "        return -1\n",
    "\n",
    "\n",
    "def add_page_to_url(url, page_number):\n",
    "    return urlparse(url)._replace(query=f\"page={page_number}\").geturl()"
   ]
  },
  {
   "cell_type": "code",
   "execution_count": 2,
   "metadata": {},
   "outputs": [],
   "source": [
    "# url = \"https://www.sneakerbaas.com/collections/sneakers\"\n",
    "# url = \"https://www.sneakerbaas.com/collections/sneakers\""
   ]
  },
  {
   "cell_type": "code",
   "execution_count": 3,
   "metadata": {},
   "outputs": [],
   "source": [
    "def get_collection_info(collection=\"\"):\n",
    "    info = {\"url\": urljoin(COLLECTIONS_URL, collection)}\n",
    "    r = requests.get(info[\"url\"], headers=HEADERS)\n",
    "    soup = BeautifulSoup(r.text, \"html.parser\")\n",
    "\n",
    "    products_string = soup.find_all(class_=re.compile(\"collection-size\"))[\n",
    "        0\n",
    "    ].text.strip()\n",
    "    info[\"number_of_products\"] = int(re.search(r\"\\d+\", products_string).group())\n",
    "    info[\"number_of_pages\"] = int(\n",
    "        soup.find_all(class_=re.compile(\"(?<!\\S)pagination(?!\\S)\"))[0]\n",
    "        .find_all(\"span\")[-2]\n",
    "        .a.text\n",
    "    )\n",
    "    return info\n"
   ]
  },
  {
   "cell_type": "code",
   "execution_count": 4,
   "metadata": {},
   "outputs": [],
   "source": [
    "def get_sneakers_urls(url, sneakers_url_path=\"/collections/sneakers/products\"):\n",
    "    r = requests.get(url, headers=HEADERS)\n",
    "    soup = BeautifulSoup(r.text, \"html.parser\")\n",
    "\n",
    "    return set(\n",
    "        [\n",
    "            HOSTNAME_URL + item[\"href\"]\n",
    "            for item in soup.find_all(href=re.compile(sneakers_url_path))\n",
    "        ]\n",
    "    )"
   ]
  },
  {
   "cell_type": "code",
   "execution_count": 5,
   "metadata": {},
   "outputs": [],
   "source": [
    "def get_sneakers_metadata(url, soup, collection):\n",
    "    # metadata\n",
    "    metadata_keys = [\"brand\", \"description\", \"priceCurrency\", \"price\"]\n",
    "    meta_html = soup.find_all(name=\"div\", class_=\"page-row-content\")[0].div.find_all(\n",
    "        name=\"meta\"\n",
    "    )\n",
    "    metadata = {\"url\": url, \"collection\": collection}\n",
    "    for meta in meta_html:\n",
    "        if meta.has_attr(\"itemprop\"):\n",
    "            if meta[\"itemprop\"] in metadata_keys:\n",
    "                metadata[meta[\"itemprop\"]] = meta[\"content\"].replace(\"\\xa0\", \" \")\n",
    "\n",
    "    # default_fields = [\"Description\", \"Colors\", \"Stijlcode\"]\n",
    "    # for i, item in enumerate(metadata[\"description\"].split(\"- \")[1:]):\n",
    "    #     metadata[default_fields[i]] = item\n",
    "    # metadata.pop(\"description\")\n",
    "\n",
    "    # format metadata brand\n",
    "    metadata[\"brand\"] = metadata[\"brand\"].lower()\n",
    "\n",
    "    # title\n",
    "    metadata[\"title\"] = (\n",
    "        soup.find(name=\"main\", id=\"MainContent\").find_all(name=\"span\")[2].text\n",
    "    )\n",
    "    return metadata\n",
    "\n",
    "\n",
    "def get_sneakers_images(soup):\n",
    "    images = []\n",
    "    images_section = soup.find_all(name=\"div\", class_=\"swiper-slide product-image\")\n",
    "    for product_image in images_section:\n",
    "        raw_image_url = product_image.find(\"a\", {\"data-fancybox\": \"productGallery\"})[\n",
    "            \"href\"\n",
    "        ]\n",
    "        image_url = add_https_to_url(remove_query_from_url(raw_image_url))\n",
    "        image_binary = requests.get(image_url).content\n",
    "        image_ext = get_image_extension(image_url)\n",
    "        images.append((image_binary, image_ext))\n",
    "    return images\n",
    "\n",
    "\n",
    "def save_sneakers_images_local(images, metadata, path=\"data\"):\n",
    "    dir = os.path.join(\n",
    "        path,\n",
    "        WEBSITE_NAME,\n",
    "        metadata[\"collection\"],\n",
    "        \"photos\",\n",
    "        metadata[\"brand\"],\n",
    "        metadata[\"title\"],\n",
    "    )\n",
    "    os.makedirs(dir, exist_ok=True)\n",
    "\n",
    "    i = get_max_file_name(dir)\n",
    "    for image_binary, image_ext in images:\n",
    "        i += 1\n",
    "        with open(os.path.join(dir, str(i) + image_ext), \"wb\") as f:\n",
    "            f.write(image_binary)\n",
    "\n",
    "    return dir"
   ]
  },
  {
   "cell_type": "code",
   "execution_count": 6,
   "metadata": {},
   "outputs": [],
   "source": [
    "def parse_sneakers(url, collection, path=\"data\"):\n",
    "    r = requests.get(url, headers=HEADERS)\n",
    "    soup = BeautifulSoup(r.text, \"html.parser\")\n",
    "    metadata = get_sneakers_metadata(url, soup, collection)\n",
    "    images = get_sneakers_images(soup)\n",
    "    photos_path = save_sneakers_images_local(images, metadata, path)  # or S3\n",
    "    metadata[\"photos_path\"] = photos_path\n",
    "    return metadata\n"
   ]
  },
  {
   "cell_type": "code",
   "execution_count": 2,
   "metadata": {},
   "outputs": [],
   "source": [
    "from bs4 import BeautifulSoup\n",
    "import requests\n",
    "from fake_useragent import UserAgent\n",
    "HEADERS = {\"User-Agent\": UserAgent().random}\n",
    "r = requests.get(\"https://www.sneakerbaas.com/collections/sneakers/products/palermo-lth-black\", headers=HEADERS)\n",
    "soup = BeautifulSoup(r.text, \"html.parser\")"
   ]
  },
  {
   "cell_type": "code",
   "execution_count": 3,
   "metadata": {},
   "outputs": [
    {
     "data": {
      "text/plain": [
       "[<meta 46\"=\"\" black\"-=\"\" content=\"Palermo Lth \" itemprop=\"name\"/>,\n",
       " <meta content=\"https://www.sneakerbaas.com/products/palermo-lth-black?variant=48668399927622\" itemprop=\"url\"/>,\n",
       " <meta content=\"Puma Sportstyle\" itemprop=\"brand\"/>,\n",
       " <meta content=\"//www.sneakerbaas.com/cdn/shop/files/Pblack1_600x600.jpg?v=1697702678\" itemprop=\"image\"/>,\n",
       " <meta content='- Puma Palermo Lth \"Black\"- Colour: Black / White- Stijlcode: 396464-03' itemprop=\"description\"/>,\n",
       " <meta content=\"EUR\" itemprop=\"priceCurrency\"/>,\n",
       " <meta content=\"89.95\" itemprop=\"price\"/>]"
      ]
     },
     "execution_count": 3,
     "metadata": {},
     "output_type": "execute_result"
    }
   ],
   "source": [
    "soup.find_all(name=\"div\", class_=\"page-row-content\")[0].div.find_all(\n",
    "        name=\"meta\"\n",
    "    )"
   ]
  },
  {
   "cell_type": "code",
   "execution_count": 7,
   "metadata": {},
   "outputs": [],
   "source": [
    "# page_url = f\"https://www.sneakerbaas.com/collections/men?page={2}\"\n",
    "# temp = get_sneakers_info(page_url)\n",
    "# sneakers_urls = temp[\"sneakers_urls\"]\n",
    "# number_of_urls = temp[\"number_of_urls\"]\n",
    "# print(f\"{number_of_urls} кроссовок на странице\")\n"
   ]
  },
  {
   "cell_type": "code",
   "execution_count": 8,
   "metadata": {},
   "outputs": [],
   "source": [
    "# full_metadata = []\n",
    "# for sneakers_url in sneakers_urls:\n",
    "#     metadata = get_metadata_photos(sneakers_url)\n",
    "#     full_metadata.append(metadata)"
   ]
  },
  {
   "cell_type": "code",
   "execution_count": 9,
   "metadata": {},
   "outputs": [],
   "source": [
    "# import pandas as pd\n",
    "\n",
    "\n",
    "# df = pd.DataFrame(full_metadata)\n",
    "# df\n"
   ]
  },
  {
   "cell_type": "code",
   "execution_count": 10,
   "metadata": {},
   "outputs": [],
   "source": [
    "# df.to_csv(\"parser/sneakerbaas/metadata.csv\", index=False)\n"
   ]
  },
  {
   "cell_type": "code",
   "execution_count": 11,
   "metadata": {},
   "outputs": [],
   "source": [
    "def parse_sneakerbaas(path=\"data\"):\n",
    "    full_collection = get_collection_info()\n",
    "    print(\n",
    "        f\"{WEBSITE_NAME} website: {full_collection['number_of_products']} sneakers found\"\n",
    "    )\n",
    "    print(f\"{len(COLLECTIONS)} collections found\")\n",
    "\n",
    "    full_metadata = []\n",
    "\n",
    "    for collection in COLLECTIONS:\n",
    "        metadata_collection = []\n",
    "        collection_info = get_collection_info(collection)\n",
    "        print(\n",
    "            f\"Parsing collection: {collection}, found {collection_info['number_of_pages']} pages, \"\n",
    "            f\"{collection_info['number_of_products']} products, {collection_info['url']}\"\n",
    "        )\n",
    "        for page in trange(1, collection_info[\"number_of_pages\"] + 1):\n",
    "            page_url = add_page_to_url(collection_info[\"url\"], page)\n",
    "            print(page_url)\n",
    "            sneakers_urls = get_sneakers_urls(page_url)\n",
    "            for sneakers_url in tqdm(sneakers_urls):\n",
    "                metadata = parse_sneakers(sneakers_url, collection)\n",
    "                metadata_collection.append(metadata)\n",
    "\n",
    "        print(\n",
    "            f\"Collected {len(metadata_collection)} sneakers out of {collection_info['number_of_products']} in \"\n",
    "            f\"{collection} collection\"\n",
    "        )\n",
    "        df = pd.DataFrame(metadata_collection)\n",
    "        df.to_csv(\n",
    "            os.path.join(path, WEBSITE_NAME, collection, \"metadata.csv\"), index=False\n",
    "        )\n",
    "\n",
    "        full_metadata += metadata_collection\n",
    "\n",
    "    df = pd.DataFrame(full_metadata)\n",
    "    df.to_csv(os.path.join(path, WEBSITE_NAME, \"metadata.csv\"), index=False)\n",
    "    print(\n",
    "        f\"Collected {len(full_metadata)} sneakers out of {full_collection['number_of_products']} in \"\n",
    "        f\"{WEBSITE_NAME} website\"\n",
    "    )"
   ]
  },
  {
   "cell_type": "code",
   "execution_count": 12,
   "metadata": {},
   "outputs": [
    {
     "name": "stdout",
     "output_type": "stream",
     "text": [
      "sneakerbaas website: 1002 sneakers found\n",
      "4 collections found\n",
      "Parsing collection: category-kids, found 2 pages, 53 products, https://www.sneakerbaas.com/collections/sneakers/category-kids\n"
     ]
    },
    {
     "data": {
      "application/vnd.jupyter.widget-view+json": {
       "model_id": "73026d46b4e14d06a7b36d34cf99ad8e",
       "version_major": 2,
       "version_minor": 0
      },
      "text/plain": [
       "  0%|          | 0/2 [00:00<?, ?it/s]"
      ]
     },
     "metadata": {},
     "output_type": "display_data"
    },
    {
     "name": "stdout",
     "output_type": "stream",
     "text": [
      "https://www.sneakerbaas.com/collections/sneakers/category-kids?page=1\n"
     ]
    },
    {
     "data": {
      "application/vnd.jupyter.widget-view+json": {
       "model_id": "44a80d42efd5424e95e59f4da006f561",
       "version_major": 2,
       "version_minor": 0
      },
      "text/plain": [
       "  0%|          | 0/44 [00:00<?, ?it/s]"
      ]
     },
     "metadata": {},
     "output_type": "display_data"
    },
    {
     "name": "stdout",
     "output_type": "stream",
     "text": [
      "https://www.sneakerbaas.com/collections/sneakers/category-kids?page=2\n"
     ]
    },
    {
     "data": {
      "application/vnd.jupyter.widget-view+json": {
       "model_id": "c220068ad77c43fd83b72990293c6cfb",
       "version_major": 2,
       "version_minor": 0
      },
      "text/plain": [
       "  0%|          | 0/9 [00:00<?, ?it/s]"
      ]
     },
     "metadata": {},
     "output_type": "display_data"
    },
    {
     "name": "stdout",
     "output_type": "stream",
     "text": [
      "Collected 53 sneakers out of 53 in category-kids collection\n",
      "Parsing collection: category-unisex, found 10 pages, 405 products, https://www.sneakerbaas.com/collections/sneakers/category-unisex\n"
     ]
    },
    {
     "data": {
      "application/vnd.jupyter.widget-view+json": {
       "model_id": "cc301589175c4abbb43c1ab039796960",
       "version_major": 2,
       "version_minor": 0
      },
      "text/plain": [
       "  0%|          | 0/10 [00:00<?, ?it/s]"
      ]
     },
     "metadata": {},
     "output_type": "display_data"
    },
    {
     "name": "stdout",
     "output_type": "stream",
     "text": [
      "https://www.sneakerbaas.com/collections/sneakers/category-unisex?page=1\n"
     ]
    },
    {
     "data": {
      "application/vnd.jupyter.widget-view+json": {
       "model_id": "0f1775a6ddf34f028e2acf38c67ddd2e",
       "version_major": 2,
       "version_minor": 0
      },
      "text/plain": [
       "  0%|          | 0/44 [00:00<?, ?it/s]"
      ]
     },
     "metadata": {},
     "output_type": "display_data"
    },
    {
     "name": "stdout",
     "output_type": "stream",
     "text": [
      "https://www.sneakerbaas.com/collections/sneakers/category-unisex?page=2\n"
     ]
    },
    {
     "data": {
      "application/vnd.jupyter.widget-view+json": {
       "model_id": "67f2008b7c8c44bc8764579491253422",
       "version_major": 2,
       "version_minor": 0
      },
      "text/plain": [
       "  0%|          | 0/44 [00:00<?, ?it/s]"
      ]
     },
     "metadata": {},
     "output_type": "display_data"
    },
    {
     "name": "stdout",
     "output_type": "stream",
     "text": [
      "https://www.sneakerbaas.com/collections/sneakers/category-unisex?page=3\n"
     ]
    },
    {
     "data": {
      "application/vnd.jupyter.widget-view+json": {
       "model_id": "25c14fd0774d4648ae0e01f23546f3b9",
       "version_major": 2,
       "version_minor": 0
      },
      "text/plain": [
       "  0%|          | 0/44 [00:00<?, ?it/s]"
      ]
     },
     "metadata": {},
     "output_type": "display_data"
    },
    {
     "name": "stdout",
     "output_type": "stream",
     "text": [
      "https://www.sneakerbaas.com/collections/sneakers/category-unisex?page=4\n"
     ]
    },
    {
     "data": {
      "application/vnd.jupyter.widget-view+json": {
       "model_id": "ad4570106264403b80f5147fe9c82595",
       "version_major": 2,
       "version_minor": 0
      },
      "text/plain": [
       "  0%|          | 0/44 [00:00<?, ?it/s]"
      ]
     },
     "metadata": {},
     "output_type": "display_data"
    },
    {
     "name": "stdout",
     "output_type": "stream",
     "text": [
      "https://www.sneakerbaas.com/collections/sneakers/category-unisex?page=5\n"
     ]
    },
    {
     "data": {
      "application/vnd.jupyter.widget-view+json": {
       "model_id": "6a5ab62f83074bb9a8e5db1c2d546bad",
       "version_major": 2,
       "version_minor": 0
      },
      "text/plain": [
       "  0%|          | 0/44 [00:00<?, ?it/s]"
      ]
     },
     "metadata": {},
     "output_type": "display_data"
    },
    {
     "name": "stdout",
     "output_type": "stream",
     "text": [
      "https://www.sneakerbaas.com/collections/sneakers/category-unisex?page=6\n"
     ]
    },
    {
     "data": {
      "application/vnd.jupyter.widget-view+json": {
       "model_id": "c1c1363307574d9d942fd890125eb867",
       "version_major": 2,
       "version_minor": 0
      },
      "text/plain": [
       "  0%|          | 0/44 [00:00<?, ?it/s]"
      ]
     },
     "metadata": {},
     "output_type": "display_data"
    },
    {
     "name": "stdout",
     "output_type": "stream",
     "text": [
      "https://www.sneakerbaas.com/collections/sneakers/category-unisex?page=7\n"
     ]
    },
    {
     "data": {
      "application/vnd.jupyter.widget-view+json": {
       "model_id": "5d1feaa4683a49a7a891434017b3f444",
       "version_major": 2,
       "version_minor": 0
      },
      "text/plain": [
       "  0%|          | 0/44 [00:00<?, ?it/s]"
      ]
     },
     "metadata": {},
     "output_type": "display_data"
    },
    {
     "name": "stdout",
     "output_type": "stream",
     "text": [
      "https://www.sneakerbaas.com/collections/sneakers/category-unisex?page=8\n"
     ]
    },
    {
     "data": {
      "application/vnd.jupyter.widget-view+json": {
       "model_id": "f0623d1a54354b19a6bf8933bd09b692",
       "version_major": 2,
       "version_minor": 0
      },
      "text/plain": [
       "  0%|          | 0/44 [00:00<?, ?it/s]"
      ]
     },
     "metadata": {},
     "output_type": "display_data"
    },
    {
     "name": "stdout",
     "output_type": "stream",
     "text": [
      "https://www.sneakerbaas.com/collections/sneakers/category-unisex?page=9\n"
     ]
    },
    {
     "data": {
      "application/vnd.jupyter.widget-view+json": {
       "model_id": "2c5e91d5817941f69cb22be51724d36a",
       "version_major": 2,
       "version_minor": 0
      },
      "text/plain": [
       "  0%|          | 0/44 [00:00<?, ?it/s]"
      ]
     },
     "metadata": {},
     "output_type": "display_data"
    },
    {
     "name": "stdout",
     "output_type": "stream",
     "text": [
      "https://www.sneakerbaas.com/collections/sneakers/category-unisex?page=10\n"
     ]
    },
    {
     "data": {
      "application/vnd.jupyter.widget-view+json": {
       "model_id": "a49b35f5ab8a45ad967e48843444d71f",
       "version_major": 2,
       "version_minor": 0
      },
      "text/plain": [
       "  0%|          | 0/9 [00:00<?, ?it/s]"
      ]
     },
     "metadata": {},
     "output_type": "display_data"
    },
    {
     "name": "stdout",
     "output_type": "stream",
     "text": [
      "Collected 405 sneakers out of 405 in category-unisex collection\n",
      "Parsing collection: category-women, found 6 pages, 242 products, https://www.sneakerbaas.com/collections/sneakers/category-women\n"
     ]
    },
    {
     "data": {
      "application/vnd.jupyter.widget-view+json": {
       "model_id": "40a08bab64fb487c803cc4cf7ccab1d4",
       "version_major": 2,
       "version_minor": 0
      },
      "text/plain": [
       "  0%|          | 0/6 [00:00<?, ?it/s]"
      ]
     },
     "metadata": {},
     "output_type": "display_data"
    },
    {
     "name": "stdout",
     "output_type": "stream",
     "text": [
      "https://www.sneakerbaas.com/collections/sneakers/category-women?page=1\n"
     ]
    },
    {
     "data": {
      "application/vnd.jupyter.widget-view+json": {
       "model_id": "a990ab1d6e4b482aab0cb500f00e6732",
       "version_major": 2,
       "version_minor": 0
      },
      "text/plain": [
       "  0%|          | 0/44 [00:00<?, ?it/s]"
      ]
     },
     "metadata": {},
     "output_type": "display_data"
    },
    {
     "name": "stdout",
     "output_type": "stream",
     "text": [
      "https://www.sneakerbaas.com/collections/sneakers/category-women?page=2\n"
     ]
    },
    {
     "data": {
      "application/vnd.jupyter.widget-view+json": {
       "model_id": "8a4e3f7b7fc14c07be0ae829a9f515da",
       "version_major": 2,
       "version_minor": 0
      },
      "text/plain": [
       "  0%|          | 0/44 [00:00<?, ?it/s]"
      ]
     },
     "metadata": {},
     "output_type": "display_data"
    },
    {
     "name": "stdout",
     "output_type": "stream",
     "text": [
      "https://www.sneakerbaas.com/collections/sneakers/category-women?page=3\n"
     ]
    },
    {
     "data": {
      "application/vnd.jupyter.widget-view+json": {
       "model_id": "1f6e49c7938d40e6a70e53c6ea969cfa",
       "version_major": 2,
       "version_minor": 0
      },
      "text/plain": [
       "  0%|          | 0/44 [00:00<?, ?it/s]"
      ]
     },
     "metadata": {},
     "output_type": "display_data"
    },
    {
     "name": "stdout",
     "output_type": "stream",
     "text": [
      "https://www.sneakerbaas.com/collections/sneakers/category-women?page=4\n"
     ]
    },
    {
     "data": {
      "application/vnd.jupyter.widget-view+json": {
       "model_id": "7cfd20118b0b4ff3b53a44a634bcfd23",
       "version_major": 2,
       "version_minor": 0
      },
      "text/plain": [
       "  0%|          | 0/44 [00:00<?, ?it/s]"
      ]
     },
     "metadata": {},
     "output_type": "display_data"
    },
    {
     "name": "stdout",
     "output_type": "stream",
     "text": [
      "https://www.sneakerbaas.com/collections/sneakers/category-women?page=5\n"
     ]
    },
    {
     "data": {
      "application/vnd.jupyter.widget-view+json": {
       "model_id": "3fd204b6b9824846a3b65ef48a520746",
       "version_major": 2,
       "version_minor": 0
      },
      "text/plain": [
       "  0%|          | 0/44 [00:00<?, ?it/s]"
      ]
     },
     "metadata": {},
     "output_type": "display_data"
    },
    {
     "name": "stdout",
     "output_type": "stream",
     "text": [
      "https://www.sneakerbaas.com/collections/sneakers/category-women?page=6\n"
     ]
    },
    {
     "data": {
      "application/vnd.jupyter.widget-view+json": {
       "model_id": "c27adbaedfdf488fbabe09cdc901d1c1",
       "version_major": 2,
       "version_minor": 0
      },
      "text/plain": [
       "  0%|          | 0/22 [00:00<?, ?it/s]"
      ]
     },
     "metadata": {},
     "output_type": "display_data"
    },
    {
     "name": "stdout",
     "output_type": "stream",
     "text": [
      "Collected 242 sneakers out of 242 in category-women collection\n",
      "Parsing collection: category-men, found 10 pages, 400 products, https://www.sneakerbaas.com/collections/sneakers/category-men\n"
     ]
    },
    {
     "data": {
      "application/vnd.jupyter.widget-view+json": {
       "model_id": "15de398a5ebc4d44b3718f3b56e906ec",
       "version_major": 2,
       "version_minor": 0
      },
      "text/plain": [
       "  0%|          | 0/10 [00:00<?, ?it/s]"
      ]
     },
     "metadata": {},
     "output_type": "display_data"
    },
    {
     "name": "stdout",
     "output_type": "stream",
     "text": [
      "https://www.sneakerbaas.com/collections/sneakers/category-men?page=1\n"
     ]
    },
    {
     "data": {
      "application/vnd.jupyter.widget-view+json": {
       "model_id": "deac0e9facd04785a7dbbd54ad3078ca",
       "version_major": 2,
       "version_minor": 0
      },
      "text/plain": [
       "  0%|          | 0/44 [00:00<?, ?it/s]"
      ]
     },
     "metadata": {},
     "output_type": "display_data"
    },
    {
     "name": "stdout",
     "output_type": "stream",
     "text": [
      "https://www.sneakerbaas.com/collections/sneakers/category-men?page=2\n"
     ]
    },
    {
     "data": {
      "application/vnd.jupyter.widget-view+json": {
       "model_id": "a2f83962f63a4db6a5c14464616da75d",
       "version_major": 2,
       "version_minor": 0
      },
      "text/plain": [
       "  0%|          | 0/44 [00:00<?, ?it/s]"
      ]
     },
     "metadata": {},
     "output_type": "display_data"
    },
    {
     "name": "stdout",
     "output_type": "stream",
     "text": [
      "https://www.sneakerbaas.com/collections/sneakers/category-men?page=3\n"
     ]
    },
    {
     "data": {
      "application/vnd.jupyter.widget-view+json": {
       "model_id": "eb56fb1976ed43b2a2ff093b4d51c734",
       "version_major": 2,
       "version_minor": 0
      },
      "text/plain": [
       "  0%|          | 0/44 [00:00<?, ?it/s]"
      ]
     },
     "metadata": {},
     "output_type": "display_data"
    },
    {
     "name": "stdout",
     "output_type": "stream",
     "text": [
      "https://www.sneakerbaas.com/collections/sneakers/category-men?page=4\n"
     ]
    },
    {
     "data": {
      "application/vnd.jupyter.widget-view+json": {
       "model_id": "f0d98376776c493d9b101d405d4be9a6",
       "version_major": 2,
       "version_minor": 0
      },
      "text/plain": [
       "  0%|          | 0/44 [00:00<?, ?it/s]"
      ]
     },
     "metadata": {},
     "output_type": "display_data"
    },
    {
     "name": "stdout",
     "output_type": "stream",
     "text": [
      "https://www.sneakerbaas.com/collections/sneakers/category-men?page=5\n"
     ]
    },
    {
     "data": {
      "application/vnd.jupyter.widget-view+json": {
       "model_id": "58501f1149be41919c4fcd3ce14bd146",
       "version_major": 2,
       "version_minor": 0
      },
      "text/plain": [
       "  0%|          | 0/44 [00:00<?, ?it/s]"
      ]
     },
     "metadata": {},
     "output_type": "display_data"
    },
    {
     "name": "stdout",
     "output_type": "stream",
     "text": [
      "https://www.sneakerbaas.com/collections/sneakers/category-men?page=6\n"
     ]
    },
    {
     "data": {
      "application/vnd.jupyter.widget-view+json": {
       "model_id": "6a23edabed4a4611b67a3e830c0e17db",
       "version_major": 2,
       "version_minor": 0
      },
      "text/plain": [
       "  0%|          | 0/44 [00:00<?, ?it/s]"
      ]
     },
     "metadata": {},
     "output_type": "display_data"
    },
    {
     "name": "stdout",
     "output_type": "stream",
     "text": [
      "https://www.sneakerbaas.com/collections/sneakers/category-men?page=7\n"
     ]
    },
    {
     "data": {
      "application/vnd.jupyter.widget-view+json": {
       "model_id": "4206066f89484724ac455d45ec59d01f",
       "version_major": 2,
       "version_minor": 0
      },
      "text/plain": [
       "  0%|          | 0/44 [00:00<?, ?it/s]"
      ]
     },
     "metadata": {},
     "output_type": "display_data"
    },
    {
     "name": "stdout",
     "output_type": "stream",
     "text": [
      "https://www.sneakerbaas.com/collections/sneakers/category-men?page=8\n"
     ]
    },
    {
     "data": {
      "application/vnd.jupyter.widget-view+json": {
       "model_id": "026c408183bd4045a6f9f4f2d68a596c",
       "version_major": 2,
       "version_minor": 0
      },
      "text/plain": [
       "  0%|          | 0/44 [00:00<?, ?it/s]"
      ]
     },
     "metadata": {},
     "output_type": "display_data"
    },
    {
     "name": "stdout",
     "output_type": "stream",
     "text": [
      "https://www.sneakerbaas.com/collections/sneakers/category-men?page=9\n"
     ]
    },
    {
     "data": {
      "application/vnd.jupyter.widget-view+json": {
       "model_id": "39b776f2ee5a42adb4cbfd87d863748a",
       "version_major": 2,
       "version_minor": 0
      },
      "text/plain": [
       "  0%|          | 0/44 [00:00<?, ?it/s]"
      ]
     },
     "metadata": {},
     "output_type": "display_data"
    },
    {
     "name": "stdout",
     "output_type": "stream",
     "text": [
      "https://www.sneakerbaas.com/collections/sneakers/category-men?page=10\n"
     ]
    },
    {
     "data": {
      "application/vnd.jupyter.widget-view+json": {
       "model_id": "a322fccd75b149faa6b3f235b54c7807",
       "version_major": 2,
       "version_minor": 0
      },
      "text/plain": [
       "  0%|          | 0/4 [00:00<?, ?it/s]"
      ]
     },
     "metadata": {},
     "output_type": "display_data"
    },
    {
     "name": "stdout",
     "output_type": "stream",
     "text": [
      "Collected 400 sneakers out of 400 in category-men collection\n",
      "Collected 1100 sneakers out of 1002 in sneakerbaas website\n"
     ]
    }
   ],
   "source": [
    "parse_sneakerbaas()"
   ]
  },
  {
   "cell_type": "code",
   "execution_count": null,
   "metadata": {},
   "outputs": [],
   "source": []
  }
 ],
 "metadata": {
  "kernelspec": {
   "display_name": "DS",
   "language": "python",
   "name": "python3"
  },
  "language_info": {
   "codemirror_mode": {
    "name": "ipython",
    "version": 3
   },
   "file_extension": ".py",
   "mimetype": "text/x-python",
   "name": "python",
   "nbconvert_exporter": "python",
   "pygments_lexer": "ipython3",
   "version": "3.9.16"
  }
 },
 "nbformat": 4,
 "nbformat_minor": 2
}
