{
 "cells": [
  {
   "cell_type": "code",
   "execution_count": 23,
   "metadata": {},
   "outputs": [],
   "source": [
    "from bs4 import BeautifulSoup\n",
    "import requests\n",
    "from fake_useragent import UserAgent\n",
    "from urllib.parse import urlparse, urlsplit, urljoin\n",
    "import re\n",
    "import os\n",
    "from tqdm.auto import tqdm, trange\n",
    "import pandas as pd\n",
    "from pathlib import Path\n",
    "\n",
    "HEADERS = {\"User-Agent\": UserAgent().random}\n",
    "\n",
    "WEBSITE_NAME = \"sneakerbaas\"\n",
    "COLLECTIONS_URL = \"https://www.sneakerbaas.com/collections/sneakers/\"\n",
    "HOSTNAME_URL = \"https://www.sneakerbaas.com/\"\n",
    "COLLECTIONS = [\n",
    "    \"category-kids\",\n",
    "    \"category-unisex\",\n",
    "    \"category-women\",\n",
    "    \"category-men\",\n",
    "]\n"
   ]
  },
  {
   "cell_type": "code",
   "execution_count": 2,
   "metadata": {},
   "outputs": [],
   "source": [
    "# url = \"https://www.sneakerbaas.com/collections/sneakers\"\n",
    "# url = \"https://www.sneakerbaas.com/collections/sneakers\"\n"
   ]
  },
  {
   "cell_type": "code",
   "execution_count": 9,
   "metadata": {},
   "outputs": [],
   "source": [
    "r = requests.get(\n",
    "    \"https://www.sneakerbaas.com/collections/sneakers/category-kids\", headers=HEADERS\n",
    ")\n",
    "soup = BeautifulSoup(r.text, \"html.parser\")"
   ]
  },
  {
   "cell_type": "code",
   "execution_count": 10,
   "metadata": {},
   "outputs": [
    {
     "data": {
      "text/plain": [
       "'52 products found'"
      ]
     },
     "execution_count": 10,
     "metadata": {},
     "output_type": "execute_result"
    }
   ],
   "source": [
    "soup.find(class_=re.compile(\"collection-size\")).text.strip()\n"
   ]
  },
  {
   "cell_type": "code",
   "execution_count": 11,
   "metadata": {},
   "outputs": [
    {
     "data": {
      "text/plain": [
       "52"
      ]
     },
     "execution_count": 11,
     "metadata": {},
     "output_type": "execute_result"
    }
   ],
   "source": [
    "int(\n",
    "    re.search(\n",
    "        r\"\\d+\", soup.find(class_=re.compile(\"collection-size\")).text.strip()\n",
    "    ).group()\n",
    ")"
   ]
  },
  {
   "cell_type": "code",
   "execution_count": 12,
   "metadata": {},
   "outputs": [
    {
     "data": {
      "text/plain": [
       "2"
      ]
     },
     "execution_count": 12,
     "metadata": {},
     "output_type": "execute_result"
    }
   ],
   "source": [
    "int(\n",
    "    soup.find_all(class_=re.compile(\"(?<!\\S)pagination(?!\\S)\"))[0]\n",
    "    .find_all(\"span\")[-2]\n",
    "    .a.text\n",
    ")"
   ]
  },
  {
   "cell_type": "code",
   "execution_count": 13,
   "metadata": {},
   "outputs": [
    {
     "data": {
      "text/plain": [
       "{'https://www.sneakerbaas.com/collections/sneakers/products/2002-black',\n",
       " 'https://www.sneakerbaas.com/collections/sneakers/products/2002-black-1',\n",
       " 'https://www.sneakerbaas.com/collections/sneakers/products/2002-eclipse',\n",
       " 'https://www.sneakerbaas.com/collections/sneakers/products/2002-eclipse-2',\n",
       " 'https://www.sneakerbaas.com/collections/sneakers/products/2002-pink-sand-1',\n",
       " 'https://www.sneakerbaas.com/collections/sneakers/products/2002-slate-grey-1',\n",
       " 'https://www.sneakerbaas.com/collections/sneakers/products/2002-timberwolf',\n",
       " 'https://www.sneakerbaas.com/collections/sneakers/products/2002-timberwolf-1',\n",
       " 'https://www.sneakerbaas.com/collections/sneakers/products/530-white-1',\n",
       " 'https://www.sneakerbaas.com/collections/sneakers/products/550-black',\n",
       " 'https://www.sneakerbaas.com/collections/sneakers/products/550-white-10',\n",
       " 'https://www.sneakerbaas.com/collections/sneakers/products/550-white-11',\n",
       " 'https://www.sneakerbaas.com/collections/sneakers/products/550-white-12',\n",
       " 'https://www.sneakerbaas.com/collections/sneakers/products/550-white-14',\n",
       " 'https://www.sneakerbaas.com/collections/sneakers/products/550-white-15',\n",
       " 'https://www.sneakerbaas.com/collections/sneakers/products/550-white-16',\n",
       " 'https://www.sneakerbaas.com/collections/sneakers/products/550-white-18',\n",
       " 'https://www.sneakerbaas.com/collections/sneakers/products/550-white-19',\n",
       " 'https://www.sneakerbaas.com/collections/sneakers/products/550-white-20',\n",
       " 'https://www.sneakerbaas.com/collections/sneakers/products/550-white-5',\n",
       " 'https://www.sneakerbaas.com/collections/sneakers/products/550-white-6',\n",
       " 'https://www.sneakerbaas.com/collections/sneakers/products/550-white-7',\n",
       " 'https://www.sneakerbaas.com/collections/sneakers/products/550-white-9',\n",
       " 'https://www.sneakerbaas.com/collections/sneakers/products/air-jordan-6-retro-white-dutch-blue-citron-tint-black',\n",
       " 'https://www.sneakerbaas.com/collections/sneakers/products/air-max-motif-next-nature-white-university-red-pure-platinum',\n",
       " 'https://www.sneakerbaas.com/collections/sneakers/products/air-max-tw-black-white-black-white',\n",
       " 'https://www.sneakerbaas.com/collections/sneakers/products/air-max-tw-white-racer-blue-concord-pure-platinum',\n",
       " 'https://www.sneakerbaas.com/collections/sneakers/products/air-max-tw-white-university-red-white-black',\n",
       " 'https://www.sneakerbaas.com/collections/sneakers/products/blazer-mid-next-nature-white',\n",
       " 'https://www.sneakerbaas.com/collections/sneakers/products/cardi-b-club-c-v2-mars-red',\n",
       " 'https://www.sneakerbaas.com/collections/sneakers/products/cardi-b-club-c-v2-mars-red-1',\n",
       " 'https://www.sneakerbaas.com/collections/sneakers/products/club-c-cardi-v2-cornflower-blue-1',\n",
       " 'https://www.sneakerbaas.com/collections/sneakers/products/forum-low-x-andre-saraiva-ftwr-white',\n",
       " 'https://www.sneakerbaas.com/collections/sneakers/products/hello-kitty-superstar-360-vivid-red',\n",
       " 'https://www.sneakerbaas.com/collections/sneakers/products/hello-kitty-superstar-ftwr-white',\n",
       " 'https://www.sneakerbaas.com/collections/sneakers/products/huarache-run-gs-jade-ice',\n",
       " 'https://www.sneakerbaas.com/collections/sneakers/products/nike-air-max-90-gs-black-habanero-smoke-grey-lt',\n",
       " 'https://www.sneakerbaas.com/collections/sneakers/products/nike-blazer-77-jade-ice',\n",
       " 'https://www.sneakerbaas.com/collections/sneakers/products/nike-huarache-run-gs-dark-obsidian',\n",
       " 'https://www.sneakerbaas.com/collections/sneakers/products/sk8-mid-reissue-kids-brown',\n",
       " 'https://www.sneakerbaas.com/collections/sneakers/products/stan-smith-shoes-ftwr-white',\n",
       " 'https://www.sneakerbaas.com/collections/sneakers/products/uy-old-skool-logo-blkbu',\n",
       " 'https://www.sneakerbaas.com/collections/sneakers/products/uy-old-skool-v-cthr-chbd-mblu',\n",
       " 'https://www.sneakerbaas.com/collections/sneakers/products/uy-sk8-hi-zip-cmsw-black'}"
      ]
     },
     "execution_count": 13,
     "metadata": {},
     "output_type": "execute_result"
    }
   ],
   "source": [
    "set(\n",
    "    [\n",
    "        urljoin(HOSTNAME_URL, item[\"href\"])\n",
    "        for item in soup.find_all(href=re.compile(\"/collections/sneakers/products\"))\n",
    "    ]\n",
    ")\n"
   ]
  },
  {
   "cell_type": "code",
   "execution_count": 15,
   "metadata": {},
   "outputs": [],
   "source": [
    "r = requests.get(\n",
    "    \"https://www.sneakerbaas.com/collections/sneakers/products/550-white-9\",\n",
    "    headers=HEADERS,\n",
    ")\n",
    "soup = BeautifulSoup(r.text, \"html.parser\")\n"
   ]
  },
  {
   "cell_type": "code",
   "execution_count": 20,
   "metadata": {},
   "outputs": [
    {
     "data": {
      "text/plain": [
       "'550 PS \"Orange Sea\"'"
      ]
     },
     "execution_count": 20,
     "metadata": {},
     "output_type": "execute_result"
    }
   ],
   "source": [
    "soup.find(name=\"main\", id=\"MainContent\").find_all(name=\"span\")[2].text\n"
   ]
  },
  {
   "cell_type": "code",
   "execution_count": 17,
   "metadata": {},
   "outputs": [
    {
     "data": {
      "text/plain": [
       "[<meta 33\"=\"\" content=\"550 PS \" itemprop=\"name\" orange=\"\" sea\"-=\"\"/>,\n",
       " <meta content=\"https://www.sneakerbaas.com/products/550-white-9?variant=39982921089087\" itemprop=\"url\"/>,\n",
       " <meta content=\"New Balance\" itemprop=\"brand\"/>,\n",
       " <meta content=\"//www.sneakerbaas.com/cdn/shop/files/psb550wb_202_02883b61-f2e6-4f85-ad44-dcca9617d1ba_600x600.png?v=1693918390\" itemprop=\"image\"/>,\n",
       " <meta content='- New Balance 550 PS \"Orange Sea\"- Colour: White / Blue / Orange- Stijlcode: PSB550WB' itemprop=\"description\"/>,\n",
       " <meta content=\"EUR\" itemprop=\"priceCurrency\"/>,\n",
       " <meta content=\"99.95\" itemprop=\"price\"/>]"
      ]
     },
     "execution_count": 17,
     "metadata": {},
     "output_type": "execute_result"
    }
   ],
   "source": [
    "soup.find(name=\"div\", class_=\"page-row-content\").div.find_all(name=\"meta\")\n"
   ]
  },
  {
   "cell_type": "code",
   "execution_count": 21,
   "metadata": {},
   "outputs": [],
   "source": [
    "metadata = {}\n",
    "for meta in soup.find(name=\"div\", class_=\"page-row-content\").div.find_all(name=\"meta\")[\n",
    "    1:\n",
    "]:\n",
    "    if meta.has_attr(\"itemprop\") and meta[\"itemprop\"] not in [\"url\", \"image\", \"name\"]:\n",
    "        metadata[meta[\"itemprop\"].lower().strip()] = (\n",
    "            meta[\"content\"].replace(\"\\xa0\", \" \").strip()\n",
    "        )"
   ]
  },
  {
   "cell_type": "code",
   "execution_count": 22,
   "metadata": {},
   "outputs": [
    {
     "data": {
      "text/plain": [
       "{'brand': 'New Balance',\n",
       " 'description': '- New Balance 550 PS \"Orange Sea\"- Colour: White / Blue / Orange- Stijlcode: PSB550WB',\n",
       " 'pricecurrency': 'EUR',\n",
       " 'price': '99.95'}"
      ]
     },
     "execution_count": 22,
     "metadata": {},
     "output_type": "execute_result"
    }
   ],
   "source": [
    "metadata\n"
   ]
  },
  {
   "cell_type": "code",
   "execution_count": 28,
   "metadata": {},
   "outputs": [
    {
     "data": {
      "text/plain": [
       "'s3://BUCKET/path'"
      ]
     },
     "execution_count": 28,
     "metadata": {},
     "output_type": "execute_result"
    }
   ],
   "source": [
    "urlparse(\"\")._replace(scheme=\"s3\", netloc=\"BUCKET\",path=\"path\").geturl()"
   ]
  },
  {
   "cell_type": "code",
   "execution_count": 33,
   "metadata": {},
   "outputs": [],
   "source": [
    "\n",
    "def get_parent_path(path):\n",
    "    return str(Path(path).parent)"
   ]
  },
  {
   "cell_type": "code",
   "execution_count": null,
   "metadata": {},
   "outputs": [],
   "source": []
  }
 ],
 "metadata": {
  "kernelspec": {
   "display_name": "DS",
   "language": "python",
   "name": "python3"
  },
  "language_info": {
   "codemirror_mode": {
    "name": "ipython",
    "version": 3
   },
   "file_extension": ".py",
   "mimetype": "text/x-python",
   "name": "python",
   "nbconvert_exporter": "python",
   "pygments_lexer": "ipython3",
   "version": "3.9.16"
  }
 },
 "nbformat": 4,
 "nbformat_minor": 2
}
