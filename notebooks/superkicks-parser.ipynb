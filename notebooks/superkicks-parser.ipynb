{
 "cells": [
  {
   "cell_type": "code",
   "execution_count": 14,
   "metadata": {},
   "outputs": [],
   "source": [
    "from bs4 import BeautifulSoup\n",
    "import requests\n",
    "from fake_useragent import UserAgent\n",
    "from urllib.parse import urlparse, urlsplit, urljoin\n",
    "import re\n",
    "import os\n",
    "from tqdm.auto import tqdm, trange\n",
    "import pandas as pd\n",
    "from pathlib import Path\n",
    "import itertools\n",
    "\n",
    "HEADERS = {\"User-Agent\": UserAgent().random}\n",
    "\n",
    "WEBSITE_NAME = \"superkicks\"\n",
    "COLLECTIONS_URL = \"https://www.superkicks.in/collections/\"\n",
    "HOSTNAME_URL = \"https://www.superkicks.in/\"\n",
    "COLLECTIONS = [\n",
    "    f\"{item[0]}-{item[1]}\"\n",
    "    for item in itertools.product(\n",
    "        [\"men\", \"women\"],\n",
    "        [\"sneakers\", \"basketball-sneakers\", \"classics-sneakers\", \"skateboard-sneakers\"],\n",
    "    )\n",
    "]\n",
    "\n",
    "\n",
    "def get_hostname_url(url):\n",
    "    parsed_url = urlsplit(url)\n",
    "    return f\"{parsed_url.scheme}://{parsed_url.netloc}\"\n",
    "\n",
    "\n",
    "def remove_query_from_url(url):\n",
    "    return urlparse(url)._replace(query=\"\").geturl()\n",
    "\n",
    "\n",
    "def add_https_to_url(url):\n",
    "    return urlparse(url)._replace(scheme=\"https\").geturl()\n",
    "\n",
    "\n",
    "def get_image_extension(url):\n",
    "    return \".\" + urlparse(url).path.split(\"/\")[-1].split(\".\")[1]\n",
    "\n",
    "\n",
    "def get_max_file_name(folder):\n",
    "    path_iter = Path(folder).iterdir()\n",
    "    if any(path_iter):\n",
    "        return int(\n",
    "            max(\n",
    "                (Path(fn).stem for fn in Path(folder).iterdir()),\n",
    "                key=lambda fn: int(Path(fn).stem),\n",
    "            )\n",
    "        )\n",
    "    else:\n",
    "        return -1\n",
    "\n",
    "\n",
    "def add_page_to_url(url, page_number):\n",
    "    return urlparse(url)._replace(query=f\"page={page_number}\").geturl()"
   ]
  },
  {
   "cell_type": "code",
   "execution_count": null,
   "metadata": {},
   "outputs": [],
   "source": [
    "# def get_collection_info(collection=\"\"):\n",
    "#     info = {\"url\": urljoin(COLLECTIONS_URL, collection)}\n",
    "#     r = requests.get(info[\"url\"], headers=HEADERS)\n",
    "#     soup = BeautifulSoup(r.text, \"html.parser\")\n",
    "\n",
    "#     products_string = soup.find_all(class_=re.compile(\"collection-size\"))[\n",
    "#         0\n",
    "#     ].text.strip()\n",
    "#     info[\"number_of_products\"] = int(re.search(r\"\\d+\", products_string).group())\n",
    "#     info[\"number_of_pages\"] = int(\n",
    "#         soup.find_all(class_=re.compile(\"(?<!\\S)pagination(?!\\S)\"))[0]\n",
    "#         .find_all(\"span\")[-2]\n",
    "#         .a.text\n",
    "#     )\n",
    "#     return info"
   ]
  },
  {
   "cell_type": "code",
   "execution_count": 19,
   "metadata": {},
   "outputs": [],
   "source": [
    "r = requests.get(\"https://www.superkicks.in/collections/men-skateboard-sneakers\", headers=HEADERS)"
   ]
  },
  {
   "cell_type": "code",
   "execution_count": 20,
   "metadata": {},
   "outputs": [],
   "source": [
    "with open(\"temp.html\", \"w\") as f:\n",
    "    f.write(r.text)"
   ]
  },
  {
   "cell_type": "code",
   "execution_count": 21,
   "metadata": {},
   "outputs": [],
   "source": [
    "soup = BeautifulSoup(r.text, parser= \"html.parser\")"
   ]
  },
  {
   "cell_type": "code",
   "execution_count": 33,
   "metadata": {},
   "outputs": [
    {
     "data": {
      "text/plain": [
       "'3'"
      ]
     },
     "execution_count": 33,
     "metadata": {},
     "output_type": "execute_result"
    }
   ],
   "source": [
    "soup.find(name=\"nav\", class_=\"pagination\").ul.find_all(name=\"li\")[-2].a.text"
   ]
  },
  {
   "cell_type": "code",
   "execution_count": 39,
   "metadata": {},
   "outputs": [
    {
     "data": {
      "text/plain": [
       "{'/products/bold-ni-blue',\n",
       " '/products/chuck-70-at-cx-black-egret-black',\n",
       " '/products/chuck-70-at-cx-earth-tones-deep-sleep-tidepool-grey',\n",
       " '/products/chuck-70-vintage-canvas-rhubarb-pie-black',\n",
       " '/products/chuck-70-vintage-canvas-summit-sage-egret-black',\n",
       " '/products/chuck-taylor-all-star-lift-seasonal-color-yellow',\n",
       " '/products/coldhearted-comfycush-authentic-black',\n",
       " '/products/dunk-high-retro',\n",
       " '/products/dunk-high-retro-semonarch-monarch-sail',\n",
       " '/products/dunk-low-retro-bttys-white-clear-jade-white',\n",
       " '/products/dunk-low-retro-premium-oil-green-olive-aura-phantom',\n",
       " '/products/dunk-mid-coconut-milk-vivid-orange-celestial-gold',\n",
       " '/products/hardik-7-chuck-70-plus-canvas',\n",
       " '/products/old-skool-black',\n",
       " '/products/retro-court-sk8-hi-green-white-blue',\n",
       " '/products/run-star-hike-platform-animalier-egret-black-egret',\n",
       " '/products/run-star-motion-cx-platform-black-white',\n",
       " '/products/run-star-motion-cx-platform-white-black-gum-honey',\n",
       " '/products/run-star-motion-white-1',\n",
       " '/products/sk8-low-green-white',\n",
       " '/products/staple-bold-ni-black-white',\n",
       " '/products/wmns-run-star-legacy-cx-seasonal-color-rust-pink'}"
      ]
     },
     "execution_count": 39,
     "metadata": {},
     "output_type": "execute_result"
    }
   ],
   "source": [
    "set([item.a[\"href\"] for item in soup.find_all(name=\"div\",class_=\"card__information product-card2\")])\n"
   ]
  },
  {
   "cell_type": "code",
   "execution_count": 40,
   "metadata": {},
   "outputs": [],
   "source": [
    "r = requests.get(\"https://www.superkicks.in/products/dunk-low-retro-premium-oil-green-olive-aura-phantom\", headers=HEADERS)"
   ]
  },
  {
   "cell_type": "code",
   "execution_count": 41,
   "metadata": {},
   "outputs": [],
   "source": [
    "with open(\"temp2.html\", \"w\") as f:\n",
    "    f.write(r.text)"
   ]
  },
  {
   "cell_type": "code",
   "execution_count": null,
   "metadata": {},
   "outputs": [],
   "source": []
  }
 ],
 "metadata": {
  "kernelspec": {
   "display_name": "DS",
   "language": "python",
   "name": "python3"
  },
  "language_info": {
   "codemirror_mode": {
    "name": "ipython",
    "version": 3
   },
   "file_extension": ".py",
   "mimetype": "text/x-python",
   "name": "python",
   "nbconvert_exporter": "python",
   "pygments_lexer": "ipython3",
   "version": "3.9.16"
  }
 },
 "nbformat": 4,
 "nbformat_minor": 2
}
