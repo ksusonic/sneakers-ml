{
 "cells": [
  {
   "cell_type": "raw",
   "source": [
    "# EDA notebook"
   ],
   "metadata": {
    "collapsed": false
   },
   "id": "3f61b47200683ab1"
  },
  {
   "cell_type": "code",
   "execution_count": 1,
   "id": "initial_id",
   "metadata": {
    "collapsed": true,
    "ExecuteTime": {
     "end_time": "2023-11-26T20:28:16.507085Z",
     "start_time": "2023-11-26T20:28:16.494771Z"
    }
   },
   "outputs": [],
   "source": [
    "import pandas as pd\n",
    "import seaborn as sns\n",
    "import matplotlib.pyplot as plt\n",
    "\n",
    "%matplotlib inline"
   ]
  },
  {
   "cell_type": "code",
   "execution_count": 2,
   "outputs": [],
   "source": [
    "# for PyCharm\n",
    "import os\n",
    "\n",
    "current_directory = os.getcwd()\n",
    "project_directory = os.path.abspath(os.path.join(current_directory, os.pardir, os.pardir))\n",
    "os.chdir(project_directory)"
   ],
   "metadata": {
    "collapsed": false,
    "ExecuteTime": {
     "end_time": "2023-11-26T20:28:16.520714Z",
     "start_time": "2023-11-26T20:28:16.508296Z"
    }
   },
   "id": "a4bf7ba6a7bf8c8c"
  },
  {
   "cell_type": "code",
   "execution_count": 3,
   "outputs": [],
   "source": [
    "# !dvc pull data/merged/metadata"
   ],
   "metadata": {
    "collapsed": false,
    "ExecuteTime": {
     "end_time": "2023-11-21T09:08:36.678870Z",
     "start_time": "2023-11-21T09:08:36.671485Z"
    }
   },
   "id": "da75e90a81e94176"
  },
  {
   "cell_type": "code",
   "execution_count": 3,
   "outputs": [
    {
     "data": {
      "text/plain": "  title_merge  brand                                    collection_name  \\\n0      01 low  Autry                 ['category-women', 'category-men']   \n1    01 low m  Autry   ['category-men', 'category-men', 'category-men']   \n2  01 low man  Autry                                   ['category-men']   \n3    01 low w  Autry  ['category-women', 'category-women', 'category...   \n4  01 low wom  Autry                                 ['category-women']   \n\n           color                                        images_path   price  \\\n0          White  ['data/raw_new/images/sneakerbaas/category-wom...  129.99   \n1          BLACK  ['data/raw_new/images/sneakerbaas/category-men...  149.99   \n2  LEAT/LEAT RED  ['data/raw_new/images/sneakerbaas/category-men...  149.99   \n3         BI POW  ['data/raw_new/images/sneakerbaas/category-wom...  149.99   \n4     WHT/PETROL  ['data/raw_new/images/sneakerbaas/category-wom...  149.99   \n\n  pricecurrency                                                url  \\\n0           EUR  ['https://www.sneakerbaas.com/collections/snea...   \n1           EUR  ['https://www.sneakerbaas.com/collections/snea...   \n2           EUR  ['https://www.sneakerbaas.com/collections/snea...   \n3           EUR  ['https://www.sneakerbaas.com/collections/snea...   \n4           EUR  ['https://www.sneakerbaas.com/collections/snea...   \n\n                                             website  \n0                     ['sneakerbaas', 'sneakerbaas']  \n1      ['sneakerbaas', 'sneakerbaas', 'sneakerbaas']  \n2                                    ['sneakerbaas']  \n3  ['sneakerbaas', 'sneakerbaas', 'sneakerbaas', ...  \n4                                    ['sneakerbaas']  ",
      "text/html": "<div>\n<style scoped>\n    .dataframe tbody tr th:only-of-type {\n        vertical-align: middle;\n    }\n\n    .dataframe tbody tr th {\n        vertical-align: top;\n    }\n\n    .dataframe thead th {\n        text-align: right;\n    }\n</style>\n<table border=\"1\" class=\"dataframe\">\n  <thead>\n    <tr style=\"text-align: right;\">\n      <th></th>\n      <th>title_merge</th>\n      <th>brand</th>\n      <th>collection_name</th>\n      <th>color</th>\n      <th>images_path</th>\n      <th>price</th>\n      <th>pricecurrency</th>\n      <th>url</th>\n      <th>website</th>\n    </tr>\n  </thead>\n  <tbody>\n    <tr>\n      <th>0</th>\n      <td>01 low</td>\n      <td>Autry</td>\n      <td>['category-women', 'category-men']</td>\n      <td>White</td>\n      <td>['data/raw_new/images/sneakerbaas/category-wom...</td>\n      <td>129.99</td>\n      <td>EUR</td>\n      <td>['https://www.sneakerbaas.com/collections/snea...</td>\n      <td>['sneakerbaas', 'sneakerbaas']</td>\n    </tr>\n    <tr>\n      <th>1</th>\n      <td>01 low m</td>\n      <td>Autry</td>\n      <td>['category-men', 'category-men', 'category-men']</td>\n      <td>BLACK</td>\n      <td>['data/raw_new/images/sneakerbaas/category-men...</td>\n      <td>149.99</td>\n      <td>EUR</td>\n      <td>['https://www.sneakerbaas.com/collections/snea...</td>\n      <td>['sneakerbaas', 'sneakerbaas', 'sneakerbaas']</td>\n    </tr>\n    <tr>\n      <th>2</th>\n      <td>01 low man</td>\n      <td>Autry</td>\n      <td>['category-men']</td>\n      <td>LEAT/LEAT RED</td>\n      <td>['data/raw_new/images/sneakerbaas/category-men...</td>\n      <td>149.99</td>\n      <td>EUR</td>\n      <td>['https://www.sneakerbaas.com/collections/snea...</td>\n      <td>['sneakerbaas']</td>\n    </tr>\n    <tr>\n      <th>3</th>\n      <td>01 low w</td>\n      <td>Autry</td>\n      <td>['category-women', 'category-women', 'category...</td>\n      <td>BI POW</td>\n      <td>['data/raw_new/images/sneakerbaas/category-wom...</td>\n      <td>149.99</td>\n      <td>EUR</td>\n      <td>['https://www.sneakerbaas.com/collections/snea...</td>\n      <td>['sneakerbaas', 'sneakerbaas', 'sneakerbaas', ...</td>\n    </tr>\n    <tr>\n      <th>4</th>\n      <td>01 low wom</td>\n      <td>Autry</td>\n      <td>['category-women']</td>\n      <td>WHT/PETROL</td>\n      <td>['data/raw_new/images/sneakerbaas/category-wom...</td>\n      <td>149.99</td>\n      <td>EUR</td>\n      <td>['https://www.sneakerbaas.com/collections/snea...</td>\n      <td>['sneakerbaas']</td>\n    </tr>\n  </tbody>\n</table>\n</div>"
     },
     "execution_count": 3,
     "metadata": {},
     "output_type": "execute_result"
    }
   ],
   "source": [
    "df = pd.read_csv('data/merged/metadata/dataset.csv')\n",
    "df.head()"
   ],
   "metadata": {
    "collapsed": false,
    "ExecuteTime": {
     "end_time": "2023-11-26T20:29:18.247092Z",
     "start_time": "2023-11-26T20:29:18.157727Z"
    }
   },
   "id": "259be2f6ff0a724"
  },
  {
   "cell_type": "markdown",
   "source": [
    "## Preparations"
   ],
   "metadata": {
    "collapsed": false
   },
   "id": "d7126dbafd3bfa47"
  },
  {
   "cell_type": "code",
   "execution_count": 4,
   "outputs": [
    {
     "name": "stdout",
     "output_type": "stream",
     "text": [
      "<class 'pandas.core.frame.DataFrame'>\n",
      "RangeIndex: 4944 entries, 0 to 4943\n",
      "Data columns (total 9 columns):\n",
      " #   Column           Non-Null Count  Dtype  \n",
      "---  ------           --------------  -----  \n",
      " 0   title_merge      4944 non-null   object \n",
      " 1   brand            4944 non-null   object \n",
      " 2   collection_name  4944 non-null   object \n",
      " 3   color            4631 non-null   object \n",
      " 4   images_path      4944 non-null   object \n",
      " 5   price            4944 non-null   float64\n",
      " 6   pricecurrency    4944 non-null   object \n",
      " 7   url              4944 non-null   object \n",
      " 8   website          4944 non-null   object \n",
      "dtypes: float64(1), object(8)\n",
      "memory usage: 347.8+ KB\n"
     ]
    }
   ],
   "source": [
    "df.info()"
   ],
   "metadata": {
    "collapsed": false,
    "ExecuteTime": {
     "end_time": "2023-11-26T20:37:53.605707Z",
     "start_time": "2023-11-26T20:37:53.599844Z"
    }
   },
   "id": "ac4771e4162347fa"
  },
  {
   "cell_type": "code",
   "execution_count": 5,
   "outputs": [
    {
     "data": {
      "text/plain": "       title_merge brand collection_name      color        images_path  \\\ncount         4944  4944            4944       4631               4944   \nunique        4944   106             436       3284               4943   \ntop         01 low  Nike           [nan]  ['black']  [[nan, nan, nan]]   \nfreq             1  1215            1830        141                  2   \nmean           NaN   NaN             NaN        NaN                NaN   \nstd            NaN   NaN             NaN        NaN                NaN   \nmin            NaN   NaN             NaN        NaN                NaN   \n25%            NaN   NaN             NaN        NaN                NaN   \n50%            NaN   NaN             NaN        NaN                NaN   \n75%            NaN   NaN             NaN        NaN                NaN   \nmax            NaN   NaN             NaN        NaN                NaN   \n\n               price pricecurrency  \\\ncount    4944.000000          4944   \nunique           NaN             3   \ntop              NaN           USD   \nfreq             NaN          2444   \nmean     1070.301475           NaN   \nstd      3129.078282           NaN   \nmin        11.950000           NaN   \n25%        80.000000           NaN   \n50%       115.485000           NaN   \n75%       170.000000           NaN   \nmax     39999.000000           NaN   \n\n                                                      url        website  \ncount                                                4944           4944  \nunique                                               4944            268  \ntop     ['https://www.sneakerbaas.com/collections/snea...  ['kickscrew']  \nfreq                                                    1           1830  \nmean                                                  NaN            NaN  \nstd                                                   NaN            NaN  \nmin                                                   NaN            NaN  \n25%                                                   NaN            NaN  \n50%                                                   NaN            NaN  \n75%                                                   NaN            NaN  \nmax                                                   NaN            NaN  ",
      "text/html": "<div>\n<style scoped>\n    .dataframe tbody tr th:only-of-type {\n        vertical-align: middle;\n    }\n\n    .dataframe tbody tr th {\n        vertical-align: top;\n    }\n\n    .dataframe thead th {\n        text-align: right;\n    }\n</style>\n<table border=\"1\" class=\"dataframe\">\n  <thead>\n    <tr style=\"text-align: right;\">\n      <th></th>\n      <th>title_merge</th>\n      <th>brand</th>\n      <th>collection_name</th>\n      <th>color</th>\n      <th>images_path</th>\n      <th>price</th>\n      <th>pricecurrency</th>\n      <th>url</th>\n      <th>website</th>\n    </tr>\n  </thead>\n  <tbody>\n    <tr>\n      <th>count</th>\n      <td>4944</td>\n      <td>4944</td>\n      <td>4944</td>\n      <td>4631</td>\n      <td>4944</td>\n      <td>4944.000000</td>\n      <td>4944</td>\n      <td>4944</td>\n      <td>4944</td>\n    </tr>\n    <tr>\n      <th>unique</th>\n      <td>4944</td>\n      <td>106</td>\n      <td>436</td>\n      <td>3284</td>\n      <td>4943</td>\n      <td>NaN</td>\n      <td>3</td>\n      <td>4944</td>\n      <td>268</td>\n    </tr>\n    <tr>\n      <th>top</th>\n      <td>01 low</td>\n      <td>Nike</td>\n      <td>[nan]</td>\n      <td>['black']</td>\n      <td>[[nan, nan, nan]]</td>\n      <td>NaN</td>\n      <td>USD</td>\n      <td>['https://www.sneakerbaas.com/collections/snea...</td>\n      <td>['kickscrew']</td>\n    </tr>\n    <tr>\n      <th>freq</th>\n      <td>1</td>\n      <td>1215</td>\n      <td>1830</td>\n      <td>141</td>\n      <td>2</td>\n      <td>NaN</td>\n      <td>2444</td>\n      <td>1</td>\n      <td>1830</td>\n    </tr>\n    <tr>\n      <th>mean</th>\n      <td>NaN</td>\n      <td>NaN</td>\n      <td>NaN</td>\n      <td>NaN</td>\n      <td>NaN</td>\n      <td>1070.301475</td>\n      <td>NaN</td>\n      <td>NaN</td>\n      <td>NaN</td>\n    </tr>\n    <tr>\n      <th>std</th>\n      <td>NaN</td>\n      <td>NaN</td>\n      <td>NaN</td>\n      <td>NaN</td>\n      <td>NaN</td>\n      <td>3129.078282</td>\n      <td>NaN</td>\n      <td>NaN</td>\n      <td>NaN</td>\n    </tr>\n    <tr>\n      <th>min</th>\n      <td>NaN</td>\n      <td>NaN</td>\n      <td>NaN</td>\n      <td>NaN</td>\n      <td>NaN</td>\n      <td>11.950000</td>\n      <td>NaN</td>\n      <td>NaN</td>\n      <td>NaN</td>\n    </tr>\n    <tr>\n      <th>25%</th>\n      <td>NaN</td>\n      <td>NaN</td>\n      <td>NaN</td>\n      <td>NaN</td>\n      <td>NaN</td>\n      <td>80.000000</td>\n      <td>NaN</td>\n      <td>NaN</td>\n      <td>NaN</td>\n    </tr>\n    <tr>\n      <th>50%</th>\n      <td>NaN</td>\n      <td>NaN</td>\n      <td>NaN</td>\n      <td>NaN</td>\n      <td>NaN</td>\n      <td>115.485000</td>\n      <td>NaN</td>\n      <td>NaN</td>\n      <td>NaN</td>\n    </tr>\n    <tr>\n      <th>75%</th>\n      <td>NaN</td>\n      <td>NaN</td>\n      <td>NaN</td>\n      <td>NaN</td>\n      <td>NaN</td>\n      <td>170.000000</td>\n      <td>NaN</td>\n      <td>NaN</td>\n      <td>NaN</td>\n    </tr>\n    <tr>\n      <th>max</th>\n      <td>NaN</td>\n      <td>NaN</td>\n      <td>NaN</td>\n      <td>NaN</td>\n      <td>NaN</td>\n      <td>39999.000000</td>\n      <td>NaN</td>\n      <td>NaN</td>\n      <td>NaN</td>\n    </tr>\n  </tbody>\n</table>\n</div>"
     },
     "execution_count": 5,
     "metadata": {},
     "output_type": "execute_result"
    }
   ],
   "source": [
    "df.describe(include='all')"
   ],
   "metadata": {
    "collapsed": false,
    "ExecuteTime": {
     "end_time": "2023-11-26T20:37:55.214392Z",
     "start_time": "2023-11-26T20:37:55.160203Z"
    }
   },
   "id": "a86f8b5d3e2d235f"
  },
  {
   "cell_type": "code",
   "execution_count": 6,
   "outputs": [
    {
     "data": {
      "text/plain": "brand\nNike          1215\nadidas         375\nConverse       354\nAir Jordan     277\nPuma           255\n              ... \nETONIC           1\nVANS             1\nFjällräven       1\nHi-tec           1\nFootshop         1\nName: count, Length: 106, dtype: int64"
     },
     "execution_count": 6,
     "metadata": {},
     "output_type": "execute_result"
    }
   ],
   "source": [
    "unique_brands = df.brand.value_counts()\n",
    "unique_brands"
   ],
   "metadata": {
    "collapsed": false,
    "ExecuteTime": {
     "end_time": "2023-11-26T20:38:07.920163Z",
     "start_time": "2023-11-26T20:38:07.911067Z"
    }
   },
   "id": "bf3a394a762fe1d9"
  },
  {
   "cell_type": "markdown",
   "source": [
    "Уникальность представлена нечестно из-за представлений некоторых значений в виде списка-строки. Исправим ситуацию для анализа:"
   ],
   "metadata": {
    "collapsed": false
   },
   "id": "fe0da9c75560b519"
  },
  {
   "cell_type": "code",
   "execution_count": 7,
   "outputs": [],
   "source": [
    "def unique_in_stringlist(obj: [str|float]) -> set[str]:\n",
    "    if type(obj) is str:\n",
    "        return set([item.strip('\\'') for item in obj.strip('][').split(', ')])\n",
    "    return obj\n",
    "\n",
    "\n",
    "assert (unique_in_stringlist(\"['footshop', 'footshop', 'footshop', 'kickscrew']\") == {'footshop', 'kickscrew'})"
   ],
   "metadata": {
    "collapsed": false,
    "ExecuteTime": {
     "end_time": "2023-11-26T20:38:16.973834Z",
     "start_time": "2023-11-26T20:38:16.964077Z"
    }
   },
   "id": "d6de3b8288cf9ac6"
  },
  {
   "cell_type": "code",
   "execution_count": 9,
   "outputs": [
    {
     "data": {
      "text/plain": "website\n{kickscrew}                                       2444\n{footshop}                                        1548\n{superkicks}                                       324\n{sneakerbaas}                                      312\n{kickscrew, footshop}                               65\n{sneakerbaas, footshop}                             61\n{footshop, superkicks}                              49\n{kickscrew, superkicks}                             42\n{kickscrew, footshop, superkicks}                   34\n{kickscrew, sneakerbaas, footshop, superkicks}      16\n{sneakerbaas, kickscrew, footshop}                  15\n{sneakerbaas, footshop, superkicks}                 12\n{sneakerbaas, kickscrew}                            11\n{sneakerbaas, superkicks}                            9\n{sneakerbaas, kickscrew, superkicks}                 2\nName: count, dtype: int64"
     },
     "execution_count": 9,
     "metadata": {},
     "output_type": "execute_result"
    }
   ],
   "source": [
    "df.website.apply(unique_in_stringlist).value_counts()"
   ],
   "metadata": {
    "collapsed": false,
    "ExecuteTime": {
     "end_time": "2023-11-26T20:38:52.315949Z",
     "start_time": "2023-11-26T20:38:52.268428Z"
    }
   },
   "id": "8dc21f11dfe5fc09"
  },
  {
   "cell_type": "code",
   "execution_count": 13,
   "outputs": [
    {
     "data": {
      "text/plain": "color\n{black}                         315\n{nan}                           313\n{white}                         110\n{black white}                    61\n{white black}                    48\n                               ... \n{active red}                      1\n{cool grey infrared}              1\n{yellow bear}                     1\n{black glow volt}                 1\n{savanna, sand, cloud white}      1\nName: count, Length: 3152, dtype: int64"
     },
     "execution_count": 13,
     "metadata": {},
     "output_type": "execute_result"
    }
   ],
   "source": [
    "df.color.astype(str).apply(lambda x: x.lower()).apply(unique_in_stringlist).value_counts()"
   ],
   "metadata": {
    "collapsed": false,
    "ExecuteTime": {
     "end_time": "2023-11-26T20:40:15.016330Z",
     "start_time": "2023-11-26T20:40:14.998725Z"
    }
   },
   "id": "3b6b130780eab437"
  },
  {
   "cell_type": "code",
   "execution_count": 14,
   "outputs": [
    {
     "name": "stdout",
     "output_type": "stream",
     "text": [
      "Emoty colors: title_merge        313\n",
      "brand              313\n",
      "collection_name    313\n",
      "color                0\n",
      "images_path        313\n",
      "price              313\n",
      "pricecurrency      313\n",
      "url                313\n",
      "website            313\n",
      "dtype: int64\n"
     ]
    }
   ],
   "source": [
    "print(\"Emoty colors:\", df[df.color.isna()].count())"
   ],
   "metadata": {
    "collapsed": false,
    "ExecuteTime": {
     "end_time": "2023-11-26T20:40:44.292328Z",
     "start_time": "2023-11-26T20:40:44.284618Z"
    }
   },
   "id": "b09e7705d6b5a5a7"
  },
  {
   "cell_type": "code",
   "execution_count": 56,
   "outputs": [
    {
     "data": {
      "text/plain": "brand\nNike                  54\nAsics                 38\nVans                  31\nadidas                28\nConverse              20\nPuma                  15\nOnitsuka Tiger        15\nNew Balance           14\nReebok                11\nSkechers               8\nPUMA Sportstyle        8\nPuma Sportstyle        8\nAir Jordan             8\nLi-Ning                6\nMizuno                 5\nUGG                    4\nSaucony                4\nadidas Originals       4\nSALOMON                4\nFila                   3\nReebok Classics        3\nAdidas Originals       3\nAdidas                 2\nUnder Armour           2\nHi-Tec                 2\nCrocs                  2\nOFF-WHITE              2\nTHE NORTH FACE         1\nHOKA ONE ONE           1\nANTA                   1\nDr. Martens            1\nGUCCI                  1\nCASIO                  1\nClarks Originals       1\nFILA                   1\nNike Skateboarding     1\nName: count, dtype: int64"
     },
     "execution_count": 56,
     "metadata": {},
     "output_type": "execute_result"
    }
   ],
   "source": [
    "# No color by brand\n",
    "df[df.color.isna()].brand.value_counts() "
   ],
   "metadata": {
    "collapsed": false,
    "ExecuteTime": {
     "end_time": "2023-11-21T09:42:21.783983Z",
     "start_time": "2023-11-21T09:42:21.774368Z"
    }
   },
   "id": "44fb99b79c6f6df"
  },
  {
   "cell_type": "code",
   "execution_count": 15,
   "outputs": [
    {
     "data": {
      "text/plain": "website\n{kickscrew}                  237\n{sneakerbaas}                 35\n{superkicks}                  34\n{kickscrew, superkicks}        3\n{sneakerbaas, footshop}        3\n{sneakerbaas, superkicks}      1\nName: count, dtype: int64"
     },
     "execution_count": 15,
     "metadata": {},
     "output_type": "execute_result"
    }
   ],
   "source": [
    "df[df.color.isna()].website.apply(unique_in_stringlist).value_counts()"
   ],
   "metadata": {
    "collapsed": false,
    "ExecuteTime": {
     "end_time": "2023-11-26T20:41:06.803297Z",
     "start_time": "2023-11-26T20:41:06.785289Z"
    }
   },
   "id": "5d0540dc4fe48681"
  },
  {
   "cell_type": "markdown",
   "source": [
    "Цвета довольно рандомные и при этом имеют пропуски по очевидным причинам - некоторые кроссовки не получили свой цвет при: 1) парсинге 2) удалении цвета из названия. В примере с kickscrew причиной является 1 вариант, так как цвет можно найти на веб-версии, но нет в базе данных (algolia)."
   ],
   "metadata": {
    "collapsed": false
   },
   "id": "10fd33eb1bd0cc83"
  },
  {
   "cell_type": "code",
   "execution_count": 16,
   "outputs": [
    {
     "data": {
      "text/plain": "'https://www.kickscrew.com/products/puma-1948-mid-359169-08'"
     },
     "execution_count": 16,
     "metadata": {},
     "output_type": "execute_result"
    }
   ],
   "source": [
    "df[df.color.isna()].url.iloc[0][2:-2]"
   ],
   "metadata": {
    "collapsed": false,
    "ExecuteTime": {
     "end_time": "2023-11-26T20:41:26.394122Z",
     "start_time": "2023-11-26T20:41:26.385081Z"
    }
   },
   "id": "bd42a9cd4e7cd3"
  },
  {
   "cell_type": "code",
   "execution_count": null,
   "outputs": [],
   "source": [],
   "metadata": {
    "collapsed": false
   },
   "id": "8b47697cf89847a"
  }
 ],
 "metadata": {
  "kernelspec": {
   "display_name": "Python 3",
   "language": "python",
   "name": "python3"
  },
  "language_info": {
   "codemirror_mode": {
    "name": "ipython",
    "version": 2
   },
   "file_extension": ".py",
   "mimetype": "text/x-python",
   "name": "python",
   "nbconvert_exporter": "python",
   "pygments_lexer": "ipython2",
   "version": "2.7.6"
  }
 },
 "nbformat": 4,
 "nbformat_minor": 5
}
