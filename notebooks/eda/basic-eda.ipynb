{
 "cells": [
  {
   "cell_type": "markdown",
   "source": [
    "# EDA notebook"
   ],
   "metadata": {
    "collapsed": false
   },
   "id": "254fe0939225d985"
  },
  {
   "cell_type": "code",
   "execution_count": 1,
   "outputs": [],
   "source": [
    "# for PyCharm\n",
    "import os\n",
    "\n",
    "current_directory = os.getcwd()\n",
    "project_directory = os.path.abspath(os.path.join(current_directory, os.pardir, os.pardir))\n",
    "os.chdir(project_directory)"
   ],
   "metadata": {
    "collapsed": false,
    "ExecuteTime": {
     "end_time": "2023-12-04T14:08:54.932591569Z",
     "start_time": "2023-12-04T14:08:54.929098241Z"
    }
   },
   "id": "feab9599e726ec1e"
  },
  {
   "cell_type": "code",
   "execution_count": 11,
   "id": "initial_id",
   "metadata": {
    "collapsed": true,
    "ExecuteTime": {
     "end_time": "2023-12-04T14:09:27.929503279Z",
     "start_time": "2023-12-04T14:09:27.887342890Z"
    }
   },
   "outputs": [],
   "source": [
    "import pandas as pd\n",
    "import seaborn as sns\n",
    "import matplotlib.pyplot as plt\n",
    "from src.data.merger import Merger\n",
    "from collections import Counter\n",
    "import pandas as pd\n",
    "from src.data.image import *\n",
    "import numpy as np"
   ]
  },
  {
   "cell_type": "code",
   "execution_count": 3,
   "outputs": [],
   "source": [
    "# !dvc pull data/merged/metadata"
   ],
   "metadata": {
    "collapsed": false,
    "ExecuteTime": {
     "end_time": "2023-12-04T14:08:55.168671379Z",
     "start_time": "2023-12-04T14:08:55.111486143Z"
    }
   },
   "id": "da75e90a81e94176"
  },
  {
   "cell_type": "markdown",
   "source": [
    "# Main dataset"
   ],
   "metadata": {
    "collapsed": false
   },
   "id": "699b9433cc129c01"
  },
  {
   "cell_type": "code",
   "execution_count": 4,
   "outputs": [
    {
     "data": {
      "text/plain": "  title_merge brand_merge                                        images_path  \\\n0      01 low       autry  ['data/raw/images/sneakerbaas/category-men/aut...   \n1    01 low m       autry  ['data/raw/images/sneakerbaas/category-men/aut...   \n2  01 low man       autry  ['data/raw/images/sneakerbaas/category-men/aut...   \n3    01 low w       autry  ['data/raw/images/sneakerbaas/category-women/a...   \n4  01 low wom       autry  ['data/raw/images/sneakerbaas/category-women/a...   \n\n    price pricecurrency                                             color  \\\n0  129.99           EUR                              ['Mustard', 'White']   \n1  149.99           EUR                 ['BI EDEN', 'BI VIOLET', 'BLACK']   \n2  149.99           EUR                                 ['LEAT/LEAT RED']   \n3  149.99           EUR  ['BI IVORY', 'BI POW', 'SALTWATER', 'WHT/CORAL']   \n4  149.99           EUR                                    ['WHT/PETROL']   \n\n                                             website  \n0                     ['sneakerbaas', 'sneakerbaas']  \n1      ['sneakerbaas', 'sneakerbaas', 'sneakerbaas']  \n2                                    ['sneakerbaas']  \n3  ['sneakerbaas', 'sneakerbaas', 'sneakerbaas', ...  \n4                                    ['sneakerbaas']  ",
      "text/html": "<div>\n<style scoped>\n    .dataframe tbody tr th:only-of-type {\n        vertical-align: middle;\n    }\n\n    .dataframe tbody tr th {\n        vertical-align: top;\n    }\n\n    .dataframe thead th {\n        text-align: right;\n    }\n</style>\n<table border=\"1\" class=\"dataframe\">\n  <thead>\n    <tr style=\"text-align: right;\">\n      <th></th>\n      <th>title_merge</th>\n      <th>brand_merge</th>\n      <th>images_path</th>\n      <th>price</th>\n      <th>pricecurrency</th>\n      <th>color</th>\n      <th>website</th>\n    </tr>\n  </thead>\n  <tbody>\n    <tr>\n      <th>0</th>\n      <td>01 low</td>\n      <td>autry</td>\n      <td>['data/raw/images/sneakerbaas/category-men/aut...</td>\n      <td>129.99</td>\n      <td>EUR</td>\n      <td>['Mustard', 'White']</td>\n      <td>['sneakerbaas', 'sneakerbaas']</td>\n    </tr>\n    <tr>\n      <th>1</th>\n      <td>01 low m</td>\n      <td>autry</td>\n      <td>['data/raw/images/sneakerbaas/category-men/aut...</td>\n      <td>149.99</td>\n      <td>EUR</td>\n      <td>['BI EDEN', 'BI VIOLET', 'BLACK']</td>\n      <td>['sneakerbaas', 'sneakerbaas', 'sneakerbaas']</td>\n    </tr>\n    <tr>\n      <th>2</th>\n      <td>01 low man</td>\n      <td>autry</td>\n      <td>['data/raw/images/sneakerbaas/category-men/aut...</td>\n      <td>149.99</td>\n      <td>EUR</td>\n      <td>['LEAT/LEAT RED']</td>\n      <td>['sneakerbaas']</td>\n    </tr>\n    <tr>\n      <th>3</th>\n      <td>01 low w</td>\n      <td>autry</td>\n      <td>['data/raw/images/sneakerbaas/category-women/a...</td>\n      <td>149.99</td>\n      <td>EUR</td>\n      <td>['BI IVORY', 'BI POW', 'SALTWATER', 'WHT/CORAL']</td>\n      <td>['sneakerbaas', 'sneakerbaas', 'sneakerbaas', ...</td>\n    </tr>\n    <tr>\n      <th>4</th>\n      <td>01 low wom</td>\n      <td>autry</td>\n      <td>['data/raw/images/sneakerbaas/category-women/a...</td>\n      <td>149.99</td>\n      <td>EUR</td>\n      <td>['WHT/PETROL']</td>\n      <td>['sneakerbaas']</td>\n    </tr>\n  </tbody>\n</table>\n</div>"
     },
     "execution_count": 4,
     "metadata": {},
     "output_type": "execute_result"
    }
   ],
   "source": [
    "df = pd.read_csv('data/merged/metadata/main_dataset.csv')\n",
    "df.head()"
   ],
   "metadata": {
    "collapsed": false,
    "ExecuteTime": {
     "end_time": "2023-12-04T14:08:55.397203428Z",
     "start_time": "2023-12-04T14:08:55.343708961Z"
    }
   },
   "id": "259be2f6ff0a724"
  },
  {
   "cell_type": "markdown",
   "source": [
    "## Preparations"
   ],
   "metadata": {
    "collapsed": false
   },
   "id": "d7126dbafd3bfa47"
  },
  {
   "cell_type": "code",
   "execution_count": 5,
   "outputs": [
    {
     "name": "stdout",
     "output_type": "stream",
     "text": [
      "<class 'pandas.core.frame.DataFrame'>\n",
      "RangeIndex: 877 entries, 0 to 876\n",
      "Data columns (total 7 columns):\n",
      " #   Column         Non-Null Count  Dtype  \n",
      "---  ------         --------------  -----  \n",
      " 0   title_merge    877 non-null    object \n",
      " 1   brand_merge    877 non-null    object \n",
      " 2   images_path    877 non-null    object \n",
      " 3   price          877 non-null    float64\n",
      " 4   pricecurrency  877 non-null    object \n",
      " 5   color          877 non-null    object \n",
      " 6   website        877 non-null    object \n",
      "dtypes: float64(1), object(6)\n",
      "memory usage: 48.1+ KB\n"
     ]
    }
   ],
   "source": [
    "df.info()"
   ],
   "metadata": {
    "collapsed": false,
    "ExecuteTime": {
     "end_time": "2023-12-04T14:08:56.384509631Z",
     "start_time": "2023-12-04T14:08:56.381348679Z"
    }
   },
   "id": "ac4771e4162347fa"
  },
  {
   "cell_type": "code",
   "execution_count": 6,
   "outputs": [
    {
     "data": {
      "text/plain": "       title_merge brand_merge  \\\ncount          877         877   \nunique         877          30   \ntop         01 low        nike   \nfreq             1         185   \nmean           NaN         NaN   \nstd            NaN         NaN   \nmin            NaN         NaN   \n25%            NaN         NaN   \n50%            NaN         NaN   \n75%            NaN         NaN   \nmax            NaN         NaN   \n\n                                              images_path         price  \\\ncount                                                 877    877.000000   \nunique                                                877           NaN   \ntop     ['data/raw/images/sneakerbaas/category-men/aut...           NaN   \nfreq                                                    1           NaN   \nmean                                                  NaN   5677.451471   \nstd                                                   NaN   5823.709353   \nmin                                                   NaN     11.950000   \n25%                                                   NaN     99.950000   \n50%                                                   NaN   5499.000000   \n75%                                                   NaN   9749.000000   \nmax                                                   NaN  39999.000000   \n\n       pricecurrency color          website  \ncount            877   877              877  \nunique             2   704               50  \ntop              INR  ['']  ['sneakerbaas']  \nfreq             499    68              230  \nmean             NaN   NaN              NaN  \nstd              NaN   NaN              NaN  \nmin              NaN   NaN              NaN  \n25%              NaN   NaN              NaN  \n50%              NaN   NaN              NaN  \n75%              NaN   NaN              NaN  \nmax              NaN   NaN              NaN  ",
      "text/html": "<div>\n<style scoped>\n    .dataframe tbody tr th:only-of-type {\n        vertical-align: middle;\n    }\n\n    .dataframe tbody tr th {\n        vertical-align: top;\n    }\n\n    .dataframe thead th {\n        text-align: right;\n    }\n</style>\n<table border=\"1\" class=\"dataframe\">\n  <thead>\n    <tr style=\"text-align: right;\">\n      <th></th>\n      <th>title_merge</th>\n      <th>brand_merge</th>\n      <th>images_path</th>\n      <th>price</th>\n      <th>pricecurrency</th>\n      <th>color</th>\n      <th>website</th>\n    </tr>\n  </thead>\n  <tbody>\n    <tr>\n      <th>count</th>\n      <td>877</td>\n      <td>877</td>\n      <td>877</td>\n      <td>877.000000</td>\n      <td>877</td>\n      <td>877</td>\n      <td>877</td>\n    </tr>\n    <tr>\n      <th>unique</th>\n      <td>877</td>\n      <td>30</td>\n      <td>877</td>\n      <td>NaN</td>\n      <td>2</td>\n      <td>704</td>\n      <td>50</td>\n    </tr>\n    <tr>\n      <th>top</th>\n      <td>01 low</td>\n      <td>nike</td>\n      <td>['data/raw/images/sneakerbaas/category-men/aut...</td>\n      <td>NaN</td>\n      <td>INR</td>\n      <td>['']</td>\n      <td>['sneakerbaas']</td>\n    </tr>\n    <tr>\n      <th>freq</th>\n      <td>1</td>\n      <td>185</td>\n      <td>1</td>\n      <td>NaN</td>\n      <td>499</td>\n      <td>68</td>\n      <td>230</td>\n    </tr>\n    <tr>\n      <th>mean</th>\n      <td>NaN</td>\n      <td>NaN</td>\n      <td>NaN</td>\n      <td>5677.451471</td>\n      <td>NaN</td>\n      <td>NaN</td>\n      <td>NaN</td>\n    </tr>\n    <tr>\n      <th>std</th>\n      <td>NaN</td>\n      <td>NaN</td>\n      <td>NaN</td>\n      <td>5823.709353</td>\n      <td>NaN</td>\n      <td>NaN</td>\n      <td>NaN</td>\n    </tr>\n    <tr>\n      <th>min</th>\n      <td>NaN</td>\n      <td>NaN</td>\n      <td>NaN</td>\n      <td>11.950000</td>\n      <td>NaN</td>\n      <td>NaN</td>\n      <td>NaN</td>\n    </tr>\n    <tr>\n      <th>25%</th>\n      <td>NaN</td>\n      <td>NaN</td>\n      <td>NaN</td>\n      <td>99.950000</td>\n      <td>NaN</td>\n      <td>NaN</td>\n      <td>NaN</td>\n    </tr>\n    <tr>\n      <th>50%</th>\n      <td>NaN</td>\n      <td>NaN</td>\n      <td>NaN</td>\n      <td>5499.000000</td>\n      <td>NaN</td>\n      <td>NaN</td>\n      <td>NaN</td>\n    </tr>\n    <tr>\n      <th>75%</th>\n      <td>NaN</td>\n      <td>NaN</td>\n      <td>NaN</td>\n      <td>9749.000000</td>\n      <td>NaN</td>\n      <td>NaN</td>\n      <td>NaN</td>\n    </tr>\n    <tr>\n      <th>max</th>\n      <td>NaN</td>\n      <td>NaN</td>\n      <td>NaN</td>\n      <td>39999.000000</td>\n      <td>NaN</td>\n      <td>NaN</td>\n      <td>NaN</td>\n    </tr>\n  </tbody>\n</table>\n</div>"
     },
     "execution_count": 6,
     "metadata": {},
     "output_type": "execute_result"
    }
   ],
   "source": [
    "df.describe(include='all')"
   ],
   "metadata": {
    "collapsed": false,
    "ExecuteTime": {
     "end_time": "2023-12-04T14:08:57.799486540Z",
     "start_time": "2023-12-04T14:08:57.753211370Z"
    }
   },
   "id": "a86f8b5d3e2d235f"
  },
  {
   "cell_type": "code",
   "execution_count": 7,
   "outputs": [
    {
     "data": {
      "text/plain": "title_merge      0\nbrand_merge      0\nimages_path      0\nprice            0\npricecurrency    0\ncolor            0\nwebsite          0\ndtype: int64"
     },
     "execution_count": 7,
     "metadata": {},
     "output_type": "execute_result"
    }
   ],
   "source": [
    "df.isna().sum()"
   ],
   "metadata": {
    "collapsed": false,
    "ExecuteTime": {
     "end_time": "2023-12-04T14:08:58.615128354Z",
     "start_time": "2023-12-04T14:08:58.604921941Z"
    }
   },
   "id": "3f53784f186a99ea"
  },
  {
   "cell_type": "code",
   "execution_count": 8,
   "outputs": [
    {
     "data": {
      "text/plain": "brand_merge\nnike                    185\npuma                    137\nadidas                  123\nreebok                   72\nconverse                 57\njordan                   44\nvans                     35\nasics                    26\nkangaroos                24\nnew balance              22\nclarks                   17\nautry                    17\ntoms                     17\nveja                     15\nsaucony                  13\nmizuno                   11\ndiadora                  10\nsalomon                  10\nkarhu                     9\nhi tec                    7\netonic                    6\nsuicoke                   5\nstepney workers club      4\nsergio tacchini           3\ny 3                       2\nmerrell                   2\nfila                      1\ncrocs                     1\nrepresent                 1\nwarrior                   1\nName: count, dtype: int64"
     },
     "execution_count": 8,
     "metadata": {},
     "output_type": "execute_result"
    }
   ],
   "source": [
    "unique_brands = df[\"brand_merge\"].value_counts()\n",
    "unique_brands"
   ],
   "metadata": {
    "collapsed": false,
    "ExecuteTime": {
     "end_time": "2023-12-04T14:09:01.444326660Z",
     "start_time": "2023-12-04T14:09:01.437480875Z"
    }
   },
   "id": "bf3a394a762fe1d9"
  },
  {
   "cell_type": "code",
   "execution_count": 20,
   "outputs": [
    {
     "data": {
      "text/plain": "website\n{superkicks}                 463\n{sneakerbaas}                378\n{superkicks, sneakerbaas}     36\nName: count, dtype: int64"
     },
     "execution_count": 20,
     "metadata": {},
     "output_type": "execute_result"
    }
   ],
   "source": [
    "# Мердж в основном происходит внутри одного вебсайта, между сайтами нету пересечений\n",
    "df[\"website\"].apply(lambda x: set(eval(x))).value_counts()"
   ],
   "metadata": {
    "collapsed": false,
    "ExecuteTime": {
     "end_time": "2023-12-04T14:12:30.133876111Z",
     "start_time": "2023-12-04T14:12:30.089783100Z"
    }
   },
   "id": "8dc21f11dfe5fc09"
  },
  {
   "cell_type": "code",
   "execution_count": 22,
   "outputs": [
    {
     "data": {
      "text/plain": "[('', 1),\n ('ACADEMY PINK', 1),\n ('ACTION PRT', 1),\n ('ALUMINIUM/WHITE/BURGUNDY', 1),\n ('ALUMINIUM/WONDER MAUVE', 1),\n ('ANIMAL PRINT', 1),\n ('ANTHRACITE/ANTHRACITE-BLACK-WOLF GREY', 1),\n ('AQUA', 1),\n ('AQUAMARINE', 1),\n ('ARCHEO PINK', 1)]"
     },
     "execution_count": 22,
     "metadata": {},
     "output_type": "execute_result"
    }
   ],
   "source": [
    "# Топ цветов - тяжело посчитать, все цвета имеют разные называния\n",
    "Counter(Merger.flatten_list(df[\"color\"].apply(eval).values)).most_common(10)"
   ],
   "metadata": {
    "collapsed": false,
    "ExecuteTime": {
     "end_time": "2023-12-04T14:13:12.124113073Z",
     "start_time": "2023-12-04T14:13:12.076323434Z"
    }
   },
   "id": "3b6b130780eab437"
  },
  {
   "cell_type": "code",
   "execution_count": 23,
   "outputs": [],
   "source": [
    "by_brands = pd.read_csv(\"data/merged/metadata/brands_dataset.csv\")\n",
    "by_models = pd.read_csv(\"data/merged/metadata/models_dataset.csv\")\n",
    "brands_images_path = \"data/merged/images/by-brands\"\n",
    "models_images_path = \"data/merged/images/by-models\""
   ],
   "metadata": {
    "collapsed": false,
    "ExecuteTime": {
     "end_time": "2023-12-04T14:14:35.740598077Z",
     "start_time": "2023-12-04T14:14:35.688911721Z"
    }
   },
   "id": "8b47697cf89847a"
  },
  {
   "cell_type": "markdown",
   "source": [
    "# Датасет брендов"
   ],
   "metadata": {
    "collapsed": false
   },
   "id": "8fd1746afa0c18e3"
  },
  {
   "cell_type": "markdown",
   "source": [
    "## Топ брендов по количеству картинок"
   ],
   "metadata": {
    "collapsed": false
   },
   "id": "166a53f7b182ae2c"
  },
  {
   "cell_type": "code",
   "execution_count": 24,
   "outputs": [
    {
     "data": {
      "text/plain": "             brand_merge  unique_images_count\n16                  nike                 1527\n0                 adidas                  923\n17                  puma                  608\n18                reebok                  370\n4               converse                  361\n10                jordan                  337\n1                  asics                  279\n21               saucony                  193\n15           new balance                  184\n12                 karhu                  178\n3                 clarks                  125\n26                  vans                  122\n11             kangaroos                  102\n25                  toms                   80\n2                  autry                   76\n9                 hi tec                   75\n14                mizuno                   71\n27                  veja                   57\n20               salomon                   49\n6                diadora                   42\n23  stepney workers club                   29\n7                 etonic                   28\n24               suicoke                   20\n22       sergio tacchini                   18\n29                   y 3                   11\n13               merrell                    9\n19             represent                    8\n5                  crocs                    5\n28               warrior                    4\n8                   fila                    1",
      "text/html": "<div>\n<style scoped>\n    .dataframe tbody tr th:only-of-type {\n        vertical-align: middle;\n    }\n\n    .dataframe tbody tr th {\n        vertical-align: top;\n    }\n\n    .dataframe thead th {\n        text-align: right;\n    }\n</style>\n<table border=\"1\" class=\"dataframe\">\n  <thead>\n    <tr style=\"text-align: right;\">\n      <th></th>\n      <th>brand_merge</th>\n      <th>unique_images_count</th>\n    </tr>\n  </thead>\n  <tbody>\n    <tr>\n      <th>16</th>\n      <td>nike</td>\n      <td>1527</td>\n    </tr>\n    <tr>\n      <th>0</th>\n      <td>adidas</td>\n      <td>923</td>\n    </tr>\n    <tr>\n      <th>17</th>\n      <td>puma</td>\n      <td>608</td>\n    </tr>\n    <tr>\n      <th>18</th>\n      <td>reebok</td>\n      <td>370</td>\n    </tr>\n    <tr>\n      <th>4</th>\n      <td>converse</td>\n      <td>361</td>\n    </tr>\n    <tr>\n      <th>10</th>\n      <td>jordan</td>\n      <td>337</td>\n    </tr>\n    <tr>\n      <th>1</th>\n      <td>asics</td>\n      <td>279</td>\n    </tr>\n    <tr>\n      <th>21</th>\n      <td>saucony</td>\n      <td>193</td>\n    </tr>\n    <tr>\n      <th>15</th>\n      <td>new balance</td>\n      <td>184</td>\n    </tr>\n    <tr>\n      <th>12</th>\n      <td>karhu</td>\n      <td>178</td>\n    </tr>\n    <tr>\n      <th>3</th>\n      <td>clarks</td>\n      <td>125</td>\n    </tr>\n    <tr>\n      <th>26</th>\n      <td>vans</td>\n      <td>122</td>\n    </tr>\n    <tr>\n      <th>11</th>\n      <td>kangaroos</td>\n      <td>102</td>\n    </tr>\n    <tr>\n      <th>25</th>\n      <td>toms</td>\n      <td>80</td>\n    </tr>\n    <tr>\n      <th>2</th>\n      <td>autry</td>\n      <td>76</td>\n    </tr>\n    <tr>\n      <th>9</th>\n      <td>hi tec</td>\n      <td>75</td>\n    </tr>\n    <tr>\n      <th>14</th>\n      <td>mizuno</td>\n      <td>71</td>\n    </tr>\n    <tr>\n      <th>27</th>\n      <td>veja</td>\n      <td>57</td>\n    </tr>\n    <tr>\n      <th>20</th>\n      <td>salomon</td>\n      <td>49</td>\n    </tr>\n    <tr>\n      <th>6</th>\n      <td>diadora</td>\n      <td>42</td>\n    </tr>\n    <tr>\n      <th>23</th>\n      <td>stepney workers club</td>\n      <td>29</td>\n    </tr>\n    <tr>\n      <th>7</th>\n      <td>etonic</td>\n      <td>28</td>\n    </tr>\n    <tr>\n      <th>24</th>\n      <td>suicoke</td>\n      <td>20</td>\n    </tr>\n    <tr>\n      <th>22</th>\n      <td>sergio tacchini</td>\n      <td>18</td>\n    </tr>\n    <tr>\n      <th>29</th>\n      <td>y 3</td>\n      <td>11</td>\n    </tr>\n    <tr>\n      <th>13</th>\n      <td>merrell</td>\n      <td>9</td>\n    </tr>\n    <tr>\n      <th>19</th>\n      <td>represent</td>\n      <td>8</td>\n    </tr>\n    <tr>\n      <th>5</th>\n      <td>crocs</td>\n      <td>5</td>\n    </tr>\n    <tr>\n      <th>28</th>\n      <td>warrior</td>\n      <td>4</td>\n    </tr>\n    <tr>\n      <th>8</th>\n      <td>fila</td>\n      <td>1</td>\n    </tr>\n  </tbody>\n</table>\n</div>"
     },
     "execution_count": 24,
     "metadata": {},
     "output_type": "execute_result"
    }
   ],
   "source": [
    "by_brands.sort_values(by=\"unique_images_count\", ascending=False)[[\"brand_merge\", \"unique_images_count\"]]"
   ],
   "metadata": {
    "collapsed": false,
    "ExecuteTime": {
     "end_time": "2023-12-04T14:14:37.060665989Z",
     "start_time": "2023-12-04T14:14:37.030643925Z"
    }
   },
   "id": "4855ae585b3ea935"
  },
  {
   "cell_type": "markdown",
   "source": [
    "# Количество картинок"
   ],
   "metadata": {
    "collapsed": false
   },
   "id": "9562f2c2bc804e67"
  },
  {
   "cell_type": "code",
   "execution_count": 25,
   "outputs": [
    {
     "data": {
      "text/plain": "5892"
     },
     "execution_count": 25,
     "metadata": {},
     "output_type": "execute_result"
    }
   ],
   "source": [
    "get_images_count(brands_images_path)"
   ],
   "metadata": {
    "collapsed": false,
    "ExecuteTime": {
     "end_time": "2023-12-04T14:14:53.257696337Z",
     "start_time": "2023-12-04T14:14:53.144347284Z"
    }
   },
   "id": "823dbc4639dcb150"
  },
  {
   "cell_type": "markdown",
   "source": [
    "## Расширения картинок"
   ],
   "metadata": {
    "collapsed": false
   },
   "id": "edd23156dbdd936a"
  },
  {
   "cell_type": "code",
   "execution_count": 26,
   "outputs": [
    {
     "data": {
      "text/plain": "{'JPEG'}"
     },
     "execution_count": 26,
     "metadata": {},
     "output_type": "execute_result"
    }
   ],
   "source": [
    "set(get_images_formats(brands_images_path))"
   ],
   "metadata": {
    "collapsed": false,
    "ExecuteTime": {
     "end_time": "2023-12-04T14:14:56.292147529Z",
     "start_time": "2023-12-04T14:14:54.816542198Z"
    }
   },
   "id": "50e20f4e62858136"
  },
  {
   "cell_type": "markdown",
   "source": [
    "## Расширения файлов картинок"
   ],
   "metadata": {
    "collapsed": false
   },
   "id": "9740dd5fd31b5f0a"
  },
  {
   "cell_type": "code",
   "execution_count": 27,
   "outputs": [
    {
     "data": {
      "text/plain": "{'.jpeg'}"
     },
     "execution_count": 27,
     "metadata": {},
     "output_type": "execute_result"
    }
   ],
   "source": [
    "set(get_images_suffixes(brands_images_path))"
   ],
   "metadata": {
    "collapsed": false,
    "ExecuteTime": {
     "end_time": "2023-12-04T14:14:57.343129179Z",
     "start_time": "2023-12-04T14:14:57.266116964Z"
    }
   },
   "id": "c79478b0b57e13b1"
  },
  {
   "cell_type": "markdown",
   "source": [
    "## Размеры картинок"
   ],
   "metadata": {
    "collapsed": false
   },
   "id": "c3692aa7b06e780b"
  },
  {
   "cell_type": "code",
   "execution_count": 28,
   "outputs": [
    {
     "name": "stdout",
     "output_type": "stream",
     "text": [
      "Max size: (2000, 2000)\n",
      "Min size: (432, 381)\n"
     ]
    }
   ],
   "source": [
    "sizes = get_images_sizes(brands_images_path)\n",
    "print(\"Max size:\", max(sizes, key=lambda x: (x[0], x[1])))\n",
    "print(\"Min size:\", min(sizes, key=lambda x: (x[0], x[1])))"
   ],
   "metadata": {
    "collapsed": false,
    "ExecuteTime": {
     "end_time": "2023-12-04T14:14:59.866306353Z",
     "start_time": "2023-12-04T14:14:59.043518114Z"
    }
   },
   "id": "79561d8f3a8b8959"
  },
  {
   "cell_type": "markdown",
   "source": [
    "# Датасет моделей"
   ],
   "metadata": {
    "collapsed": false
   },
   "id": "40c8976e3741a981"
  },
  {
   "cell_type": "markdown",
   "source": [
    "## Топ моделей по количеству картинок"
   ],
   "metadata": {
    "collapsed": false
   },
   "id": "f94f61d95f5e26e3"
  },
  {
   "cell_type": "code",
   "execution_count": 29,
   "outputs": [
    {
     "data": {
      "text/plain": "                             title_merge  unique_images_count\n577                          shadow 6000                   95\n327                            fusion 20                   59\n730                  wmns air force 1 07                   54\n34                                   550                   53\n576                          shadow 5000                   47\n..                                   ...                  ...\n552                        rs z reinvent                    1\n773  wmns blazer low platform pink glaze                    1\n574                           sdu j mesh                    1\n122              answer 5 x eric emanuel                    1\n311                          falcon rx w                    1\n\n[877 rows x 2 columns]",
      "text/html": "<div>\n<style scoped>\n    .dataframe tbody tr th:only-of-type {\n        vertical-align: middle;\n    }\n\n    .dataframe tbody tr th {\n        vertical-align: top;\n    }\n\n    .dataframe thead th {\n        text-align: right;\n    }\n</style>\n<table border=\"1\" class=\"dataframe\">\n  <thead>\n    <tr style=\"text-align: right;\">\n      <th></th>\n      <th>title_merge</th>\n      <th>unique_images_count</th>\n    </tr>\n  </thead>\n  <tbody>\n    <tr>\n      <th>577</th>\n      <td>shadow 6000</td>\n      <td>95</td>\n    </tr>\n    <tr>\n      <th>327</th>\n      <td>fusion 20</td>\n      <td>59</td>\n    </tr>\n    <tr>\n      <th>730</th>\n      <td>wmns air force 1 07</td>\n      <td>54</td>\n    </tr>\n    <tr>\n      <th>34</th>\n      <td>550</td>\n      <td>53</td>\n    </tr>\n    <tr>\n      <th>576</th>\n      <td>shadow 5000</td>\n      <td>47</td>\n    </tr>\n    <tr>\n      <th>...</th>\n      <td>...</td>\n      <td>...</td>\n    </tr>\n    <tr>\n      <th>552</th>\n      <td>rs z reinvent</td>\n      <td>1</td>\n    </tr>\n    <tr>\n      <th>773</th>\n      <td>wmns blazer low platform pink glaze</td>\n      <td>1</td>\n    </tr>\n    <tr>\n      <th>574</th>\n      <td>sdu j mesh</td>\n      <td>1</td>\n    </tr>\n    <tr>\n      <th>122</th>\n      <td>answer 5 x eric emanuel</td>\n      <td>1</td>\n    </tr>\n    <tr>\n      <th>311</th>\n      <td>falcon rx w</td>\n      <td>1</td>\n    </tr>\n  </tbody>\n</table>\n<p>877 rows × 2 columns</p>\n</div>"
     },
     "execution_count": 29,
     "metadata": {},
     "output_type": "execute_result"
    }
   ],
   "source": [
    "by_models.sort_values(by=\"unique_images_count\", ascending=False)[[\"title_merge\",\"unique_images_count\"]]"
   ],
   "metadata": {
    "collapsed": false,
    "ExecuteTime": {
     "end_time": "2023-12-04T14:15:04.144558536Z",
     "start_time": "2023-12-04T14:15:04.112358193Z"
    }
   },
   "id": "8af25b515b8c7c9d"
  },
  {
   "cell_type": "markdown",
   "source": [
    "## Количество картинок"
   ],
   "metadata": {
    "collapsed": false
   },
   "id": "e2bd3615117ca728"
  },
  {
   "cell_type": "code",
   "execution_count": 30,
   "outputs": [
    {
     "data": {
      "text/plain": "5922"
     },
     "execution_count": 30,
     "metadata": {},
     "output_type": "execute_result"
    }
   ],
   "source": [
    "get_images_count(models_images_path)"
   ],
   "metadata": {
    "collapsed": false,
    "ExecuteTime": {
     "end_time": "2023-12-04T14:15:07.526212257Z",
     "start_time": "2023-12-04T14:15:07.383827375Z"
    }
   },
   "id": "84da925ce66a2bb0"
  },
  {
   "cell_type": "markdown",
   "source": [
    "## Расширения картинок"
   ],
   "metadata": {
    "collapsed": false
   },
   "id": "19fc6020ef42a90a"
  },
  {
   "cell_type": "code",
   "execution_count": 31,
   "outputs": [
    {
     "data": {
      "text/plain": "{'JPEG'}"
     },
     "execution_count": 31,
     "metadata": {},
     "output_type": "execute_result"
    }
   ],
   "source": [
    "set(get_images_formats(models_images_path))"
   ],
   "metadata": {
    "collapsed": false,
    "ExecuteTime": {
     "end_time": "2023-12-04T14:15:09.763253028Z",
     "start_time": "2023-12-04T14:15:08.897173591Z"
    }
   },
   "id": "4ca74bf5d61dc343"
  },
  {
   "cell_type": "markdown",
   "source": [
    "## Расширения файлов картинок"
   ],
   "metadata": {
    "collapsed": false
   },
   "id": "7ab45e8b8b87ac77"
  },
  {
   "cell_type": "code",
   "execution_count": 32,
   "outputs": [
    {
     "data": {
      "text/plain": "{'.jpeg'}"
     },
     "execution_count": 32,
     "metadata": {},
     "output_type": "execute_result"
    }
   ],
   "source": [
    "set(get_images_suffixes(models_images_path))"
   ],
   "metadata": {
    "collapsed": false,
    "ExecuteTime": {
     "end_time": "2023-12-04T14:15:10.693327441Z",
     "start_time": "2023-12-04T14:15:10.560436022Z"
    }
   },
   "id": "c2da564c1a03453e"
  },
  {
   "cell_type": "markdown",
   "source": [
    "# Размеры картинок"
   ],
   "metadata": {
    "collapsed": false
   },
   "id": "1b20e4d9b8069426"
  },
  {
   "cell_type": "code",
   "execution_count": 33,
   "outputs": [
    {
     "name": "stdout",
     "output_type": "stream",
     "text": [
      "Max size: (2000, 2000)\n",
      "Min size: (432, 381)\n"
     ]
    }
   ],
   "source": [
    "sizes = get_images_sizes(models_images_path)\n",
    "print(\"Max size:\", max(sizes, key=lambda x: (x[0], x[1])))\n",
    "print(\"Min size:\", min(sizes, key=lambda x: (x[0], x[1])))"
   ],
   "metadata": {
    "collapsed": false,
    "ExecuteTime": {
     "end_time": "2023-12-04T14:15:12.858084452Z",
     "start_time": "2023-12-04T14:15:11.990540238Z"
    }
   },
   "id": "2a1c93cb6fbb81ef"
  }
 ],
 "metadata": {
  "kernelspec": {
   "display_name": "Python 3",
   "language": "python",
   "name": "python3"
  },
  "language_info": {
   "codemirror_mode": {
    "name": "ipython",
    "version": 2
   },
   "file_extension": ".py",
   "mimetype": "text/x-python",
   "name": "python",
   "nbconvert_exporter": "python",
   "pygments_lexer": "ipython2",
   "version": "2.7.6"
  }
 },
 "nbformat": 4,
 "nbformat_minor": 5
}
