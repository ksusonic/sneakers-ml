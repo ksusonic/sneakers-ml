{
 "cells": [
  {
   "cell_type": "markdown",
   "id": "254fe0939225d985",
   "metadata": {
    "collapsed": false
   },
   "source": [
    "# EDA notebook"
   ]
  },
  {
   "cell_type": "code",
   "execution_count": 11,
   "id": "feab9599e726ec1e",
   "metadata": {
    "ExecuteTime": {
     "end_time": "2023-12-04T19:13:35.894461778Z",
     "start_time": "2023-12-04T19:13:35.850992422Z"
    },
    "collapsed": false
   },
   "outputs": [],
   "source": [
    "from collections import Counter\n",
    "\n",
    "import pandas as pd\n",
    "\n",
    "from sneakers_ml.data.merger.column import ColumnPreprocessor\n",
    "from sneakers_ml.data.storage.image import (\n",
    "    get_images_count,\n",
    "    get_images_formats,\n",
    "    get_images_modes,\n",
    "    get_images_sizes,\n",
    "    get_images_suffixes,\n",
    ")\n",
    "\n",
    "\n",
    "def most_common(lst: list):\n",
    "    return max(set(lst), key=lst.count)"
   ]
  },
  {
   "cell_type": "markdown",
   "id": "699b9433cc129c01",
   "metadata": {
    "collapsed": false
   },
   "source": [
    "# Full dataset"
   ]
  },
  {
   "cell_type": "code",
   "execution_count": 3,
   "id": "259be2f6ff0a724",
   "metadata": {
    "ExecuteTime": {
     "end_time": "2023-12-04T19:13:36.124728312Z",
     "start_time": "2023-12-04T19:13:36.094113763Z"
    },
    "collapsed": false
   },
   "outputs": [
    {
     "data": {
      "text/html": [
       "<div>\n",
       "<style scoped>\n",
       "    .dataframe tbody tr th:only-of-type {\n",
       "        vertical-align: middle;\n",
       "    }\n",
       "\n",
       "    .dataframe tbody tr th {\n",
       "        vertical-align: top;\n",
       "    }\n",
       "\n",
       "    .dataframe thead th {\n",
       "        text-align: right;\n",
       "    }\n",
       "</style>\n",
       "<table border=\"1\" class=\"dataframe\">\n",
       "  <thead>\n",
       "    <tr style=\"text-align: right;\">\n",
       "      <th></th>\n",
       "      <th>title_merge</th>\n",
       "      <th>brand_merge</th>\n",
       "      <th>images_path</th>\n",
       "      <th>title</th>\n",
       "      <th>title_without_color</th>\n",
       "      <th>brand</th>\n",
       "      <th>collection_name</th>\n",
       "      <th>color</th>\n",
       "      <th>price</th>\n",
       "      <th>pricecurrency</th>\n",
       "      <th>url</th>\n",
       "      <th>website</th>\n",
       "      <th>images_flattened</th>\n",
       "    </tr>\n",
       "  </thead>\n",
       "  <tbody>\n",
       "    <tr>\n",
       "      <th>0</th>\n",
       "      <td>01 low</td>\n",
       "      <td>['autry', 'autry']</td>\n",
       "      <td>['data/raw/images/sneakerbaas/category-women/a...</td>\n",
       "      <td>['01 Low \"White\"', '01 Low \"Mustard\"']</td>\n",
       "      <td>['01 Low', '01 Low']</td>\n",
       "      <td>['Autry', 'Autry']</td>\n",
       "      <td>['category-women', 'category-men']</td>\n",
       "      <td>['White', 'Mustard']</td>\n",
       "      <td>[129.99, 149.99]</td>\n",
       "      <td>['EUR', 'EUR']</td>\n",
       "      <td>['https://www.sneakerbaas.com/collections/snea...</td>\n",
       "      <td>['sneakerbaas', 'sneakerbaas']</td>\n",
       "      <td>['data/raw/images/sneakerbaas/category-men/aut...</td>\n",
       "    </tr>\n",
       "    <tr>\n",
       "      <th>1</th>\n",
       "      <td>01 low m</td>\n",
       "      <td>['autry', 'autry', 'autry']</td>\n",
       "      <td>['data/raw/images/sneakerbaas/category-men/aut...</td>\n",
       "      <td>['01 LOW M \"BI EDEN\"', '01 LOW M \"BI VIOLET\"',...</td>\n",
       "      <td>['01 LOW M', '01 LOW M', '01 LOW M']</td>\n",
       "      <td>['Autry', 'Autry', 'Autry']</td>\n",
       "      <td>['category-men', 'category-men', 'category-men']</td>\n",
       "      <td>['BI EDEN', 'BI VIOLET', 'BLACK']</td>\n",
       "      <td>[149.99, 149.99, 149.99]</td>\n",
       "      <td>['EUR', 'EUR', 'EUR']</td>\n",
       "      <td>['https://www.sneakerbaas.com/collections/snea...</td>\n",
       "      <td>['sneakerbaas', 'sneakerbaas', 'sneakerbaas']</td>\n",
       "      <td>['data/raw/images/sneakerbaas/category-men/aut...</td>\n",
       "    </tr>\n",
       "    <tr>\n",
       "      <th>2</th>\n",
       "      <td>01 low man</td>\n",
       "      <td>['autry']</td>\n",
       "      <td>['data/raw/images/sneakerbaas/category-men/aut...</td>\n",
       "      <td>['AUTRY 01 LOW MAN \"LEAT/LEAT RED\"']</td>\n",
       "      <td>['AUTRY 01 LOW MAN']</td>\n",
       "      <td>['Autry']</td>\n",
       "      <td>['category-men']</td>\n",
       "      <td>['LEAT/LEAT RED']</td>\n",
       "      <td>[149.99]</td>\n",
       "      <td>['EUR']</td>\n",
       "      <td>['https://www.sneakerbaas.com/collections/snea...</td>\n",
       "      <td>['sneakerbaas']</td>\n",
       "      <td>['data/raw/images/sneakerbaas/category-men/aut...</td>\n",
       "    </tr>\n",
       "    <tr>\n",
       "      <th>3</th>\n",
       "      <td>01 low w</td>\n",
       "      <td>['autry', 'autry', 'autry', 'autry']</td>\n",
       "      <td>['data/raw/images/sneakerbaas/category-women/a...</td>\n",
       "      <td>['01 LOW W \"SALTWATER\"', '01 LOW W \"WHT/CORAL\"...</td>\n",
       "      <td>['01 LOW W', '01 LOW W', '01 LOW W', '01 LOW W']</td>\n",
       "      <td>['Autry', 'Autry', 'Autry', 'Autry']</td>\n",
       "      <td>['category-women', 'category-women', 'category...</td>\n",
       "      <td>['SALTWATER', 'WHT/CORAL', 'BI POW', 'BI IVORY']</td>\n",
       "      <td>[149.99, 149.99, 149.99, 149.99]</td>\n",
       "      <td>['EUR', 'EUR', 'EUR', 'EUR']</td>\n",
       "      <td>['https://www.sneakerbaas.com/collections/snea...</td>\n",
       "      <td>['sneakerbaas', 'sneakerbaas', 'sneakerbaas', ...</td>\n",
       "      <td>['data/raw/images/sneakerbaas/category-women/a...</td>\n",
       "    </tr>\n",
       "    <tr>\n",
       "      <th>4</th>\n",
       "      <td>01 low wom</td>\n",
       "      <td>['autry']</td>\n",
       "      <td>['data/raw/images/sneakerbaas/category-women/a...</td>\n",
       "      <td>['01 LOW WOM \"WHT/PETROL\"']</td>\n",
       "      <td>['01 LOW WOM']</td>\n",
       "      <td>['Autry']</td>\n",
       "      <td>['category-women']</td>\n",
       "      <td>['WHT/PETROL']</td>\n",
       "      <td>[149.99]</td>\n",
       "      <td>['EUR']</td>\n",
       "      <td>['https://www.sneakerbaas.com/collections/snea...</td>\n",
       "      <td>['sneakerbaas']</td>\n",
       "      <td>['data/raw/images/sneakerbaas/category-women/a...</td>\n",
       "    </tr>\n",
       "    <tr>\n",
       "      <th>...</th>\n",
       "      <td>...</td>\n",
       "      <td>...</td>\n",
       "      <td>...</td>\n",
       "      <td>...</td>\n",
       "      <td>...</td>\n",
       "      <td>...</td>\n",
       "      <td>...</td>\n",
       "      <td>...</td>\n",
       "      <td>...</td>\n",
       "      <td>...</td>\n",
       "      <td>...</td>\n",
       "      <td>...</td>\n",
       "      <td>...</td>\n",
       "    </tr>\n",
       "    <tr>\n",
       "      <th>872</th>\n",
       "      <td>zoom verona slip</td>\n",
       "      <td>['nike skateboarding', 'nike skateboarding']</td>\n",
       "      <td>['data/raw/images/sneakerbaas/category-men/nik...</td>\n",
       "      <td>['Zoom Verona Slip \"Leo Baker\"', 'Zoom Verona ...</td>\n",
       "      <td>['Zoom Verona Slip', 'Zoom Verona Slip']</td>\n",
       "      <td>['Nike Skateboarding', 'Nike Skateboarding']</td>\n",
       "      <td>['category-men', 'category-men']</td>\n",
       "      <td>['Leo Baker', 'Light Dew']</td>\n",
       "      <td>[49.99, 49.99]</td>\n",
       "      <td>['EUR', 'EUR']</td>\n",
       "      <td>['https://www.sneakerbaas.com/collections/snea...</td>\n",
       "      <td>['sneakerbaas', 'sneakerbaas']</td>\n",
       "      <td>['data/raw/images/sneakerbaas/category-men/nik...</td>\n",
       "    </tr>\n",
       "    <tr>\n",
       "      <th>873</th>\n",
       "      <td>zoom verona slip x leticia bufon</td>\n",
       "      <td>['nike skateboarding']</td>\n",
       "      <td>['data/raw/images/sneakerbaas/category-unisex/...</td>\n",
       "      <td>['Zoom Verona Slip x Leticia Bufon']</td>\n",
       "      <td>['Zoom Verona Slip x Leticia Bufon']</td>\n",
       "      <td>['Nike Skateboarding']</td>\n",
       "      <td>['category-unisex']</td>\n",
       "      <td>['']</td>\n",
       "      <td>[39.99]</td>\n",
       "      <td>['EUR']</td>\n",
       "      <td>['https://www.sneakerbaas.com/collections/snea...</td>\n",
       "      <td>['sneakerbaas']</td>\n",
       "      <td>['data/raw/images/sneakerbaas/category-unisex/...</td>\n",
       "    </tr>\n",
       "    <tr>\n",
       "      <th>874</th>\n",
       "      <td>zoom vomero 5 sp</td>\n",
       "      <td>['nike', 'nike']</td>\n",
       "      <td>['data/raw/images/superkicks/men-sneakers/nike...</td>\n",
       "      <td>[\"ZOOM VOMERO 5 SP 'VAST GREY/VAST GREY-BLACK-...</td>\n",
       "      <td>['ZOOM VOMERO 5 SP', 'ZOOM VOMERO 5 SP']</td>\n",
       "      <td>['Nike', 'Nike']</td>\n",
       "      <td>['men-sneakers', 'men-sneakers']</td>\n",
       "      <td>['VAST GREY/VAST GREY-BLACK-SAIL', 'ANTHRACITE...</td>\n",
       "      <td>[14995.0, 14995.0]</td>\n",
       "      <td>['INR', 'INR']</td>\n",
       "      <td>['https://www.superkicks.in/products/zoom-vome...</td>\n",
       "      <td>['superkicks', 'superkicks']</td>\n",
       "      <td>['data/raw/images/superkicks/men-sneakers/nike...</td>\n",
       "    </tr>\n",
       "    <tr>\n",
       "      <th>875</th>\n",
       "      <td>zx 22 boost</td>\n",
       "      <td>['adidas originals']</td>\n",
       "      <td>['data/raw/images/sneakerbaas/category-men/adi...</td>\n",
       "      <td>['ZX 22 BOOST \"Cream White\"']</td>\n",
       "      <td>['ZX 22 BOOST']</td>\n",
       "      <td>['Adidas Originals']</td>\n",
       "      <td>['category-men']</td>\n",
       "      <td>['Cream White']</td>\n",
       "      <td>[59.99]</td>\n",
       "      <td>['EUR']</td>\n",
       "      <td>['https://www.sneakerbaas.com/collections/snea...</td>\n",
       "      <td>['sneakerbaas']</td>\n",
       "      <td>['data/raw/images/sneakerbaas/category-men/adi...</td>\n",
       "    </tr>\n",
       "    <tr>\n",
       "      <th>876</th>\n",
       "      <td>zx 2k boost 20</td>\n",
       "      <td>['adidas']</td>\n",
       "      <td>['data/raw/images/superkicks/women-sneakers/ad...</td>\n",
       "      <td>[\"ZX 2K BOOST 2.0 'WHITE'\"]</td>\n",
       "      <td>['ZX 2K BOOST 2.0']</td>\n",
       "      <td>['Adidas']</td>\n",
       "      <td>['women-sneakers']</td>\n",
       "      <td>['WHITE']</td>\n",
       "      <td>[8399.0]</td>\n",
       "      <td>['INR']</td>\n",
       "      <td>['https://www.superkicks.in/products/zx-2k-boo...</td>\n",
       "      <td>['superkicks']</td>\n",
       "      <td>['data/raw/images/superkicks/women-sneakers/ad...</td>\n",
       "    </tr>\n",
       "  </tbody>\n",
       "</table>\n",
       "<p>877 rows × 13 columns</p>\n",
       "</div>"
      ],
      "text/plain": [
       "                          title_merge  \\\n",
       "0                              01 low   \n",
       "1                            01 low m   \n",
       "2                          01 low man   \n",
       "3                            01 low w   \n",
       "4                          01 low wom   \n",
       "..                                ...   \n",
       "872                  zoom verona slip   \n",
       "873  zoom verona slip x leticia bufon   \n",
       "874                  zoom vomero 5 sp   \n",
       "875                       zx 22 boost   \n",
       "876                    zx 2k boost 20   \n",
       "\n",
       "                                      brand_merge  \\\n",
       "0                              ['autry', 'autry']   \n",
       "1                     ['autry', 'autry', 'autry']   \n",
       "2                                       ['autry']   \n",
       "3            ['autry', 'autry', 'autry', 'autry']   \n",
       "4                                       ['autry']   \n",
       "..                                            ...   \n",
       "872  ['nike skateboarding', 'nike skateboarding']   \n",
       "873                        ['nike skateboarding']   \n",
       "874                              ['nike', 'nike']   \n",
       "875                          ['adidas originals']   \n",
       "876                                    ['adidas']   \n",
       "\n",
       "                                           images_path  \\\n",
       "0    ['data/raw/images/sneakerbaas/category-women/a...   \n",
       "1    ['data/raw/images/sneakerbaas/category-men/aut...   \n",
       "2    ['data/raw/images/sneakerbaas/category-men/aut...   \n",
       "3    ['data/raw/images/sneakerbaas/category-women/a...   \n",
       "4    ['data/raw/images/sneakerbaas/category-women/a...   \n",
       "..                                                 ...   \n",
       "872  ['data/raw/images/sneakerbaas/category-men/nik...   \n",
       "873  ['data/raw/images/sneakerbaas/category-unisex/...   \n",
       "874  ['data/raw/images/superkicks/men-sneakers/nike...   \n",
       "875  ['data/raw/images/sneakerbaas/category-men/adi...   \n",
       "876  ['data/raw/images/superkicks/women-sneakers/ad...   \n",
       "\n",
       "                                                 title  \\\n",
       "0               ['01 Low \"White\"', '01 Low \"Mustard\"']   \n",
       "1    ['01 LOW M \"BI EDEN\"', '01 LOW M \"BI VIOLET\"',...   \n",
       "2                 ['AUTRY 01 LOW MAN \"LEAT/LEAT RED\"']   \n",
       "3    ['01 LOW W \"SALTWATER\"', '01 LOW W \"WHT/CORAL\"...   \n",
       "4                          ['01 LOW WOM \"WHT/PETROL\"']   \n",
       "..                                                 ...   \n",
       "872  ['Zoom Verona Slip \"Leo Baker\"', 'Zoom Verona ...   \n",
       "873               ['Zoom Verona Slip x Leticia Bufon']   \n",
       "874  [\"ZOOM VOMERO 5 SP 'VAST GREY/VAST GREY-BLACK-...   \n",
       "875                      ['ZX 22 BOOST \"Cream White\"']   \n",
       "876                        [\"ZX 2K BOOST 2.0 'WHITE'\"]   \n",
       "\n",
       "                                  title_without_color  \\\n",
       "0                                ['01 Low', '01 Low']   \n",
       "1                ['01 LOW M', '01 LOW M', '01 LOW M']   \n",
       "2                                ['AUTRY 01 LOW MAN']   \n",
       "3    ['01 LOW W', '01 LOW W', '01 LOW W', '01 LOW W']   \n",
       "4                                      ['01 LOW WOM']   \n",
       "..                                                ...   \n",
       "872          ['Zoom Verona Slip', 'Zoom Verona Slip']   \n",
       "873              ['Zoom Verona Slip x Leticia Bufon']   \n",
       "874          ['ZOOM VOMERO 5 SP', 'ZOOM VOMERO 5 SP']   \n",
       "875                                   ['ZX 22 BOOST']   \n",
       "876                               ['ZX 2K BOOST 2.0']   \n",
       "\n",
       "                                            brand  \\\n",
       "0                              ['Autry', 'Autry']   \n",
       "1                     ['Autry', 'Autry', 'Autry']   \n",
       "2                                       ['Autry']   \n",
       "3            ['Autry', 'Autry', 'Autry', 'Autry']   \n",
       "4                                       ['Autry']   \n",
       "..                                            ...   \n",
       "872  ['Nike Skateboarding', 'Nike Skateboarding']   \n",
       "873                        ['Nike Skateboarding']   \n",
       "874                              ['Nike', 'Nike']   \n",
       "875                          ['Adidas Originals']   \n",
       "876                                    ['Adidas']   \n",
       "\n",
       "                                       collection_name  \\\n",
       "0                   ['category-women', 'category-men']   \n",
       "1     ['category-men', 'category-men', 'category-men']   \n",
       "2                                     ['category-men']   \n",
       "3    ['category-women', 'category-women', 'category...   \n",
       "4                                   ['category-women']   \n",
       "..                                                 ...   \n",
       "872                   ['category-men', 'category-men']   \n",
       "873                                ['category-unisex']   \n",
       "874                   ['men-sneakers', 'men-sneakers']   \n",
       "875                                   ['category-men']   \n",
       "876                                 ['women-sneakers']   \n",
       "\n",
       "                                                 color  \\\n",
       "0                                 ['White', 'Mustard']   \n",
       "1                    ['BI EDEN', 'BI VIOLET', 'BLACK']   \n",
       "2                                    ['LEAT/LEAT RED']   \n",
       "3     ['SALTWATER', 'WHT/CORAL', 'BI POW', 'BI IVORY']   \n",
       "4                                       ['WHT/PETROL']   \n",
       "..                                                 ...   \n",
       "872                         ['Leo Baker', 'Light Dew']   \n",
       "873                                               ['']   \n",
       "874  ['VAST GREY/VAST GREY-BLACK-SAIL', 'ANTHRACITE...   \n",
       "875                                    ['Cream White']   \n",
       "876                                          ['WHITE']   \n",
       "\n",
       "                                price                 pricecurrency  \\\n",
       "0                    [129.99, 149.99]                ['EUR', 'EUR']   \n",
       "1            [149.99, 149.99, 149.99]         ['EUR', 'EUR', 'EUR']   \n",
       "2                            [149.99]                       ['EUR']   \n",
       "3    [149.99, 149.99, 149.99, 149.99]  ['EUR', 'EUR', 'EUR', 'EUR']   \n",
       "4                            [149.99]                       ['EUR']   \n",
       "..                                ...                           ...   \n",
       "872                    [49.99, 49.99]                ['EUR', 'EUR']   \n",
       "873                           [39.99]                       ['EUR']   \n",
       "874                [14995.0, 14995.0]                ['INR', 'INR']   \n",
       "875                           [59.99]                       ['EUR']   \n",
       "876                          [8399.0]                       ['INR']   \n",
       "\n",
       "                                                   url  \\\n",
       "0    ['https://www.sneakerbaas.com/collections/snea...   \n",
       "1    ['https://www.sneakerbaas.com/collections/snea...   \n",
       "2    ['https://www.sneakerbaas.com/collections/snea...   \n",
       "3    ['https://www.sneakerbaas.com/collections/snea...   \n",
       "4    ['https://www.sneakerbaas.com/collections/snea...   \n",
       "..                                                 ...   \n",
       "872  ['https://www.sneakerbaas.com/collections/snea...   \n",
       "873  ['https://www.sneakerbaas.com/collections/snea...   \n",
       "874  ['https://www.superkicks.in/products/zoom-vome...   \n",
       "875  ['https://www.sneakerbaas.com/collections/snea...   \n",
       "876  ['https://www.superkicks.in/products/zx-2k-boo...   \n",
       "\n",
       "                                               website  \\\n",
       "0                       ['sneakerbaas', 'sneakerbaas']   \n",
       "1        ['sneakerbaas', 'sneakerbaas', 'sneakerbaas']   \n",
       "2                                      ['sneakerbaas']   \n",
       "3    ['sneakerbaas', 'sneakerbaas', 'sneakerbaas', ...   \n",
       "4                                      ['sneakerbaas']   \n",
       "..                                                 ...   \n",
       "872                     ['sneakerbaas', 'sneakerbaas']   \n",
       "873                                    ['sneakerbaas']   \n",
       "874                       ['superkicks', 'superkicks']   \n",
       "875                                    ['sneakerbaas']   \n",
       "876                                     ['superkicks']   \n",
       "\n",
       "                                      images_flattened  \n",
       "0    ['data/raw/images/sneakerbaas/category-men/aut...  \n",
       "1    ['data/raw/images/sneakerbaas/category-men/aut...  \n",
       "2    ['data/raw/images/sneakerbaas/category-men/aut...  \n",
       "3    ['data/raw/images/sneakerbaas/category-women/a...  \n",
       "4    ['data/raw/images/sneakerbaas/category-women/a...  \n",
       "..                                                 ...  \n",
       "872  ['data/raw/images/sneakerbaas/category-men/nik...  \n",
       "873  ['data/raw/images/sneakerbaas/category-unisex/...  \n",
       "874  ['data/raw/images/superkicks/men-sneakers/nike...  \n",
       "875  ['data/raw/images/sneakerbaas/category-men/adi...  \n",
       "876  ['data/raw/images/superkicks/women-sneakers/ad...  \n",
       "\n",
       "[877 rows x 13 columns]"
      ]
     },
     "execution_count": 3,
     "metadata": {},
     "output_type": "execute_result"
    }
   ],
   "source": [
    "dataframe = pd.read_csv(\"data/merged/metadata/full_dataset.csv\")\n",
    "dataframe"
   ]
  },
  {
   "cell_type": "code",
   "execution_count": 4,
   "id": "4da82c48",
   "metadata": {},
   "outputs": [],
   "source": [
    "dataframe = dataframe.drop(\n",
    "    [\"url\", \"images_flattened\", \"collection_name\", \"title\", \"title_without_color\", \"images_path\", \"brand\"], axis=1\n",
    ")\n",
    "dataframe[\"price\"] = dataframe[\"price\"].apply(lambda x: eval(x)[0])\n",
    "dataframe[\"pricecurrency\"] = dataframe[\"pricecurrency\"].apply(lambda x: eval(x)[0])\n",
    "dataframe[\"brand_merge\"] = dataframe[\"brand_merge\"].apply(lambda x: most_common(eval(x)))"
   ]
  },
  {
   "cell_type": "code",
   "execution_count": 5,
   "id": "ebedeb9f",
   "metadata": {},
   "outputs": [
    {
     "data": {
      "text/html": [
       "<div>\n",
       "<style scoped>\n",
       "    .dataframe tbody tr th:only-of-type {\n",
       "        vertical-align: middle;\n",
       "    }\n",
       "\n",
       "    .dataframe tbody tr th {\n",
       "        vertical-align: top;\n",
       "    }\n",
       "\n",
       "    .dataframe thead th {\n",
       "        text-align: right;\n",
       "    }\n",
       "</style>\n",
       "<table border=\"1\" class=\"dataframe\">\n",
       "  <thead>\n",
       "    <tr style=\"text-align: right;\">\n",
       "      <th></th>\n",
       "      <th>title_merge</th>\n",
       "      <th>brand_merge</th>\n",
       "      <th>color</th>\n",
       "      <th>price</th>\n",
       "      <th>pricecurrency</th>\n",
       "      <th>website</th>\n",
       "    </tr>\n",
       "  </thead>\n",
       "  <tbody>\n",
       "    <tr>\n",
       "      <th>0</th>\n",
       "      <td>01 low</td>\n",
       "      <td>autry</td>\n",
       "      <td>['White', 'Mustard']</td>\n",
       "      <td>129.99</td>\n",
       "      <td>EUR</td>\n",
       "      <td>['sneakerbaas', 'sneakerbaas']</td>\n",
       "    </tr>\n",
       "    <tr>\n",
       "      <th>1</th>\n",
       "      <td>01 low m</td>\n",
       "      <td>autry</td>\n",
       "      <td>['BI EDEN', 'BI VIOLET', 'BLACK']</td>\n",
       "      <td>149.99</td>\n",
       "      <td>EUR</td>\n",
       "      <td>['sneakerbaas', 'sneakerbaas', 'sneakerbaas']</td>\n",
       "    </tr>\n",
       "    <tr>\n",
       "      <th>2</th>\n",
       "      <td>01 low man</td>\n",
       "      <td>autry</td>\n",
       "      <td>['LEAT/LEAT RED']</td>\n",
       "      <td>149.99</td>\n",
       "      <td>EUR</td>\n",
       "      <td>['sneakerbaas']</td>\n",
       "    </tr>\n",
       "    <tr>\n",
       "      <th>3</th>\n",
       "      <td>01 low w</td>\n",
       "      <td>autry</td>\n",
       "      <td>['SALTWATER', 'WHT/CORAL', 'BI POW', 'BI IVORY']</td>\n",
       "      <td>149.99</td>\n",
       "      <td>EUR</td>\n",
       "      <td>['sneakerbaas', 'sneakerbaas', 'sneakerbaas', ...</td>\n",
       "    </tr>\n",
       "    <tr>\n",
       "      <th>4</th>\n",
       "      <td>01 low wom</td>\n",
       "      <td>autry</td>\n",
       "      <td>['WHT/PETROL']</td>\n",
       "      <td>149.99</td>\n",
       "      <td>EUR</td>\n",
       "      <td>['sneakerbaas']</td>\n",
       "    </tr>\n",
       "    <tr>\n",
       "      <th>...</th>\n",
       "      <td>...</td>\n",
       "      <td>...</td>\n",
       "      <td>...</td>\n",
       "      <td>...</td>\n",
       "      <td>...</td>\n",
       "      <td>...</td>\n",
       "    </tr>\n",
       "    <tr>\n",
       "      <th>872</th>\n",
       "      <td>zoom verona slip</td>\n",
       "      <td>nike skateboarding</td>\n",
       "      <td>['Leo Baker', 'Light Dew']</td>\n",
       "      <td>49.99</td>\n",
       "      <td>EUR</td>\n",
       "      <td>['sneakerbaas', 'sneakerbaas']</td>\n",
       "    </tr>\n",
       "    <tr>\n",
       "      <th>873</th>\n",
       "      <td>zoom verona slip x leticia bufon</td>\n",
       "      <td>nike skateboarding</td>\n",
       "      <td>['']</td>\n",
       "      <td>39.99</td>\n",
       "      <td>EUR</td>\n",
       "      <td>['sneakerbaas']</td>\n",
       "    </tr>\n",
       "    <tr>\n",
       "      <th>874</th>\n",
       "      <td>zoom vomero 5 sp</td>\n",
       "      <td>nike</td>\n",
       "      <td>['VAST GREY/VAST GREY-BLACK-SAIL', 'ANTHRACITE...</td>\n",
       "      <td>14995.00</td>\n",
       "      <td>INR</td>\n",
       "      <td>['superkicks', 'superkicks']</td>\n",
       "    </tr>\n",
       "    <tr>\n",
       "      <th>875</th>\n",
       "      <td>zx 22 boost</td>\n",
       "      <td>adidas originals</td>\n",
       "      <td>['Cream White']</td>\n",
       "      <td>59.99</td>\n",
       "      <td>EUR</td>\n",
       "      <td>['sneakerbaas']</td>\n",
       "    </tr>\n",
       "    <tr>\n",
       "      <th>876</th>\n",
       "      <td>zx 2k boost 20</td>\n",
       "      <td>adidas</td>\n",
       "      <td>['WHITE']</td>\n",
       "      <td>8399.00</td>\n",
       "      <td>INR</td>\n",
       "      <td>['superkicks']</td>\n",
       "    </tr>\n",
       "  </tbody>\n",
       "</table>\n",
       "<p>877 rows × 6 columns</p>\n",
       "</div>"
      ],
      "text/plain": [
       "                          title_merge         brand_merge  \\\n",
       "0                              01 low               autry   \n",
       "1                            01 low m               autry   \n",
       "2                          01 low man               autry   \n",
       "3                            01 low w               autry   \n",
       "4                          01 low wom               autry   \n",
       "..                                ...                 ...   \n",
       "872                  zoom verona slip  nike skateboarding   \n",
       "873  zoom verona slip x leticia bufon  nike skateboarding   \n",
       "874                  zoom vomero 5 sp                nike   \n",
       "875                       zx 22 boost    adidas originals   \n",
       "876                    zx 2k boost 20              adidas   \n",
       "\n",
       "                                                 color     price  \\\n",
       "0                                 ['White', 'Mustard']    129.99   \n",
       "1                    ['BI EDEN', 'BI VIOLET', 'BLACK']    149.99   \n",
       "2                                    ['LEAT/LEAT RED']    149.99   \n",
       "3     ['SALTWATER', 'WHT/CORAL', 'BI POW', 'BI IVORY']    149.99   \n",
       "4                                       ['WHT/PETROL']    149.99   \n",
       "..                                                 ...       ...   \n",
       "872                         ['Leo Baker', 'Light Dew']     49.99   \n",
       "873                                               ['']     39.99   \n",
       "874  ['VAST GREY/VAST GREY-BLACK-SAIL', 'ANTHRACITE...  14995.00   \n",
       "875                                    ['Cream White']     59.99   \n",
       "876                                          ['WHITE']   8399.00   \n",
       "\n",
       "    pricecurrency                                            website  \n",
       "0             EUR                     ['sneakerbaas', 'sneakerbaas']  \n",
       "1             EUR      ['sneakerbaas', 'sneakerbaas', 'sneakerbaas']  \n",
       "2             EUR                                    ['sneakerbaas']  \n",
       "3             EUR  ['sneakerbaas', 'sneakerbaas', 'sneakerbaas', ...  \n",
       "4             EUR                                    ['sneakerbaas']  \n",
       "..            ...                                                ...  \n",
       "872           EUR                     ['sneakerbaas', 'sneakerbaas']  \n",
       "873           EUR                                    ['sneakerbaas']  \n",
       "874           INR                       ['superkicks', 'superkicks']  \n",
       "875           EUR                                    ['sneakerbaas']  \n",
       "876           INR                                     ['superkicks']  \n",
       "\n",
       "[877 rows x 6 columns]"
      ]
     },
     "execution_count": 5,
     "metadata": {},
     "output_type": "execute_result"
    }
   ],
   "source": [
    "dataframe"
   ]
  },
  {
   "cell_type": "markdown",
   "id": "d7126dbafd3bfa47",
   "metadata": {
    "collapsed": false
   },
   "source": [
    "## Preparations"
   ]
  },
  {
   "cell_type": "code",
   "execution_count": 6,
   "id": "ac4771e4162347fa",
   "metadata": {
    "ExecuteTime": {
     "end_time": "2023-12-04T19:13:36.125205885Z",
     "start_time": "2023-12-04T19:13:36.094289622Z"
    },
    "collapsed": false
   },
   "outputs": [
    {
     "name": "stdout",
     "output_type": "stream",
     "text": [
      "<class 'pandas.core.frame.DataFrame'>\n",
      "RangeIndex: 877 entries, 0 to 876\n",
      "Data columns (total 6 columns):\n",
      " #   Column         Non-Null Count  Dtype  \n",
      "---  ------         --------------  -----  \n",
      " 0   title_merge    877 non-null    object \n",
      " 1   brand_merge    877 non-null    object \n",
      " 2   color          877 non-null    object \n",
      " 3   price          877 non-null    float64\n",
      " 4   pricecurrency  877 non-null    object \n",
      " 5   website        877 non-null    object \n",
      "dtypes: float64(1), object(5)\n",
      "memory usage: 41.2+ KB\n"
     ]
    }
   ],
   "source": [
    "dataframe.info()"
   ]
  },
  {
   "cell_type": "code",
   "execution_count": 7,
   "id": "a86f8b5d3e2d235f",
   "metadata": {
    "ExecuteTime": {
     "end_time": "2023-12-04T19:13:36.126317545Z",
     "start_time": "2023-12-04T19:13:36.094388587Z"
    },
    "collapsed": false
   },
   "outputs": [
    {
     "data": {
      "text/html": [
       "<div>\n",
       "<style scoped>\n",
       "    .dataframe tbody tr th:only-of-type {\n",
       "        vertical-align: middle;\n",
       "    }\n",
       "\n",
       "    .dataframe tbody tr th {\n",
       "        vertical-align: top;\n",
       "    }\n",
       "\n",
       "    .dataframe thead th {\n",
       "        text-align: right;\n",
       "    }\n",
       "</style>\n",
       "<table border=\"1\" class=\"dataframe\">\n",
       "  <thead>\n",
       "    <tr style=\"text-align: right;\">\n",
       "      <th></th>\n",
       "      <th>title_merge</th>\n",
       "      <th>brand_merge</th>\n",
       "      <th>color</th>\n",
       "      <th>price</th>\n",
       "      <th>pricecurrency</th>\n",
       "      <th>website</th>\n",
       "    </tr>\n",
       "  </thead>\n",
       "  <tbody>\n",
       "    <tr>\n",
       "      <th>count</th>\n",
       "      <td>877</td>\n",
       "      <td>877</td>\n",
       "      <td>877</td>\n",
       "      <td>877.000000</td>\n",
       "      <td>877</td>\n",
       "      <td>877</td>\n",
       "    </tr>\n",
       "    <tr>\n",
       "      <th>unique</th>\n",
       "      <td>877</td>\n",
       "      <td>36</td>\n",
       "      <td>723</td>\n",
       "      <td>NaN</td>\n",
       "      <td>2</td>\n",
       "      <td>50</td>\n",
       "    </tr>\n",
       "    <tr>\n",
       "      <th>top</th>\n",
       "      <td>01 low</td>\n",
       "      <td>nike</td>\n",
       "      <td>['']</td>\n",
       "      <td>NaN</td>\n",
       "      <td>INR</td>\n",
       "      <td>['sneakerbaas']</td>\n",
       "    </tr>\n",
       "    <tr>\n",
       "      <th>freq</th>\n",
       "      <td>1</td>\n",
       "      <td>182</td>\n",
       "      <td>52</td>\n",
       "      <td>NaN</td>\n",
       "      <td>499</td>\n",
       "      <td>230</td>\n",
       "    </tr>\n",
       "    <tr>\n",
       "      <th>mean</th>\n",
       "      <td>NaN</td>\n",
       "      <td>NaN</td>\n",
       "      <td>NaN</td>\n",
       "      <td>5677.451471</td>\n",
       "      <td>NaN</td>\n",
       "      <td>NaN</td>\n",
       "    </tr>\n",
       "    <tr>\n",
       "      <th>std</th>\n",
       "      <td>NaN</td>\n",
       "      <td>NaN</td>\n",
       "      <td>NaN</td>\n",
       "      <td>5823.709353</td>\n",
       "      <td>NaN</td>\n",
       "      <td>NaN</td>\n",
       "    </tr>\n",
       "    <tr>\n",
       "      <th>min</th>\n",
       "      <td>NaN</td>\n",
       "      <td>NaN</td>\n",
       "      <td>NaN</td>\n",
       "      <td>11.950000</td>\n",
       "      <td>NaN</td>\n",
       "      <td>NaN</td>\n",
       "    </tr>\n",
       "    <tr>\n",
       "      <th>25%</th>\n",
       "      <td>NaN</td>\n",
       "      <td>NaN</td>\n",
       "      <td>NaN</td>\n",
       "      <td>99.950000</td>\n",
       "      <td>NaN</td>\n",
       "      <td>NaN</td>\n",
       "    </tr>\n",
       "    <tr>\n",
       "      <th>50%</th>\n",
       "      <td>NaN</td>\n",
       "      <td>NaN</td>\n",
       "      <td>NaN</td>\n",
       "      <td>5499.000000</td>\n",
       "      <td>NaN</td>\n",
       "      <td>NaN</td>\n",
       "    </tr>\n",
       "    <tr>\n",
       "      <th>75%</th>\n",
       "      <td>NaN</td>\n",
       "      <td>NaN</td>\n",
       "      <td>NaN</td>\n",
       "      <td>9749.000000</td>\n",
       "      <td>NaN</td>\n",
       "      <td>NaN</td>\n",
       "    </tr>\n",
       "    <tr>\n",
       "      <th>max</th>\n",
       "      <td>NaN</td>\n",
       "      <td>NaN</td>\n",
       "      <td>NaN</td>\n",
       "      <td>39999.000000</td>\n",
       "      <td>NaN</td>\n",
       "      <td>NaN</td>\n",
       "    </tr>\n",
       "  </tbody>\n",
       "</table>\n",
       "</div>"
      ],
      "text/plain": [
       "       title_merge brand_merge color         price pricecurrency  \\\n",
       "count          877         877   877    877.000000           877   \n",
       "unique         877          36   723           NaN             2   \n",
       "top         01 low        nike  ['']           NaN           INR   \n",
       "freq             1         182    52           NaN           499   \n",
       "mean           NaN         NaN   NaN   5677.451471           NaN   \n",
       "std            NaN         NaN   NaN   5823.709353           NaN   \n",
       "min            NaN         NaN   NaN     11.950000           NaN   \n",
       "25%            NaN         NaN   NaN     99.950000           NaN   \n",
       "50%            NaN         NaN   NaN   5499.000000           NaN   \n",
       "75%            NaN         NaN   NaN   9749.000000           NaN   \n",
       "max            NaN         NaN   NaN  39999.000000           NaN   \n",
       "\n",
       "                website  \n",
       "count               877  \n",
       "unique               50  \n",
       "top     ['sneakerbaas']  \n",
       "freq                230  \n",
       "mean                NaN  \n",
       "std                 NaN  \n",
       "min                 NaN  \n",
       "25%                 NaN  \n",
       "50%                 NaN  \n",
       "75%                 NaN  \n",
       "max                 NaN  "
      ]
     },
     "execution_count": 7,
     "metadata": {},
     "output_type": "execute_result"
    }
   ],
   "source": [
    "dataframe.describe(include=\"all\")"
   ]
  },
  {
   "cell_type": "markdown",
   "id": "d48a233611701f17",
   "metadata": {
    "collapsed": false
   },
   "source": [
    "# Пропущенные значения отсутствуют"
   ]
  },
  {
   "cell_type": "code",
   "execution_count": 8,
   "id": "3f53784f186a99ea",
   "metadata": {
    "ExecuteTime": {
     "end_time": "2023-12-04T19:13:36.210241147Z",
     "start_time": "2023-12-04T19:13:36.115232791Z"
    },
    "collapsed": false
   },
   "outputs": [
    {
     "data": {
      "text/plain": [
       "title_merge      0\n",
       "brand_merge      0\n",
       "color            0\n",
       "price            0\n",
       "pricecurrency    0\n",
       "website          0\n",
       "dtype: int64"
      ]
     },
     "execution_count": 8,
     "metadata": {},
     "output_type": "execute_result"
    }
   ],
   "source": [
    "dataframe.isna().sum()"
   ]
  },
  {
   "cell_type": "code",
   "execution_count": 11,
   "id": "bf3a394a762fe1d9",
   "metadata": {
    "ExecuteTime": {
     "end_time": "2023-12-04T19:13:36.210490131Z",
     "start_time": "2023-12-04T19:13:36.160755404Z"
    },
    "collapsed": false
   },
   "outputs": [
    {
     "data": {
      "text/plain": [
       "brand_merge\n",
       "nike                    183\n",
       "adidas originals        117\n",
       "puma sportstyle          93\n",
       "converse                 57\n",
       "reebok                   47\n",
       "puma                     44\n",
       "jordan                   43\n",
       "vans                     35\n",
       "asics                    26\n",
       "reebok classics          25\n",
       "kangaroos                24\n",
       "new balance              22\n",
       "autry                    17\n",
       "toms                     17\n",
       "veja                     15\n",
       "saucony                  12\n",
       "clarks originals         11\n",
       "mizuno                   11\n",
       "diadora                  10\n",
       "salomon                  10\n",
       "karhu                     9\n",
       "hi tec                    7\n",
       "clarks                    6\n",
       "adidas                    6\n",
       "etonic                    6\n",
       "suicoke                   5\n",
       "stepney workers club      4\n",
       "sergio tacchini           3\n",
       "nike skateboarding        3\n",
       "y 3                       2\n",
       "merrell                   2\n",
       "fila                      1\n",
       "crocs                     1\n",
       "represent                 1\n",
       "saucony originals         1\n",
       "warrior                   1\n",
       "Name: count, dtype: int64"
      ]
     },
     "execution_count": 11,
     "metadata": {},
     "output_type": "execute_result"
    }
   ],
   "source": [
    "unique_brands = dataframe[\"brand_merge\"].value_counts()\n",
    "unique_brands"
   ]
  },
  {
   "cell_type": "markdown",
   "id": "468c27f005487498",
   "metadata": {
    "collapsed": false
   },
   "source": [
    "# Мердж в основном происходит внутри одного вебсайта, между сайтами почти нету пересечений"
   ]
  },
  {
   "cell_type": "code",
   "execution_count": 9,
   "id": "8dc21f11dfe5fc09",
   "metadata": {
    "ExecuteTime": {
     "end_time": "2023-12-04T19:13:36.210863361Z",
     "start_time": "2023-12-04T19:13:36.160902Z"
    },
    "collapsed": false
   },
   "outputs": [
    {
     "data": {
      "text/plain": [
       "website\n",
       "{superkicks}                 463\n",
       "{sneakerbaas}                378\n",
       "{sneakerbaas, superkicks}     36\n",
       "Name: count, dtype: int64"
      ]
     },
     "execution_count": 9,
     "metadata": {},
     "output_type": "execute_result"
    }
   ],
   "source": [
    "dataframe[\"website\"].apply(lambda x: set(eval(x))).value_counts()"
   ]
  },
  {
   "cell_type": "markdown",
   "id": "3f610f872760ef52",
   "metadata": {
    "collapsed": false
   },
   "source": [
    "# Топ цветов - тяжело посчитать, все цвета имеют разные названия"
   ]
  },
  {
   "cell_type": "code",
   "execution_count": 12,
   "id": "3b6b130780eab437",
   "metadata": {
    "ExecuteTime": {
     "end_time": "2023-12-04T19:13:36.211073932Z",
     "start_time": "2023-12-04T19:13:36.160979663Z"
    },
    "collapsed": false
   },
   "outputs": [
    {
     "data": {
      "text/plain": [
       "[('', 1),\n",
       " ('ACADEMY PINK', 1),\n",
       " ('ACTION PRT', 1),\n",
       " ('ALUMINIUM/WHITE/BURGUNDY', 1),\n",
       " ('ALUMINIUM/WONDER MAUVE', 1),\n",
       " ('ANIMAL PRINT', 1),\n",
       " ('ANTHRACITE/ANTHRACITE-BLACK-WOLF GREY', 1),\n",
       " ('AQUA', 1),\n",
       " ('AQUAMARINE', 1),\n",
       " ('ARCHEO PINK', 1)]"
      ]
     },
     "execution_count": 12,
     "metadata": {},
     "output_type": "execute_result"
    }
   ],
   "source": [
    "Counter(ColumnPreprocessor.flatten_list(dataframe[\"color\"].apply(eval).values)).most_common(10)"
   ]
  },
  {
   "cell_type": "code",
   "execution_count": 13,
   "id": "8b47697cf89847a",
   "metadata": {
    "ExecuteTime": {
     "end_time": "2023-12-04T19:13:36.259548866Z",
     "start_time": "2023-12-04T19:13:36.163549814Z"
    },
    "collapsed": false
   },
   "outputs": [],
   "source": [
    "by_brands = pd.read_csv(\"data/merged/metadata/brands_dataset.csv\")\n",
    "by_models = pd.read_csv(\"data/merged/metadata/models_dataset.csv\")\n",
    "brands_images_path = \"data/merged/images/by-brands\"\n",
    "models_images_path = \"data/merged/images/by-models\""
   ]
  },
  {
   "cell_type": "markdown",
   "id": "8fd1746afa0c18e3",
   "metadata": {
    "collapsed": false
   },
   "source": [
    "# Датасет брендов"
   ]
  },
  {
   "cell_type": "markdown",
   "id": "166a53f7b182ae2c",
   "metadata": {
    "collapsed": false
   },
   "source": [
    "## Топ брендов по количеству картинок"
   ]
  },
  {
   "cell_type": "code",
   "execution_count": 14,
   "id": "4855ae585b3ea935",
   "metadata": {
    "ExecuteTime": {
     "end_time": "2023-12-04T19:13:36.268684077Z",
     "start_time": "2023-12-04T19:13:36.204110429Z"
    },
    "collapsed": false
   },
   "outputs": [
    {
     "data": {
      "text/html": [
       "<div>\n",
       "<style scoped>\n",
       "    .dataframe tbody tr th:only-of-type {\n",
       "        vertical-align: middle;\n",
       "    }\n",
       "\n",
       "    .dataframe tbody tr th {\n",
       "        vertical-align: top;\n",
       "    }\n",
       "\n",
       "    .dataframe thead th {\n",
       "        text-align: right;\n",
       "    }\n",
       "</style>\n",
       "<table border=\"1\" class=\"dataframe\">\n",
       "  <thead>\n",
       "    <tr style=\"text-align: right;\">\n",
       "      <th></th>\n",
       "      <th>brand_merge</th>\n",
       "      <th>unique_images_count</th>\n",
       "    </tr>\n",
       "  </thead>\n",
       "  <tbody>\n",
       "    <tr>\n",
       "      <th>16</th>\n",
       "      <td>nike</td>\n",
       "      <td>1527</td>\n",
       "    </tr>\n",
       "    <tr>\n",
       "      <th>0</th>\n",
       "      <td>adidas</td>\n",
       "      <td>923</td>\n",
       "    </tr>\n",
       "    <tr>\n",
       "      <th>17</th>\n",
       "      <td>puma</td>\n",
       "      <td>608</td>\n",
       "    </tr>\n",
       "    <tr>\n",
       "      <th>18</th>\n",
       "      <td>reebok</td>\n",
       "      <td>370</td>\n",
       "    </tr>\n",
       "    <tr>\n",
       "      <th>4</th>\n",
       "      <td>converse</td>\n",
       "      <td>361</td>\n",
       "    </tr>\n",
       "    <tr>\n",
       "      <th>10</th>\n",
       "      <td>jordan</td>\n",
       "      <td>337</td>\n",
       "    </tr>\n",
       "    <tr>\n",
       "      <th>1</th>\n",
       "      <td>asics</td>\n",
       "      <td>279</td>\n",
       "    </tr>\n",
       "    <tr>\n",
       "      <th>21</th>\n",
       "      <td>saucony</td>\n",
       "      <td>193</td>\n",
       "    </tr>\n",
       "    <tr>\n",
       "      <th>15</th>\n",
       "      <td>new balance</td>\n",
       "      <td>184</td>\n",
       "    </tr>\n",
       "    <tr>\n",
       "      <th>12</th>\n",
       "      <td>karhu</td>\n",
       "      <td>178</td>\n",
       "    </tr>\n",
       "    <tr>\n",
       "      <th>3</th>\n",
       "      <td>clarks</td>\n",
       "      <td>125</td>\n",
       "    </tr>\n",
       "    <tr>\n",
       "      <th>26</th>\n",
       "      <td>vans</td>\n",
       "      <td>122</td>\n",
       "    </tr>\n",
       "    <tr>\n",
       "      <th>11</th>\n",
       "      <td>kangaroos</td>\n",
       "      <td>102</td>\n",
       "    </tr>\n",
       "    <tr>\n",
       "      <th>25</th>\n",
       "      <td>toms</td>\n",
       "      <td>80</td>\n",
       "    </tr>\n",
       "    <tr>\n",
       "      <th>2</th>\n",
       "      <td>autry</td>\n",
       "      <td>76</td>\n",
       "    </tr>\n",
       "    <tr>\n",
       "      <th>9</th>\n",
       "      <td>hi tec</td>\n",
       "      <td>75</td>\n",
       "    </tr>\n",
       "    <tr>\n",
       "      <th>14</th>\n",
       "      <td>mizuno</td>\n",
       "      <td>71</td>\n",
       "    </tr>\n",
       "    <tr>\n",
       "      <th>27</th>\n",
       "      <td>veja</td>\n",
       "      <td>57</td>\n",
       "    </tr>\n",
       "    <tr>\n",
       "      <th>20</th>\n",
       "      <td>salomon</td>\n",
       "      <td>49</td>\n",
       "    </tr>\n",
       "    <tr>\n",
       "      <th>6</th>\n",
       "      <td>diadora</td>\n",
       "      <td>42</td>\n",
       "    </tr>\n",
       "    <tr>\n",
       "      <th>23</th>\n",
       "      <td>stepney workers club</td>\n",
       "      <td>29</td>\n",
       "    </tr>\n",
       "    <tr>\n",
       "      <th>7</th>\n",
       "      <td>etonic</td>\n",
       "      <td>28</td>\n",
       "    </tr>\n",
       "    <tr>\n",
       "      <th>24</th>\n",
       "      <td>suicoke</td>\n",
       "      <td>20</td>\n",
       "    </tr>\n",
       "    <tr>\n",
       "      <th>22</th>\n",
       "      <td>sergio tacchini</td>\n",
       "      <td>18</td>\n",
       "    </tr>\n",
       "    <tr>\n",
       "      <th>29</th>\n",
       "      <td>y 3</td>\n",
       "      <td>11</td>\n",
       "    </tr>\n",
       "    <tr>\n",
       "      <th>13</th>\n",
       "      <td>merrell</td>\n",
       "      <td>9</td>\n",
       "    </tr>\n",
       "    <tr>\n",
       "      <th>19</th>\n",
       "      <td>represent</td>\n",
       "      <td>8</td>\n",
       "    </tr>\n",
       "    <tr>\n",
       "      <th>5</th>\n",
       "      <td>crocs</td>\n",
       "      <td>5</td>\n",
       "    </tr>\n",
       "    <tr>\n",
       "      <th>28</th>\n",
       "      <td>warrior</td>\n",
       "      <td>4</td>\n",
       "    </tr>\n",
       "    <tr>\n",
       "      <th>8</th>\n",
       "      <td>fila</td>\n",
       "      <td>1</td>\n",
       "    </tr>\n",
       "  </tbody>\n",
       "</table>\n",
       "</div>"
      ],
      "text/plain": [
       "             brand_merge  unique_images_count\n",
       "16                  nike                 1527\n",
       "0                 adidas                  923\n",
       "17                  puma                  608\n",
       "18                reebok                  370\n",
       "4               converse                  361\n",
       "10                jordan                  337\n",
       "1                  asics                  279\n",
       "21               saucony                  193\n",
       "15           new balance                  184\n",
       "12                 karhu                  178\n",
       "3                 clarks                  125\n",
       "26                  vans                  122\n",
       "11             kangaroos                  102\n",
       "25                  toms                   80\n",
       "2                  autry                   76\n",
       "9                 hi tec                   75\n",
       "14                mizuno                   71\n",
       "27                  veja                   57\n",
       "20               salomon                   49\n",
       "6                diadora                   42\n",
       "23  stepney workers club                   29\n",
       "7                 etonic                   28\n",
       "24               suicoke                   20\n",
       "22       sergio tacchini                   18\n",
       "29                   y 3                   11\n",
       "13               merrell                    9\n",
       "19             represent                    8\n",
       "5                  crocs                    5\n",
       "28               warrior                    4\n",
       "8                   fila                    1"
      ]
     },
     "execution_count": 14,
     "metadata": {},
     "output_type": "execute_result"
    }
   ],
   "source": [
    "by_brands.sort_values(by=\"unique_images_count\", ascending=False)[[\"brand_merge\", \"unique_images_count\"]]"
   ]
  },
  {
   "cell_type": "markdown",
   "id": "9562f2c2bc804e67",
   "metadata": {
    "collapsed": false
   },
   "source": [
    "# Количество картинок в датасете по брендам"
   ]
  },
  {
   "cell_type": "code",
   "execution_count": 15,
   "id": "823dbc4639dcb150",
   "metadata": {
    "ExecuteTime": {
     "end_time": "2023-12-04T19:13:36.351905497Z",
     "start_time": "2023-12-04T19:13:36.204279724Z"
    },
    "collapsed": false
   },
   "outputs": [
    {
     "data": {
      "text/plain": [
       "5892"
      ]
     },
     "execution_count": 15,
     "metadata": {},
     "output_type": "execute_result"
    }
   ],
   "source": [
    "get_images_count(brands_images_path)"
   ]
  },
  {
   "cell_type": "markdown",
   "id": "edd23156dbdd936a",
   "metadata": {
    "collapsed": false
   },
   "source": [
    "## Расширения картинок - проверили, что всё приведено к одному формату"
   ]
  },
  {
   "cell_type": "code",
   "execution_count": 16,
   "id": "50e20f4e62858136",
   "metadata": {
    "ExecuteTime": {
     "end_time": "2023-12-04T19:13:37.322260914Z",
     "start_time": "2023-12-04T19:13:36.250489363Z"
    },
    "collapsed": false
   },
   "outputs": [
    {
     "data": {
      "text/plain": [
       "{'JPEG'}"
      ]
     },
     "execution_count": 16,
     "metadata": {},
     "output_type": "execute_result"
    }
   ],
   "source": [
    "set(get_images_formats(brands_images_path))"
   ]
  },
  {
   "cell_type": "markdown",
   "id": "9740dd5fd31b5f0a",
   "metadata": {
    "collapsed": false
   },
   "source": [
    "## Расширения файлов картинок"
   ]
  },
  {
   "cell_type": "code",
   "execution_count": 17,
   "id": "c79478b0b57e13b1",
   "metadata": {
    "ExecuteTime": {
     "end_time": "2023-12-04T19:13:37.386693692Z",
     "start_time": "2023-12-04T19:13:37.321781036Z"
    },
    "collapsed": false
   },
   "outputs": [
    {
     "data": {
      "text/plain": [
       "{'.jpeg'}"
      ]
     },
     "execution_count": 17,
     "metadata": {},
     "output_type": "execute_result"
    }
   ],
   "source": [
    "set(get_images_suffixes(brands_images_path))"
   ]
  },
  {
   "cell_type": "markdown",
   "id": "a509040120e1de0c",
   "metadata": {
    "collapsed": false
   },
   "source": [
    "# Палитра картинок - все картинки имеют три канала"
   ]
  },
  {
   "cell_type": "code",
   "execution_count": 18,
   "id": "6c62a9f35faf8021",
   "metadata": {
    "ExecuteTime": {
     "end_time": "2023-12-04T19:13:38.362621238Z",
     "start_time": "2023-12-04T19:13:37.388499153Z"
    },
    "collapsed": false
   },
   "outputs": [
    {
     "data": {
      "text/plain": [
       "{'RGB'}"
      ]
     },
     "execution_count": 18,
     "metadata": {},
     "output_type": "execute_result"
    }
   ],
   "source": [
    "set(get_images_modes(brands_images_path))"
   ]
  },
  {
   "cell_type": "markdown",
   "id": "c3692aa7b06e780b",
   "metadata": {
    "collapsed": false
   },
   "source": [
    "## Размеры картинок"
   ]
  },
  {
   "cell_type": "code",
   "execution_count": 19,
   "id": "79561d8f3a8b8959",
   "metadata": {
    "ExecuteTime": {
     "end_time": "2023-12-04T19:13:39.107411192Z",
     "start_time": "2023-12-04T19:13:38.364205443Z"
    },
    "collapsed": false
   },
   "outputs": [
    {
     "name": "stdout",
     "output_type": "stream",
     "text": [
      "Max size: (2000, 2000)\n",
      "Min size: (432, 381)\n"
     ]
    }
   ],
   "source": [
    "sizes = get_images_sizes(brands_images_path)\n",
    "print(\"Max size:\", max(sizes, key=lambda x: (x[0], x[1])))\n",
    "print(\"Min size:\", min(sizes, key=lambda x: (x[0], x[1])))"
   ]
  },
  {
   "cell_type": "markdown",
   "id": "40c8976e3741a981",
   "metadata": {
    "collapsed": false
   },
   "source": [
    "# Датасет моделей"
   ]
  },
  {
   "cell_type": "markdown",
   "id": "f94f61d95f5e26e3",
   "metadata": {
    "collapsed": false
   },
   "source": [
    "## Топ моделей по количеству картинок"
   ]
  },
  {
   "cell_type": "code",
   "execution_count": 20,
   "id": "8af25b515b8c7c9d",
   "metadata": {
    "ExecuteTime": {
     "end_time": "2023-12-04T19:13:39.121254109Z",
     "start_time": "2023-12-04T19:13:39.109257580Z"
    },
    "collapsed": false
   },
   "outputs": [
    {
     "data": {
      "text/html": [
       "<div>\n",
       "<style scoped>\n",
       "    .dataframe tbody tr th:only-of-type {\n",
       "        vertical-align: middle;\n",
       "    }\n",
       "\n",
       "    .dataframe tbody tr th {\n",
       "        vertical-align: top;\n",
       "    }\n",
       "\n",
       "    .dataframe thead th {\n",
       "        text-align: right;\n",
       "    }\n",
       "</style>\n",
       "<table border=\"1\" class=\"dataframe\">\n",
       "  <thead>\n",
       "    <tr style=\"text-align: right;\">\n",
       "      <th></th>\n",
       "      <th>title_merge</th>\n",
       "      <th>unique_images_count</th>\n",
       "    </tr>\n",
       "  </thead>\n",
       "  <tbody>\n",
       "    <tr>\n",
       "      <th>580</th>\n",
       "      <td>shadow 6000</td>\n",
       "      <td>95</td>\n",
       "    </tr>\n",
       "    <tr>\n",
       "      <th>327</th>\n",
       "      <td>fusion 20</td>\n",
       "      <td>59</td>\n",
       "    </tr>\n",
       "    <tr>\n",
       "      <th>730</th>\n",
       "      <td>wmns air force 1 07</td>\n",
       "      <td>54</td>\n",
       "    </tr>\n",
       "    <tr>\n",
       "      <th>21</th>\n",
       "      <td>550</td>\n",
       "      <td>53</td>\n",
       "    </tr>\n",
       "    <tr>\n",
       "      <th>579</th>\n",
       "      <td>shadow 5000</td>\n",
       "      <td>47</td>\n",
       "    </tr>\n",
       "    <tr>\n",
       "      <th>...</th>\n",
       "      <td>...</td>\n",
       "      <td>...</td>\n",
       "    </tr>\n",
       "    <tr>\n",
       "      <th>274</th>\n",
       "      <td>court peak</td>\n",
       "      <td>1</td>\n",
       "    </tr>\n",
       "    <tr>\n",
       "      <th>379</th>\n",
       "      <td>instapump fury boost</td>\n",
       "      <td>1</td>\n",
       "    </tr>\n",
       "    <tr>\n",
       "      <th>447</th>\n",
       "      <td>mirage mox vision</td>\n",
       "      <td>1</td>\n",
       "    </tr>\n",
       "    <tr>\n",
       "      <th>610</th>\n",
       "      <td>slipstream the neverworn ii</td>\n",
       "      <td>1</td>\n",
       "    </tr>\n",
       "    <tr>\n",
       "      <th>688</th>\n",
       "      <td>ua sk8 hi</td>\n",
       "      <td>1</td>\n",
       "    </tr>\n",
       "  </tbody>\n",
       "</table>\n",
       "<p>877 rows × 2 columns</p>\n",
       "</div>"
      ],
      "text/plain": [
       "                     title_merge  unique_images_count\n",
       "580                  shadow 6000                   95\n",
       "327                    fusion 20                   59\n",
       "730          wmns air force 1 07                   54\n",
       "21                           550                   53\n",
       "579                  shadow 5000                   47\n",
       "..                           ...                  ...\n",
       "274                   court peak                    1\n",
       "379         instapump fury boost                    1\n",
       "447            mirage mox vision                    1\n",
       "610  slipstream the neverworn ii                    1\n",
       "688                    ua sk8 hi                    1\n",
       "\n",
       "[877 rows x 2 columns]"
      ]
     },
     "execution_count": 20,
     "metadata": {},
     "output_type": "execute_result"
    }
   ],
   "source": [
    "by_models.sort_values(by=\"unique_images_count\", ascending=False)[[\"title_merge\", \"unique_images_count\"]]"
   ]
  },
  {
   "cell_type": "markdown",
   "id": "e2bd3615117ca728",
   "metadata": {
    "collapsed": false
   },
   "source": [
    "## Количество картинок"
   ]
  },
  {
   "cell_type": "code",
   "execution_count": 21,
   "id": "84da925ce66a2bb0",
   "metadata": {
    "ExecuteTime": {
     "end_time": "2023-12-04T19:13:39.215326875Z",
     "start_time": "2023-12-04T19:13:39.120192735Z"
    },
    "collapsed": false
   },
   "outputs": [
    {
     "data": {
      "text/plain": [
       "5922"
      ]
     },
     "execution_count": 21,
     "metadata": {},
     "output_type": "execute_result"
    }
   ],
   "source": [
    "get_images_count(models_images_path)"
   ]
  },
  {
   "cell_type": "markdown",
   "id": "19fc6020ef42a90a",
   "metadata": {
    "collapsed": false
   },
   "source": [
    "## Расширения картинок"
   ]
  },
  {
   "cell_type": "code",
   "execution_count": 22,
   "id": "4ca74bf5d61dc343",
   "metadata": {
    "ExecuteTime": {
     "end_time": "2023-12-04T19:13:40.642214582Z",
     "start_time": "2023-12-04T19:13:39.219275199Z"
    },
    "collapsed": false
   },
   "outputs": [
    {
     "data": {
      "text/plain": [
       "{'JPEG'}"
      ]
     },
     "execution_count": 22,
     "metadata": {},
     "output_type": "execute_result"
    }
   ],
   "source": [
    "set(get_images_formats(models_images_path))"
   ]
  },
  {
   "cell_type": "markdown",
   "id": "7ab45e8b8b87ac77",
   "metadata": {
    "collapsed": false
   },
   "source": [
    "## Расширения файлов картинок"
   ]
  },
  {
   "cell_type": "code",
   "execution_count": 23,
   "id": "c2da564c1a03453e",
   "metadata": {
    "ExecuteTime": {
     "end_time": "2023-12-04T19:13:40.783579313Z",
     "start_time": "2023-12-04T19:13:40.643831054Z"
    },
    "collapsed": false
   },
   "outputs": [
    {
     "data": {
      "text/plain": [
       "{'.jpeg'}"
      ]
     },
     "execution_count": 23,
     "metadata": {},
     "output_type": "execute_result"
    }
   ],
   "source": [
    "set(get_images_suffixes(models_images_path))"
   ]
  },
  {
   "cell_type": "markdown",
   "id": "f8d9846d82d6570c",
   "metadata": {
    "collapsed": false
   },
   "source": [
    "# Палитра картинок"
   ]
  },
  {
   "cell_type": "code",
   "execution_count": 24,
   "id": "1e68db23de79338b",
   "metadata": {
    "ExecuteTime": {
     "end_time": "2023-12-04T19:13:41.610878098Z",
     "start_time": "2023-12-04T19:13:40.789041932Z"
    },
    "collapsed": false
   },
   "outputs": [
    {
     "data": {
      "text/plain": [
       "{'RGB'}"
      ]
     },
     "execution_count": 24,
     "metadata": {},
     "output_type": "execute_result"
    }
   ],
   "source": [
    "set(get_images_modes(models_images_path))"
   ]
  },
  {
   "cell_type": "markdown",
   "id": "1b20e4d9b8069426",
   "metadata": {
    "collapsed": false
   },
   "source": [
    "# Размеры картинок"
   ]
  },
  {
   "cell_type": "code",
   "execution_count": 25,
   "id": "2a1c93cb6fbb81ef",
   "metadata": {
    "ExecuteTime": {
     "end_time": "2023-12-04T19:13:42.462699195Z",
     "start_time": "2023-12-04T19:13:41.613209951Z"
    },
    "collapsed": false
   },
   "outputs": [
    {
     "name": "stdout",
     "output_type": "stream",
     "text": [
      "Max size: (2000, 2000)\n",
      "Min size: (432, 381)\n"
     ]
    }
   ],
   "source": [
    "sizes = get_images_sizes(models_images_path)\n",
    "print(\"Max size:\", max(sizes, key=lambda x: (x[0], x[1])))\n",
    "print(\"Min size:\", min(sizes, key=lambda x: (x[0], x[1])))"
   ]
  }
 ],
 "metadata": {
  "kernelspec": {
   "display_name": "Python 3",
   "language": "python",
   "name": "python3"
  },
  "language_info": {
   "codemirror_mode": {
    "name": "ipython",
    "version": 3
   },
   "file_extension": ".py",
   "mimetype": "text/x-python",
   "name": "python",
   "nbconvert_exporter": "python",
   "pygments_lexer": "ipython3",
   "version": "3.9.16"
  }
 },
 "nbformat": 4,
 "nbformat_minor": 5
}
