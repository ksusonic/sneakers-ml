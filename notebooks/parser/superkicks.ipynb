{
  "nbformat": 4,
  "nbformat_minor": 2,
  "metadata": {},
  "cells": [
    {
      "metadata": {},
      "source": [
        "import json\n",
        "\n",
        "import requests\n",
        "from bs4 import BeautifulSoup\n",
        "from fake_useragent import UserAgent\n",
        "\n",
        "HEADERS = {\"User-Agent\": UserAgent().random}"
      ],
      "cell_type": "code",
      "outputs": [],
      "execution_count": null
    },
    {
      "metadata": {},
      "source": [
        "r = requests.get(\"https://www.superkicks.in/collections/women-sneakers?page=8\", headers=HEADERS)"
      ],
      "cell_type": "code",
      "outputs": [],
      "execution_count": null
    },
    {
      "metadata": {},
      "source": [
        "with open(\"temp.html\", \"w\") as f:\n",
        "    f.write(r.text)"
      ],
      "cell_type": "code",
      "outputs": [],
      "execution_count": null
    },
    {
      "metadata": {},
      "source": [
        "soup = BeautifulSoup(r.text, parser=\"html.parser\")"
      ],
      "cell_type": "code",
      "outputs": [],
      "execution_count": null
    },
    {
      "metadata": {},
      "source": [
        "soup.find(name=\"nav\", class_=\"pagination\").ul.find_all(name=\"li\")[-2].a.text"
      ],
      "cell_type": "code",
      "outputs": [
        {
          "output_type": "execute_result",
          "data": {
            "text/plain": [
              "'17'"
            ]
          },
          "metadata": {},
          "execution_count": 162
        }
      ],
      "execution_count": null
    },
    {
      "metadata": {},
      "source": [
        "{item.a[\"href\"] for item in soup.find_all(name=\"div\", class_=\"card__information product-card2\")}"
      ],
      "cell_type": "code",
      "outputs": [
        {
          "output_type": "execute_result",
          "data": {
            "text/plain": [
              "{'/products/club-high-top-chalk-porcelain-pink',\n",
              " '/products/wmns-57-40-sea-smoke-surf',\n",
              " '/products/wmns-air-max-90-futura-soft-pink',\n",
              " '/products/wmns-air-max-90-se-metallic-gold-metallic-silver',\n",
              " '/products/wmns-astir-white-green-bliss-orange',\n",
              " '/products/wmns-blazer-low-77-se-flower-embroidery',\n",
              " '/products/wmns-blazer-low-platform',\n",
              " '/products/wmns-classic-leather-infused-lilac-chalk',\n",
              " '/products/wmns-club-c-double-geo-chalk-white',\n",
              " '/products/wmns-club-c-geo-mid-cloud-white-cold-grey',\n",
              " '/products/wmns-superstar-ayoon-off-white-solar-red',\n",
              " '/products/wmns-waffle-one-double-swoosh',\n",
              " '/products/wmns-waffle-one-woven-swoosh'}"
            ]
          },
          "metadata": {},
          "execution_count": 24
        }
      ],
      "execution_count": null
    },
    {
      "metadata": {},
      "source": [
        "r = requests.get(\n",
        "    \"https://www.superkicks.in/products/air-jordan-1-retro-high-og-black-royal-blue-white-royal-blue?variant=44961743307003\",  # noqa: E501\n",
        "    headers=HEADERS,\n",
        ")"
      ],
      "cell_type": "code",
      "outputs": [],
      "execution_count": null
    },
    {
      "metadata": {},
      "source": [
        "r = requests.get(\n",
        "    \"https://www.superkicks.in/products/humanrace-samba-orbit-green-ash-grey?variant=44963541614843\",  # noqa: E501\n",
        "    headers=HEADERS,\n",
        ")"
      ],
      "cell_type": "code",
      "outputs": [],
      "execution_count": null
    },
    {
      "metadata": {},
      "source": [
        "with open(\"temp_normal.html\", \"w\") as f:\n",
        "    f.write(r.text)"
      ],
      "cell_type": "code",
      "outputs": [],
      "execution_count": null
    },
    {
      "metadata": {},
      "source": [
        "soup = BeautifulSoup(r.text, parser=\"html.parser\")"
      ],
      "cell_type": "code",
      "outputs": [],
      "execution_count": null
    },
    {
      "metadata": {},
      "source": [
        "# brand\n",
        "(soup.find(class_=\"product__text\") or soup.find(class_=\"product__vendor\")).text"
      ],
      "cell_type": "code",
      "outputs": [
        {
          "output_type": "execute_result",
          "data": {
            "text/plain": [
              "'Adidas Originals'"
            ]
          },
          "metadata": {},
          "execution_count": 85
        }
      ],
      "execution_count": null
    },
    {
      "metadata": {},
      "source": [
        "# model\n",
        "(soup.find(class_=\"product__title\").h1 or soup.find(class_=\"product__title\")).text"
      ],
      "cell_type": "code",
      "outputs": [
        {
          "output_type": "execute_result",
          "data": {
            "text/plain": [
              "\"AIR JORDAN 1 RETRO HIGH OG 'BLACK/ROYAL BLUE-WHITE-ROYAL BLUE'\\n\""
            ]
          },
          "metadata": {},
          "execution_count": 110
        }
      ],
      "execution_count": null
    },
    {
      "metadata": {},
      "source": [
        "# price\n",
        "soup.find(name=\"span\", class_=\"price-item price-item--regular\").text.strip()"
      ],
      "cell_type": "code",
      "outputs": [
        {
          "output_type": "execute_result",
          "data": {
            "text/plain": [
              "'\u20b9 16,995.00'"
            ]
          },
          "metadata": {},
          "execution_count": 112
        }
      ],
      "execution_count": null
    },
    {
      "metadata": {},
      "source": [
        "# description\n",
        "soup.find(name=\"div\", class_=\"product__description\").text"
      ],
      "cell_type": "code",
      "outputs": [
        {
          "output_type": "execute_result",
          "data": {
            "text/plain": [
              "\"\\n\\nCelebrating the rich history of adidas, Pharrell refreshes the classic Samba shoes. The Humanrace Samba comes together with skilled craftsmanship and ultra-premium leather that pays homage to the shoe's football roots. An extra-long foldover tongue lets you wear it two ways, and a smooth suede T-toe adds just enough contrast to catch the eye.\\n\\n\""
            ]
          },
          "metadata": {},
          "execution_count": 117
        }
      ],
      "execution_count": null
    },
    {
      "metadata": {},
      "source": [
        "# metadata\n",
        "metadata = {}\n",
        "for span in soup.find_all(name=\"span\", class_=\"product_description-name\"):\n",
        "    metadata[span.contents[0].replace(\" :\", \"\")] = span.span.span.text\n",
        "metadata"
      ],
      "cell_type": "code",
      "outputs": [],
      "execution_count": null
    },
    {
      "metadata": {},
      "source": [
        "# images\n",
        "script = soup.findAll(\"script\")[3].text.split(\"\\n\")[2]\n",
        "json_script = json.loads(script[script.find(\"{\") : -1])\n",
        "json_script[\"images\"]"
      ],
      "cell_type": "code",
      "outputs": [
        {
          "output_type": "execute_result",
          "data": {
            "text/plain": [
              "['//www.superkicks.in/cdn/shop/files/3_85.jpg?v=1698996654',\n",
              " '//www.superkicks.in/cdn/shop/files/2_65bc46c3-ab66-4f6d-a355-dac04f7d59f0.jpg?v=1698996654',\n",
              " '//www.superkicks.in/cdn/shop/files/3_0a53a368-3c46-40db-b14f-f8450b3f81c9.jpg?v=1698996654',\n",
              " '//www.superkicks.in/cdn/shop/files/4_c6e27bb6-67cd-4546-9120-1fd267356b5a.jpg?v=1698996654',\n",
              " '//www.superkicks.in/cdn/shop/files/5_fcec9f89-d6f6-44ef-9ac8-767444ca1b12.jpg?v=1698996654',\n",
              " '//www.superkicks.in/cdn/shop/files/6_26fa6957-71dd-4ccd-8f93-1cd248a459ce.jpg?v=1698996654']"
            ]
          },
          "metadata": {},
          "execution_count": 170
        }
      ],
      "execution_count": null
    },
    {
      "metadata": {},
      "source": [
        "# for image_link in soup.find(name=\"div\", class_=\"product-media-modal__content\").find_all( # noqa: E501\n",
        "#     name=\"img\"\n",
        "# ):\n",
        "#     print(image_link[\"src\"])"
      ],
      "cell_type": "code",
      "outputs": [
        {
          "output_type": "stream",
          "name": "stdout",
          "text": [
            "//www.superkicks.in/cdn/shop/files/1_1c7b6082-4133-46a1-98a3-d5fce704ff61.jpg?v=1699001063&width=1445\n",
            "//www.superkicks.in/cdn/shop/files/2_f0d5df8b-c89c-4091-9bce-ed44ffb6b4b1.jpg?v=1699001063&width=1445\n",
            "//www.superkicks.in/cdn/shop/files/3_6ad981e3-7e68-4254-9de2-11f49dce8ad8.jpg?v=1699001063&width=1445\n",
            "//www.superkicks.in/cdn/shop/files/5_04fe1c1b-e9ed-4be7-b758-dee5472e810e.jpg?v=1699001063&width=1445\n",
            "//www.superkicks.in/cdn/shop/files/6_9257002c-d1d4-4f20-b3d8-be894103d702.jpg?v=1699001063&width=1445\n",
            "//www.superkicks.in/cdn/shop/files/4_ba1cf278-0bf0-4814-8b63-cc13e3069d2e.jpg?v=1699001063&width=1445\n"
          ]
        }
      ],
      "execution_count": null
    }
  ]
}
