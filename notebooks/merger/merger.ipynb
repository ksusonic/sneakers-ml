{
 "cells": [
  {
   "cell_type": "code",
   "execution_count": 1,
   "outputs": [],
   "source": [
    "# for PyCharm\n",
    "import os\n",
    "\n",
    "current_directory = os.getcwd()\n",
    "project_directory = os.path.abspath(os.path.join(current_directory, os.pardir, os.pardir))\n",
    "os.chdir(project_directory)"
   ],
   "metadata": {
    "collapsed": false,
    "ExecuteTime": {
     "end_time": "2023-11-12T10:02:09.190314168Z",
     "start_time": "2023-11-12T10:02:09.123361045Z"
    }
   }
  },
  {
   "cell_type": "code",
   "execution_count": 2,
   "metadata": {
    "ExecuteTime": {
     "end_time": "2023-11-12T10:02:09.653724906Z",
     "start_time": "2023-11-12T10:02:09.125711893Z"
    }
   },
   "outputs": [],
   "source": [
    "import os\n",
    "\n",
    "import pandas as pd\n",
    "from pathlib import Path\n",
    "import numpy as np\n",
    "from src.data.merger import SuperkicksFormatter, SneakerbaasFormatter, FootshopFormatter, HighsnobietyFormatter, \\\n",
    "    KickscrewFormatter, check_extra_symbols\n",
    "\n"
   ]
  },
  {
   "cell_type": "code",
   "execution_count": 3,
   "metadata": {
    "ExecuteTime": {
     "end_time": "2023-11-12T10:02:09.678204169Z",
     "start_time": "2023-11-12T10:02:09.652631336Z"
    }
   },
   "outputs": [
    {
     "data": {
      "text/plain": "['superkicks.csv',\n 'highsnobiety.csv',\n 'footshop.csv',\n 'kickscrew.csv',\n 'sneakerbaas.csv']"
     },
     "execution_count": 3,
     "metadata": {},
     "output_type": "execute_result"
    }
   ],
   "source": [
    "metadata_path = \"data/raw/metadata\"\n",
    "discovered_datasets = os.listdir(metadata_path)\n",
    "discovered_datasets"
   ]
  },
  {
   "cell_type": "code",
   "execution_count": 4,
   "metadata": {
    "ExecuteTime": {
     "end_time": "2023-11-12T10:02:09.752169116Z",
     "start_time": "2023-11-12T10:02:09.665740697Z"
    }
   },
   "outputs": [],
   "source": [
    "try:\n",
    "    datasets = {\n",
    "        source: pd.read_csv(str(Path(metadata_path, source))) for source in discovered_datasets\n",
    "    }\n",
    "    assert len(datasets) > 0\n",
    "except FileNotFoundError as err:\n",
    "    print(f\"Some dataset could not be resolved:\")\n",
    "    raise"
   ]
  },
  {
   "cell_type": "code",
   "execution_count": 5,
   "metadata": {
    "ExecuteTime": {
     "end_time": "2023-11-12T10:02:09.950578602Z",
     "start_time": "2023-11-12T10:02:09.784581126Z"
    }
   },
   "outputs": [
    {
     "name": "stdout",
     "output_type": "stream",
     "text": [
      "superkicks set()\n",
      "sneakerbaas set()\n",
      "footshop set()\n",
      "highsnobiety set()\n",
      "kickscrew {'~', '!', '%', '=', ';'}\n"
     ]
    }
   ],
   "source": [
    "processed_datasets = {\n",
    "    \"superkicks\": SuperkicksFormatter(datasets[\"superkicks.csv\"]).format(),\n",
    "    \"sneakerbaas\": SneakerbaasFormatter(datasets[\"sneakerbaas.csv\"]).format(),\n",
    "    \"footshop\": FootshopFormatter(datasets[\"footshop.csv\"]).format(),\n",
    "    \"highsnobiety\": HighsnobietyFormatter(datasets[\"highsnobiety.csv\"]).format(),\n",
    "    \"kickscrew\": KickscrewFormatter(datasets[\"kickscrew.csv\"]).format(),\n",
    "}\n",
    "check_extra_symbols(processed_datasets)"
   ]
  },
  {
   "cell_type": "code",
   "execution_count": 35,
   "outputs": [
    {
     "data": {
      "text/plain": "                                                    url        brand  \\\n0     https://www.kickscrew.com/products/new-balance...  New Balance   \n1     https://www.kickscrew.com/products/nike-nike-s...         Nike   \n2     https://www.kickscrew.com/products/nike-lebron...         Nike   \n3     https://www.kickscrew.com/products/new-balance...  New Balance   \n4     https://www.kickscrew.com/products/nike-dunk-l...         Nike   \n...                                                 ...          ...   \n4895  https://www.kickscrew.com/products/adidas-ultr...       adidas   \n4896  https://www.kickscrew.com/products/adidas-orig...       adidas   \n4897  https://www.kickscrew.com/products/adidas-orig...       adidas   \n4898  https://www.kickscrew.com/products/adidas-orig...       adidas   \n4899  https://www.kickscrew.com/products/adidas-gran...       adidas   \n\n     pricecurrency  price                                              title  \\\n0              USD     88               new balance 530 white natural indigo   \n1              USD    130  nike sportswear down fill sports hooded down j...   \n2              USD     73          nike lebron witness 6 ep white melon tint   \n3              USD     75                        new balance 327 brown white   \n4              USD     94                     (gs) nike dunk low retro panda   \n...            ...    ...                                                ...   \n4895           USD    123         adidas ultraboost 1.0 shoes valentines day   \n4896           USD    102  adidas originals ozweego shoes magic beige cla...   \n4897           USD     56  adidas originals adilette slides off white bri...   \n4898           USD     84    adidas originals forum low shoes white grey red   \n4899           USD     67        adidas grand court 2.0 sneakers white black   \n\n                                         right-side-img  \\\n0     data/raw/images/kickscrew/New Balance/new-bala...   \n1     data/raw/images/kickscrew/Nike/nike-nike-sport...   \n2     data/raw/images/kickscrew/Nike/nike-lebron-wit...   \n3     data/raw/images/kickscrew/New Balance/new-bala...   \n4     data/raw/images/kickscrew/Nike/nike-dunk-low-r...   \n...                                                 ...   \n4895  data/raw/images/kickscrew/adidas/adidas-ultrab...   \n4896  data/raw/images/kickscrew/adidas/adidas-origin...   \n4897  data/raw/images/kickscrew/adidas/adidas-origin...   \n4898  data/raw/images/kickscrew/adidas/adidas-origin...   \n4899                                                NaN   \n\n                                          left-side-img  \\\n0     data/raw/images/kickscrew/New Balance/new-bala...   \n1     data/raw/images/kickscrew/Nike/nike-nike-sport...   \n2     data/raw/images/kickscrew/Nike/nike-lebron-wit...   \n3     data/raw/images/kickscrew/New Balance/new-bala...   \n4     data/raw/images/kickscrew/Nike/nike-dunk-low-r...   \n...                                                 ...   \n4895  data/raw/images/kickscrew/adidas/adidas-ultrab...   \n4896  data/raw/images/kickscrew/adidas/adidas-origin...   \n4897  data/raw/images/kickscrew/adidas/adidas-origin...   \n4898  data/raw/images/kickscrew/adidas/adidas-origin...   \n4899  data/raw/images/kickscrew/adidas/adidas-grand-...   \n\n                                         front-both-img    website  \n0     data/raw/images/kickscrew/New Balance/new-bala...  kickscrew  \n1     data/raw/images/kickscrew/Nike/nike-nike-sport...  kickscrew  \n2     data/raw/images/kickscrew/Nike/nike-lebron-wit...  kickscrew  \n3     data/raw/images/kickscrew/New Balance/new-bala...  kickscrew  \n4     data/raw/images/kickscrew/Nike/nike-dunk-low-r...  kickscrew  \n...                                                 ...        ...  \n4895  data/raw/images/kickscrew/adidas/adidas-ultrab...  kickscrew  \n4896  data/raw/images/kickscrew/adidas/adidas-origin...  kickscrew  \n4897  data/raw/images/kickscrew/adidas/adidas-origin...  kickscrew  \n4898  data/raw/images/kickscrew/adidas/adidas-origin...  kickscrew  \n4899                                                NaN  kickscrew  \n\n[4900 rows x 9 columns]",
      "text/html": "<div>\n<style scoped>\n    .dataframe tbody tr th:only-of-type {\n        vertical-align: middle;\n    }\n\n    .dataframe tbody tr th {\n        vertical-align: top;\n    }\n\n    .dataframe thead th {\n        text-align: right;\n    }\n</style>\n<table border=\"1\" class=\"dataframe\">\n  <thead>\n    <tr style=\"text-align: right;\">\n      <th></th>\n      <th>url</th>\n      <th>brand</th>\n      <th>pricecurrency</th>\n      <th>price</th>\n      <th>title</th>\n      <th>right-side-img</th>\n      <th>left-side-img</th>\n      <th>front-both-img</th>\n      <th>website</th>\n    </tr>\n  </thead>\n  <tbody>\n    <tr>\n      <th>0</th>\n      <td>https://www.kickscrew.com/products/new-balance...</td>\n      <td>New Balance</td>\n      <td>USD</td>\n      <td>88</td>\n      <td>new balance 530 white natural indigo</td>\n      <td>data/raw/images/kickscrew/New Balance/new-bala...</td>\n      <td>data/raw/images/kickscrew/New Balance/new-bala...</td>\n      <td>data/raw/images/kickscrew/New Balance/new-bala...</td>\n      <td>kickscrew</td>\n    </tr>\n    <tr>\n      <th>1</th>\n      <td>https://www.kickscrew.com/products/nike-nike-s...</td>\n      <td>Nike</td>\n      <td>USD</td>\n      <td>130</td>\n      <td>nike sportswear down fill sports hooded down j...</td>\n      <td>data/raw/images/kickscrew/Nike/nike-nike-sport...</td>\n      <td>data/raw/images/kickscrew/Nike/nike-nike-sport...</td>\n      <td>data/raw/images/kickscrew/Nike/nike-nike-sport...</td>\n      <td>kickscrew</td>\n    </tr>\n    <tr>\n      <th>2</th>\n      <td>https://www.kickscrew.com/products/nike-lebron...</td>\n      <td>Nike</td>\n      <td>USD</td>\n      <td>73</td>\n      <td>nike lebron witness 6 ep white melon tint</td>\n      <td>data/raw/images/kickscrew/Nike/nike-lebron-wit...</td>\n      <td>data/raw/images/kickscrew/Nike/nike-lebron-wit...</td>\n      <td>data/raw/images/kickscrew/Nike/nike-lebron-wit...</td>\n      <td>kickscrew</td>\n    </tr>\n    <tr>\n      <th>3</th>\n      <td>https://www.kickscrew.com/products/new-balance...</td>\n      <td>New Balance</td>\n      <td>USD</td>\n      <td>75</td>\n      <td>new balance 327 brown white</td>\n      <td>data/raw/images/kickscrew/New Balance/new-bala...</td>\n      <td>data/raw/images/kickscrew/New Balance/new-bala...</td>\n      <td>data/raw/images/kickscrew/New Balance/new-bala...</td>\n      <td>kickscrew</td>\n    </tr>\n    <tr>\n      <th>4</th>\n      <td>https://www.kickscrew.com/products/nike-dunk-l...</td>\n      <td>Nike</td>\n      <td>USD</td>\n      <td>94</td>\n      <td>(gs) nike dunk low retro panda</td>\n      <td>data/raw/images/kickscrew/Nike/nike-dunk-low-r...</td>\n      <td>data/raw/images/kickscrew/Nike/nike-dunk-low-r...</td>\n      <td>data/raw/images/kickscrew/Nike/nike-dunk-low-r...</td>\n      <td>kickscrew</td>\n    </tr>\n    <tr>\n      <th>...</th>\n      <td>...</td>\n      <td>...</td>\n      <td>...</td>\n      <td>...</td>\n      <td>...</td>\n      <td>...</td>\n      <td>...</td>\n      <td>...</td>\n      <td>...</td>\n    </tr>\n    <tr>\n      <th>4895</th>\n      <td>https://www.kickscrew.com/products/adidas-ultr...</td>\n      <td>adidas</td>\n      <td>USD</td>\n      <td>123</td>\n      <td>adidas ultraboost 1.0 shoes valentines day</td>\n      <td>data/raw/images/kickscrew/adidas/adidas-ultrab...</td>\n      <td>data/raw/images/kickscrew/adidas/adidas-ultrab...</td>\n      <td>data/raw/images/kickscrew/adidas/adidas-ultrab...</td>\n      <td>kickscrew</td>\n    </tr>\n    <tr>\n      <th>4896</th>\n      <td>https://www.kickscrew.com/products/adidas-orig...</td>\n      <td>adidas</td>\n      <td>USD</td>\n      <td>102</td>\n      <td>adidas originals ozweego shoes magic beige cla...</td>\n      <td>data/raw/images/kickscrew/adidas/adidas-origin...</td>\n      <td>data/raw/images/kickscrew/adidas/adidas-origin...</td>\n      <td>data/raw/images/kickscrew/adidas/adidas-origin...</td>\n      <td>kickscrew</td>\n    </tr>\n    <tr>\n      <th>4897</th>\n      <td>https://www.kickscrew.com/products/adidas-orig...</td>\n      <td>adidas</td>\n      <td>USD</td>\n      <td>56</td>\n      <td>adidas originals adilette slides off white bri...</td>\n      <td>data/raw/images/kickscrew/adidas/adidas-origin...</td>\n      <td>data/raw/images/kickscrew/adidas/adidas-origin...</td>\n      <td>data/raw/images/kickscrew/adidas/adidas-origin...</td>\n      <td>kickscrew</td>\n    </tr>\n    <tr>\n      <th>4898</th>\n      <td>https://www.kickscrew.com/products/adidas-orig...</td>\n      <td>adidas</td>\n      <td>USD</td>\n      <td>84</td>\n      <td>adidas originals forum low shoes white grey red</td>\n      <td>data/raw/images/kickscrew/adidas/adidas-origin...</td>\n      <td>data/raw/images/kickscrew/adidas/adidas-origin...</td>\n      <td>data/raw/images/kickscrew/adidas/adidas-origin...</td>\n      <td>kickscrew</td>\n    </tr>\n    <tr>\n      <th>4899</th>\n      <td>https://www.kickscrew.com/products/adidas-gran...</td>\n      <td>adidas</td>\n      <td>USD</td>\n      <td>67</td>\n      <td>adidas grand court 2.0 sneakers white black</td>\n      <td>NaN</td>\n      <td>data/raw/images/kickscrew/adidas/adidas-grand-...</td>\n      <td>NaN</td>\n      <td>kickscrew</td>\n    </tr>\n  </tbody>\n</table>\n<p>4900 rows × 9 columns</p>\n</div>"
     },
     "execution_count": 35,
     "metadata": {},
     "output_type": "execute_result"
    }
   ],
   "source": [
    "processed_datasets[\"kickscrew\"]"
   ],
   "metadata": {
    "collapsed": false,
    "ExecuteTime": {
     "end_time": "2023-11-12T10:17:39.903881203Z",
     "start_time": "2023-11-12T10:17:39.861010970Z"
    }
   }
  },
  {
   "cell_type": "code",
   "execution_count": 7,
   "outputs": [
    {
     "name": "stdout",
     "output_type": "stream",
     "text": [
      "(1090, 9)\n",
      "(1005, 9)\n",
      "(4864, 9)\n",
      "(598, 9)\n",
      "(4900, 9)\n"
     ]
    }
   ],
   "source": [
    "for key, value in processed_datasets.items():\n",
    "    print(value.shape)"
   ],
   "metadata": {
    "collapsed": false,
    "ExecuteTime": {
     "end_time": "2023-11-12T10:02:10.037462175Z",
     "start_time": "2023-11-12T10:02:09.998275660Z"
    }
   }
  },
  {
   "cell_type": "code",
   "execution_count": 8,
   "metadata": {
    "ExecuteTime": {
     "end_time": "2023-11-12T10:02:10.038167010Z",
     "start_time": "2023-11-12T10:02:09.998963105Z"
    }
   },
   "outputs": [
    {
     "data": {
      "text/plain": "{'brand', 'price', 'pricecurrency', 'title', 'url', 'website'}"
     },
     "execution_count": 8,
     "metadata": {},
     "output_type": "execute_result"
    }
   ],
   "source": [
    "# same columns\n",
    "same_columns = set.intersection(*[set(processed_datasets[key].columns) for key in processed_datasets])\n",
    "same_columns"
   ]
  },
  {
   "cell_type": "code",
   "execution_count": 9,
   "outputs": [
    {
     "data": {
      "text/plain": "          brand                                              title    price  \\\n0      converse                 wmns run star legacy cx periwinkle   8499.0   \n1      converse                     chuck taylor all star charcoal   4299.0   \n2          nike                   kd16 nrg ep pink foam pink white  14995.0   \n3        jordan  air jordan 1 retro high og black royal blue-wh...  16995.0   \n4          nike  blazer mid 77 premium summit white black-light...   7756.0   \n...         ...                                                ...      ...   \n12452    adidas         adidas ultraboost 1.0 shoes valentines day    123.0   \n12453    adidas  adidas originals ozweego shoes magic beige cla...    102.0   \n12454    adidas  adidas originals adilette slides off white bri...     56.0   \n12455    adidas    adidas originals forum low shoes white grey red     84.0   \n12456    adidas        adidas grand court 2.0 sneakers white black     67.0   \n\n      collection_name                                                url  \\\n0        men-sneakers  https://www.superkicks.in/products/wmns-run-st...   \n1        men-sneakers  https://www.superkicks.in/products/chuck-taylo...   \n2        men-sneakers  https://www.superkicks.in/products/kd16-nrg-ep...   \n3        men-sneakers  https://www.superkicks.in/products/air-jordan-...   \n4        men-sneakers  https://www.superkicks.in/products/blazer-mid-...   \n...               ...                                                ...   \n12452             NaN  https://www.kickscrew.com/products/adidas-ultr...   \n12453             NaN  https://www.kickscrew.com/products/adidas-orig...   \n12454             NaN  https://www.kickscrew.com/products/adidas-orig...   \n12455             NaN  https://www.kickscrew.com/products/adidas-orig...   \n12456             NaN  https://www.kickscrew.com/products/adidas-gran...   \n\n                                             images_path     website  \\\n0      data/raw/images/superkicks/men-sneakers/conver...  superkicks   \n1      data/raw/images/superkicks/men-sneakers/conver...  superkicks   \n2      data/raw/images/superkicks/men-sneakers/nike/k...  superkicks   \n3      data/raw/images/superkicks/men-sneakers/jordan...  superkicks   \n4      data/raw/images/superkicks/men-sneakers/nike/b...  superkicks   \n...                                                  ...         ...   \n12452                                                NaN   kickscrew   \n12453                                                NaN   kickscrew   \n12454                                                NaN   kickscrew   \n12455                                                NaN   kickscrew   \n12456                                                NaN   kickscrew   \n\n      pricecurrency                color  \\\n0               INR         [periwinkle]   \n1               INR           [charcoal]   \n2               INR  [pink, foam, white]   \n3               INR        [black, blue]   \n4               INR      [white, silver]   \n...             ...                  ...   \n12452           USD                  NaN   \n12453           USD                  NaN   \n12454           USD                  NaN   \n12455           USD                  NaN   \n12456           USD                  NaN   \n\n                                          right-side-img  \\\n0                                                    NaN   \n1                                                    NaN   \n2                                                    NaN   \n3                                                    NaN   \n4                                                    NaN   \n...                                                  ...   \n12452  data/raw/images/kickscrew/adidas/adidas-ultrab...   \n12453  data/raw/images/kickscrew/adidas/adidas-origin...   \n12454  data/raw/images/kickscrew/adidas/adidas-origin...   \n12455  data/raw/images/kickscrew/adidas/adidas-origin...   \n12456                                                NaN   \n\n                                           left-side-img  \\\n0                                                    NaN   \n1                                                    NaN   \n2                                                    NaN   \n3                                                    NaN   \n4                                                    NaN   \n...                                                  ...   \n12452  data/raw/images/kickscrew/adidas/adidas-ultrab...   \n12453  data/raw/images/kickscrew/adidas/adidas-origin...   \n12454  data/raw/images/kickscrew/adidas/adidas-origin...   \n12455  data/raw/images/kickscrew/adidas/adidas-origin...   \n12456  data/raw/images/kickscrew/adidas/adidas-grand-...   \n\n                                          front-both-img  \n0                                                    NaN  \n1                                                    NaN  \n2                                                    NaN  \n3                                                    NaN  \n4                                                    NaN  \n...                                                  ...  \n12452  data/raw/images/kickscrew/adidas/adidas-ultrab...  \n12453  data/raw/images/kickscrew/adidas/adidas-origin...  \n12454  data/raw/images/kickscrew/adidas/adidas-origin...  \n12455  data/raw/images/kickscrew/adidas/adidas-origin...  \n12456                                                NaN  \n\n[12457 rows x 12 columns]",
      "text/html": "<div>\n<style scoped>\n    .dataframe tbody tr th:only-of-type {\n        vertical-align: middle;\n    }\n\n    .dataframe tbody tr th {\n        vertical-align: top;\n    }\n\n    .dataframe thead th {\n        text-align: right;\n    }\n</style>\n<table border=\"1\" class=\"dataframe\">\n  <thead>\n    <tr style=\"text-align: right;\">\n      <th></th>\n      <th>brand</th>\n      <th>title</th>\n      <th>price</th>\n      <th>collection_name</th>\n      <th>url</th>\n      <th>images_path</th>\n      <th>website</th>\n      <th>pricecurrency</th>\n      <th>color</th>\n      <th>right-side-img</th>\n      <th>left-side-img</th>\n      <th>front-both-img</th>\n    </tr>\n  </thead>\n  <tbody>\n    <tr>\n      <th>0</th>\n      <td>converse</td>\n      <td>wmns run star legacy cx periwinkle</td>\n      <td>8499.0</td>\n      <td>men-sneakers</td>\n      <td>https://www.superkicks.in/products/wmns-run-st...</td>\n      <td>data/raw/images/superkicks/men-sneakers/conver...</td>\n      <td>superkicks</td>\n      <td>INR</td>\n      <td>[periwinkle]</td>\n      <td>NaN</td>\n      <td>NaN</td>\n      <td>NaN</td>\n    </tr>\n    <tr>\n      <th>1</th>\n      <td>converse</td>\n      <td>chuck taylor all star charcoal</td>\n      <td>4299.0</td>\n      <td>men-sneakers</td>\n      <td>https://www.superkicks.in/products/chuck-taylo...</td>\n      <td>data/raw/images/superkicks/men-sneakers/conver...</td>\n      <td>superkicks</td>\n      <td>INR</td>\n      <td>[charcoal]</td>\n      <td>NaN</td>\n      <td>NaN</td>\n      <td>NaN</td>\n    </tr>\n    <tr>\n      <th>2</th>\n      <td>nike</td>\n      <td>kd16 nrg ep pink foam pink white</td>\n      <td>14995.0</td>\n      <td>men-sneakers</td>\n      <td>https://www.superkicks.in/products/kd16-nrg-ep...</td>\n      <td>data/raw/images/superkicks/men-sneakers/nike/k...</td>\n      <td>superkicks</td>\n      <td>INR</td>\n      <td>[pink, foam, white]</td>\n      <td>NaN</td>\n      <td>NaN</td>\n      <td>NaN</td>\n    </tr>\n    <tr>\n      <th>3</th>\n      <td>jordan</td>\n      <td>air jordan 1 retro high og black royal blue-wh...</td>\n      <td>16995.0</td>\n      <td>men-sneakers</td>\n      <td>https://www.superkicks.in/products/air-jordan-...</td>\n      <td>data/raw/images/superkicks/men-sneakers/jordan...</td>\n      <td>superkicks</td>\n      <td>INR</td>\n      <td>[black, blue]</td>\n      <td>NaN</td>\n      <td>NaN</td>\n      <td>NaN</td>\n    </tr>\n    <tr>\n      <th>4</th>\n      <td>nike</td>\n      <td>blazer mid 77 premium summit white black-light...</td>\n      <td>7756.0</td>\n      <td>men-sneakers</td>\n      <td>https://www.superkicks.in/products/blazer-mid-...</td>\n      <td>data/raw/images/superkicks/men-sneakers/nike/b...</td>\n      <td>superkicks</td>\n      <td>INR</td>\n      <td>[white, silver]</td>\n      <td>NaN</td>\n      <td>NaN</td>\n      <td>NaN</td>\n    </tr>\n    <tr>\n      <th>...</th>\n      <td>...</td>\n      <td>...</td>\n      <td>...</td>\n      <td>...</td>\n      <td>...</td>\n      <td>...</td>\n      <td>...</td>\n      <td>...</td>\n      <td>...</td>\n      <td>...</td>\n      <td>...</td>\n      <td>...</td>\n    </tr>\n    <tr>\n      <th>12452</th>\n      <td>adidas</td>\n      <td>adidas ultraboost 1.0 shoes valentines day</td>\n      <td>123.0</td>\n      <td>NaN</td>\n      <td>https://www.kickscrew.com/products/adidas-ultr...</td>\n      <td>NaN</td>\n      <td>kickscrew</td>\n      <td>USD</td>\n      <td>NaN</td>\n      <td>data/raw/images/kickscrew/adidas/adidas-ultrab...</td>\n      <td>data/raw/images/kickscrew/adidas/adidas-ultrab...</td>\n      <td>data/raw/images/kickscrew/adidas/adidas-ultrab...</td>\n    </tr>\n    <tr>\n      <th>12453</th>\n      <td>adidas</td>\n      <td>adidas originals ozweego shoes magic beige cla...</td>\n      <td>102.0</td>\n      <td>NaN</td>\n      <td>https://www.kickscrew.com/products/adidas-orig...</td>\n      <td>NaN</td>\n      <td>kickscrew</td>\n      <td>USD</td>\n      <td>NaN</td>\n      <td>data/raw/images/kickscrew/adidas/adidas-origin...</td>\n      <td>data/raw/images/kickscrew/adidas/adidas-origin...</td>\n      <td>data/raw/images/kickscrew/adidas/adidas-origin...</td>\n    </tr>\n    <tr>\n      <th>12454</th>\n      <td>adidas</td>\n      <td>adidas originals adilette slides off white bri...</td>\n      <td>56.0</td>\n      <td>NaN</td>\n      <td>https://www.kickscrew.com/products/adidas-orig...</td>\n      <td>NaN</td>\n      <td>kickscrew</td>\n      <td>USD</td>\n      <td>NaN</td>\n      <td>data/raw/images/kickscrew/adidas/adidas-origin...</td>\n      <td>data/raw/images/kickscrew/adidas/adidas-origin...</td>\n      <td>data/raw/images/kickscrew/adidas/adidas-origin...</td>\n    </tr>\n    <tr>\n      <th>12455</th>\n      <td>adidas</td>\n      <td>adidas originals forum low shoes white grey red</td>\n      <td>84.0</td>\n      <td>NaN</td>\n      <td>https://www.kickscrew.com/products/adidas-orig...</td>\n      <td>NaN</td>\n      <td>kickscrew</td>\n      <td>USD</td>\n      <td>NaN</td>\n      <td>data/raw/images/kickscrew/adidas/adidas-origin...</td>\n      <td>data/raw/images/kickscrew/adidas/adidas-origin...</td>\n      <td>data/raw/images/kickscrew/adidas/adidas-origin...</td>\n    </tr>\n    <tr>\n      <th>12456</th>\n      <td>adidas</td>\n      <td>adidas grand court 2.0 sneakers white black</td>\n      <td>67.0</td>\n      <td>NaN</td>\n      <td>https://www.kickscrew.com/products/adidas-gran...</td>\n      <td>NaN</td>\n      <td>kickscrew</td>\n      <td>USD</td>\n      <td>NaN</td>\n      <td>NaN</td>\n      <td>data/raw/images/kickscrew/adidas/adidas-grand-...</td>\n      <td>NaN</td>\n    </tr>\n  </tbody>\n</table>\n<p>12457 rows × 12 columns</p>\n</div>"
     },
     "execution_count": 9,
     "metadata": {},
     "output_type": "execute_result"
    }
   ],
   "source": [
    "merged_datasets = pd.concat(list(processed_datasets.values()), ignore_index=True)\n",
    "merged_datasets"
   ],
   "metadata": {
    "collapsed": false,
    "ExecuteTime": {
     "end_time": "2023-11-12T10:02:10.040120183Z",
     "start_time": "2023-11-12T10:02:10.000153544Z"
    }
   }
  },
  {
   "cell_type": "code",
   "execution_count": 10,
   "outputs": [],
   "source": [
    "test = merged_datasets.groupby(\"title\").agg({\n",
    "    \"brand\": list,\n",
    "    \"collection_name\": list,\n",
    "    \"color\": list,\n",
    "    \"images_path\": list,\n",
    "    \"price\": list,\n",
    "    \"pricecurrency\": list,\n",
    "    \"url\": list,\n",
    "    \"website\": list\n",
    "})\n",
    "test = test.reset_index()"
   ],
   "metadata": {
    "collapsed": false,
    "ExecuteTime": {
     "end_time": "2023-11-12T10:02:11.642138879Z",
     "start_time": "2023-11-12T10:02:10.011345700Z"
    }
   }
  },
  {
   "cell_type": "code",
   "execution_count": 11,
   "outputs": [
    {
     "data": {
      "text/plain": "                                                  title               brand  \\\n0     (gs) adidas predator edge.3 multi-ground boots...            [adidas]   \n1                 (gs) adidas superstar xlg whote black            [adidas]   \n2                (gs) adidas ultra boost 22 magic mauve            [adidas]   \n3                (gs) adidas ultraboost 22 triple black            [adidas]   \n4                        (gs) air jordan 1 low aquatone        [Air Jordan]   \n...                                                 ...                 ...   \n8939  zoom vomero 5 sp anthracite anthracite-black-w...              [nike]   \n8940    zoom vomero 5 sp vast grey vast grey-black-sail              [nike]   \n8941                            zx 22 boost cream white  [adidas originals]   \n8942                              zx 2k boost 2.0 white            [adidas]   \n8943                              zx 5020 crystal white  [adidas originals]   \n\n       collection_name                 color  \\\n0                [nan]                 [nan]   \n1                [nan]                 [nan]   \n2                [nan]                 [nan]   \n3                [nan]                 [nan]   \n4                [nan]                 [nan]   \n...                ...                   ...   \n8939    [men-sneakers]              [[grey]]   \n8940    [men-sneakers]              [[grey]]   \n8941    [category-men]             [[beige]]   \n8942  [women-sneakers]             [[white]]   \n8943    [category-men]  [[grey, pink, blue]]   \n\n                                            images_path      price  \\\n0                                                 [nan]    [105.0]   \n1                                                 [nan]     [75.0]   \n2                                                 [nan]    [111.0]   \n3                                                 [nan]    [199.0]   \n4                                                 [nan]    [100.0]   \n...                                                 ...        ...   \n8939  [data/raw/images/superkicks/men-sneakers/nike/...  [14995.0]   \n8940  [data/raw/images/superkicks/men-sneakers/nike/...  [14995.0]   \n8941  [data/raw/images/sneakerbaas/category-men/adid...    [59.99]   \n8942  [data/raw/images/superkicks/women-sneakers/adi...   [8399.0]   \n8943  [data/raw/images/sneakerbaas/category-men/adid...    [59.99]   \n\n     pricecurrency                                                url  \\\n0            [USD]  [https://www.kickscrew.com/products/adidas-pre...   \n1            [USD]  [https://www.kickscrew.com/products/gs-adidas-...   \n2            [USD]  [https://www.kickscrew.com/products/gs-adidas-...   \n3            [USD]  [https://www.kickscrew.com/products/gs-adidas-...   \n4            [USD]  [https://www.kickscrew.com/products/gs-air-jor...   \n...            ...                                                ...   \n8939         [INR]  [https://www.superkicks.in/products/zoom-vomer...   \n8940         [INR]  [https://www.superkicks.in/products/zoom-vomer...   \n8941         [EUR]  [https://www.sneakerbaas.com/collections/sneak...   \n8942         [INR]  [https://www.superkicks.in/products/zx-2k-boos...   \n8943         [EUR]  [https://www.sneakerbaas.com/collections/sneak...   \n\n            website  \n0       [kickscrew]  \n1       [kickscrew]  \n2       [kickscrew]  \n3       [kickscrew]  \n4       [kickscrew]  \n...             ...  \n8939   [superkicks]  \n8940   [superkicks]  \n8941  [sneakerbaas]  \n8942   [superkicks]  \n8943  [sneakerbaas]  \n\n[8944 rows x 9 columns]",
      "text/html": "<div>\n<style scoped>\n    .dataframe tbody tr th:only-of-type {\n        vertical-align: middle;\n    }\n\n    .dataframe tbody tr th {\n        vertical-align: top;\n    }\n\n    .dataframe thead th {\n        text-align: right;\n    }\n</style>\n<table border=\"1\" class=\"dataframe\">\n  <thead>\n    <tr style=\"text-align: right;\">\n      <th></th>\n      <th>title</th>\n      <th>brand</th>\n      <th>collection_name</th>\n      <th>color</th>\n      <th>images_path</th>\n      <th>price</th>\n      <th>pricecurrency</th>\n      <th>url</th>\n      <th>website</th>\n    </tr>\n  </thead>\n  <tbody>\n    <tr>\n      <th>0</th>\n      <td>(gs) adidas predator edge.3 multi-ground boots...</td>\n      <td>[adidas]</td>\n      <td>[nan]</td>\n      <td>[nan]</td>\n      <td>[nan]</td>\n      <td>[105.0]</td>\n      <td>[USD]</td>\n      <td>[https://www.kickscrew.com/products/adidas-pre...</td>\n      <td>[kickscrew]</td>\n    </tr>\n    <tr>\n      <th>1</th>\n      <td>(gs) adidas superstar xlg whote black</td>\n      <td>[adidas]</td>\n      <td>[nan]</td>\n      <td>[nan]</td>\n      <td>[nan]</td>\n      <td>[75.0]</td>\n      <td>[USD]</td>\n      <td>[https://www.kickscrew.com/products/gs-adidas-...</td>\n      <td>[kickscrew]</td>\n    </tr>\n    <tr>\n      <th>2</th>\n      <td>(gs) adidas ultra boost 22 magic mauve</td>\n      <td>[adidas]</td>\n      <td>[nan]</td>\n      <td>[nan]</td>\n      <td>[nan]</td>\n      <td>[111.0]</td>\n      <td>[USD]</td>\n      <td>[https://www.kickscrew.com/products/gs-adidas-...</td>\n      <td>[kickscrew]</td>\n    </tr>\n    <tr>\n      <th>3</th>\n      <td>(gs) adidas ultraboost 22 triple black</td>\n      <td>[adidas]</td>\n      <td>[nan]</td>\n      <td>[nan]</td>\n      <td>[nan]</td>\n      <td>[199.0]</td>\n      <td>[USD]</td>\n      <td>[https://www.kickscrew.com/products/gs-adidas-...</td>\n      <td>[kickscrew]</td>\n    </tr>\n    <tr>\n      <th>4</th>\n      <td>(gs) air jordan 1 low aquatone</td>\n      <td>[Air Jordan]</td>\n      <td>[nan]</td>\n      <td>[nan]</td>\n      <td>[nan]</td>\n      <td>[100.0]</td>\n      <td>[USD]</td>\n      <td>[https://www.kickscrew.com/products/gs-air-jor...</td>\n      <td>[kickscrew]</td>\n    </tr>\n    <tr>\n      <th>...</th>\n      <td>...</td>\n      <td>...</td>\n      <td>...</td>\n      <td>...</td>\n      <td>...</td>\n      <td>...</td>\n      <td>...</td>\n      <td>...</td>\n      <td>...</td>\n    </tr>\n    <tr>\n      <th>8939</th>\n      <td>zoom vomero 5 sp anthracite anthracite-black-w...</td>\n      <td>[nike]</td>\n      <td>[men-sneakers]</td>\n      <td>[[grey]]</td>\n      <td>[data/raw/images/superkicks/men-sneakers/nike/...</td>\n      <td>[14995.0]</td>\n      <td>[INR]</td>\n      <td>[https://www.superkicks.in/products/zoom-vomer...</td>\n      <td>[superkicks]</td>\n    </tr>\n    <tr>\n      <th>8940</th>\n      <td>zoom vomero 5 sp vast grey vast grey-black-sail</td>\n      <td>[nike]</td>\n      <td>[men-sneakers]</td>\n      <td>[[grey]]</td>\n      <td>[data/raw/images/superkicks/men-sneakers/nike/...</td>\n      <td>[14995.0]</td>\n      <td>[INR]</td>\n      <td>[https://www.superkicks.in/products/zoom-vomer...</td>\n      <td>[superkicks]</td>\n    </tr>\n    <tr>\n      <th>8941</th>\n      <td>zx 22 boost cream white</td>\n      <td>[adidas originals]</td>\n      <td>[category-men]</td>\n      <td>[[beige]]</td>\n      <td>[data/raw/images/sneakerbaas/category-men/adid...</td>\n      <td>[59.99]</td>\n      <td>[EUR]</td>\n      <td>[https://www.sneakerbaas.com/collections/sneak...</td>\n      <td>[sneakerbaas]</td>\n    </tr>\n    <tr>\n      <th>8942</th>\n      <td>zx 2k boost 2.0 white</td>\n      <td>[adidas]</td>\n      <td>[women-sneakers]</td>\n      <td>[[white]]</td>\n      <td>[data/raw/images/superkicks/women-sneakers/adi...</td>\n      <td>[8399.0]</td>\n      <td>[INR]</td>\n      <td>[https://www.superkicks.in/products/zx-2k-boos...</td>\n      <td>[superkicks]</td>\n    </tr>\n    <tr>\n      <th>8943</th>\n      <td>zx 5020 crystal white</td>\n      <td>[adidas originals]</td>\n      <td>[category-men]</td>\n      <td>[[grey, pink, blue]]</td>\n      <td>[data/raw/images/sneakerbaas/category-men/adid...</td>\n      <td>[59.99]</td>\n      <td>[EUR]</td>\n      <td>[https://www.sneakerbaas.com/collections/sneak...</td>\n      <td>[sneakerbaas]</td>\n    </tr>\n  </tbody>\n</table>\n<p>8944 rows × 9 columns</p>\n</div>"
     },
     "execution_count": 11,
     "metadata": {},
     "output_type": "execute_result"
    }
   ],
   "source": [
    "test"
   ],
   "metadata": {
    "collapsed": false,
    "ExecuteTime": {
     "end_time": "2023-11-12T10:02:18.208644743Z",
     "start_time": "2023-11-12T10:02:18.134160108Z"
    }
   }
  },
  {
   "cell_type": "code",
   "execution_count": 13,
   "outputs": [],
   "source": [
    "titles = test[\"title\"].tolist()"
   ],
   "metadata": {
    "collapsed": false,
    "ExecuteTime": {
     "end_time": "2023-11-12T10:06:34.257179795Z",
     "start_time": "2023-11-12T10:06:34.245015309Z"
    }
   }
  },
  {
   "cell_type": "code",
   "execution_count": null,
   "outputs": [],
   "source": [
    "!pip install thefuzz -q"
   ],
   "metadata": {
    "collapsed": false
   }
  },
  {
   "cell_type": "code",
   "execution_count": 34,
   "outputs": [
    {
     "data": {
      "text/plain": "[('adidas retropy e5 triple black', 61),\n ('adidas ultraboost 1.0 w', 61),\n ('adidas velosamba black gum', 61),\n ('adidas vs pace 2.0 3 stripes shoes white black', 61),\n ('adidas yeezy boost 700 mnvn triple black', 61),\n ('asics - gel-trabuco terra sps black', 61),\n ('(gs) adidas superstar xlg whote black', 62),\n ('adidas d rose 773 2020 black', 62),\n ('adidas pro bounce 2018 triple black', 62),\n ('adidas pro model 2g black', 62),\n ('adidas solar boost core black', 62),\n ('adidas x stella mccartney ultraboost speed', 62),\n ('asics gel nimbus 23 triple black', 62),\n ('asics gel nimbus 25 triple black', 62),\n ('adidas - superstar 82 white black', 63),\n ('adidas pureboost go clear brown', 63),\n ('adidas terrex speed ultra trail black turbo', 63),\n ('adidas ultraboost 1.0', 63),\n ('(gs) adidas ultra boost 22 magic mauve', 64),\n ('adidas d rose 773 2020 black gold', 64),\n ('adidas lego x ultraboost dna color pack - multi', 64),\n ('adidas pro model 2g core black', 64),\n ('adidas superstar slip on black', 64),\n ('adidas switch fwd triple black', 64),\n ('adidas ultraboost dna ice cream pack - black white', 64),\n ('(wmns) adidas ultraboost 19 pale nude', 65),\n ('adidas james bond x ultraboost 20 no time to die - core black', 65),\n ('adidas pureboost 22', 65),\n ('adidas ultraboost 1.0 retro cream 2018', 65),\n ('adidas ultraboost 19.5 dna', 65),\n ('adidas ultraboost 5.0 dna', 66),\n ('adidas ultraboost light gtx', 67),\n ('adidas x stella mccartney ultraboost 20', 67),\n ('adidas ultraboost 22 cold.rdy 2.0 w', 68),\n ('adidas 4d fusio triple black', 69),\n ('adidas ultraboost 19 oreo', 69),\n ('adidas ultraboost 22 w', 69),\n ('adidas x stella mccartney ultraboost 22', 69),\n ('adidas parley x ultraboost 21 orbit grey chalky brown', 70),\n ('adidas pureboost go core black', 70),\n ('adidas ultraboost 22 cold.rdy 2.0', 70),\n ('adidas ultraboost 22 patchwork graphic', 70),\n ('adidas ultraboost all terrain black focus olive', 70),\n ('adidas ultra boost 22 black blue', 71),\n ('adidas ultraboost 22', 71),\n ('adidas ultraboost 1.0 atr', 72),\n ('adidas x parley ultraboost 21', 74),\n ('adidas ultraboost leather core black', 75),\n ('adidas ultraboost 5.0 dna shoes triple black', 82),\n ('(gs) adidas ultraboost 22 triple black', 100)]"
     },
     "execution_count": 34,
     "metadata": {},
     "output_type": "execute_result"
    }
   ],
   "source": [
    "from thefuzz import fuzz\n",
    "\n",
    "def similarity(string1, string2):\n",
    "    return fuzz.token_sort_ratio(string1, string2)\n",
    "# fuzz.partial_ratio(string1, string2)/100 * \n",
    "title = \"(gs) adidas ultraboost 22 triple black\"\n",
    "\n",
    "similarities = []\n",
    "for text in titles:\n",
    "    similarities.append((text, similarity(title, text)))\n",
    "\n",
    "similarities.sort(key=lambda x: x[1])\n",
    "similarities[-50:]"
   ],
   "metadata": {
    "collapsed": false,
    "ExecuteTime": {
     "end_time": "2023-11-12T10:16:53.280565636Z",
     "start_time": "2023-11-12T10:16:53.170470072Z"
    }
   }
  }
 ],
 "metadata": {
  "kernelspec": {
   "display_name": "DS",
   "language": "python",
   "name": "python3"
  },
  "language_info": {
   "codemirror_mode": {
    "name": "ipython",
    "version": 3
   },
   "file_extension": ".py",
   "mimetype": "text/x-python",
   "name": "python",
   "nbconvert_exporter": "python",
   "pygments_lexer": "ipython3",
   "version": "3.9.16"
  }
 },
 "nbformat": 4,
 "nbformat_minor": 2
}
