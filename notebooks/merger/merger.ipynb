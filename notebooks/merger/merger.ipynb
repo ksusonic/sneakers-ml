{
 "cells": [
  {
   "cell_type": "code",
   "execution_count": 1,
   "outputs": [],
   "source": [
    "# for PyCharm\n",
    "import os\n",
    "\n",
    "current_directory = os.getcwd()\n",
    "project_directory = os.path.abspath(os.path.join(current_directory, os.pardir, os.pardir))\n",
    "os.chdir(project_directory)"
   ],
   "metadata": {
    "collapsed": false,
    "ExecuteTime": {
     "end_time": "2023-11-13T10:49:40.276349991Z",
     "start_time": "2023-11-13T10:49:40.155777831Z"
    }
   }
  },
  {
   "cell_type": "code",
   "execution_count": 2,
   "metadata": {
    "ExecuteTime": {
     "end_time": "2023-11-13T10:49:40.816700463Z",
     "start_time": "2023-11-13T10:49:40.278326578Z"
    }
   },
   "outputs": [],
   "source": [
    "import os\n",
    "\n",
    "import pandas as pd\n",
    "from pathlib import Path\n",
    "\n",
    "\n",
    "from src.data.merger import Merger"
   ]
  },
  {
   "cell_type": "code",
   "execution_count": 3,
   "outputs": [],
   "source": [
    "datasets = Merger().get_formatted()"
   ],
   "metadata": {
    "collapsed": false,
    "ExecuteTime": {
     "end_time": "2023-11-13T10:49:41.007497441Z",
     "start_time": "2023-11-13T10:49:40.821035042Z"
    }
   }
  },
  {
   "cell_type": "code",
   "execution_count": 9,
   "outputs": [
    {
     "data": {
      "text/plain": "                 brand                                              title  \\\n0     Adidas Originals                      CAMPUS 00S 'CLOUD WHITE/BLUE'   \n1             Converse  WMN'S RUN STAR MOTION CX PLATFORM TORTOISE 'KH...   \n2                 Nike  KEVIN DURANT KD16 EP 'BLACK/BLACK-DK SMOKE GRE...   \n3                 Puma            STAPLE B SUEDE 'DARK CHOCOLATE-RHUBARB'   \n4                 Nike  DUNK LOW RETRO PREMIUM 'CACAO WOW/COMET BLUE-M...   \n...                ...                                                ...   \n1085              Nike  WMN'S DUNK LOW PREMIUM MF 'RUSH FUCHSIA/RUSH F...   \n1086          Converse                              RUN STAR MOTION BLACK   \n1087          Converse                          RUN STAR HIKE LOW 'WHITE'   \n1088              Nike                      WMN'S DUNK HIGH 'BLACK/WHITE'   \n1089          Converse                CHUCK TAYLOR WMNS PLATFORM LAYER OX   \n\n        price                                        description  \\\n0     11999.0  ICONIC SHOES REDESIGNED FOR TODAY. Reimagined ...   \n1      9999.0  The latest iteration of the best-selling Run S...   \n2     13995.0  Basketball ShoesKevin Durant is a true hooper....   \n3      9999.0  With the new PUMA x STAPLE collection, we cont...   \n4      9695.0  Created for the hardwood but taken to the stre...   \n...       ...                                                ...   \n1085  10795.0  Created for the hardwood but taken to the stre...   \n1086   8999.0  We could tell you that it's the OG basketball ...   \n1087   5999.0  Available in a low top for the first time, the...   \n1088   9295.0  Created for the hardwood but taken to the stre...   \n1089   3499.0  manufacturer :  country_of_origin :   imported...   \n\n                                                   slug        brand_slug  \\\n0                            campus-00s-cloud-whiteblue  adidas-originals   \n1     wmns-run-star-motion-cx-platform-tortoise-khak...          converse   \n2     kevin-durant-kd16-ep-blackblackdk-smoke-greyco...              nike   \n3                  staple-b-suede-dark-chocolaterhubarb              puma   \n4     dunk-low-retro-premium-cacao-wowcomet-bluemars...              nike   \n...                                                 ...               ...   \n1085  wmns-dunk-low-premium-mf-rush-fuchsiarush-fuch...              nike   \n1086                              run-star-motion-black          converse   \n1087                            run-star-hike-low-white          converse   \n1088                          wmns-dunk-high-blackwhite              nike   \n1089                chuck-taylor-wmns-platform-layer-ox          converse   \n\n                collection_name  \\\n0                  men-sneakers   \n1                  men-sneakers   \n2                  men-sneakers   \n3                  men-sneakers   \n4                  men-sneakers   \n...                         ...   \n1085  women-skateboard-sneakers   \n1086  women-skateboard-sneakers   \n1087  women-skateboard-sneakers   \n1088  women-skateboard-sneakers   \n1089  women-skateboard-sneakers   \n\n                                                    url  \\\n0     https://www.superkicks.in/products/campus-00s-...   \n1     https://www.superkicks.in/products/wmns-run-st...   \n2     https://www.superkicks.in/products/kevin-duran...   \n3     https://www.superkicks.in/products/staple-b-su...   \n4     https://www.superkicks.in/products/dunk-low-re...   \n...                                                 ...   \n1085  https://www.superkicks.in/products/wmns-dunk-l...   \n1086  https://www.superkicks.in/products/run-star-mo...   \n1087  https://www.superkicks.in/products/run-star-hi...   \n1088  https://www.superkicks.in/products/wmns-dunk-h...   \n1089  https://www.superkicks.in/products/chuck-taylo...   \n\n                                            images_path pricecurrency  \\\n0     data/raw_new/images/superkicks/men-sneakers/ad...           INR   \n1     data/raw_new/images/superkicks/men-sneakers/co...           INR   \n2     data/raw_new/images/superkicks/men-sneakers/ni...           INR   \n3     data/raw_new/images/superkicks/men-sneakers/pu...           INR   \n4     data/raw_new/images/superkicks/men-sneakers/ni...           INR   \n...                                                 ...           ...   \n1085  data/raw_new/images/superkicks/women-skateboar...           INR   \n1086  data/raw_new/images/superkicks/women-skateboar...           INR   \n1087  data/raw_new/images/superkicks/women-skateboar...           INR   \n1088  data/raw_new/images/superkicks/women-skateboar...           INR   \n1089  data/raw_new/images/superkicks/women-skateboar...           INR   \n\n                                            title_clean  \n0                         CAMPUS 00S 'CLOUD WHITE/BLUE'  \n1     WMN'S RUN STAR MOTION CX PLATFORM TORTOISE 'KH...  \n2     KEVIN DURANT KD16 EP 'BLACK/BLACK-DK SMOKE GRE...  \n3               STAPLE B SUEDE 'DARK CHOCOLATE-RHUBARB'  \n4     DUNK LOW RETRO PREMIUM 'CACAO WOW/COMET BLUE-M...  \n...                                                 ...  \n1085  WMN'S DUNK LOW PREMIUM MF 'RUSH FUCHSIA/RUSH F...  \n1086                              RUN STAR MOTION BLACK  \n1087                          RUN STAR HIKE LOW 'WHITE'  \n1088                      WMN'S DUNK HIGH 'BLACK/WHITE'  \n1089                CHUCK TAYLOR WMNS PLATFORM LAYER OX  \n\n[1090 rows x 11 columns]",
      "text/html": "<div>\n<style scoped>\n    .dataframe tbody tr th:only-of-type {\n        vertical-align: middle;\n    }\n\n    .dataframe tbody tr th {\n        vertical-align: top;\n    }\n\n    .dataframe thead th {\n        text-align: right;\n    }\n</style>\n<table border=\"1\" class=\"dataframe\">\n  <thead>\n    <tr style=\"text-align: right;\">\n      <th></th>\n      <th>brand</th>\n      <th>title</th>\n      <th>price</th>\n      <th>description</th>\n      <th>slug</th>\n      <th>brand_slug</th>\n      <th>collection_name</th>\n      <th>url</th>\n      <th>images_path</th>\n      <th>pricecurrency</th>\n      <th>title_clean</th>\n    </tr>\n  </thead>\n  <tbody>\n    <tr>\n      <th>0</th>\n      <td>Adidas Originals</td>\n      <td>CAMPUS 00S 'CLOUD WHITE/BLUE'</td>\n      <td>11999.0</td>\n      <td>ICONIC SHOES REDESIGNED FOR TODAY. Reimagined ...</td>\n      <td>campus-00s-cloud-whiteblue</td>\n      <td>adidas-originals</td>\n      <td>men-sneakers</td>\n      <td>https://www.superkicks.in/products/campus-00s-...</td>\n      <td>data/raw_new/images/superkicks/men-sneakers/ad...</td>\n      <td>INR</td>\n      <td>CAMPUS 00S 'CLOUD WHITE/BLUE'</td>\n    </tr>\n    <tr>\n      <th>1</th>\n      <td>Converse</td>\n      <td>WMN'S RUN STAR MOTION CX PLATFORM TORTOISE 'KH...</td>\n      <td>9999.0</td>\n      <td>The latest iteration of the best-selling Run S...</td>\n      <td>wmns-run-star-motion-cx-platform-tortoise-khak...</td>\n      <td>converse</td>\n      <td>men-sneakers</td>\n      <td>https://www.superkicks.in/products/wmns-run-st...</td>\n      <td>data/raw_new/images/superkicks/men-sneakers/co...</td>\n      <td>INR</td>\n      <td>WMN'S RUN STAR MOTION CX PLATFORM TORTOISE 'KH...</td>\n    </tr>\n    <tr>\n      <th>2</th>\n      <td>Nike</td>\n      <td>KEVIN DURANT KD16 EP 'BLACK/BLACK-DK SMOKE GRE...</td>\n      <td>13995.0</td>\n      <td>Basketball ShoesKevin Durant is a true hooper....</td>\n      <td>kevin-durant-kd16-ep-blackblackdk-smoke-greyco...</td>\n      <td>nike</td>\n      <td>men-sneakers</td>\n      <td>https://www.superkicks.in/products/kevin-duran...</td>\n      <td>data/raw_new/images/superkicks/men-sneakers/ni...</td>\n      <td>INR</td>\n      <td>KEVIN DURANT KD16 EP 'BLACK/BLACK-DK SMOKE GRE...</td>\n    </tr>\n    <tr>\n      <th>3</th>\n      <td>Puma</td>\n      <td>STAPLE B SUEDE 'DARK CHOCOLATE-RHUBARB'</td>\n      <td>9999.0</td>\n      <td>With the new PUMA x STAPLE collection, we cont...</td>\n      <td>staple-b-suede-dark-chocolaterhubarb</td>\n      <td>puma</td>\n      <td>men-sneakers</td>\n      <td>https://www.superkicks.in/products/staple-b-su...</td>\n      <td>data/raw_new/images/superkicks/men-sneakers/pu...</td>\n      <td>INR</td>\n      <td>STAPLE B SUEDE 'DARK CHOCOLATE-RHUBARB'</td>\n    </tr>\n    <tr>\n      <th>4</th>\n      <td>Nike</td>\n      <td>DUNK LOW RETRO PREMIUM 'CACAO WOW/COMET BLUE-M...</td>\n      <td>9695.0</td>\n      <td>Created for the hardwood but taken to the stre...</td>\n      <td>dunk-low-retro-premium-cacao-wowcomet-bluemars...</td>\n      <td>nike</td>\n      <td>men-sneakers</td>\n      <td>https://www.superkicks.in/products/dunk-low-re...</td>\n      <td>data/raw_new/images/superkicks/men-sneakers/ni...</td>\n      <td>INR</td>\n      <td>DUNK LOW RETRO PREMIUM 'CACAO WOW/COMET BLUE-M...</td>\n    </tr>\n    <tr>\n      <th>...</th>\n      <td>...</td>\n      <td>...</td>\n      <td>...</td>\n      <td>...</td>\n      <td>...</td>\n      <td>...</td>\n      <td>...</td>\n      <td>...</td>\n      <td>...</td>\n      <td>...</td>\n      <td>...</td>\n    </tr>\n    <tr>\n      <th>1085</th>\n      <td>Nike</td>\n      <td>WMN'S DUNK LOW PREMIUM MF 'RUSH FUCHSIA/RUSH F...</td>\n      <td>10795.0</td>\n      <td>Created for the hardwood but taken to the stre...</td>\n      <td>wmns-dunk-low-premium-mf-rush-fuchsiarush-fuch...</td>\n      <td>nike</td>\n      <td>women-skateboard-sneakers</td>\n      <td>https://www.superkicks.in/products/wmns-dunk-l...</td>\n      <td>data/raw_new/images/superkicks/women-skateboar...</td>\n      <td>INR</td>\n      <td>WMN'S DUNK LOW PREMIUM MF 'RUSH FUCHSIA/RUSH F...</td>\n    </tr>\n    <tr>\n      <th>1086</th>\n      <td>Converse</td>\n      <td>RUN STAR MOTION BLACK</td>\n      <td>8999.0</td>\n      <td>We could tell you that it's the OG basketball ...</td>\n      <td>run-star-motion-black</td>\n      <td>converse</td>\n      <td>women-skateboard-sneakers</td>\n      <td>https://www.superkicks.in/products/run-star-mo...</td>\n      <td>data/raw_new/images/superkicks/women-skateboar...</td>\n      <td>INR</td>\n      <td>RUN STAR MOTION BLACK</td>\n    </tr>\n    <tr>\n      <th>1087</th>\n      <td>Converse</td>\n      <td>RUN STAR HIKE LOW 'WHITE'</td>\n      <td>5999.0</td>\n      <td>Available in a low top for the first time, the...</td>\n      <td>run-star-hike-low-white</td>\n      <td>converse</td>\n      <td>women-skateboard-sneakers</td>\n      <td>https://www.superkicks.in/products/run-star-hi...</td>\n      <td>data/raw_new/images/superkicks/women-skateboar...</td>\n      <td>INR</td>\n      <td>RUN STAR HIKE LOW 'WHITE'</td>\n    </tr>\n    <tr>\n      <th>1088</th>\n      <td>Nike</td>\n      <td>WMN'S DUNK HIGH 'BLACK/WHITE'</td>\n      <td>9295.0</td>\n      <td>Created for the hardwood but taken to the stre...</td>\n      <td>wmns-dunk-high-blackwhite</td>\n      <td>nike</td>\n      <td>women-skateboard-sneakers</td>\n      <td>https://www.superkicks.in/products/wmns-dunk-h...</td>\n      <td>data/raw_new/images/superkicks/women-skateboar...</td>\n      <td>INR</td>\n      <td>WMN'S DUNK HIGH 'BLACK/WHITE'</td>\n    </tr>\n    <tr>\n      <th>1089</th>\n      <td>Converse</td>\n      <td>CHUCK TAYLOR WMNS PLATFORM LAYER OX</td>\n      <td>3499.0</td>\n      <td>manufacturer :  country_of_origin :   imported...</td>\n      <td>chuck-taylor-wmns-platform-layer-ox</td>\n      <td>converse</td>\n      <td>women-skateboard-sneakers</td>\n      <td>https://www.superkicks.in/products/chuck-taylo...</td>\n      <td>data/raw_new/images/superkicks/women-skateboar...</td>\n      <td>INR</td>\n      <td>CHUCK TAYLOR WMNS PLATFORM LAYER OX</td>\n    </tr>\n  </tbody>\n</table>\n<p>1090 rows × 11 columns</p>\n</div>"
     },
     "execution_count": 9,
     "metadata": {},
     "output_type": "execute_result"
    }
   ],
   "source": [
    "datasets[\"superkicks\"]"
   ],
   "metadata": {
    "collapsed": false,
    "ExecuteTime": {
     "end_time": "2023-11-13T10:50:31.950549919Z",
     "start_time": "2023-11-13T10:50:31.941024789Z"
    }
   }
  },
  {
   "cell_type": "code",
   "execution_count": 11,
   "metadata": {
    "ExecuteTime": {
     "end_time": "2023-11-13T10:50:42.607368177Z",
     "start_time": "2023-11-13T10:50:42.564118105Z"
    }
   },
   "outputs": [
    {
     "ename": "NotImplementedError",
     "evalue": "",
     "output_type": "error",
     "traceback": [
      "\u001B[0;31m---------------------------------------------------------------------------\u001B[0m",
      "\u001B[0;31mNotImplementedError\u001B[0m                       Traceback (most recent call last)",
      "Cell \u001B[0;32mIn[11], line 8\u001B[0m\n\u001B[1;32m      1\u001B[0m \u001B[38;5;66;03m# todo\u001B[39;00m\n\u001B[1;32m      2\u001B[0m \u001B[38;5;66;03m# Я перепарсил и теперь в title есть цвет в кавычках типо вот этого: Air Jordan 6 Retro GS \"Dutch Blue\"\u001B[39;00m\n\u001B[1;32m      3\u001B[0m \u001B[38;5;66;03m# его бы вынести в отдельную колонку color, это надо в merger.py переписать для sneakerbaas и superkicks ну и ваших датасетов\u001B[39;00m\n\u001B[0;32m   (...)\u001B[0m\n\u001B[1;32m      6\u001B[0m \u001B[38;5;66;03m# мб ебануть AbstractParser.remove_extra_symbols() на title без цветов.\u001B[39;00m\n\u001B[1;32m      7\u001B[0m \u001B[38;5;66;03m# По этой чистой колонке можно смерджить.\u001B[39;00m\n\u001B[0;32m----> 8\u001B[0m \u001B[38;5;28;01mraise\u001B[39;00m \u001B[38;5;167;01mNotImplementedError\u001B[39;00m\n",
      "\u001B[0;31mNotImplementedError\u001B[0m: "
     ]
    }
   ],
   "source": [
    "# todo\n",
    "# Я перепарсил и теперь в title есть цвет в кавычках типо вот этого: Air Jordan 6 Retro GS \"Dutch Blue\"\n",
    "# его бы вынести в отдельную колонку color, это надо в merger.py переписать для sneakerbaas и superkicks ну и ваших датасетов\n",
    "\n",
    "# После этого надо сделать колонку, в которой будет чистое название (без цвета и лишних символов)\n",
    "# мб ебануть Merger().remove_extra_symbols() на title без цветов.\n",
    "# По этой чистой колонке можно смерджить.\n",
    "raise NotImplementedError\n"
   ]
  },
  {
   "cell_type": "code",
   "execution_count": 10,
   "outputs": [
    {
     "name": "stdout",
     "output_type": "stream",
     "text": [
      "(1090, 11)\n",
      "(999, 11)\n",
      "(4852, 10)\n",
      "(598, 7)\n",
      "(4900, 6)\n"
     ]
    }
   ],
   "source": [
    "for key, value in datasets.items():\n",
    "    print(value.shape)"
   ],
   "metadata": {
    "collapsed": false,
    "ExecuteTime": {
     "end_time": "2023-11-13T10:50:39.345728430Z",
     "start_time": "2023-11-13T10:50:39.337534271Z"
    }
   }
  },
  {
   "cell_type": "code",
   "execution_count": 7,
   "metadata": {
    "ExecuteTime": {
     "end_time": "2023-11-12T11:36:53.860907061Z",
     "start_time": "2023-11-12T11:36:53.855616530Z"
    }
   },
   "outputs": [
    {
     "data": {
      "text/plain": "{'brand',\n 'images_path',\n 'price',\n 'pricecurrency',\n 'title',\n 'title_old',\n 'url',\n 'website'}"
     },
     "execution_count": 7,
     "metadata": {},
     "output_type": "execute_result"
    }
   ],
   "source": [
    "# same columns\n",
    "same_columns = set.intersection(*[set(processed_datasets[key].columns) for key in processed_datasets])\n",
    "same_columns\n",
    "# no colors and collection-name"
   ]
  },
  {
   "cell_type": "code",
   "execution_count": 8,
   "outputs": [
    {
     "data": {
      "text/plain": "          brand                                             title    price  \\\n0      converse                           wmns run star legacy cx   8499.0   \n1      converse                             chuck taylor all star   4299.0   \n2          nike                                       kd16 nrg ep  14995.0   \n3        jordan   air jordan 1 retro high og royal bluewhiteroyal  16995.0   \n4          nike           blazer mid 77 premium summit blacklight   7756.0   \n...         ...                                               ...      ...   \n12452    adidas         adidas ultraboost 10 shoes valentines day    123.0   \n12453    adidas  adidas originals ozweego shoes magic clay strata    102.0   \n12454    adidas       adidas originals adilette slides off bright     56.0   \n12455    adidas                  adidas originals forum low shoes     84.0   \n12456    adidas                    adidas grand court 20 sneakers     67.0   \n\n      collection_name                                                url  \\\n0        men-sneakers  https://www.superkicks.in/products/wmns-run-st...   \n1        men-sneakers  https://www.superkicks.in/products/chuck-taylo...   \n2        men-sneakers  https://www.superkicks.in/products/kd16-nrg-ep...   \n3        men-sneakers  https://www.superkicks.in/products/air-jordan-...   \n4        men-sneakers  https://www.superkicks.in/products/blazer-mid-...   \n...               ...                                                ...   \n12452             NaN  https://www.kickscrew.com/products/adidas-ultr...   \n12453             NaN  https://www.kickscrew.com/products/adidas-orig...   \n12454             NaN  https://www.kickscrew.com/products/adidas-orig...   \n12455             NaN  https://www.kickscrew.com/products/adidas-orig...   \n12456             NaN  https://www.kickscrew.com/products/adidas-gran...   \n\n                                             images_path     website  \\\n0      data/raw/images/superkicks/men-sneakers/conver...  superkicks   \n1      data/raw/images/superkicks/men-sneakers/conver...  superkicks   \n2      data/raw/images/superkicks/men-sneakers/nike/k...  superkicks   \n3      data/raw/images/superkicks/men-sneakers/jordan...  superkicks   \n4      data/raw/images/superkicks/men-sneakers/nike/b...  superkicks   \n...                                                  ...         ...   \n12452  [data/raw/images/kickscrew/adidas/adidas-ultra...   kickscrew   \n12453  [data/raw/images/kickscrew/adidas/adidas-origi...   kickscrew   \n12454  [data/raw/images/kickscrew/adidas/adidas-origi...   kickscrew   \n12455  [data/raw/images/kickscrew/adidas/adidas-origi...   kickscrew   \n12456  [nan, data/raw/images/kickscrew/adidas/adidas-...   kickscrew   \n\n                                               title_old pricecurrency color  \n0                     wmns run star legacy cx periwinkle           INR    []  \n1                         chuck taylor all star charcoal           INR    []  \n2                       kd16 nrg ep pink foam|pink|white           INR    []  \n3      air jordan 1 retro high og black|royal blue-wh...           INR    []  \n4      blazer mid 77 premium summit white|black-light...           INR    []  \n...                                                  ...           ...   ...  \n12452       Adidas Ultraboost 1.0 Shoes 'Valentines Day'           USD   NaN  \n12453  Adidas Originals Ozweego Shoes 'Magic Beige Cl...           USD   NaN  \n12454  Adidas Originals Adilette Slides 'Off White Br...           USD   NaN  \n12455  Adidas Originals Forum Low Shoes 'White Grey Red'           USD   NaN  \n12456      Adidas Grand Court 2.0 Sneakers 'White Black'           USD   NaN  \n\n[12457 rows x 10 columns]",
      "text/html": "<div>\n<style scoped>\n    .dataframe tbody tr th:only-of-type {\n        vertical-align: middle;\n    }\n\n    .dataframe tbody tr th {\n        vertical-align: top;\n    }\n\n    .dataframe thead th {\n        text-align: right;\n    }\n</style>\n<table border=\"1\" class=\"dataframe\">\n  <thead>\n    <tr style=\"text-align: right;\">\n      <th></th>\n      <th>brand</th>\n      <th>title</th>\n      <th>price</th>\n      <th>collection_name</th>\n      <th>url</th>\n      <th>images_path</th>\n      <th>website</th>\n      <th>title_old</th>\n      <th>pricecurrency</th>\n      <th>color</th>\n    </tr>\n  </thead>\n  <tbody>\n    <tr>\n      <th>0</th>\n      <td>converse</td>\n      <td>wmns run star legacy cx</td>\n      <td>8499.0</td>\n      <td>men-sneakers</td>\n      <td>https://www.superkicks.in/products/wmns-run-st...</td>\n      <td>data/raw/images/superkicks/men-sneakers/conver...</td>\n      <td>superkicks</td>\n      <td>wmns run star legacy cx periwinkle</td>\n      <td>INR</td>\n      <td>[]</td>\n    </tr>\n    <tr>\n      <th>1</th>\n      <td>converse</td>\n      <td>chuck taylor all star</td>\n      <td>4299.0</td>\n      <td>men-sneakers</td>\n      <td>https://www.superkicks.in/products/chuck-taylo...</td>\n      <td>data/raw/images/superkicks/men-sneakers/conver...</td>\n      <td>superkicks</td>\n      <td>chuck taylor all star charcoal</td>\n      <td>INR</td>\n      <td>[]</td>\n    </tr>\n    <tr>\n      <th>2</th>\n      <td>nike</td>\n      <td>kd16 nrg ep</td>\n      <td>14995.0</td>\n      <td>men-sneakers</td>\n      <td>https://www.superkicks.in/products/kd16-nrg-ep...</td>\n      <td>data/raw/images/superkicks/men-sneakers/nike/k...</td>\n      <td>superkicks</td>\n      <td>kd16 nrg ep pink foam|pink|white</td>\n      <td>INR</td>\n      <td>[]</td>\n    </tr>\n    <tr>\n      <th>3</th>\n      <td>jordan</td>\n      <td>air jordan 1 retro high og royal bluewhiteroyal</td>\n      <td>16995.0</td>\n      <td>men-sneakers</td>\n      <td>https://www.superkicks.in/products/air-jordan-...</td>\n      <td>data/raw/images/superkicks/men-sneakers/jordan...</td>\n      <td>superkicks</td>\n      <td>air jordan 1 retro high og black|royal blue-wh...</td>\n      <td>INR</td>\n      <td>[]</td>\n    </tr>\n    <tr>\n      <th>4</th>\n      <td>nike</td>\n      <td>blazer mid 77 premium summit blacklight</td>\n      <td>7756.0</td>\n      <td>men-sneakers</td>\n      <td>https://www.superkicks.in/products/blazer-mid-...</td>\n      <td>data/raw/images/superkicks/men-sneakers/nike/b...</td>\n      <td>superkicks</td>\n      <td>blazer mid 77 premium summit white|black-light...</td>\n      <td>INR</td>\n      <td>[]</td>\n    </tr>\n    <tr>\n      <th>...</th>\n      <td>...</td>\n      <td>...</td>\n      <td>...</td>\n      <td>...</td>\n      <td>...</td>\n      <td>...</td>\n      <td>...</td>\n      <td>...</td>\n      <td>...</td>\n      <td>...</td>\n    </tr>\n    <tr>\n      <th>12452</th>\n      <td>adidas</td>\n      <td>adidas ultraboost 10 shoes valentines day</td>\n      <td>123.0</td>\n      <td>NaN</td>\n      <td>https://www.kickscrew.com/products/adidas-ultr...</td>\n      <td>[data/raw/images/kickscrew/adidas/adidas-ultra...</td>\n      <td>kickscrew</td>\n      <td>Adidas Ultraboost 1.0 Shoes 'Valentines Day'</td>\n      <td>USD</td>\n      <td>NaN</td>\n    </tr>\n    <tr>\n      <th>12453</th>\n      <td>adidas</td>\n      <td>adidas originals ozweego shoes magic clay strata</td>\n      <td>102.0</td>\n      <td>NaN</td>\n      <td>https://www.kickscrew.com/products/adidas-orig...</td>\n      <td>[data/raw/images/kickscrew/adidas/adidas-origi...</td>\n      <td>kickscrew</td>\n      <td>Adidas Originals Ozweego Shoes 'Magic Beige Cl...</td>\n      <td>USD</td>\n      <td>NaN</td>\n    </tr>\n    <tr>\n      <th>12454</th>\n      <td>adidas</td>\n      <td>adidas originals adilette slides off bright</td>\n      <td>56.0</td>\n      <td>NaN</td>\n      <td>https://www.kickscrew.com/products/adidas-orig...</td>\n      <td>[data/raw/images/kickscrew/adidas/adidas-origi...</td>\n      <td>kickscrew</td>\n      <td>Adidas Originals Adilette Slides 'Off White Br...</td>\n      <td>USD</td>\n      <td>NaN</td>\n    </tr>\n    <tr>\n      <th>12455</th>\n      <td>adidas</td>\n      <td>adidas originals forum low shoes</td>\n      <td>84.0</td>\n      <td>NaN</td>\n      <td>https://www.kickscrew.com/products/adidas-orig...</td>\n      <td>[data/raw/images/kickscrew/adidas/adidas-origi...</td>\n      <td>kickscrew</td>\n      <td>Adidas Originals Forum Low Shoes 'White Grey Red'</td>\n      <td>USD</td>\n      <td>NaN</td>\n    </tr>\n    <tr>\n      <th>12456</th>\n      <td>adidas</td>\n      <td>adidas grand court 20 sneakers</td>\n      <td>67.0</td>\n      <td>NaN</td>\n      <td>https://www.kickscrew.com/products/adidas-gran...</td>\n      <td>[nan, data/raw/images/kickscrew/adidas/adidas-...</td>\n      <td>kickscrew</td>\n      <td>Adidas Grand Court 2.0 Sneakers 'White Black'</td>\n      <td>USD</td>\n      <td>NaN</td>\n    </tr>\n  </tbody>\n</table>\n<p>12457 rows × 10 columns</p>\n</div>"
     },
     "execution_count": 8,
     "metadata": {},
     "output_type": "execute_result"
    }
   ],
   "source": [
    "merged_datasets = pd.concat(list(processed_datasets.values()), ignore_index=True)\n",
    "merged_datasets"
   ],
   "metadata": {
    "collapsed": false,
    "ExecuteTime": {
     "end_time": "2023-11-12T11:36:54.749235027Z",
     "start_time": "2023-11-12T11:36:54.702886670Z"
    }
   }
  },
  {
   "cell_type": "code",
   "execution_count": 9,
   "outputs": [
    {
     "data": {
      "text/plain": "                                                title               brand  \\\n0                                              01 low      [autry, autry]   \n1                                            01 low m             [autry]   \n2                                         01 low m bi             [autry]   \n3                                    01 low m bi eden             [autry]   \n4                                         01 low w bi             [autry]   \n...                                               ...                 ...   \n8233  zoom vomero 5 sp anthracite anthraciteblackwolf              [nike]   \n8234         zoom vomero 5 sp vast vast greyblacksail              [nike]   \n8235                                      zx 22 boost  [adidas originals]   \n8236                                   zx 2k boost 20            [adidas]   \n8237                                  zx 5020 crystal  [adidas originals]   \n\n                     collection_name                              color  \\\n0     [category-women, category-men]  [[white, beige], [yellow, white]]   \n1                     [category-men]            [[black, white, creme]]   \n2                     [category-men]                  [[white, purple]]   \n3                     [category-men]                   [[white, green]]   \n4                   [category-women]                   [[black, white]]   \n...                              ...                                ...   \n8233                  [men-sneakers]                               [[]]   \n8234                  [men-sneakers]                               [[]]   \n8235                  [category-men]                          [[beige]]   \n8236                [women-sneakers]                               [[]]   \n8237                  [category-men]               [[grey, pink, blue]]   \n\n                                            images_path             price  \\\n0     [data/raw/images/sneakerbaas/category-women/au...  [129.99, 149.99]   \n1     [data/raw/images/sneakerbaas/category-men/autr...          [149.99]   \n2     [data/raw/images/sneakerbaas/category-men/autr...          [149.99]   \n3     [data/raw/images/sneakerbaas/category-men/autr...          [149.99]   \n4     [data/raw/images/sneakerbaas/category-women/au...          [149.99]   \n...                                                 ...               ...   \n8233  [data/raw/images/superkicks/men-sneakers/nike/...         [14995.0]   \n8234  [data/raw/images/superkicks/men-sneakers/nike/...         [14995.0]   \n8235  [data/raw/images/sneakerbaas/category-men/adid...           [59.99]   \n8236  [data/raw/images/superkicks/women-sneakers/adi...          [8399.0]   \n8237  [data/raw/images/sneakerbaas/category-men/adid...           [59.99]   \n\n     pricecurrency                                                url  \\\n0       [EUR, EUR]  [https://www.sneakerbaas.com/collections/sneak...   \n1            [EUR]  [https://www.sneakerbaas.com/collections/sneak...   \n2            [EUR]  [https://www.sneakerbaas.com/collections/sneak...   \n3            [EUR]  [https://www.sneakerbaas.com/collections/sneak...   \n4            [EUR]  [https://www.sneakerbaas.com/collections/sneak...   \n...            ...                                                ...   \n8233         [INR]  [https://www.superkicks.in/products/zoom-vomer...   \n8234         [INR]  [https://www.superkicks.in/products/zoom-vomer...   \n8235         [EUR]  [https://www.sneakerbaas.com/collections/sneak...   \n8236         [INR]  [https://www.superkicks.in/products/zx-2k-boos...   \n8237         [EUR]  [https://www.sneakerbaas.com/collections/sneak...   \n\n                         website  \n0     [sneakerbaas, sneakerbaas]  \n1                  [sneakerbaas]  \n2                  [sneakerbaas]  \n3                  [sneakerbaas]  \n4                  [sneakerbaas]  \n...                          ...  \n8233                [superkicks]  \n8234                [superkicks]  \n8235               [sneakerbaas]  \n8236                [superkicks]  \n8237               [sneakerbaas]  \n\n[8238 rows x 9 columns]",
      "text/html": "<div>\n<style scoped>\n    .dataframe tbody tr th:only-of-type {\n        vertical-align: middle;\n    }\n\n    .dataframe tbody tr th {\n        vertical-align: top;\n    }\n\n    .dataframe thead th {\n        text-align: right;\n    }\n</style>\n<table border=\"1\" class=\"dataframe\">\n  <thead>\n    <tr style=\"text-align: right;\">\n      <th></th>\n      <th>title</th>\n      <th>brand</th>\n      <th>collection_name</th>\n      <th>color</th>\n      <th>images_path</th>\n      <th>price</th>\n      <th>pricecurrency</th>\n      <th>url</th>\n      <th>website</th>\n    </tr>\n  </thead>\n  <tbody>\n    <tr>\n      <th>0</th>\n      <td>01 low</td>\n      <td>[autry, autry]</td>\n      <td>[category-women, category-men]</td>\n      <td>[[white, beige], [yellow, white]]</td>\n      <td>[data/raw/images/sneakerbaas/category-women/au...</td>\n      <td>[129.99, 149.99]</td>\n      <td>[EUR, EUR]</td>\n      <td>[https://www.sneakerbaas.com/collections/sneak...</td>\n      <td>[sneakerbaas, sneakerbaas]</td>\n    </tr>\n    <tr>\n      <th>1</th>\n      <td>01 low m</td>\n      <td>[autry]</td>\n      <td>[category-men]</td>\n      <td>[[black, white, creme]]</td>\n      <td>[data/raw/images/sneakerbaas/category-men/autr...</td>\n      <td>[149.99]</td>\n      <td>[EUR]</td>\n      <td>[https://www.sneakerbaas.com/collections/sneak...</td>\n      <td>[sneakerbaas]</td>\n    </tr>\n    <tr>\n      <th>2</th>\n      <td>01 low m bi</td>\n      <td>[autry]</td>\n      <td>[category-men]</td>\n      <td>[[white, purple]]</td>\n      <td>[data/raw/images/sneakerbaas/category-men/autr...</td>\n      <td>[149.99]</td>\n      <td>[EUR]</td>\n      <td>[https://www.sneakerbaas.com/collections/sneak...</td>\n      <td>[sneakerbaas]</td>\n    </tr>\n    <tr>\n      <th>3</th>\n      <td>01 low m bi eden</td>\n      <td>[autry]</td>\n      <td>[category-men]</td>\n      <td>[[white, green]]</td>\n      <td>[data/raw/images/sneakerbaas/category-men/autr...</td>\n      <td>[149.99]</td>\n      <td>[EUR]</td>\n      <td>[https://www.sneakerbaas.com/collections/sneak...</td>\n      <td>[sneakerbaas]</td>\n    </tr>\n    <tr>\n      <th>4</th>\n      <td>01 low w bi</td>\n      <td>[autry]</td>\n      <td>[category-women]</td>\n      <td>[[black, white]]</td>\n      <td>[data/raw/images/sneakerbaas/category-women/au...</td>\n      <td>[149.99]</td>\n      <td>[EUR]</td>\n      <td>[https://www.sneakerbaas.com/collections/sneak...</td>\n      <td>[sneakerbaas]</td>\n    </tr>\n    <tr>\n      <th>...</th>\n      <td>...</td>\n      <td>...</td>\n      <td>...</td>\n      <td>...</td>\n      <td>...</td>\n      <td>...</td>\n      <td>...</td>\n      <td>...</td>\n      <td>...</td>\n    </tr>\n    <tr>\n      <th>8233</th>\n      <td>zoom vomero 5 sp anthracite anthraciteblackwolf</td>\n      <td>[nike]</td>\n      <td>[men-sneakers]</td>\n      <td>[[]]</td>\n      <td>[data/raw/images/superkicks/men-sneakers/nike/...</td>\n      <td>[14995.0]</td>\n      <td>[INR]</td>\n      <td>[https://www.superkicks.in/products/zoom-vomer...</td>\n      <td>[superkicks]</td>\n    </tr>\n    <tr>\n      <th>8234</th>\n      <td>zoom vomero 5 sp vast vast greyblacksail</td>\n      <td>[nike]</td>\n      <td>[men-sneakers]</td>\n      <td>[[]]</td>\n      <td>[data/raw/images/superkicks/men-sneakers/nike/...</td>\n      <td>[14995.0]</td>\n      <td>[INR]</td>\n      <td>[https://www.superkicks.in/products/zoom-vomer...</td>\n      <td>[superkicks]</td>\n    </tr>\n    <tr>\n      <th>8235</th>\n      <td>zx 22 boost</td>\n      <td>[adidas originals]</td>\n      <td>[category-men]</td>\n      <td>[[beige]]</td>\n      <td>[data/raw/images/sneakerbaas/category-men/adid...</td>\n      <td>[59.99]</td>\n      <td>[EUR]</td>\n      <td>[https://www.sneakerbaas.com/collections/sneak...</td>\n      <td>[sneakerbaas]</td>\n    </tr>\n    <tr>\n      <th>8236</th>\n      <td>zx 2k boost 20</td>\n      <td>[adidas]</td>\n      <td>[women-sneakers]</td>\n      <td>[[]]</td>\n      <td>[data/raw/images/superkicks/women-sneakers/adi...</td>\n      <td>[8399.0]</td>\n      <td>[INR]</td>\n      <td>[https://www.superkicks.in/products/zx-2k-boos...</td>\n      <td>[superkicks]</td>\n    </tr>\n    <tr>\n      <th>8237</th>\n      <td>zx 5020 crystal</td>\n      <td>[adidas originals]</td>\n      <td>[category-men]</td>\n      <td>[[grey, pink, blue]]</td>\n      <td>[data/raw/images/sneakerbaas/category-men/adid...</td>\n      <td>[59.99]</td>\n      <td>[EUR]</td>\n      <td>[https://www.sneakerbaas.com/collections/sneak...</td>\n      <td>[sneakerbaas]</td>\n    </tr>\n  </tbody>\n</table>\n<p>8238 rows × 9 columns</p>\n</div>"
     },
     "execution_count": 9,
     "metadata": {},
     "output_type": "execute_result"
    }
   ],
   "source": [
    "# group by по названиям, если все названия будут одинаковые, то все дублирующие кроссы сложатся в одно.\n",
    "test = merged_datasets.groupby(\"title\").agg({\n",
    "    \"brand\": list,\n",
    "    \"collection_name\": list,\n",
    "    \"color\": list,\n",
    "    \"images_path\": list,\n",
    "    \"price\": list,\n",
    "    \"pricecurrency\": list,\n",
    "    \"url\": list,\n",
    "    \"website\": list\n",
    "}).reset_index().sort_values(by=\"title\")\n",
    "test"
   ],
   "metadata": {
    "collapsed": false,
    "ExecuteTime": {
     "end_time": "2023-11-12T11:36:59.177228464Z",
     "start_time": "2023-11-12T11:36:57.552316177Z"
    }
   }
  },
  {
   "cell_type": "code",
   "execution_count": 10,
   "outputs": [
    {
     "name": "stdout",
     "output_type": "stream",
     "text": [
      "(12457, 10)\n",
      "(8238, 9)\n"
     ]
    }
   ],
   "source": [
    "# sizes\n",
    "print(merged_datasets.shape)\n",
    "print(test.shape)"
   ],
   "metadata": {
    "collapsed": false,
    "ExecuteTime": {
     "end_time": "2023-11-12T11:37:07.147576250Z",
     "start_time": "2023-11-12T11:37:07.117955950Z"
    }
   }
  },
  {
   "cell_type": "code",
   "execution_count": 11,
   "outputs": [],
   "source": [
    "titles = test[\"title\"].tolist()"
   ],
   "metadata": {
    "collapsed": false,
    "ExecuteTime": {
     "end_time": "2023-11-12T11:37:10.915528321Z",
     "start_time": "2023-11-12T11:37:10.908006716Z"
    }
   }
  },
  {
   "cell_type": "code",
   "execution_count": 12,
   "outputs": [
    {
     "name": "stdout",
     "output_type": "stream",
     "text": [
      "\r\n",
      "\u001B[1m[\u001B[0m\u001B[34;49mnotice\u001B[0m\u001B[1;39;49m]\u001B[0m\u001B[39;49m A new release of pip is available: \u001B[0m\u001B[31;49m23.2.1\u001B[0m\u001B[39;49m -> \u001B[0m\u001B[32;49m23.3.1\u001B[0m\r\n",
      "\u001B[1m[\u001B[0m\u001B[34;49mnotice\u001B[0m\u001B[1;39;49m]\u001B[0m\u001B[39;49m To update, run: \u001B[0m\u001B[32;49mpip install --upgrade pip\u001B[0m\r\n"
     ]
    }
   ],
   "source": [
    "!pip install thefuzz -q"
   ],
   "metadata": {
    "collapsed": false,
    "ExecuteTime": {
     "end_time": "2023-11-12T11:37:18.803864024Z",
     "start_time": "2023-11-12T11:37:11.085511451Z"
    }
   }
  },
  {
   "cell_type": "code",
   "execution_count": 13,
   "outputs": [
    {
     "data": {
      "text/plain": "[('vans ua og authentic lx vault checkerboard', 69),\n ('vans vault authentic one piece vlt lx', 69),\n ('vans vault og authentic frayed lx', 70),\n ('vans vault og authentic lx canvas', 70),\n ('authentic los vans', 71),\n ('vans og authentic lx stressed', 71),\n ('vans ua authentic vr3 pw lx', 77),\n ('vans ua og authentic lx suede', 78),\n ('vans vault og authentic lx', 79),\n ('vans og authentic lx', 80)]"
     },
     "execution_count": 13,
     "metadata": {},
     "output_type": "execute_result"
    }
   ],
   "source": [
    "from thefuzz import fuzz\n",
    "\n",
    "def similarity(string1, string2):\n",
    "    return fuzz.token_sort_ratio(string1, string2)\n",
    "\n",
    "title = \"vans - ua og authentic lx yellow\"\n",
    "\n",
    "similarities = []\n",
    "for text in titles:\n",
    "    similarities.append((text, similarity(title, text)))\n",
    "\n",
    "similarities.sort(key=lambda x: x[1])\n",
    "similarities[-10:]"
   ],
   "metadata": {
    "collapsed": false,
    "ExecuteTime": {
     "end_time": "2023-11-12T11:37:18.920868225Z",
     "start_time": "2023-11-12T11:37:18.813255484Z"
    }
   }
  },
  {
   "cell_type": "code",
   "execution_count": 18,
   "outputs": [],
   "source": [
    "# эта тема лучше всего находит похожие"
   ],
   "metadata": {
    "collapsed": false,
    "ExecuteTime": {
     "end_time": "2023-11-12T11:15:38.161794367Z",
     "start_time": "2023-11-12T11:15:38.121189651Z"
    }
   }
  },
  {
   "cell_type": "code",
   "execution_count": 14,
   "outputs": [],
   "source": [
    "test.to_csv(\"temp.csv\")"
   ],
   "metadata": {
    "collapsed": false,
    "ExecuteTime": {
     "end_time": "2023-11-12T11:38:02.153413018Z",
     "start_time": "2023-11-12T11:38:01.995539843Z"
    }
   }
  },
  {
   "cell_type": "code",
   "execution_count": null,
   "outputs": [],
   "source": [],
   "metadata": {
    "collapsed": false
   }
  }
 ],
 "metadata": {
  "kernelspec": {
   "display_name": "DS",
   "language": "python",
   "name": "python3"
  },
  "language_info": {
   "codemirror_mode": {
    "name": "ipython",
    "version": 3
   },
   "file_extension": ".py",
   "mimetype": "text/x-python",
   "name": "python",
   "nbconvert_exporter": "python",
   "pygments_lexer": "ipython3",
   "version": "3.9.16"
  }
 },
 "nbformat": 4,
 "nbformat_minor": 2
}
