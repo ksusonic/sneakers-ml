{
 "cells": [
  {
   "cell_type": "code",
   "execution_count": 1,
   "outputs": [],
   "source": [
    "# for PyCharm\n",
    "import os\n",
    "\n",
    "current_directory = os.getcwd()\n",
    "project_directory = os.path.abspath(os.path.join(current_directory, os.pardir, os.pardir))\n",
    "os.chdir(project_directory)"
   ],
   "metadata": {
    "collapsed": false,
    "ExecuteTime": {
     "end_time": "2023-11-18T20:02:29.610228452Z",
     "start_time": "2023-11-18T20:02:29.608683219Z"
    }
   }
  },
  {
   "cell_type": "code",
   "execution_count": 2,
   "metadata": {
    "ExecuteTime": {
     "end_time": "2023-11-18T20:02:30.016022638Z",
     "start_time": "2023-11-18T20:02:29.608856494Z"
    }
   },
   "outputs": [
    {
     "name": "stdout",
     "output_type": "stream",
     "text": [
      "INFO: Pandarallel will run on 8 workers.\n",
      "INFO: Pandarallel will use Memory file system to transfer data between the main process and workers.\n"
     ]
    }
   ],
   "source": [
    "import pandas as pd\n",
    "from pathlib import Path\n",
    "\n",
    "from src.data.merger import Merger"
   ]
  },
  {
   "cell_type": "code",
   "execution_count": 3,
   "outputs": [
    {
     "name": "stdout",
     "output_type": "stream",
     "text": [
      "Superkicks\n"
     ]
    },
    {
     "data": {
      "text/plain": "VBox(children=(HBox(children=(IntProgress(value=0, description='0.00%', max=137), Label(value='0 / 137'))), HB…",
      "application/vnd.jupyter.widget-view+json": {
       "version_major": 2,
       "version_minor": 0,
       "model_id": "6c6fcd40081d4b17b80eaf07529e2c94"
      }
     },
     "metadata": {},
     "output_type": "display_data"
    },
    {
     "name": "stdout",
     "output_type": "stream",
     "text": [
      "Sneakerbaas\n"
     ]
    },
    {
     "data": {
      "text/plain": "VBox(children=(HBox(children=(IntProgress(value=0, description='0.00%', max=125), Label(value='0 / 125'))), HB…",
      "application/vnd.jupyter.widget-view+json": {
       "version_major": 2,
       "version_minor": 0,
       "model_id": "414e7aab7f444ea9a5d4fac94856a8c9"
      }
     },
     "metadata": {},
     "output_type": "display_data"
    },
    {
     "name": "stdout",
     "output_type": "stream",
     "text": [
      "Footshop\n"
     ]
    },
    {
     "data": {
      "text/plain": "VBox(children=(HBox(children=(IntProgress(value=0, description='0.00%', max=607), Label(value='0 / 607'))), HB…",
      "application/vnd.jupyter.widget-view+json": {
       "version_major": 2,
       "version_minor": 0,
       "model_id": "94265e7fb2ee479a90c6ce56773c69b8"
      }
     },
     "metadata": {},
     "output_type": "display_data"
    },
    {
     "name": "stdout",
     "output_type": "stream",
     "text": [
      "Kickscrew\n"
     ]
    },
    {
     "data": {
      "text/plain": "VBox(children=(HBox(children=(IntProgress(value=0, description='0.00%', max=613), Label(value='0 / 613'))), HB…",
      "application/vnd.jupyter.widget-view+json": {
       "version_major": 2,
       "version_minor": 0,
       "model_id": "4815f02d225b470ea413785236302215"
      }
     },
     "metadata": {},
     "output_type": "display_data"
    },
    {
     "name": "stdout",
     "output_type": "stream",
     "text": [
      "superkicks dict_keys([])\n",
      "sneakerbaas dict_keys([])\n",
      "footshop dict_keys(['.', '®', \"'\", '*'])\n",
      "kickscrew dict_keys(['.'])\n"
     ]
    }
   ],
   "source": [
    "datasets = Merger().get_formatted()\n",
    "Merger.check_extra_symbols(datasets, column=\"brand\")"
   ],
   "metadata": {
    "collapsed": false,
    "ExecuteTime": {
     "end_time": "2023-11-18T20:02:40.465625528Z",
     "start_time": "2023-11-18T20:02:30.013928665Z"
    }
   }
  },
  {
   "cell_type": "code",
   "execution_count": 4,
   "outputs": [
    {
     "data": {
      "text/plain": "                 brand                                    title  \\\n0         Under Armour         Under Armour HOVR Machina Breeze   \n1                Asics  Asics x Andersson Bell Gel-Sonoma 15-50   \n2     adidas Originals                  adidas Crazy Iiinfinity   \n3     adidas Originals                            adidas NMD S1   \n4     adidas Originals   adidas x Wales Bonner Pony Tonal Samba   \n...                ...                                      ...   \n6418       New Balance                        New Balance CT302   \n6419              Nike                 Nike Court Borough Mid 2   \n6420              Vans                      Vans Old Skool Kids   \n6421              Vans                      Vans Kids Old Skool   \n6422              Vans                           Vans Old Skool   \n\n                                           color  \\\n0               [blue surf, white, orange blast]   \n1                        [olive oil, dark brown]   \n2     [silver metallic, core black, cream white]   \n3           [core black, core black, alter navy]   \n4           [core black, core white, core white]   \n...                                          ...   \n6418                                 [all black]   \n6419               [university red, black-white]   \n6420                              [black, black]   \n6421                          [navy, true white]   \n6422                         [black, true white]   \n\n                                        slug        brand_slug pricecurrency  \\\n0           under-armour-hovr-machina-breeze      under-armour           EUR   \n1      asics-x-andersson-bell-gelsonoma-1550             asics           EUR   \n2                    adidas-crazy-iiinfinity  adidas-originals           EUR   \n3                              adidas-nmd-s1  adidas-originals           EUR   \n4     adidas-x-wales-bonner-pony-tonal-samba  adidas-originals           EUR   \n...                                      ...               ...           ...   \n6418                       new-balance-ct302       new-balance           EUR   \n6419                nike-court-borough-mid-2              nike           EUR   \n6420                     vans-old-skool-kids              vans           EUR   \n6421                     vans-kids-old-skool              vans           EUR   \n6422                          vans-old-skool              vans           EUR   \n\n       price             collection_name  \\\n0     113.72                5-mens-shoes   \n1     155.51                5-mens-shoes   \n2     160.00                5-mens-shoes   \n3     135.00                5-mens-shoes   \n4     200.00                5-mens-shoes   \n...      ...                         ...   \n6418  114.95  55-kids-sneakers-and-shoes   \n6419   74.95  55-kids-sneakers-and-shoes   \n6420   59.95  55-kids-sneakers-and-shoes   \n6421   59.95  55-kids-sneakers-and-shoes   \n6422   59.95  55-kids-sneakers-and-shoes   \n\n                                                    url  \\\n0     https://www.footshop.eu/en/mens-shoes/266188-u...   \n1     https://www.footshop.eu/en/mens-shoes/264451-a...   \n2     https://www.footshop.eu/en/mens-shoes/291355-a...   \n3     https://www.footshop.eu/en/mens-shoes/232945-a...   \n4     https://www.footshop.eu/en/mens-shoes/291166-a...   \n...                                                 ...   \n6418  https://www.footshop.eu/en/kids-sneakers-and-s...   \n6419  https://www.footshop.eu/en/kids-sneakers-and-s...   \n6420  https://www.footshop.eu/en/kids-sneakers-and-s...   \n6421  https://www.footshop.eu/en/kids-sneakers-and-s...   \n6422  https://www.footshop.eu/en/kids-sneakers-and-s...   \n\n                                            images_path   website  \\\n0     data/raw/images/footshop/5-mens-shoes/under-ar...  footshop   \n1     data/raw/images/footshop/5-mens-shoes/asics/as...  footshop   \n2     data/raw/images/footshop/5-mens-shoes/adidas-o...  footshop   \n3     data/raw/images/footshop/5-mens-shoes/adidas-o...  footshop   \n4     data/raw/images/footshop/5-mens-shoes/adidas-o...  footshop   \n...                                                 ...       ...   \n6418  data/raw/images/footshop/55-kids-sneakers-and-...  footshop   \n6419  data/raw/images/footshop/55-kids-sneakers-and-...  footshop   \n6420  data/raw/images/footshop/55-kids-sneakers-and-...  footshop   \n6421  data/raw/images/footshop/55-kids-sneakers-and-...  footshop   \n6422  data/raw/images/footshop/55-kids-sneakers-and-...  footshop   \n\n                          title_without_color            title_merge  \n0            Under Armour HOVR Machina Breeze    hovr machina breeze  \n1     Asics x Andersson Bell Gel-Sonoma 15-50  bell gel sonoma 15 50  \n2                     adidas Crazy Iiinfinity       crazy iiinfinity  \n3                               adidas NMD S1                 nmd s1  \n4      adidas x Wales Bonner Pony Tonal Samba       pony tonal samba  \n...                                       ...                    ...  \n6418                        New Balance CT302                  ct302  \n6419                 Nike Court Borough Mid 2    court borough mid 2  \n6420                      Vans Old Skool Kids         old skool kids  \n6421                      Vans Kids Old Skool         kids old skool  \n6422                           Vans Old Skool              old skool  \n\n[4852 rows x 13 columns]",
      "text/html": "<div>\n<style scoped>\n    .dataframe tbody tr th:only-of-type {\n        vertical-align: middle;\n    }\n\n    .dataframe tbody tr th {\n        vertical-align: top;\n    }\n\n    .dataframe thead th {\n        text-align: right;\n    }\n</style>\n<table border=\"1\" class=\"dataframe\">\n  <thead>\n    <tr style=\"text-align: right;\">\n      <th></th>\n      <th>brand</th>\n      <th>title</th>\n      <th>color</th>\n      <th>slug</th>\n      <th>brand_slug</th>\n      <th>pricecurrency</th>\n      <th>price</th>\n      <th>collection_name</th>\n      <th>url</th>\n      <th>images_path</th>\n      <th>website</th>\n      <th>title_without_color</th>\n      <th>title_merge</th>\n    </tr>\n  </thead>\n  <tbody>\n    <tr>\n      <th>0</th>\n      <td>Under Armour</td>\n      <td>Under Armour HOVR Machina Breeze</td>\n      <td>[blue surf, white, orange blast]</td>\n      <td>under-armour-hovr-machina-breeze</td>\n      <td>under-armour</td>\n      <td>EUR</td>\n      <td>113.72</td>\n      <td>5-mens-shoes</td>\n      <td>https://www.footshop.eu/en/mens-shoes/266188-u...</td>\n      <td>data/raw/images/footshop/5-mens-shoes/under-ar...</td>\n      <td>footshop</td>\n      <td>Under Armour HOVR Machina Breeze</td>\n      <td>hovr machina breeze</td>\n    </tr>\n    <tr>\n      <th>1</th>\n      <td>Asics</td>\n      <td>Asics x Andersson Bell Gel-Sonoma 15-50</td>\n      <td>[olive oil, dark brown]</td>\n      <td>asics-x-andersson-bell-gelsonoma-1550</td>\n      <td>asics</td>\n      <td>EUR</td>\n      <td>155.51</td>\n      <td>5-mens-shoes</td>\n      <td>https://www.footshop.eu/en/mens-shoes/264451-a...</td>\n      <td>data/raw/images/footshop/5-mens-shoes/asics/as...</td>\n      <td>footshop</td>\n      <td>Asics x Andersson Bell Gel-Sonoma 15-50</td>\n      <td>bell gel sonoma 15 50</td>\n    </tr>\n    <tr>\n      <th>2</th>\n      <td>adidas Originals</td>\n      <td>adidas Crazy Iiinfinity</td>\n      <td>[silver metallic, core black, cream white]</td>\n      <td>adidas-crazy-iiinfinity</td>\n      <td>adidas-originals</td>\n      <td>EUR</td>\n      <td>160.00</td>\n      <td>5-mens-shoes</td>\n      <td>https://www.footshop.eu/en/mens-shoes/291355-a...</td>\n      <td>data/raw/images/footshop/5-mens-shoes/adidas-o...</td>\n      <td>footshop</td>\n      <td>adidas Crazy Iiinfinity</td>\n      <td>crazy iiinfinity</td>\n    </tr>\n    <tr>\n      <th>3</th>\n      <td>adidas Originals</td>\n      <td>adidas NMD S1</td>\n      <td>[core black, core black, alter navy]</td>\n      <td>adidas-nmd-s1</td>\n      <td>adidas-originals</td>\n      <td>EUR</td>\n      <td>135.00</td>\n      <td>5-mens-shoes</td>\n      <td>https://www.footshop.eu/en/mens-shoes/232945-a...</td>\n      <td>data/raw/images/footshop/5-mens-shoes/adidas-o...</td>\n      <td>footshop</td>\n      <td>adidas NMD S1</td>\n      <td>nmd s1</td>\n    </tr>\n    <tr>\n      <th>4</th>\n      <td>adidas Originals</td>\n      <td>adidas x Wales Bonner Pony Tonal Samba</td>\n      <td>[core black, core white, core white]</td>\n      <td>adidas-x-wales-bonner-pony-tonal-samba</td>\n      <td>adidas-originals</td>\n      <td>EUR</td>\n      <td>200.00</td>\n      <td>5-mens-shoes</td>\n      <td>https://www.footshop.eu/en/mens-shoes/291166-a...</td>\n      <td>data/raw/images/footshop/5-mens-shoes/adidas-o...</td>\n      <td>footshop</td>\n      <td>adidas x Wales Bonner Pony Tonal Samba</td>\n      <td>pony tonal samba</td>\n    </tr>\n    <tr>\n      <th>...</th>\n      <td>...</td>\n      <td>...</td>\n      <td>...</td>\n      <td>...</td>\n      <td>...</td>\n      <td>...</td>\n      <td>...</td>\n      <td>...</td>\n      <td>...</td>\n      <td>...</td>\n      <td>...</td>\n      <td>...</td>\n      <td>...</td>\n    </tr>\n    <tr>\n      <th>6418</th>\n      <td>New Balance</td>\n      <td>New Balance CT302</td>\n      <td>[all black]</td>\n      <td>new-balance-ct302</td>\n      <td>new-balance</td>\n      <td>EUR</td>\n      <td>114.95</td>\n      <td>55-kids-sneakers-and-shoes</td>\n      <td>https://www.footshop.eu/en/kids-sneakers-and-s...</td>\n      <td>data/raw/images/footshop/55-kids-sneakers-and-...</td>\n      <td>footshop</td>\n      <td>New Balance CT302</td>\n      <td>ct302</td>\n    </tr>\n    <tr>\n      <th>6419</th>\n      <td>Nike</td>\n      <td>Nike Court Borough Mid 2</td>\n      <td>[university red, black-white]</td>\n      <td>nike-court-borough-mid-2</td>\n      <td>nike</td>\n      <td>EUR</td>\n      <td>74.95</td>\n      <td>55-kids-sneakers-and-shoes</td>\n      <td>https://www.footshop.eu/en/kids-sneakers-and-s...</td>\n      <td>data/raw/images/footshop/55-kids-sneakers-and-...</td>\n      <td>footshop</td>\n      <td>Nike Court Borough Mid 2</td>\n      <td>court borough mid 2</td>\n    </tr>\n    <tr>\n      <th>6420</th>\n      <td>Vans</td>\n      <td>Vans Old Skool Kids</td>\n      <td>[black, black]</td>\n      <td>vans-old-skool-kids</td>\n      <td>vans</td>\n      <td>EUR</td>\n      <td>59.95</td>\n      <td>55-kids-sneakers-and-shoes</td>\n      <td>https://www.footshop.eu/en/kids-sneakers-and-s...</td>\n      <td>data/raw/images/footshop/55-kids-sneakers-and-...</td>\n      <td>footshop</td>\n      <td>Vans Old Skool Kids</td>\n      <td>old skool kids</td>\n    </tr>\n    <tr>\n      <th>6421</th>\n      <td>Vans</td>\n      <td>Vans Kids Old Skool</td>\n      <td>[navy, true white]</td>\n      <td>vans-kids-old-skool</td>\n      <td>vans</td>\n      <td>EUR</td>\n      <td>59.95</td>\n      <td>55-kids-sneakers-and-shoes</td>\n      <td>https://www.footshop.eu/en/kids-sneakers-and-s...</td>\n      <td>data/raw/images/footshop/55-kids-sneakers-and-...</td>\n      <td>footshop</td>\n      <td>Vans Kids Old Skool</td>\n      <td>kids old skool</td>\n    </tr>\n    <tr>\n      <th>6422</th>\n      <td>Vans</td>\n      <td>Vans Old Skool</td>\n      <td>[black, true white]</td>\n      <td>vans-old-skool</td>\n      <td>vans</td>\n      <td>EUR</td>\n      <td>59.95</td>\n      <td>55-kids-sneakers-and-shoes</td>\n      <td>https://www.footshop.eu/en/kids-sneakers-and-s...</td>\n      <td>data/raw/images/footshop/55-kids-sneakers-and-...</td>\n      <td>footshop</td>\n      <td>Vans Old Skool</td>\n      <td>old skool</td>\n    </tr>\n  </tbody>\n</table>\n<p>4852 rows × 13 columns</p>\n</div>"
     },
     "execution_count": 4,
     "metadata": {},
     "output_type": "execute_result"
    }
   ],
   "source": [
    "datasets[\"footshop\"]"
   ],
   "metadata": {
    "collapsed": false,
    "ExecuteTime": {
     "end_time": "2023-11-18T20:02:44.491481976Z",
     "start_time": "2023-11-18T20:02:44.449424059Z"
    }
   }
  },
  {
   "cell_type": "code",
   "execution_count": 5,
   "outputs": [],
   "source": [
    "# apply deletion of colors"
   ],
   "metadata": {
    "collapsed": false,
    "ExecuteTime": {
     "end_time": "2023-11-18T20:02:45.065356626Z",
     "start_time": "2023-11-18T20:02:44.996729225Z"
    }
   }
  },
  {
   "cell_type": "code",
   "execution_count": 6,
   "outputs": [
    {
     "name": "stdout",
     "output_type": "stream",
     "text": [
      "(1090, 13)\n",
      "(999, 14)\n",
      "(4852, 13)\n",
      "(4900, 10)\n"
     ]
    }
   ],
   "source": [
    "for key, value in datasets.items():\n",
    "    print(value.shape)"
   ],
   "metadata": {
    "collapsed": false,
    "ExecuteTime": {
     "end_time": "2023-11-18T20:02:45.404158805Z",
     "start_time": "2023-11-18T20:02:45.397188182Z"
    }
   }
  },
  {
   "cell_type": "code",
   "execution_count": 7,
   "metadata": {
    "ExecuteTime": {
     "end_time": "2023-11-18T20:02:45.791211009Z",
     "start_time": "2023-11-18T20:02:45.779481138Z"
    }
   },
   "outputs": [
    {
     "data": {
      "text/plain": "{'brand',\n 'color',\n 'images_path',\n 'price',\n 'pricecurrency',\n 'title',\n 'title_merge',\n 'title_without_color',\n 'url',\n 'website'}"
     },
     "execution_count": 7,
     "metadata": {},
     "output_type": "execute_result"
    }
   ],
   "source": [
    "# same columns\n",
    "same_columns = set.intersection(*[set(datasets[key].columns) for key in datasets])\n",
    "same_columns\n",
    "# no colors and collection-name"
   ]
  },
  {
   "cell_type": "code",
   "execution_count": 8,
   "outputs": [
    {
     "data": {
      "text/plain": "                  brand                                              title  \\\n0      Adidas Originals                      CAMPUS 00S 'CLOUD WHITE/BLUE'   \n1              Converse  WMN'S RUN STAR MOTION CX PLATFORM TORTOISE 'KH...   \n2                  Nike  KEVIN DURANT KD16 EP 'BLACK/BLACK-DK SMOKE GRE...   \n3                  Puma            STAPLE B SUEDE 'DARK CHOCOLATE-RHUBARB'   \n4                  Nike  DUNK LOW RETRO PREMIUM 'CACAO WOW/COMET BLUE-M...   \n...                 ...                                                ...   \n11836            adidas       Adidas Ultraboost 1.0 Shoes 'Valentines Day'   \n11837            adidas  Adidas Originals Ozweego Shoes 'Magic Beige Cl...   \n11838            adidas  Adidas Originals Adilette Slides 'Off White Br...   \n11839            adidas  Adidas Originals Forum Low Shoes 'White Grey Red'   \n11840            adidas      Adidas Grand Court 2.0 Sneakers 'White Black'   \n\n         price                                               slug  \\\n0      11999.0                         campus-00s-cloud-whiteblue   \n1       9999.0  wmns-run-star-motion-cx-platform-tortoise-khak...   \n2      13995.0  kevin-durant-kd16-ep-blackblackdk-smoke-greyco...   \n3       9999.0               staple-b-suede-dark-chocolaterhubarb   \n4       9695.0  dunk-low-retro-premium-cacao-wowcomet-bluemars...   \n...        ...                                                ...   \n11836    123.0                                                NaN   \n11837    102.0                                                NaN   \n11838     56.0                                                NaN   \n11839     84.0                                                NaN   \n11840     67.0                                                NaN   \n\n             brand_slug collection_name  \\\n0      adidas-originals    men-sneakers   \n1              converse    men-sneakers   \n2                  nike    men-sneakers   \n3                  puma    men-sneakers   \n4                  nike    men-sneakers   \n...                 ...             ...   \n11836               NaN             NaN   \n11837               NaN             NaN   \n11838               NaN             NaN   \n11839               NaN             NaN   \n11840               NaN             NaN   \n\n                                                     url  \\\n0      https://www.superkicks.in/products/campus-00s-...   \n1      https://www.superkicks.in/products/wmns-run-st...   \n2      https://www.superkicks.in/products/kevin-duran...   \n3      https://www.superkicks.in/products/staple-b-su...   \n4      https://www.superkicks.in/products/dunk-low-re...   \n...                                                  ...   \n11836  https://www.kickscrew.com/products/adidas-ultr...   \n11837  https://www.kickscrew.com/products/adidas-orig...   \n11838  https://www.kickscrew.com/products/adidas-orig...   \n11839  https://www.kickscrew.com/products/adidas-orig...   \n11840  https://www.kickscrew.com/products/adidas-gran...   \n\n                                             images_path     website  \\\n0      data/raw_new/images/superkicks/men-sneakers/ad...  superkicks   \n1      data/raw_new/images/superkicks/men-sneakers/co...  superkicks   \n2      data/raw_new/images/superkicks/men-sneakers/ni...  superkicks   \n3      data/raw_new/images/superkicks/men-sneakers/pu...  superkicks   \n4      data/raw_new/images/superkicks/men-sneakers/ni...  superkicks   \n...                                                  ...         ...   \n11836  [data/raw/images/kickscrew/adidas/adidas-ultra...   kickscrew   \n11837  [data/raw/images/kickscrew/adidas/adidas-origi...   kickscrew   \n11838  [data/raw/images/kickscrew/adidas/adidas-origi...   kickscrew   \n11839  [data/raw/images/kickscrew/adidas/adidas-origi...   kickscrew   \n11840  [nan, data/raw/images/kickscrew/adidas/adidas-...   kickscrew   \n\n      pricecurrency                         title_without_color  \\\n0               INR                                  CAMPUS 00S   \n1               INR  WMN'S RUN STAR MOTION CX PLATFORM TORTOISE   \n2               INR                        KEVIN DURANT KD16 EP   \n3               INR                              STAPLE B SUEDE   \n4               INR                      DUNK LOW RETRO PREMIUM   \n...             ...                                         ...   \n11836           USD                 Adidas Ultraboost 1.0 Shoes   \n11837           USD              Adidas Originals Ozweego Shoes   \n11838           USD            Adidas Originals Adilette Slides   \n11839           USD            Adidas Originals Forum Low Shoes   \n11840           USD             Adidas Grand Court 2.0 Sneakers   \n\n                                         color  \\\n0                             CLOUD WHITE/BLUE   \n1                              KHAKI/OFF WHITE   \n2       BLACK/BLACK-DK SMOKE GREY-COCONUT MILK   \n3                       DARK CHOCOLATE-RHUBARB   \n4      CACAO WOW/COMET BLUE-MARS STONE-PHANTOM   \n...                                        ...   \n11836                           Valentines Day   \n11837                  Magic Beige Clay Strata   \n11838                  Off White Bright Orange   \n11839                           White Grey Red   \n11840                              White Black   \n\n                                     title_merge description_color  \n0                                     campus 00s               NaN  \n1      wmns run star motion cx platform tortoise               NaN  \n2                           kevin durant kd16 ep               NaN  \n3                                 staple b suede               NaN  \n4                         dunk low retro premium               NaN  \n...                                          ...               ...  \n11836                        ultraboost 10 shoes               NaN  \n11837                              ozweego shoes               NaN  \n11838                            adilette slides               NaN  \n11839                            forum low shoes               NaN  \n11840                    grand court 20 sneakers               NaN  \n\n[11841 rows x 14 columns]",
      "text/html": "<div>\n<style scoped>\n    .dataframe tbody tr th:only-of-type {\n        vertical-align: middle;\n    }\n\n    .dataframe tbody tr th {\n        vertical-align: top;\n    }\n\n    .dataframe thead th {\n        text-align: right;\n    }\n</style>\n<table border=\"1\" class=\"dataframe\">\n  <thead>\n    <tr style=\"text-align: right;\">\n      <th></th>\n      <th>brand</th>\n      <th>title</th>\n      <th>price</th>\n      <th>slug</th>\n      <th>brand_slug</th>\n      <th>collection_name</th>\n      <th>url</th>\n      <th>images_path</th>\n      <th>website</th>\n      <th>pricecurrency</th>\n      <th>title_without_color</th>\n      <th>color</th>\n      <th>title_merge</th>\n      <th>description_color</th>\n    </tr>\n  </thead>\n  <tbody>\n    <tr>\n      <th>0</th>\n      <td>Adidas Originals</td>\n      <td>CAMPUS 00S 'CLOUD WHITE/BLUE'</td>\n      <td>11999.0</td>\n      <td>campus-00s-cloud-whiteblue</td>\n      <td>adidas-originals</td>\n      <td>men-sneakers</td>\n      <td>https://www.superkicks.in/products/campus-00s-...</td>\n      <td>data/raw_new/images/superkicks/men-sneakers/ad...</td>\n      <td>superkicks</td>\n      <td>INR</td>\n      <td>CAMPUS 00S</td>\n      <td>CLOUD WHITE/BLUE</td>\n      <td>campus 00s</td>\n      <td>NaN</td>\n    </tr>\n    <tr>\n      <th>1</th>\n      <td>Converse</td>\n      <td>WMN'S RUN STAR MOTION CX PLATFORM TORTOISE 'KH...</td>\n      <td>9999.0</td>\n      <td>wmns-run-star-motion-cx-platform-tortoise-khak...</td>\n      <td>converse</td>\n      <td>men-sneakers</td>\n      <td>https://www.superkicks.in/products/wmns-run-st...</td>\n      <td>data/raw_new/images/superkicks/men-sneakers/co...</td>\n      <td>superkicks</td>\n      <td>INR</td>\n      <td>WMN'S RUN STAR MOTION CX PLATFORM TORTOISE</td>\n      <td>KHAKI/OFF WHITE</td>\n      <td>wmns run star motion cx platform tortoise</td>\n      <td>NaN</td>\n    </tr>\n    <tr>\n      <th>2</th>\n      <td>Nike</td>\n      <td>KEVIN DURANT KD16 EP 'BLACK/BLACK-DK SMOKE GRE...</td>\n      <td>13995.0</td>\n      <td>kevin-durant-kd16-ep-blackblackdk-smoke-greyco...</td>\n      <td>nike</td>\n      <td>men-sneakers</td>\n      <td>https://www.superkicks.in/products/kevin-duran...</td>\n      <td>data/raw_new/images/superkicks/men-sneakers/ni...</td>\n      <td>superkicks</td>\n      <td>INR</td>\n      <td>KEVIN DURANT KD16 EP</td>\n      <td>BLACK/BLACK-DK SMOKE GREY-COCONUT MILK</td>\n      <td>kevin durant kd16 ep</td>\n      <td>NaN</td>\n    </tr>\n    <tr>\n      <th>3</th>\n      <td>Puma</td>\n      <td>STAPLE B SUEDE 'DARK CHOCOLATE-RHUBARB'</td>\n      <td>9999.0</td>\n      <td>staple-b-suede-dark-chocolaterhubarb</td>\n      <td>puma</td>\n      <td>men-sneakers</td>\n      <td>https://www.superkicks.in/products/staple-b-su...</td>\n      <td>data/raw_new/images/superkicks/men-sneakers/pu...</td>\n      <td>superkicks</td>\n      <td>INR</td>\n      <td>STAPLE B SUEDE</td>\n      <td>DARK CHOCOLATE-RHUBARB</td>\n      <td>staple b suede</td>\n      <td>NaN</td>\n    </tr>\n    <tr>\n      <th>4</th>\n      <td>Nike</td>\n      <td>DUNK LOW RETRO PREMIUM 'CACAO WOW/COMET BLUE-M...</td>\n      <td>9695.0</td>\n      <td>dunk-low-retro-premium-cacao-wowcomet-bluemars...</td>\n      <td>nike</td>\n      <td>men-sneakers</td>\n      <td>https://www.superkicks.in/products/dunk-low-re...</td>\n      <td>data/raw_new/images/superkicks/men-sneakers/ni...</td>\n      <td>superkicks</td>\n      <td>INR</td>\n      <td>DUNK LOW RETRO PREMIUM</td>\n      <td>CACAO WOW/COMET BLUE-MARS STONE-PHANTOM</td>\n      <td>dunk low retro premium</td>\n      <td>NaN</td>\n    </tr>\n    <tr>\n      <th>...</th>\n      <td>...</td>\n      <td>...</td>\n      <td>...</td>\n      <td>...</td>\n      <td>...</td>\n      <td>...</td>\n      <td>...</td>\n      <td>...</td>\n      <td>...</td>\n      <td>...</td>\n      <td>...</td>\n      <td>...</td>\n      <td>...</td>\n      <td>...</td>\n    </tr>\n    <tr>\n      <th>11836</th>\n      <td>adidas</td>\n      <td>Adidas Ultraboost 1.0 Shoes 'Valentines Day'</td>\n      <td>123.0</td>\n      <td>NaN</td>\n      <td>NaN</td>\n      <td>NaN</td>\n      <td>https://www.kickscrew.com/products/adidas-ultr...</td>\n      <td>[data/raw/images/kickscrew/adidas/adidas-ultra...</td>\n      <td>kickscrew</td>\n      <td>USD</td>\n      <td>Adidas Ultraboost 1.0 Shoes</td>\n      <td>Valentines Day</td>\n      <td>ultraboost 10 shoes</td>\n      <td>NaN</td>\n    </tr>\n    <tr>\n      <th>11837</th>\n      <td>adidas</td>\n      <td>Adidas Originals Ozweego Shoes 'Magic Beige Cl...</td>\n      <td>102.0</td>\n      <td>NaN</td>\n      <td>NaN</td>\n      <td>NaN</td>\n      <td>https://www.kickscrew.com/products/adidas-orig...</td>\n      <td>[data/raw/images/kickscrew/adidas/adidas-origi...</td>\n      <td>kickscrew</td>\n      <td>USD</td>\n      <td>Adidas Originals Ozweego Shoes</td>\n      <td>Magic Beige Clay Strata</td>\n      <td>ozweego shoes</td>\n      <td>NaN</td>\n    </tr>\n    <tr>\n      <th>11838</th>\n      <td>adidas</td>\n      <td>Adidas Originals Adilette Slides 'Off White Br...</td>\n      <td>56.0</td>\n      <td>NaN</td>\n      <td>NaN</td>\n      <td>NaN</td>\n      <td>https://www.kickscrew.com/products/adidas-orig...</td>\n      <td>[data/raw/images/kickscrew/adidas/adidas-origi...</td>\n      <td>kickscrew</td>\n      <td>USD</td>\n      <td>Adidas Originals Adilette Slides</td>\n      <td>Off White Bright Orange</td>\n      <td>adilette slides</td>\n      <td>NaN</td>\n    </tr>\n    <tr>\n      <th>11839</th>\n      <td>adidas</td>\n      <td>Adidas Originals Forum Low Shoes 'White Grey Red'</td>\n      <td>84.0</td>\n      <td>NaN</td>\n      <td>NaN</td>\n      <td>NaN</td>\n      <td>https://www.kickscrew.com/products/adidas-orig...</td>\n      <td>[data/raw/images/kickscrew/adidas/adidas-origi...</td>\n      <td>kickscrew</td>\n      <td>USD</td>\n      <td>Adidas Originals Forum Low Shoes</td>\n      <td>White Grey Red</td>\n      <td>forum low shoes</td>\n      <td>NaN</td>\n    </tr>\n    <tr>\n      <th>11840</th>\n      <td>adidas</td>\n      <td>Adidas Grand Court 2.0 Sneakers 'White Black'</td>\n      <td>67.0</td>\n      <td>NaN</td>\n      <td>NaN</td>\n      <td>NaN</td>\n      <td>https://www.kickscrew.com/products/adidas-gran...</td>\n      <td>[nan, data/raw/images/kickscrew/adidas/adidas-...</td>\n      <td>kickscrew</td>\n      <td>USD</td>\n      <td>Adidas Grand Court 2.0 Sneakers</td>\n      <td>White Black</td>\n      <td>grand court 20 sneakers</td>\n      <td>NaN</td>\n    </tr>\n  </tbody>\n</table>\n<p>11841 rows × 14 columns</p>\n</div>"
     },
     "execution_count": 8,
     "metadata": {},
     "output_type": "execute_result"
    }
   ],
   "source": [
    "merged_datasets = pd.concat(list(datasets.values()), ignore_index=True)\n",
    "merged_datasets"
   ],
   "metadata": {
    "collapsed": false,
    "ExecuteTime": {
     "end_time": "2023-11-18T20:02:46.551527399Z",
     "start_time": "2023-11-18T20:02:46.486585091Z"
    }
   }
  },
  {
   "cell_type": "code",
   "execution_count": 9,
   "outputs": [
    {
     "data": {
      "text/plain": "             title_merge                                 brand  \\\n0                 01 low                        [Autry, Autry]   \n1               01 low m                 [Autry, Autry, Autry]   \n2             01 low man                               [Autry]   \n3               01 low w          [Autry, Autry, Autry, Autry]   \n4             01 low wom                               [Autry]   \n...                  ...                                   ...   \n4937             zx 8000  [adidas Originals, adidas Originals]   \n4938  zx 8000 minimalist                    [adidas Originals]   \n4939           zx 9020 w                    [adidas Originals]   \n4940        zx flux slip                              [adidas]   \n4941         zx w wavian                    [adidas Originals]   \n\n                                        collection_name  \\\n0                        [category-women, category-men]   \n1            [category-men, category-men, category-men]   \n2                                        [category-men]   \n3     [category-women, category-women, category-wome...   \n4                                      [category-women]   \n...                                                 ...   \n4937                       [5-mens-shoes, 5-mens-shoes]   \n4938                                     [5-mens-shoes]   \n4939                                   [6-womens-shoes]   \n4940                                              [nan]   \n4941                                   [6-womens-shoes]   \n\n                                                  color  \\\n0                                      [White, Mustard]   \n1                           [BLACK, BI VIOLET, BI EDEN]   \n2                                       [LEAT/LEAT RED]   \n3              [BI POW, WHT/CORAL, SALTWATER, BI IVORY]   \n4                                          [WHT/PETROL]   \n...                                                 ...   \n4937  [[sky tint, core white], [ice mint, trace pink...   \n4938                 [[ftw white, grey two, ftw white]]   \n4939            [[cloud white, core white, glory mint]]   \n4940                                 [Solar Yellow Red]   \n4941                     [[savanna, sand, cloud white]]   \n\n                                            images_path  \\\n0     [data/raw_new/images/sneakerbaas/category-wome...   \n1     [data/raw_new/images/sneakerbaas/category-men/...   \n2     [data/raw_new/images/sneakerbaas/category-men/...   \n3     [data/raw_new/images/sneakerbaas/category-wome...   \n4     [data/raw_new/images/sneakerbaas/category-wome...   \n...                                                 ...   \n4937  [data/raw/images/footshop/5-mens-shoes/adidas-...   \n4938  [data/raw/images/footshop/5-mens-shoes/adidas-...   \n4939  [data/raw/images/footshop/6-womens-shoes/adida...   \n4940  [[data/raw/images/kickscrew/adidas/adidas-orig...   \n4941  [data/raw/images/footshop/6-womens-shoes/adida...   \n\n                                 price         pricecurrency  \\\n0                     [129.99, 149.99]            [EUR, EUR]   \n1             [149.99, 149.99, 149.99]       [EUR, EUR, EUR]   \n2                             [149.99]                 [EUR]   \n3     [149.99, 149.99, 149.99, 149.99]  [EUR, EUR, EUR, EUR]   \n4                             [149.99]                 [EUR]   \n...                                ...                   ...   \n4937                  [169.96, 149.97]            [EUR, EUR]   \n4938                            [82.5]                 [EUR]   \n4939                           [83.26]                 [EUR]   \n4940                           [212.0]                 [USD]   \n4941                           [108.0]                 [EUR]   \n\n                                                    url  \\\n0     [https://www.sneakerbaas.com/collections/sneak...   \n1     [https://www.sneakerbaas.com/collections/sneak...   \n2     [https://www.sneakerbaas.com/collections/sneak...   \n3     [https://www.sneakerbaas.com/collections/sneak...   \n4     [https://www.sneakerbaas.com/collections/sneak...   \n...                                                 ...   \n4937  [https://www.footshop.eu/en/mens-shoes/257950-...   \n4938  [https://www.footshop.eu/en/mens-shoes/102730-...   \n4939  [https://www.footshop.eu/en/womens-shoes/25753...   \n4940  [https://www.kickscrew.com/products/adidas-ori...   \n4941  [https://www.footshop.eu/en/womens-shoes/22524...   \n\n                                                website  \n0                            [sneakerbaas, sneakerbaas]  \n1               [sneakerbaas, sneakerbaas, sneakerbaas]  \n2                                         [sneakerbaas]  \n3     [sneakerbaas, sneakerbaas, sneakerbaas, sneake...  \n4                                         [sneakerbaas]  \n...                                                 ...  \n4937                               [footshop, footshop]  \n4938                                         [footshop]  \n4939                                         [footshop]  \n4940                                        [kickscrew]  \n4941                                         [footshop]  \n\n[4942 rows x 9 columns]",
      "text/html": "<div>\n<style scoped>\n    .dataframe tbody tr th:only-of-type {\n        vertical-align: middle;\n    }\n\n    .dataframe tbody tr th {\n        vertical-align: top;\n    }\n\n    .dataframe thead th {\n        text-align: right;\n    }\n</style>\n<table border=\"1\" class=\"dataframe\">\n  <thead>\n    <tr style=\"text-align: right;\">\n      <th></th>\n      <th>title_merge</th>\n      <th>brand</th>\n      <th>collection_name</th>\n      <th>color</th>\n      <th>images_path</th>\n      <th>price</th>\n      <th>pricecurrency</th>\n      <th>url</th>\n      <th>website</th>\n    </tr>\n  </thead>\n  <tbody>\n    <tr>\n      <th>0</th>\n      <td>01 low</td>\n      <td>[Autry, Autry]</td>\n      <td>[category-women, category-men]</td>\n      <td>[White, Mustard]</td>\n      <td>[data/raw_new/images/sneakerbaas/category-wome...</td>\n      <td>[129.99, 149.99]</td>\n      <td>[EUR, EUR]</td>\n      <td>[https://www.sneakerbaas.com/collections/sneak...</td>\n      <td>[sneakerbaas, sneakerbaas]</td>\n    </tr>\n    <tr>\n      <th>1</th>\n      <td>01 low m</td>\n      <td>[Autry, Autry, Autry]</td>\n      <td>[category-men, category-men, category-men]</td>\n      <td>[BLACK, BI VIOLET, BI EDEN]</td>\n      <td>[data/raw_new/images/sneakerbaas/category-men/...</td>\n      <td>[149.99, 149.99, 149.99]</td>\n      <td>[EUR, EUR, EUR]</td>\n      <td>[https://www.sneakerbaas.com/collections/sneak...</td>\n      <td>[sneakerbaas, sneakerbaas, sneakerbaas]</td>\n    </tr>\n    <tr>\n      <th>2</th>\n      <td>01 low man</td>\n      <td>[Autry]</td>\n      <td>[category-men]</td>\n      <td>[LEAT/LEAT RED]</td>\n      <td>[data/raw_new/images/sneakerbaas/category-men/...</td>\n      <td>[149.99]</td>\n      <td>[EUR]</td>\n      <td>[https://www.sneakerbaas.com/collections/sneak...</td>\n      <td>[sneakerbaas]</td>\n    </tr>\n    <tr>\n      <th>3</th>\n      <td>01 low w</td>\n      <td>[Autry, Autry, Autry, Autry]</td>\n      <td>[category-women, category-women, category-wome...</td>\n      <td>[BI POW, WHT/CORAL, SALTWATER, BI IVORY]</td>\n      <td>[data/raw_new/images/sneakerbaas/category-wome...</td>\n      <td>[149.99, 149.99, 149.99, 149.99]</td>\n      <td>[EUR, EUR, EUR, EUR]</td>\n      <td>[https://www.sneakerbaas.com/collections/sneak...</td>\n      <td>[sneakerbaas, sneakerbaas, sneakerbaas, sneake...</td>\n    </tr>\n    <tr>\n      <th>4</th>\n      <td>01 low wom</td>\n      <td>[Autry]</td>\n      <td>[category-women]</td>\n      <td>[WHT/PETROL]</td>\n      <td>[data/raw_new/images/sneakerbaas/category-wome...</td>\n      <td>[149.99]</td>\n      <td>[EUR]</td>\n      <td>[https://www.sneakerbaas.com/collections/sneak...</td>\n      <td>[sneakerbaas]</td>\n    </tr>\n    <tr>\n      <th>...</th>\n      <td>...</td>\n      <td>...</td>\n      <td>...</td>\n      <td>...</td>\n      <td>...</td>\n      <td>...</td>\n      <td>...</td>\n      <td>...</td>\n      <td>...</td>\n    </tr>\n    <tr>\n      <th>4937</th>\n      <td>zx 8000</td>\n      <td>[adidas Originals, adidas Originals]</td>\n      <td>[5-mens-shoes, 5-mens-shoes]</td>\n      <td>[[sky tint, core white], [ice mint, trace pink...</td>\n      <td>[data/raw/images/footshop/5-mens-shoes/adidas-...</td>\n      <td>[169.96, 149.97]</td>\n      <td>[EUR, EUR]</td>\n      <td>[https://www.footshop.eu/en/mens-shoes/257950-...</td>\n      <td>[footshop, footshop]</td>\n    </tr>\n    <tr>\n      <th>4938</th>\n      <td>zx 8000 minimalist</td>\n      <td>[adidas Originals]</td>\n      <td>[5-mens-shoes]</td>\n      <td>[[ftw white, grey two, ftw white]]</td>\n      <td>[data/raw/images/footshop/5-mens-shoes/adidas-...</td>\n      <td>[82.5]</td>\n      <td>[EUR]</td>\n      <td>[https://www.footshop.eu/en/mens-shoes/102730-...</td>\n      <td>[footshop]</td>\n    </tr>\n    <tr>\n      <th>4939</th>\n      <td>zx 9020 w</td>\n      <td>[adidas Originals]</td>\n      <td>[6-womens-shoes]</td>\n      <td>[[cloud white, core white, glory mint]]</td>\n      <td>[data/raw/images/footshop/6-womens-shoes/adida...</td>\n      <td>[83.26]</td>\n      <td>[EUR]</td>\n      <td>[https://www.footshop.eu/en/womens-shoes/25753...</td>\n      <td>[footshop]</td>\n    </tr>\n    <tr>\n      <th>4940</th>\n      <td>zx flux slip</td>\n      <td>[adidas]</td>\n      <td>[nan]</td>\n      <td>[Solar Yellow Red]</td>\n      <td>[[data/raw/images/kickscrew/adidas/adidas-orig...</td>\n      <td>[212.0]</td>\n      <td>[USD]</td>\n      <td>[https://www.kickscrew.com/products/adidas-ori...</td>\n      <td>[kickscrew]</td>\n    </tr>\n    <tr>\n      <th>4941</th>\n      <td>zx w wavian</td>\n      <td>[adidas Originals]</td>\n      <td>[6-womens-shoes]</td>\n      <td>[[savanna, sand, cloud white]]</td>\n      <td>[data/raw/images/footshop/6-womens-shoes/adida...</td>\n      <td>[108.0]</td>\n      <td>[EUR]</td>\n      <td>[https://www.footshop.eu/en/womens-shoes/22524...</td>\n      <td>[footshop]</td>\n    </tr>\n  </tbody>\n</table>\n<p>4942 rows × 9 columns</p>\n</div>"
     },
     "execution_count": 9,
     "metadata": {},
     "output_type": "execute_result"
    }
   ],
   "source": [
    "# group by по названиям, если все названия будут одинаковые, то все дублирующие кроссы сложатся в одно.\n",
    "test = merged_datasets.groupby(\"title_merge\").agg({\n",
    "    \"brand\": list,\n",
    "    \"collection_name\": list,\n",
    "    \"color\": list,\n",
    "    \"images_path\": list,\n",
    "    \"price\": list,\n",
    "    \"pricecurrency\": list,\n",
    "    \"url\": list,\n",
    "    \"website\": list\n",
    "}).reset_index().sort_values(by=\"title_merge\")\n",
    "test"
   ],
   "metadata": {
    "collapsed": false,
    "ExecuteTime": {
     "end_time": "2023-11-18T20:02:50.174499788Z",
     "start_time": "2023-11-18T20:02:49.102294879Z"
    }
   }
  },
  {
   "cell_type": "code",
   "execution_count": 10,
   "outputs": [
    {
     "name": "stdout",
     "output_type": "stream",
     "text": [
      "(11841, 14)\n",
      "(4942, 9)\n"
     ]
    }
   ],
   "source": [
    "# sizes\n",
    "print(merged_datasets.shape)\n",
    "print(test.shape)"
   ],
   "metadata": {
    "collapsed": false,
    "ExecuteTime": {
     "end_time": "2023-11-18T20:02:53.376775728Z",
     "start_time": "2023-11-18T20:02:53.331238820Z"
    }
   }
  },
  {
   "cell_type": "code",
   "execution_count": 11,
   "outputs": [],
   "source": [
    "test.to_csv(\"data/raw/metadata/dataset.csv\", index=False)"
   ],
   "metadata": {
    "collapsed": false,
    "ExecuteTime": {
     "end_time": "2023-11-18T19:54:18.032420767Z",
     "start_time": "2023-11-18T19:54:17.994753177Z"
    }
   }
  },
  {
   "cell_type": "code",
   "execution_count": 24,
   "outputs": [
    {
     "data": {
      "text/plain": "\"Diadora|Diesel|Adidas|Palm|Angels|Crocs|Under|Armour|Etonic|Alexander|McQueen|Fendi|Onitsuka|Tiger|CASIO|Clarks|Helly|Hansen|adidas|originals|Skechers|GUCCI|McQ|HOKA®|New|Balance|Hi\\\\-Tec|UGG|361|Degrees|Salomon|PUMA|Sportstyle|Vans|Vault|Salomon|Advanced|HERON|PRESTON|RIPNDIP|Y\\\\-3|Mitchell|\\\\&|Ness|Saucony|Originals|On|Converse|Puma|Sportstyle|adidas|Toms|HOKA|ONE|ONE|Fjällräven|adidas|Originals|Levi's®|Stepney|Workers|Club|Tommy|Hilfiger|Suicoke|Nike|Reebok|Classics|SALOMON|Dr\\\\.|Martens|Timberland|Fear|of|God|Essentials|Ralph|Lauren|Karhu|KARHU|Asics|MISBHV|Balenciaga|Mizuno|MARKET|DIOR|Rigorer|FILA|Comme|des|Garçons|PLAY|ETONIC|PLEASURES|Reebok|Warrior|RAF|SIMONS|Adidas|Originals|LACOSTE|Saucony|Sergio|Tacchini|nike|Nike|Skateboarding|Filling|Pieces|Ellesse|Maison|MIHARA|YASUHIRO|Fila|Camper|Kangaroos|On|Running|Hi\\\\-tec|Moon|Boot|Clarks|Originals|Vans|Jordan|adidas|Performance|Columbia|VANS|KangaROOS|Merrell|Just|Don|A\\\\-COLD\\\\-WALL\\\\*|ANTA|PRADA|Ambush|Birkenstock|Represent|Footshop|Air|Jordan|Puma|The|North|Face|Veja|OFF\\\\-WHITE|THE|NORTH|FACE|Autry|Li\\\\-Ning|New|balance|Rick|Owens|DRKSHDW\""
     },
     "execution_count": 24,
     "metadata": {},
     "output_type": "execute_result"
    }
   ],
   "source": [
    "# import re\n",
    "# \n",
    "# # delete any brand from title:\n",
    "# all_brands = set(merged_datasets[\"brand\"].unique())\n",
    "# all_brands = [re.escape(brand) for stripped_brand in all_brands for brand in stripped_brand.split(\" \")]\n",
    "# all_brands = \"|\".join(all_brands)\n",
    "# all_brands"
   ],
   "metadata": {
    "collapsed": false,
    "ExecuteTime": {
     "end_time": "2023-11-17T21:38:34.918267Z",
     "start_time": "2023-11-17T21:38:34.906676Z"
    }
   }
  },
  {
   "cell_type": "code",
   "execution_count": 29,
   "outputs": [
    {
     "data": {
      "text/plain": "title_diff\n0     3174\n4     1075\n6      647\n7      116\n15      84\n2       79\n3       34\n9        9\n8        7\n10       2\n18       1\n12       1\nName: count, dtype: int64"
     },
     "execution_count": 29,
     "metadata": {},
     "output_type": "execute_result"
    }
   ],
   "source": [
    "# # delete any brand name from title:\n",
    "# test[\"title_no_brand\"] = test[\"title_merge\"].str.replace(all_brands, \"\", regex=True)\n",
    "# # diff between title and title without brand\n",
    "# test[\"title_diff\"] = test[\"title_merge\"].str.len() - test[\"title_no_brand\"].str.len()\n",
    "# test[\"title_diff\"].value_counts()"
   ],
   "metadata": {
    "collapsed": false,
    "ExecuteTime": {
     "end_time": "2023-11-17T21:40:02.908841Z",
     "start_time": "2023-11-17T21:40:02.905299Z"
    }
   }
  },
  {
   "cell_type": "code",
   "execution_count": 32,
   "outputs": [
    {
     "data": {
      "text/plain": "                                       title_merge  \\\n496                              adidas supercourt   \n2629                  nike concepts x air max 1 sp   \n2899                             nike revolution 4   \n2458                            nike air max 90 qs   \n407                   adidas pokemon x advantage j   \n3489                 ps nike space jam x lebron 19   \n135                              adidas country og   \n395                           adidas ozweego celox   \n248   adidas james bond 007 x ultraboost summerrdy   \n2640                 nike court borough mid winter   \n\n                              title_no_brand  \n496                               supercourt  \n2629                 concepts x air max 1 sp  \n2899                            revolution 4  \n2458                           air max 90 qs  \n407                    pokemon x advantage j  \n3489               ps  space jam x lebron 19  \n135                               country og  \n395                            ozweego celox  \n248    james bond 007 x ultraboost summerrdy  \n2640                court borough mid winter  ",
      "text/html": "<div>\n<style scoped>\n    .dataframe tbody tr th:only-of-type {\n        vertical-align: middle;\n    }\n\n    .dataframe tbody tr th {\n        vertical-align: top;\n    }\n\n    .dataframe thead th {\n        text-align: right;\n    }\n</style>\n<table border=\"1\" class=\"dataframe\">\n  <thead>\n    <tr style=\"text-align: right;\">\n      <th></th>\n      <th>title_merge</th>\n      <th>title_no_brand</th>\n    </tr>\n  </thead>\n  <tbody>\n    <tr>\n      <th>496</th>\n      <td>adidas supercourt</td>\n      <td>supercourt</td>\n    </tr>\n    <tr>\n      <th>2629</th>\n      <td>nike concepts x air max 1 sp</td>\n      <td>concepts x air max 1 sp</td>\n    </tr>\n    <tr>\n      <th>2899</th>\n      <td>nike revolution 4</td>\n      <td>revolution 4</td>\n    </tr>\n    <tr>\n      <th>2458</th>\n      <td>nike air max 90 qs</td>\n      <td>air max 90 qs</td>\n    </tr>\n    <tr>\n      <th>407</th>\n      <td>adidas pokemon x advantage j</td>\n      <td>pokemon x advantage j</td>\n    </tr>\n    <tr>\n      <th>3489</th>\n      <td>ps nike space jam x lebron 19</td>\n      <td>ps  space jam x lebron 19</td>\n    </tr>\n    <tr>\n      <th>135</th>\n      <td>adidas country og</td>\n      <td>country og</td>\n    </tr>\n    <tr>\n      <th>395</th>\n      <td>adidas ozweego celox</td>\n      <td>ozweego celox</td>\n    </tr>\n    <tr>\n      <th>248</th>\n      <td>adidas james bond 007 x ultraboost summerrdy</td>\n      <td>james bond 007 x ultraboost summerrdy</td>\n    </tr>\n    <tr>\n      <th>2640</th>\n      <td>nike court borough mid winter</td>\n      <td>court borough mid winter</td>\n    </tr>\n  </tbody>\n</table>\n</div>"
     },
     "execution_count": 32,
     "metadata": {},
     "output_type": "execute_result"
    }
   ],
   "source": [
    "# # sample of changed titles:\n",
    "# test[test[\"title_no_brand\"] != test['title_merge']].sample(10)[[\"title_merge\", 'title_no_brand']]"
   ],
   "metadata": {
    "collapsed": false,
    "ExecuteTime": {
     "end_time": "2023-11-17T21:40:24.917440Z",
     "start_time": "2023-11-17T21:40:24.908049Z"
    }
   }
  },
  {
   "cell_type": "code",
   "execution_count": 39,
   "outputs": [
    {
     "data": {
      "text/plain": "Index(['title_merge', 'brand', 'collection_name', 'color', 'images_path',\n       'price', 'pricecurrency', 'url', 'website', 'title_diff',\n       'title_no_brand'],\n      dtype='object')"
     },
     "execution_count": 39,
     "metadata": {},
     "output_type": "execute_result"
    }
   ],
   "source": [
    "# # cleanup\n",
    "# test.columns"
   ],
   "metadata": {
    "collapsed": false,
    "ExecuteTime": {
     "end_time": "2023-11-17T21:42:54.476639Z",
     "start_time": "2023-11-17T21:42:54.462050Z"
    }
   }
  },
  {
   "cell_type": "code",
   "execution_count": 40,
   "outputs": [],
   "source": [
    "# test['title'] = test['title_no_brand']\n",
    "# test.drop(columns=[\"title_merge\", \"title_no_brand\", \"title_diff\"], inplace=True)"
   ],
   "metadata": {
    "collapsed": false,
    "ExecuteTime": {
     "end_time": "2023-11-17T21:43:06.315438Z",
     "start_time": "2023-11-17T21:43:06.303419Z"
    }
   }
  },
  {
   "cell_type": "code",
   "execution_count": 41,
   "outputs": [],
   "source": [
    "# # finally, save:\n",
    "# test.to_csv(\"data/raw/metadata/dataset.csv\", index=False)"
   ],
   "metadata": {
    "collapsed": false,
    "ExecuteTime": {
     "end_time": "2023-11-17T21:43:47.536187Z",
     "start_time": "2023-11-17T21:43:47.278342Z"
    }
   }
  },
  {
   "cell_type": "markdown",
   "source": [
    "## Seara heavymetal experiments:"
   ],
   "metadata": {
    "collapsed": false
   }
  },
  {
   "cell_type": "code",
   "execution_count": 12,
   "outputs": [
    {
     "name": "stdout",
     "output_type": "stream",
     "text": [
      "\r\n",
      "\u001B[1m[\u001B[0m\u001B[34;49mnotice\u001B[0m\u001B[1;39;49m]\u001B[0m\u001B[39;49m A new release of pip is available: \u001B[0m\u001B[31;49m23.2.1\u001B[0m\u001B[39;49m -> \u001B[0m\u001B[32;49m23.3.1\u001B[0m\r\n",
      "\u001B[1m[\u001B[0m\u001B[34;49mnotice\u001B[0m\u001B[1;39;49m]\u001B[0m\u001B[39;49m To update, run: \u001B[0m\u001B[32;49mpip install --upgrade pip\u001B[0m\r\n"
     ]
    }
   ],
   "source": [
    "# !pip install thefuzz -q"
   ],
   "metadata": {
    "collapsed": false,
    "ExecuteTime": {
     "end_time": "2023-11-12T11:37:18.803864024Z",
     "start_time": "2023-11-12T11:37:11.085511451Z"
    }
   }
  },
  {
   "cell_type": "code",
   "execution_count": 13,
   "outputs": [
    {
     "data": {
      "text/plain": "[('vans ua og authentic lx vault checkerboard', 69),\n ('vans vault authentic one piece vlt lx', 69),\n ('vans vault og authentic frayed lx', 70),\n ('vans vault og authentic lx canvas', 70),\n ('authentic los vans', 71),\n ('vans og authentic lx stressed', 71),\n ('vans ua authentic vr3 pw lx', 77),\n ('vans ua og authentic lx suede', 78),\n ('vans vault og authentic lx', 79),\n ('vans og authentic lx', 80)]"
     },
     "execution_count": 13,
     "metadata": {},
     "output_type": "execute_result"
    }
   ],
   "source": [
    "# from thefuzz import fuzz\n",
    "# \n",
    "# \n",
    "# def similarity(string1, string2):\n",
    "#     return fuzz.token_sort_ratio(string1, string2)\n",
    "# \n",
    "# \n",
    "# title = \"vans - ua og authentic lx yellow\"\n",
    "# \n",
    "# similarities = []\n",
    "# for text in titles:\n",
    "#     similarities.append((text, similarity(title, text)))\n",
    "# \n",
    "# similarities.sort(key=lambda x: x[1])\n",
    "# similarities[-10:]"
   ],
   "metadata": {
    "collapsed": false,
    "ExecuteTime": {
     "end_time": "2023-11-12T11:37:18.920868225Z",
     "start_time": "2023-11-12T11:37:18.813255484Z"
    }
   }
  },
  {
   "cell_type": "code",
   "execution_count": 18,
   "outputs": [],
   "source": [
    "# эта тема лучше всего находит похожие"
   ],
   "metadata": {
    "collapsed": false,
    "ExecuteTime": {
     "end_time": "2023-11-12T11:15:38.161794367Z",
     "start_time": "2023-11-12T11:15:38.121189651Z"
    }
   }
  },
  {
   "cell_type": "code",
   "execution_count": 14,
   "outputs": [],
   "source": [
    "# test.to_csv(\"temp.csv\")"
   ],
   "metadata": {
    "collapsed": false,
    "ExecuteTime": {
     "end_time": "2023-11-12T11:38:02.153413018Z",
     "start_time": "2023-11-12T11:38:01.995539843Z"
    }
   }
  },
  {
   "cell_type": "code",
   "execution_count": null,
   "outputs": [],
   "source": [],
   "metadata": {
    "collapsed": false
   }
  }
 ],
 "metadata": {
  "kernelspec": {
   "display_name": "DS",
   "language": "python",
   "name": "python3"
  },
  "language_info": {
   "codemirror_mode": {
    "name": "ipython",
    "version": 3
   },
   "file_extension": ".py",
   "mimetype": "text/x-python",
   "name": "python",
   "nbconvert_exporter": "python",
   "pygments_lexer": "ipython3",
   "version": "3.9.16"
  }
 },
 "nbformat": 4,
 "nbformat_minor": 2
}
