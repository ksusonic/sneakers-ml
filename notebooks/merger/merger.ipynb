{
 "cells": [
  {
   "cell_type": "code",
   "execution_count": 1,
   "outputs": [],
   "source": [
    "# for PyCharm\n",
    "import os\n",
    "\n",
    "current_directory = os.getcwd()\n",
    "project_directory = os.path.abspath(os.path.join(current_directory, os.pardir, os.pardir))\n",
    "os.chdir(project_directory)"
   ],
   "metadata": {
    "collapsed": false,
    "ExecuteTime": {
     "end_time": "2023-11-12T12:03:42.868389940Z",
     "start_time": "2023-11-12T12:03:42.867929687Z"
    }
   }
  },
  {
   "cell_type": "code",
   "execution_count": 2,
   "metadata": {
    "ExecuteTime": {
     "end_time": "2023-11-12T12:03:43.229501536Z",
     "start_time": "2023-11-12T12:03:42.868195503Z"
    }
   },
   "outputs": [],
   "source": [
    "import os\n",
    "\n",
    "import pandas as pd\n",
    "from pathlib import Path\n",
    "import numpy as np\n",
    "from src.data.merger import SuperkicksFormatter, SneakerbaasFormatter, FootshopFormatter, HighsnobietyFormatter, \\\n",
    "    KickscrewFormatter\n",
    "\n"
   ]
  },
  {
   "cell_type": "code",
   "execution_count": 3,
   "metadata": {
    "ExecuteTime": {
     "end_time": "2023-11-12T12:03:43.246523355Z",
     "start_time": "2023-11-12T12:03:43.235626952Z"
    }
   },
   "outputs": [
    {
     "data": {
      "text/plain": "['superkicks.csv',\n 'highsnobiety.csv',\n 'footshop.csv',\n 'kickscrew.csv',\n 'sneakerbaas.csv']"
     },
     "execution_count": 3,
     "metadata": {},
     "output_type": "execute_result"
    }
   ],
   "source": [
    "metadata_path = \"data/raw/metadata\"\n",
    "discovered_datasets = os.listdir(metadata_path)\n",
    "discovered_datasets"
   ]
  },
  {
   "cell_type": "code",
   "execution_count": 5,
   "metadata": {
    "ExecuteTime": {
     "end_time": "2023-11-12T12:03:56.340107074Z",
     "start_time": "2023-11-12T12:03:56.208472752Z"
    }
   },
   "outputs": [],
   "source": [
    "try:\n",
    "    datasets = {\n",
    "        source: pd.read_csv(str(Path(metadata_path, source))) for source in discovered_datasets\n",
    "    }\n",
    "    assert len(datasets) > 0\n",
    "except FileNotFoundError as err:\n",
    "    print(f\"Some dataset could not be resolved:\")\n",
    "    raise"
   ]
  },
  {
   "cell_type": "code",
   "execution_count": 7,
   "outputs": [
    {
     "data": {
      "text/plain": "                 brand                                        description  \\\n0          new balance  - New Balance 550 \"Vintage Teal\"- Colour: Whit...   \n1          new balance  - New Balance 550 \"WHITE\"- Colour: White/Yello...   \n2                 nike                              Stylecode: FN7788-100   \n3                 nike  - NIKE AIR MAX 90 GS \"BLACK/HABANERO-SMOKE GRE...   \n4                 vans  - UY SK8-Mid Reissue V \"CTHR CHB\"- Colour: Blu...   \n...                ...                                                ...   \n1000  adidas originals  A Clean Classic. These men's Supercourt Shoes ...   \n1001            clarks  - Clarks Desert Boot \"Purple\"- Colour: Purple-...   \n1002             karhu  - Karhu Legacy OG \"Purple\"- Colour: White/Purp...   \n1003             karhu  - Karhu Synchron Classic \"Gray Violet\"- Stylec...   \n1004              nike  - Air Presto \"Australia Olympic\"- Colors: Blue...   \n\n     pricecurrency  price                         title collection_name  \\\n0              EUR  79.99              550 vintage teal   category-kids   \n1              EUR  79.99                     550 white   category-kids   \n2              EUR  49.99  blazer mid next nature white   category-kids   \n3              EUR  89.99        air max 90 gs habanero   category-kids   \n4              EUR  39.99          sk8-mid checkerboard   category-kids   \n...            ...    ...                           ...             ...   \n1000           EUR  69.99              supercourt white    category-men   \n1001           EUR  79.99            desert boot purple    category-men   \n1002           EUR  69.99              legacy og purple    category-men   \n1003           EUR  69.99       synchron classic violet    category-men   \n1004           EUR  39.95  air presto australia olympic    category-men   \n\n                                         collection_url  \\\n0     https://www.sneakerbaas.com/collections/sneake...   \n1     https://www.sneakerbaas.com/collections/sneake...   \n2     https://www.sneakerbaas.com/collections/sneake...   \n3     https://www.sneakerbaas.com/collections/sneake...   \n4     https://www.sneakerbaas.com/collections/sneake...   \n...                                                 ...   \n1000  https://www.sneakerbaas.com/collections/sneake...   \n1001  https://www.sneakerbaas.com/collections/sneake...   \n1002  https://www.sneakerbaas.com/collections/sneake...   \n1003  https://www.sneakerbaas.com/collections/sneake...   \n1004  https://www.sneakerbaas.com/collections/sneake...   \n\n                                                    url  \\\n0     https://www.sneakerbaas.com/collections/sneake...   \n1     https://www.sneakerbaas.com/collections/sneake...   \n2     https://www.sneakerbaas.com/collections/sneake...   \n3     https://www.sneakerbaas.com/collections/sneake...   \n4     https://www.sneakerbaas.com/collections/sneake...   \n...                                                 ...   \n1000  https://www.sneakerbaas.com/collections/sneake...   \n1001  https://www.sneakerbaas.com/collections/sneake...   \n1002  https://www.sneakerbaas.com/collections/sneake...   \n1003  https://www.sneakerbaas.com/collections/sneake...   \n1004  https://www.sneakerbaas.com/collections/sneake...   \n\n                                            images_path  \n0     data/raw/images/sneakerbaas/category-kids/new ...  \n1     data/raw/images/sneakerbaas/category-kids/new ...  \n2     data/raw/images/sneakerbaas/category-kids/nike...  \n3     data/raw/images/sneakerbaas/category-kids/nike...  \n4     data/raw/images/sneakerbaas/category-kids/vans...  \n...                                                 ...  \n1000  data/raw/images/sneakerbaas/category-men/adida...  \n1001  data/raw/images/sneakerbaas/category-men/clark...  \n1002  data/raw/images/sneakerbaas/category-men/karhu...  \n1003  data/raw/images/sneakerbaas/category-men/karhu...  \n1004  data/raw/images/sneakerbaas/category-men/nike/...  \n\n[1005 rows x 9 columns]",
      "text/html": "<div>\n<style scoped>\n    .dataframe tbody tr th:only-of-type {\n        vertical-align: middle;\n    }\n\n    .dataframe tbody tr th {\n        vertical-align: top;\n    }\n\n    .dataframe thead th {\n        text-align: right;\n    }\n</style>\n<table border=\"1\" class=\"dataframe\">\n  <thead>\n    <tr style=\"text-align: right;\">\n      <th></th>\n      <th>brand</th>\n      <th>description</th>\n      <th>pricecurrency</th>\n      <th>price</th>\n      <th>title</th>\n      <th>collection_name</th>\n      <th>collection_url</th>\n      <th>url</th>\n      <th>images_path</th>\n    </tr>\n  </thead>\n  <tbody>\n    <tr>\n      <th>0</th>\n      <td>new balance</td>\n      <td>- New Balance 550 \"Vintage Teal\"- Colour: Whit...</td>\n      <td>EUR</td>\n      <td>79.99</td>\n      <td>550 vintage teal</td>\n      <td>category-kids</td>\n      <td>https://www.sneakerbaas.com/collections/sneake...</td>\n      <td>https://www.sneakerbaas.com/collections/sneake...</td>\n      <td>data/raw/images/sneakerbaas/category-kids/new ...</td>\n    </tr>\n    <tr>\n      <th>1</th>\n      <td>new balance</td>\n      <td>- New Balance 550 \"WHITE\"- Colour: White/Yello...</td>\n      <td>EUR</td>\n      <td>79.99</td>\n      <td>550 white</td>\n      <td>category-kids</td>\n      <td>https://www.sneakerbaas.com/collections/sneake...</td>\n      <td>https://www.sneakerbaas.com/collections/sneake...</td>\n      <td>data/raw/images/sneakerbaas/category-kids/new ...</td>\n    </tr>\n    <tr>\n      <th>2</th>\n      <td>nike</td>\n      <td>Stylecode: FN7788-100</td>\n      <td>EUR</td>\n      <td>49.99</td>\n      <td>blazer mid next nature white</td>\n      <td>category-kids</td>\n      <td>https://www.sneakerbaas.com/collections/sneake...</td>\n      <td>https://www.sneakerbaas.com/collections/sneake...</td>\n      <td>data/raw/images/sneakerbaas/category-kids/nike...</td>\n    </tr>\n    <tr>\n      <th>3</th>\n      <td>nike</td>\n      <td>- NIKE AIR MAX 90 GS \"BLACK/HABANERO-SMOKE GRE...</td>\n      <td>EUR</td>\n      <td>89.99</td>\n      <td>air max 90 gs habanero</td>\n      <td>category-kids</td>\n      <td>https://www.sneakerbaas.com/collections/sneake...</td>\n      <td>https://www.sneakerbaas.com/collections/sneake...</td>\n      <td>data/raw/images/sneakerbaas/category-kids/nike...</td>\n    </tr>\n    <tr>\n      <th>4</th>\n      <td>vans</td>\n      <td>- UY SK8-Mid Reissue V \"CTHR CHB\"- Colour: Blu...</td>\n      <td>EUR</td>\n      <td>39.99</td>\n      <td>sk8-mid checkerboard</td>\n      <td>category-kids</td>\n      <td>https://www.sneakerbaas.com/collections/sneake...</td>\n      <td>https://www.sneakerbaas.com/collections/sneake...</td>\n      <td>data/raw/images/sneakerbaas/category-kids/vans...</td>\n    </tr>\n    <tr>\n      <th>...</th>\n      <td>...</td>\n      <td>...</td>\n      <td>...</td>\n      <td>...</td>\n      <td>...</td>\n      <td>...</td>\n      <td>...</td>\n      <td>...</td>\n      <td>...</td>\n    </tr>\n    <tr>\n      <th>1000</th>\n      <td>adidas originals</td>\n      <td>A Clean Classic. These men's Supercourt Shoes ...</td>\n      <td>EUR</td>\n      <td>69.99</td>\n      <td>supercourt white</td>\n      <td>category-men</td>\n      <td>https://www.sneakerbaas.com/collections/sneake...</td>\n      <td>https://www.sneakerbaas.com/collections/sneake...</td>\n      <td>data/raw/images/sneakerbaas/category-men/adida...</td>\n    </tr>\n    <tr>\n      <th>1001</th>\n      <td>clarks</td>\n      <td>- Clarks Desert Boot \"Purple\"- Colour: Purple-...</td>\n      <td>EUR</td>\n      <td>79.99</td>\n      <td>desert boot purple</td>\n      <td>category-men</td>\n      <td>https://www.sneakerbaas.com/collections/sneake...</td>\n      <td>https://www.sneakerbaas.com/collections/sneake...</td>\n      <td>data/raw/images/sneakerbaas/category-men/clark...</td>\n    </tr>\n    <tr>\n      <th>1002</th>\n      <td>karhu</td>\n      <td>- Karhu Legacy OG \"Purple\"- Colour: White/Purp...</td>\n      <td>EUR</td>\n      <td>69.99</td>\n      <td>legacy og purple</td>\n      <td>category-men</td>\n      <td>https://www.sneakerbaas.com/collections/sneake...</td>\n      <td>https://www.sneakerbaas.com/collections/sneake...</td>\n      <td>data/raw/images/sneakerbaas/category-men/karhu...</td>\n    </tr>\n    <tr>\n      <th>1003</th>\n      <td>karhu</td>\n      <td>- Karhu Synchron Classic \"Gray Violet\"- Stylec...</td>\n      <td>EUR</td>\n      <td>69.99</td>\n      <td>synchron classic violet</td>\n      <td>category-men</td>\n      <td>https://www.sneakerbaas.com/collections/sneake...</td>\n      <td>https://www.sneakerbaas.com/collections/sneake...</td>\n      <td>data/raw/images/sneakerbaas/category-men/karhu...</td>\n    </tr>\n    <tr>\n      <th>1004</th>\n      <td>nike</td>\n      <td>- Air Presto \"Australia Olympic\"- Colors: Blue...</td>\n      <td>EUR</td>\n      <td>39.95</td>\n      <td>air presto australia olympic</td>\n      <td>category-men</td>\n      <td>https://www.sneakerbaas.com/collections/sneake...</td>\n      <td>https://www.sneakerbaas.com/collections/sneake...</td>\n      <td>data/raw/images/sneakerbaas/category-men/nike/...</td>\n    </tr>\n  </tbody>\n</table>\n<p>1005 rows × 9 columns</p>\n</div>"
     },
     "execution_count": 7,
     "metadata": {},
     "output_type": "execute_result"
    }
   ],
   "source": [
    "datasets[\"sneakerbaas.csv\"]"
   ],
   "metadata": {
    "collapsed": false,
    "ExecuteTime": {
     "end_time": "2023-11-12T12:03:59.667608254Z",
     "start_time": "2023-11-12T12:03:59.638735024Z"
    }
   }
  },
  {
   "cell_type": "code",
   "execution_count": 1,
   "metadata": {
    "ExecuteTime": {
     "end_time": "2023-11-12T13:53:20.942821263Z",
     "start_time": "2023-11-12T13:53:20.720986143Z"
    }
   },
   "outputs": [
    {
     "ename": "NameError",
     "evalue": "name 'SuperkicksFormatter' is not defined",
     "output_type": "error",
     "traceback": [
      "\u001B[0;31m---------------------------------------------------------------------------\u001B[0m",
      "\u001B[0;31mNameError\u001B[0m                                 Traceback (most recent call last)",
      "Cell \u001B[0;32mIn[1], line 2\u001B[0m\n\u001B[1;32m      1\u001B[0m processed_datasets \u001B[38;5;241m=\u001B[39m {\n\u001B[0;32m----> 2\u001B[0m     \u001B[38;5;124m\"\u001B[39m\u001B[38;5;124msuperkicks\u001B[39m\u001B[38;5;124m\"\u001B[39m: \u001B[43mSuperkicksFormatter\u001B[49m(datasets[\u001B[38;5;124m\"\u001B[39m\u001B[38;5;124msuperkicks.csv\u001B[39m\u001B[38;5;124m\"\u001B[39m])\u001B[38;5;241m.\u001B[39mformat(),\n\u001B[1;32m      3\u001B[0m     \u001B[38;5;124m\"\u001B[39m\u001B[38;5;124msneakerbaas\u001B[39m\u001B[38;5;124m\"\u001B[39m: SneakerbaasFormatter(datasets[\u001B[38;5;124m\"\u001B[39m\u001B[38;5;124msneakerbaas.csv\u001B[39m\u001B[38;5;124m\"\u001B[39m])\u001B[38;5;241m.\u001B[39mformat(),\n\u001B[1;32m      4\u001B[0m     \u001B[38;5;124m\"\u001B[39m\u001B[38;5;124mfootshop\u001B[39m\u001B[38;5;124m\"\u001B[39m: FootshopFormatter(datasets[\u001B[38;5;124m\"\u001B[39m\u001B[38;5;124mfootshop.csv\u001B[39m\u001B[38;5;124m\"\u001B[39m])\u001B[38;5;241m.\u001B[39mformat(),\n\u001B[1;32m      5\u001B[0m     \u001B[38;5;124m\"\u001B[39m\u001B[38;5;124mhighsnobiety\u001B[39m\u001B[38;5;124m\"\u001B[39m: HighsnobietyFormatter(datasets[\u001B[38;5;124m\"\u001B[39m\u001B[38;5;124mhighsnobiety.csv\u001B[39m\u001B[38;5;124m\"\u001B[39m])\u001B[38;5;241m.\u001B[39mformat(),\n\u001B[1;32m      6\u001B[0m     \u001B[38;5;124m\"\u001B[39m\u001B[38;5;124mkickscrew\u001B[39m\u001B[38;5;124m\"\u001B[39m: KickscrewFormatter(datasets[\u001B[38;5;124m\"\u001B[39m\u001B[38;5;124mkickscrew.csv\u001B[39m\u001B[38;5;124m\"\u001B[39m])\u001B[38;5;241m.\u001B[39mformat(),\n\u001B[1;32m      7\u001B[0m }\n\u001B[1;32m      8\u001B[0m check_extra_symbols(processed_datasets)\n",
      "\u001B[0;31mNameError\u001B[0m: name 'SuperkicksFormatter' is not defined"
     ]
    }
   ],
   "source": [
    "# todo\n",
    "# Я перепарсил и теперь в title есть цвет в кавычках типо вот этого: Air Jordan 6 Retro GS \"Dutch Blue\"\n",
    "# его бы вынести в отдельную колонку color, это надо в merger.py переписать для sneakerbaas и superkicks ну и ваших датасетов\n",
    "\n",
    "# После этого надо сделать колонку, в которой будет чистое название (без цвета и лишних символов)\n",
    "# мб ебануть AbstractParser.remove_extra_symbols() на title без цветов.\n",
    "# По этой чистой колонке можно смерджить.\n",
    "raise NotImplementedError\n"
   ]
  },
  {
   "cell_type": "code",
   "execution_count": null,
   "outputs": [],
   "source": [
    "processed_datasets = {\n",
    "    \"superkicks\": SuperkicksFormatter(datasets[\"superkicks.csv\"]).format(),\n",
    "    \"sneakerbaas\": SneakerbaasFormatter(datasets[\"sneakerbaas.csv\"]).format(),\n",
    "    \"footshop\": FootshopFormatter(datasets[\"footshop.csv\"]).format(),\n",
    "    \"highsnobiety\": HighsnobietyFormatter(datasets[\"highsnobiety.csv\"]).format(),\n",
    "    \"kickscrew\": KickscrewFormatter(datasets[\"kickscrew.csv\"]).format(),\n",
    "}\n",
    "# check_extra_symbols(processed_datasets)"
   ],
   "metadata": {
    "collapsed": false
   }
  },
  {
   "cell_type": "code",
   "execution_count": 6,
   "outputs": [
    {
     "name": "stdout",
     "output_type": "stream",
     "text": [
      "(1090, 10)\n",
      "(1005, 10)\n",
      "(4864, 10)\n",
      "(598, 8)\n",
      "(4900, 8)\n"
     ]
    }
   ],
   "source": [
    "for key, value in processed_datasets.items():\n",
    "    print(value.shape)"
   ],
   "metadata": {
    "collapsed": false,
    "ExecuteTime": {
     "end_time": "2023-11-12T11:36:53.129088555Z",
     "start_time": "2023-11-12T11:36:53.120011659Z"
    }
   }
  },
  {
   "cell_type": "code",
   "execution_count": 7,
   "metadata": {
    "ExecuteTime": {
     "end_time": "2023-11-12T11:36:53.860907061Z",
     "start_time": "2023-11-12T11:36:53.855616530Z"
    }
   },
   "outputs": [
    {
     "data": {
      "text/plain": "{'brand',\n 'images_path',\n 'price',\n 'pricecurrency',\n 'title',\n 'title_old',\n 'url',\n 'website'}"
     },
     "execution_count": 7,
     "metadata": {},
     "output_type": "execute_result"
    }
   ],
   "source": [
    "# same columns\n",
    "same_columns = set.intersection(*[set(processed_datasets[key].columns) for key in processed_datasets])\n",
    "same_columns\n",
    "# no colors and collection-name"
   ]
  },
  {
   "cell_type": "code",
   "execution_count": 8,
   "outputs": [
    {
     "data": {
      "text/plain": "          brand                                             title    price  \\\n0      converse                           wmns run star legacy cx   8499.0   \n1      converse                             chuck taylor all star   4299.0   \n2          nike                                       kd16 nrg ep  14995.0   \n3        jordan   air jordan 1 retro high og royal bluewhiteroyal  16995.0   \n4          nike           blazer mid 77 premium summit blacklight   7756.0   \n...         ...                                               ...      ...   \n12452    adidas         adidas ultraboost 10 shoes valentines day    123.0   \n12453    adidas  adidas originals ozweego shoes magic clay strata    102.0   \n12454    adidas       adidas originals adilette slides off bright     56.0   \n12455    adidas                  adidas originals forum low shoes     84.0   \n12456    adidas                    adidas grand court 20 sneakers     67.0   \n\n      collection_name                                                url  \\\n0        men-sneakers  https://www.superkicks.in/products/wmns-run-st...   \n1        men-sneakers  https://www.superkicks.in/products/chuck-taylo...   \n2        men-sneakers  https://www.superkicks.in/products/kd16-nrg-ep...   \n3        men-sneakers  https://www.superkicks.in/products/air-jordan-...   \n4        men-sneakers  https://www.superkicks.in/products/blazer-mid-...   \n...               ...                                                ...   \n12452             NaN  https://www.kickscrew.com/products/adidas-ultr...   \n12453             NaN  https://www.kickscrew.com/products/adidas-orig...   \n12454             NaN  https://www.kickscrew.com/products/adidas-orig...   \n12455             NaN  https://www.kickscrew.com/products/adidas-orig...   \n12456             NaN  https://www.kickscrew.com/products/adidas-gran...   \n\n                                             images_path     website  \\\n0      data/raw/images/superkicks/men-sneakers/conver...  superkicks   \n1      data/raw/images/superkicks/men-sneakers/conver...  superkicks   \n2      data/raw/images/superkicks/men-sneakers/nike/k...  superkicks   \n3      data/raw/images/superkicks/men-sneakers/jordan...  superkicks   \n4      data/raw/images/superkicks/men-sneakers/nike/b...  superkicks   \n...                                                  ...         ...   \n12452  [data/raw/images/kickscrew/adidas/adidas-ultra...   kickscrew   \n12453  [data/raw/images/kickscrew/adidas/adidas-origi...   kickscrew   \n12454  [data/raw/images/kickscrew/adidas/adidas-origi...   kickscrew   \n12455  [data/raw/images/kickscrew/adidas/adidas-origi...   kickscrew   \n12456  [nan, data/raw/images/kickscrew/adidas/adidas-...   kickscrew   \n\n                                               title_old pricecurrency color  \n0                     wmns run star legacy cx periwinkle           INR    []  \n1                         chuck taylor all star charcoal           INR    []  \n2                       kd16 nrg ep pink foam|pink|white           INR    []  \n3      air jordan 1 retro high og black|royal blue-wh...           INR    []  \n4      blazer mid 77 premium summit white|black-light...           INR    []  \n...                                                  ...           ...   ...  \n12452       Adidas Ultraboost 1.0 Shoes 'Valentines Day'           USD   NaN  \n12453  Adidas Originals Ozweego Shoes 'Magic Beige Cl...           USD   NaN  \n12454  Adidas Originals Adilette Slides 'Off White Br...           USD   NaN  \n12455  Adidas Originals Forum Low Shoes 'White Grey Red'           USD   NaN  \n12456      Adidas Grand Court 2.0 Sneakers 'White Black'           USD   NaN  \n\n[12457 rows x 10 columns]",
      "text/html": "<div>\n<style scoped>\n    .dataframe tbody tr th:only-of-type {\n        vertical-align: middle;\n    }\n\n    .dataframe tbody tr th {\n        vertical-align: top;\n    }\n\n    .dataframe thead th {\n        text-align: right;\n    }\n</style>\n<table border=\"1\" class=\"dataframe\">\n  <thead>\n    <tr style=\"text-align: right;\">\n      <th></th>\n      <th>brand</th>\n      <th>title</th>\n      <th>price</th>\n      <th>collection_name</th>\n      <th>url</th>\n      <th>images_path</th>\n      <th>website</th>\n      <th>title_old</th>\n      <th>pricecurrency</th>\n      <th>color</th>\n    </tr>\n  </thead>\n  <tbody>\n    <tr>\n      <th>0</th>\n      <td>converse</td>\n      <td>wmns run star legacy cx</td>\n      <td>8499.0</td>\n      <td>men-sneakers</td>\n      <td>https://www.superkicks.in/products/wmns-run-st...</td>\n      <td>data/raw/images/superkicks/men-sneakers/conver...</td>\n      <td>superkicks</td>\n      <td>wmns run star legacy cx periwinkle</td>\n      <td>INR</td>\n      <td>[]</td>\n    </tr>\n    <tr>\n      <th>1</th>\n      <td>converse</td>\n      <td>chuck taylor all star</td>\n      <td>4299.0</td>\n      <td>men-sneakers</td>\n      <td>https://www.superkicks.in/products/chuck-taylo...</td>\n      <td>data/raw/images/superkicks/men-sneakers/conver...</td>\n      <td>superkicks</td>\n      <td>chuck taylor all star charcoal</td>\n      <td>INR</td>\n      <td>[]</td>\n    </tr>\n    <tr>\n      <th>2</th>\n      <td>nike</td>\n      <td>kd16 nrg ep</td>\n      <td>14995.0</td>\n      <td>men-sneakers</td>\n      <td>https://www.superkicks.in/products/kd16-nrg-ep...</td>\n      <td>data/raw/images/superkicks/men-sneakers/nike/k...</td>\n      <td>superkicks</td>\n      <td>kd16 nrg ep pink foam|pink|white</td>\n      <td>INR</td>\n      <td>[]</td>\n    </tr>\n    <tr>\n      <th>3</th>\n      <td>jordan</td>\n      <td>air jordan 1 retro high og royal bluewhiteroyal</td>\n      <td>16995.0</td>\n      <td>men-sneakers</td>\n      <td>https://www.superkicks.in/products/air-jordan-...</td>\n      <td>data/raw/images/superkicks/men-sneakers/jordan...</td>\n      <td>superkicks</td>\n      <td>air jordan 1 retro high og black|royal blue-wh...</td>\n      <td>INR</td>\n      <td>[]</td>\n    </tr>\n    <tr>\n      <th>4</th>\n      <td>nike</td>\n      <td>blazer mid 77 premium summit blacklight</td>\n      <td>7756.0</td>\n      <td>men-sneakers</td>\n      <td>https://www.superkicks.in/products/blazer-mid-...</td>\n      <td>data/raw/images/superkicks/men-sneakers/nike/b...</td>\n      <td>superkicks</td>\n      <td>blazer mid 77 premium summit white|black-light...</td>\n      <td>INR</td>\n      <td>[]</td>\n    </tr>\n    <tr>\n      <th>...</th>\n      <td>...</td>\n      <td>...</td>\n      <td>...</td>\n      <td>...</td>\n      <td>...</td>\n      <td>...</td>\n      <td>...</td>\n      <td>...</td>\n      <td>...</td>\n      <td>...</td>\n    </tr>\n    <tr>\n      <th>12452</th>\n      <td>adidas</td>\n      <td>adidas ultraboost 10 shoes valentines day</td>\n      <td>123.0</td>\n      <td>NaN</td>\n      <td>https://www.kickscrew.com/products/adidas-ultr...</td>\n      <td>[data/raw/images/kickscrew/adidas/adidas-ultra...</td>\n      <td>kickscrew</td>\n      <td>Adidas Ultraboost 1.0 Shoes 'Valentines Day'</td>\n      <td>USD</td>\n      <td>NaN</td>\n    </tr>\n    <tr>\n      <th>12453</th>\n      <td>adidas</td>\n      <td>adidas originals ozweego shoes magic clay strata</td>\n      <td>102.0</td>\n      <td>NaN</td>\n      <td>https://www.kickscrew.com/products/adidas-orig...</td>\n      <td>[data/raw/images/kickscrew/adidas/adidas-origi...</td>\n      <td>kickscrew</td>\n      <td>Adidas Originals Ozweego Shoes 'Magic Beige Cl...</td>\n      <td>USD</td>\n      <td>NaN</td>\n    </tr>\n    <tr>\n      <th>12454</th>\n      <td>adidas</td>\n      <td>adidas originals adilette slides off bright</td>\n      <td>56.0</td>\n      <td>NaN</td>\n      <td>https://www.kickscrew.com/products/adidas-orig...</td>\n      <td>[data/raw/images/kickscrew/adidas/adidas-origi...</td>\n      <td>kickscrew</td>\n      <td>Adidas Originals Adilette Slides 'Off White Br...</td>\n      <td>USD</td>\n      <td>NaN</td>\n    </tr>\n    <tr>\n      <th>12455</th>\n      <td>adidas</td>\n      <td>adidas originals forum low shoes</td>\n      <td>84.0</td>\n      <td>NaN</td>\n      <td>https://www.kickscrew.com/products/adidas-orig...</td>\n      <td>[data/raw/images/kickscrew/adidas/adidas-origi...</td>\n      <td>kickscrew</td>\n      <td>Adidas Originals Forum Low Shoes 'White Grey Red'</td>\n      <td>USD</td>\n      <td>NaN</td>\n    </tr>\n    <tr>\n      <th>12456</th>\n      <td>adidas</td>\n      <td>adidas grand court 20 sneakers</td>\n      <td>67.0</td>\n      <td>NaN</td>\n      <td>https://www.kickscrew.com/products/adidas-gran...</td>\n      <td>[nan, data/raw/images/kickscrew/adidas/adidas-...</td>\n      <td>kickscrew</td>\n      <td>Adidas Grand Court 2.0 Sneakers 'White Black'</td>\n      <td>USD</td>\n      <td>NaN</td>\n    </tr>\n  </tbody>\n</table>\n<p>12457 rows × 10 columns</p>\n</div>"
     },
     "execution_count": 8,
     "metadata": {},
     "output_type": "execute_result"
    }
   ],
   "source": [
    "merged_datasets = pd.concat(list(processed_datasets.values()), ignore_index=True)\n",
    "merged_datasets"
   ],
   "metadata": {
    "collapsed": false,
    "ExecuteTime": {
     "end_time": "2023-11-12T11:36:54.749235027Z",
     "start_time": "2023-11-12T11:36:54.702886670Z"
    }
   }
  },
  {
   "cell_type": "code",
   "execution_count": 9,
   "outputs": [
    {
     "data": {
      "text/plain": "                                                title               brand  \\\n0                                              01 low      [autry, autry]   \n1                                            01 low m             [autry]   \n2                                         01 low m bi             [autry]   \n3                                    01 low m bi eden             [autry]   \n4                                         01 low w bi             [autry]   \n...                                               ...                 ...   \n8233  zoom vomero 5 sp anthracite anthraciteblackwolf              [nike]   \n8234         zoom vomero 5 sp vast vast greyblacksail              [nike]   \n8235                                      zx 22 boost  [adidas originals]   \n8236                                   zx 2k boost 20            [adidas]   \n8237                                  zx 5020 crystal  [adidas originals]   \n\n                     collection_name                              color  \\\n0     [category-women, category-men]  [[white, beige], [yellow, white]]   \n1                     [category-men]            [[black, white, creme]]   \n2                     [category-men]                  [[white, purple]]   \n3                     [category-men]                   [[white, green]]   \n4                   [category-women]                   [[black, white]]   \n...                              ...                                ...   \n8233                  [men-sneakers]                               [[]]   \n8234                  [men-sneakers]                               [[]]   \n8235                  [category-men]                          [[beige]]   \n8236                [women-sneakers]                               [[]]   \n8237                  [category-men]               [[grey, pink, blue]]   \n\n                                            images_path             price  \\\n0     [data/raw/images/sneakerbaas/category-women/au...  [129.99, 149.99]   \n1     [data/raw/images/sneakerbaas/category-men/autr...          [149.99]   \n2     [data/raw/images/sneakerbaas/category-men/autr...          [149.99]   \n3     [data/raw/images/sneakerbaas/category-men/autr...          [149.99]   \n4     [data/raw/images/sneakerbaas/category-women/au...          [149.99]   \n...                                                 ...               ...   \n8233  [data/raw/images/superkicks/men-sneakers/nike/...         [14995.0]   \n8234  [data/raw/images/superkicks/men-sneakers/nike/...         [14995.0]   \n8235  [data/raw/images/sneakerbaas/category-men/adid...           [59.99]   \n8236  [data/raw/images/superkicks/women-sneakers/adi...          [8399.0]   \n8237  [data/raw/images/sneakerbaas/category-men/adid...           [59.99]   \n\n     pricecurrency                                                url  \\\n0       [EUR, EUR]  [https://www.sneakerbaas.com/collections/sneak...   \n1            [EUR]  [https://www.sneakerbaas.com/collections/sneak...   \n2            [EUR]  [https://www.sneakerbaas.com/collections/sneak...   \n3            [EUR]  [https://www.sneakerbaas.com/collections/sneak...   \n4            [EUR]  [https://www.sneakerbaas.com/collections/sneak...   \n...            ...                                                ...   \n8233         [INR]  [https://www.superkicks.in/products/zoom-vomer...   \n8234         [INR]  [https://www.superkicks.in/products/zoom-vomer...   \n8235         [EUR]  [https://www.sneakerbaas.com/collections/sneak...   \n8236         [INR]  [https://www.superkicks.in/products/zx-2k-boos...   \n8237         [EUR]  [https://www.sneakerbaas.com/collections/sneak...   \n\n                         website  \n0     [sneakerbaas, sneakerbaas]  \n1                  [sneakerbaas]  \n2                  [sneakerbaas]  \n3                  [sneakerbaas]  \n4                  [sneakerbaas]  \n...                          ...  \n8233                [superkicks]  \n8234                [superkicks]  \n8235               [sneakerbaas]  \n8236                [superkicks]  \n8237               [sneakerbaas]  \n\n[8238 rows x 9 columns]",
      "text/html": "<div>\n<style scoped>\n    .dataframe tbody tr th:only-of-type {\n        vertical-align: middle;\n    }\n\n    .dataframe tbody tr th {\n        vertical-align: top;\n    }\n\n    .dataframe thead th {\n        text-align: right;\n    }\n</style>\n<table border=\"1\" class=\"dataframe\">\n  <thead>\n    <tr style=\"text-align: right;\">\n      <th></th>\n      <th>title</th>\n      <th>brand</th>\n      <th>collection_name</th>\n      <th>color</th>\n      <th>images_path</th>\n      <th>price</th>\n      <th>pricecurrency</th>\n      <th>url</th>\n      <th>website</th>\n    </tr>\n  </thead>\n  <tbody>\n    <tr>\n      <th>0</th>\n      <td>01 low</td>\n      <td>[autry, autry]</td>\n      <td>[category-women, category-men]</td>\n      <td>[[white, beige], [yellow, white]]</td>\n      <td>[data/raw/images/sneakerbaas/category-women/au...</td>\n      <td>[129.99, 149.99]</td>\n      <td>[EUR, EUR]</td>\n      <td>[https://www.sneakerbaas.com/collections/sneak...</td>\n      <td>[sneakerbaas, sneakerbaas]</td>\n    </tr>\n    <tr>\n      <th>1</th>\n      <td>01 low m</td>\n      <td>[autry]</td>\n      <td>[category-men]</td>\n      <td>[[black, white, creme]]</td>\n      <td>[data/raw/images/sneakerbaas/category-men/autr...</td>\n      <td>[149.99]</td>\n      <td>[EUR]</td>\n      <td>[https://www.sneakerbaas.com/collections/sneak...</td>\n      <td>[sneakerbaas]</td>\n    </tr>\n    <tr>\n      <th>2</th>\n      <td>01 low m bi</td>\n      <td>[autry]</td>\n      <td>[category-men]</td>\n      <td>[[white, purple]]</td>\n      <td>[data/raw/images/sneakerbaas/category-men/autr...</td>\n      <td>[149.99]</td>\n      <td>[EUR]</td>\n      <td>[https://www.sneakerbaas.com/collections/sneak...</td>\n      <td>[sneakerbaas]</td>\n    </tr>\n    <tr>\n      <th>3</th>\n      <td>01 low m bi eden</td>\n      <td>[autry]</td>\n      <td>[category-men]</td>\n      <td>[[white, green]]</td>\n      <td>[data/raw/images/sneakerbaas/category-men/autr...</td>\n      <td>[149.99]</td>\n      <td>[EUR]</td>\n      <td>[https://www.sneakerbaas.com/collections/sneak...</td>\n      <td>[sneakerbaas]</td>\n    </tr>\n    <tr>\n      <th>4</th>\n      <td>01 low w bi</td>\n      <td>[autry]</td>\n      <td>[category-women]</td>\n      <td>[[black, white]]</td>\n      <td>[data/raw/images/sneakerbaas/category-women/au...</td>\n      <td>[149.99]</td>\n      <td>[EUR]</td>\n      <td>[https://www.sneakerbaas.com/collections/sneak...</td>\n      <td>[sneakerbaas]</td>\n    </tr>\n    <tr>\n      <th>...</th>\n      <td>...</td>\n      <td>...</td>\n      <td>...</td>\n      <td>...</td>\n      <td>...</td>\n      <td>...</td>\n      <td>...</td>\n      <td>...</td>\n      <td>...</td>\n    </tr>\n    <tr>\n      <th>8233</th>\n      <td>zoom vomero 5 sp anthracite anthraciteblackwolf</td>\n      <td>[nike]</td>\n      <td>[men-sneakers]</td>\n      <td>[[]]</td>\n      <td>[data/raw/images/superkicks/men-sneakers/nike/...</td>\n      <td>[14995.0]</td>\n      <td>[INR]</td>\n      <td>[https://www.superkicks.in/products/zoom-vomer...</td>\n      <td>[superkicks]</td>\n    </tr>\n    <tr>\n      <th>8234</th>\n      <td>zoom vomero 5 sp vast vast greyblacksail</td>\n      <td>[nike]</td>\n      <td>[men-sneakers]</td>\n      <td>[[]]</td>\n      <td>[data/raw/images/superkicks/men-sneakers/nike/...</td>\n      <td>[14995.0]</td>\n      <td>[INR]</td>\n      <td>[https://www.superkicks.in/products/zoom-vomer...</td>\n      <td>[superkicks]</td>\n    </tr>\n    <tr>\n      <th>8235</th>\n      <td>zx 22 boost</td>\n      <td>[adidas originals]</td>\n      <td>[category-men]</td>\n      <td>[[beige]]</td>\n      <td>[data/raw/images/sneakerbaas/category-men/adid...</td>\n      <td>[59.99]</td>\n      <td>[EUR]</td>\n      <td>[https://www.sneakerbaas.com/collections/sneak...</td>\n      <td>[sneakerbaas]</td>\n    </tr>\n    <tr>\n      <th>8236</th>\n      <td>zx 2k boost 20</td>\n      <td>[adidas]</td>\n      <td>[women-sneakers]</td>\n      <td>[[]]</td>\n      <td>[data/raw/images/superkicks/women-sneakers/adi...</td>\n      <td>[8399.0]</td>\n      <td>[INR]</td>\n      <td>[https://www.superkicks.in/products/zx-2k-boos...</td>\n      <td>[superkicks]</td>\n    </tr>\n    <tr>\n      <th>8237</th>\n      <td>zx 5020 crystal</td>\n      <td>[adidas originals]</td>\n      <td>[category-men]</td>\n      <td>[[grey, pink, blue]]</td>\n      <td>[data/raw/images/sneakerbaas/category-men/adid...</td>\n      <td>[59.99]</td>\n      <td>[EUR]</td>\n      <td>[https://www.sneakerbaas.com/collections/sneak...</td>\n      <td>[sneakerbaas]</td>\n    </tr>\n  </tbody>\n</table>\n<p>8238 rows × 9 columns</p>\n</div>"
     },
     "execution_count": 9,
     "metadata": {},
     "output_type": "execute_result"
    }
   ],
   "source": [
    "# group by по названиям, если все названия будут одинаковые, то все дублирующие кроссы сложатся в одно.\n",
    "test = merged_datasets.groupby(\"title\").agg({\n",
    "    \"brand\": list,\n",
    "    \"collection_name\": list,\n",
    "    \"color\": list,\n",
    "    \"images_path\": list,\n",
    "    \"price\": list,\n",
    "    \"pricecurrency\": list,\n",
    "    \"url\": list,\n",
    "    \"website\": list\n",
    "}).reset_index().sort_values(by=\"title\")\n",
    "test"
   ],
   "metadata": {
    "collapsed": false,
    "ExecuteTime": {
     "end_time": "2023-11-12T11:36:59.177228464Z",
     "start_time": "2023-11-12T11:36:57.552316177Z"
    }
   }
  },
  {
   "cell_type": "code",
   "execution_count": 10,
   "outputs": [
    {
     "name": "stdout",
     "output_type": "stream",
     "text": [
      "(12457, 10)\n",
      "(8238, 9)\n"
     ]
    }
   ],
   "source": [
    "# sizes\n",
    "print(merged_datasets.shape)\n",
    "print(test.shape)"
   ],
   "metadata": {
    "collapsed": false,
    "ExecuteTime": {
     "end_time": "2023-11-12T11:37:07.147576250Z",
     "start_time": "2023-11-12T11:37:07.117955950Z"
    }
   }
  },
  {
   "cell_type": "code",
   "execution_count": 11,
   "outputs": [],
   "source": [
    "titles = test[\"title\"].tolist()"
   ],
   "metadata": {
    "collapsed": false,
    "ExecuteTime": {
     "end_time": "2023-11-12T11:37:10.915528321Z",
     "start_time": "2023-11-12T11:37:10.908006716Z"
    }
   }
  },
  {
   "cell_type": "code",
   "execution_count": 12,
   "outputs": [
    {
     "name": "stdout",
     "output_type": "stream",
     "text": [
      "\r\n",
      "\u001B[1m[\u001B[0m\u001B[34;49mnotice\u001B[0m\u001B[1;39;49m]\u001B[0m\u001B[39;49m A new release of pip is available: \u001B[0m\u001B[31;49m23.2.1\u001B[0m\u001B[39;49m -> \u001B[0m\u001B[32;49m23.3.1\u001B[0m\r\n",
      "\u001B[1m[\u001B[0m\u001B[34;49mnotice\u001B[0m\u001B[1;39;49m]\u001B[0m\u001B[39;49m To update, run: \u001B[0m\u001B[32;49mpip install --upgrade pip\u001B[0m\r\n"
     ]
    }
   ],
   "source": [
    "!pip install thefuzz -q"
   ],
   "metadata": {
    "collapsed": false,
    "ExecuteTime": {
     "end_time": "2023-11-12T11:37:18.803864024Z",
     "start_time": "2023-11-12T11:37:11.085511451Z"
    }
   }
  },
  {
   "cell_type": "code",
   "execution_count": 13,
   "outputs": [
    {
     "data": {
      "text/plain": "[('vans ua og authentic lx vault checkerboard', 69),\n ('vans vault authentic one piece vlt lx', 69),\n ('vans vault og authentic frayed lx', 70),\n ('vans vault og authentic lx canvas', 70),\n ('authentic los vans', 71),\n ('vans og authentic lx stressed', 71),\n ('vans ua authentic vr3 pw lx', 77),\n ('vans ua og authentic lx suede', 78),\n ('vans vault og authentic lx', 79),\n ('vans og authentic lx', 80)]"
     },
     "execution_count": 13,
     "metadata": {},
     "output_type": "execute_result"
    }
   ],
   "source": [
    "from thefuzz import fuzz\n",
    "\n",
    "def similarity(string1, string2):\n",
    "    return fuzz.token_sort_ratio(string1, string2)\n",
    "\n",
    "title = \"vans - ua og authentic lx yellow\"\n",
    "\n",
    "similarities = []\n",
    "for text in titles:\n",
    "    similarities.append((text, similarity(title, text)))\n",
    "\n",
    "similarities.sort(key=lambda x: x[1])\n",
    "similarities[-10:]"
   ],
   "metadata": {
    "collapsed": false,
    "ExecuteTime": {
     "end_time": "2023-11-12T11:37:18.920868225Z",
     "start_time": "2023-11-12T11:37:18.813255484Z"
    }
   }
  },
  {
   "cell_type": "code",
   "execution_count": 18,
   "outputs": [],
   "source": [
    "# эта тема лучше всего находит похожие"
   ],
   "metadata": {
    "collapsed": false,
    "ExecuteTime": {
     "end_time": "2023-11-12T11:15:38.161794367Z",
     "start_time": "2023-11-12T11:15:38.121189651Z"
    }
   }
  },
  {
   "cell_type": "code",
   "execution_count": 14,
   "outputs": [],
   "source": [
    "test.to_csv(\"temp.csv\")"
   ],
   "metadata": {
    "collapsed": false,
    "ExecuteTime": {
     "end_time": "2023-11-12T11:38:02.153413018Z",
     "start_time": "2023-11-12T11:38:01.995539843Z"
    }
   }
  },
  {
   "cell_type": "code",
   "execution_count": null,
   "outputs": [],
   "source": [],
   "metadata": {
    "collapsed": false
   }
  }
 ],
 "metadata": {
  "kernelspec": {
   "display_name": "DS",
   "language": "python",
   "name": "python3"
  },
  "language_info": {
   "codemirror_mode": {
    "name": "ipython",
    "version": 3
   },
   "file_extension": ".py",
   "mimetype": "text/x-python",
   "name": "python",
   "nbconvert_exporter": "python",
   "pygments_lexer": "ipython3",
   "version": "3.9.16"
  }
 },
 "nbformat": 4,
 "nbformat_minor": 2
}
