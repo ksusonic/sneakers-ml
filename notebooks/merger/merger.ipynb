{
 "cells": [
  {
   "cell_type": "code",
   "execution_count": 1,
   "outputs": [],
   "source": [
    "# for PyCharm\n",
    "import os\n",
    "\n",
    "import numpy as np\n",
    "\n",
    "current_directory = os.getcwd()\n",
    "project_directory = os.path.abspath(os.path.join(current_directory, os.pardir, os.pardir))\n",
    "os.chdir(project_directory)"
   ],
   "metadata": {
    "collapsed": false,
    "ExecuteTime": {
     "end_time": "2023-11-23T15:13:18.696018815Z",
     "start_time": "2023-11-23T15:13:18.609322760Z"
    }
   }
  },
  {
   "cell_type": "code",
   "execution_count": 2,
   "metadata": {
    "ExecuteTime": {
     "end_time": "2023-11-23T15:13:19.004051389Z",
     "start_time": "2023-11-23T15:13:18.699767394Z"
    }
   },
   "outputs": [
    {
     "name": "stdout",
     "output_type": "stream",
     "text": [
      "INFO: Pandarallel will run on 8 workers.\n",
      "INFO: Pandarallel will use Memory file system to transfer data between the main process and workers.\n"
     ]
    }
   ],
   "source": [
    "\n",
    "from pathlib import Path\n",
    "import shutil\n",
    "\n",
    "from src.data.merger import Merger"
   ]
  },
  {
   "cell_type": "code",
   "execution_count": 3,
   "outputs": [],
   "source": [
    "# datasets = Merger().get_formatted()\n",
    "# for key, value in datasets.items():\n",
    "#     print(value.shape)\n",
    "# same_columns = set.intersection(*[set(datasets[key].columns) for key in datasets])\n",
    "# print(same_columns)\n",
    "# Merger.check_extra_symbols(datasets, columns=[\"brand\", \"title\"])"
   ],
   "metadata": {
    "collapsed": false,
    "ExecuteTime": {
     "end_time": "2023-11-23T15:13:19.004296531Z",
     "start_time": "2023-11-23T15:13:18.996575535Z"
    }
   }
  },
  {
   "cell_type": "code",
   "execution_count": 4,
   "outputs": [
    {
     "name": "stdout",
     "output_type": "stream",
     "text": [
      "superkicks columns Index(['brand', 'title', 'price', 'collection_name', 'url', 'images_path',\n",
      "       'website', 'pricecurrency', 'title_without_color', 'color',\n",
      "       'title_merge', 'brand_merge'],\n",
      "      dtype='object') size (1141, 12)\n",
      "sneakerbaas columns Index(['brand', 'pricecurrency', 'price', 'title', 'collection_name', 'url',\n",
      "       'images_path', 'website', 'title_without_color', 'color', 'title_merge',\n",
      "       'brand_merge'],\n",
      "      dtype='object') size (926, 12)\n",
      "footshop columns Index(['brand', 'title', 'color', 'pricecurrency', 'price', 'collection_name',\n",
      "       'url', 'images_path', 'website', 'title_without_color', 'title_merge',\n",
      "       'brand_merge'],\n",
      "      dtype='object') size (4852, 12)\n",
      "{'superkicks': [\"'\", '\"', '+', '(', ')', '.', '#'], 'sneakerbaas': ['\"', \"'\", '.', '(', ')', '+'], 'footshop': [\"'\", '\"', '.', '®', '*', '™', '+', '(', ')', '?', ',', ':', '.', '®', \"'\", '*']}\n",
      "6919 -> 2484\n",
      "(2484, 3)\n",
      "(2484, 13)\n"
     ]
    }
   ],
   "source": [
    "merged_essentials, merged_dataset = Merger().get_merged_dataset(Path(\"data\") / \"merged\" / \"metadata\")\n",
    "print(merged_essentials.shape)\n",
    "print(merged_dataset.shape)"
   ],
   "metadata": {
    "collapsed": false,
    "ExecuteTime": {
     "end_time": "2023-11-23T15:13:26.787252523Z",
     "start_time": "2023-11-23T15:13:19.000369579Z"
    }
   }
  },
  {
   "cell_type": "code",
   "execution_count": 5,
   "outputs": [],
   "source": [
    "# images = temp[\"images_path\"].values\n",
    "# for image_list in images:\n",
    "#     for image in image_list:\n",
    "#         if not isinstance(image, str):\n",
    "#             print(image_list)\n",
    "#             print(type(image))\n",
    "# import numpy as np\n",
    "# len(set(np.hstack(images)))"
   ],
   "metadata": {
    "collapsed": false,
    "ExecuteTime": {
     "end_time": "2023-11-23T15:13:26.788222615Z",
     "start_time": "2023-11-23T15:13:26.786680036Z"
    }
   }
  },
  {
   "cell_type": "code",
   "execution_count": 6,
   "outputs": [],
   "source": [
    "# counter = 0\n",
    "# \n",
    "# for source_path in set(np.hstack(images).tolist()):\n",
    "#     source_path = Path(source_path)\n",
    "# \n",
    "#     if source_path.is_dir():\n",
    "#         for source_file in source_path.glob('*'):\n",
    "#             counter += 1\n",
    "# \n",
    "#     elif source_path.is_file():\n",
    "#         counter += 1\n",
    "#     else:\n",
    "#         print(source_path)\n",
    "# \n",
    "# counter"
   ],
   "metadata": {
    "collapsed": false,
    "ExecuteTime": {
     "end_time": "2023-11-23T15:13:26.793841886Z",
     "start_time": "2023-11-23T15:13:26.790273637Z"
    }
   }
  },
  {
   "cell_type": "code",
   "execution_count": 11,
   "outputs": [
    {
     "data": {
      "text/plain": "0          4\n1         12\n2         13\n3         23\n4         24\n        ... \n2479    7676\n2480    7688\n2481    7694\n2482    7700\n2483    7706\nLength: 2484, dtype: int64"
     },
     "execution_count": 11,
     "metadata": {},
     "output_type": "execute_result"
    }
   ],
   "source": [
    "# from pandarallel import pandarallel\n",
    "\n",
    "# pandarallel.initialize(progress_bar=True)\n",
    "\n",
    "path = Path(\"data\") / \"merged\" / \"images\"\n",
    "merged_essentials.apply(lambda x: copy_files_to_destination(x[\"images_path\"], path / \"by-brands\" / x[\"brand_merge\"]),\n",
    "                        axis=1)"
   ],
   "metadata": {
    "collapsed": false,
    "ExecuteTime": {
     "end_time": "2023-11-23T15:15:04.538177128Z",
     "start_time": "2023-11-23T15:13:34.586308130Z"
    }
   }
  },
  {
   "cell_type": "code",
   "execution_count": 12,
   "outputs": [
    {
     "data": {
      "text/plain": "0        4\n1        7\n2        0\n3        9\n4        0\n        ..\n2479    11\n2480    11\n2481     5\n2482     5\n2483     5\nLength: 2484, dtype: int64"
     },
     "execution_count": 12,
     "metadata": {},
     "output_type": "execute_result"
    }
   ],
   "source": [
    "merged_essentials.apply(lambda x: copy_files_to_destination(x[\"images_path\"], path / \"by-models\" / x[\"title_merge\"]),\n",
    "                        axis=1)"
   ],
   "metadata": {
    "collapsed": false,
    "ExecuteTime": {
     "end_time": "2023-11-23T15:15:56.016187492Z",
     "start_time": "2023-11-23T15:15:04.522636380Z"
    }
   }
  },
  {
   "cell_type": "code",
   "execution_count": 10,
   "outputs": [],
   "source": [
    "from src.data.storage import StorageProcessor\n",
    "from src.data.local import LocalStorage\n",
    "\n",
    "processor = StorageProcessor(LocalStorage())\n",
    "test = ['data/raw/images/kickscrew/Air Jordan/air-jordan-1-retro-high-og-rebellionaire-555088-036-right-side-img.05705',\n",
    "        'data/raw/images/kickscrew/Air Jordan/air-jordan-1-retro-high-og-rebellionaire-555088-036-left-side-img.05705',\n",
    "        'data/raw/images/kickscrew/Air Jordan/air-jordan-1-retro-high-og-rebellionaire-555088-036-front-both-img.05705',\n",
    "        'data/raw/images/kickscrew/Air Jordan/air-jordan-1-high-og-hand-crafted-dh3097-001-right-side-img.10771',\n",
    "        'data/raw/images/kickscrew/Air Jordan/air-jordan-1-high-og-hand-crafted-dh3097-001-left-side-img.10771',\n",
    "        'data/raw/images/kickscrew/Air Jordan/air-jordan-1-high-og-hand-crafted-dh3097-001-front-both-img.10771',\n",
    "        \"data/raw/images/superkicks/women-sneakers/vans/wmns-ashetr-multi\",\n",
    "        \"data/raw/images/superkicks/women-sneakers/vans/utility-pop-old-skool-yellow\"]\n",
    "\n",
    "\n",
    "def copy_files_to_destination(source_list, destination):\n",
    "    if len(source_list) == 0:\n",
    "        return 0\n",
    "\n",
    "    destination_path = Path(destination)\n",
    "    destination_path.mkdir(parents=True, exist_ok=True)\n",
    "\n",
    "    counter = processor.get_max_filename(str(destination_path))\n",
    "\n",
    "    for source_path in source_list:\n",
    "        source_path = Path(source_path)\n",
    "\n",
    "        if source_path.is_dir():\n",
    "            for source_file in source_path.glob('*'):\n",
    "                counter += 1\n",
    "                destination_file = destination_path / f\"{counter}{source_file.suffix}\"\n",
    "                shutil.copy2(source_file, destination_file)\n",
    "\n",
    "\n",
    "        elif source_path.is_file():\n",
    "            counter += 1\n",
    "            destination_file = destination_path / f\"{counter}{source_path.suffix}\"\n",
    "            shutil.copy2(source_path, destination_file)\n",
    "\n",
    "    return counter\n",
    "\n",
    "# copy_files_to_destination(test, \"data/merged/images/test\")"
   ],
   "metadata": {
    "collapsed": false,
    "ExecuteTime": {
     "end_time": "2023-11-23T15:13:32.930707943Z",
     "start_time": "2023-11-23T15:13:32.907191139Z"
    }
   }
  },
  {
   "cell_type": "code",
   "execution_count": null,
   "outputs": [],
   "source": [
    "# import numpy as np\n",
    "# flat_colors = np.concatenate(merged[\"color\"].values).tolist()\n",
    "# flat_colors = np.concatenate([item if isinstance(item, list) else [item] for item in flat_colors]).tolist()\n",
    "# flat_colors\n",
    "# out = set()\n",
    "# for color in flat_colors:\n",
    "#     out.add(Merger.format_merge(color))\n",
    "# out = list(out)\n",
    "# out.sort(key=len, reverse=True)\n",
    "# out\n",
    "# with open(\"notebooks/merger/color_words.txt\", \"a\") as f:\n",
    "#     f.write('\\n'.join(out))"
   ],
   "metadata": {
    "collapsed": false,
    "ExecuteTime": {
     "start_time": "2023-11-22T20:57:07.750715003Z"
    }
   }
  },
  {
   "cell_type": "markdown",
   "source": [
    "## Seara heavymetal experiments:"
   ],
   "metadata": {
    "collapsed": false
   }
  },
  {
   "cell_type": "code",
   "execution_count": null,
   "outputs": [],
   "source": [
    "# !pip install thefuzz -q"
   ],
   "metadata": {
    "collapsed": false,
    "ExecuteTime": {
     "start_time": "2023-11-22T20:57:07.750937307Z"
    }
   }
  },
  {
   "cell_type": "code",
   "execution_count": null,
   "outputs": [],
   "source": [
    "# from thefuzz import fuzz\n",
    "# \n",
    "# \n",
    "# def similarity(string1, string2):\n",
    "#     return fuzz.token_sort_ratio(string1, string2)\n",
    "# \n",
    "# \n",
    "# title = \"vans - ua og authentic lx yellow\"\n",
    "# \n",
    "# similarities = []\n",
    "# for text in titles:\n",
    "#     similarities.append((text, similarity(title, text)))\n",
    "# \n",
    "# similarities.sort(key=lambda x: x[1])\n",
    "# similarities[-10:]"
   ],
   "metadata": {
    "collapsed": false,
    "ExecuteTime": {
     "start_time": "2023-11-22T20:57:07.751072659Z"
    }
   }
  },
  {
   "cell_type": "code",
   "execution_count": null,
   "outputs": [],
   "source": [
    "# эта тема лучше всего находит похожие"
   ],
   "metadata": {
    "collapsed": false,
    "ExecuteTime": {
     "start_time": "2023-11-22T20:57:07.751243350Z"
    }
   }
  },
  {
   "cell_type": "code",
   "execution_count": null,
   "outputs": [],
   "source": [],
   "metadata": {
    "collapsed": false,
    "ExecuteTime": {
     "start_time": "2023-11-22T20:57:07.751453292Z"
    }
   }
  }
 ],
 "metadata": {
  "kernelspec": {
   "display_name": "DS",
   "language": "python",
   "name": "python3"
  },
  "language_info": {
   "codemirror_mode": {
    "name": "ipython",
    "version": 3
   },
   "file_extension": ".py",
   "mimetype": "text/x-python",
   "name": "python",
   "nbconvert_exporter": "python",
   "pygments_lexer": "ipython3",
   "version": "3.9.16"
  }
 },
 "nbformat": 4,
 "nbformat_minor": 2
}
