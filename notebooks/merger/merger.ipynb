{
 "cells": [
  {
   "cell_type": "code",
   "execution_count": 1,
   "outputs": [],
   "source": [
    "# for PyCharm\n",
    "import os\n",
    "\n",
    "current_directory = os.getcwd()\n",
    "project_directory = os.path.abspath(os.path.join(current_directory, os.pardir, os.pardir))\n",
    "os.chdir(project_directory)"
   ],
   "metadata": {
    "collapsed": false,
    "ExecuteTime": {
     "end_time": "2023-11-11T14:45:02.074255069Z",
     "start_time": "2023-11-11T14:45:02.073856137Z"
    }
   }
  },
  {
   "cell_type": "code",
   "execution_count": 2,
   "metadata": {
    "ExecuteTime": {
     "end_time": "2023-11-11T14:45:02.504933074Z",
     "start_time": "2023-11-11T14:45:02.196922321Z"
    }
   },
   "outputs": [],
   "source": [
    "import os\n",
    "\n",
    "import pandas as pd\n",
    "from pathlib import Path\n",
    "import numpy as np\n",
    "from src.data.merger import SuperkicksFormatter,SneakerbaasFormatter,FootshopFormatter, check_extra_symbols"
   ]
  },
  {
   "cell_type": "code",
   "execution_count": 3,
   "metadata": {
    "ExecuteTime": {
     "end_time": "2023-11-11T14:45:02.517092188Z",
     "start_time": "2023-11-11T14:45:02.510534604Z"
    }
   },
   "outputs": [
    {
     "data": {
      "text/plain": "['superkicks.csv',\n 'highsnobiety.csv',\n 'footshop.csv',\n 'kickscrew.csv',\n 'sneakerbaas.csv']"
     },
     "execution_count": 3,
     "metadata": {},
     "output_type": "execute_result"
    }
   ],
   "source": [
    "metadata_path = \"data/raw/metadata\"\n",
    "discovered_datasets = os.listdir(metadata_path)\n",
    "discovered_datasets"
   ]
  },
  {
   "cell_type": "code",
   "execution_count": 4,
   "metadata": {
    "ExecuteTime": {
     "end_time": "2023-11-11T14:45:03.202039040Z",
     "start_time": "2023-11-11T14:45:03.121099780Z"
    }
   },
   "outputs": [],
   "source": [
    "try:\n",
    "    datasets = {\n",
    "        source: pd.read_csv(str(Path(metadata_path, source))) for source in discovered_datasets\n",
    "    }\n",
    "    assert len(datasets) > 0\n",
    "except FileNotFoundError as err:\n",
    "    print(f\"Some dataset could not be resolved:\")\n",
    "    raise"
   ]
  },
  {
   "cell_type": "code",
   "execution_count": 5,
   "outputs": [
    {
     "data": {
      "text/plain": "                 brand                                    title  \\\n0                 vans                           vans knu skool   \n1          dr. martens                 dr. martens jadon hdw ii   \n2     adidas originals                          adidas samba og   \n3          new balance                       new balance 990 v1   \n4                asics  asics x andersson bell gel-sonoma 15-50   \n...                ...                                      ...   \n6442              nike                 nike court borough mid 2   \n6443       new balance                        new balance ct302   \n6444              vans                      vans kids old skool   \n6445              vans                      vans old skool kids   \n6446              vans                           vans old skool   \n\n                                               color pricecurrency     price  \\\n0                                  Black/ True White           EUR   97.95 €   \n1     Black Buttero & Black 100% Recycled Da Pk Mesh           EUR  274.95 €   \n2                        Core Black/ Ftw White/ Gum5           EUR     120 €   \n3                                        Green/ Gold           EUR  146.22 €   \n4                              Olive Oil/ Dark Brown           EUR  155.51 €   \n...                                              ...           ...       ...   \n6442                     University Red/ Black-White           EUR   74.95 €   \n6443                                       All Black           EUR  114.95 €   \n6444                                Navy/ True White           EUR   59.95 €   \n6445                                    Black/ Black           EUR   59.95 €   \n6446                               Black/ True White           EUR   59.95 €   \n\n                 collection_name  \\\n0                   5-mens-shoes   \n1                   5-mens-shoes   \n2                   5-mens-shoes   \n3                   5-mens-shoes   \n4                   5-mens-shoes   \n...                          ...   \n6442  55-kids-sneakers-and-shoes   \n6443  55-kids-sneakers-and-shoes   \n6444  55-kids-sneakers-and-shoes   \n6445  55-kids-sneakers-and-shoes   \n6446  55-kids-sneakers-and-shoes   \n\n                                         collection_url  \\\n0               https://www.footshop.eu/en/5-mens-shoes   \n1               https://www.footshop.eu/en/5-mens-shoes   \n2               https://www.footshop.eu/en/5-mens-shoes   \n3               https://www.footshop.eu/en/5-mens-shoes   \n4               https://www.footshop.eu/en/5-mens-shoes   \n...                                                 ...   \n6442  https://www.footshop.eu/en/55-kids-sneakers-an...   \n6443  https://www.footshop.eu/en/55-kids-sneakers-an...   \n6444  https://www.footshop.eu/en/55-kids-sneakers-an...   \n6445  https://www.footshop.eu/en/55-kids-sneakers-an...   \n6446  https://www.footshop.eu/en/55-kids-sneakers-an...   \n\n                                                    url  \\\n0     https://www.footshop.eu/en/mens-shoes/261589-v...   \n1     https://www.footshop.eu/en/mens-shoes/297121-d...   \n2     https://www.footshop.eu/en/mens-shoes/29598-ad...   \n3     https://www.footshop.eu/en/mens-shoes/279670-n...   \n4     https://www.footshop.eu/en/mens-shoes/264451-a...   \n...                                                 ...   \n6442  https://www.footshop.eu/en/kids-sneakers-and-s...   \n6443  https://www.footshop.eu/en/kids-sneakers-and-s...   \n6444  https://www.footshop.eu/en/kids-sneakers-and-s...   \n6445  https://www.footshop.eu/en/kids-sneakers-and-s...   \n6446  https://www.footshop.eu/en/kids-sneakers-and-s...   \n\n                                            images_path  \n0     data/raw/images/footshop/5-mens-shoes/vans/van...  \n1     data/raw/images/footshop/5-mens-shoes/dr. mart...  \n2     data/raw/images/footshop/5-mens-shoes/adidas o...  \n3     data/raw/images/footshop/5-mens-shoes/new bala...  \n4     data/raw/images/footshop/5-mens-shoes/asics/as...  \n...                                                 ...  \n6442  data/raw/images/footshop/55-kids-sneakers-and-...  \n6443  data/raw/images/footshop/55-kids-sneakers-and-...  \n6444  data/raw/images/footshop/55-kids-sneakers-and-...  \n6445  data/raw/images/footshop/55-kids-sneakers-and-...  \n6446  data/raw/images/footshop/55-kids-sneakers-and-...  \n\n[6447 rows x 9 columns]",
      "text/html": "<div>\n<style scoped>\n    .dataframe tbody tr th:only-of-type {\n        vertical-align: middle;\n    }\n\n    .dataframe tbody tr th {\n        vertical-align: top;\n    }\n\n    .dataframe thead th {\n        text-align: right;\n    }\n</style>\n<table border=\"1\" class=\"dataframe\">\n  <thead>\n    <tr style=\"text-align: right;\">\n      <th></th>\n      <th>brand</th>\n      <th>title</th>\n      <th>color</th>\n      <th>pricecurrency</th>\n      <th>price</th>\n      <th>collection_name</th>\n      <th>collection_url</th>\n      <th>url</th>\n      <th>images_path</th>\n    </tr>\n  </thead>\n  <tbody>\n    <tr>\n      <th>0</th>\n      <td>vans</td>\n      <td>vans knu skool</td>\n      <td>Black/ True White</td>\n      <td>EUR</td>\n      <td>97.95 €</td>\n      <td>5-mens-shoes</td>\n      <td>https://www.footshop.eu/en/5-mens-shoes</td>\n      <td>https://www.footshop.eu/en/mens-shoes/261589-v...</td>\n      <td>data/raw/images/footshop/5-mens-shoes/vans/van...</td>\n    </tr>\n    <tr>\n      <th>1</th>\n      <td>dr. martens</td>\n      <td>dr. martens jadon hdw ii</td>\n      <td>Black Buttero &amp; Black 100% Recycled Da Pk Mesh</td>\n      <td>EUR</td>\n      <td>274.95 €</td>\n      <td>5-mens-shoes</td>\n      <td>https://www.footshop.eu/en/5-mens-shoes</td>\n      <td>https://www.footshop.eu/en/mens-shoes/297121-d...</td>\n      <td>data/raw/images/footshop/5-mens-shoes/dr. mart...</td>\n    </tr>\n    <tr>\n      <th>2</th>\n      <td>adidas originals</td>\n      <td>adidas samba og</td>\n      <td>Core Black/ Ftw White/ Gum5</td>\n      <td>EUR</td>\n      <td>120 €</td>\n      <td>5-mens-shoes</td>\n      <td>https://www.footshop.eu/en/5-mens-shoes</td>\n      <td>https://www.footshop.eu/en/mens-shoes/29598-ad...</td>\n      <td>data/raw/images/footshop/5-mens-shoes/adidas o...</td>\n    </tr>\n    <tr>\n      <th>3</th>\n      <td>new balance</td>\n      <td>new balance 990 v1</td>\n      <td>Green/ Gold</td>\n      <td>EUR</td>\n      <td>146.22 €</td>\n      <td>5-mens-shoes</td>\n      <td>https://www.footshop.eu/en/5-mens-shoes</td>\n      <td>https://www.footshop.eu/en/mens-shoes/279670-n...</td>\n      <td>data/raw/images/footshop/5-mens-shoes/new bala...</td>\n    </tr>\n    <tr>\n      <th>4</th>\n      <td>asics</td>\n      <td>asics x andersson bell gel-sonoma 15-50</td>\n      <td>Olive Oil/ Dark Brown</td>\n      <td>EUR</td>\n      <td>155.51 €</td>\n      <td>5-mens-shoes</td>\n      <td>https://www.footshop.eu/en/5-mens-shoes</td>\n      <td>https://www.footshop.eu/en/mens-shoes/264451-a...</td>\n      <td>data/raw/images/footshop/5-mens-shoes/asics/as...</td>\n    </tr>\n    <tr>\n      <th>...</th>\n      <td>...</td>\n      <td>...</td>\n      <td>...</td>\n      <td>...</td>\n      <td>...</td>\n      <td>...</td>\n      <td>...</td>\n      <td>...</td>\n      <td>...</td>\n    </tr>\n    <tr>\n      <th>6442</th>\n      <td>nike</td>\n      <td>nike court borough mid 2</td>\n      <td>University Red/ Black-White</td>\n      <td>EUR</td>\n      <td>74.95 €</td>\n      <td>55-kids-sneakers-and-shoes</td>\n      <td>https://www.footshop.eu/en/55-kids-sneakers-an...</td>\n      <td>https://www.footshop.eu/en/kids-sneakers-and-s...</td>\n      <td>data/raw/images/footshop/55-kids-sneakers-and-...</td>\n    </tr>\n    <tr>\n      <th>6443</th>\n      <td>new balance</td>\n      <td>new balance ct302</td>\n      <td>All Black</td>\n      <td>EUR</td>\n      <td>114.95 €</td>\n      <td>55-kids-sneakers-and-shoes</td>\n      <td>https://www.footshop.eu/en/55-kids-sneakers-an...</td>\n      <td>https://www.footshop.eu/en/kids-sneakers-and-s...</td>\n      <td>data/raw/images/footshop/55-kids-sneakers-and-...</td>\n    </tr>\n    <tr>\n      <th>6444</th>\n      <td>vans</td>\n      <td>vans kids old skool</td>\n      <td>Navy/ True White</td>\n      <td>EUR</td>\n      <td>59.95 €</td>\n      <td>55-kids-sneakers-and-shoes</td>\n      <td>https://www.footshop.eu/en/55-kids-sneakers-an...</td>\n      <td>https://www.footshop.eu/en/kids-sneakers-and-s...</td>\n      <td>data/raw/images/footshop/55-kids-sneakers-and-...</td>\n    </tr>\n    <tr>\n      <th>6445</th>\n      <td>vans</td>\n      <td>vans old skool kids</td>\n      <td>Black/ Black</td>\n      <td>EUR</td>\n      <td>59.95 €</td>\n      <td>55-kids-sneakers-and-shoes</td>\n      <td>https://www.footshop.eu/en/55-kids-sneakers-an...</td>\n      <td>https://www.footshop.eu/en/kids-sneakers-and-s...</td>\n      <td>data/raw/images/footshop/55-kids-sneakers-and-...</td>\n    </tr>\n    <tr>\n      <th>6446</th>\n      <td>vans</td>\n      <td>vans old skool</td>\n      <td>Black/ True White</td>\n      <td>EUR</td>\n      <td>59.95 €</td>\n      <td>55-kids-sneakers-and-shoes</td>\n      <td>https://www.footshop.eu/en/55-kids-sneakers-an...</td>\n      <td>https://www.footshop.eu/en/kids-sneakers-and-s...</td>\n      <td>data/raw/images/footshop/55-kids-sneakers-and-...</td>\n    </tr>\n  </tbody>\n</table>\n<p>6447 rows × 9 columns</p>\n</div>"
     },
     "execution_count": 5,
     "metadata": {},
     "output_type": "execute_result"
    }
   ],
   "source": [
    "datasets[\"footshop.csv\"]"
   ],
   "metadata": {
    "collapsed": false,
    "ExecuteTime": {
     "end_time": "2023-11-11T14:45:03.702092935Z",
     "start_time": "2023-11-11T14:45:03.694955741Z"
    }
   }
  },
  {
   "cell_type": "code",
   "execution_count": 6,
   "metadata": {
    "ExecuteTime": {
     "end_time": "2023-11-11T14:45:04.732740673Z",
     "start_time": "2023-11-11T14:45:04.629631215Z"
    }
   },
   "outputs": [
    {
     "name": "stdout",
     "output_type": "stream",
     "text": [
      "superkicks set()\n",
      "sneakerbaas set()\n",
      "footshop set()\n"
     ]
    }
   ],
   "source": [
    "processed_datasets = {\n",
    "    \"superkicks\": SuperkicksFormatter(datasets[\"superkicks.csv\"]).format(),\n",
    "    \"sneakerbaas\": SneakerbaasFormatter(datasets[\"sneakerbaas.csv\"]).format(),\n",
    "    \"footshop\": FootshopFormatter(datasets[\"footshop.csv\"]).format()\n",
    "}\n",
    "check_extra_symbols(processed_datasets)"
   ]
  },
  {
   "cell_type": "code",
   "execution_count": 7,
   "outputs": [
    {
     "name": "stdout",
     "output_type": "stream",
     "text": [
      "(1090, 9)\n",
      "(1005, 9)\n",
      "(4864, 9)\n"
     ]
    }
   ],
   "source": [
    "for key, value in processed_datasets.items():\n",
    "    print(value.shape)"
   ],
   "metadata": {
    "collapsed": false,
    "ExecuteTime": {
     "end_time": "2023-11-11T14:45:07.949508807Z",
     "start_time": "2023-11-11T14:45:07.933645045Z"
    }
   }
  },
  {
   "cell_type": "code",
   "execution_count": 8,
   "metadata": {
    "ExecuteTime": {
     "end_time": "2023-11-11T14:45:10.648663337Z",
     "start_time": "2023-11-11T14:45:10.634436509Z"
    }
   },
   "outputs": [
    {
     "data": {
      "text/plain": "{'brand',\n 'collection_name',\n 'color',\n 'images_path',\n 'price',\n 'pricecurrency',\n 'title',\n 'url',\n 'website'}"
     },
     "execution_count": 8,
     "metadata": {},
     "output_type": "execute_result"
    }
   ],
   "source": [
    "# same columns\n",
    "same_columns = set.intersection(*[set(processed_datasets[key].columns) for key in processed_datasets])\n",
    "same_columns"
   ]
  },
  {
   "cell_type": "code",
   "execution_count": 9,
   "outputs": [
    {
     "data": {
      "text/plain": "            brand                                              title  \\\n0        converse                 wmns run star legacy cx periwinkle   \n1        converse                     chuck taylor all star charcoal   \n2            nike                   kd16 nrg ep pink foam pink white   \n3          jordan  air jordan 1 retro high og black royal blue-wh...   \n4            nike  blazer mid 77 premium summit white black-light...   \n...           ...                                                ...   \n6954         nike                           nike court borough mid 2   \n6955  new balance                                  new balance ct302   \n6956         vans                                vans kids old skool   \n6957         vans                                vans old skool kids   \n6958         vans                                     vans old skool   \n\n         price             collection_name  \\\n0      8499.00                men-sneakers   \n1      4299.00                men-sneakers   \n2     14995.00                men-sneakers   \n3     16995.00                men-sneakers   \n4      7756.00                men-sneakers   \n...        ...                         ...   \n6954     74.95  55-kids-sneakers-and-shoes   \n6955    114.95  55-kids-sneakers-and-shoes   \n6956     59.95  55-kids-sneakers-and-shoes   \n6957     59.95  55-kids-sneakers-and-shoes   \n6958     59.95  55-kids-sneakers-and-shoes   \n\n                                                    url  \\\n0     https://www.superkicks.in/products/wmns-run-st...   \n1     https://www.superkicks.in/products/chuck-taylo...   \n2     https://www.superkicks.in/products/kd16-nrg-ep...   \n3     https://www.superkicks.in/products/air-jordan-...   \n4     https://www.superkicks.in/products/blazer-mid-...   \n...                                                 ...   \n6954  https://www.footshop.eu/en/kids-sneakers-and-s...   \n6955  https://www.footshop.eu/en/kids-sneakers-and-s...   \n6956  https://www.footshop.eu/en/kids-sneakers-and-s...   \n6957  https://www.footshop.eu/en/kids-sneakers-and-s...   \n6958  https://www.footshop.eu/en/kids-sneakers-and-s...   \n\n                                            images_path     website  \\\n0     data/raw/images/superkicks/men-sneakers/conver...  superkicks   \n1     data/raw/images/superkicks/men-sneakers/conver...  superkicks   \n2     data/raw/images/superkicks/men-sneakers/nike/k...  superkicks   \n3     data/raw/images/superkicks/men-sneakers/jordan...  superkicks   \n4     data/raw/images/superkicks/men-sneakers/nike/b...  superkicks   \n...                                                 ...         ...   \n6954  data/raw/images/footshop/55-kids-sneakers-and-...    footshop   \n6955  data/raw/images/footshop/55-kids-sneakers-and-...    footshop   \n6956  data/raw/images/footshop/55-kids-sneakers-and-...    footshop   \n6957  data/raw/images/footshop/55-kids-sneakers-and-...    footshop   \n6958  data/raw/images/footshop/55-kids-sneakers-and-...    footshop   \n\n     pricecurrency                          color  \n0              INR                   [periwinkle]  \n1              INR                     [charcoal]  \n2              INR            [pink, foam, white]  \n3              INR                  [black, blue]  \n4              INR                [white, silver]  \n...            ...                            ...  \n6954           EUR  [university red, black-white]  \n6955           EUR                    [all black]  \n6956           EUR             [navy, true white]  \n6957           EUR                 [black, black]  \n6958           EUR            [black, true white]  \n\n[6959 rows x 9 columns]",
      "text/html": "<div>\n<style scoped>\n    .dataframe tbody tr th:only-of-type {\n        vertical-align: middle;\n    }\n\n    .dataframe tbody tr th {\n        vertical-align: top;\n    }\n\n    .dataframe thead th {\n        text-align: right;\n    }\n</style>\n<table border=\"1\" class=\"dataframe\">\n  <thead>\n    <tr style=\"text-align: right;\">\n      <th></th>\n      <th>brand</th>\n      <th>title</th>\n      <th>price</th>\n      <th>collection_name</th>\n      <th>url</th>\n      <th>images_path</th>\n      <th>website</th>\n      <th>pricecurrency</th>\n      <th>color</th>\n    </tr>\n  </thead>\n  <tbody>\n    <tr>\n      <th>0</th>\n      <td>converse</td>\n      <td>wmns run star legacy cx periwinkle</td>\n      <td>8499.00</td>\n      <td>men-sneakers</td>\n      <td>https://www.superkicks.in/products/wmns-run-st...</td>\n      <td>data/raw/images/superkicks/men-sneakers/conver...</td>\n      <td>superkicks</td>\n      <td>INR</td>\n      <td>[periwinkle]</td>\n    </tr>\n    <tr>\n      <th>1</th>\n      <td>converse</td>\n      <td>chuck taylor all star charcoal</td>\n      <td>4299.00</td>\n      <td>men-sneakers</td>\n      <td>https://www.superkicks.in/products/chuck-taylo...</td>\n      <td>data/raw/images/superkicks/men-sneakers/conver...</td>\n      <td>superkicks</td>\n      <td>INR</td>\n      <td>[charcoal]</td>\n    </tr>\n    <tr>\n      <th>2</th>\n      <td>nike</td>\n      <td>kd16 nrg ep pink foam pink white</td>\n      <td>14995.00</td>\n      <td>men-sneakers</td>\n      <td>https://www.superkicks.in/products/kd16-nrg-ep...</td>\n      <td>data/raw/images/superkicks/men-sneakers/nike/k...</td>\n      <td>superkicks</td>\n      <td>INR</td>\n      <td>[pink, foam, white]</td>\n    </tr>\n    <tr>\n      <th>3</th>\n      <td>jordan</td>\n      <td>air jordan 1 retro high og black royal blue-wh...</td>\n      <td>16995.00</td>\n      <td>men-sneakers</td>\n      <td>https://www.superkicks.in/products/air-jordan-...</td>\n      <td>data/raw/images/superkicks/men-sneakers/jordan...</td>\n      <td>superkicks</td>\n      <td>INR</td>\n      <td>[black, blue]</td>\n    </tr>\n    <tr>\n      <th>4</th>\n      <td>nike</td>\n      <td>blazer mid 77 premium summit white black-light...</td>\n      <td>7756.00</td>\n      <td>men-sneakers</td>\n      <td>https://www.superkicks.in/products/blazer-mid-...</td>\n      <td>data/raw/images/superkicks/men-sneakers/nike/b...</td>\n      <td>superkicks</td>\n      <td>INR</td>\n      <td>[white, silver]</td>\n    </tr>\n    <tr>\n      <th>...</th>\n      <td>...</td>\n      <td>...</td>\n      <td>...</td>\n      <td>...</td>\n      <td>...</td>\n      <td>...</td>\n      <td>...</td>\n      <td>...</td>\n      <td>...</td>\n    </tr>\n    <tr>\n      <th>6954</th>\n      <td>nike</td>\n      <td>nike court borough mid 2</td>\n      <td>74.95</td>\n      <td>55-kids-sneakers-and-shoes</td>\n      <td>https://www.footshop.eu/en/kids-sneakers-and-s...</td>\n      <td>data/raw/images/footshop/55-kids-sneakers-and-...</td>\n      <td>footshop</td>\n      <td>EUR</td>\n      <td>[university red, black-white]</td>\n    </tr>\n    <tr>\n      <th>6955</th>\n      <td>new balance</td>\n      <td>new balance ct302</td>\n      <td>114.95</td>\n      <td>55-kids-sneakers-and-shoes</td>\n      <td>https://www.footshop.eu/en/kids-sneakers-and-s...</td>\n      <td>data/raw/images/footshop/55-kids-sneakers-and-...</td>\n      <td>footshop</td>\n      <td>EUR</td>\n      <td>[all black]</td>\n    </tr>\n    <tr>\n      <th>6956</th>\n      <td>vans</td>\n      <td>vans kids old skool</td>\n      <td>59.95</td>\n      <td>55-kids-sneakers-and-shoes</td>\n      <td>https://www.footshop.eu/en/kids-sneakers-and-s...</td>\n      <td>data/raw/images/footshop/55-kids-sneakers-and-...</td>\n      <td>footshop</td>\n      <td>EUR</td>\n      <td>[navy, true white]</td>\n    </tr>\n    <tr>\n      <th>6957</th>\n      <td>vans</td>\n      <td>vans old skool kids</td>\n      <td>59.95</td>\n      <td>55-kids-sneakers-and-shoes</td>\n      <td>https://www.footshop.eu/en/kids-sneakers-and-s...</td>\n      <td>data/raw/images/footshop/55-kids-sneakers-and-...</td>\n      <td>footshop</td>\n      <td>EUR</td>\n      <td>[black, black]</td>\n    </tr>\n    <tr>\n      <th>6958</th>\n      <td>vans</td>\n      <td>vans old skool</td>\n      <td>59.95</td>\n      <td>55-kids-sneakers-and-shoes</td>\n      <td>https://www.footshop.eu/en/kids-sneakers-and-s...</td>\n      <td>data/raw/images/footshop/55-kids-sneakers-and-...</td>\n      <td>footshop</td>\n      <td>EUR</td>\n      <td>[black, true white]</td>\n    </tr>\n  </tbody>\n</table>\n<p>6959 rows × 9 columns</p>\n</div>"
     },
     "execution_count": 9,
     "metadata": {},
     "output_type": "execute_result"
    }
   ],
   "source": [
    "merged_datasets = pd.concat(list(processed_datasets.values()), ignore_index=True)\n",
    "merged_datasets"
   ],
   "metadata": {
    "collapsed": false,
    "ExecuteTime": {
     "end_time": "2023-11-11T14:45:14.359169999Z",
     "start_time": "2023-11-11T14:45:14.322762079Z"
    }
   }
  },
  {
   "cell_type": "code",
   "execution_count": 10,
   "outputs": [
    {
     "data": {
      "text/plain": "                                                                 brand  \\\ntitle                                                                    \n01 low m bi eden                                               [autry]   \n01 low m bi violet                                             [autry]   \n01 low m black                                                 [autry]   \n01 low mustard                                                 [autry]   \n01 low w bi ivory                                              [autry]   \n...                                                                ...   \nzoom vomero 5 sp anthracite anthracite-black-wo...              [nike]   \nzoom vomero 5 sp vast grey vast grey-black-sail                 [nike]   \nzx 22 boost cream white                             [adidas originals]   \nzx 2k boost 2.0 white                                         [adidas]   \nzx 5020 crystal white                               [adidas originals]   \n\n                                                     collection_name  \\\ntitle                                                                  \n01 low m bi eden                                      [category-men]   \n01 low m bi violet                                    [category-men]   \n01 low m black                                        [category-men]   \n01 low mustard                                        [category-men]   \n01 low w bi ivory                                   [category-women]   \n...                                                              ...   \nzoom vomero 5 sp anthracite anthracite-black-wo...    [men-sneakers]   \nzoom vomero 5 sp vast grey vast grey-black-sail       [men-sneakers]   \nzx 22 boost cream white                               [category-men]   \nzx 2k boost 2.0 white                               [women-sneakers]   \nzx 5020 crystal white                                 [category-men]   \n\n                                                                      color  \\\ntitle                                                                         \n01 low m bi eden                                           [[white, green]]   \n01 low m bi violet                                        [[white, purple]]   \n01 low m black                                      [[black, white, creme]]   \n01 low mustard                                            [[yellow, white]]   \n01 low w bi ivory                                          [[black, white]]   \n...                                                                     ...   \nzoom vomero 5 sp anthracite anthracite-black-wo...                 [[grey]]   \nzoom vomero 5 sp vast grey vast grey-black-sail                    [[grey]]   \nzx 22 boost cream white                                           [[beige]]   \nzx 2k boost 2.0 white                                             [[white]]   \nzx 5020 crystal white                                  [[grey, pink, blue]]   \n\n                                                                                          images_path  \\\ntitle                                                                                                   \n01 low m bi eden                                    [data/raw/images/sneakerbaas/category-men/autr...   \n01 low m bi violet                                  [data/raw/images/sneakerbaas/category-men/autr...   \n01 low m black                                      [data/raw/images/sneakerbaas/category-men/autr...   \n01 low mustard                                      [data/raw/images/sneakerbaas/category-men/autr...   \n01 low w bi ivory                                   [data/raw/images/sneakerbaas/category-women/au...   \n...                                                                                               ...   \nzoom vomero 5 sp anthracite anthracite-black-wo...  [data/raw/images/superkicks/men-sneakers/nike/...   \nzoom vomero 5 sp vast grey vast grey-black-sail     [data/raw/images/superkicks/men-sneakers/nike/...   \nzx 22 boost cream white                             [data/raw/images/sneakerbaas/category-men/adid...   \nzx 2k boost 2.0 white                               [data/raw/images/superkicks/women-sneakers/adi...   \nzx 5020 crystal white                               [data/raw/images/sneakerbaas/category-men/adid...   \n\n                                                        price pricecurrency  \\\ntitle                                                                         \n01 low m bi eden                                     [149.99]         [EUR]   \n01 low m bi violet                                   [149.99]         [EUR]   \n01 low m black                                       [149.99]         [EUR]   \n01 low mustard                                       [149.99]         [EUR]   \n01 low w bi ivory                                    [149.99]         [EUR]   \n...                                                       ...           ...   \nzoom vomero 5 sp anthracite anthracite-black-wo...  [14995.0]         [INR]   \nzoom vomero 5 sp vast grey vast grey-black-sail     [14995.0]         [INR]   \nzx 22 boost cream white                               [59.99]         [EUR]   \nzx 2k boost 2.0 white                                [8399.0]         [INR]   \nzx 5020 crystal white                                 [59.99]         [EUR]   \n\n                                                                                                  url  \\\ntitle                                                                                                   \n01 low m bi eden                                    [https://www.sneakerbaas.com/collections/sneak...   \n01 low m bi violet                                  [https://www.sneakerbaas.com/collections/sneak...   \n01 low m black                                      [https://www.sneakerbaas.com/collections/sneak...   \n01 low mustard                                      [https://www.sneakerbaas.com/collections/sneak...   \n01 low w bi ivory                                   [https://www.sneakerbaas.com/collections/sneak...   \n...                                                                                               ...   \nzoom vomero 5 sp anthracite anthracite-black-wo...  [https://www.superkicks.in/products/zoom-vomer...   \nzoom vomero 5 sp vast grey vast grey-black-sail     [https://www.superkicks.in/products/zoom-vomer...   \nzx 22 boost cream white                             [https://www.sneakerbaas.com/collections/sneak...   \nzx 2k boost 2.0 white                               [https://www.superkicks.in/products/zx-2k-boos...   \nzx 5020 crystal white                               [https://www.sneakerbaas.com/collections/sneak...   \n\n                                                          website  \ntitle                                                              \n01 low m bi eden                                    [sneakerbaas]  \n01 low m bi violet                                  [sneakerbaas]  \n01 low m black                                      [sneakerbaas]  \n01 low mustard                                      [sneakerbaas]  \n01 low w bi ivory                                   [sneakerbaas]  \n...                                                           ...  \nzoom vomero 5 sp anthracite anthracite-black-wo...   [superkicks]  \nzoom vomero 5 sp vast grey vast grey-black-sail      [superkicks]  \nzx 22 boost cream white                             [sneakerbaas]  \nzx 2k boost 2.0 white                                [superkicks]  \nzx 5020 crystal white                               [sneakerbaas]  \n\n[3471 rows x 8 columns]",
      "text/html": "<div>\n<style scoped>\n    .dataframe tbody tr th:only-of-type {\n        vertical-align: middle;\n    }\n\n    .dataframe tbody tr th {\n        vertical-align: top;\n    }\n\n    .dataframe thead th {\n        text-align: right;\n    }\n</style>\n<table border=\"1\" class=\"dataframe\">\n  <thead>\n    <tr style=\"text-align: right;\">\n      <th></th>\n      <th>brand</th>\n      <th>collection_name</th>\n      <th>color</th>\n      <th>images_path</th>\n      <th>price</th>\n      <th>pricecurrency</th>\n      <th>url</th>\n      <th>website</th>\n    </tr>\n    <tr>\n      <th>title</th>\n      <th></th>\n      <th></th>\n      <th></th>\n      <th></th>\n      <th></th>\n      <th></th>\n      <th></th>\n      <th></th>\n    </tr>\n  </thead>\n  <tbody>\n    <tr>\n      <th>01 low m bi eden</th>\n      <td>[autry]</td>\n      <td>[category-men]</td>\n      <td>[[white, green]]</td>\n      <td>[data/raw/images/sneakerbaas/category-men/autr...</td>\n      <td>[149.99]</td>\n      <td>[EUR]</td>\n      <td>[https://www.sneakerbaas.com/collections/sneak...</td>\n      <td>[sneakerbaas]</td>\n    </tr>\n    <tr>\n      <th>01 low m bi violet</th>\n      <td>[autry]</td>\n      <td>[category-men]</td>\n      <td>[[white, purple]]</td>\n      <td>[data/raw/images/sneakerbaas/category-men/autr...</td>\n      <td>[149.99]</td>\n      <td>[EUR]</td>\n      <td>[https://www.sneakerbaas.com/collections/sneak...</td>\n      <td>[sneakerbaas]</td>\n    </tr>\n    <tr>\n      <th>01 low m black</th>\n      <td>[autry]</td>\n      <td>[category-men]</td>\n      <td>[[black, white, creme]]</td>\n      <td>[data/raw/images/sneakerbaas/category-men/autr...</td>\n      <td>[149.99]</td>\n      <td>[EUR]</td>\n      <td>[https://www.sneakerbaas.com/collections/sneak...</td>\n      <td>[sneakerbaas]</td>\n    </tr>\n    <tr>\n      <th>01 low mustard</th>\n      <td>[autry]</td>\n      <td>[category-men]</td>\n      <td>[[yellow, white]]</td>\n      <td>[data/raw/images/sneakerbaas/category-men/autr...</td>\n      <td>[149.99]</td>\n      <td>[EUR]</td>\n      <td>[https://www.sneakerbaas.com/collections/sneak...</td>\n      <td>[sneakerbaas]</td>\n    </tr>\n    <tr>\n      <th>01 low w bi ivory</th>\n      <td>[autry]</td>\n      <td>[category-women]</td>\n      <td>[[black, white]]</td>\n      <td>[data/raw/images/sneakerbaas/category-women/au...</td>\n      <td>[149.99]</td>\n      <td>[EUR]</td>\n      <td>[https://www.sneakerbaas.com/collections/sneak...</td>\n      <td>[sneakerbaas]</td>\n    </tr>\n    <tr>\n      <th>...</th>\n      <td>...</td>\n      <td>...</td>\n      <td>...</td>\n      <td>...</td>\n      <td>...</td>\n      <td>...</td>\n      <td>...</td>\n      <td>...</td>\n    </tr>\n    <tr>\n      <th>zoom vomero 5 sp anthracite anthracite-black-wolf grey</th>\n      <td>[nike]</td>\n      <td>[men-sneakers]</td>\n      <td>[[grey]]</td>\n      <td>[data/raw/images/superkicks/men-sneakers/nike/...</td>\n      <td>[14995.0]</td>\n      <td>[INR]</td>\n      <td>[https://www.superkicks.in/products/zoom-vomer...</td>\n      <td>[superkicks]</td>\n    </tr>\n    <tr>\n      <th>zoom vomero 5 sp vast grey vast grey-black-sail</th>\n      <td>[nike]</td>\n      <td>[men-sneakers]</td>\n      <td>[[grey]]</td>\n      <td>[data/raw/images/superkicks/men-sneakers/nike/...</td>\n      <td>[14995.0]</td>\n      <td>[INR]</td>\n      <td>[https://www.superkicks.in/products/zoom-vomer...</td>\n      <td>[superkicks]</td>\n    </tr>\n    <tr>\n      <th>zx 22 boost cream white</th>\n      <td>[adidas originals]</td>\n      <td>[category-men]</td>\n      <td>[[beige]]</td>\n      <td>[data/raw/images/sneakerbaas/category-men/adid...</td>\n      <td>[59.99]</td>\n      <td>[EUR]</td>\n      <td>[https://www.sneakerbaas.com/collections/sneak...</td>\n      <td>[sneakerbaas]</td>\n    </tr>\n    <tr>\n      <th>zx 2k boost 2.0 white</th>\n      <td>[adidas]</td>\n      <td>[women-sneakers]</td>\n      <td>[[white]]</td>\n      <td>[data/raw/images/superkicks/women-sneakers/adi...</td>\n      <td>[8399.0]</td>\n      <td>[INR]</td>\n      <td>[https://www.superkicks.in/products/zx-2k-boos...</td>\n      <td>[superkicks]</td>\n    </tr>\n    <tr>\n      <th>zx 5020 crystal white</th>\n      <td>[adidas originals]</td>\n      <td>[category-men]</td>\n      <td>[[grey, pink, blue]]</td>\n      <td>[data/raw/images/sneakerbaas/category-men/adid...</td>\n      <td>[59.99]</td>\n      <td>[EUR]</td>\n      <td>[https://www.sneakerbaas.com/collections/sneak...</td>\n      <td>[sneakerbaas]</td>\n    </tr>\n  </tbody>\n</table>\n<p>3471 rows × 8 columns</p>\n</div>"
     },
     "execution_count": 10,
     "metadata": {},
     "output_type": "execute_result"
    }
   ],
   "source": [
    "merged_datasets.groupby(\"title\").agg({\n",
    "    \"brand\": list,\n",
    "    \"collection_name\": list,\n",
    "    \"color\": list,\n",
    "    \"images_path\": list,\n",
    "    \"price\": list,\n",
    "    \"pricecurrency\": list,\n",
    "    \"url\": list,\n",
    "    \"website\": list\n",
    "})"
   ],
   "metadata": {
    "collapsed": false,
    "ExecuteTime": {
     "end_time": "2023-11-11T14:45:24.789894410Z",
     "start_time": "2023-11-11T14:45:24.144636326Z"
    }
   }
  },
  {
   "cell_type": "code",
   "execution_count": null,
   "metadata": {},
   "outputs": [],
   "source": []
  }
 ],
 "metadata": {
  "kernelspec": {
   "display_name": "DS",
   "language": "python",
   "name": "python3"
  },
  "language_info": {
   "codemirror_mode": {
    "name": "ipython",
    "version": 3
   },
   "file_extension": ".py",
   "mimetype": "text/x-python",
   "name": "python",
   "nbconvert_exporter": "python",
   "pygments_lexer": "ipython3",
   "version": "3.9.16"
  }
 },
 "nbformat": 4,
 "nbformat_minor": 2
}
