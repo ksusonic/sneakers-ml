{
 "cells": [
  {
   "cell_type": "code",
   "execution_count": 1,
   "outputs": [],
   "source": [
    "# for PyCharm\n",
    "import os\n",
    "\n",
    "current_directory = os.getcwd()\n",
    "project_directory = os.path.abspath(os.path.join(current_directory, os.pardir, os.pardir))\n",
    "os.chdir(project_directory)"
   ],
   "metadata": {
    "collapsed": false,
    "ExecuteTime": {
     "end_time": "2023-11-12T11:18:19.966382528Z",
     "start_time": "2023-11-12T11:18:19.923330864Z"
    }
   }
  },
  {
   "cell_type": "code",
   "execution_count": 2,
   "metadata": {
    "ExecuteTime": {
     "end_time": "2023-11-12T11:18:20.239147380Z",
     "start_time": "2023-11-12T11:18:19.964955395Z"
    }
   },
   "outputs": [],
   "source": [
    "import os\n",
    "\n",
    "import pandas as pd\n",
    "from pathlib import Path\n",
    "import numpy as np\n",
    "from src.data.merger import SuperkicksFormatter, SneakerbaasFormatter, FootshopFormatter, HighsnobietyFormatter, \\\n",
    "    KickscrewFormatter, check_extra_symbols\n",
    "\n"
   ]
  },
  {
   "cell_type": "code",
   "execution_count": 3,
   "metadata": {
    "ExecuteTime": {
     "end_time": "2023-11-12T11:18:20.291339987Z",
     "start_time": "2023-11-12T11:18:20.235387345Z"
    }
   },
   "outputs": [
    {
     "data": {
      "text/plain": "['superkicks.csv',\n 'highsnobiety.csv',\n 'footshop.csv',\n 'kickscrew.csv',\n 'sneakerbaas.csv']"
     },
     "execution_count": 3,
     "metadata": {},
     "output_type": "execute_result"
    }
   ],
   "source": [
    "metadata_path = \"data/raw/metadata\"\n",
    "discovered_datasets = os.listdir(metadata_path)\n",
    "discovered_datasets"
   ]
  },
  {
   "cell_type": "code",
   "execution_count": 4,
   "metadata": {
    "ExecuteTime": {
     "end_time": "2023-11-12T11:18:20.320039513Z",
     "start_time": "2023-11-12T11:18:20.281532340Z"
    }
   },
   "outputs": [],
   "source": [
    "try:\n",
    "    datasets = {\n",
    "        source: pd.read_csv(str(Path(metadata_path, source))) for source in discovered_datasets\n",
    "    }\n",
    "    assert len(datasets) > 0\n",
    "except FileNotFoundError as err:\n",
    "    print(f\"Some dataset could not be resolved:\")\n",
    "    raise"
   ]
  },
  {
   "cell_type": "code",
   "execution_count": 5,
   "metadata": {
    "ExecuteTime": {
     "end_time": "2023-11-12T11:18:20.570740583Z",
     "start_time": "2023-11-12T11:18:20.319040366Z"
    }
   },
   "outputs": [
    {
     "name": "stdout",
     "output_type": "stream",
     "text": [
      "superkicks {')', '('}\n",
      "sneakerbaas {')', '('}\n",
      "footshop {')', '('}\n",
      "highsnobiety {')', '('}\n",
      "kickscrew {')', '('}\n"
     ]
    }
   ],
   "source": [
    "processed_datasets = {\n",
    "    \"superkicks\": SuperkicksFormatter(datasets[\"superkicks.csv\"]).format(),\n",
    "    \"sneakerbaas\": SneakerbaasFormatter(datasets[\"sneakerbaas.csv\"]).format(),\n",
    "    \"footshop\": FootshopFormatter(datasets[\"footshop.csv\"]).format(),\n",
    "    \"highsnobiety\": HighsnobietyFormatter(datasets[\"highsnobiety.csv\"]).format(),\n",
    "    \"kickscrew\": KickscrewFormatter(datasets[\"kickscrew.csv\"]).format(),\n",
    "}\n",
    "check_extra_symbols(processed_datasets)"
   ]
  },
  {
   "cell_type": "code",
   "execution_count": 6,
   "outputs": [
    {
     "name": "stdout",
     "output_type": "stream",
     "text": [
      "(1090, 9)\n",
      "(1005, 9)\n",
      "(4864, 9)\n",
      "(598, 7)\n",
      "(4900, 7)\n"
     ]
    }
   ],
   "source": [
    "for key, value in processed_datasets.items():\n",
    "    print(value.shape)"
   ],
   "metadata": {
    "collapsed": false,
    "ExecuteTime": {
     "end_time": "2023-11-12T11:18:21.188601786Z",
     "start_time": "2023-11-12T11:18:21.181390972Z"
    }
   }
  },
  {
   "cell_type": "code",
   "execution_count": 7,
   "metadata": {
    "ExecuteTime": {
     "end_time": "2023-11-12T11:18:22.051608898Z",
     "start_time": "2023-11-12T11:18:22.039887814Z"
    }
   },
   "outputs": [
    {
     "data": {
      "text/plain": "{'brand', 'images_path', 'price', 'pricecurrency', 'title', 'url', 'website'}"
     },
     "execution_count": 7,
     "metadata": {},
     "output_type": "execute_result"
    }
   ],
   "source": [
    "# same columns\n",
    "same_columns = set.intersection(*[set(processed_datasets[key].columns) for key in processed_datasets])\n",
    "same_columns\n",
    "# no colors and collection-name"
   ]
  },
  {
   "cell_type": "code",
   "execution_count": 8,
   "outputs": [
    {
     "data": {
      "text/plain": "          brand                                              title    price  \\\n0      converse                 wmns run star legacy cx periwinkle   8499.0   \n1      converse                     chuck taylor all star charcoal   4299.0   \n2          nike                   kd16 nrg ep pink foam pink white  14995.0   \n3        jordan  air jordan 1 retro high og black royal blue-wh...  16995.0   \n4          nike  blazer mid 77 premium summit white black-light...   7756.0   \n...         ...                                                ...      ...   \n12452    adidas         adidas ultraboost 1.0 shoes valentines day    123.0   \n12453    adidas  adidas originals ozweego shoes magic beige cla...    102.0   \n12454    adidas  adidas originals adilette slides off white bri...     56.0   \n12455    adidas    adidas originals forum low shoes white grey red     84.0   \n12456    adidas        adidas grand court 2.0 sneakers white black     67.0   \n\n      collection_name                                                url  \\\n0        men-sneakers  https://www.superkicks.in/products/wmns-run-st...   \n1        men-sneakers  https://www.superkicks.in/products/chuck-taylo...   \n2        men-sneakers  https://www.superkicks.in/products/kd16-nrg-ep...   \n3        men-sneakers  https://www.superkicks.in/products/air-jordan-...   \n4        men-sneakers  https://www.superkicks.in/products/blazer-mid-...   \n...               ...                                                ...   \n12452             NaN  https://www.kickscrew.com/products/adidas-ultr...   \n12453             NaN  https://www.kickscrew.com/products/adidas-orig...   \n12454             NaN  https://www.kickscrew.com/products/adidas-orig...   \n12455             NaN  https://www.kickscrew.com/products/adidas-orig...   \n12456             NaN  https://www.kickscrew.com/products/adidas-gran...   \n\n                                             images_path     website  \\\n0      data/raw/images/superkicks/men-sneakers/conver...  superkicks   \n1      data/raw/images/superkicks/men-sneakers/conver...  superkicks   \n2      data/raw/images/superkicks/men-sneakers/nike/k...  superkicks   \n3      data/raw/images/superkicks/men-sneakers/jordan...  superkicks   \n4      data/raw/images/superkicks/men-sneakers/nike/b...  superkicks   \n...                                                  ...         ...   \n12452  [data/raw/images/kickscrew/adidas/adidas-ultra...   kickscrew   \n12453  [data/raw/images/kickscrew/adidas/adidas-origi...   kickscrew   \n12454  [data/raw/images/kickscrew/adidas/adidas-origi...   kickscrew   \n12455  [data/raw/images/kickscrew/adidas/adidas-origi...   kickscrew   \n12456  [nan, data/raw/images/kickscrew/adidas/adidas-...   kickscrew   \n\n      pricecurrency                color  \n0               INR         [periwinkle]  \n1               INR           [charcoal]  \n2               INR  [pink, foam, white]  \n3               INR        [black, blue]  \n4               INR      [white, silver]  \n...             ...                  ...  \n12452           USD                  NaN  \n12453           USD                  NaN  \n12454           USD                  NaN  \n12455           USD                  NaN  \n12456           USD                  NaN  \n\n[12457 rows x 9 columns]",
      "text/html": "<div>\n<style scoped>\n    .dataframe tbody tr th:only-of-type {\n        vertical-align: middle;\n    }\n\n    .dataframe tbody tr th {\n        vertical-align: top;\n    }\n\n    .dataframe thead th {\n        text-align: right;\n    }\n</style>\n<table border=\"1\" class=\"dataframe\">\n  <thead>\n    <tr style=\"text-align: right;\">\n      <th></th>\n      <th>brand</th>\n      <th>title</th>\n      <th>price</th>\n      <th>collection_name</th>\n      <th>url</th>\n      <th>images_path</th>\n      <th>website</th>\n      <th>pricecurrency</th>\n      <th>color</th>\n    </tr>\n  </thead>\n  <tbody>\n    <tr>\n      <th>0</th>\n      <td>converse</td>\n      <td>wmns run star legacy cx periwinkle</td>\n      <td>8499.0</td>\n      <td>men-sneakers</td>\n      <td>https://www.superkicks.in/products/wmns-run-st...</td>\n      <td>data/raw/images/superkicks/men-sneakers/conver...</td>\n      <td>superkicks</td>\n      <td>INR</td>\n      <td>[periwinkle]</td>\n    </tr>\n    <tr>\n      <th>1</th>\n      <td>converse</td>\n      <td>chuck taylor all star charcoal</td>\n      <td>4299.0</td>\n      <td>men-sneakers</td>\n      <td>https://www.superkicks.in/products/chuck-taylo...</td>\n      <td>data/raw/images/superkicks/men-sneakers/conver...</td>\n      <td>superkicks</td>\n      <td>INR</td>\n      <td>[charcoal]</td>\n    </tr>\n    <tr>\n      <th>2</th>\n      <td>nike</td>\n      <td>kd16 nrg ep pink foam pink white</td>\n      <td>14995.0</td>\n      <td>men-sneakers</td>\n      <td>https://www.superkicks.in/products/kd16-nrg-ep...</td>\n      <td>data/raw/images/superkicks/men-sneakers/nike/k...</td>\n      <td>superkicks</td>\n      <td>INR</td>\n      <td>[pink, foam, white]</td>\n    </tr>\n    <tr>\n      <th>3</th>\n      <td>jordan</td>\n      <td>air jordan 1 retro high og black royal blue-wh...</td>\n      <td>16995.0</td>\n      <td>men-sneakers</td>\n      <td>https://www.superkicks.in/products/air-jordan-...</td>\n      <td>data/raw/images/superkicks/men-sneakers/jordan...</td>\n      <td>superkicks</td>\n      <td>INR</td>\n      <td>[black, blue]</td>\n    </tr>\n    <tr>\n      <th>4</th>\n      <td>nike</td>\n      <td>blazer mid 77 premium summit white black-light...</td>\n      <td>7756.0</td>\n      <td>men-sneakers</td>\n      <td>https://www.superkicks.in/products/blazer-mid-...</td>\n      <td>data/raw/images/superkicks/men-sneakers/nike/b...</td>\n      <td>superkicks</td>\n      <td>INR</td>\n      <td>[white, silver]</td>\n    </tr>\n    <tr>\n      <th>...</th>\n      <td>...</td>\n      <td>...</td>\n      <td>...</td>\n      <td>...</td>\n      <td>...</td>\n      <td>...</td>\n      <td>...</td>\n      <td>...</td>\n      <td>...</td>\n    </tr>\n    <tr>\n      <th>12452</th>\n      <td>adidas</td>\n      <td>adidas ultraboost 1.0 shoes valentines day</td>\n      <td>123.0</td>\n      <td>NaN</td>\n      <td>https://www.kickscrew.com/products/adidas-ultr...</td>\n      <td>[data/raw/images/kickscrew/adidas/adidas-ultra...</td>\n      <td>kickscrew</td>\n      <td>USD</td>\n      <td>NaN</td>\n    </tr>\n    <tr>\n      <th>12453</th>\n      <td>adidas</td>\n      <td>adidas originals ozweego shoes magic beige cla...</td>\n      <td>102.0</td>\n      <td>NaN</td>\n      <td>https://www.kickscrew.com/products/adidas-orig...</td>\n      <td>[data/raw/images/kickscrew/adidas/adidas-origi...</td>\n      <td>kickscrew</td>\n      <td>USD</td>\n      <td>NaN</td>\n    </tr>\n    <tr>\n      <th>12454</th>\n      <td>adidas</td>\n      <td>adidas originals adilette slides off white bri...</td>\n      <td>56.0</td>\n      <td>NaN</td>\n      <td>https://www.kickscrew.com/products/adidas-orig...</td>\n      <td>[data/raw/images/kickscrew/adidas/adidas-origi...</td>\n      <td>kickscrew</td>\n      <td>USD</td>\n      <td>NaN</td>\n    </tr>\n    <tr>\n      <th>12455</th>\n      <td>adidas</td>\n      <td>adidas originals forum low shoes white grey red</td>\n      <td>84.0</td>\n      <td>NaN</td>\n      <td>https://www.kickscrew.com/products/adidas-orig...</td>\n      <td>[data/raw/images/kickscrew/adidas/adidas-origi...</td>\n      <td>kickscrew</td>\n      <td>USD</td>\n      <td>NaN</td>\n    </tr>\n    <tr>\n      <th>12456</th>\n      <td>adidas</td>\n      <td>adidas grand court 2.0 sneakers white black</td>\n      <td>67.0</td>\n      <td>NaN</td>\n      <td>https://www.kickscrew.com/products/adidas-gran...</td>\n      <td>[nan, data/raw/images/kickscrew/adidas/adidas-...</td>\n      <td>kickscrew</td>\n      <td>USD</td>\n      <td>NaN</td>\n    </tr>\n  </tbody>\n</table>\n<p>12457 rows × 9 columns</p>\n</div>"
     },
     "execution_count": 8,
     "metadata": {},
     "output_type": "execute_result"
    }
   ],
   "source": [
    "merged_datasets = pd.concat(list(processed_datasets.values()), ignore_index=True)\n",
    "merged_datasets"
   ],
   "metadata": {
    "collapsed": false,
    "ExecuteTime": {
     "end_time": "2023-11-12T11:18:23.422092647Z",
     "start_time": "2023-11-12T11:18:23.398548583Z"
    }
   }
  },
  {
   "cell_type": "code",
   "execution_count": 19,
   "outputs": [
    {
     "data": {
      "text/plain": "                                                  title               brand  \\\n0     (gs) adidas predator edge.3 multi-ground boots...            [adidas]   \n1                 (gs) adidas superstar xlg whote black            [adidas]   \n2                (gs) adidas ultra boost 22 magic mauve            [adidas]   \n3                (gs) adidas ultraboost 22 triple black            [adidas]   \n4                        (gs) air jordan 1 low aquatone        [Air Jordan]   \n...                                                 ...                 ...   \n8939  zoom vomero 5 sp anthracite anthracite-black-w...              [nike]   \n8940    zoom vomero 5 sp vast grey vast grey-black-sail              [nike]   \n8941                            zx 22 boost cream white  [adidas originals]   \n8942                              zx 2k boost 2.0 white            [adidas]   \n8943                              zx 5020 crystal white  [adidas originals]   \n\n       collection_name                 color  \\\n0                [nan]                 [nan]   \n1                [nan]                 [nan]   \n2                [nan]                 [nan]   \n3                [nan]                 [nan]   \n4                [nan]                 [nan]   \n...                ...                   ...   \n8939    [men-sneakers]              [[grey]]   \n8940    [men-sneakers]              [[grey]]   \n8941    [category-men]             [[beige]]   \n8942  [women-sneakers]             [[white]]   \n8943    [category-men]  [[grey, pink, blue]]   \n\n                                            images_path      price  \\\n0     [[data/raw/images/kickscrew/adidas/adidas-pred...    [105.0]   \n1     [[data/raw/images/kickscrew/adidas/gs-adidas-s...     [75.0]   \n2     [[data/raw/images/kickscrew/adidas/gs-adidas-u...    [111.0]   \n3     [[data/raw/images/kickscrew/adidas/gs-adidas-u...    [199.0]   \n4     [[data/raw/images/kickscrew/Air Jordan/gs-air-...    [100.0]   \n...                                                 ...        ...   \n8939  [data/raw/images/superkicks/men-sneakers/nike/...  [14995.0]   \n8940  [data/raw/images/superkicks/men-sneakers/nike/...  [14995.0]   \n8941  [data/raw/images/sneakerbaas/category-men/adid...    [59.99]   \n8942  [data/raw/images/superkicks/women-sneakers/adi...   [8399.0]   \n8943  [data/raw/images/sneakerbaas/category-men/adid...    [59.99]   \n\n     pricecurrency                                                url  \\\n0            [USD]  [https://www.kickscrew.com/products/adidas-pre...   \n1            [USD]  [https://www.kickscrew.com/products/gs-adidas-...   \n2            [USD]  [https://www.kickscrew.com/products/gs-adidas-...   \n3            [USD]  [https://www.kickscrew.com/products/gs-adidas-...   \n4            [USD]  [https://www.kickscrew.com/products/gs-air-jor...   \n...            ...                                                ...   \n8939         [INR]  [https://www.superkicks.in/products/zoom-vomer...   \n8940         [INR]  [https://www.superkicks.in/products/zoom-vomer...   \n8941         [EUR]  [https://www.sneakerbaas.com/collections/sneak...   \n8942         [INR]  [https://www.superkicks.in/products/zx-2k-boos...   \n8943         [EUR]  [https://www.sneakerbaas.com/collections/sneak...   \n\n            website  \n0       [kickscrew]  \n1       [kickscrew]  \n2       [kickscrew]  \n3       [kickscrew]  \n4       [kickscrew]  \n...             ...  \n8939   [superkicks]  \n8940   [superkicks]  \n8941  [sneakerbaas]  \n8942   [superkicks]  \n8943  [sneakerbaas]  \n\n[8944 rows x 9 columns]",
      "text/html": "<div>\n<style scoped>\n    .dataframe tbody tr th:only-of-type {\n        vertical-align: middle;\n    }\n\n    .dataframe tbody tr th {\n        vertical-align: top;\n    }\n\n    .dataframe thead th {\n        text-align: right;\n    }\n</style>\n<table border=\"1\" class=\"dataframe\">\n  <thead>\n    <tr style=\"text-align: right;\">\n      <th></th>\n      <th>title</th>\n      <th>brand</th>\n      <th>collection_name</th>\n      <th>color</th>\n      <th>images_path</th>\n      <th>price</th>\n      <th>pricecurrency</th>\n      <th>url</th>\n      <th>website</th>\n    </tr>\n  </thead>\n  <tbody>\n    <tr>\n      <th>0</th>\n      <td>(gs) adidas predator edge.3 multi-ground boots...</td>\n      <td>[adidas]</td>\n      <td>[nan]</td>\n      <td>[nan]</td>\n      <td>[[data/raw/images/kickscrew/adidas/adidas-pred...</td>\n      <td>[105.0]</td>\n      <td>[USD]</td>\n      <td>[https://www.kickscrew.com/products/adidas-pre...</td>\n      <td>[kickscrew]</td>\n    </tr>\n    <tr>\n      <th>1</th>\n      <td>(gs) adidas superstar xlg whote black</td>\n      <td>[adidas]</td>\n      <td>[nan]</td>\n      <td>[nan]</td>\n      <td>[[data/raw/images/kickscrew/adidas/gs-adidas-s...</td>\n      <td>[75.0]</td>\n      <td>[USD]</td>\n      <td>[https://www.kickscrew.com/products/gs-adidas-...</td>\n      <td>[kickscrew]</td>\n    </tr>\n    <tr>\n      <th>2</th>\n      <td>(gs) adidas ultra boost 22 magic mauve</td>\n      <td>[adidas]</td>\n      <td>[nan]</td>\n      <td>[nan]</td>\n      <td>[[data/raw/images/kickscrew/adidas/gs-adidas-u...</td>\n      <td>[111.0]</td>\n      <td>[USD]</td>\n      <td>[https://www.kickscrew.com/products/gs-adidas-...</td>\n      <td>[kickscrew]</td>\n    </tr>\n    <tr>\n      <th>3</th>\n      <td>(gs) adidas ultraboost 22 triple black</td>\n      <td>[adidas]</td>\n      <td>[nan]</td>\n      <td>[nan]</td>\n      <td>[[data/raw/images/kickscrew/adidas/gs-adidas-u...</td>\n      <td>[199.0]</td>\n      <td>[USD]</td>\n      <td>[https://www.kickscrew.com/products/gs-adidas-...</td>\n      <td>[kickscrew]</td>\n    </tr>\n    <tr>\n      <th>4</th>\n      <td>(gs) air jordan 1 low aquatone</td>\n      <td>[Air Jordan]</td>\n      <td>[nan]</td>\n      <td>[nan]</td>\n      <td>[[data/raw/images/kickscrew/Air Jordan/gs-air-...</td>\n      <td>[100.0]</td>\n      <td>[USD]</td>\n      <td>[https://www.kickscrew.com/products/gs-air-jor...</td>\n      <td>[kickscrew]</td>\n    </tr>\n    <tr>\n      <th>...</th>\n      <td>...</td>\n      <td>...</td>\n      <td>...</td>\n      <td>...</td>\n      <td>...</td>\n      <td>...</td>\n      <td>...</td>\n      <td>...</td>\n      <td>...</td>\n    </tr>\n    <tr>\n      <th>8939</th>\n      <td>zoom vomero 5 sp anthracite anthracite-black-w...</td>\n      <td>[nike]</td>\n      <td>[men-sneakers]</td>\n      <td>[[grey]]</td>\n      <td>[data/raw/images/superkicks/men-sneakers/nike/...</td>\n      <td>[14995.0]</td>\n      <td>[INR]</td>\n      <td>[https://www.superkicks.in/products/zoom-vomer...</td>\n      <td>[superkicks]</td>\n    </tr>\n    <tr>\n      <th>8940</th>\n      <td>zoom vomero 5 sp vast grey vast grey-black-sail</td>\n      <td>[nike]</td>\n      <td>[men-sneakers]</td>\n      <td>[[grey]]</td>\n      <td>[data/raw/images/superkicks/men-sneakers/nike/...</td>\n      <td>[14995.0]</td>\n      <td>[INR]</td>\n      <td>[https://www.superkicks.in/products/zoom-vomer...</td>\n      <td>[superkicks]</td>\n    </tr>\n    <tr>\n      <th>8941</th>\n      <td>zx 22 boost cream white</td>\n      <td>[adidas originals]</td>\n      <td>[category-men]</td>\n      <td>[[beige]]</td>\n      <td>[data/raw/images/sneakerbaas/category-men/adid...</td>\n      <td>[59.99]</td>\n      <td>[EUR]</td>\n      <td>[https://www.sneakerbaas.com/collections/sneak...</td>\n      <td>[sneakerbaas]</td>\n    </tr>\n    <tr>\n      <th>8942</th>\n      <td>zx 2k boost 2.0 white</td>\n      <td>[adidas]</td>\n      <td>[women-sneakers]</td>\n      <td>[[white]]</td>\n      <td>[data/raw/images/superkicks/women-sneakers/adi...</td>\n      <td>[8399.0]</td>\n      <td>[INR]</td>\n      <td>[https://www.superkicks.in/products/zx-2k-boos...</td>\n      <td>[superkicks]</td>\n    </tr>\n    <tr>\n      <th>8943</th>\n      <td>zx 5020 crystal white</td>\n      <td>[adidas originals]</td>\n      <td>[category-men]</td>\n      <td>[[grey, pink, blue]]</td>\n      <td>[data/raw/images/sneakerbaas/category-men/adid...</td>\n      <td>[59.99]</td>\n      <td>[EUR]</td>\n      <td>[https://www.sneakerbaas.com/collections/sneak...</td>\n      <td>[sneakerbaas]</td>\n    </tr>\n  </tbody>\n</table>\n<p>8944 rows × 9 columns</p>\n</div>"
     },
     "execution_count": 19,
     "metadata": {},
     "output_type": "execute_result"
    }
   ],
   "source": [
    "# group by по названиям, если все названия будут одинаковые, то все дублирующие кроссы сложатся в одно.\n",
    "test = merged_datasets.groupby(\"title\").agg({\n",
    "    \"brand\": list,\n",
    "    \"collection_name\": list,\n",
    "    \"color\": list,\n",
    "    \"images_path\": list,\n",
    "    \"price\": list,\n",
    "    \"pricecurrency\": list,\n",
    "    \"url\": list,\n",
    "    \"website\": list\n",
    "}).reset_index().sort_values(by=\"title\")\n",
    "test"
   ],
   "metadata": {
    "collapsed": false,
    "ExecuteTime": {
     "end_time": "2023-11-12T11:16:47.726892645Z",
     "start_time": "2023-11-12T11:16:46.028480256Z"
    }
   }
  },
  {
   "cell_type": "code",
   "execution_count": 11,
   "outputs": [
    {
     "name": "stdout",
     "output_type": "stream",
     "text": [
      "(12457, 9)\n",
      "(8944, 9)\n"
     ]
    }
   ],
   "source": [
    "# sizes\n",
    "print(merged_datasets.shape)\n",
    "print(test.shape)"
   ],
   "metadata": {
    "collapsed": false,
    "ExecuteTime": {
     "end_time": "2023-11-12T11:12:16.709686393Z",
     "start_time": "2023-11-12T11:12:16.659392814Z"
    }
   }
  },
  {
   "cell_type": "code",
   "execution_count": 12,
   "outputs": [],
   "source": [
    "titles = test[\"title\"].tolist()"
   ],
   "metadata": {
    "collapsed": false,
    "ExecuteTime": {
     "end_time": "2023-11-12T11:12:25.793790599Z",
     "start_time": "2023-11-12T11:12:25.777661487Z"
    }
   }
  },
  {
   "cell_type": "code",
   "execution_count": 13,
   "outputs": [
    {
     "name": "stdout",
     "output_type": "stream",
     "text": [
      "\r\n",
      "\u001B[1m[\u001B[0m\u001B[34;49mnotice\u001B[0m\u001B[1;39;49m]\u001B[0m\u001B[39;49m A new release of pip is available: \u001B[0m\u001B[31;49m23.2.1\u001B[0m\u001B[39;49m -> \u001B[0m\u001B[32;49m23.3.1\u001B[0m\r\n",
      "\u001B[1m[\u001B[0m\u001B[34;49mnotice\u001B[0m\u001B[1;39;49m]\u001B[0m\u001B[39;49m To update, run: \u001B[0m\u001B[32;49mpip install --upgrade pip\u001B[0m\r\n"
     ]
    }
   ],
   "source": [
    "!pip install thefuzz -q"
   ],
   "metadata": {
    "collapsed": false,
    "ExecuteTime": {
     "end_time": "2023-11-12T11:12:34.990091170Z",
     "start_time": "2023-11-12T11:12:27.066314824Z"
    }
   }
  },
  {
   "cell_type": "code",
   "execution_count": 17,
   "outputs": [
    {
     "data": {
      "text/plain": "[('vans - ua authentic vr3 pw lx beige', 70),\n ('vans vault og authentic frayed lx', 70),\n ('vans vault og authentic lx (canvas)', 70),\n ('authentic los vans', 71),\n ('vans - ua og authentic lx suede brown', 71),\n ('vans - ua og authentic lx suede olive', 71),\n ('vans og authentic lx navy', 73),\n ('vans authentic sneaker yellow', 78),\n ('vans vault og authentic lx', 79),\n ('vans - ua og authentic lx suede yellow', 91)]"
     },
     "execution_count": 17,
     "metadata": {},
     "output_type": "execute_result"
    }
   ],
   "source": [
    "from thefuzz import fuzz\n",
    "\n",
    "def similarity(string1, string2):\n",
    "    return fuzz.token_sort_ratio(string1, string2)\n",
    "\n",
    "title = \"vans - ua og authentic lx yellow\"\n",
    "\n",
    "similarities = []\n",
    "for text in titles:\n",
    "    similarities.append((text, similarity(title, text)))\n",
    "\n",
    "similarities.sort(key=lambda x: x[1])\n",
    "similarities[-10:]"
   ],
   "metadata": {
    "collapsed": false,
    "ExecuteTime": {
     "end_time": "2023-11-12T11:14:59.752453165Z",
     "start_time": "2023-11-12T11:14:59.643103485Z"
    }
   }
  },
  {
   "cell_type": "code",
   "execution_count": 18,
   "outputs": [],
   "source": [
    "# эта тема лучше всего находит похожие, но она хуёвит, когда в названии цвета есть, потому что\n",
    "# у кроссов очень часто совпадают цвета."
   ],
   "metadata": {
    "collapsed": false,
    "ExecuteTime": {
     "end_time": "2023-11-12T11:15:38.161794367Z",
     "start_time": "2023-11-12T11:15:38.121189651Z"
    }
   }
  },
  {
   "cell_type": "code",
   "execution_count": null,
   "outputs": [],
   "source": [],
   "metadata": {
    "collapsed": false
   }
  }
 ],
 "metadata": {
  "kernelspec": {
   "display_name": "DS",
   "language": "python",
   "name": "python3"
  },
  "language_info": {
   "codemirror_mode": {
    "name": "ipython",
    "version": 3
   },
   "file_extension": ".py",
   "mimetype": "text/x-python",
   "name": "python",
   "nbconvert_exporter": "python",
   "pygments_lexer": "ipython3",
   "version": "3.9.16"
  }
 },
 "nbformat": 4,
 "nbformat_minor": 2
}
