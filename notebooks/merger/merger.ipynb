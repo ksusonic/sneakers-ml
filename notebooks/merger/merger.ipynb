{
 "cells": [
  {
   "cell_type": "code",
   "execution_count": 1,
   "outputs": [],
   "source": [
    "# for PyCharm\n",
    "import os\n",
    "\n",
    "import numpy as np\n",
    "\n",
    "current_directory = os.getcwd()\n",
    "project_directory = os.path.abspath(os.path.join(current_directory, os.pardir, os.pardir))\n",
    "os.chdir(project_directory)"
   ],
   "metadata": {
    "collapsed": false,
    "ExecuteTime": {
     "end_time": "2023-12-01T19:05:13.145476689Z",
     "start_time": "2023-12-01T19:05:13.141292727Z"
    }
   }
  },
  {
   "cell_type": "code",
   "execution_count": 2,
   "metadata": {
    "ExecuteTime": {
     "end_time": "2023-12-01T19:05:13.290305413Z",
     "start_time": "2023-12-01T19:05:13.146263657Z"
    }
   },
   "outputs": [
    {
     "name": "stdout",
     "output_type": "stream",
     "text": [
      "INFO: Pandarallel will run on 8 workers.\n",
      "INFO: Pandarallel will use Memory file system to transfer data between the main process and workers.\n"
     ]
    }
   ],
   "source": [
    "\n",
    "from pathlib import Path\n",
    "import shutil\n",
    "\n",
    "from src.data.merger import Merger"
   ]
  },
  {
   "cell_type": "code",
   "execution_count": 3,
   "outputs": [
    {
     "name": "stdout",
     "output_type": "stream",
     "text": [
      "superkicks columns Index(['brand', 'title', 'price', 'collection_name', 'url', 'images_path',\n",
      "       'website', 'pricecurrency', 'title_without_color', 'color',\n",
      "       'title_merge', 'brand_merge'],\n",
      "      dtype='object') size (1141, 12)\n",
      "sneakerbaas columns Index(['brand', 'pricecurrency', 'price', 'title', 'collection_name', 'url',\n",
      "       'images_path', 'website', 'title_without_color', 'color', 'title_merge',\n",
      "       'brand_merge'],\n",
      "      dtype='object') size (926, 12)\n",
      "footshop columns Index(['brand', 'title', 'color', 'pricecurrency', 'price', 'collection_name',\n",
      "       'url', 'images_path', 'website', 'title_without_color', 'title_merge',\n",
      "       'brand_merge'],\n",
      "      dtype='object') size (4852, 12)\n",
      "kickscrew columns Index(['url', 'brand', 'pricecurrency', 'price', 'title', 'website',\n",
      "       'images_path', 'title_without_color', 'color', 'title_merge',\n",
      "       'brand_merge'],\n",
      "      dtype='object') size (4900, 11)\n",
      "{'superkicks': [\"'\", '\"', '+', '(', ')', '.', '#'], 'sneakerbaas': ['\"', \"'\", '.', '(', ')', '+'], 'footshop': [\"'\", '\"', '.', '®', '*', '™', '+', '(', ')', '?', ',', ':', '.', '®', \"'\", '*'], 'kickscrew': [\"'\", '(', ')', '.', ':', '%', '+', '?', '*', ',', '#', '!', ';', '=', '~', '.']}\n",
      "11819 -> 4916\n"
     ]
    },
    {
     "data": {
      "text/plain": "  0%|          | 0/93 [00:00<?, ?it/s]",
      "application/vnd.jupyter.widget-view+json": {
       "version_major": 2,
       "version_minor": 0,
       "model_id": "c816793fd9b9483f86d1cce4910e4165"
      }
     },
     "metadata": {},
     "output_type": "display_data"
    },
    {
     "data": {
      "text/plain": "  0%|          | 0/4916 [00:00<?, ?it/s]",
      "application/vnd.jupyter.widget-view+json": {
       "version_major": 2,
       "version_minor": 0,
       "model_id": "17688818b2004dacad235a0443d10361"
      }
     },
     "metadata": {},
     "output_type": "display_data"
    },
    {
     "data": {
      "text/plain": "  0%|          | 0/4916 [00:00<?, ?it/s]",
      "application/vnd.jupyter.widget-view+json": {
       "version_major": 2,
       "version_minor": 0,
       "model_id": "e6bf82d57ad84fbf8846b40b3e5a5f60"
      }
     },
     "metadata": {},
     "output_type": "display_data"
    },
    {
     "data": {
      "text/plain": "(             title_merge       brand_merge  \\\n 0                 01 low             autry   \n 1               01 low m             autry   \n 2             01 low man             autry   \n 3               01 low w             autry   \n 4             01 low wom             autry   \n ...                  ...               ...   \n 4911             zx 8000  adidas originals   \n 4912  zx 8000 minimalist  adidas originals   \n 4913           zx 9020 w  adidas originals   \n 4914        zx flux slip            adidas   \n 4915         zx w wavian  adidas originals   \n \n                                             images_path  \n 0     [data/raw/images/sneakerbaas/category-men/autr...  \n 1     [data/raw/images/sneakerbaas/category-men/autr...  \n 2     [data/raw/images/sneakerbaas/category-men/autr...  \n 3     [data/raw/images/sneakerbaas/category-women/au...  \n 4     [data/raw/images/sneakerbaas/category-women/au...  \n ...                                                 ...  \n 4911  [data/raw/images/footshop/5-mens-shoes/adidas-...  \n 4912  [data/raw/images/footshop/5-mens-shoes/adidas-...  \n 4913  [data/raw/images/footshop/6-womens-shoes/adida...  \n 4914  [data/raw/images/kickscrew/adidas/adidas-origi...  \n 4915  [data/raw/images/footshop/6-womens-shoes/adida...  \n \n [4916 rows x 3 columns],\n              title_merge       brand_merge  \\\n 0                 01 low             autry   \n 1               01 low m             autry   \n 2             01 low man             autry   \n 3               01 low w             autry   \n 4             01 low wom             autry   \n ...                  ...               ...   \n 4911             zx 8000  adidas originals   \n 4912  zx 8000 minimalist  adidas originals   \n 4913           zx 9020 w  adidas originals   \n 4914        zx flux slip            adidas   \n 4915         zx w wavian  adidas originals   \n \n                                             images_path  \\\n 0     [data/raw/images/sneakerbaas/category-men/autr...   \n 1     [data/raw/images/sneakerbaas/category-men/autr...   \n 2     [data/raw/images/sneakerbaas/category-men/autr...   \n 3     [data/raw/images/sneakerbaas/category-women/au...   \n 4     [data/raw/images/sneakerbaas/category-women/au...   \n ...                                                 ...   \n 4911  [data/raw/images/footshop/5-mens-shoes/adidas-...   \n 4912  [data/raw/images/footshop/5-mens-shoes/adidas-...   \n 4913  [data/raw/images/footshop/6-womens-shoes/adida...   \n 4914  [data/raw/images/kickscrew/adidas/adidas-origi...   \n 4915  [data/raw/images/footshop/6-womens-shoes/adida...   \n \n                                                   title  \\\n 0                    [01 Low \"White\", 01 Low \"Mustard\"]   \n 1     [01 LOW M \"BI EDEN\", 01 LOW M \"BI VIOLET\", 01 ...   \n 2                    [AUTRY 01 LOW MAN \"LEAT/LEAT RED\"]   \n 3     [01 LOW W \"SALTWATER\", 01 LOW W \"WHT/CORAL\", 0...   \n 4                             [01 LOW WOM \"WHT/PETROL\"]   \n ...                                                 ...   \n 4911                   [adidas ZX 8000, adidas ZX 8000]   \n 4912                        [adidas ZX 8000 Minimalist]   \n 4913                                 [adidas ZX 9020 W]   \n 4914  [adidas originals ZX Flux Slip 'Solar Yellow R...   \n 4915                               [adidas ZX W Wavian]   \n \n                            title_without_color  \\\n 0                             [01 Low, 01 Low]   \n 1               [01 LOW M, 01 LOW M, 01 LOW M]   \n 2                           [AUTRY 01 LOW MAN]   \n 3     [01 LOW W, 01 LOW W, 01 LOW W, 01 LOW W]   \n 4                                 [01 LOW WOM]   \n ...                                        ...   \n 4911          [adidas ZX 8000, adidas ZX 8000]   \n 4912               [adidas ZX 8000 Minimalist]   \n 4913                        [adidas ZX 9020 W]   \n 4914           [adidas originals ZX Flux Slip]   \n 4915                      [adidas ZX W Wavian]   \n \n                                      brand  \\\n 0                           [Autry, Autry]   \n 1                    [Autry, Autry, Autry]   \n 2                                  [Autry]   \n 3             [Autry, Autry, Autry, Autry]   \n 4                                  [Autry]   \n ...                                    ...   \n 4911  [adidas Originals, adidas Originals]   \n 4912                    [adidas Originals]   \n 4913                    [adidas Originals]   \n 4914                              [adidas]   \n 4915                    [adidas Originals]   \n \n                                         collection_name  \\\n 0                        [category-women, category-men]   \n 1            [category-men, category-men, category-men]   \n 2                                        [category-men]   \n 3     [category-women, category-women, category-wome...   \n 4                                      [category-women]   \n ...                                                 ...   \n 4911                       [5-mens-shoes, 5-mens-shoes]   \n 4912                                     [5-mens-shoes]   \n 4913                                   [6-womens-shoes]   \n 4914                                              [nan]   \n 4915                                   [6-womens-shoes]   \n \n                                                   color  \\\n 0                                      [White, Mustard]   \n 1                           [BI EDEN, BI VIOLET, BLACK]   \n 2                                       [LEAT/LEAT RED]   \n 3              [SALTWATER, WHT/CORAL, BI POW, BI IVORY]   \n 4                                          [WHT/PETROL]   \n ...                                                 ...   \n 4911  [[sky tint, core white], [ice mint, trace pink...   \n 4912                 [[ftw white, grey two, ftw white]]   \n 4913            [[cloud white, core white, glory mint]]   \n 4914                                 [Solar Yellow Red]   \n 4915                     [[savanna, sand, cloud white]]   \n \n                                  price         pricecurrency  \\\n 0                     [129.99, 149.99]            [EUR, EUR]   \n 1             [149.99, 149.99, 149.99]       [EUR, EUR, EUR]   \n 2                             [149.99]                 [EUR]   \n 3     [149.99, 149.99, 149.99, 149.99]  [EUR, EUR, EUR, EUR]   \n 4                             [149.99]                 [EUR]   \n ...                                ...                   ...   \n 4911                  [169.96, 149.97]            [EUR, EUR]   \n 4912                            [82.5]                 [EUR]   \n 4913                           [83.26]                 [EUR]   \n 4914                           [212.0]                 [USD]   \n 4915                           [108.0]                 [EUR]   \n \n                                                     url  \\\n 0     [https://www.sneakerbaas.com/collections/sneak...   \n 1     [https://www.sneakerbaas.com/collections/sneak...   \n 2     [https://www.sneakerbaas.com/collections/sneak...   \n 3     [https://www.sneakerbaas.com/collections/sneak...   \n 4     [https://www.sneakerbaas.com/collections/sneak...   \n ...                                                 ...   \n 4911  [https://www.footshop.eu/en/mens-shoes/257950-...   \n 4912  [https://www.footshop.eu/en/mens-shoes/102730-...   \n 4913  [https://www.footshop.eu/en/womens-shoes/25753...   \n 4914  [https://www.kickscrew.com/products/adidas-ori...   \n 4915  [https://www.footshop.eu/en/womens-shoes/22524...   \n \n                                                 website  \\\n 0                            [sneakerbaas, sneakerbaas]   \n 1               [sneakerbaas, sneakerbaas, sneakerbaas]   \n 2                                         [sneakerbaas]   \n 3     [sneakerbaas, sneakerbaas, sneakerbaas, sneake...   \n 4                                         [sneakerbaas]   \n ...                                                 ...   \n 4911                               [footshop, footshop]   \n 4912                                         [footshop]   \n 4913                                         [footshop]   \n 4914                                        [kickscrew]   \n 4915                                         [footshop]   \n \n                                     images_path_unclean  \n 0     [data/raw/images/sneakerbaas/category-women/au...  \n 1     [data/raw/images/sneakerbaas/category-men/autr...  \n 2     [data/raw/images/sneakerbaas/category-men/autr...  \n 3     [data/raw/images/sneakerbaas/category-women/au...  \n 4     [data/raw/images/sneakerbaas/category-women/au...  \n ...                                                 ...  \n 4911  [data/raw/images/footshop/5-mens-shoes/adidas-...  \n 4912  [data/raw/images/footshop/5-mens-shoes/adidas-...  \n 4913  [data/raw/images/footshop/6-womens-shoes/adida...  \n 4914  [[data/raw/images/kickscrew/adidas/adidas-orig...  \n 4915  [data/raw/images/footshop/6-womens-shoes/adida...  \n \n [4916 rows x 13 columns])"
     },
     "execution_count": 3,
     "metadata": {},
     "output_type": "execute_result"
    }
   ],
   "source": [
    "Merger().merge()"
   ],
   "metadata": {
    "collapsed": false,
    "ExecuteTime": {
     "end_time": "2023-11-27T21:27:14.810323390Z",
     "start_time": "2023-11-27T20:45:01.790830870Z"
    }
   }
  },
  {
   "cell_type": "code",
   "execution_count": 3,
   "outputs": [],
   "source": [
    "# datasets = Merger().get_formatted()\n",
    "# for key, value in datasets.items():\n",
    "#     print(value.shape)\n",
    "# same_columns = set.intersection(*[set(datasets[key].columns) for key in datasets])\n",
    "# print(same_columns)\n",
    "# Merger.check_extra_symbols(datasets, columns=[\"brand\", \"title\"])"
   ],
   "metadata": {
    "collapsed": false,
    "ExecuteTime": {
     "end_time": "2023-11-23T15:13:19.004296531Z",
     "start_time": "2023-11-23T15:13:18.996575535Z"
    }
   }
  },
  {
   "cell_type": "code",
   "execution_count": 4,
   "outputs": [
    {
     "name": "stdout",
     "output_type": "stream",
     "text": [
      "superkicks columns Index(['brand', 'title', 'price', 'collection_name', 'url', 'images_path',\n",
      "       'website', 'pricecurrency', 'title_without_color', 'color',\n",
      "       'title_merge', 'brand_merge'],\n",
      "      dtype='object') size (1141, 12)\n",
      "sneakerbaas columns Index(['brand', 'pricecurrency', 'price', 'title', 'collection_name', 'url',\n",
      "       'images_path', 'website', 'title_without_color', 'color', 'title_merge',\n",
      "       'brand_merge'],\n",
      "      dtype='object') size (926, 12)\n",
      "footshop columns Index(['brand', 'title', 'color', 'pricecurrency', 'price', 'collection_name',\n",
      "       'url', 'images_path', 'website', 'title_without_color', 'title_merge',\n",
      "       'brand_merge'],\n",
      "      dtype='object') size (4852, 12)\n",
      "kickscrew columns Index(['url', 'brand', 'pricecurrency', 'price', 'title', 'website',\n",
      "       'images_path', 'title_without_color', 'color', 'title_merge',\n",
      "       'brand_merge'],\n",
      "      dtype='object') size (4900, 11)\n",
      "{'superkicks': [\"'\", '\"', '+', '(', ')', '.', '#'], 'sneakerbaas': ['\"', \"'\", '.', '(', ')', '+'], 'footshop': [\"'\", '\"', '.', '®', '*', '™', '+', '(', ')', '?', ',', ':', '.', '®', \"'\", '*'], 'kickscrew': [\"'\", '(', ')', '.', ':', '%', '+', '?', '*', ',', '#', '!', ';', '=', '~', '.']}\n",
      "11819 -> 4916\n",
      "(4916, 3)\n",
      "(4916, 13)\n"
     ]
    }
   ],
   "source": [
    "merged_essentials, merged_dataset = Merger().get_merged_dataset()\n",
    "print(merged_essentials.shape)\n",
    "print(merged_dataset.shape)"
   ],
   "metadata": {
    "collapsed": false,
    "ExecuteTime": {
     "end_time": "2023-11-27T20:44:31.559210579Z",
     "start_time": "2023-11-27T20:44:19.882974026Z"
    }
   }
  },
  {
   "cell_type": "code",
   "execution_count": 6,
   "outputs": [
    {
     "data": {
      "text/plain": "           brand_merge                                        images_path\n0          361 degrees  [data/raw/images/kickscrew/361 Degrees/361-deg...\n1          a cold wall  [data/raw/images/footshop/5-mens-shoes/acoldwa...\n2               adidas  [data/raw/images/kickscrew/adidas/adidas-samba...\n3     adidas originals  [data/raw/images/footshop/5-mens-shoes/adidas-...\n4   adidas performance  [data/raw/images/footshop/5-mens-shoes/adidas-...\n..                 ...                                                ...\n88                vans  [data/raw/images/kickscrew/Vans/vans-sk8-hi-sn...\n89          vans vault  [data/raw/images/footshop/6-womens-shoes/vans-...\n90                veja  [data/raw/images/sneakerbaas/category-women/ve...\n91             warrior  [data/raw/images/sneakerbaas/category-unisex/w...\n92                 y 3  [data/raw/images/footshop/5-mens-shoes/y3/y3-i...\n\n[93 rows x 2 columns]",
      "text/html": "<div>\n<style scoped>\n    .dataframe tbody tr th:only-of-type {\n        vertical-align: middle;\n    }\n\n    .dataframe tbody tr th {\n        vertical-align: top;\n    }\n\n    .dataframe thead th {\n        text-align: right;\n    }\n</style>\n<table border=\"1\" class=\"dataframe\">\n  <thead>\n    <tr style=\"text-align: right;\">\n      <th></th>\n      <th>brand_merge</th>\n      <th>images_path</th>\n    </tr>\n  </thead>\n  <tbody>\n    <tr>\n      <th>0</th>\n      <td>361 degrees</td>\n      <td>[data/raw/images/kickscrew/361 Degrees/361-deg...</td>\n    </tr>\n    <tr>\n      <th>1</th>\n      <td>a cold wall</td>\n      <td>[data/raw/images/footshop/5-mens-shoes/acoldwa...</td>\n    </tr>\n    <tr>\n      <th>2</th>\n      <td>adidas</td>\n      <td>[data/raw/images/kickscrew/adidas/adidas-samba...</td>\n    </tr>\n    <tr>\n      <th>3</th>\n      <td>adidas originals</td>\n      <td>[data/raw/images/footshop/5-mens-shoes/adidas-...</td>\n    </tr>\n    <tr>\n      <th>4</th>\n      <td>adidas performance</td>\n      <td>[data/raw/images/footshop/5-mens-shoes/adidas-...</td>\n    </tr>\n    <tr>\n      <th>...</th>\n      <td>...</td>\n      <td>...</td>\n    </tr>\n    <tr>\n      <th>88</th>\n      <td>vans</td>\n      <td>[data/raw/images/kickscrew/Vans/vans-sk8-hi-sn...</td>\n    </tr>\n    <tr>\n      <th>89</th>\n      <td>vans vault</td>\n      <td>[data/raw/images/footshop/6-womens-shoes/vans-...</td>\n    </tr>\n    <tr>\n      <th>90</th>\n      <td>veja</td>\n      <td>[data/raw/images/sneakerbaas/category-women/ve...</td>\n    </tr>\n    <tr>\n      <th>91</th>\n      <td>warrior</td>\n      <td>[data/raw/images/sneakerbaas/category-unisex/w...</td>\n    </tr>\n    <tr>\n      <th>92</th>\n      <td>y 3</td>\n      <td>[data/raw/images/footshop/5-mens-shoes/y3/y3-i...</td>\n    </tr>\n  </tbody>\n</table>\n<p>93 rows × 2 columns</p>\n</div>"
     },
     "execution_count": 6,
     "metadata": {},
     "output_type": "execute_result"
    }
   ],
   "source": [
    "merged_essentials.groupby(\"brand_merge\").agg({\"images_path\": Merger.flatten_images_list}).reset_index()"
   ],
   "metadata": {
    "collapsed": false,
    "ExecuteTime": {
     "end_time": "2023-11-27T20:44:39.282026630Z",
     "start_time": "2023-11-27T20:44:39.179372403Z"
    }
   }
  },
  {
   "cell_type": "code",
   "execution_count": 5,
   "outputs": [],
   "source": [
    "# images = temp[\"images_path\"].values\n",
    "# for image_list in images:\n",
    "#     for image in image_list:\n",
    "#         if not isinstance(image, str):\n",
    "#             print(image_list)\n",
    "#             print(type(image))\n",
    "# import numpy as np\n",
    "# len(set(np.hstack(images)))"
   ],
   "metadata": {
    "collapsed": false,
    "ExecuteTime": {
     "end_time": "2023-11-23T15:13:26.788222615Z",
     "start_time": "2023-11-23T15:13:26.786680036Z"
    }
   }
  },
  {
   "cell_type": "code",
   "execution_count": 6,
   "outputs": [],
   "source": [
    "# counter = 0\n",
    "# \n",
    "# for source_path in set(np.hstack(images).tolist()):\n",
    "#     source_path = Path(source_path)\n",
    "# \n",
    "#     if source_path.is_dir():\n",
    "#         for source_file in source_path.glob('*'):\n",
    "#             counter += 1\n",
    "# \n",
    "#     elif source_path.is_file():\n",
    "#         counter += 1\n",
    "#     else:\n",
    "#         print(source_path)\n",
    "# \n",
    "# counter"
   ],
   "metadata": {
    "collapsed": false,
    "ExecuteTime": {
     "end_time": "2023-11-23T15:13:26.793841886Z",
     "start_time": "2023-11-23T15:13:26.790273637Z"
    }
   }
  },
  {
   "cell_type": "code",
   "execution_count": 10,
   "outputs": [],
   "source": [
    "from src.data.storage import StorageProcessor\n",
    "from src.data.local import LocalStorage\n",
    "\n",
    "processor = StorageProcessor(LocalStorage())\n",
    "test = ['data/raw/images/kickscrew/Air Jordan/air-jordan-1-retro-high-og-rebellionaire-555088-036-right-side-img.05705',\n",
    "        'data/raw/images/kickscrew/Air Jordan/air-jordan-1-retro-high-og-rebellionaire-555088-036-left-side-img.05705',\n",
    "        'data/raw/images/kickscrew/Air Jordan/air-jordan-1-retro-high-og-rebellionaire-555088-036-front-both-img.05705',\n",
    "        'data/raw/images/kickscrew/Air Jordan/air-jordan-1-high-og-hand-crafted-dh3097-001-right-side-img.10771',\n",
    "        'data/raw/images/kickscrew/Air Jordan/air-jordan-1-high-og-hand-crafted-dh3097-001-left-side-img.10771',\n",
    "        'data/raw/images/kickscrew/Air Jordan/air-jordan-1-high-og-hand-crafted-dh3097-001-front-both-img.10771',\n",
    "        \"data/raw/images/superkicks/women-sneakers/vans/wmns-ashetr-multi\",\n",
    "        \"data/raw/images/superkicks/women-sneakers/vans/utility-pop-old-skool-yellow\"]\n",
    "\n",
    "\n",
    "\n",
    "\n",
    "# copy_files_to_destination(test, \"data/merged/images/test\")"
   ],
   "metadata": {
    "collapsed": false,
    "ExecuteTime": {
     "end_time": "2023-11-23T15:13:32.930707943Z",
     "start_time": "2023-11-23T15:13:32.907191139Z"
    }
   }
  },
  {
   "cell_type": "code",
   "execution_count": null,
   "outputs": [],
   "source": [
    "# import numpy as np\n",
    "# flat_colors = np.concatenate(merged[\"color\"].values).tolist()\n",
    "# flat_colors = np.concatenate([item if isinstance(item, list) else [item] for item in flat_colors]).tolist()\n",
    "# flat_colors\n",
    "# out = set()\n",
    "# for color in flat_colors:\n",
    "#     out.add(Merger.format_merge(color))\n",
    "# out = list(out)\n",
    "# out.sort(key=len, reverse=True)\n",
    "# out\n",
    "# with open(\"notebooks/merger/color_words.txt\", \"a\") as f:\n",
    "#     f.write('\\n'.join(out))"
   ],
   "metadata": {
    "collapsed": false,
    "ExecuteTime": {
     "start_time": "2023-11-22T20:57:07.750715003Z"
    }
   }
  },
  {
   "cell_type": "markdown",
   "source": [
    "## Seara heavymetal experiments:"
   ],
   "metadata": {
    "collapsed": false
   }
  },
  {
   "cell_type": "code",
   "execution_count": null,
   "outputs": [],
   "source": [
    "# !pip install thefuzz -q"
   ],
   "metadata": {
    "collapsed": false,
    "ExecuteTime": {
     "start_time": "2023-11-22T20:57:07.750937307Z"
    }
   }
  },
  {
   "cell_type": "code",
   "execution_count": null,
   "outputs": [],
   "source": [
    "# from thefuzz import fuzz\n",
    "# \n",
    "# \n",
    "# def similarity(string1, string2):\n",
    "#     return fuzz.token_sort_ratio(string1, string2)\n",
    "# \n",
    "# \n",
    "# title = \"vans - ua og authentic lx yellow\"\n",
    "# \n",
    "# similarities = []\n",
    "# for text in titles:\n",
    "#     similarities.append((text, similarity(title, text)))\n",
    "# \n",
    "# similarities.sort(key=lambda x: x[1])\n",
    "# similarities[-10:]"
   ],
   "metadata": {
    "collapsed": false,
    "ExecuteTime": {
     "start_time": "2023-11-22T20:57:07.751072659Z"
    }
   }
  },
  {
   "cell_type": "code",
   "execution_count": null,
   "outputs": [],
   "source": [
    "# эта тема лучше всего находит похожие"
   ],
   "metadata": {
    "collapsed": false,
    "ExecuteTime": {
     "start_time": "2023-11-22T20:57:07.751243350Z"
    }
   }
  },
  {
   "cell_type": "code",
   "execution_count": null,
   "outputs": [],
   "source": [],
   "metadata": {
    "collapsed": false,
    "ExecuteTime": {
     "start_time": "2023-11-22T20:57:07.751453292Z"
    }
   }
  }
 ],
 "metadata": {
  "kernelspec": {
   "display_name": "DS",
   "language": "python",
   "name": "python3"
  },
  "language_info": {
   "codemirror_mode": {
    "name": "ipython",
    "version": 3
   },
   "file_extension": ".py",
   "mimetype": "text/x-python",
   "name": "python",
   "nbconvert_exporter": "python",
   "pygments_lexer": "ipython3",
   "version": "3.9.16"
  }
 },
 "nbformat": 4,
 "nbformat_minor": 2
}
