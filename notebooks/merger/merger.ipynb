{
 "cells": [
  {
   "cell_type": "code",
   "execution_count": 1,
   "outputs": [],
   "source": [
    "# for PyCharm\n",
    "import os\n",
    "\n",
    "current_directory = os.getcwd()\n",
    "project_directory = os.path.abspath(os.path.join(current_directory, os.pardir, os.pardir))\n",
    "os.chdir(project_directory)\n",
    "\n",
    "# решил снова затестить Pycharm - такая лаговая каловая масса по сравнению с vscode."
   ],
   "metadata": {
    "collapsed": false,
    "ExecuteTime": {
     "end_time": "2023-11-10T10:35:59.338902446Z",
     "start_time": "2023-11-10T10:35:59.279524145Z"
    }
   }
  },
  {
   "cell_type": "code",
   "execution_count": 2,
   "metadata": {
    "ExecuteTime": {
     "end_time": "2023-11-10T10:35:59.579867812Z",
     "start_time": "2023-11-10T10:35:59.281947621Z"
    }
   },
   "outputs": [],
   "source": [
    "import os\n",
    "\n",
    "import pandas as pd\n",
    "from pathlib import Path\n",
    "import re\n",
    "import numpy as np\n",
    "\n",
    "metadata_path = \"data/raw/metadata\"\n",
    "color_path = \"notebooks/merger/color_words.txt\"\n",
    "color_words = open(color_path, \"r\").readlines()\n",
    "color_words = set([word.strip().lower() for word in color_words])"
   ]
  },
  {
   "cell_type": "code",
   "execution_count": 3,
   "metadata": {
    "ExecuteTime": {
     "end_time": "2023-11-10T10:35:59.602825811Z",
     "start_time": "2023-11-10T10:35:59.584757158Z"
    }
   },
   "outputs": [
    {
     "data": {
      "text/plain": "['superkicks.csv',\n 'highsnobiety.csv',\n 'footshop.csv',\n 'kickscrew.csv',\n 'sneakerbaas.csv']"
     },
     "execution_count": 3,
     "metadata": {},
     "output_type": "execute_result"
    }
   ],
   "source": [
    "discovered_datasets = os.listdir(metadata_path)\n",
    "discovered_datasets"
   ]
  },
  {
   "cell_type": "code",
   "execution_count": 4,
   "metadata": {
    "ExecuteTime": {
     "end_time": "2023-11-10T10:35:59.670182935Z",
     "start_time": "2023-11-10T10:35:59.595588418Z"
    }
   },
   "outputs": [],
   "source": [
    "try:\n",
    "    datasets = {\n",
    "        source: pd.read_csv(str(Path(metadata_path, source))) for source in discovered_datasets\n",
    "    }\n",
    "    assert len(datasets) > 0\n",
    "except FileNotFoundError as err:\n",
    "    print(f\"Some dataset could not be resolved:\")\n",
    "    raise"
   ]
  },
  {
   "cell_type": "code",
   "execution_count": 5,
   "metadata": {
    "ExecuteTime": {
     "end_time": "2023-11-10T10:35:59.709727217Z",
     "start_time": "2023-11-10T10:35:59.668012353Z"
    }
   },
   "outputs": [],
   "source": [
    "# all columns to lowercase\n",
    "for key in datasets:\n",
    "    datasets[key].columns = [x.lower() for x in datasets[key].columns]"
   ]
  },
  {
   "cell_type": "code",
   "execution_count": 6,
   "metadata": {
    "ExecuteTime": {
     "end_time": "2023-11-10T10:35:59.742900062Z",
     "start_time": "2023-11-10T10:35:59.722364282Z"
    }
   },
   "outputs": [
    {
     "data": {
      "text/plain": "         brand                                              title    price  \\\n0     converse                 wmns run star legacy cx periwinkle   8499.0   \n1     converse                     chuck taylor all star charcoal   4299.0   \n2         nike                   kd16 nrg ep pink foam|pink|white  14995.0   \n3       jordan  air jordan 1 retro high og black|royal blue-wh...  16995.0   \n4         nike  blazer mid 77 premium summit white|black-light...   7756.0   \n...        ...                                                ...      ...   \n1094  converse  run star hike platform animalier egret|black|e...   6999.0   \n1095      nike                         wmns dunk high black|white   9295.0   \n1096  converse                              run star motion black   8999.0   \n1097  converse                chuck taylor wmns platform layer ox   3499.0   \n1098  converse                            run star hike low white   5999.0   \n\n                collection_name  \\\n0                  men-sneakers   \n1                  men-sneakers   \n2                  men-sneakers   \n3                  men-sneakers   \n4                  men-sneakers   \n...                         ...   \n1094  women-skateboard-sneakers   \n1095  women-skateboard-sneakers   \n1096  women-skateboard-sneakers   \n1097  women-skateboard-sneakers   \n1098  women-skateboard-sneakers   \n\n                                                    url  \\\n0     https://www.superkicks.in/products/wmns-run-st...   \n1     https://www.superkicks.in/products/chuck-taylo...   \n2     https://www.superkicks.in/products/kd16-nrg-ep...   \n3     https://www.superkicks.in/products/air-jordan-...   \n4     https://www.superkicks.in/products/blazer-mid-...   \n...                                                 ...   \n1094  https://www.superkicks.in/products/run-star-hi...   \n1095  https://www.superkicks.in/products/wmns-dunk-h...   \n1096  https://www.superkicks.in/products/run-star-mo...   \n1097  https://www.superkicks.in/products/chuck-taylo...   \n1098  https://www.superkicks.in/products/run-star-hi...   \n\n                                            images_path pricecurrency  \\\n0     data/raw/images/superkicks/men-sneakers/conver...           INR   \n1     data/raw/images/superkicks/men-sneakers/conver...           INR   \n2     data/raw/images/superkicks/men-sneakers/nike/k...           INR   \n3     data/raw/images/superkicks/men-sneakers/jordan...           INR   \n4     data/raw/images/superkicks/men-sneakers/nike/b...           INR   \n...                                                 ...           ...   \n1094  data/raw/images/superkicks/women-skateboard-sn...           INR   \n1095  data/raw/images/superkicks/women-skateboard-sn...           INR   \n1096  data/raw/images/superkicks/women-skateboard-sn...           INR   \n1097  data/raw/images/superkicks/women-skateboard-sn...           INR   \n1098  data/raw/images/superkicks/women-skateboard-sn...           INR   \n\n                              color     website  \n0                      [periwinkle]  superkicks  \n1                        [charcoal]  superkicks  \n2               [white, foam, pink]  superkicks  \n3              [white, black, blue]  superkicks  \n4     [light, white, black, silver]  superkicks  \n...                             ...         ...  \n1094                        [black]  superkicks  \n1095                 [white, black]  superkicks  \n1096                        [black]  superkicks  \n1097                             []  superkicks  \n1098                        [white]  superkicks  \n\n[1090 rows x 9 columns]",
      "text/html": "<div>\n<style scoped>\n    .dataframe tbody tr th:only-of-type {\n        vertical-align: middle;\n    }\n\n    .dataframe tbody tr th {\n        vertical-align: top;\n    }\n\n    .dataframe thead th {\n        text-align: right;\n    }\n</style>\n<table border=\"1\" class=\"dataframe\">\n  <thead>\n    <tr style=\"text-align: right;\">\n      <th></th>\n      <th>brand</th>\n      <th>title</th>\n      <th>price</th>\n      <th>collection_name</th>\n      <th>url</th>\n      <th>images_path</th>\n      <th>pricecurrency</th>\n      <th>color</th>\n      <th>website</th>\n    </tr>\n  </thead>\n  <tbody>\n    <tr>\n      <th>0</th>\n      <td>converse</td>\n      <td>wmns run star legacy cx periwinkle</td>\n      <td>8499.0</td>\n      <td>men-sneakers</td>\n      <td>https://www.superkicks.in/products/wmns-run-st...</td>\n      <td>data/raw/images/superkicks/men-sneakers/conver...</td>\n      <td>INR</td>\n      <td>[periwinkle]</td>\n      <td>superkicks</td>\n    </tr>\n    <tr>\n      <th>1</th>\n      <td>converse</td>\n      <td>chuck taylor all star charcoal</td>\n      <td>4299.0</td>\n      <td>men-sneakers</td>\n      <td>https://www.superkicks.in/products/chuck-taylo...</td>\n      <td>data/raw/images/superkicks/men-sneakers/conver...</td>\n      <td>INR</td>\n      <td>[charcoal]</td>\n      <td>superkicks</td>\n    </tr>\n    <tr>\n      <th>2</th>\n      <td>nike</td>\n      <td>kd16 nrg ep pink foam|pink|white</td>\n      <td>14995.0</td>\n      <td>men-sneakers</td>\n      <td>https://www.superkicks.in/products/kd16-nrg-ep...</td>\n      <td>data/raw/images/superkicks/men-sneakers/nike/k...</td>\n      <td>INR</td>\n      <td>[white, foam, pink]</td>\n      <td>superkicks</td>\n    </tr>\n    <tr>\n      <th>3</th>\n      <td>jordan</td>\n      <td>air jordan 1 retro high og black|royal blue-wh...</td>\n      <td>16995.0</td>\n      <td>men-sneakers</td>\n      <td>https://www.superkicks.in/products/air-jordan-...</td>\n      <td>data/raw/images/superkicks/men-sneakers/jordan...</td>\n      <td>INR</td>\n      <td>[white, black, blue]</td>\n      <td>superkicks</td>\n    </tr>\n    <tr>\n      <th>4</th>\n      <td>nike</td>\n      <td>blazer mid 77 premium summit white|black-light...</td>\n      <td>7756.0</td>\n      <td>men-sneakers</td>\n      <td>https://www.superkicks.in/products/blazer-mid-...</td>\n      <td>data/raw/images/superkicks/men-sneakers/nike/b...</td>\n      <td>INR</td>\n      <td>[light, white, black, silver]</td>\n      <td>superkicks</td>\n    </tr>\n    <tr>\n      <th>...</th>\n      <td>...</td>\n      <td>...</td>\n      <td>...</td>\n      <td>...</td>\n      <td>...</td>\n      <td>...</td>\n      <td>...</td>\n      <td>...</td>\n      <td>...</td>\n    </tr>\n    <tr>\n      <th>1094</th>\n      <td>converse</td>\n      <td>run star hike platform animalier egret|black|e...</td>\n      <td>6999.0</td>\n      <td>women-skateboard-sneakers</td>\n      <td>https://www.superkicks.in/products/run-star-hi...</td>\n      <td>data/raw/images/superkicks/women-skateboard-sn...</td>\n      <td>INR</td>\n      <td>[black]</td>\n      <td>superkicks</td>\n    </tr>\n    <tr>\n      <th>1095</th>\n      <td>nike</td>\n      <td>wmns dunk high black|white</td>\n      <td>9295.0</td>\n      <td>women-skateboard-sneakers</td>\n      <td>https://www.superkicks.in/products/wmns-dunk-h...</td>\n      <td>data/raw/images/superkicks/women-skateboard-sn...</td>\n      <td>INR</td>\n      <td>[white, black]</td>\n      <td>superkicks</td>\n    </tr>\n    <tr>\n      <th>1096</th>\n      <td>converse</td>\n      <td>run star motion black</td>\n      <td>8999.0</td>\n      <td>women-skateboard-sneakers</td>\n      <td>https://www.superkicks.in/products/run-star-mo...</td>\n      <td>data/raw/images/superkicks/women-skateboard-sn...</td>\n      <td>INR</td>\n      <td>[black]</td>\n      <td>superkicks</td>\n    </tr>\n    <tr>\n      <th>1097</th>\n      <td>converse</td>\n      <td>chuck taylor wmns platform layer ox</td>\n      <td>3499.0</td>\n      <td>women-skateboard-sneakers</td>\n      <td>https://www.superkicks.in/products/chuck-taylo...</td>\n      <td>data/raw/images/superkicks/women-skateboard-sn...</td>\n      <td>INR</td>\n      <td>[]</td>\n      <td>superkicks</td>\n    </tr>\n    <tr>\n      <th>1098</th>\n      <td>converse</td>\n      <td>run star hike low white</td>\n      <td>5999.0</td>\n      <td>women-skateboard-sneakers</td>\n      <td>https://www.superkicks.in/products/run-star-hi...</td>\n      <td>data/raw/images/superkicks/women-skateboard-sn...</td>\n      <td>INR</td>\n      <td>[white]</td>\n      <td>superkicks</td>\n    </tr>\n  </tbody>\n</table>\n<p>1090 rows × 9 columns</p>\n</div>"
     },
     "execution_count": 6,
     "metadata": {},
     "output_type": "execute_result"
    }
   ],
   "source": [
    "def format_superkicks_dataset(raw_df: pd.DataFrame) -> pd.DataFrame:\n",
    "    def get_color(text):\n",
    "        colors = list()\n",
    "        text = text.replace(\"|\", \" \").split()\n",
    "\n",
    "        for color_word in color_words:\n",
    "            for word in text:\n",
    "                if color_word in word:\n",
    "                    colors.append(color_word)\n",
    "                    \n",
    "        \n",
    "        return list(dict.fromkeys(colors))\n",
    "\n",
    "    df = raw_df.drop(\n",
    "        [\n",
    "            \"product_dimensions\",\n",
    "            \"collection_url\",\n",
    "            \"generic_name\",\n",
    "            \"weight\",\n",
    "            \"imported_by\",\n",
    "            \"manufacturer\",\n",
    "            \"unit_of_measurement\",\n",
    "            \"marketed_by\",\n",
    "            \"article_code\",\n",
    "            \"country_of_origin\",\n",
    "        ],\n",
    "        axis=1,\n",
    "    )\n",
    "    df[\"pricecurrency\"] = \"INR\"\n",
    "    df[\"price\"] = df[\"price\"].apply(\n",
    "        lambda x: float(x.replace(\"₹\", \"\").replace(\",\", \"\"))\n",
    "    )\n",
    "    df[\"color\"] = df[\"title\"].apply(get_color)\n",
    "\n",
    "    df[\"brand\"] = df[\"brand\"].apply(lambda x: \" \".join(x.split()))\n",
    "    df[\"title\"] = df[\"title\"].apply(lambda x: \" \".join(x.split()))\n",
    "    df[\"description\"] = df[\"description\"].apply(lambda x: \" \".join(x.split()))\n",
    "\n",
    "    # df['collection'] = df['collection_name'].astype('category')\n",
    "\n",
    "    # df[\"collection\"].cat.rename_categories({\"men-sneakers\":\"men\", \"\"})\n",
    "\n",
    "    # df.drop(\"collection_name\", axis=1)\n",
    "    \n",
    "    df = df.drop(\"description\", axis=1)\n",
    "    \n",
    "    df[\"website\"] = \"superkicks\"\n",
    "    \n",
    "    df = df.drop_duplicates(subset=[\"title\", \"collection_name\",\"url\"])\n",
    "    return df\n",
    "\n",
    "\n",
    "format_superkicks_dataset(datasets[\"superkicks.csv\"])"
   ]
  },
  {
   "cell_type": "code",
   "execution_count": 7,
   "metadata": {
    "ExecuteTime": {
     "end_time": "2023-11-10T10:35:59.868983174Z",
     "start_time": "2023-11-10T10:35:59.758606909Z"
    }
   },
   "outputs": [
    {
     "data": {
      "text/plain": "                 brand pricecurrency  price                         title  \\\n0          new balance           EUR  79.99              550 vintage teal   \n1          new balance           EUR  79.99                     550 white   \n2                 nike           EUR  49.99  blazer mid next nature white   \n3                 nike           EUR  89.99        air max 90 gs habanero   \n4                 vans           EUR  39.99          sk8-mid checkerboard   \n...                ...           ...    ...                           ...   \n1000  adidas originals           EUR  69.99              supercourt white   \n1001            clarks           EUR  79.99            desert boot purple   \n1002             karhu           EUR  69.99              legacy og purple   \n1003             karhu           EUR  69.99       synchron classic violet   \n1004              nike           EUR  39.95  air presto australia olympic   \n\n     collection_name                                                url  \\\n0      category-kids  https://www.sneakerbaas.com/collections/sneake...   \n1      category-kids  https://www.sneakerbaas.com/collections/sneake...   \n2      category-kids  https://www.sneakerbaas.com/collections/sneake...   \n3      category-kids  https://www.sneakerbaas.com/collections/sneake...   \n4      category-kids  https://www.sneakerbaas.com/collections/sneake...   \n...              ...                                                ...   \n1000    category-men  https://www.sneakerbaas.com/collections/sneake...   \n1001    category-men  https://www.sneakerbaas.com/collections/sneake...   \n1002    category-men  https://www.sneakerbaas.com/collections/sneake...   \n1003    category-men  https://www.sneakerbaas.com/collections/sneake...   \n1004    category-men  https://www.sneakerbaas.com/collections/sneake...   \n\n                                            images_path  \\\n0     data/raw/images/sneakerbaas/category-kids/new ...   \n1     data/raw/images/sneakerbaas/category-kids/new ...   \n2     data/raw/images/sneakerbaas/category-kids/nike...   \n3     data/raw/images/sneakerbaas/category-kids/nike...   \n4     data/raw/images/sneakerbaas/category-kids/vans...   \n...                                                 ...   \n1000  data/raw/images/sneakerbaas/category-men/adida...   \n1001  data/raw/images/sneakerbaas/category-men/clark...   \n1002  data/raw/images/sneakerbaas/category-men/karhu...   \n1003  data/raw/images/sneakerbaas/category-men/karhu...   \n1004  data/raw/images/sneakerbaas/category-men/nike/...   \n\n                        color      website  \n0              [white, green]  sneakerbaas  \n1     [white, yellow, purple]  sneakerbaas  \n2                        None  sneakerbaas  \n3                [black, red]  sneakerbaas  \n4               [blue, white]  sneakerbaas  \n...                       ...          ...  \n1000                     None  sneakerbaas  \n1001                 [purple]  sneakerbaas  \n1002          [white, purple]  sneakerbaas  \n1003    [gray, violet, jazzy]  sneakerbaas  \n1004           [blue, yellow]  sneakerbaas  \n\n[1005 rows x 9 columns]",
      "text/html": "<div>\n<style scoped>\n    .dataframe tbody tr th:only-of-type {\n        vertical-align: middle;\n    }\n\n    .dataframe tbody tr th {\n        vertical-align: top;\n    }\n\n    .dataframe thead th {\n        text-align: right;\n    }\n</style>\n<table border=\"1\" class=\"dataframe\">\n  <thead>\n    <tr style=\"text-align: right;\">\n      <th></th>\n      <th>brand</th>\n      <th>pricecurrency</th>\n      <th>price</th>\n      <th>title</th>\n      <th>collection_name</th>\n      <th>url</th>\n      <th>images_path</th>\n      <th>color</th>\n      <th>website</th>\n    </tr>\n  </thead>\n  <tbody>\n    <tr>\n      <th>0</th>\n      <td>new balance</td>\n      <td>EUR</td>\n      <td>79.99</td>\n      <td>550 vintage teal</td>\n      <td>category-kids</td>\n      <td>https://www.sneakerbaas.com/collections/sneake...</td>\n      <td>data/raw/images/sneakerbaas/category-kids/new ...</td>\n      <td>[white, green]</td>\n      <td>sneakerbaas</td>\n    </tr>\n    <tr>\n      <th>1</th>\n      <td>new balance</td>\n      <td>EUR</td>\n      <td>79.99</td>\n      <td>550 white</td>\n      <td>category-kids</td>\n      <td>https://www.sneakerbaas.com/collections/sneake...</td>\n      <td>data/raw/images/sneakerbaas/category-kids/new ...</td>\n      <td>[white, yellow, purple]</td>\n      <td>sneakerbaas</td>\n    </tr>\n    <tr>\n      <th>2</th>\n      <td>nike</td>\n      <td>EUR</td>\n      <td>49.99</td>\n      <td>blazer mid next nature white</td>\n      <td>category-kids</td>\n      <td>https://www.sneakerbaas.com/collections/sneake...</td>\n      <td>data/raw/images/sneakerbaas/category-kids/nike...</td>\n      <td>None</td>\n      <td>sneakerbaas</td>\n    </tr>\n    <tr>\n      <th>3</th>\n      <td>nike</td>\n      <td>EUR</td>\n      <td>89.99</td>\n      <td>air max 90 gs habanero</td>\n      <td>category-kids</td>\n      <td>https://www.sneakerbaas.com/collections/sneake...</td>\n      <td>data/raw/images/sneakerbaas/category-kids/nike...</td>\n      <td>[black, red]</td>\n      <td>sneakerbaas</td>\n    </tr>\n    <tr>\n      <th>4</th>\n      <td>vans</td>\n      <td>EUR</td>\n      <td>39.99</td>\n      <td>sk8-mid checkerboard</td>\n      <td>category-kids</td>\n      <td>https://www.sneakerbaas.com/collections/sneake...</td>\n      <td>data/raw/images/sneakerbaas/category-kids/vans...</td>\n      <td>[blue, white]</td>\n      <td>sneakerbaas</td>\n    </tr>\n    <tr>\n      <th>...</th>\n      <td>...</td>\n      <td>...</td>\n      <td>...</td>\n      <td>...</td>\n      <td>...</td>\n      <td>...</td>\n      <td>...</td>\n      <td>...</td>\n      <td>...</td>\n    </tr>\n    <tr>\n      <th>1000</th>\n      <td>adidas originals</td>\n      <td>EUR</td>\n      <td>69.99</td>\n      <td>supercourt white</td>\n      <td>category-men</td>\n      <td>https://www.sneakerbaas.com/collections/sneake...</td>\n      <td>data/raw/images/sneakerbaas/category-men/adida...</td>\n      <td>None</td>\n      <td>sneakerbaas</td>\n    </tr>\n    <tr>\n      <th>1001</th>\n      <td>clarks</td>\n      <td>EUR</td>\n      <td>79.99</td>\n      <td>desert boot purple</td>\n      <td>category-men</td>\n      <td>https://www.sneakerbaas.com/collections/sneake...</td>\n      <td>data/raw/images/sneakerbaas/category-men/clark...</td>\n      <td>[purple]</td>\n      <td>sneakerbaas</td>\n    </tr>\n    <tr>\n      <th>1002</th>\n      <td>karhu</td>\n      <td>EUR</td>\n      <td>69.99</td>\n      <td>legacy og purple</td>\n      <td>category-men</td>\n      <td>https://www.sneakerbaas.com/collections/sneake...</td>\n      <td>data/raw/images/sneakerbaas/category-men/karhu...</td>\n      <td>[white, purple]</td>\n      <td>sneakerbaas</td>\n    </tr>\n    <tr>\n      <th>1003</th>\n      <td>karhu</td>\n      <td>EUR</td>\n      <td>69.99</td>\n      <td>synchron classic violet</td>\n      <td>category-men</td>\n      <td>https://www.sneakerbaas.com/collections/sneake...</td>\n      <td>data/raw/images/sneakerbaas/category-men/karhu...</td>\n      <td>[gray, violet, jazzy]</td>\n      <td>sneakerbaas</td>\n    </tr>\n    <tr>\n      <th>1004</th>\n      <td>nike</td>\n      <td>EUR</td>\n      <td>39.95</td>\n      <td>air presto australia olympic</td>\n      <td>category-men</td>\n      <td>https://www.sneakerbaas.com/collections/sneake...</td>\n      <td>data/raw/images/sneakerbaas/category-men/nike/...</td>\n      <td>[blue, yellow]</td>\n      <td>sneakerbaas</td>\n    </tr>\n  </tbody>\n</table>\n<p>1005 rows × 9 columns</p>\n</div>"
     },
     "execution_count": 7,
     "metadata": {},
     "output_type": "execute_result"
    }
   ],
   "source": [
    "def format_sneakerbaas_dataset(raw_df: pd.DataFrame):\n",
    "    def extract_colors(input_string):\n",
    "        if pd.notnull(input_string):\n",
    "            match = re.search(r'(Colour|Colours|Colors|Color|Kleur): (.*?)(?:-|$)', input_string, re.IGNORECASE)\n",
    "            if match:\n",
    "                colors = match.group(2).strip()\n",
    "                colors = colors.replace(\"/\", \" \").lower().split()\n",
    "                return list(dict.fromkeys(colors))\n",
    "            else:\n",
    "                return None\n",
    "        else:\n",
    "            return None\n",
    "\n",
    "    df = raw_df.drop([\"collection_url\"], axis=1)\n",
    "\n",
    "    df[\"color\"] = df[\"description\"].apply(extract_colors)\n",
    "\n",
    "    df[\"brand\"] = df[\"brand\"].apply(lambda x: \" \".join(x.split()))\n",
    "    df[\"title\"] = df[\"title\"].apply(lambda x: \" \".join(x.split()))\n",
    "    \n",
    "    \n",
    "    df = df.drop(\"description\", axis=1)\n",
    "    \n",
    "    df[\"website\"] = \"sneakerbaas\"\n",
    "    \n",
    "    df = df.drop_duplicates(subset=[\"title\", \"collection_name\",\"url\"])\n",
    "\n",
    "    return df\n",
    "\n",
    "\n",
    "format_sneakerbaas_dataset(datasets[\"sneakerbaas.csv\"])"
   ]
  },
  {
   "cell_type": "code",
   "execution_count": 8,
   "metadata": {
    "ExecuteTime": {
     "end_time": "2023-11-10T10:35:59.870420009Z",
     "start_time": "2023-11-10T10:35:59.807033684Z"
    }
   },
   "outputs": [
    {
     "data": {
      "text/plain": "                 brand                                    title  \\\n0                 vans                           vans knu skool   \n1          dr. martens                 dr. martens jadon hdw ii   \n2     adidas originals                          adidas samba og   \n3          new balance                       new balance 990 v1   \n4                asics  asics x andersson bell gel-sonoma 15-50   \n...                ...                                      ...   \n6442              nike                 nike court borough mid 2   \n6443       new balance                        new balance ct302   \n6444              vans                      vans kids old skool   \n6445              vans                      vans old skool kids   \n6446              vans                           vans old skool   \n\n                                                 color pricecurrency   price  \\\n0                                  [black, true white]           EUR   97.95   \n1     [black buttero , black 100% recycled da pk mesh]           EUR  274.95   \n2                        [core black, ftw white, gum5]           EUR  120.00   \n3                                        [green, gold]           EUR  146.22   \n4                              [olive oil, dark brown]           EUR  155.51   \n...                                                ...           ...     ...   \n6442                     [university red, black-white]           EUR   74.95   \n6443                                       [all black]           EUR  114.95   \n6444                                [navy, true white]           EUR   59.95   \n6445                                    [black, black]           EUR   59.95   \n6446                               [black, true white]           EUR   59.95   \n\n                 collection_name  \\\n0                   5-mens-shoes   \n1                   5-mens-shoes   \n2                   5-mens-shoes   \n3                   5-mens-shoes   \n4                   5-mens-shoes   \n...                          ...   \n6442  55-kids-sneakers-and-shoes   \n6443  55-kids-sneakers-and-shoes   \n6444  55-kids-sneakers-and-shoes   \n6445  55-kids-sneakers-and-shoes   \n6446  55-kids-sneakers-and-shoes   \n\n                                                    url  \\\n0     https://www.footshop.eu/en/mens-shoes/261589-v...   \n1     https://www.footshop.eu/en/mens-shoes/297121-d...   \n2     https://www.footshop.eu/en/mens-shoes/29598-ad...   \n3     https://www.footshop.eu/en/mens-shoes/279670-n...   \n4     https://www.footshop.eu/en/mens-shoes/264451-a...   \n...                                                 ...   \n6442  https://www.footshop.eu/en/kids-sneakers-and-s...   \n6443  https://www.footshop.eu/en/kids-sneakers-and-s...   \n6444  https://www.footshop.eu/en/kids-sneakers-and-s...   \n6445  https://www.footshop.eu/en/kids-sneakers-and-s...   \n6446  https://www.footshop.eu/en/kids-sneakers-and-s...   \n\n                                            images_path   website  \n0     data/raw/images/footshop/5-mens-shoes/vans/van...  footshop  \n1     data/raw/images/footshop/5-mens-shoes/dr. mart...  footshop  \n2     data/raw/images/footshop/5-mens-shoes/adidas o...  footshop  \n3     data/raw/images/footshop/5-mens-shoes/new bala...  footshop  \n4     data/raw/images/footshop/5-mens-shoes/asics/as...  footshop  \n...                                                 ...       ...  \n6442  data/raw/images/footshop/55-kids-sneakers-and-...  footshop  \n6443  data/raw/images/footshop/55-kids-sneakers-and-...  footshop  \n6444  data/raw/images/footshop/55-kids-sneakers-and-...  footshop  \n6445  data/raw/images/footshop/55-kids-sneakers-and-...  footshop  \n6446  data/raw/images/footshop/55-kids-sneakers-and-...  footshop  \n\n[4864 rows x 9 columns]",
      "text/html": "<div>\n<style scoped>\n    .dataframe tbody tr th:only-of-type {\n        vertical-align: middle;\n    }\n\n    .dataframe tbody tr th {\n        vertical-align: top;\n    }\n\n    .dataframe thead th {\n        text-align: right;\n    }\n</style>\n<table border=\"1\" class=\"dataframe\">\n  <thead>\n    <tr style=\"text-align: right;\">\n      <th></th>\n      <th>brand</th>\n      <th>title</th>\n      <th>color</th>\n      <th>pricecurrency</th>\n      <th>price</th>\n      <th>collection_name</th>\n      <th>url</th>\n      <th>images_path</th>\n      <th>website</th>\n    </tr>\n  </thead>\n  <tbody>\n    <tr>\n      <th>0</th>\n      <td>vans</td>\n      <td>vans knu skool</td>\n      <td>[black, true white]</td>\n      <td>EUR</td>\n      <td>97.95</td>\n      <td>5-mens-shoes</td>\n      <td>https://www.footshop.eu/en/mens-shoes/261589-v...</td>\n      <td>data/raw/images/footshop/5-mens-shoes/vans/van...</td>\n      <td>footshop</td>\n    </tr>\n    <tr>\n      <th>1</th>\n      <td>dr. martens</td>\n      <td>dr. martens jadon hdw ii</td>\n      <td>[black buttero , black 100% recycled da pk mesh]</td>\n      <td>EUR</td>\n      <td>274.95</td>\n      <td>5-mens-shoes</td>\n      <td>https://www.footshop.eu/en/mens-shoes/297121-d...</td>\n      <td>data/raw/images/footshop/5-mens-shoes/dr. mart...</td>\n      <td>footshop</td>\n    </tr>\n    <tr>\n      <th>2</th>\n      <td>adidas originals</td>\n      <td>adidas samba og</td>\n      <td>[core black, ftw white, gum5]</td>\n      <td>EUR</td>\n      <td>120.00</td>\n      <td>5-mens-shoes</td>\n      <td>https://www.footshop.eu/en/mens-shoes/29598-ad...</td>\n      <td>data/raw/images/footshop/5-mens-shoes/adidas o...</td>\n      <td>footshop</td>\n    </tr>\n    <tr>\n      <th>3</th>\n      <td>new balance</td>\n      <td>new balance 990 v1</td>\n      <td>[green, gold]</td>\n      <td>EUR</td>\n      <td>146.22</td>\n      <td>5-mens-shoes</td>\n      <td>https://www.footshop.eu/en/mens-shoes/279670-n...</td>\n      <td>data/raw/images/footshop/5-mens-shoes/new bala...</td>\n      <td>footshop</td>\n    </tr>\n    <tr>\n      <th>4</th>\n      <td>asics</td>\n      <td>asics x andersson bell gel-sonoma 15-50</td>\n      <td>[olive oil, dark brown]</td>\n      <td>EUR</td>\n      <td>155.51</td>\n      <td>5-mens-shoes</td>\n      <td>https://www.footshop.eu/en/mens-shoes/264451-a...</td>\n      <td>data/raw/images/footshop/5-mens-shoes/asics/as...</td>\n      <td>footshop</td>\n    </tr>\n    <tr>\n      <th>...</th>\n      <td>...</td>\n      <td>...</td>\n      <td>...</td>\n      <td>...</td>\n      <td>...</td>\n      <td>...</td>\n      <td>...</td>\n      <td>...</td>\n      <td>...</td>\n    </tr>\n    <tr>\n      <th>6442</th>\n      <td>nike</td>\n      <td>nike court borough mid 2</td>\n      <td>[university red, black-white]</td>\n      <td>EUR</td>\n      <td>74.95</td>\n      <td>55-kids-sneakers-and-shoes</td>\n      <td>https://www.footshop.eu/en/kids-sneakers-and-s...</td>\n      <td>data/raw/images/footshop/55-kids-sneakers-and-...</td>\n      <td>footshop</td>\n    </tr>\n    <tr>\n      <th>6443</th>\n      <td>new balance</td>\n      <td>new balance ct302</td>\n      <td>[all black]</td>\n      <td>EUR</td>\n      <td>114.95</td>\n      <td>55-kids-sneakers-and-shoes</td>\n      <td>https://www.footshop.eu/en/kids-sneakers-and-s...</td>\n      <td>data/raw/images/footshop/55-kids-sneakers-and-...</td>\n      <td>footshop</td>\n    </tr>\n    <tr>\n      <th>6444</th>\n      <td>vans</td>\n      <td>vans kids old skool</td>\n      <td>[navy, true white]</td>\n      <td>EUR</td>\n      <td>59.95</td>\n      <td>55-kids-sneakers-and-shoes</td>\n      <td>https://www.footshop.eu/en/kids-sneakers-and-s...</td>\n      <td>data/raw/images/footshop/55-kids-sneakers-and-...</td>\n      <td>footshop</td>\n    </tr>\n    <tr>\n      <th>6445</th>\n      <td>vans</td>\n      <td>vans old skool kids</td>\n      <td>[black, black]</td>\n      <td>EUR</td>\n      <td>59.95</td>\n      <td>55-kids-sneakers-and-shoes</td>\n      <td>https://www.footshop.eu/en/kids-sneakers-and-s...</td>\n      <td>data/raw/images/footshop/55-kids-sneakers-and-...</td>\n      <td>footshop</td>\n    </tr>\n    <tr>\n      <th>6446</th>\n      <td>vans</td>\n      <td>vans old skool</td>\n      <td>[black, true white]</td>\n      <td>EUR</td>\n      <td>59.95</td>\n      <td>55-kids-sneakers-and-shoes</td>\n      <td>https://www.footshop.eu/en/kids-sneakers-and-s...</td>\n      <td>data/raw/images/footshop/55-kids-sneakers-and-...</td>\n      <td>footshop</td>\n    </tr>\n  </tbody>\n</table>\n<p>4864 rows × 9 columns</p>\n</div>"
     },
     "execution_count": 8,
     "metadata": {},
     "output_type": "execute_result"
    }
   ],
   "source": [
    "def format_footshop_dataset(raw_df: pd.DataFrame):\n",
    "    def get_colors(text):\n",
    "        colors = text.replace(\"&\", \"/\").replace(\"/ \", \"/\").lower().split(\"/\")\n",
    "        return colors\n",
    "\n",
    "    df = raw_df.drop([\"collection_url\"], axis=1)\n",
    "\n",
    "    df[\"price\"] = df[\"price\"].apply(\n",
    "        lambda x: float(x.replace(\"€\", \"\").replace(\"$\", \"\"))\n",
    "    )\n",
    "\n",
    "    df[\"color_old\"] = df[\"color\"]\n",
    "    df[\"color\"] = df[\"color\"].apply(get_colors)\n",
    "\n",
    "    df[\"brand\"] = df[\"brand\"].apply(lambda x: \" \".join(x.split()))\n",
    "    df[\"title\"] = df[\"title\"].apply(lambda x: \" \".join(x.split()))\n",
    "    \n",
    "    df = df.drop(\"color_old\", axis=1)\n",
    "    df[\"website\"] = \"footshop\"\n",
    "    \n",
    "    df = df.drop_duplicates(subset=[\"title\", \"collection_name\",\"url\"])\n",
    "    return df\n",
    "\n",
    "\n",
    "format_footshop_dataset(datasets[\"footshop.csv\"])"
   ]
  },
  {
   "cell_type": "code",
   "execution_count": 9,
   "metadata": {
    "ExecuteTime": {
     "end_time": "2023-11-10T10:35:59.961691741Z",
     "start_time": "2023-11-10T10:35:59.868485349Z"
    }
   },
   "outputs": [],
   "source": [
    "processed_datasets = {\n",
    "    \"superkicks\": format_superkicks_dataset(datasets[\"superkicks.csv\"]),\n",
    "    \"sneakerbaas\": format_sneakerbaas_dataset(datasets[\"sneakerbaas.csv\"]),\n",
    "    \"footshop\": format_footshop_dataset(datasets[\"footshop.csv\"])\n",
    "}"
   ]
  },
  {
   "cell_type": "code",
   "execution_count": 10,
   "outputs": [
    {
     "name": "stdout",
     "output_type": "stream",
     "text": [
      "(1090, 9)\n",
      "(1005, 9)\n",
      "(4864, 9)\n"
     ]
    }
   ],
   "source": [
    "for key, value in processed_datasets.items():\n",
    "    print(value.shape)"
   ],
   "metadata": {
    "collapsed": false,
    "ExecuteTime": {
     "end_time": "2023-11-10T10:36:00.018464352Z",
     "start_time": "2023-11-10T10:35:59.910981801Z"
    }
   }
  },
  {
   "cell_type": "code",
   "execution_count": 11,
   "metadata": {
    "ExecuteTime": {
     "end_time": "2023-11-10T10:36:09.442577655Z",
     "start_time": "2023-11-10T10:36:09.435656570Z"
    }
   },
   "outputs": [
    {
     "data": {
      "text/plain": "{'brand',\n 'collection_name',\n 'color',\n 'images_path',\n 'price',\n 'pricecurrency',\n 'title',\n 'url',\n 'website'}"
     },
     "execution_count": 11,
     "metadata": {},
     "output_type": "execute_result"
    }
   ],
   "source": [
    "# same columns\n",
    "same_columns = set.intersection(*[set(processed_datasets[key].columns) for key in processed_datasets])\n",
    "same_columns"
   ]
  },
  {
   "cell_type": "code",
   "execution_count": 12,
   "outputs": [
    {
     "data": {
      "text/plain": "            brand                                              title  \\\n0        converse                 wmns run star legacy cx periwinkle   \n1        converse                     chuck taylor all star charcoal   \n2            nike                   kd16 nrg ep pink foam|pink|white   \n3          jordan  air jordan 1 retro high og black|royal blue-wh...   \n4            nike  blazer mid 77 premium summit white|black-light...   \n...           ...                                                ...   \n6954         nike                           nike court borough mid 2   \n6955  new balance                                  new balance ct302   \n6956         vans                                vans kids old skool   \n6957         vans                                vans old skool kids   \n6958         vans                                     vans old skool   \n\n         price             collection_name  \\\n0      8499.00                men-sneakers   \n1      4299.00                men-sneakers   \n2     14995.00                men-sneakers   \n3     16995.00                men-sneakers   \n4      7756.00                men-sneakers   \n...        ...                         ...   \n6954     74.95  55-kids-sneakers-and-shoes   \n6955    114.95  55-kids-sneakers-and-shoes   \n6956     59.95  55-kids-sneakers-and-shoes   \n6957     59.95  55-kids-sneakers-and-shoes   \n6958     59.95  55-kids-sneakers-and-shoes   \n\n                                                    url  \\\n0     https://www.superkicks.in/products/wmns-run-st...   \n1     https://www.superkicks.in/products/chuck-taylo...   \n2     https://www.superkicks.in/products/kd16-nrg-ep...   \n3     https://www.superkicks.in/products/air-jordan-...   \n4     https://www.superkicks.in/products/blazer-mid-...   \n...                                                 ...   \n6954  https://www.footshop.eu/en/kids-sneakers-and-s...   \n6955  https://www.footshop.eu/en/kids-sneakers-and-s...   \n6956  https://www.footshop.eu/en/kids-sneakers-and-s...   \n6957  https://www.footshop.eu/en/kids-sneakers-and-s...   \n6958  https://www.footshop.eu/en/kids-sneakers-and-s...   \n\n                                            images_path pricecurrency  \\\n0     data/raw/images/superkicks/men-sneakers/conver...           INR   \n1     data/raw/images/superkicks/men-sneakers/conver...           INR   \n2     data/raw/images/superkicks/men-sneakers/nike/k...           INR   \n3     data/raw/images/superkicks/men-sneakers/jordan...           INR   \n4     data/raw/images/superkicks/men-sneakers/nike/b...           INR   \n...                                                 ...           ...   \n6954  data/raw/images/footshop/55-kids-sneakers-and-...           EUR   \n6955  data/raw/images/footshop/55-kids-sneakers-and-...           EUR   \n6956  data/raw/images/footshop/55-kids-sneakers-and-...           EUR   \n6957  data/raw/images/footshop/55-kids-sneakers-and-...           EUR   \n6958  data/raw/images/footshop/55-kids-sneakers-and-...           EUR   \n\n                              color     website  \n0                      [periwinkle]  superkicks  \n1                        [charcoal]  superkicks  \n2               [white, foam, pink]  superkicks  \n3              [white, black, blue]  superkicks  \n4     [light, white, black, silver]  superkicks  \n...                             ...         ...  \n6954  [university red, black-white]    footshop  \n6955                    [all black]    footshop  \n6956             [navy, true white]    footshop  \n6957                 [black, black]    footshop  \n6958            [black, true white]    footshop  \n\n[6959 rows x 9 columns]",
      "text/html": "<div>\n<style scoped>\n    .dataframe tbody tr th:only-of-type {\n        vertical-align: middle;\n    }\n\n    .dataframe tbody tr th {\n        vertical-align: top;\n    }\n\n    .dataframe thead th {\n        text-align: right;\n    }\n</style>\n<table border=\"1\" class=\"dataframe\">\n  <thead>\n    <tr style=\"text-align: right;\">\n      <th></th>\n      <th>brand</th>\n      <th>title</th>\n      <th>price</th>\n      <th>collection_name</th>\n      <th>url</th>\n      <th>images_path</th>\n      <th>pricecurrency</th>\n      <th>color</th>\n      <th>website</th>\n    </tr>\n  </thead>\n  <tbody>\n    <tr>\n      <th>0</th>\n      <td>converse</td>\n      <td>wmns run star legacy cx periwinkle</td>\n      <td>8499.00</td>\n      <td>men-sneakers</td>\n      <td>https://www.superkicks.in/products/wmns-run-st...</td>\n      <td>data/raw/images/superkicks/men-sneakers/conver...</td>\n      <td>INR</td>\n      <td>[periwinkle]</td>\n      <td>superkicks</td>\n    </tr>\n    <tr>\n      <th>1</th>\n      <td>converse</td>\n      <td>chuck taylor all star charcoal</td>\n      <td>4299.00</td>\n      <td>men-sneakers</td>\n      <td>https://www.superkicks.in/products/chuck-taylo...</td>\n      <td>data/raw/images/superkicks/men-sneakers/conver...</td>\n      <td>INR</td>\n      <td>[charcoal]</td>\n      <td>superkicks</td>\n    </tr>\n    <tr>\n      <th>2</th>\n      <td>nike</td>\n      <td>kd16 nrg ep pink foam|pink|white</td>\n      <td>14995.00</td>\n      <td>men-sneakers</td>\n      <td>https://www.superkicks.in/products/kd16-nrg-ep...</td>\n      <td>data/raw/images/superkicks/men-sneakers/nike/k...</td>\n      <td>INR</td>\n      <td>[white, foam, pink]</td>\n      <td>superkicks</td>\n    </tr>\n    <tr>\n      <th>3</th>\n      <td>jordan</td>\n      <td>air jordan 1 retro high og black|royal blue-wh...</td>\n      <td>16995.00</td>\n      <td>men-sneakers</td>\n      <td>https://www.superkicks.in/products/air-jordan-...</td>\n      <td>data/raw/images/superkicks/men-sneakers/jordan...</td>\n      <td>INR</td>\n      <td>[white, black, blue]</td>\n      <td>superkicks</td>\n    </tr>\n    <tr>\n      <th>4</th>\n      <td>nike</td>\n      <td>blazer mid 77 premium summit white|black-light...</td>\n      <td>7756.00</td>\n      <td>men-sneakers</td>\n      <td>https://www.superkicks.in/products/blazer-mid-...</td>\n      <td>data/raw/images/superkicks/men-sneakers/nike/b...</td>\n      <td>INR</td>\n      <td>[light, white, black, silver]</td>\n      <td>superkicks</td>\n    </tr>\n    <tr>\n      <th>...</th>\n      <td>...</td>\n      <td>...</td>\n      <td>...</td>\n      <td>...</td>\n      <td>...</td>\n      <td>...</td>\n      <td>...</td>\n      <td>...</td>\n      <td>...</td>\n    </tr>\n    <tr>\n      <th>6954</th>\n      <td>nike</td>\n      <td>nike court borough mid 2</td>\n      <td>74.95</td>\n      <td>55-kids-sneakers-and-shoes</td>\n      <td>https://www.footshop.eu/en/kids-sneakers-and-s...</td>\n      <td>data/raw/images/footshop/55-kids-sneakers-and-...</td>\n      <td>EUR</td>\n      <td>[university red, black-white]</td>\n      <td>footshop</td>\n    </tr>\n    <tr>\n      <th>6955</th>\n      <td>new balance</td>\n      <td>new balance ct302</td>\n      <td>114.95</td>\n      <td>55-kids-sneakers-and-shoes</td>\n      <td>https://www.footshop.eu/en/kids-sneakers-and-s...</td>\n      <td>data/raw/images/footshop/55-kids-sneakers-and-...</td>\n      <td>EUR</td>\n      <td>[all black]</td>\n      <td>footshop</td>\n    </tr>\n    <tr>\n      <th>6956</th>\n      <td>vans</td>\n      <td>vans kids old skool</td>\n      <td>59.95</td>\n      <td>55-kids-sneakers-and-shoes</td>\n      <td>https://www.footshop.eu/en/kids-sneakers-and-s...</td>\n      <td>data/raw/images/footshop/55-kids-sneakers-and-...</td>\n      <td>EUR</td>\n      <td>[navy, true white]</td>\n      <td>footshop</td>\n    </tr>\n    <tr>\n      <th>6957</th>\n      <td>vans</td>\n      <td>vans old skool kids</td>\n      <td>59.95</td>\n      <td>55-kids-sneakers-and-shoes</td>\n      <td>https://www.footshop.eu/en/kids-sneakers-and-s...</td>\n      <td>data/raw/images/footshop/55-kids-sneakers-and-...</td>\n      <td>EUR</td>\n      <td>[black, black]</td>\n      <td>footshop</td>\n    </tr>\n    <tr>\n      <th>6958</th>\n      <td>vans</td>\n      <td>vans old skool</td>\n      <td>59.95</td>\n      <td>55-kids-sneakers-and-shoes</td>\n      <td>https://www.footshop.eu/en/kids-sneakers-and-s...</td>\n      <td>data/raw/images/footshop/55-kids-sneakers-and-...</td>\n      <td>EUR</td>\n      <td>[black, true white]</td>\n      <td>footshop</td>\n    </tr>\n  </tbody>\n</table>\n<p>6959 rows × 9 columns</p>\n</div>"
     },
     "execution_count": 12,
     "metadata": {},
     "output_type": "execute_result"
    }
   ],
   "source": [
    "merged_datasets = pd.concat(list(processed_datasets.values()), ignore_index=True)\n",
    "merged_datasets"
   ],
   "metadata": {
    "collapsed": false,
    "ExecuteTime": {
     "end_time": "2023-11-10T10:36:12.989686941Z",
     "start_time": "2023-11-10T10:36:12.958542270Z"
    }
   }
  },
  {
   "cell_type": "code",
   "execution_count": 14,
   "outputs": [
    {
     "data": {
      "text/plain": "                                                                 brand  \\\ntitle                                                                    \n01 low m bi eden                                               [autry]   \n01 low m bi violet                                             [autry]   \n01 low m black                                                 [autry]   \n01 low mustard                                                 [autry]   \n01 low w bi ivory                                              [autry]   \n...                                                                ...   \nzoom vomero 5 sp anthracite|anthracite-black-wo...              [nike]   \nzoom vomero 5 sp vast grey|vast grey-black-sail                 [nike]   \nzx 22 boost cream white                             [adidas originals]   \nzx 2k boost 2.0 white                                         [adidas]   \nzx 5020 crystal white                               [adidas originals]   \n\n                                                     collection_name  \\\ntitle                                                                  \n01 low m bi eden                                      [category-men]   \n01 low m bi violet                                    [category-men]   \n01 low m black                                        [category-men]   \n01 low mustard                                        [category-men]   \n01 low w bi ivory                                   [category-women]   \n...                                                              ...   \nzoom vomero 5 sp anthracite|anthracite-black-wo...    [men-sneakers]   \nzoom vomero 5 sp vast grey|vast grey-black-sail       [men-sneakers]   \nzx 22 boost cream white                               [category-men]   \nzx 2k boost 2.0 white                               [women-sneakers]   \nzx 5020 crystal white                                 [category-men]   \n\n                                                                      color  \\\ntitle                                                                         \n01 low m bi eden                                           [[white, green]]   \n01 low m bi violet                                        [[white, purple]]   \n01 low m black                                      [[black, white, creme]]   \n01 low mustard                                            [[yellow, white]]   \n01 low w bi ivory                                          [[black, white]]   \n...                                                                     ...   \nzoom vomero 5 sp anthracite|anthracite-black-wo...          [[grey, black]]   \nzoom vomero 5 sp vast grey|vast grey-black-sail             [[grey, black]]   \nzx 22 boost cream white                                           [[beige]]   \nzx 2k boost 2.0 white                                             [[white]]   \nzx 5020 crystal white                                  [[grey, pink, blue]]   \n\n                                                                                          images_path  \\\ntitle                                                                                                   \n01 low m bi eden                                    [data/raw/images/sneakerbaas/category-men/autr...   \n01 low m bi violet                                  [data/raw/images/sneakerbaas/category-men/autr...   \n01 low m black                                      [data/raw/images/sneakerbaas/category-men/autr...   \n01 low mustard                                      [data/raw/images/sneakerbaas/category-men/autr...   \n01 low w bi ivory                                   [data/raw/images/sneakerbaas/category-women/au...   \n...                                                                                               ...   \nzoom vomero 5 sp anthracite|anthracite-black-wo...  [data/raw/images/superkicks/men-sneakers/nike/...   \nzoom vomero 5 sp vast grey|vast grey-black-sail     [data/raw/images/superkicks/men-sneakers/nike/...   \nzx 22 boost cream white                             [data/raw/images/sneakerbaas/category-men/adid...   \nzx 2k boost 2.0 white                               [data/raw/images/superkicks/women-sneakers/adi...   \nzx 5020 crystal white                               [data/raw/images/sneakerbaas/category-men/adid...   \n\n                                                        price pricecurrency  \\\ntitle                                                                         \n01 low m bi eden                                     [149.99]         [EUR]   \n01 low m bi violet                                   [149.99]         [EUR]   \n01 low m black                                       [149.99]         [EUR]   \n01 low mustard                                       [149.99]         [EUR]   \n01 low w bi ivory                                    [149.99]         [EUR]   \n...                                                       ...           ...   \nzoom vomero 5 sp anthracite|anthracite-black-wo...  [14995.0]         [INR]   \nzoom vomero 5 sp vast grey|vast grey-black-sail     [14995.0]         [INR]   \nzx 22 boost cream white                               [59.99]         [EUR]   \nzx 2k boost 2.0 white                                [8399.0]         [INR]   \nzx 5020 crystal white                                 [59.99]         [EUR]   \n\n                                                                                                  url  \\\ntitle                                                                                                   \n01 low m bi eden                                    [https://www.sneakerbaas.com/collections/sneak...   \n01 low m bi violet                                  [https://www.sneakerbaas.com/collections/sneak...   \n01 low m black                                      [https://www.sneakerbaas.com/collections/sneak...   \n01 low mustard                                      [https://www.sneakerbaas.com/collections/sneak...   \n01 low w bi ivory                                   [https://www.sneakerbaas.com/collections/sneak...   \n...                                                                                               ...   \nzoom vomero 5 sp anthracite|anthracite-black-wo...  [https://www.superkicks.in/products/zoom-vomer...   \nzoom vomero 5 sp vast grey|vast grey-black-sail     [https://www.superkicks.in/products/zoom-vomer...   \nzx 22 boost cream white                             [https://www.sneakerbaas.com/collections/sneak...   \nzx 2k boost 2.0 white                               [https://www.superkicks.in/products/zx-2k-boos...   \nzx 5020 crystal white                               [https://www.sneakerbaas.com/collections/sneak...   \n\n                                                          website  \ntitle                                                              \n01 low m bi eden                                    [sneakerbaas]  \n01 low m bi violet                                  [sneakerbaas]  \n01 low m black                                      [sneakerbaas]  \n01 low mustard                                      [sneakerbaas]  \n01 low w bi ivory                                   [sneakerbaas]  \n...                                                           ...  \nzoom vomero 5 sp anthracite|anthracite-black-wo...   [superkicks]  \nzoom vomero 5 sp vast grey|vast grey-black-sail      [superkicks]  \nzx 22 boost cream white                             [sneakerbaas]  \nzx 2k boost 2.0 white                                [superkicks]  \nzx 5020 crystal white                               [sneakerbaas]  \n\n[3473 rows x 8 columns]",
      "text/html": "<div>\n<style scoped>\n    .dataframe tbody tr th:only-of-type {\n        vertical-align: middle;\n    }\n\n    .dataframe tbody tr th {\n        vertical-align: top;\n    }\n\n    .dataframe thead th {\n        text-align: right;\n    }\n</style>\n<table border=\"1\" class=\"dataframe\">\n  <thead>\n    <tr style=\"text-align: right;\">\n      <th></th>\n      <th>brand</th>\n      <th>collection_name</th>\n      <th>color</th>\n      <th>images_path</th>\n      <th>price</th>\n      <th>pricecurrency</th>\n      <th>url</th>\n      <th>website</th>\n    </tr>\n    <tr>\n      <th>title</th>\n      <th></th>\n      <th></th>\n      <th></th>\n      <th></th>\n      <th></th>\n      <th></th>\n      <th></th>\n      <th></th>\n    </tr>\n  </thead>\n  <tbody>\n    <tr>\n      <th>01 low m bi eden</th>\n      <td>[autry]</td>\n      <td>[category-men]</td>\n      <td>[[white, green]]</td>\n      <td>[data/raw/images/sneakerbaas/category-men/autr...</td>\n      <td>[149.99]</td>\n      <td>[EUR]</td>\n      <td>[https://www.sneakerbaas.com/collections/sneak...</td>\n      <td>[sneakerbaas]</td>\n    </tr>\n    <tr>\n      <th>01 low m bi violet</th>\n      <td>[autry]</td>\n      <td>[category-men]</td>\n      <td>[[white, purple]]</td>\n      <td>[data/raw/images/sneakerbaas/category-men/autr...</td>\n      <td>[149.99]</td>\n      <td>[EUR]</td>\n      <td>[https://www.sneakerbaas.com/collections/sneak...</td>\n      <td>[sneakerbaas]</td>\n    </tr>\n    <tr>\n      <th>01 low m black</th>\n      <td>[autry]</td>\n      <td>[category-men]</td>\n      <td>[[black, white, creme]]</td>\n      <td>[data/raw/images/sneakerbaas/category-men/autr...</td>\n      <td>[149.99]</td>\n      <td>[EUR]</td>\n      <td>[https://www.sneakerbaas.com/collections/sneak...</td>\n      <td>[sneakerbaas]</td>\n    </tr>\n    <tr>\n      <th>01 low mustard</th>\n      <td>[autry]</td>\n      <td>[category-men]</td>\n      <td>[[yellow, white]]</td>\n      <td>[data/raw/images/sneakerbaas/category-men/autr...</td>\n      <td>[149.99]</td>\n      <td>[EUR]</td>\n      <td>[https://www.sneakerbaas.com/collections/sneak...</td>\n      <td>[sneakerbaas]</td>\n    </tr>\n    <tr>\n      <th>01 low w bi ivory</th>\n      <td>[autry]</td>\n      <td>[category-women]</td>\n      <td>[[black, white]]</td>\n      <td>[data/raw/images/sneakerbaas/category-women/au...</td>\n      <td>[149.99]</td>\n      <td>[EUR]</td>\n      <td>[https://www.sneakerbaas.com/collections/sneak...</td>\n      <td>[sneakerbaas]</td>\n    </tr>\n    <tr>\n      <th>...</th>\n      <td>...</td>\n      <td>...</td>\n      <td>...</td>\n      <td>...</td>\n      <td>...</td>\n      <td>...</td>\n      <td>...</td>\n      <td>...</td>\n    </tr>\n    <tr>\n      <th>zoom vomero 5 sp anthracite|anthracite-black-wolf grey</th>\n      <td>[nike]</td>\n      <td>[men-sneakers]</td>\n      <td>[[grey, black]]</td>\n      <td>[data/raw/images/superkicks/men-sneakers/nike/...</td>\n      <td>[14995.0]</td>\n      <td>[INR]</td>\n      <td>[https://www.superkicks.in/products/zoom-vomer...</td>\n      <td>[superkicks]</td>\n    </tr>\n    <tr>\n      <th>zoom vomero 5 sp vast grey|vast grey-black-sail</th>\n      <td>[nike]</td>\n      <td>[men-sneakers]</td>\n      <td>[[grey, black]]</td>\n      <td>[data/raw/images/superkicks/men-sneakers/nike/...</td>\n      <td>[14995.0]</td>\n      <td>[INR]</td>\n      <td>[https://www.superkicks.in/products/zoom-vomer...</td>\n      <td>[superkicks]</td>\n    </tr>\n    <tr>\n      <th>zx 22 boost cream white</th>\n      <td>[adidas originals]</td>\n      <td>[category-men]</td>\n      <td>[[beige]]</td>\n      <td>[data/raw/images/sneakerbaas/category-men/adid...</td>\n      <td>[59.99]</td>\n      <td>[EUR]</td>\n      <td>[https://www.sneakerbaas.com/collections/sneak...</td>\n      <td>[sneakerbaas]</td>\n    </tr>\n    <tr>\n      <th>zx 2k boost 2.0 white</th>\n      <td>[adidas]</td>\n      <td>[women-sneakers]</td>\n      <td>[[white]]</td>\n      <td>[data/raw/images/superkicks/women-sneakers/adi...</td>\n      <td>[8399.0]</td>\n      <td>[INR]</td>\n      <td>[https://www.superkicks.in/products/zx-2k-boos...</td>\n      <td>[superkicks]</td>\n    </tr>\n    <tr>\n      <th>zx 5020 crystal white</th>\n      <td>[adidas originals]</td>\n      <td>[category-men]</td>\n      <td>[[grey, pink, blue]]</td>\n      <td>[data/raw/images/sneakerbaas/category-men/adid...</td>\n      <td>[59.99]</td>\n      <td>[EUR]</td>\n      <td>[https://www.sneakerbaas.com/collections/sneak...</td>\n      <td>[sneakerbaas]</td>\n    </tr>\n  </tbody>\n</table>\n<p>3473 rows × 8 columns</p>\n</div>"
     },
     "execution_count": 14,
     "metadata": {},
     "output_type": "execute_result"
    }
   ],
   "source": [
    "merged_datasets.groupby(\"title\").agg({\n",
    "    \"brand\": list,\n",
    "    \"collection_name\":list,\n",
    "    \"color\": list,\n",
    "    \"images_path\": list,\n",
    "    \"price\": list,\n",
    "    \"pricecurrency\": list,\n",
    "    \"url\": list,\n",
    "    \"website\": list\n",
    "})"
   ],
   "metadata": {
    "collapsed": false,
    "ExecuteTime": {
     "end_time": "2023-11-10T10:37:15.018678435Z",
     "start_time": "2023-11-10T10:37:14.274319519Z"
    }
   }
  },
  {
   "cell_type": "code",
   "execution_count": null,
   "metadata": {},
   "outputs": [],
   "source": [
    "for name, d in datasets.items():\n",
    "    print(f\"{name} columns:\", d.columns)"
   ]
  },
  {
   "cell_type": "code",
   "execution_count": null,
   "metadata": {},
   "outputs": [],
   "source": [
    "datasets[\"superkicks\"][\"images_dir\"]"
   ]
  },
  {
   "cell_type": "code",
   "execution_count": null,
   "metadata": {},
   "outputs": [],
   "source": [
    "for source, data in datasets.items():\n",
    "    data[\"source\"] = source\n",
    "\n",
    "pd.concat(\n",
    "    datasets.values(),\n",
    "    keys=[\n",
    "        \"url\",\n",
    "        \"brand\",\n",
    "        \"slug\",\n",
    "    ],\n",
    ")"
   ]
  },
  {
   "cell_type": "code",
   "execution_count": null,
   "metadata": {},
   "outputs": [],
   "source": []
  }
 ],
 "metadata": {
  "kernelspec": {
   "display_name": "DS",
   "language": "python",
   "name": "python3"
  },
  "language_info": {
   "codemirror_mode": {
    "name": "ipython",
    "version": 3
   },
   "file_extension": ".py",
   "mimetype": "text/x-python",
   "name": "python",
   "nbconvert_exporter": "python",
   "pygments_lexer": "ipython3",
   "version": "3.9.16"
  }
 },
 "nbformat": 4,
 "nbformat_minor": 2
}
