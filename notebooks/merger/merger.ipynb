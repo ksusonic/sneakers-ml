{
 "cells": [
  {
   "cell_type": "code",
   "execution_count": 1,
   "outputs": [],
   "source": [
    "# for PyCharm\n",
    "import os\n",
    "\n",
    "current_directory = os.getcwd()\n",
    "project_directory = os.path.abspath(os.path.join(current_directory, os.pardir, os.pardir))\n",
    "os.chdir(project_directory)"
   ],
   "metadata": {
    "collapsed": false,
    "ExecuteTime": {
     "end_time": "2023-11-17T09:05:07.884117Z",
     "start_time": "2023-11-17T09:05:07.863456Z"
    }
   }
  },
  {
   "cell_type": "code",
   "execution_count": 2,
   "metadata": {
    "ExecuteTime": {
     "end_time": "2023-11-17T09:05:10.384124Z",
     "start_time": "2023-11-17T09:05:07.871474Z"
    }
   },
   "outputs": [],
   "source": [
    "import os\n",
    "\n",
    "import pandas as pd\n",
    "from pathlib import Path\n",
    "\n",
    "\n",
    "from src.data.merger import Merger"
   ]
  },
  {
   "cell_type": "code",
   "execution_count": 3,
   "outputs": [
    {
     "name": "stdout",
     "output_type": "stream",
     "text": [
      "superkicks dict_keys([\"'\", '+', '\"', '(', ')', '.', '#'])\n",
      "sneakerbaas dict_keys([\"'\", '.', '(', ')', '+'])\n",
      "footshop dict_keys([\"'\", '\"', '.', '®', '*', '™', '+', '(', ')', '?', ',', ':'])\n",
      "kickscrew dict_keys(['(', ')', \"'\", '.', '%', '+', '*', '\"', '#', '!', ',', '~'])\n"
     ]
    }
   ],
   "source": [
    "datasets = Merger().get_formatted()\n",
    "Merger.check_extra_symbols(datasets, column=\"title_without_color\")"
   ],
   "metadata": {
    "collapsed": false,
    "ExecuteTime": {
     "end_time": "2023-11-17T09:05:11.824863Z",
     "start_time": "2023-11-17T09:05:10.386071Z"
    }
   }
  },
  {
   "cell_type": "code",
   "execution_count": 4,
   "outputs": [
    {
     "data": {
      "text/plain": "                 brand                                              title  \\\n0     Adidas Originals                      CAMPUS 00S 'CLOUD WHITE/BLUE'   \n1             Converse  WMN'S RUN STAR MOTION CX PLATFORM TORTOISE 'KH...   \n2                 Nike  KEVIN DURANT KD16 EP 'BLACK/BLACK-DK SMOKE GRE...   \n3                 Puma            STAPLE B SUEDE 'DARK CHOCOLATE-RHUBARB'   \n4                 Nike  DUNK LOW RETRO PREMIUM 'CACAO WOW/COMET BLUE-M...   \n...                ...                                                ...   \n1085              Nike  WMN'S DUNK LOW PREMIUM MF 'RUSH FUCHSIA/RUSH F...   \n1086          Converse                              RUN STAR MOTION BLACK   \n1087          Converse                          RUN STAR HIKE LOW 'WHITE'   \n1088              Nike                      WMN'S DUNK HIGH 'BLACK/WHITE'   \n1089          Converse                CHUCK TAYLOR WMNS PLATFORM LAYER OX   \n\n        price                                               slug  \\\n0     11999.0                         campus-00s-cloud-whiteblue   \n1      9999.0  wmns-run-star-motion-cx-platform-tortoise-khak...   \n2     13995.0  kevin-durant-kd16-ep-blackblackdk-smoke-greyco...   \n3      9999.0               staple-b-suede-dark-chocolaterhubarb   \n4      9695.0  dunk-low-retro-premium-cacao-wowcomet-bluemars...   \n...       ...                                                ...   \n1085  10795.0  wmns-dunk-low-premium-mf-rush-fuchsiarush-fuch...   \n1086   8999.0                              run-star-motion-black   \n1087   5999.0                            run-star-hike-low-white   \n1088   9295.0                          wmns-dunk-high-blackwhite   \n1089   3499.0                chuck-taylor-wmns-platform-layer-ox   \n\n            brand_slug            collection_name  \\\n0     adidas-originals               men-sneakers   \n1             converse               men-sneakers   \n2                 nike               men-sneakers   \n3                 puma               men-sneakers   \n4                 nike               men-sneakers   \n...                ...                        ...   \n1085              nike  women-skateboard-sneakers   \n1086          converse  women-skateboard-sneakers   \n1087          converse  women-skateboard-sneakers   \n1088              nike  women-skateboard-sneakers   \n1089          converse  women-skateboard-sneakers   \n\n                                                    url  \\\n0     https://www.superkicks.in/products/campus-00s-...   \n1     https://www.superkicks.in/products/wmns-run-st...   \n2     https://www.superkicks.in/products/kevin-duran...   \n3     https://www.superkicks.in/products/staple-b-su...   \n4     https://www.superkicks.in/products/dunk-low-re...   \n...                                                 ...   \n1085  https://www.superkicks.in/products/wmns-dunk-l...   \n1086  https://www.superkicks.in/products/run-star-mo...   \n1087  https://www.superkicks.in/products/run-star-hi...   \n1088  https://www.superkicks.in/products/wmns-dunk-h...   \n1089  https://www.superkicks.in/products/chuck-taylo...   \n\n                                            images_path     website  \\\n0     data/raw_new/images/superkicks/men-sneakers/ad...  superkicks   \n1     data/raw_new/images/superkicks/men-sneakers/co...  superkicks   \n2     data/raw_new/images/superkicks/men-sneakers/ni...  superkicks   \n3     data/raw_new/images/superkicks/men-sneakers/pu...  superkicks   \n4     data/raw_new/images/superkicks/men-sneakers/ni...  superkicks   \n...                                                 ...         ...   \n1085  data/raw_new/images/superkicks/women-skateboar...  superkicks   \n1086  data/raw_new/images/superkicks/women-skateboar...  superkicks   \n1087  data/raw_new/images/superkicks/women-skateboar...  superkicks   \n1088  data/raw_new/images/superkicks/women-skateboar...  superkicks   \n1089  data/raw_new/images/superkicks/women-skateboar...  superkicks   \n\n     pricecurrency                         title_without_color  \\\n0              INR                                  CAMPUS 00S   \n1              INR  WMN'S RUN STAR MOTION CX PLATFORM TORTOISE   \n2              INR                        KEVIN DURANT KD16 EP   \n3              INR                              STAPLE B SUEDE   \n4              INR                      DUNK LOW RETRO PREMIUM   \n...            ...                                         ...   \n1085           INR                   WMN'S DUNK LOW PREMIUM MF   \n1086           INR                       RUN STAR MOTION BLACK   \n1087           INR                           RUN STAR HIKE LOW   \n1088           INR                             WMN'S DUNK HIGH   \n1089           INR         CHUCK TAYLOR WMNS PLATFORM LAYER OX   \n\n                                        color  \\\n0                            CLOUD WHITE/BLUE   \n1                             KHAKI/OFF WHITE   \n2      BLACK/BLACK-DK SMOKE GREY-COCONUT MILK   \n3                      DARK CHOCOLATE-RHUBARB   \n4     CACAO WOW/COMET BLUE-MARS STONE-PHANTOM   \n...                                       ...   \n1085   RUSH FUCHSIA/RUSH FUCHSIA-RUSH FUCHSIA   \n1086                                            \n1087                                    WHITE   \n1088                              BLACK/WHITE   \n1089                                            \n\n                                    title_merge  \n0                                    campus 00s  \n1     wmns run star motion cx platform tortoise  \n2                          kevin durant kd16 ep  \n3                                staple b suede  \n4                        dunk low retro premium  \n...                                         ...  \n1085                   wmns dunk low premium mf  \n1086                      run star motion black  \n1087                          run star hike low  \n1088                             wmns dunk high  \n1089        chuck taylor wmns platform layer ox  \n\n[1090 rows x 13 columns]",
      "text/html": "<div>\n<style scoped>\n    .dataframe tbody tr th:only-of-type {\n        vertical-align: middle;\n    }\n\n    .dataframe tbody tr th {\n        vertical-align: top;\n    }\n\n    .dataframe thead th {\n        text-align: right;\n    }\n</style>\n<table border=\"1\" class=\"dataframe\">\n  <thead>\n    <tr style=\"text-align: right;\">\n      <th></th>\n      <th>brand</th>\n      <th>title</th>\n      <th>price</th>\n      <th>slug</th>\n      <th>brand_slug</th>\n      <th>collection_name</th>\n      <th>url</th>\n      <th>images_path</th>\n      <th>website</th>\n      <th>pricecurrency</th>\n      <th>title_without_color</th>\n      <th>color</th>\n      <th>title_merge</th>\n    </tr>\n  </thead>\n  <tbody>\n    <tr>\n      <th>0</th>\n      <td>Adidas Originals</td>\n      <td>CAMPUS 00S 'CLOUD WHITE/BLUE'</td>\n      <td>11999.0</td>\n      <td>campus-00s-cloud-whiteblue</td>\n      <td>adidas-originals</td>\n      <td>men-sneakers</td>\n      <td>https://www.superkicks.in/products/campus-00s-...</td>\n      <td>data/raw_new/images/superkicks/men-sneakers/ad...</td>\n      <td>superkicks</td>\n      <td>INR</td>\n      <td>CAMPUS 00S</td>\n      <td>CLOUD WHITE/BLUE</td>\n      <td>campus 00s</td>\n    </tr>\n    <tr>\n      <th>1</th>\n      <td>Converse</td>\n      <td>WMN'S RUN STAR MOTION CX PLATFORM TORTOISE 'KH...</td>\n      <td>9999.0</td>\n      <td>wmns-run-star-motion-cx-platform-tortoise-khak...</td>\n      <td>converse</td>\n      <td>men-sneakers</td>\n      <td>https://www.superkicks.in/products/wmns-run-st...</td>\n      <td>data/raw_new/images/superkicks/men-sneakers/co...</td>\n      <td>superkicks</td>\n      <td>INR</td>\n      <td>WMN'S RUN STAR MOTION CX PLATFORM TORTOISE</td>\n      <td>KHAKI/OFF WHITE</td>\n      <td>wmns run star motion cx platform tortoise</td>\n    </tr>\n    <tr>\n      <th>2</th>\n      <td>Nike</td>\n      <td>KEVIN DURANT KD16 EP 'BLACK/BLACK-DK SMOKE GRE...</td>\n      <td>13995.0</td>\n      <td>kevin-durant-kd16-ep-blackblackdk-smoke-greyco...</td>\n      <td>nike</td>\n      <td>men-sneakers</td>\n      <td>https://www.superkicks.in/products/kevin-duran...</td>\n      <td>data/raw_new/images/superkicks/men-sneakers/ni...</td>\n      <td>superkicks</td>\n      <td>INR</td>\n      <td>KEVIN DURANT KD16 EP</td>\n      <td>BLACK/BLACK-DK SMOKE GREY-COCONUT MILK</td>\n      <td>kevin durant kd16 ep</td>\n    </tr>\n    <tr>\n      <th>3</th>\n      <td>Puma</td>\n      <td>STAPLE B SUEDE 'DARK CHOCOLATE-RHUBARB'</td>\n      <td>9999.0</td>\n      <td>staple-b-suede-dark-chocolaterhubarb</td>\n      <td>puma</td>\n      <td>men-sneakers</td>\n      <td>https://www.superkicks.in/products/staple-b-su...</td>\n      <td>data/raw_new/images/superkicks/men-sneakers/pu...</td>\n      <td>superkicks</td>\n      <td>INR</td>\n      <td>STAPLE B SUEDE</td>\n      <td>DARK CHOCOLATE-RHUBARB</td>\n      <td>staple b suede</td>\n    </tr>\n    <tr>\n      <th>4</th>\n      <td>Nike</td>\n      <td>DUNK LOW RETRO PREMIUM 'CACAO WOW/COMET BLUE-M...</td>\n      <td>9695.0</td>\n      <td>dunk-low-retro-premium-cacao-wowcomet-bluemars...</td>\n      <td>nike</td>\n      <td>men-sneakers</td>\n      <td>https://www.superkicks.in/products/dunk-low-re...</td>\n      <td>data/raw_new/images/superkicks/men-sneakers/ni...</td>\n      <td>superkicks</td>\n      <td>INR</td>\n      <td>DUNK LOW RETRO PREMIUM</td>\n      <td>CACAO WOW/COMET BLUE-MARS STONE-PHANTOM</td>\n      <td>dunk low retro premium</td>\n    </tr>\n    <tr>\n      <th>...</th>\n      <td>...</td>\n      <td>...</td>\n      <td>...</td>\n      <td>...</td>\n      <td>...</td>\n      <td>...</td>\n      <td>...</td>\n      <td>...</td>\n      <td>...</td>\n      <td>...</td>\n      <td>...</td>\n      <td>...</td>\n      <td>...</td>\n    </tr>\n    <tr>\n      <th>1085</th>\n      <td>Nike</td>\n      <td>WMN'S DUNK LOW PREMIUM MF 'RUSH FUCHSIA/RUSH F...</td>\n      <td>10795.0</td>\n      <td>wmns-dunk-low-premium-mf-rush-fuchsiarush-fuch...</td>\n      <td>nike</td>\n      <td>women-skateboard-sneakers</td>\n      <td>https://www.superkicks.in/products/wmns-dunk-l...</td>\n      <td>data/raw_new/images/superkicks/women-skateboar...</td>\n      <td>superkicks</td>\n      <td>INR</td>\n      <td>WMN'S DUNK LOW PREMIUM MF</td>\n      <td>RUSH FUCHSIA/RUSH FUCHSIA-RUSH FUCHSIA</td>\n      <td>wmns dunk low premium mf</td>\n    </tr>\n    <tr>\n      <th>1086</th>\n      <td>Converse</td>\n      <td>RUN STAR MOTION BLACK</td>\n      <td>8999.0</td>\n      <td>run-star-motion-black</td>\n      <td>converse</td>\n      <td>women-skateboard-sneakers</td>\n      <td>https://www.superkicks.in/products/run-star-mo...</td>\n      <td>data/raw_new/images/superkicks/women-skateboar...</td>\n      <td>superkicks</td>\n      <td>INR</td>\n      <td>RUN STAR MOTION BLACK</td>\n      <td></td>\n      <td>run star motion black</td>\n    </tr>\n    <tr>\n      <th>1087</th>\n      <td>Converse</td>\n      <td>RUN STAR HIKE LOW 'WHITE'</td>\n      <td>5999.0</td>\n      <td>run-star-hike-low-white</td>\n      <td>converse</td>\n      <td>women-skateboard-sneakers</td>\n      <td>https://www.superkicks.in/products/run-star-hi...</td>\n      <td>data/raw_new/images/superkicks/women-skateboar...</td>\n      <td>superkicks</td>\n      <td>INR</td>\n      <td>RUN STAR HIKE LOW</td>\n      <td>WHITE</td>\n      <td>run star hike low</td>\n    </tr>\n    <tr>\n      <th>1088</th>\n      <td>Nike</td>\n      <td>WMN'S DUNK HIGH 'BLACK/WHITE'</td>\n      <td>9295.0</td>\n      <td>wmns-dunk-high-blackwhite</td>\n      <td>nike</td>\n      <td>women-skateboard-sneakers</td>\n      <td>https://www.superkicks.in/products/wmns-dunk-h...</td>\n      <td>data/raw_new/images/superkicks/women-skateboar...</td>\n      <td>superkicks</td>\n      <td>INR</td>\n      <td>WMN'S DUNK HIGH</td>\n      <td>BLACK/WHITE</td>\n      <td>wmns dunk high</td>\n    </tr>\n    <tr>\n      <th>1089</th>\n      <td>Converse</td>\n      <td>CHUCK TAYLOR WMNS PLATFORM LAYER OX</td>\n      <td>3499.0</td>\n      <td>chuck-taylor-wmns-platform-layer-ox</td>\n      <td>converse</td>\n      <td>women-skateboard-sneakers</td>\n      <td>https://www.superkicks.in/products/chuck-taylo...</td>\n      <td>data/raw_new/images/superkicks/women-skateboar...</td>\n      <td>superkicks</td>\n      <td>INR</td>\n      <td>CHUCK TAYLOR WMNS PLATFORM LAYER OX</td>\n      <td></td>\n      <td>chuck taylor wmns platform layer ox</td>\n    </tr>\n  </tbody>\n</table>\n<p>1090 rows × 13 columns</p>\n</div>"
     },
     "execution_count": 4,
     "metadata": {},
     "output_type": "execute_result"
    }
   ],
   "source": [
    "datasets[\"superkicks\"]"
   ],
   "metadata": {
    "collapsed": false,
    "ExecuteTime": {
     "end_time": "2023-11-17T09:05:11.885176Z",
     "start_time": "2023-11-17T09:05:11.829406Z"
    }
   }
  },
  {
   "cell_type": "code",
   "execution_count": 5,
   "outputs": [],
   "source": [
    "# apply deletion of colors"
   ],
   "metadata": {
    "collapsed": false,
    "ExecuteTime": {
     "end_time": "2023-11-17T09:05:11.886264Z",
     "start_time": "2023-11-17T09:05:11.849806Z"
    }
   }
  },
  {
   "cell_type": "code",
   "execution_count": 6,
   "outputs": [
    {
     "name": "stdout",
     "output_type": "stream",
     "text": [
      "(1090, 13)\n",
      "(999, 14)\n",
      "(4852, 13)\n",
      "(4900, 10)\n"
     ]
    }
   ],
   "source": [
    "for key, value in datasets.items():\n",
    "    print(value.shape)"
   ],
   "metadata": {
    "collapsed": false,
    "ExecuteTime": {
     "end_time": "2023-11-17T09:05:11.887007Z",
     "start_time": "2023-11-17T09:05:11.854790Z"
    }
   }
  },
  {
   "cell_type": "code",
   "execution_count": 7,
   "metadata": {
    "ExecuteTime": {
     "end_time": "2023-11-17T09:05:11.887950Z",
     "start_time": "2023-11-17T09:05:11.862949Z"
    }
   },
   "outputs": [
    {
     "data": {
      "text/plain": "{'brand',\n 'color',\n 'images_path',\n 'price',\n 'pricecurrency',\n 'title',\n 'title_merge',\n 'title_without_color',\n 'url',\n 'website'}"
     },
     "execution_count": 7,
     "metadata": {},
     "output_type": "execute_result"
    }
   ],
   "source": [
    "# same columns\n",
    "same_columns = set.intersection(*[set(datasets[key].columns) for key in datasets])\n",
    "same_columns\n",
    "# no colors and collection-name"
   ]
  },
  {
   "cell_type": "code",
   "execution_count": 8,
   "outputs": [
    {
     "data": {
      "text/plain": "                  brand                                              title  \\\n0      Adidas Originals                      CAMPUS 00S 'CLOUD WHITE/BLUE'   \n1              Converse  WMN'S RUN STAR MOTION CX PLATFORM TORTOISE 'KH...   \n2                  Nike  KEVIN DURANT KD16 EP 'BLACK/BLACK-DK SMOKE GRE...   \n3                  Puma            STAPLE B SUEDE 'DARK CHOCOLATE-RHUBARB'   \n4                  Nike  DUNK LOW RETRO PREMIUM 'CACAO WOW/COMET BLUE-M...   \n...                 ...                                                ...   \n11836            adidas       Adidas Ultraboost 1.0 Shoes 'Valentines Day'   \n11837            adidas  Adidas Originals Ozweego Shoes 'Magic Beige Cl...   \n11838            adidas  Adidas Originals Adilette Slides 'Off White Br...   \n11839            adidas  Adidas Originals Forum Low Shoes 'White Grey Red'   \n11840            adidas      Adidas Grand Court 2.0 Sneakers 'White Black'   \n\n         price                                               slug  \\\n0      11999.0                         campus-00s-cloud-whiteblue   \n1       9999.0  wmns-run-star-motion-cx-platform-tortoise-khak...   \n2      13995.0  kevin-durant-kd16-ep-blackblackdk-smoke-greyco...   \n3       9999.0               staple-b-suede-dark-chocolaterhubarb   \n4       9695.0  dunk-low-retro-premium-cacao-wowcomet-bluemars...   \n...        ...                                                ...   \n11836    123.0                                                NaN   \n11837    102.0                                                NaN   \n11838     56.0                                                NaN   \n11839     84.0                                                NaN   \n11840     67.0                                                NaN   \n\n             brand_slug collection_name  \\\n0      adidas-originals    men-sneakers   \n1              converse    men-sneakers   \n2                  nike    men-sneakers   \n3                  puma    men-sneakers   \n4                  nike    men-sneakers   \n...                 ...             ...   \n11836               NaN             NaN   \n11837               NaN             NaN   \n11838               NaN             NaN   \n11839               NaN             NaN   \n11840               NaN             NaN   \n\n                                                     url  \\\n0      https://www.superkicks.in/products/campus-00s-...   \n1      https://www.superkicks.in/products/wmns-run-st...   \n2      https://www.superkicks.in/products/kevin-duran...   \n3      https://www.superkicks.in/products/staple-b-su...   \n4      https://www.superkicks.in/products/dunk-low-re...   \n...                                                  ...   \n11836  https://www.kickscrew.com/products/adidas-ultr...   \n11837  https://www.kickscrew.com/products/adidas-orig...   \n11838  https://www.kickscrew.com/products/adidas-orig...   \n11839  https://www.kickscrew.com/products/adidas-orig...   \n11840  https://www.kickscrew.com/products/adidas-gran...   \n\n                                             images_path     website  \\\n0      data/raw_new/images/superkicks/men-sneakers/ad...  superkicks   \n1      data/raw_new/images/superkicks/men-sneakers/co...  superkicks   \n2      data/raw_new/images/superkicks/men-sneakers/ni...  superkicks   \n3      data/raw_new/images/superkicks/men-sneakers/pu...  superkicks   \n4      data/raw_new/images/superkicks/men-sneakers/ni...  superkicks   \n...                                                  ...         ...   \n11836  [data/raw/images/kickscrew/adidas/adidas-ultra...   kickscrew   \n11837  [data/raw/images/kickscrew/adidas/adidas-origi...   kickscrew   \n11838  [data/raw/images/kickscrew/adidas/adidas-origi...   kickscrew   \n11839  [data/raw/images/kickscrew/adidas/adidas-origi...   kickscrew   \n11840  [nan, data/raw/images/kickscrew/adidas/adidas-...   kickscrew   \n\n      pricecurrency                         title_without_color  \\\n0               INR                                  CAMPUS 00S   \n1               INR  WMN'S RUN STAR MOTION CX PLATFORM TORTOISE   \n2               INR                        KEVIN DURANT KD16 EP   \n3               INR                              STAPLE B SUEDE   \n4               INR                      DUNK LOW RETRO PREMIUM   \n...             ...                                         ...   \n11836           USD                 Adidas Ultraboost 1.0 Shoes   \n11837           USD              Adidas Originals Ozweego Shoes   \n11838           USD            Adidas Originals Adilette Slides   \n11839           USD            Adidas Originals Forum Low Shoes   \n11840           USD             Adidas Grand Court 2.0 Sneakers   \n\n                                         color  \\\n0                             CLOUD WHITE/BLUE   \n1                              KHAKI/OFF WHITE   \n2       BLACK/BLACK-DK SMOKE GREY-COCONUT MILK   \n3                       DARK CHOCOLATE-RHUBARB   \n4      CACAO WOW/COMET BLUE-MARS STONE-PHANTOM   \n...                                        ...   \n11836                           Valentines Day   \n11837                  Magic Beige Clay Strata   \n11838                  Off White Bright Orange   \n11839                           White Grey Red   \n11840                              White Black   \n\n                                     title_merge description_color  \n0                                     campus 00s               NaN  \n1      wmns run star motion cx platform tortoise               NaN  \n2                           kevin durant kd16 ep               NaN  \n3                                 staple b suede               NaN  \n4                         dunk low retro premium               NaN  \n...                                          ...               ...  \n11836                 adidas ultraboost 10 shoes               NaN  \n11837             adidas originals ozweego shoes               NaN  \n11838           adidas originals adilette slides               NaN  \n11839           adidas originals forum low shoes               NaN  \n11840             adidas grand court 20 sneakers               NaN  \n\n[11841 rows x 14 columns]",
      "text/html": "<div>\n<style scoped>\n    .dataframe tbody tr th:only-of-type {\n        vertical-align: middle;\n    }\n\n    .dataframe tbody tr th {\n        vertical-align: top;\n    }\n\n    .dataframe thead th {\n        text-align: right;\n    }\n</style>\n<table border=\"1\" class=\"dataframe\">\n  <thead>\n    <tr style=\"text-align: right;\">\n      <th></th>\n      <th>brand</th>\n      <th>title</th>\n      <th>price</th>\n      <th>slug</th>\n      <th>brand_slug</th>\n      <th>collection_name</th>\n      <th>url</th>\n      <th>images_path</th>\n      <th>website</th>\n      <th>pricecurrency</th>\n      <th>title_without_color</th>\n      <th>color</th>\n      <th>title_merge</th>\n      <th>description_color</th>\n    </tr>\n  </thead>\n  <tbody>\n    <tr>\n      <th>0</th>\n      <td>Adidas Originals</td>\n      <td>CAMPUS 00S 'CLOUD WHITE/BLUE'</td>\n      <td>11999.0</td>\n      <td>campus-00s-cloud-whiteblue</td>\n      <td>adidas-originals</td>\n      <td>men-sneakers</td>\n      <td>https://www.superkicks.in/products/campus-00s-...</td>\n      <td>data/raw_new/images/superkicks/men-sneakers/ad...</td>\n      <td>superkicks</td>\n      <td>INR</td>\n      <td>CAMPUS 00S</td>\n      <td>CLOUD WHITE/BLUE</td>\n      <td>campus 00s</td>\n      <td>NaN</td>\n    </tr>\n    <tr>\n      <th>1</th>\n      <td>Converse</td>\n      <td>WMN'S RUN STAR MOTION CX PLATFORM TORTOISE 'KH...</td>\n      <td>9999.0</td>\n      <td>wmns-run-star-motion-cx-platform-tortoise-khak...</td>\n      <td>converse</td>\n      <td>men-sneakers</td>\n      <td>https://www.superkicks.in/products/wmns-run-st...</td>\n      <td>data/raw_new/images/superkicks/men-sneakers/co...</td>\n      <td>superkicks</td>\n      <td>INR</td>\n      <td>WMN'S RUN STAR MOTION CX PLATFORM TORTOISE</td>\n      <td>KHAKI/OFF WHITE</td>\n      <td>wmns run star motion cx platform tortoise</td>\n      <td>NaN</td>\n    </tr>\n    <tr>\n      <th>2</th>\n      <td>Nike</td>\n      <td>KEVIN DURANT KD16 EP 'BLACK/BLACK-DK SMOKE GRE...</td>\n      <td>13995.0</td>\n      <td>kevin-durant-kd16-ep-blackblackdk-smoke-greyco...</td>\n      <td>nike</td>\n      <td>men-sneakers</td>\n      <td>https://www.superkicks.in/products/kevin-duran...</td>\n      <td>data/raw_new/images/superkicks/men-sneakers/ni...</td>\n      <td>superkicks</td>\n      <td>INR</td>\n      <td>KEVIN DURANT KD16 EP</td>\n      <td>BLACK/BLACK-DK SMOKE GREY-COCONUT MILK</td>\n      <td>kevin durant kd16 ep</td>\n      <td>NaN</td>\n    </tr>\n    <tr>\n      <th>3</th>\n      <td>Puma</td>\n      <td>STAPLE B SUEDE 'DARK CHOCOLATE-RHUBARB'</td>\n      <td>9999.0</td>\n      <td>staple-b-suede-dark-chocolaterhubarb</td>\n      <td>puma</td>\n      <td>men-sneakers</td>\n      <td>https://www.superkicks.in/products/staple-b-su...</td>\n      <td>data/raw_new/images/superkicks/men-sneakers/pu...</td>\n      <td>superkicks</td>\n      <td>INR</td>\n      <td>STAPLE B SUEDE</td>\n      <td>DARK CHOCOLATE-RHUBARB</td>\n      <td>staple b suede</td>\n      <td>NaN</td>\n    </tr>\n    <tr>\n      <th>4</th>\n      <td>Nike</td>\n      <td>DUNK LOW RETRO PREMIUM 'CACAO WOW/COMET BLUE-M...</td>\n      <td>9695.0</td>\n      <td>dunk-low-retro-premium-cacao-wowcomet-bluemars...</td>\n      <td>nike</td>\n      <td>men-sneakers</td>\n      <td>https://www.superkicks.in/products/dunk-low-re...</td>\n      <td>data/raw_new/images/superkicks/men-sneakers/ni...</td>\n      <td>superkicks</td>\n      <td>INR</td>\n      <td>DUNK LOW RETRO PREMIUM</td>\n      <td>CACAO WOW/COMET BLUE-MARS STONE-PHANTOM</td>\n      <td>dunk low retro premium</td>\n      <td>NaN</td>\n    </tr>\n    <tr>\n      <th>...</th>\n      <td>...</td>\n      <td>...</td>\n      <td>...</td>\n      <td>...</td>\n      <td>...</td>\n      <td>...</td>\n      <td>...</td>\n      <td>...</td>\n      <td>...</td>\n      <td>...</td>\n      <td>...</td>\n      <td>...</td>\n      <td>...</td>\n      <td>...</td>\n    </tr>\n    <tr>\n      <th>11836</th>\n      <td>adidas</td>\n      <td>Adidas Ultraboost 1.0 Shoes 'Valentines Day'</td>\n      <td>123.0</td>\n      <td>NaN</td>\n      <td>NaN</td>\n      <td>NaN</td>\n      <td>https://www.kickscrew.com/products/adidas-ultr...</td>\n      <td>[data/raw/images/kickscrew/adidas/adidas-ultra...</td>\n      <td>kickscrew</td>\n      <td>USD</td>\n      <td>Adidas Ultraboost 1.0 Shoes</td>\n      <td>Valentines Day</td>\n      <td>adidas ultraboost 10 shoes</td>\n      <td>NaN</td>\n    </tr>\n    <tr>\n      <th>11837</th>\n      <td>adidas</td>\n      <td>Adidas Originals Ozweego Shoes 'Magic Beige Cl...</td>\n      <td>102.0</td>\n      <td>NaN</td>\n      <td>NaN</td>\n      <td>NaN</td>\n      <td>https://www.kickscrew.com/products/adidas-orig...</td>\n      <td>[data/raw/images/kickscrew/adidas/adidas-origi...</td>\n      <td>kickscrew</td>\n      <td>USD</td>\n      <td>Adidas Originals Ozweego Shoes</td>\n      <td>Magic Beige Clay Strata</td>\n      <td>adidas originals ozweego shoes</td>\n      <td>NaN</td>\n    </tr>\n    <tr>\n      <th>11838</th>\n      <td>adidas</td>\n      <td>Adidas Originals Adilette Slides 'Off White Br...</td>\n      <td>56.0</td>\n      <td>NaN</td>\n      <td>NaN</td>\n      <td>NaN</td>\n      <td>https://www.kickscrew.com/products/adidas-orig...</td>\n      <td>[data/raw/images/kickscrew/adidas/adidas-origi...</td>\n      <td>kickscrew</td>\n      <td>USD</td>\n      <td>Adidas Originals Adilette Slides</td>\n      <td>Off White Bright Orange</td>\n      <td>adidas originals adilette slides</td>\n      <td>NaN</td>\n    </tr>\n    <tr>\n      <th>11839</th>\n      <td>adidas</td>\n      <td>Adidas Originals Forum Low Shoes 'White Grey Red'</td>\n      <td>84.0</td>\n      <td>NaN</td>\n      <td>NaN</td>\n      <td>NaN</td>\n      <td>https://www.kickscrew.com/products/adidas-orig...</td>\n      <td>[data/raw/images/kickscrew/adidas/adidas-origi...</td>\n      <td>kickscrew</td>\n      <td>USD</td>\n      <td>Adidas Originals Forum Low Shoes</td>\n      <td>White Grey Red</td>\n      <td>adidas originals forum low shoes</td>\n      <td>NaN</td>\n    </tr>\n    <tr>\n      <th>11840</th>\n      <td>adidas</td>\n      <td>Adidas Grand Court 2.0 Sneakers 'White Black'</td>\n      <td>67.0</td>\n      <td>NaN</td>\n      <td>NaN</td>\n      <td>NaN</td>\n      <td>https://www.kickscrew.com/products/adidas-gran...</td>\n      <td>[nan, data/raw/images/kickscrew/adidas/adidas-...</td>\n      <td>kickscrew</td>\n      <td>USD</td>\n      <td>Adidas Grand Court 2.0 Sneakers</td>\n      <td>White Black</td>\n      <td>adidas grand court 20 sneakers</td>\n      <td>NaN</td>\n    </tr>\n  </tbody>\n</table>\n<p>11841 rows × 14 columns</p>\n</div>"
     },
     "execution_count": 8,
     "metadata": {},
     "output_type": "execute_result"
    }
   ],
   "source": [
    "merged_datasets = pd.concat(list(datasets.values()), ignore_index=True)\n",
    "merged_datasets"
   ],
   "metadata": {
    "collapsed": false,
    "ExecuteTime": {
     "end_time": "2023-11-17T09:05:11.935678Z",
     "start_time": "2023-11-17T09:05:11.870910Z"
    }
   }
  },
  {
   "cell_type": "code",
   "execution_count": 9,
   "outputs": [
    {
     "data": {
      "text/plain": "                           title_merge  \\\n0                               01 low   \n1                             01 low m   \n2                             01 low w   \n3                           01 low wom   \n4                            180 tones   \n...                                ...   \n5224                  zoom verona slip   \n5225  zoom verona slip x leticia bufon   \n5226                  zoom vomero 5 sp   \n5227                       zx 22 boost   \n5228                    zx 2k boost 20   \n\n                                         brand  \\\n0                               [Autry, Autry]   \n1                        [Autry, Autry, Autry]   \n2                 [Autry, Autry, Autry, Autry]   \n3                                      [Autry]   \n4           [PUMA Sportstyle, PUMA Sportstyle]   \n...                                        ...   \n5224  [Nike Skateboarding, Nike Skateboarding]   \n5225                      [Nike Skateboarding]   \n5226                              [Nike, Nike]   \n5227                        [Adidas Originals]   \n5228                                  [Adidas]   \n\n                                        collection_name  \\\n0                        [category-women, category-men]   \n1            [category-men, category-men, category-men]   \n2     [category-women, category-women, category-wome...   \n3                                      [category-women]   \n4                    [category-unisex, category-unisex]   \n...                                                 ...   \n5224                       [category-men, category-men]   \n5225                                  [category-unisex]   \n5226                       [men-sneakers, men-sneakers]   \n5227                                     [category-men]   \n5228                                   [women-sneakers]   \n\n                                                  color  \\\n0                                      [White, Mustard]   \n1                           [BLACK, BI VIOLET, BI EDEN]   \n2              [BI POW, WHT/CORAL, SALTWATER, BI IVORY]   \n3                                          [WHT/PETROL]   \n4                        [Glacial Gray, Toasted Almond]   \n...                                                 ...   \n5224                             [Leo Baker, Light Dew]   \n5225                                                 []   \n5226  [VAST GREY/VAST GREY-BLACK-SAIL, ANTHRACITE/AN...   \n5227                                      [Cream White]   \n5228                                            [WHITE]   \n\n                                            images_path  \\\n0     [data/raw_new/images/sneakerbaas/category-wome...   \n1     [data/raw_new/images/sneakerbaas/category-men/...   \n2     [data/raw_new/images/sneakerbaas/category-wome...   \n3     [data/raw_new/images/sneakerbaas/category-wome...   \n4     [data/raw_new/images/sneakerbaas/category-unis...   \n...                                                 ...   \n5224  [data/raw_new/images/sneakerbaas/category-men/...   \n5225  [data/raw_new/images/sneakerbaas/category-unis...   \n5226  [data/raw_new/images/superkicks/men-sneakers/n...   \n5227  [data/raw_new/images/sneakerbaas/category-men/...   \n5228  [data/raw_new/images/superkicks/women-sneakers...   \n\n                                 price         pricecurrency  \\\n0                     [129.99, 149.99]            [EUR, EUR]   \n1             [149.99, 149.99, 149.99]       [EUR, EUR, EUR]   \n2     [149.99, 149.99, 149.99, 149.99]  [EUR, EUR, EUR, EUR]   \n3                             [149.99]                 [EUR]   \n4                       [95.99, 95.99]            [EUR, EUR]   \n...                                ...                   ...   \n5224                    [49.99, 49.99]            [EUR, EUR]   \n5225                           [39.99]                 [EUR]   \n5226                [14995.0, 14995.0]            [INR, INR]   \n5227                           [59.99]                 [EUR]   \n5228                          [8399.0]                 [INR]   \n\n                                                    url  \\\n0     [https://www.sneakerbaas.com/collections/sneak...   \n1     [https://www.sneakerbaas.com/collections/sneak...   \n2     [https://www.sneakerbaas.com/collections/sneak...   \n3     [https://www.sneakerbaas.com/collections/sneak...   \n4     [https://www.sneakerbaas.com/collections/sneak...   \n...                                                 ...   \n5224  [https://www.sneakerbaas.com/collections/sneak...   \n5225  [https://www.sneakerbaas.com/collections/sneak...   \n5226  [https://www.superkicks.in/products/zoom-vomer...   \n5227  [https://www.sneakerbaas.com/collections/sneak...   \n5228  [https://www.superkicks.in/products/zx-2k-boos...   \n\n                                                website  \n0                            [sneakerbaas, sneakerbaas]  \n1               [sneakerbaas, sneakerbaas, sneakerbaas]  \n2     [sneakerbaas, sneakerbaas, sneakerbaas, sneake...  \n3                                         [sneakerbaas]  \n4                            [sneakerbaas, sneakerbaas]  \n...                                                 ...  \n5224                         [sneakerbaas, sneakerbaas]  \n5225                                      [sneakerbaas]  \n5226                           [superkicks, superkicks]  \n5227                                      [sneakerbaas]  \n5228                                       [superkicks]  \n\n[5229 rows x 9 columns]",
      "text/html": "<div>\n<style scoped>\n    .dataframe tbody tr th:only-of-type {\n        vertical-align: middle;\n    }\n\n    .dataframe tbody tr th {\n        vertical-align: top;\n    }\n\n    .dataframe thead th {\n        text-align: right;\n    }\n</style>\n<table border=\"1\" class=\"dataframe\">\n  <thead>\n    <tr style=\"text-align: right;\">\n      <th></th>\n      <th>title_merge</th>\n      <th>brand</th>\n      <th>collection_name</th>\n      <th>color</th>\n      <th>images_path</th>\n      <th>price</th>\n      <th>pricecurrency</th>\n      <th>url</th>\n      <th>website</th>\n    </tr>\n  </thead>\n  <tbody>\n    <tr>\n      <th>0</th>\n      <td>01 low</td>\n      <td>[Autry, Autry]</td>\n      <td>[category-women, category-men]</td>\n      <td>[White, Mustard]</td>\n      <td>[data/raw_new/images/sneakerbaas/category-wome...</td>\n      <td>[129.99, 149.99]</td>\n      <td>[EUR, EUR]</td>\n      <td>[https://www.sneakerbaas.com/collections/sneak...</td>\n      <td>[sneakerbaas, sneakerbaas]</td>\n    </tr>\n    <tr>\n      <th>1</th>\n      <td>01 low m</td>\n      <td>[Autry, Autry, Autry]</td>\n      <td>[category-men, category-men, category-men]</td>\n      <td>[BLACK, BI VIOLET, BI EDEN]</td>\n      <td>[data/raw_new/images/sneakerbaas/category-men/...</td>\n      <td>[149.99, 149.99, 149.99]</td>\n      <td>[EUR, EUR, EUR]</td>\n      <td>[https://www.sneakerbaas.com/collections/sneak...</td>\n      <td>[sneakerbaas, sneakerbaas, sneakerbaas]</td>\n    </tr>\n    <tr>\n      <th>2</th>\n      <td>01 low w</td>\n      <td>[Autry, Autry, Autry, Autry]</td>\n      <td>[category-women, category-women, category-wome...</td>\n      <td>[BI POW, WHT/CORAL, SALTWATER, BI IVORY]</td>\n      <td>[data/raw_new/images/sneakerbaas/category-wome...</td>\n      <td>[149.99, 149.99, 149.99, 149.99]</td>\n      <td>[EUR, EUR, EUR, EUR]</td>\n      <td>[https://www.sneakerbaas.com/collections/sneak...</td>\n      <td>[sneakerbaas, sneakerbaas, sneakerbaas, sneake...</td>\n    </tr>\n    <tr>\n      <th>3</th>\n      <td>01 low wom</td>\n      <td>[Autry]</td>\n      <td>[category-women]</td>\n      <td>[WHT/PETROL]</td>\n      <td>[data/raw_new/images/sneakerbaas/category-wome...</td>\n      <td>[149.99]</td>\n      <td>[EUR]</td>\n      <td>[https://www.sneakerbaas.com/collections/sneak...</td>\n      <td>[sneakerbaas]</td>\n    </tr>\n    <tr>\n      <th>4</th>\n      <td>180 tones</td>\n      <td>[PUMA Sportstyle, PUMA Sportstyle]</td>\n      <td>[category-unisex, category-unisex]</td>\n      <td>[Glacial Gray, Toasted Almond]</td>\n      <td>[data/raw_new/images/sneakerbaas/category-unis...</td>\n      <td>[95.99, 95.99]</td>\n      <td>[EUR, EUR]</td>\n      <td>[https://www.sneakerbaas.com/collections/sneak...</td>\n      <td>[sneakerbaas, sneakerbaas]</td>\n    </tr>\n    <tr>\n      <th>...</th>\n      <td>...</td>\n      <td>...</td>\n      <td>...</td>\n      <td>...</td>\n      <td>...</td>\n      <td>...</td>\n      <td>...</td>\n      <td>...</td>\n      <td>...</td>\n    </tr>\n    <tr>\n      <th>5224</th>\n      <td>zoom verona slip</td>\n      <td>[Nike Skateboarding, Nike Skateboarding]</td>\n      <td>[category-men, category-men]</td>\n      <td>[Leo Baker, Light Dew]</td>\n      <td>[data/raw_new/images/sneakerbaas/category-men/...</td>\n      <td>[49.99, 49.99]</td>\n      <td>[EUR, EUR]</td>\n      <td>[https://www.sneakerbaas.com/collections/sneak...</td>\n      <td>[sneakerbaas, sneakerbaas]</td>\n    </tr>\n    <tr>\n      <th>5225</th>\n      <td>zoom verona slip x leticia bufon</td>\n      <td>[Nike Skateboarding]</td>\n      <td>[category-unisex]</td>\n      <td>[]</td>\n      <td>[data/raw_new/images/sneakerbaas/category-unis...</td>\n      <td>[39.99]</td>\n      <td>[EUR]</td>\n      <td>[https://www.sneakerbaas.com/collections/sneak...</td>\n      <td>[sneakerbaas]</td>\n    </tr>\n    <tr>\n      <th>5226</th>\n      <td>zoom vomero 5 sp</td>\n      <td>[Nike, Nike]</td>\n      <td>[men-sneakers, men-sneakers]</td>\n      <td>[VAST GREY/VAST GREY-BLACK-SAIL, ANTHRACITE/AN...</td>\n      <td>[data/raw_new/images/superkicks/men-sneakers/n...</td>\n      <td>[14995.0, 14995.0]</td>\n      <td>[INR, INR]</td>\n      <td>[https://www.superkicks.in/products/zoom-vomer...</td>\n      <td>[superkicks, superkicks]</td>\n    </tr>\n    <tr>\n      <th>5227</th>\n      <td>zx 22 boost</td>\n      <td>[Adidas Originals]</td>\n      <td>[category-men]</td>\n      <td>[Cream White]</td>\n      <td>[data/raw_new/images/sneakerbaas/category-men/...</td>\n      <td>[59.99]</td>\n      <td>[EUR]</td>\n      <td>[https://www.sneakerbaas.com/collections/sneak...</td>\n      <td>[sneakerbaas]</td>\n    </tr>\n    <tr>\n      <th>5228</th>\n      <td>zx 2k boost 20</td>\n      <td>[Adidas]</td>\n      <td>[women-sneakers]</td>\n      <td>[WHITE]</td>\n      <td>[data/raw_new/images/superkicks/women-sneakers...</td>\n      <td>[8399.0]</td>\n      <td>[INR]</td>\n      <td>[https://www.superkicks.in/products/zx-2k-boos...</td>\n      <td>[superkicks]</td>\n    </tr>\n  </tbody>\n</table>\n<p>5229 rows × 9 columns</p>\n</div>"
     },
     "execution_count": 9,
     "metadata": {},
     "output_type": "execute_result"
    }
   ],
   "source": [
    "# group by по названиям, если все названия будут одинаковые, то все дублирующие кроссы сложатся в одно.\n",
    "test = merged_datasets.groupby(\"title_merge\").agg({\n",
    "    \"brand\": list,\n",
    "    \"collection_name\": list,\n",
    "    \"color\": list,\n",
    "    \"images_path\": list,\n",
    "    \"price\": list,\n",
    "    \"pricecurrency\": list,\n",
    "    \"url\": list,\n",
    "    \"website\": list\n",
    "}).reset_index().sort_values(by=\"title_merge\")\n",
    "test"
   ],
   "metadata": {
    "collapsed": false,
    "ExecuteTime": {
     "end_time": "2023-11-17T09:05:13.267228Z",
     "start_time": "2023-11-17T09:05:12.242931Z"
    }
   }
  },
  {
   "cell_type": "code",
   "execution_count": 13,
   "outputs": [],
   "source": [
    "test.to_csv(\"data/raw/metadata/dataset.csv\", index=False)"
   ],
   "metadata": {
    "collapsed": false,
    "ExecuteTime": {
     "end_time": "2023-11-17T09:07:44.572799Z",
     "start_time": "2023-11-17T09:07:44.328977Z"
    }
   }
  },
  {
   "cell_type": "code",
   "execution_count": 10,
   "outputs": [
    {
     "name": "stdout",
     "output_type": "stream",
     "text": [
      "(11841, 14)\n",
      "(5229, 9)\n"
     ]
    }
   ],
   "source": [
    "# sizes\n",
    "print(merged_datasets.shape)\n",
    "print(test.shape)"
   ],
   "metadata": {
    "collapsed": false,
    "ExecuteTime": {
     "end_time": "2023-11-17T09:05:16.433110Z",
     "start_time": "2023-11-17T09:05:16.404263Z"
    }
   }
  },
  {
   "cell_type": "code",
   "execution_count": 11,
   "outputs": [],
   "source": [
    "test[[\"title_merge\", \"website\"]].to_csv(\"temp.csv\", index=False)"
   ],
   "metadata": {
    "collapsed": false,
    "ExecuteTime": {
     "end_time": "2023-11-17T09:05:16.467536Z",
     "start_time": "2023-11-17T09:05:16.409391Z"
    }
   }
  },
  {
   "cell_type": "code",
   "execution_count": 12,
   "outputs": [
    {
     "ename": "KeyError",
     "evalue": "'title'",
     "output_type": "error",
     "traceback": [
      "\u001B[0;31m---------------------------------------------------------------------------\u001B[0m",
      "\u001B[0;31mKeyError\u001B[0m                                  Traceback (most recent call last)",
      "File \u001B[0;32m/usr/local/lib/python3.11/site-packages/pandas/core/indexes/base.py:3653\u001B[0m, in \u001B[0;36mIndex.get_loc\u001B[0;34m(self, key)\u001B[0m\n\u001B[1;32m   3652\u001B[0m \u001B[38;5;28;01mtry\u001B[39;00m:\n\u001B[0;32m-> 3653\u001B[0m     \u001B[38;5;28;01mreturn\u001B[39;00m \u001B[38;5;28;43mself\u001B[39;49m\u001B[38;5;241;43m.\u001B[39;49m\u001B[43m_engine\u001B[49m\u001B[38;5;241;43m.\u001B[39;49m\u001B[43mget_loc\u001B[49m\u001B[43m(\u001B[49m\u001B[43mcasted_key\u001B[49m\u001B[43m)\u001B[49m\n\u001B[1;32m   3654\u001B[0m \u001B[38;5;28;01mexcept\u001B[39;00m \u001B[38;5;167;01mKeyError\u001B[39;00m \u001B[38;5;28;01mas\u001B[39;00m err:\n",
      "File \u001B[0;32m/usr/local/lib/python3.11/site-packages/pandas/_libs/index.pyx:147\u001B[0m, in \u001B[0;36mpandas._libs.index.IndexEngine.get_loc\u001B[0;34m()\u001B[0m\n",
      "File \u001B[0;32m/usr/local/lib/python3.11/site-packages/pandas/_libs/index.pyx:176\u001B[0m, in \u001B[0;36mpandas._libs.index.IndexEngine.get_loc\u001B[0;34m()\u001B[0m\n",
      "File \u001B[0;32mpandas/_libs/hashtable_class_helper.pxi:7080\u001B[0m, in \u001B[0;36mpandas._libs.hashtable.PyObjectHashTable.get_item\u001B[0;34m()\u001B[0m\n",
      "File \u001B[0;32mpandas/_libs/hashtable_class_helper.pxi:7088\u001B[0m, in \u001B[0;36mpandas._libs.hashtable.PyObjectHashTable.get_item\u001B[0;34m()\u001B[0m\n",
      "\u001B[0;31mKeyError\u001B[0m: 'title'",
      "\nThe above exception was the direct cause of the following exception:\n",
      "\u001B[0;31mKeyError\u001B[0m                                  Traceback (most recent call last)",
      "Cell \u001B[0;32mIn[12], line 1\u001B[0m\n\u001B[0;32m----> 1\u001B[0m titles \u001B[38;5;241m=\u001B[39m \u001B[43mtest\u001B[49m\u001B[43m[\u001B[49m\u001B[38;5;124;43m\"\u001B[39;49m\u001B[38;5;124;43mtitle\u001B[39;49m\u001B[38;5;124;43m\"\u001B[39;49m\u001B[43m]\u001B[49m\u001B[38;5;241m.\u001B[39mtolist()\n",
      "File \u001B[0;32m/usr/local/lib/python3.11/site-packages/pandas/core/frame.py:3761\u001B[0m, in \u001B[0;36mDataFrame.__getitem__\u001B[0;34m(self, key)\u001B[0m\n\u001B[1;32m   3759\u001B[0m \u001B[38;5;28;01mif\u001B[39;00m \u001B[38;5;28mself\u001B[39m\u001B[38;5;241m.\u001B[39mcolumns\u001B[38;5;241m.\u001B[39mnlevels \u001B[38;5;241m>\u001B[39m \u001B[38;5;241m1\u001B[39m:\n\u001B[1;32m   3760\u001B[0m     \u001B[38;5;28;01mreturn\u001B[39;00m \u001B[38;5;28mself\u001B[39m\u001B[38;5;241m.\u001B[39m_getitem_multilevel(key)\n\u001B[0;32m-> 3761\u001B[0m indexer \u001B[38;5;241m=\u001B[39m \u001B[38;5;28;43mself\u001B[39;49m\u001B[38;5;241;43m.\u001B[39;49m\u001B[43mcolumns\u001B[49m\u001B[38;5;241;43m.\u001B[39;49m\u001B[43mget_loc\u001B[49m\u001B[43m(\u001B[49m\u001B[43mkey\u001B[49m\u001B[43m)\u001B[49m\n\u001B[1;32m   3762\u001B[0m \u001B[38;5;28;01mif\u001B[39;00m is_integer(indexer):\n\u001B[1;32m   3763\u001B[0m     indexer \u001B[38;5;241m=\u001B[39m [indexer]\n",
      "File \u001B[0;32m/usr/local/lib/python3.11/site-packages/pandas/core/indexes/base.py:3655\u001B[0m, in \u001B[0;36mIndex.get_loc\u001B[0;34m(self, key)\u001B[0m\n\u001B[1;32m   3653\u001B[0m     \u001B[38;5;28;01mreturn\u001B[39;00m \u001B[38;5;28mself\u001B[39m\u001B[38;5;241m.\u001B[39m_engine\u001B[38;5;241m.\u001B[39mget_loc(casted_key)\n\u001B[1;32m   3654\u001B[0m \u001B[38;5;28;01mexcept\u001B[39;00m \u001B[38;5;167;01mKeyError\u001B[39;00m \u001B[38;5;28;01mas\u001B[39;00m err:\n\u001B[0;32m-> 3655\u001B[0m     \u001B[38;5;28;01mraise\u001B[39;00m \u001B[38;5;167;01mKeyError\u001B[39;00m(key) \u001B[38;5;28;01mfrom\u001B[39;00m \u001B[38;5;21;01merr\u001B[39;00m\n\u001B[1;32m   3656\u001B[0m \u001B[38;5;28;01mexcept\u001B[39;00m \u001B[38;5;167;01mTypeError\u001B[39;00m:\n\u001B[1;32m   3657\u001B[0m     \u001B[38;5;66;03m# If we have a listlike key, _check_indexing_error will raise\u001B[39;00m\n\u001B[1;32m   3658\u001B[0m     \u001B[38;5;66;03m#  InvalidIndexError. Otherwise we fall through and re-raise\u001B[39;00m\n\u001B[1;32m   3659\u001B[0m     \u001B[38;5;66;03m#  the TypeError.\u001B[39;00m\n\u001B[1;32m   3660\u001B[0m     \u001B[38;5;28mself\u001B[39m\u001B[38;5;241m.\u001B[39m_check_indexing_error(key)\n",
      "\u001B[0;31mKeyError\u001B[0m: 'title'"
     ]
    }
   ],
   "source": [
    "titles = test[\"title\"].tolist()"
   ],
   "metadata": {
    "collapsed": false,
    "ExecuteTime": {
     "end_time": "2023-11-17T09:05:21.891765Z",
     "start_time": "2023-11-17T09:05:20.974705Z"
    }
   }
  },
  {
   "cell_type": "code",
   "execution_count": 12,
   "outputs": [
    {
     "name": "stdout",
     "output_type": "stream",
     "text": [
      "\r\n",
      "\u001B[1m[\u001B[0m\u001B[34;49mnotice\u001B[0m\u001B[1;39;49m]\u001B[0m\u001B[39;49m A new release of pip is available: \u001B[0m\u001B[31;49m23.2.1\u001B[0m\u001B[39;49m -> \u001B[0m\u001B[32;49m23.3.1\u001B[0m\r\n",
      "\u001B[1m[\u001B[0m\u001B[34;49mnotice\u001B[0m\u001B[1;39;49m]\u001B[0m\u001B[39;49m To update, run: \u001B[0m\u001B[32;49mpip install --upgrade pip\u001B[0m\r\n"
     ]
    }
   ],
   "source": [
    "!pip install thefuzz -q"
   ],
   "metadata": {
    "collapsed": false,
    "ExecuteTime": {
     "end_time": "2023-11-12T11:37:18.803864024Z",
     "start_time": "2023-11-12T11:37:11.085511451Z"
    }
   }
  },
  {
   "cell_type": "code",
   "execution_count": 13,
   "outputs": [
    {
     "data": {
      "text/plain": "[('vans ua og authentic lx vault checkerboard', 69),\n ('vans vault authentic one piece vlt lx', 69),\n ('vans vault og authentic frayed lx', 70),\n ('vans vault og authentic lx canvas', 70),\n ('authentic los vans', 71),\n ('vans og authentic lx stressed', 71),\n ('vans ua authentic vr3 pw lx', 77),\n ('vans ua og authentic lx suede', 78),\n ('vans vault og authentic lx', 79),\n ('vans og authentic lx', 80)]"
     },
     "execution_count": 13,
     "metadata": {},
     "output_type": "execute_result"
    }
   ],
   "source": [
    "from thefuzz import fuzz\n",
    "\n",
    "def similarity(string1, string2):\n",
    "    return fuzz.token_sort_ratio(string1, string2)\n",
    "\n",
    "title = \"vans - ua og authentic lx yellow\"\n",
    "\n",
    "similarities = []\n",
    "for text in titles:\n",
    "    similarities.append((text, similarity(title, text)))\n",
    "\n",
    "similarities.sort(key=lambda x: x[1])\n",
    "similarities[-10:]"
   ],
   "metadata": {
    "collapsed": false,
    "ExecuteTime": {
     "end_time": "2023-11-12T11:37:18.920868225Z",
     "start_time": "2023-11-12T11:37:18.813255484Z"
    }
   }
  },
  {
   "cell_type": "code",
   "execution_count": 18,
   "outputs": [],
   "source": [
    "# эта тема лучше всего находит похожие"
   ],
   "metadata": {
    "collapsed": false,
    "ExecuteTime": {
     "end_time": "2023-11-12T11:15:38.161794367Z",
     "start_time": "2023-11-12T11:15:38.121189651Z"
    }
   }
  },
  {
   "cell_type": "code",
   "execution_count": 14,
   "outputs": [],
   "source": [
    "test.to_csv(\"temp.csv\")"
   ],
   "metadata": {
    "collapsed": false,
    "ExecuteTime": {
     "end_time": "2023-11-12T11:38:02.153413018Z",
     "start_time": "2023-11-12T11:38:01.995539843Z"
    }
   }
  },
  {
   "cell_type": "code",
   "execution_count": null,
   "outputs": [],
   "source": [],
   "metadata": {
    "collapsed": false
   }
  }
 ],
 "metadata": {
  "kernelspec": {
   "display_name": "DS",
   "language": "python",
   "name": "python3"
  },
  "language_info": {
   "codemirror_mode": {
    "name": "ipython",
    "version": 3
   },
   "file_extension": ".py",
   "mimetype": "text/x-python",
   "name": "python",
   "nbconvert_exporter": "python",
   "pygments_lexer": "ipython3",
   "version": "3.9.16"
  }
 },
 "nbformat": 4,
 "nbformat_minor": 2
}
