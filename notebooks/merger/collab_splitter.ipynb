{
 "cells": [
  {
   "cell_type": "markdown",
   "source": [
    "## Мержер дубликатов"
   ],
   "metadata": {
    "collapsed": false
   },
   "id": "8aa3e191c59b0b2e"
  },
  {
   "cell_type": "code",
   "execution_count": 2,
   "id": "initial_id",
   "metadata": {
    "collapsed": true,
    "ExecuteTime": {
     "end_time": "2023-11-17T20:56:36.253857Z",
     "start_time": "2023-11-17T20:56:35.679825Z"
    }
   },
   "outputs": [],
   "source": [
    "# for PyCharm\n",
    "import os\n",
    "\n",
    "import pandas as pd\n",
    "\n",
    "current_directory = os.getcwd()\n",
    "project_directory = os.path.abspath(\n",
    "    os.path.join(current_directory, os.pardir, os.pardir)\n",
    ")\n",
    "os.chdir(project_directory)"
   ]
  },
  {
   "cell_type": "code",
   "execution_count": 15,
   "outputs": [],
   "source": [
    "def resolve_same_brands(brands_data: pd.DataFrame):\n",
    "    def merge_if_naming_match(lhs: str, pop_brands: set[str]):\n",
    "        lhs_lower = lhs.lower().split()[0]\n",
    "        for b in pop_brands:\n",
    "            if b.lower() == lhs_lower:\n",
    "                return b\n",
    "        return lhs\n",
    "\n",
    "    brands = brands_data.value_counts()\n",
    "    pop_brands = list(brands[: len(brands) // 2].keys())  # set of all unique brands\n",
    "    return brands_data.apply(lambda brand: merge_if_naming_match(brand, pop_brands))"
   ],
   "metadata": {
    "collapsed": false,
    "ExecuteTime": {
     "end_time": "2023-11-17T20:59:54.738941Z",
     "start_time": "2023-11-17T20:59:54.731193Z"
    }
   },
   "id": "49b94b5687c3750c"
  },
  {
   "cell_type": "code",
   "execution_count": 4,
   "outputs": [
    {
     "data": {
      "text/plain": "brand\nNike                      1691\nAir Jordan                 787\nadidas                     645\nConverse                   341\nOnitsuka Tiger             312\nAsics                      273\nNew Balance                269\nVans                       159\nLi-Ning                    147\nPuma                        87\nUnder Armour                44\nANTA                        20\nReebok                      19\nUGG                         14\nMizuno                      12\nSkechers                    11\nSALOMON                     11\nHOKA ONE ONE                 9\nCrocs                        8\nGUCCI                        6\nOFF-WHITE                    4\nCASIO                        4\nDIOR                         3\nFear of God Essentials       3\nOn Running                   3\nDr. Martens                  3\nAlexander McQueen            2\n361 Degrees                  2\nBalenciaga                   2\nMaison MIHARA YASUHIRO       2\nMitchell & Ness              1\nTHE NORTH FACE               1\nPalm Angels                  1\nFILA                         1\nRigorer                      1\nPRADA                        1\nFendi                        1\nName: count, dtype: int64"
     },
     "execution_count": 4,
     "metadata": {},
     "output_type": "execute_result"
    }
   ],
   "source": [
    "# superkicks\n",
    "data = pd.read_csv(\"data/raw/metadata/kickscrew.csv\")\n",
    "data[\"brand\"].value_counts()"
   ],
   "metadata": {
    "collapsed": false,
    "ExecuteTime": {
     "end_time": "2023-11-17T20:56:48.207985Z",
     "start_time": "2023-11-17T20:56:48.124505Z"
    }
   },
   "id": "9b4059eb60c0726b"
  },
  {
   "cell_type": "code",
   "execution_count": 5,
   "outputs": [
    {
     "data": {
      "text/plain": "brand\nNew Balance                       128\nConverse                           49\nAdidas                             38\nVans                               31\nasics                              29\n                                 ... \nConverse x Fragment                 1\nSaucony x Colour Plus Companie      1\nAdidas x Bad Bunny                  1\nSean Wotherspoon x Adidas           1\nPuma x P.A.M.                       1\nName: count, Length: 72, dtype: int64"
     },
     "execution_count": 5,
     "metadata": {},
     "output_type": "execute_result"
    }
   ],
   "source": [
    "# highsnobiety\n",
    "\n",
    "data = pd.read_csv(\"data/raw/metadata/highsnobiety.csv\")\n",
    "data[\"brand\"].value_counts()"
   ],
   "metadata": {
    "collapsed": false,
    "ExecuteTime": {
     "end_time": "2023-11-17T20:56:49.783097Z",
     "start_time": "2023-11-17T20:56:49.731733Z"
    }
   },
   "id": "547af98bf3e8f89c"
  },
  {
   "cell_type": "code",
   "execution_count": 6,
   "outputs": [
    {
     "data": {
      "text/plain": "brand\nNew Balance             129\nConverse                 65\nAdidas                   43\nasics                    32\nVans                     31\nSalomon                  30\nReebok                   30\nPuma                     27\nOn                       25\nSaucony                  23\nMizuno                   15\nMerrell                  15\nVEJA                     15\nMoncler                  14\nHOKA                     14\nROA                      12\nNorda                    12\nCAMPERLAB                 8\nMaison Margiela           8\nStone Island              6\nKeen                      6\nRaf Simons                6\nStepney Workers Club      4\nTrussardi                 4\nAthletics Footwear        4\nY-3                       3\nLast Resort AB            2\nDiesel                    2\nRANRA                     2\nBAPE                      2\nAcne Studios              2\nadidas Terrex             1\nOur Legacy                1\nPatta                     1\nSean Wotherspoon          1\nKenzo                     1\nReebok LTD                1\nSoulland                  1\nName: count, dtype: int64"
     },
     "execution_count": 6,
     "metadata": {},
     "output_type": "execute_result"
    }
   ],
   "source": [
    "patched = data[\"brand\"].apply(lambda brand: brand[: len(brand.lower().split(\" x \")[0])])\n",
    "# get diff between data['brand'] and patched:\n",
    "patched.value_counts()"
   ],
   "metadata": {
    "collapsed": false,
    "ExecuteTime": {
     "end_time": "2023-11-17T20:56:52.026398Z",
     "start_time": "2023-11-17T20:56:52.020027Z"
    }
   },
   "id": "3e069e0d3b423c3"
  },
  {
   "cell_type": "code",
   "execution_count": 7,
   "outputs": [
    {
     "data": {
      "text/plain": "38"
     },
     "execution_count": 7,
     "metadata": {},
     "output_type": "execute_result"
    }
   ],
   "source": [
    "# apply collab patch:\n",
    "data[\"brand\"] = patched\n",
    "len(data[\"brand\"].value_counts())"
   ],
   "metadata": {
    "collapsed": false,
    "ExecuteTime": {
     "end_time": "2023-11-17T20:57:03.975159Z",
     "start_time": "2023-11-17T20:57:03.958304Z"
    }
   },
   "id": "b22d4a7dbe9a5a3c"
  },
  {
   "cell_type": "code",
   "execution_count": 16,
   "outputs": [
    {
     "data": {
      "text/plain": "brand\nNew Balance             129\nConverse                 65\nAdidas                   44\nasics                    32\nVans                     31\nReebok                   31\nSalomon                  30\nPuma                     27\nOn                       25\nSaucony                  23\nMerrell                  15\nVEJA                     15\nMizuno                   15\nMoncler                  14\nHOKA                     14\nNorda                    12\nROA                      12\nCAMPERLAB                 8\nMaison Margiela           8\nStone Island              6\nKeen                      6\nRaf Simons                6\nStepney Workers Club      4\nTrussardi                 4\nAthletics Footwear        4\nY-3                       3\nLast Resort AB            2\nDiesel                    2\nRANRA                     2\nBAPE                      2\nAcne Studios              2\nOur Legacy                1\nPatta                     1\nKenzo                     1\nSean Wotherspoon          1\nSoulland                  1\nName: count, dtype: int64"
     },
     "execution_count": 16,
     "metadata": {},
     "output_type": "execute_result"
    }
   ],
   "source": [
    "patched = resolve_same_brands(data[\"brand\"])\n",
    "patched.value_counts()"
   ],
   "metadata": {
    "collapsed": false,
    "ExecuteTime": {
     "end_time": "2023-11-17T20:59:57.814820Z",
     "start_time": "2023-11-17T20:59:57.803050Z"
    }
   },
   "id": "20c2e21d0f628244"
  },
  {
   "cell_type": "code",
   "execution_count": 17,
   "outputs": [
    {
     "name": "stdout",
     "output_type": "stream",
     "text": [
      "36\n"
     ]
    }
   ],
   "source": [
    "# apply collab patch:\n",
    "data[\"brand\"] = patched\n",
    "print(len(data[\"brand\"].value_counts()))\n",
    "data.to_csv(\"data/raw/metadata/highsnobiety.csv\", index=False)"
   ],
   "metadata": {
    "collapsed": false,
    "ExecuteTime": {
     "end_time": "2023-11-17T21:01:11.506317Z",
     "start_time": "2023-11-17T21:01:11.449017Z"
    }
   },
   "id": "c2893db4e605c40d"
  },
  {
   "cell_type": "code",
   "execution_count": 20,
   "outputs": [
    {
     "data": {
      "text/plain": "brand\nKarhu                   149\nNike                    134\nPUMA Sportstyle          79\nNew Balance              67\nPuma Sportstyle          65\nadidas Originals         53\nSaucony                  49\nReebok Classics          48\nVans                     41\nHi-Tec                   38\nAutry                    36\nKangaROOS                32\nVeja                     29\nSalomon                  28\nMizuno                   24\nDiadora                  18\nClarks                   17\nAsics                    16\nStepney Workers Club     15\nSergio Tacchini          11\nEtonic                    9\nAdidas Originals          7\nETONIC                    6\nKangaroos                 5\nNike Skateboarding        4\nSaucony Originals         4\nMerrell                   3\nConverse                  2\nJordan                    2\nHi-tec                    2\nWarrior                   2\nnike                      1\nNew balance               1\nVANS                      1\nadidas originals          1\nName: count, dtype: int64"
     },
     "execution_count": 20,
     "metadata": {},
     "output_type": "execute_result"
    }
   ],
   "source": [
    "# sneakerbaas\n",
    "\n",
    "data = pd.read_csv(\"data/raw/metadata/sneakerbaas.csv\")\n",
    "data[\"brand\"].value_counts()"
   ],
   "metadata": {
    "collapsed": false,
    "ExecuteTime": {
     "end_time": "2023-11-17T21:02:00.348816Z",
     "start_time": "2023-11-17T21:02:00.328453Z"
    }
   },
   "id": "b3f558819257c65"
  },
  {
   "cell_type": "code",
   "execution_count": 21,
   "outputs": [
    {
     "data": {
      "text/plain": "brand\nadidas Originals          1071\nNike                       560\nOn                         488\nConverse                   470\nPuma                       458\nReebok                     407\nNew Balance                405\nVans Vault                 360\nVans                       279\nAsics                      227\nY-3                        226\nHOKA®                      149\nKARHU                      143\nadidas Performance         140\nBirkenstock                129\nSalomon Advanced           127\nDr. Martens                115\nVeja                        93\nFilling Pieces              80\nUGG                         55\nCrocs                       50\nUnder Armour                41\nSaucony                     40\nTimberland                  36\nMizuno                      35\nRAF SIMONS                  31\nMoon Boot                   29\nKangaROOS                   25\nRIPNDIP                     20\nThe North Face              15\nColumbia                    14\nHERON PRESTON               13\nComme des Garçons PLAY      11\nLevi's®                     11\nPLEASURES                    9\nCamper                       7\nTommy Hilfiger               5\nA-COLD-WALL*                 5\nMcQ                          5\nHelly Hansen                 5\nJordan                       5\nEllesse                      5\nFootshop                     5\nAmbush                       4\nDiesel                       4\nJust Don                     2\nRalph Lauren                 2\nMISBHV                       2\nLACOSTE                      2\nRick Owens DRKSHDW           1\nMARKET                       1\nFjällräven                   1\nName: count, dtype: int64"
     },
     "execution_count": 21,
     "metadata": {},
     "output_type": "execute_result"
    }
   ],
   "source": [
    "# footshop\n",
    "\n",
    "data = pd.read_csv(\"data/raw/metadata/footshop.csv\")\n",
    "data[\"brand\"].value_counts()"
   ],
   "metadata": {
    "collapsed": false,
    "ExecuteTime": {
     "end_time": "2023-11-17T21:02:05.213044Z",
     "start_time": "2023-11-17T21:02:05.151306Z"
    }
   },
   "id": "e9caa57f2653d0d3"
  }
 ],
 "metadata": {
  "kernelspec": {
   "display_name": "Python 3",
   "language": "python",
   "name": "python3"
  },
  "language_info": {
   "codemirror_mode": {
    "name": "ipython",
    "version": 2
   },
   "file_extension": ".py",
   "mimetype": "text/x-python",
   "name": "python",
   "nbconvert_exporter": "python",
   "pygments_lexer": "ipython2",
   "version": "2.7.6"
  }
 },
 "nbformat": 4,
 "nbformat_minor": 5
}
