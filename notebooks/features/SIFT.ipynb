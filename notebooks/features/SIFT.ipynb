{
 "cells": [
  {
   "cell_type": "code",
   "execution_count": null,
   "id": "initial_id",
   "metadata": {
    "collapsed": true
   },
   "outputs": [],
   "source": [
    "import cv2\n",
    "from cv2 import imread\n",
    "from matplotlib import pyplot as plt\n",
    "\n",
    "img = imread(\"/dogimage.jpg\")\n",
    "imgGray = cv2.cvtColor(img, cv2.COLOR_BGR2GRAY)\n",
    "\n",
    "sift = cv2.SIFT_create()\n",
    "keypoints, descriptors = sift.detectAndCompute(img, None)\n",
    "sift_image = cv2.drawKeypoints(imgGray, keypoints, img)\n",
    "\n",
    "plt.figure()\n",
    "plt.imshow(sift_image, cmap=\"gray\")\n",
    "plt.savefig(\"output/sift_image\")"
   ]
  },
  {
   "cell_type": "code",
   "execution_count": null,
   "id": "743e62cd1a353afc",
   "metadata": {
    "collapsed": false
   },
   "outputs": [],
   "source": [
    "# https://www.codespeedy.com/find-similarity-between-two-images-in-python/\n",
    "# https://stackoverflow.com/questions/50217364/sift-comparison-calculate-similarity-score-python\n",
    "# https://stackoverflow.com/questions/43220408/measure-of-image-similarity-for-feature-matching"
   ]
  }
 ],
 "metadata": {
  "kernelspec": {
   "display_name": "Python 3",
   "language": "python",
   "name": "python3"
  },
  "language_info": {
   "codemirror_mode": {
    "name": "ipython",
    "version": 2
   },
   "file_extension": ".py",
   "mimetype": "text/x-python",
   "name": "python",
   "nbconvert_exporter": "python",
   "pygments_lexer": "ipython2",
   "version": "3.9.16"
  }
 },
 "nbformat": 4,
 "nbformat_minor": 5
}
