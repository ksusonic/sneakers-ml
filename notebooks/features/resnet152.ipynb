{
 "cells": [
  {
   "cell_type": "code",
   "execution_count": 1,
   "id": "796ba9ffed509c23",
   "metadata": {
    "ExecuteTime": {
     "end_time": "2023-12-04T18:52:31.196430814Z",
     "start_time": "2023-12-04T18:52:31.143928111Z"
    },
    "collapsed": false
   },
   "outputs": [
    {
     "name": "stderr",
     "output_type": "stream",
     "text": [
      "/home/seara/.cache/pypoetry/virtualenvs/sneakers-ml-hflTz_mY-py3.9/lib/python3.9/site-packages/tqdm/auto.py:21: TqdmWarning: IProgress not found. Please update jupyter and ipywidgets. See https://ipywidgets.readthedocs.io/en/stable/user_install.html\n",
      "  from .autonotebook import tqdm as notebook_tqdm\n"
     ]
    }
   ],
   "source": [
    "from pathlib import Path\n",
    "\n",
    "from sneakers_ml.features.features import save_features\n",
    "from sneakers_ml.features.resnet152 import get_resnet152_features"
   ]
  },
  {
   "cell_type": "code",
   "execution_count": 2,
   "id": "initial_id",
   "metadata": {
    "ExecuteTime": {
     "end_time": "2023-12-04T18:53:22.607967239Z",
     "start_time": "2023-12-04T18:52:33.140458460Z"
    },
    "collapsed": true
   },
   "outputs": [
    {
     "name": "stderr",
     "output_type": "stream",
     "text": [
      "100%|██████████| 93/93 [00:50<00:00,  1.84it/s]\n"
     ]
    }
   ],
   "source": [
    "features, classes, class_to_idx = get_resnet152_features(\"data/merged/images/by-brands\")"
   ]
  },
  {
   "cell_type": "code",
   "execution_count": 8,
   "id": "5093ff11",
   "metadata": {},
   "outputs": [],
   "source": [
    "save_path = Path(\"data/features/by-brands/resnet152.pickle\")\n",
    "save_features(save_path, features, classes, class_to_idx)"
   ]
  }
 ],
 "metadata": {
  "kernelspec": {
   "display_name": "Python 3",
   "language": "python",
   "name": "python3"
  },
  "language_info": {
   "codemirror_mode": {
    "name": "ipython",
    "version": 3
   },
   "file_extension": ".py",
   "mimetype": "text/x-python",
   "name": "python",
   "nbconvert_exporter": "python",
   "pygments_lexer": "ipython3",
   "version": "3.9.16"
  }
 },
 "nbformat": 4,
 "nbformat_minor": 5
}
