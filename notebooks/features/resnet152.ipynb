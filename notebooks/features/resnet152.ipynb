{
 "cells": [
  {
   "cell_type": "code",
   "execution_count": 1,
   "id": "796ba9ffed509c23",
   "metadata": {
    "ExecuteTime": {
     "end_time": "2023-12-04T18:52:31.196430814Z",
     "start_time": "2023-12-04T18:52:31.143928111Z"
    },
    "collapsed": false
   },
   "outputs": [],
   "source": [
    "from sneakers_ml.features.features import create_features\n",
    "from sneakers_ml.features.resnet152 import get_resnet152_features"
   ]
  },
  {
   "cell_type": "code",
   "execution_count": 2,
   "id": "d005828f",
   "metadata": {},
   "outputs": [
    {
     "data": {
      "application/vnd.jupyter.widget-view+json": {
       "model_id": "b39196fae4374396b9d55c9dacc3ea5f",
       "version_major": 2,
       "version_minor": 0
      },
      "text/plain": [
       "  0%|          | 0/83 [00:00<?, ?it/s]"
      ]
     },
     "metadata": {},
     "output_type": "display_data"
    }
   ],
   "source": [
    "create_features(\n",
    "    \"data/training/brands-classification\", \"data/features/brands-classification\", get_resnet152_features, \"resnet\"\n",
    ")"
   ]
  },
  {
   "cell_type": "code",
   "execution_count": 3,
   "id": "d23b2eb2",
   "metadata": {},
   "outputs": [
    {
     "data": {
      "application/vnd.jupyter.widget-view+json": {
       "model_id": "4e439013482648e4b9d20d127d32593e",
       "version_major": 2,
       "version_minor": 0
      },
      "text/plain": [
       "  0%|          | 0/50 [00:00<?, ?it/s]"
      ]
     },
     "metadata": {},
     "output_type": "display_data"
    },
    {
     "data": {
      "application/vnd.jupyter.widget-view+json": {
       "model_id": "4db9cdccff894efc911cc3c0f356c408",
       "version_major": 2,
       "version_minor": 0
      },
      "text/plain": [
       "  0%|          | 0/17 [00:00<?, ?it/s]"
      ]
     },
     "metadata": {},
     "output_type": "display_data"
    },
    {
     "data": {
      "application/vnd.jupyter.widget-view+json": {
       "model_id": "f8d90cf7951c41ccbf284d52a6b64088",
       "version_major": 2,
       "version_minor": 0
      },
      "text/plain": [
       "  0%|          | 0/17 [00:00<?, ?it/s]"
      ]
     },
     "metadata": {},
     "output_type": "display_data"
    }
   ],
   "source": [
    "create_features(\n",
    "    \"data/training/brands-classification-splits\",\n",
    "    \"data/features/brands-classification-splits\",\n",
    "    get_resnet152_features,\n",
    "    \"resnet\",\n",
    ")"
   ]
  }
 ],
 "metadata": {
  "kernelspec": {
   "display_name": "Python 3",
   "language": "python",
   "name": "python3"
  },
  "language_info": {
   "codemirror_mode": {
    "name": "ipython",
    "version": 3
   },
   "file_extension": ".py",
   "mimetype": "text/x-python",
   "name": "python",
   "nbconvert_exporter": "python",
   "pygments_lexer": "ipython3",
   "version": "3.9.16"
  }
 },
 "nbformat": 4,
 "nbformat_minor": 5
}
