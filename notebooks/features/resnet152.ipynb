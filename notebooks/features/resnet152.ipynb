{
 "cells": [
  {
   "cell_type": "code",
   "execution_count": 1,
   "id": "796ba9ffed509c23",
   "metadata": {
    "ExecuteTime": {
     "end_time": "2023-12-04T18:52:31.196430814Z",
     "start_time": "2023-12-04T18:52:31.143928111Z"
    },
    "collapsed": false
   },
   "outputs": [],
   "source": [
    "import os\n",
    "\n",
    "from sneakers_ml.features.resnet152 import get_resnet152_features\n",
    "\n",
    "current_directory = os.getcwd()\n",
    "project_directory = os.path.abspath(\n",
    "    os.path.join(current_directory, os.pardir, os.pardir)\n",
    ")\n",
    "os.chdir(project_directory)"
   ]
  },
  {
   "cell_type": "code",
   "execution_count": 3,
   "id": "initial_id",
   "metadata": {
    "ExecuteTime": {
     "end_time": "2023-12-04T18:53:22.607967239Z",
     "start_time": "2023-12-04T18:52:33.140458460Z"
    },
    "collapsed": true
   },
   "outputs": [
    {
     "data": {
      "application/vnd.jupyter.widget-view+json": {
       "model_id": "d2939e2836744e658bf24452aebc59c1",
       "version_major": 2,
       "version_minor": 0
      },
      "text/plain": [
       "  0%|          | 0/93 [00:00<?, ?it/s]"
      ]
     },
     "metadata": {},
     "output_type": "display_data"
    }
   ],
   "source": [
    "features, classes, class_to_idx = get_resnet152_features(\n",
    "    \"data/merged/images/by-brands\", save=True\n",
    ")"
   ]
  }
 ],
 "metadata": {
  "kernelspec": {
   "display_name": "Python 3",
   "language": "python",
   "name": "python3"
  },
  "language_info": {
   "codemirror_mode": {
    "name": "ipython",
    "version": 2
   },
   "file_extension": ".py",
   "mimetype": "text/x-python",
   "name": "python",
   "nbconvert_exporter": "python",
   "pygments_lexer": "ipython2",
   "version": "2.7.6"
  }
 },
 "nbformat": 4,
 "nbformat_minor": 5
}
