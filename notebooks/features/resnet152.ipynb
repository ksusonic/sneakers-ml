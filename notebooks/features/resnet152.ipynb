{
 "cells": [
  {
   "cell_type": "code",
   "execution_count": 1,
   "outputs": [],
   "source": [
    "import os\n",
    "\n",
    "current_directory = os.getcwd()\n",
    "project_directory = os.path.abspath(os.path.join(current_directory, os.pardir, os.pardir))\n",
    "os.chdir(project_directory)"
   ],
   "metadata": {
    "collapsed": false,
    "ExecuteTime": {
     "end_time": "2023-12-04T14:25:46.243153518Z",
     "start_time": "2023-12-04T14:25:46.234868941Z"
    }
   },
   "id": "796ba9ffed509c23"
  },
  {
   "cell_type": "code",
   "execution_count": 2,
   "outputs": [],
   "source": [
    "import numpy as np\n",
    "import pandas as pd\n",
    "from src.features.resnet152 import get_resnet152_features\n",
    "from sklearn.decomposition import TruncatedSVD\n",
    "from sklearn.manifold import TSNE\n",
    "import seaborn as sns\n",
    "from sklearn.decomposition import PCA"
   ],
   "metadata": {
    "collapsed": false,
    "ExecuteTime": {
     "end_time": "2023-12-04T14:25:47.551610310Z",
     "start_time": "2023-12-04T14:25:46.242200890Z"
    }
   },
   "id": "a426660b73a2a895"
  },
  {
   "cell_type": "code",
   "execution_count": 3,
   "id": "initial_id",
   "metadata": {
    "collapsed": true,
    "ExecuteTime": {
     "end_time": "2023-12-04T14:26:33.439496505Z",
     "start_time": "2023-12-04T14:25:47.556386577Z"
    }
   },
   "outputs": [
    {
     "data": {
      "text/plain": "  0%|          | 0/93 [00:00<?, ?it/s]",
      "application/vnd.jupyter.widget-view+json": {
       "version_major": 2,
       "version_minor": 0,
       "model_id": "36c8ad1ead5c4d869ecad84c031481ad"
      }
     },
     "metadata": {},
     "output_type": "display_data"
    },
    {
     "ename": "TypeError",
     "evalue": "write() argument must be str, not bytes",
     "output_type": "error",
     "traceback": [
      "\u001B[0;31m---------------------------------------------------------------------------\u001B[0m",
      "\u001B[0;31mTypeError\u001B[0m                                 Traceback (most recent call last)",
      "Cell \u001B[0;32mIn[3], line 1\u001B[0m\n\u001B[0;32m----> 1\u001B[0m features, classes, class_to_idx \u001B[38;5;241m=\u001B[39m \u001B[43mget_resnet152_features\u001B[49m\u001B[43m(\u001B[49m\u001B[38;5;124;43m\"\u001B[39;49m\u001B[38;5;124;43mdata/merged/images/by-brands\u001B[39;49m\u001B[38;5;124;43m\"\u001B[39;49m\u001B[43m,\u001B[49m\u001B[43m \u001B[49m\u001B[43msave\u001B[49m\u001B[38;5;241;43m=\u001B[39;49m\u001B[38;5;28;43;01mTrue\u001B[39;49;00m\u001B[43m)\u001B[49m\n",
      "File \u001B[0;32m~/Desktop/Github/sneakers-ml/src/features/resnet152.py:48\u001B[0m, in \u001B[0;36mget_resnet152_features\u001B[0;34m(folder, save)\u001B[0m\n\u001B[1;32m     46\u001B[0m \u001B[38;5;28;01mif\u001B[39;00m save:\n\u001B[1;32m     47\u001B[0m     \u001B[38;5;28;01mwith\u001B[39;00m \u001B[38;5;28mopen\u001B[39m(Path(\u001B[38;5;124m\"\u001B[39m\u001B[38;5;124mdata\u001B[39m\u001B[38;5;124m\"\u001B[39m, \u001B[38;5;124m\"\u001B[39m\u001B[38;5;124mfeatures\u001B[39m\u001B[38;5;124m\"\u001B[39m, \u001B[38;5;124m\"\u001B[39m\u001B[38;5;124mresnet152.pickle\u001B[39m\u001B[38;5;124m\"\u001B[39m), \u001B[38;5;124m\"\u001B[39m\u001B[38;5;124mw\u001B[39m\u001B[38;5;124m\"\u001B[39m) \u001B[38;5;28;01mas\u001B[39;00m f:\n\u001B[0;32m---> 48\u001B[0m         \u001B[43mpickle\u001B[49m\u001B[38;5;241;43m.\u001B[39;49m\u001B[43mdump\u001B[49m\u001B[43m(\u001B[49m\u001B[43mnumpy_features\u001B[49m\u001B[43m,\u001B[49m\u001B[43m \u001B[49m\u001B[43mf\u001B[49m\u001B[43m)\u001B[49m\n\u001B[1;32m     49\u001B[0m         pickle\u001B[38;5;241m.\u001B[39mdump(classes, f)\n\u001B[1;32m     50\u001B[0m         pickle\u001B[38;5;241m.\u001B[39mdump(dataset\u001B[38;5;241m.\u001B[39mclass_to_idx, f)\n",
      "\u001B[0;31mTypeError\u001B[0m: write() argument must be str, not bytes"
     ]
    }
   ],
   "source": [
    "features, classes, class_to_idx = get_resnet152_features(\"data/merged/images/by-brands\", save=True)"
   ]
  },
  {
   "cell_type": "code",
   "execution_count": null,
   "outputs": [],
   "source": [],
   "metadata": {
    "collapsed": false,
    "ExecuteTime": {
     "start_time": "2023-12-04T14:26:33.482473509Z"
    }
   },
   "id": "eee4e32129951463"
  }
 ],
 "metadata": {
  "kernelspec": {
   "display_name": "Python 3",
   "language": "python",
   "name": "python3"
  },
  "language_info": {
   "codemirror_mode": {
    "name": "ipython",
    "version": 2
   },
   "file_extension": ".py",
   "mimetype": "text/x-python",
   "name": "python",
   "nbconvert_exporter": "python",
   "pygments_lexer": "ipython2",
   "version": "2.7.6"
  }
 },
 "nbformat": 4,
 "nbformat_minor": 5
}
