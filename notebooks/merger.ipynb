{
 "cells": [
  {
   "cell_type": "markdown",
   "source": [
    "# Data merger"
   ],
   "metadata": {
    "collapsed": false
   },
   "id": "be3e055f9b8fee8c"
  },
  {
   "cell_type": "code",
   "execution_count": 2,
   "id": "initial_id",
   "metadata": {
    "collapsed": true,
    "ExecuteTime": {
     "end_time": "2023-11-05T18:20:22.440338Z",
     "start_time": "2023-11-05T18:20:22.433051Z"
    }
   },
   "outputs": [],
   "source": [
    "import os\n",
    "\n",
    "import pandas as pd"
   ]
  },
  {
   "cell_type": "code",
   "execution_count": 14,
   "outputs": [
    {
     "data": {
      "text/plain": "['highsnobiety', 'kickscrew', 'sneakerbaas', 'superkicks']"
     },
     "execution_count": 14,
     "metadata": {},
     "output_type": "execute_result"
    }
   ],
   "source": [
    "discovered_datasets = os.listdir('../data/raw')\n",
    "discovered_datasets"
   ],
   "metadata": {
    "collapsed": false,
    "ExecuteTime": {
     "end_time": "2023-11-05T18:24:30.233380Z",
     "start_time": "2023-11-05T18:24:30.225882Z"
    }
   },
   "id": "db28852f76a20641"
  },
  {
   "cell_type": "code",
   "execution_count": 24,
   "outputs": [],
   "source": [
    "try:\n",
    "    datasets = {source: pd.read_csv(f'../data/raw/{source}/metadata.csv') for source in discovered_datasets}\n",
    "    assert len(datasets) > 0\n",
    "except FileNotFoundError as err:\n",
    "    print(f\"Some dataset could not be resolved:\")\n",
    "    raise"
   ],
   "metadata": {
    "collapsed": false,
    "ExecuteTime": {
     "end_time": "2023-11-05T18:35:58.464907Z",
     "start_time": "2023-11-05T18:35:58.381324Z"
    }
   },
   "id": "16deee6046e0c10f"
  },
  {
   "cell_type": "code",
   "execution_count": 25,
   "outputs": [
    {
     "name": "stdout",
     "output_type": "stream",
     "text": [
      "highsnobiety columns: Index(['url', 'brand', 'slug', 'pricecurrency', 'price', 'title',\n",
      "       'description', 'right-side-img', 'left-side-img', 'front-both-img'],\n",
      "      dtype='object')\n",
      "kickscrew columns: Index(['url', 'brand', 'slug', 'pricecurrency', 'price', 'title',\n",
      "       'right-side-img', 'left-side-img', 'front-both-img'],\n",
      "      dtype='object')\n",
      "sneakerbaas columns: Index(['brand', 'description', 'pricecurrency', 'price', 'title',\n",
      "       'collection_name', 'collection_url', 'url', 'images_dir', 's3_dir'],\n",
      "      dtype='object')\n",
      "superkicks columns: Index(['brand', 'title', 'price', 'manufacturer', 'country_of_origin',\n",
      "       'imported_by', 'weight', 'generic_name', 'unit_of_measurement',\n",
      "       'marketed_by', 'article_code', 'description', 'collection_name',\n",
      "       'collection_url', 'url', 'images_dir', 's3_dir', 'product_dimensions'],\n",
      "      dtype='object')\n"
     ]
    }
   ],
   "source": [
    "for name, d in datasets.items():\n",
    "    print(f\"{name} columns:\", d.columns)"
   ],
   "metadata": {
    "collapsed": false,
    "ExecuteTime": {
     "end_time": "2023-11-05T18:35:59.138503Z",
     "start_time": "2023-11-05T18:35:59.132438Z"
    }
   },
   "id": "4a4b0e14de528385"
  },
  {
   "cell_type": "code",
   "execution_count": 27,
   "outputs": [
    {
     "data": {
      "text/plain": "0       data/raw/superkicks/men-sneakers/images/adidas...\n1       data/raw/superkicks/men-sneakers/images/conver...\n2       data/raw/superkicks/men-sneakers/images/adidas...\n3       data/raw/superkicks/men-sneakers/images/nike/d...\n4       data/raw/superkicks/men-sneakers/images/nike/b...\n                              ...                        \n1064    data/raw/superkicks/women-skateboard-sneakers/...\n1065    data/raw/superkicks/women-skateboard-sneakers/...\n1066    data/raw/superkicks/women-skateboard-sneakers/...\n1067    data/raw/superkicks/women-skateboard-sneakers/...\n1068    data/raw/superkicks/women-skateboard-sneakers/...\nName: images_dir, Length: 1069, dtype: object"
     },
     "execution_count": 27,
     "metadata": {},
     "output_type": "execute_result"
    }
   ],
   "source": [
    "datasets['superkicks']['images_dir']"
   ],
   "metadata": {
    "collapsed": false,
    "ExecuteTime": {
     "end_time": "2023-11-05T18:39:11.542253Z",
     "start_time": "2023-11-05T18:39:11.531360Z"
    }
   },
   "id": "2b06c6833445febb"
  },
  {
   "cell_type": "code",
   "execution_count": 17,
   "outputs": [
    {
     "data": {
      "text/plain": "                                                    url        brand  \\\n0     https://www.highsnobiety.com/en-us/shop/produc...         HOKA   \n1     https://www.highsnobiety.com/en-us/shop/produc...         HOKA   \n2     https://www.highsnobiety.com/en-us/shop/produc...         HOKA   \n3     https://www.highsnobiety.com/en-us/shop/produc...  New Balance   \n4     https://www.highsnobiety.com/en-us/shop/produc...  New Balance   \n...                                                 ...          ...   \n1064  https://www.superkicks.in/products/wmns-dunk-l...         Nike   \n1065  https://www.superkicks.in/products/utility-pop...         Vans   \n1066  https://www.superkicks.in/products/run-star-hi...     Converse   \n1067  https://www.superkicks.in/products/run-star-mo...     Converse   \n1068  https://www.superkicks.in/products/wmns-dunk-h...         Nike   \n\n                                slug priceCurrency       price  \\\n0            hoka-bondi-8-olive-haze           USD       185.0   \n1           hoka-bondi-8-black-black           USD       185.0   \n2              hoka-restore-tc-black           USD       130.0   \n3     new-balance-m2002rdq-sandstone           USD       170.0   \n4     new-balance-m2002rdn-dark-moss           USD       170.0   \n...                              ...           ...         ...   \n1064                             NaN           NaN  ₹ 9,392.00   \n1065                             NaN           NaN  ₹ 4,499.00   \n1066                             NaN           NaN  ₹ 5,999.00   \n1067                             NaN           NaN  ₹ 8,999.00   \n1068                             NaN           NaN  ₹ 9,295.00   \n\n                                                  title  \\\n0                             HOKA – Bondi 8 Olive Haze   \n1                            HOKA – Bondi 8 Black/Black   \n2                               HOKA – Restore TC Black   \n3                      New Balance – M2002RDQ Sandstone   \n4                      New Balance – 2002R DN Dark Moss   \n...                                                 ...   \n1064  WMNS DUNK LOW PREMIUM MF RUSH FUCHSIARUSH FUCH...   \n1065                       UTILITY POP OLD SKOOL YELLOW   \n1066                            RUN STAR HIKE LOW WHITE   \n1067                              RUN STAR MOTION BLACK   \n1068                          WMNS DUNK HIGH BLACKWHITE   \n\n                                            description  \\\n0     A HOKA mainstay, the Bondi is back in its eigh...   \n1     A HOKA mainstay, the Bondi is back in its eigh...   \n2     With a fluid slip-on design, HOKA’s Restore TC...   \n3     With sleek new colorways and refined details, ...   \n4     With sleek new colorways and refined details, ...   \n...                                                 ...   \n1064  Created for the hardwood but taken to the stre...   \n1065  First known as the Vans #36, the Old Skool deb...   \n1066  Available in a low top for the first time, the...   \n1067  We could tell you that it's the OG basketball ...   \n1068  Created for the hardwood but taken to the stre...   \n\n                                         right-side-img  \\\n0     data/raw/highsnobiety/HOKA/hoka-bondi-8-olive-...   \n1     data/raw/highsnobiety/HOKA/hoka-bondi-8-black-...   \n2     data/raw/highsnobiety/HOKA/hoka-restore-tc-bla...   \n3     data/raw/highsnobiety/New Balance/new-balance-...   \n4     data/raw/highsnobiety/New Balance/new-balance-...   \n...                                                 ...   \n1064                                                NaN   \n1065                                                NaN   \n1066                                                NaN   \n1067                                                NaN   \n1068                                                NaN   \n\n                                          left-side-img  \\\n0     data/raw/highsnobiety/HOKA/hoka-bondi-8-olive-...   \n1     data/raw/highsnobiety/HOKA/hoka-bondi-8-black-...   \n2     data/raw/highsnobiety/HOKA/hoka-restore-tc-bla...   \n3     data/raw/highsnobiety/New Balance/new-balance-...   \n4     data/raw/highsnobiety/New Balance/new-balance-...   \n...                                                 ...   \n1064                                                NaN   \n1065                                                NaN   \n1066                                                NaN   \n1067                                                NaN   \n1068                                                NaN   \n\n                                         front-both-img  ... s3_dir  \\\n0     data/raw/highsnobiety/HOKA/hoka-bondi-8-olive-...  ...    NaN   \n1     data/raw/highsnobiety/HOKA/hoka-bondi-8-black-...  ...    NaN   \n2     data/raw/highsnobiety/HOKA/hoka-restore-tc-bla...  ...    NaN   \n3     data/raw/highsnobiety/New Balance/new-balance-...  ...    NaN   \n4     data/raw/highsnobiety/New Balance/new-balance-...  ...    NaN   \n...                                                 ...  ...    ...   \n1064                                                NaN  ...    NaN   \n1065                                                NaN  ...    NaN   \n1066                                                NaN  ...    NaN   \n1067                                                NaN  ...    NaN   \n1068                                                NaN  ...    NaN   \n\n                 manufacturer country_of_origin                 imported_by  \\\n0                         NaN               NaN                         NaN   \n1                         NaN               NaN                         NaN   \n2                         NaN               NaN                         NaN   \n3                         NaN               NaN                         NaN   \n4                         NaN               NaN                         NaN   \n...                       ...               ...                         ...   \n1064                     Nike           Vietnam        Nike India Pvt. Ltd.   \n1065  Cravatex Brands Limited           Vietnam     Cravatex Brands Limited   \n1066                 Converse           Vietnam          CAMP INDIA PVT LTD   \n1067                 Converse           Vietnam          CAMP INDIA PVT LTD   \n1068     PT. NIKOMAS GEMILANG         Indonesia  Nike India Private Limited   \n\n       weight generic_name unit_of_measurement                 marketed_by  \\\n0         NaN          NaN                 NaN                         NaN   \n1         NaN          NaN                 NaN                         NaN   \n2         NaN          NaN                 NaN                         NaN   \n3         NaN          NaN                 NaN                         NaN   \n4         NaN          NaN                 NaN                         NaN   \n...       ...          ...                 ...                         ...   \n1064   0.95kg         Shoe              1 pair  Superkicks India Pvt. Ltd.   \n1065  0.95 KG         SHOE              1 Pair  Superkicks India Pvt. Ltd.   \n1066   0.95kg         Shoe              1 pair  Superkicks India Pvt. Ltd.   \n1067   0.95kg         Shoe              1 pair  Superkicks India Pvt. Ltd.   \n1068     0.95         SHOE              1 Pair  SUPER KICKS INDIA PVT. LTD   \n\n     article_code product_dimensions  \n0             NaN                NaN  \n1             NaN                NaN  \n2             NaN                NaN  \n3             NaN                NaN  \n4             NaN                NaN  \n...           ...                ...  \n1064   DV7415-500                NaN  \n1065     71002978                NaN  \n1066      168817C                NaN  \n1067      171545C                NaN  \n1068   DD1869-103                NaN  \n\n[7618 rows x 24 columns]",
      "text/html": "<div>\n<style scoped>\n    .dataframe tbody tr th:only-of-type {\n        vertical-align: middle;\n    }\n\n    .dataframe tbody tr th {\n        vertical-align: top;\n    }\n\n    .dataframe thead th {\n        text-align: right;\n    }\n</style>\n<table border=\"1\" class=\"dataframe\">\n  <thead>\n    <tr style=\"text-align: right;\">\n      <th></th>\n      <th>url</th>\n      <th>brand</th>\n      <th>slug</th>\n      <th>priceCurrency</th>\n      <th>price</th>\n      <th>title</th>\n      <th>description</th>\n      <th>right-side-img</th>\n      <th>left-side-img</th>\n      <th>front-both-img</th>\n      <th>...</th>\n      <th>s3_dir</th>\n      <th>manufacturer</th>\n      <th>country_of_origin</th>\n      <th>imported_by</th>\n      <th>weight</th>\n      <th>generic_name</th>\n      <th>unit_of_measurement</th>\n      <th>marketed_by</th>\n      <th>article_code</th>\n      <th>product_dimensions</th>\n    </tr>\n  </thead>\n  <tbody>\n    <tr>\n      <th>0</th>\n      <td>https://www.highsnobiety.com/en-us/shop/produc...</td>\n      <td>HOKA</td>\n      <td>hoka-bondi-8-olive-haze</td>\n      <td>USD</td>\n      <td>185.0</td>\n      <td>HOKA – Bondi 8 Olive Haze</td>\n      <td>A HOKA mainstay, the Bondi is back in its eigh...</td>\n      <td>data/raw/highsnobiety/HOKA/hoka-bondi-8-olive-...</td>\n      <td>data/raw/highsnobiety/HOKA/hoka-bondi-8-olive-...</td>\n      <td>data/raw/highsnobiety/HOKA/hoka-bondi-8-olive-...</td>\n      <td>...</td>\n      <td>NaN</td>\n      <td>NaN</td>\n      <td>NaN</td>\n      <td>NaN</td>\n      <td>NaN</td>\n      <td>NaN</td>\n      <td>NaN</td>\n      <td>NaN</td>\n      <td>NaN</td>\n      <td>NaN</td>\n    </tr>\n    <tr>\n      <th>1</th>\n      <td>https://www.highsnobiety.com/en-us/shop/produc...</td>\n      <td>HOKA</td>\n      <td>hoka-bondi-8-black-black</td>\n      <td>USD</td>\n      <td>185.0</td>\n      <td>HOKA – Bondi 8 Black/Black</td>\n      <td>A HOKA mainstay, the Bondi is back in its eigh...</td>\n      <td>data/raw/highsnobiety/HOKA/hoka-bondi-8-black-...</td>\n      <td>data/raw/highsnobiety/HOKA/hoka-bondi-8-black-...</td>\n      <td>data/raw/highsnobiety/HOKA/hoka-bondi-8-black-...</td>\n      <td>...</td>\n      <td>NaN</td>\n      <td>NaN</td>\n      <td>NaN</td>\n      <td>NaN</td>\n      <td>NaN</td>\n      <td>NaN</td>\n      <td>NaN</td>\n      <td>NaN</td>\n      <td>NaN</td>\n      <td>NaN</td>\n    </tr>\n    <tr>\n      <th>2</th>\n      <td>https://www.highsnobiety.com/en-us/shop/produc...</td>\n      <td>HOKA</td>\n      <td>hoka-restore-tc-black</td>\n      <td>USD</td>\n      <td>130.0</td>\n      <td>HOKA – Restore TC Black</td>\n      <td>With a fluid slip-on design, HOKA’s Restore TC...</td>\n      <td>data/raw/highsnobiety/HOKA/hoka-restore-tc-bla...</td>\n      <td>data/raw/highsnobiety/HOKA/hoka-restore-tc-bla...</td>\n      <td>data/raw/highsnobiety/HOKA/hoka-restore-tc-bla...</td>\n      <td>...</td>\n      <td>NaN</td>\n      <td>NaN</td>\n      <td>NaN</td>\n      <td>NaN</td>\n      <td>NaN</td>\n      <td>NaN</td>\n      <td>NaN</td>\n      <td>NaN</td>\n      <td>NaN</td>\n      <td>NaN</td>\n    </tr>\n    <tr>\n      <th>3</th>\n      <td>https://www.highsnobiety.com/en-us/shop/produc...</td>\n      <td>New Balance</td>\n      <td>new-balance-m2002rdq-sandstone</td>\n      <td>USD</td>\n      <td>170.0</td>\n      <td>New Balance – M2002RDQ Sandstone</td>\n      <td>With sleek new colorways and refined details, ...</td>\n      <td>data/raw/highsnobiety/New Balance/new-balance-...</td>\n      <td>data/raw/highsnobiety/New Balance/new-balance-...</td>\n      <td>data/raw/highsnobiety/New Balance/new-balance-...</td>\n      <td>...</td>\n      <td>NaN</td>\n      <td>NaN</td>\n      <td>NaN</td>\n      <td>NaN</td>\n      <td>NaN</td>\n      <td>NaN</td>\n      <td>NaN</td>\n      <td>NaN</td>\n      <td>NaN</td>\n      <td>NaN</td>\n    </tr>\n    <tr>\n      <th>4</th>\n      <td>https://www.highsnobiety.com/en-us/shop/produc...</td>\n      <td>New Balance</td>\n      <td>new-balance-m2002rdn-dark-moss</td>\n      <td>USD</td>\n      <td>170.0</td>\n      <td>New Balance – 2002R DN Dark Moss</td>\n      <td>With sleek new colorways and refined details, ...</td>\n      <td>data/raw/highsnobiety/New Balance/new-balance-...</td>\n      <td>data/raw/highsnobiety/New Balance/new-balance-...</td>\n      <td>data/raw/highsnobiety/New Balance/new-balance-...</td>\n      <td>...</td>\n      <td>NaN</td>\n      <td>NaN</td>\n      <td>NaN</td>\n      <td>NaN</td>\n      <td>NaN</td>\n      <td>NaN</td>\n      <td>NaN</td>\n      <td>NaN</td>\n      <td>NaN</td>\n      <td>NaN</td>\n    </tr>\n    <tr>\n      <th>...</th>\n      <td>...</td>\n      <td>...</td>\n      <td>...</td>\n      <td>...</td>\n      <td>...</td>\n      <td>...</td>\n      <td>...</td>\n      <td>...</td>\n      <td>...</td>\n      <td>...</td>\n      <td>...</td>\n      <td>...</td>\n      <td>...</td>\n      <td>...</td>\n      <td>...</td>\n      <td>...</td>\n      <td>...</td>\n      <td>...</td>\n      <td>...</td>\n      <td>...</td>\n      <td>...</td>\n    </tr>\n    <tr>\n      <th>1064</th>\n      <td>https://www.superkicks.in/products/wmns-dunk-l...</td>\n      <td>Nike</td>\n      <td>NaN</td>\n      <td>NaN</td>\n      <td>₹ 9,392.00</td>\n      <td>WMNS DUNK LOW PREMIUM MF RUSH FUCHSIARUSH FUCH...</td>\n      <td>Created for the hardwood but taken to the stre...</td>\n      <td>NaN</td>\n      <td>NaN</td>\n      <td>NaN</td>\n      <td>...</td>\n      <td>NaN</td>\n      <td>Nike</td>\n      <td>Vietnam</td>\n      <td>Nike India Pvt. Ltd.</td>\n      <td>0.95kg</td>\n      <td>Shoe</td>\n      <td>1 pair</td>\n      <td>Superkicks India Pvt. Ltd.</td>\n      <td>DV7415-500</td>\n      <td>NaN</td>\n    </tr>\n    <tr>\n      <th>1065</th>\n      <td>https://www.superkicks.in/products/utility-pop...</td>\n      <td>Vans</td>\n      <td>NaN</td>\n      <td>NaN</td>\n      <td>₹ 4,499.00</td>\n      <td>UTILITY POP OLD SKOOL YELLOW</td>\n      <td>First known as the Vans #36, the Old Skool deb...</td>\n      <td>NaN</td>\n      <td>NaN</td>\n      <td>NaN</td>\n      <td>...</td>\n      <td>NaN</td>\n      <td>Cravatex Brands Limited</td>\n      <td>Vietnam</td>\n      <td>Cravatex Brands Limited</td>\n      <td>0.95 KG</td>\n      <td>SHOE</td>\n      <td>1 Pair</td>\n      <td>Superkicks India Pvt. Ltd.</td>\n      <td>71002978</td>\n      <td>NaN</td>\n    </tr>\n    <tr>\n      <th>1066</th>\n      <td>https://www.superkicks.in/products/run-star-hi...</td>\n      <td>Converse</td>\n      <td>NaN</td>\n      <td>NaN</td>\n      <td>₹ 5,999.00</td>\n      <td>RUN STAR HIKE LOW WHITE</td>\n      <td>Available in a low top for the first time, the...</td>\n      <td>NaN</td>\n      <td>NaN</td>\n      <td>NaN</td>\n      <td>...</td>\n      <td>NaN</td>\n      <td>Converse</td>\n      <td>Vietnam</td>\n      <td>CAMP INDIA PVT LTD</td>\n      <td>0.95kg</td>\n      <td>Shoe</td>\n      <td>1 pair</td>\n      <td>Superkicks India Pvt. Ltd.</td>\n      <td>168817C</td>\n      <td>NaN</td>\n    </tr>\n    <tr>\n      <th>1067</th>\n      <td>https://www.superkicks.in/products/run-star-mo...</td>\n      <td>Converse</td>\n      <td>NaN</td>\n      <td>NaN</td>\n      <td>₹ 8,999.00</td>\n      <td>RUN STAR MOTION BLACK</td>\n      <td>We could tell you that it's the OG basketball ...</td>\n      <td>NaN</td>\n      <td>NaN</td>\n      <td>NaN</td>\n      <td>...</td>\n      <td>NaN</td>\n      <td>Converse</td>\n      <td>Vietnam</td>\n      <td>CAMP INDIA PVT LTD</td>\n      <td>0.95kg</td>\n      <td>Shoe</td>\n      <td>1 pair</td>\n      <td>Superkicks India Pvt. Ltd.</td>\n      <td>171545C</td>\n      <td>NaN</td>\n    </tr>\n    <tr>\n      <th>1068</th>\n      <td>https://www.superkicks.in/products/wmns-dunk-h...</td>\n      <td>Nike</td>\n      <td>NaN</td>\n      <td>NaN</td>\n      <td>₹ 9,295.00</td>\n      <td>WMNS DUNK HIGH BLACKWHITE</td>\n      <td>Created for the hardwood but taken to the stre...</td>\n      <td>NaN</td>\n      <td>NaN</td>\n      <td>NaN</td>\n      <td>...</td>\n      <td>NaN</td>\n      <td>PT. NIKOMAS GEMILANG</td>\n      <td>Indonesia</td>\n      <td>Nike India Private Limited</td>\n      <td>0.95</td>\n      <td>SHOE</td>\n      <td>1 Pair</td>\n      <td>SUPER KICKS INDIA PVT. LTD</td>\n      <td>DD1869-103</td>\n      <td>NaN</td>\n    </tr>\n  </tbody>\n</table>\n<p>7618 rows × 24 columns</p>\n</div>"
     },
     "execution_count": 17,
     "metadata": {},
     "output_type": "execute_result"
    }
   ],
   "source": [
    "for source, data in datasets.items():\n",
    "    data['source'] = source\n",
    "\n",
    "pd.concat(datasets.values(), keys=['url', 'brand', 'slug', ])"
   ],
   "metadata": {
    "collapsed": false,
    "ExecuteTime": {
     "end_time": "2023-11-05T18:26:43.898839Z",
     "start_time": "2023-11-05T18:26:43.831982Z"
    }
   },
   "id": "be86147f7736e678"
  },
  {
   "cell_type": "code",
   "execution_count": null,
   "outputs": [],
   "source": [],
   "metadata": {
    "collapsed": false
   },
   "id": "e6636206635b1d86"
  }
 ],
 "metadata": {
  "kernelspec": {
   "display_name": "Python 3",
   "language": "python",
   "name": "python3"
  },
  "language_info": {
   "codemirror_mode": {
    "name": "ipython",
    "version": 2
   },
   "file_extension": ".py",
   "mimetype": "text/x-python",
   "name": "python",
   "nbconvert_exporter": "python",
   "pygments_lexer": "ipython2",
   "version": "2.7.6"
  }
 },
 "nbformat": 4,
 "nbformat_minor": 5
}
