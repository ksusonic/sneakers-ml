{
 "cells": [
  {
   "cell_type": "code",
   "execution_count": 16,
   "metadata": {},
   "outputs": [],
   "source": [
    "from bs4 import BeautifulSoup\n",
    "import requests\n",
    "from fake_useragent import UserAgent\n",
    "from urllib.parse import urlparse, urlsplit, urljoin\n",
    "import re\n",
    "import os\n",
    "from tqdm.auto import tqdm, trange\n",
    "import pandas as pd\n",
    "from pathlib import Path\n",
    "import itertools\n",
    "\n",
    "HEADERS = {\"User-Agent\": UserAgent().random}\n",
    "\n",
    "WEBSITE_NAME = \"superkicks\"\n",
    "COLLECTIONS_URL = \"https://www.superkicks.in/collections/\"\n",
    "HOSTNAME_URL = \"https://www.superkicks.in/\"\n",
    "COLLECTIONS = [\n",
    "    f\"{item[0]}-{item[1]}\"\n",
    "    for item in itertools.product(\n",
    "        [\"men\", \"women\"],\n",
    "        [\"sneakers\", \"basketball-sneakers\", \"classics-sneakers\", \"skateboard-sneakers\"],\n",
    "    )\n",
    "]\n"
   ]
  },
  {
   "cell_type": "code",
   "execution_count": 21,
   "metadata": {},
   "outputs": [],
   "source": [
    "r = requests.get(\n",
    "    \"https://www.superkicks.in/collections/women-sneakers?page=8\", headers=HEADERS\n",
    ")"
   ]
  },
  {
   "cell_type": "code",
   "execution_count": 20,
   "metadata": {},
   "outputs": [],
   "source": [
    "with open(\"temp.html\", \"w\") as f:\n",
    "    f.write(r.text)\n"
   ]
  },
  {
   "cell_type": "code",
   "execution_count": 22,
   "metadata": {},
   "outputs": [],
   "source": [
    "soup = BeautifulSoup(r.text, parser=\"html.parser\")"
   ]
  },
  {
   "cell_type": "code",
   "execution_count": 23,
   "metadata": {},
   "outputs": [
    {
     "data": {
      "text/plain": [
       "'17'"
      ]
     },
     "execution_count": 23,
     "metadata": {},
     "output_type": "execute_result"
    }
   ],
   "source": [
    "soup.find(name=\"nav\", class_=\"pagination\").ul.find_all(name=\"li\")[-2].a.text\n"
   ]
  },
  {
   "cell_type": "code",
   "execution_count": 24,
   "metadata": {},
   "outputs": [
    {
     "data": {
      "text/plain": [
       "{'/products/club-high-top-chalk-porcelain-pink',\n",
       " '/products/wmns-57-40-sea-smoke-surf',\n",
       " '/products/wmns-air-max-90-futura-soft-pink',\n",
       " '/products/wmns-air-max-90-se-metallic-gold-metallic-silver',\n",
       " '/products/wmns-astir-white-green-bliss-orange',\n",
       " '/products/wmns-blazer-low-77-se-flower-embroidery',\n",
       " '/products/wmns-blazer-low-platform',\n",
       " '/products/wmns-classic-leather-infused-lilac-chalk',\n",
       " '/products/wmns-club-c-double-geo-chalk-white',\n",
       " '/products/wmns-club-c-geo-mid-cloud-white-cold-grey',\n",
       " '/products/wmns-superstar-ayoon-off-white-solar-red',\n",
       " '/products/wmns-waffle-one-double-swoosh',\n",
       " '/products/wmns-waffle-one-woven-swoosh'}"
      ]
     },
     "execution_count": 24,
     "metadata": {},
     "output_type": "execute_result"
    }
   ],
   "source": [
    "set(\n",
    "    [\n",
    "        item.a[\"href\"]\n",
    "        for item in soup.find_all(name=\"div\", class_=\"card__information product-card2\")\n",
    "    ]\n",
    ")"
   ]
  },
  {
   "cell_type": "code",
   "execution_count": 7,
   "metadata": {},
   "outputs": [],
   "source": [
    "r = requests.get(\n",
    "    \"https://www.superkicks.in/products/cl-nylon-hargrn-ftwwht-hargrn\", headers=HEADERS\n",
    ")"
   ]
  },
  {
   "cell_type": "code",
   "execution_count": 8,
   "metadata": {},
   "outputs": [],
   "source": [
    "with open(\"temp2.html\", \"w\") as f:\n",
    "    f.write(r.text)\n"
   ]
  },
  {
   "cell_type": "code",
   "execution_count": 9,
   "metadata": {},
   "outputs": [],
   "source": [
    "soup = BeautifulSoup(r.text, parser=\"html.parser\")"
   ]
  },
  {
   "cell_type": "code",
   "execution_count": 13,
   "metadata": {},
   "outputs": [
    {
     "data": {
      "text/plain": [
       "'Reebok'"
      ]
     },
     "execution_count": 13,
     "metadata": {},
     "output_type": "execute_result"
    }
   ],
   "source": [
    "soup.find(name=\"p\", class_=\"product__text\").text\n"
   ]
  },
  {
   "cell_type": "code",
   "execution_count": 33,
   "metadata": {},
   "outputs": [
    {
     "data": {
      "text/plain": [
       "\"CL NYLON 'HARGRN/FTWWHT/HARGRN'\""
      ]
     },
     "execution_count": 33,
     "metadata": {},
     "output_type": "execute_result"
    }
   ],
   "source": [
    "soup.find(name=\"div\", class_=\"product__title\").h1.text\n"
   ]
  },
  {
   "cell_type": "code",
   "execution_count": 122,
   "metadata": {},
   "outputs": [
    {
     "data": {
      "text/plain": [
       "'₹ 5,999.00'"
      ]
     },
     "execution_count": 122,
     "metadata": {},
     "output_type": "execute_result"
    }
   ],
   "source": [
    "soup.find(name=\"span\", class_=\"price-item price-item--regular\").text.strip()"
   ]
  },
  {
   "cell_type": "code",
   "execution_count": 123,
   "metadata": {},
   "outputs": [
    {
     "data": {
      "text/plain": [
       "\"\\nEveryday shoes are basically your best friend: there for you through it all. This pair from is up for the task, whether your schedule looks busy or you're just hanging out.\\nLightweight, durable textile upper with leather overlays\\nEyelets with secure lace-up closure\\nCushioned footbed for added comfort\\nThick protective foxing around midsole\\nPatterned synthetic outsole for better grip\\nReebok signature branding print\\n\""
      ]
     },
     "execution_count": 123,
     "metadata": {},
     "output_type": "execute_result"
    }
   ],
   "source": [
    "soup.find_all(name=\"div\", class_=\"product__description\")[0].text"
   ]
  },
  {
   "cell_type": "code",
   "execution_count": 14,
   "metadata": {},
   "outputs": [],
   "source": [
    "metadata = {}\n",
    "for span in soup.find_all(name=\"span\", class_=\"product_description-name\"):\n",
    "    metadata[span.contents[0].replace(\" :\", \"\")] = span.span.span.text"
   ]
  },
  {
   "cell_type": "code",
   "execution_count": 15,
   "metadata": {},
   "outputs": [
    {
     "data": {
      "text/plain": [
       "{'Manufacturer': 'Reebok',\n",
       " 'Country of Origin': 'Vietnam',\n",
       " 'Imported By': 'Reebok India Pvt. Ltd.',\n",
       " 'Weight': '0.95 KG',\n",
       " 'Generic Name': 'Shoe',\n",
       " 'Unit of Measurement': '1 Pair',\n",
       " 'Marketed By': 'Superkicks India Pvt. Ltd.',\n",
       " 'Article Code': 'IE4539'}"
      ]
     },
     "execution_count": 15,
     "metadata": {},
     "output_type": "execute_result"
    }
   ],
   "source": [
    "metadata\n"
   ]
  },
  {
   "cell_type": "code",
   "execution_count": 6,
   "metadata": {},
   "outputs": [
    {
     "name": "stdout",
     "output_type": "stream",
     "text": [
      "//www.superkicks.in/cdn/shop/files/1_79dd7b44-4aa0-41fe-9a7c-e2009436aaad.jpg?v=1694433846&width=1445\n",
      "//www.superkicks.in/cdn/shop/files/3_c31712e0-3e1b-4a57-a896-fcbe0be4f2f1.jpg?v=1694433846&width=1445\n",
      "//www.superkicks.in/cdn/shop/files/2_f5340b74-7b89-4393-952e-0a62fa56daa1.jpg?v=1694433845&width=1445\n",
      "//www.superkicks.in/cdn/shop/files/4_71392b1f-8a99-4547-8895-ba7017e12177.jpg?v=1694433845&width=1445\n"
     ]
    }
   ],
   "source": [
    "for image_link in soup.find(name=\"div\", class_=\"product-media-modal__content\").find_all(\n",
    "    name=\"img\"\n",
    "):\n",
    "    print(image_link[\"src\"])"
   ]
  }
 ],
 "metadata": {
  "kernelspec": {
   "display_name": "DS",
   "language": "python",
   "name": "python3"
  },
  "language_info": {
   "codemirror_mode": {
    "name": "ipython",
    "version": 3
   },
   "file_extension": ".py",
   "mimetype": "text/x-python",
   "name": "python",
   "nbconvert_exporter": "python",
   "pygments_lexer": "ipython3",
   "version": "3.9.16"
  }
 },
 "nbformat": 4,
 "nbformat_minor": 2
}
