{
 "cells": [
  {
   "cell_type": "markdown",
   "id": "630ecbc4-9579-469b-bcda-7f80d81d2837",
   "metadata": {},
   "source": [
    "## Algolia - CRM-система со встроенным ранжированием поисков пользователей. \n",
    "\n",
    "Используется в:\n",
    "- https://www.highsnobiety.com/en-us/shop/category/footwear/sneakers/\n",
    "- https://www.kickscrew.com/collections/\n",
    "\n",
    "Search api reference: https://www.algolia.com/doc/api-reference/api-methods/search\n",
    "\n",
    "### highsnobiety\n",
    "Доступные категории:\n",
    "\n",
    "- category/footwear/sneakers - все кроссовки\n",
    "- brand/adidas/sneakers - по бренду\n",
    "\n",
    "### kickscrew\n",
    "Доступные категории:\n",
    "\n",
    "- TODO\n",
    "- TODO\n",
    " "
   ]
  },
  {
   "cell_type": "code",
   "execution_count": 6,
   "id": "cdd354b4-026c-4947-b7ad-0460c607fa3c",
   "metadata": {
    "ExecuteTime": {
     "end_time": "2023-10-18T19:03:59.034485Z",
     "start_time": "2023-10-18T19:03:59.018268Z"
    }
   },
   "outputs": [],
   "source": [
    "# !pip install algoliasearch pandas\n",
    "\n",
    "import logging\n",
    "import os\n",
    "import requests\n",
    "import pandas as pd\n",
    "\n",
    "from typing import Callable\n",
    "\n",
    "from algoliasearch.search_client import SearchClient"
   ]
  },
  {
   "cell_type": "code",
   "execution_count": 23,
   "id": "9541a37c-29ec-4892-b734-e7f3daee6365",
   "metadata": {
    "ExecuteTime": {
     "end_time": "2023-10-18T19:33:59.346552Z",
     "start_time": "2023-10-18T19:33:59.337578Z"
    }
   },
   "outputs": [],
   "source": [
    "class ParsePipeline:\n",
    "\n",
    "    def __init__(self, website_name, parser: Callable):\n",
    "        self.WEBSITE_NAME = website_name\n",
    "        self.parser = parser\n",
    "        self.logger = logging.getLogger(website_name)\n",
    "        self.logger.setLevel(logging.DEBUG)\n",
    "        self.unique_items = set()\n",
    "\n",
    "    @staticmethod\n",
    "    def get_image_extension(url: str) -> str:\n",
    "        return '.' + url[-5:].split('.')[-1]\n",
    "\n",
    "    def save_to_filesystem(self, metadata: dict) -> str:\n",
    "        photo_folder = os.path.join(self.WEBSITE_NAME, \"photos\", metadata['brand'])\n",
    "        os.makedirs(photo_folder, exist_ok=True)\n",
    "\n",
    "        image_path = os.path.join(\n",
    "            photo_folder,\n",
    "            metadata['slug'] + self.get_image_extension(metadata['image_url']),  # TODO: more photos needed\n",
    "        )\n",
    "\n",
    "        img_binary = requests.get(metadata['image_url']).content\n",
    "        os.makedirs(photo_folder, exist_ok=True)\n",
    "        with open(image_path, \"wb\") as f:\n",
    "            f.write(img_binary)\n",
    "        return image_path\n",
    "\n",
    "    def process_item(self, item: dict, parser: Callable) -> dict:\n",
    "        metadata = parser(item)\n",
    "        path = self.save_to_filesystem(metadata)\n",
    "\n",
    "        metadata['image_path'] = path\n",
    "        del metadata['image_url']\n",
    "        del metadata['slug']\n",
    "\n",
    "        return metadata\n",
    "\n",
    "    def parse(self, filters: str, pages: int = 10, hit_per_page: int = 100) -> list:\n",
    "        full_metadata = []\n",
    "        for page in range(1, pages):\n",
    "            resp = index.search('', {\n",
    "                'filters': filters,\n",
    "                'page': page,\n",
    "                'hitsPerPage': hit_per_page\n",
    "            })\n",
    "            self.logger.debug(f'processing page %d with %d items', page, len(resp[\"hits\"]))\n",
    "            for hit in resp['hits']:\n",
    "                self.logger.debug('Processing brand: %s', hit[\"displayBrand\"])\n",
    "                metadata = self.process_item(hit, self.parser)\n",
    "                if metadata['url'] in self.unique_items:\n",
    "                    self.logger.warn('%s is already parsed', metadata['title'])\n",
    "                    continue\n",
    "\n",
    "                full_metadata.append(metadata)\n",
    "                self.unique_items.add(metadata['title'])\n",
    "            self.logger.info(\"finished parse with %d items\", len(full_metadata))\n",
    "            return full_metadata\n",
    "\n"
   ]
  },
  {
   "cell_type": "code",
   "execution_count": 24,
   "id": "ec2dfbce-0d48-4db2-aff3-86d269fd5718",
   "metadata": {
    "ExecuteTime": {
     "end_time": "2023-10-18T19:34:19.386395Z",
     "start_time": "2023-10-18T19:34:00.371553Z"
    }
   },
   "outputs": [],
   "source": [
    "#\n",
    "# highsnobiety\n",
    "# \n",
    "client = SearchClient.create('KV0RT3PJZC', '37e783b9d54217566682938fa0e2b0f6')\n",
    "index = client.init_index('production_ec_products_improved_newest_first')\n",
    "WEBSITE_NAME = 'highsnobiety'\n",
    "\n",
    "\n",
    "def highsnobiety_parser(item: dict) -> dict:\n",
    "    us_price = item['price'].get('US', {})\n",
    "    return {\n",
    "        'url': f'https://www.highsnobiety.com/en-us/shop/product/{item[\"slug\"][\"en\"]}',\n",
    "        'brand': item['displayBrand'],\n",
    "        'slug': item[\"slug\"][\"en\"],\n",
    "        # 'description': item.get('displayName', {}).get('en'),\n",
    "        'priceCurrency': us_price['currencyCode'],\n",
    "        'price': int(us_price.get('centAmount', 0)) / 100,\n",
    "        'title': item.get('displayName', {}).get('en').replace('\\\\u', ''),\n",
    "        'image_url': item['image']\n",
    "    }\n",
    "\n",
    "\n",
    "full_metadata = ParsePipeline(WEBSITE_NAME, highsnobiety_parser).parse(\n",
    "    'localizedPages.en:category/footwear/sneakers AND outOfStockForLongTime:false',\n",
    "    2,\n",
    "    100\n",
    ")\n"
   ]
  },
  {
   "cell_type": "code",
   "execution_count": 25,
   "id": "f70206aa-a9db-4f76-b1cf-492b1a09048e",
   "metadata": {
    "ExecuteTime": {
     "end_time": "2023-10-18T19:34:19.397732Z",
     "start_time": "2023-10-18T19:34:19.366189Z"
    }
   },
   "outputs": [
    {
     "data": {
      "text/plain": "(100, 6)"
     },
     "execution_count": 25,
     "metadata": {},
     "output_type": "execute_result"
    }
   ],
   "source": [
    "df = pd.DataFrame(full_metadata)\n",
    "df.to_csv(f\"{WEBSITE_NAME}/metadata.csv\", index=False)\n",
    "df.shape\n"
   ]
  },
  {
   "cell_type": "code",
   "execution_count": 26,
   "id": "771878c3-a086-4000-9b84-027dde5e1414",
   "metadata": {
    "ExecuteTime": {
     "end_time": "2023-10-18T19:34:19.399712Z",
     "start_time": "2023-10-18T19:34:19.383884Z"
    }
   },
   "outputs": [
    {
     "data": {
      "text/plain": "                                                 url     brand priceCurrency   \n0  https://www.highsnobiety.com/en-us/shop/produc...   Salomon           USD  \\\n1  https://www.highsnobiety.com/en-us/shop/produc...   Salomon           USD   \n2  https://www.highsnobiety.com/en-us/shop/produc...    Adidas           USD   \n3  https://www.highsnobiety.com/en-us/shop/produc...  Converse           USD   \n4  https://www.highsnobiety.com/en-us/shop/produc...   Saucony           USD   \n\n   price                                            title   \n0  205.0  Salomon – XT-QUEST 2 Falcon/Cement/Bright Green  \\\n1  215.0    Salomon – ACS PRO Pewter/Monument/Aegean Blue   \n2  130.0                  Adidas – Gazelle Core Black/Gum   \n3  110.0        Converse – One Star Pro Berlin Black/Pink   \n4  195.0         Saucony – ProGrid Triumph 4 Green/Silver   \n\n                                          image_path  \n0  highsnobiety/photos/Salomon/salomon-xt-quest-2...  \n1  highsnobiety/photos/Salomon/salomon-acs-pro-pe...  \n2  highsnobiety/photos/Adidas/adidas-gazelle-core...  \n3  highsnobiety/photos/Converse/converse-one-star...  \n4  highsnobiety/photos/Saucony/saucony-progrid-tr...  ",
      "text/html": "<div>\n<style scoped>\n    .dataframe tbody tr th:only-of-type {\n        vertical-align: middle;\n    }\n\n    .dataframe tbody tr th {\n        vertical-align: top;\n    }\n\n    .dataframe thead th {\n        text-align: right;\n    }\n</style>\n<table border=\"1\" class=\"dataframe\">\n  <thead>\n    <tr style=\"text-align: right;\">\n      <th></th>\n      <th>url</th>\n      <th>brand</th>\n      <th>priceCurrency</th>\n      <th>price</th>\n      <th>title</th>\n      <th>image_path</th>\n    </tr>\n  </thead>\n  <tbody>\n    <tr>\n      <th>0</th>\n      <td>https://www.highsnobiety.com/en-us/shop/produc...</td>\n      <td>Salomon</td>\n      <td>USD</td>\n      <td>205.0</td>\n      <td>Salomon – XT-QUEST 2 Falcon/Cement/Bright Green</td>\n      <td>highsnobiety/photos/Salomon/salomon-xt-quest-2...</td>\n    </tr>\n    <tr>\n      <th>1</th>\n      <td>https://www.highsnobiety.com/en-us/shop/produc...</td>\n      <td>Salomon</td>\n      <td>USD</td>\n      <td>215.0</td>\n      <td>Salomon – ACS PRO Pewter/Monument/Aegean Blue</td>\n      <td>highsnobiety/photos/Salomon/salomon-acs-pro-pe...</td>\n    </tr>\n    <tr>\n      <th>2</th>\n      <td>https://www.highsnobiety.com/en-us/shop/produc...</td>\n      <td>Adidas</td>\n      <td>USD</td>\n      <td>130.0</td>\n      <td>Adidas – Gazelle Core Black/Gum</td>\n      <td>highsnobiety/photos/Adidas/adidas-gazelle-core...</td>\n    </tr>\n    <tr>\n      <th>3</th>\n      <td>https://www.highsnobiety.com/en-us/shop/produc...</td>\n      <td>Converse</td>\n      <td>USD</td>\n      <td>110.0</td>\n      <td>Converse – One Star Pro Berlin Black/Pink</td>\n      <td>highsnobiety/photos/Converse/converse-one-star...</td>\n    </tr>\n    <tr>\n      <th>4</th>\n      <td>https://www.highsnobiety.com/en-us/shop/produc...</td>\n      <td>Saucony</td>\n      <td>USD</td>\n      <td>195.0</td>\n      <td>Saucony – ProGrid Triumph 4 Green/Silver</td>\n      <td>highsnobiety/photos/Saucony/saucony-progrid-tr...</td>\n    </tr>\n  </tbody>\n</table>\n</div>"
     },
     "execution_count": 26,
     "metadata": {},
     "output_type": "execute_result"
    }
   ],
   "source": [
    "df.head()"
   ]
  },
  {
   "cell_type": "code",
   "execution_count": null,
   "outputs": [],
   "source": [],
   "metadata": {
    "collapsed": false
   },
   "id": "9a15d0b8351f2538"
  }
 ],
 "metadata": {
  "kernelspec": {
   "display_name": "Python 3 (ipykernel)",
   "language": "python",
   "name": "python3"
  },
  "language_info": {
   "codemirror_mode": {
    "name": "ipython",
    "version": 3
   },
   "file_extension": ".py",
   "mimetype": "text/x-python",
   "name": "python",
   "nbconvert_exporter": "python",
   "pygments_lexer": "ipython3",
   "version": "3.11.5"
  }
 },
 "nbformat": 4,
 "nbformat_minor": 5
}
