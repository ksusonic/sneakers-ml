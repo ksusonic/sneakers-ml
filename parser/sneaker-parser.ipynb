{
 "cells": [
  {
   "cell_type": "markdown",
   "source": [
    "# Создание датасета"
   ],
   "metadata": {
    "collapsed": false
   },
   "id": "16763b8d1ead585b"
  },
  {
   "cell_type": "markdown",
   "source": [
    "Будем использовать данные следующих сайтов:\n",
    "\n",
    "- https://street-beat.ru\n",
    "- https://superstep.ru\n",
    "- https://sport-marafon.ru/catalog/krossovki/\n"
   ],
   "metadata": {
    "collapsed": false
   },
   "id": "c1a1647fd8f65adf"
  },
  {
   "cell_type": "markdown",
   "source": [
    "Street beat:\n",
    "\n",
    "- Получить конкретные данные по товару можно через апи: \n",
    "https://street-beat.ru/restapi/v1/product/4314808 + дополнительно можно получить похожие товары, добавив постфикс /recommended: https://street-beat.ru/restapi/v1/product/4314808/recommended"
   ],
   "metadata": {
    "collapsed": false
   },
   "id": "fe72521f90746f36"
  },
  {
   "cell_type": "code",
   "execution_count": 1,
   "outputs": [
    {
     "name": "stdout",
     "output_type": "stream",
     "text": [
      "Requirement already satisfied: bs4 in /Users/dandex/Library/Python/3.11/lib/python/site-packages (0.0.1)\r\n",
      "Requirement already satisfied: beautifulsoup4 in /usr/local/lib/python3.11/site-packages (from bs4) (4.12.2)\r\n",
      "Requirement already satisfied: soupsieve>1.2 in /usr/local/lib/python3.11/site-packages (from beautifulsoup4->bs4) (2.4.1)\r\n"
     ]
    }
   ],
   "source": [
    "!pip install bs4"
   ],
   "metadata": {
    "collapsed": false,
    "ExecuteTime": {
     "end_time": "2023-10-05T22:37:55.798588Z",
     "start_time": "2023-10-05T22:37:50.647690Z"
    }
   },
   "id": "76439f25ddcdbe65"
  },
  {
   "cell_type": "code",
   "execution_count": null,
   "outputs": [],
   "source": [
    "# TODO parse"
   ],
   "metadata": {
    "collapsed": false
   },
   "id": "ef2eddafcfd289a7"
  }
 ],
 "metadata": {
  "kernelspec": {
   "display_name": "Python 3",
   "language": "python",
   "name": "python3"
  },
  "language_info": {
   "codemirror_mode": {
    "name": "ipython",
    "version": 2
   },
   "file_extension": ".py",
   "mimetype": "text/x-python",
   "name": "python",
   "nbconvert_exporter": "python",
   "pygments_lexer": "ipython2",
   "version": "2.7.6"
  }
 },
 "nbformat": 4,
 "nbformat_minor": 5
}
