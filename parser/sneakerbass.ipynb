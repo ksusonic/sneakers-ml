{
 "cells": [
  {
   "cell_type": "code",
   "execution_count": 3,
   "metadata": {},
   "outputs": [],
   "source": [
    "from bs4 import BeautifulSoup\n",
    "import requests\n",
    "from fake_useragent import UserAgent\n",
    "from urllib.parse import urlparse, urlunparse, urlsplit\n",
    "import re\n",
    "import os\n",
    "from tqdm.auto import tqdm, trange\n",
    "import pandas as pd\n",
    "\n",
    "HEADERS = {\"User-Agent\": UserAgent().random}\n",
    "\n",
    "WEBSITE_NAME = \"sneakerbaas\"\n",
    "\n",
    "\n",
    "def get_home_url(url):\n",
    "    parsed_url = urlsplit(url)\n",
    "    home_url = f\"{parsed_url.scheme}://{parsed_url.netloc}\"\n",
    "    return home_url\n",
    "\n",
    "\n",
    "def remove_query_from_url(url):\n",
    "    parsed_url = urlparse(url)\n",
    "    parsed_url = parsed_url._replace(query=\"\")\n",
    "    modified_url = urlunparse(parsed_url)\n",
    "    return modified_url\n",
    "\n",
    "\n",
    "def add_https_to_url(url):\n",
    "    if not url.startswith(\"http://\") and not url.startswith(\"https://\"):\n",
    "        corrected_url = \"https://\" + url\n",
    "    else:\n",
    "        corrected_url = url\n",
    "    return corrected_url\n",
    "\n",
    "\n",
    "def get_image_extension(url):\n",
    "    parsed_url = urlparse(add_https_to_url(url))\n",
    "    return \".\" + parsed_url.path.split(\"/\")[-1].split(\".\")[1]"
   ]
  },
  {
   "cell_type": "code",
   "execution_count": 2,
   "metadata": {},
   "outputs": [],
   "source": [
    "url = \"https://www.sneakerbaas.com/collections/men\"\n",
    "# url = \"https://www.sneakerbaas.com/collections/sneakers\""
   ]
  },
  {
   "cell_type": "code",
   "execution_count": 4,
   "metadata": {},
   "outputs": [],
   "source": [
    "def get_collection_info(url):\n",
    "    r = requests.get(url, headers=HEADERS)\n",
    "    soup = BeautifulSoup(r.text, \"html.parser\")\n",
    "    products_string = soup.find_all(class_=re.compile(\"collection-size\"))[\n",
    "        0\n",
    "    ].text.strip()\n",
    "    products_number = int(re.search(r\"\\d+\", products_string).group())\n",
    "    number_of_pages = int(\n",
    "        soup.find_all(class_=re.compile(\"(?<!\\S)pagination(?!\\S)\"))[0]\n",
    "        .find_all(\"span\")[-2]\n",
    "        .a.text\n",
    "    )\n",
    "    return {\"products_number\": products_number, \"number_of_pages\": number_of_pages}"
   ]
  },
  {
   "cell_type": "code",
   "execution_count": 4,
   "metadata": {},
   "outputs": [
    {
     "data": {
      "text/plain": [
       "{'products_number': 399, 'number_of_pages': 10}"
      ]
     },
     "execution_count": 4,
     "metadata": {},
     "output_type": "execute_result"
    }
   ],
   "source": [
    "get_collection_info(url)"
   ]
  },
  {
   "cell_type": "code",
   "execution_count": 5,
   "metadata": {},
   "outputs": [],
   "source": [
    "def get_sneakers_info(url):\n",
    "    r = requests.get(url, headers=HEADERS)\n",
    "    soup = BeautifulSoup(r.text, \"html.parser\")\n",
    "    home_url = get_home_url(url)\n",
    "    sneakers_urls = set(\n",
    "        [\n",
    "            home_url + item[\"href\"]\n",
    "            for item in soup.find_all(href=re.compile(\"/collections/men/products\"))\n",
    "        ]\n",
    "    )\n",
    "    return {\"sneakers_urls\": sneakers_urls, \"number_of_urls\": len(sneakers_urls)}\n"
   ]
  },
  {
   "cell_type": "code",
   "execution_count": 6,
   "metadata": {},
   "outputs": [],
   "source": [
    "def get_metadata_photos(url):\n",
    "    r = requests.get(url, headers=HEADERS)\n",
    "    soup = BeautifulSoup(r.text, \"html.parser\")\n",
    "\n",
    "    # metadata\n",
    "    metadata_keys = [\"brand\", \"description\", \"priceCurrency\", \"price\"]\n",
    "    meta_html = soup.find_all(name=\"div\", class_=\"page-row-content\")[0].div.find_all(\n",
    "        name=\"meta\"\n",
    "    )\n",
    "    metadata = {\"url\": url}\n",
    "    for meta in meta_html:\n",
    "        if meta.has_attr(\"itemprop\"):\n",
    "            if meta[\"itemprop\"] in metadata_keys:\n",
    "                metadata[meta[\"itemprop\"]] = meta[\"content\"].replace(\"\\xa0\", \" \")\n",
    "\n",
    "    # default_fields = [\"Description\", \"Colors\", \"Stijlcode\"]\n",
    "    # for i, item in enumerate(metadata[\"description\"].split(\"- \")[1:]):\n",
    "    #     metadata[default_fields[i]] = item\n",
    "    # metadata.pop(\"description\")\n",
    "\n",
    "    # title\n",
    "    metadata[\"title\"] = (\n",
    "        soup.find(name=\"main\", id=\"MainContent\").find_all(name=\"span\")[2].text\n",
    "    )\n",
    "\n",
    "    # images\n",
    "    for i, product_image in enumerate(\n",
    "        soup.find_all(name=\"div\", class_=\"swiper-slide product-image\")\n",
    "    ):\n",
    "        image_url = add_https_to_url(\n",
    "            remove_query_from_url(\n",
    "                product_image.find(\"a\", {\"data-fancybox\": \"productGallery\"})[\"href\"][2:]\n",
    "            )\n",
    "        )\n",
    "        img_binary = requests.get(image_url).content\n",
    "        os.makedirs(\n",
    "            os.path.join(\n",
    "                \"parser\", WEBSITE_NAME, \"photos\", metadata[\"brand\"], metadata[\"title\"]\n",
    "            ),\n",
    "            exist_ok=True,\n",
    "        )\n",
    "        with open(\n",
    "            os.path.join(\n",
    "                \"parser\",\n",
    "                WEBSITE_NAME,\n",
    "                \"photos\",\n",
    "                metadata[\"brand\"],\n",
    "                metadata[\"title\"],\n",
    "                str(i) + get_image_extension(image_url),\n",
    "            ),\n",
    "            \"wb\",\n",
    "        ) as f:\n",
    "            f.write(img_binary)\n",
    "\n",
    "    metadata[\"photos_path\"] = os.path.join(\"parser\", WEBSITE_NAME, metadata[\"title\"])\n",
    "\n",
    "    return metadata"
   ]
  },
  {
   "cell_type": "code",
   "execution_count": 7,
   "metadata": {},
   "outputs": [
    {
     "name": "stdout",
     "output_type": "stream",
     "text": [
      "44 кроссовок на странице\n"
     ]
    }
   ],
   "source": [
    "page_url = f\"https://www.sneakerbaas.com/collections/men?page={2}\"\n",
    "temp = get_sneakers_info(page_url)\n",
    "sneakers_urls = temp[\"sneakers_urls\"]\n",
    "number_of_urls = temp[\"number_of_urls\"]\n",
    "print(f\"{number_of_urls} кроссовок на странице\")\n"
   ]
  },
  {
   "cell_type": "code",
   "execution_count": null,
   "metadata": {},
   "outputs": [],
   "source": [
    "full_metadata = []\n",
    "for sneakers_url in sneakers_urls:\n",
    "    metadata = get_metadata_photos(sneakers_url)\n",
    "    full_metadata.append(metadata)"
   ]
  },
  {
   "cell_type": "code",
   "execution_count": null,
   "metadata": {},
   "outputs": [],
   "source": [
    "import pandas as pd\n",
    "\n",
    "\n",
    "df = pd.DataFrame(full_metadata)\n",
    "df\n"
   ]
  },
  {
   "cell_type": "code",
   "execution_count": 21,
   "metadata": {},
   "outputs": [],
   "source": [
    "df.to_csv(\"parser/sneakerbaas/metadata.csv\", index=False)\n"
   ]
  },
  {
   "cell_type": "code",
   "execution_count": 7,
   "metadata": {},
   "outputs": [],
   "source": [
    "def parse_sneakerbaas(collection_url):\n",
    "    metadata_collector = []\n",
    "    collection_info = get_collection_info(collection_url)\n",
    "    print(\"collection:\", collection_info)\n",
    "    for page in trange(1, collection_info[\"number_of_pages\"] + 1):\n",
    "        page_url = f\"https://www.sneakerbaas.com/collections/men?page={page}\"\n",
    "        sneakers_info = get_sneakers_info(page_url)\n",
    "        # print(f\"Number of sneakers on page {page}:\", sneakers_info[\"number_of_urls\"])\n",
    "        for sneakers_url in tqdm(sneakers_info[\"sneakers_urls\"]):\n",
    "            metadata = get_metadata_photos(sneakers_url)\n",
    "            metadata_collector.append(metadata)\n",
    "\n",
    "    print(\n",
    "        f\"Collected {len(metadata_collector)} sneakers out of {collection_info['products_number']}\"\n",
    "    )\n",
    "    df = pd.DataFrame(metadata_collector)\n",
    "    df.to_csv(\"parser/sneakerbaas/metadata.csv\", index=False)"
   ]
  },
  {
   "cell_type": "code",
   "execution_count": 8,
   "metadata": {},
   "outputs": [
    {
     "name": "stdout",
     "output_type": "stream",
     "text": [
      "collection: {'products_number': 399, 'number_of_pages': 10}\n"
     ]
    },
    {
     "data": {
      "application/vnd.jupyter.widget-view+json": {
       "model_id": "69f8c83ebee847939a9de13d0cf7bb21",
       "version_major": 2,
       "version_minor": 0
      },
      "text/plain": [
       "  0%|          | 0/10 [00:00<?, ?it/s]"
      ]
     },
     "metadata": {},
     "output_type": "display_data"
    },
    {
     "name": "stdout",
     "output_type": "stream",
     "text": [
      "Number of sneakers on page: 44\n"
     ]
    },
    {
     "data": {
      "application/vnd.jupyter.widget-view+json": {
       "model_id": "b2fcd1d56c294745ab9edfeb74dae9af",
       "version_major": 2,
       "version_minor": 0
      },
      "text/plain": [
       "  0%|          | 0/44 [00:00<?, ?it/s]"
      ]
     },
     "metadata": {},
     "output_type": "display_data"
    },
    {
     "name": "stdout",
     "output_type": "stream",
     "text": [
      "Number of sneakers on page: 44\n"
     ]
    },
    {
     "data": {
      "application/vnd.jupyter.widget-view+json": {
       "model_id": "c694459121e4466686b4f9a3ad658869",
       "version_major": 2,
       "version_minor": 0
      },
      "text/plain": [
       "  0%|          | 0/44 [00:00<?, ?it/s]"
      ]
     },
     "metadata": {},
     "output_type": "display_data"
    },
    {
     "name": "stdout",
     "output_type": "stream",
     "text": [
      "Number of sneakers on page: 44\n"
     ]
    },
    {
     "data": {
      "application/vnd.jupyter.widget-view+json": {
       "model_id": "fa6a7084d8e742bdb5f0a4583a620861",
       "version_major": 2,
       "version_minor": 0
      },
      "text/plain": [
       "  0%|          | 0/44 [00:00<?, ?it/s]"
      ]
     },
     "metadata": {},
     "output_type": "display_data"
    },
    {
     "ename": "IndexError",
     "evalue": "list index out of range",
     "output_type": "error",
     "traceback": [
      "\u001b[0;31m---------------------------------------------------------------------------\u001b[0m",
      "\u001b[0;31mIndexError\u001b[0m                                Traceback (most recent call last)",
      "\u001b[1;32m/home/seara/Desktop/Github/sneakers-ml/parser/sneakerbass.ipynb Cell 12\u001b[0m line \u001b[0;36m1\n\u001b[0;32m----> <a href='vscode-notebook-cell:/home/seara/Desktop/Github/sneakers-ml/parser/sneakerbass.ipynb#X15sZmlsZQ%3D%3D?line=0'>1</a>\u001b[0m parse_sneakerbaas(\u001b[39m\"\u001b[39;49m\u001b[39mhttps://www.sneakerbaas.com/collections/men\u001b[39;49m\u001b[39m\"\u001b[39;49m)\n",
      "\u001b[1;32m/home/seara/Desktop/Github/sneakers-ml/parser/sneakerbass.ipynb Cell 12\u001b[0m line \u001b[0;36m1\n\u001b[1;32m      <a href='vscode-notebook-cell:/home/seara/Desktop/Github/sneakers-ml/parser/sneakerbass.ipynb#X15sZmlsZQ%3D%3D?line=7'>8</a>\u001b[0m     \u001b[39mprint\u001b[39m(\u001b[39m\"\u001b[39m\u001b[39mNumber of sneakers on page:\u001b[39m\u001b[39m\"\u001b[39m, sneakers_info[\u001b[39m\"\u001b[39m\u001b[39mnumber_of_urls\u001b[39m\u001b[39m\"\u001b[39m])\n\u001b[1;32m      <a href='vscode-notebook-cell:/home/seara/Desktop/Github/sneakers-ml/parser/sneakerbass.ipynb#X15sZmlsZQ%3D%3D?line=8'>9</a>\u001b[0m     \u001b[39mfor\u001b[39;00m sneakers_url \u001b[39min\u001b[39;00m tqdm(sneakers_info[\u001b[39m\"\u001b[39m\u001b[39msneakers_urls\u001b[39m\u001b[39m\"\u001b[39m]):\n\u001b[0;32m---> <a href='vscode-notebook-cell:/home/seara/Desktop/Github/sneakers-ml/parser/sneakerbass.ipynb#X15sZmlsZQ%3D%3D?line=9'>10</a>\u001b[0m         metadata \u001b[39m=\u001b[39m get_metadata_photos(sneakers_url)\n\u001b[1;32m     <a href='vscode-notebook-cell:/home/seara/Desktop/Github/sneakers-ml/parser/sneakerbass.ipynb#X15sZmlsZQ%3D%3D?line=10'>11</a>\u001b[0m         metadata_collector\u001b[39m.\u001b[39mappend(metadata)\n\u001b[1;32m     <a href='vscode-notebook-cell:/home/seara/Desktop/Github/sneakers-ml/parser/sneakerbass.ipynb#X15sZmlsZQ%3D%3D?line=12'>13</a>\u001b[0m \u001b[39mprint\u001b[39m(\n\u001b[1;32m     <a href='vscode-notebook-cell:/home/seara/Desktop/Github/sneakers-ml/parser/sneakerbass.ipynb#X15sZmlsZQ%3D%3D?line=13'>14</a>\u001b[0m     \u001b[39mf\u001b[39m\u001b[39m\"\u001b[39m\u001b[39mCollected \u001b[39m\u001b[39m{\u001b[39;00m\u001b[39mlen\u001b[39m(metadata_collector)\u001b[39m}\u001b[39;00m\u001b[39m sneakers out of \u001b[39m\u001b[39m{\u001b[39;00mcollection_info[\u001b[39m'\u001b[39m\u001b[39mproducts_number\u001b[39m\u001b[39m'\u001b[39m]\u001b[39m}\u001b[39;00m\u001b[39m\"\u001b[39m\n\u001b[1;32m     <a href='vscode-notebook-cell:/home/seara/Desktop/Github/sneakers-ml/parser/sneakerbass.ipynb#X15sZmlsZQ%3D%3D?line=14'>15</a>\u001b[0m )\n",
      "\u001b[1;32m/home/seara/Desktop/Github/sneakers-ml/parser/sneakerbass.ipynb Cell 12\u001b[0m line \u001b[0;36m1\n\u001b[1;32m     <a href='vscode-notebook-cell:/home/seara/Desktop/Github/sneakers-ml/parser/sneakerbass.ipynb#X15sZmlsZQ%3D%3D?line=15'>16</a>\u001b[0m default_fields \u001b[39m=\u001b[39m [\u001b[39m\"\u001b[39m\u001b[39mDescription\u001b[39m\u001b[39m\"\u001b[39m, \u001b[39m\"\u001b[39m\u001b[39mColors\u001b[39m\u001b[39m\"\u001b[39m, \u001b[39m\"\u001b[39m\u001b[39mStijlcode\u001b[39m\u001b[39m\"\u001b[39m]\n\u001b[1;32m     <a href='vscode-notebook-cell:/home/seara/Desktop/Github/sneakers-ml/parser/sneakerbass.ipynb#X15sZmlsZQ%3D%3D?line=16'>17</a>\u001b[0m \u001b[39mfor\u001b[39;00m i, item \u001b[39min\u001b[39;00m \u001b[39menumerate\u001b[39m(metadata[\u001b[39m\"\u001b[39m\u001b[39mdescription\u001b[39m\u001b[39m\"\u001b[39m]\u001b[39m.\u001b[39msplit(\u001b[39m\"\u001b[39m\u001b[39m- \u001b[39m\u001b[39m\"\u001b[39m)[\u001b[39m1\u001b[39m:]):\n\u001b[0;32m---> <a href='vscode-notebook-cell:/home/seara/Desktop/Github/sneakers-ml/parser/sneakerbass.ipynb#X15sZmlsZQ%3D%3D?line=17'>18</a>\u001b[0m     metadata[default_fields[i]] \u001b[39m=\u001b[39m item\n\u001b[1;32m     <a href='vscode-notebook-cell:/home/seara/Desktop/Github/sneakers-ml/parser/sneakerbass.ipynb#X15sZmlsZQ%3D%3D?line=18'>19</a>\u001b[0m metadata\u001b[39m.\u001b[39mpop(\u001b[39m\"\u001b[39m\u001b[39mdescription\u001b[39m\u001b[39m\"\u001b[39m)\n\u001b[1;32m     <a href='vscode-notebook-cell:/home/seara/Desktop/Github/sneakers-ml/parser/sneakerbass.ipynb#X15sZmlsZQ%3D%3D?line=20'>21</a>\u001b[0m \u001b[39m# title\u001b[39;00m\n",
      "\u001b[0;31mIndexError\u001b[0m: list index out of range"
     ]
    }
   ],
   "source": [
    "parse_sneakerbaas(\"https://www.sneakerbaas.com/collections/men\")"
   ]
  },
  {
   "cell_type": "code",
   "execution_count": null,
   "metadata": {},
   "outputs": [],
   "source": []
  }
 ],
 "metadata": {
  "kernelspec": {
   "display_name": "DS",
   "language": "python",
   "name": "python3"
  },
  "language_info": {
   "codemirror_mode": {
    "name": "ipython",
    "version": 3
   },
   "file_extension": ".py",
   "mimetype": "text/x-python",
   "name": "python",
   "nbconvert_exporter": "python",
   "pygments_lexer": "ipython3",
   "version": "3.9.16"
  }
 },
 "nbformat": 4,
 "nbformat_minor": 2
}
